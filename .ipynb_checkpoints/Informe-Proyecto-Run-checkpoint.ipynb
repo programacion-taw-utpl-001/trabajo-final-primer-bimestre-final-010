{
 "cells": [
  {
   "cell_type": "markdown",
   "metadata": {},
   "source": [
    "# PROYECTO DE VISUALIZACION DE DATOS "
   ]
  },
  {
   "cell_type": "markdown",
   "metadata": {},
   "source": [
    "## SET DE DATOS\n",
    "----\n",
    "**Los datos que trabajaremos son del sitio web Ecuador en cifras, sobre la pobreza en ciudades como Quito, Guayaquil, y otras del Ecuador**"
   ]
  },
  {
   "cell_type": "markdown",
   "metadata": {},
   "source": [
    "Para poder cargar nuestro set de datos necesitamos importar la librería de `pandas`"
   ]
  },
  {
   "cell_type": "code",
   "execution_count": 1,
   "metadata": {},
   "outputs": [],
   "source": [
    "import pandas as pd"
   ]
  },
  {
   "cell_type": "markdown",
   "metadata": {},
   "source": [
    "Nuestro conjunto de datos está en formato `.csv`, por lo que usaremos `read_csv` de pandas."
   ]
  },
  {
   "cell_type": "code",
   "execution_count": 2,
   "metadata": {},
   "outputs": [],
   "source": [
    "# guardamos nuestra tabla en una variable data, después de haber sido leída por pandas\n",
    "raw_data = pd.read_csv(\n",
    "    './assets/datosPobreza.csv', # dirección donde esta nuestra data\n",
    "    sep=';', # separador de datos para ser leídos por pandas\n",
    "    decimal=\",\" # el separador, o sino nuestros números serán tratados como strings si contienen \"comas\"\n",
    ")"
   ]
  },
  {
   "cell_type": "markdown",
   "metadata": {},
   "source": [
    "`read_csv` devuelve un `DataFrame`, una estructura tabular de datos proporcionada por pandas. Un `DataFrame` está dotado de varios atributos y métodos útiles para explorar los datos."
   ]
  },
  {
   "cell_type": "markdown",
   "metadata": {},
   "source": [
    "Con la función `head()` sobre nuestro `DataFrame` podemos mostrar los primeras filas de nuestra data, para no presentar todas las filas. "
   ]
  },
  {
   "cell_type": "code",
   "execution_count": 3,
   "metadata": {},
   "outputs": [
    {
     "data": {
      "text/html": [
       "<div>\n",
       "<style scoped>\n",
       "    .dataframe tbody tr th:only-of-type {\n",
       "        vertical-align: middle;\n",
       "    }\n",
       "\n",
       "    .dataframe tbody tr th {\n",
       "        vertical-align: top;\n",
       "    }\n",
       "\n",
       "    .dataframe thead th {\n",
       "        text-align: right;\n",
       "    }\n",
       "</style>\n",
       "<table border=\"1\" class=\"dataframe\">\n",
       "  <thead>\n",
       "    <tr style=\"text-align: right;\">\n",
       "      <th></th>\n",
       "      <th>Período</th>\n",
       "      <th>Anios</th>\n",
       "      <th>Quito</th>\n",
       "      <th>Quito.1</th>\n",
       "      <th>Quito.2</th>\n",
       "      <th>Guayaquil</th>\n",
       "      <th>Guayaquil.1</th>\n",
       "      <th>Guayaquil.2</th>\n",
       "      <th>Cuenca</th>\n",
       "      <th>Cuenca.1</th>\n",
       "      <th>Cuenca.2</th>\n",
       "      <th>Machala</th>\n",
       "      <th>Machala.1</th>\n",
       "      <th>Machala.2</th>\n",
       "      <th>Ambato</th>\n",
       "      <th>Ambato.1</th>\n",
       "      <th>Ambato.2</th>\n",
       "    </tr>\n",
       "  </thead>\n",
       "  <tbody>\n",
       "    <tr>\n",
       "      <th>0</th>\n",
       "      <td>NaN</td>\n",
       "      <td>NaN</td>\n",
       "      <td>NaN</td>\n",
       "      <td>NaN</td>\n",
       "      <td>NaN</td>\n",
       "      <td>NaN</td>\n",
       "      <td>NaN</td>\n",
       "      <td>NaN</td>\n",
       "      <td>NaN</td>\n",
       "      <td>NaN</td>\n",
       "      <td>NaN</td>\n",
       "      <td>NaN</td>\n",
       "      <td>NaN</td>\n",
       "      <td>NaN</td>\n",
       "      <td>NaN</td>\n",
       "      <td>NaN</td>\n",
       "      <td>NaN</td>\n",
       "    </tr>\n",
       "    <tr>\n",
       "      <th>1</th>\n",
       "      <td>Marzo</td>\n",
       "      <td>2008.0</td>\n",
       "      <td>10.45</td>\n",
       "      <td>3.32</td>\n",
       "      <td>1.76</td>\n",
       "      <td>22.06</td>\n",
       "      <td>6.38</td>\n",
       "      <td>2.87</td>\n",
       "      <td>11.68</td>\n",
       "      <td>3.74</td>\n",
       "      <td>1.88</td>\n",
       "      <td>20.76</td>\n",
       "      <td>6.43</td>\n",
       "      <td>2.82</td>\n",
       "      <td>21.20</td>\n",
       "      <td>6.38</td>\n",
       "      <td>3.11</td>\n",
       "    </tr>\n",
       "    <tr>\n",
       "      <th>2</th>\n",
       "      <td>Marzo</td>\n",
       "      <td>2009.0</td>\n",
       "      <td>11.16</td>\n",
       "      <td>3.71</td>\n",
       "      <td>1.97</td>\n",
       "      <td>24.28</td>\n",
       "      <td>7.50</td>\n",
       "      <td>3.26</td>\n",
       "      <td>10.91</td>\n",
       "      <td>3.31</td>\n",
       "      <td>1.51</td>\n",
       "      <td>20.76</td>\n",
       "      <td>6.32</td>\n",
       "      <td>2.94</td>\n",
       "      <td>17.55</td>\n",
       "      <td>5.81</td>\n",
       "      <td>2.99</td>\n",
       "    </tr>\n",
       "    <tr>\n",
       "      <th>3</th>\n",
       "      <td>Marzo</td>\n",
       "      <td>2010.0</td>\n",
       "      <td>13.01</td>\n",
       "      <td>4.34</td>\n",
       "      <td>2.31</td>\n",
       "      <td>20.80</td>\n",
       "      <td>5.82</td>\n",
       "      <td>2.37</td>\n",
       "      <td>13.78</td>\n",
       "      <td>3.80</td>\n",
       "      <td>1.60</td>\n",
       "      <td>15.54</td>\n",
       "      <td>4.20</td>\n",
       "      <td>1.77</td>\n",
       "      <td>11.63</td>\n",
       "      <td>3.47</td>\n",
       "      <td>1.47</td>\n",
       "    </tr>\n",
       "    <tr>\n",
       "      <th>4</th>\n",
       "      <td>Marzo</td>\n",
       "      <td>2011.0</td>\n",
       "      <td>10.33</td>\n",
       "      <td>3.34</td>\n",
       "      <td>1.81</td>\n",
       "      <td>19.21</td>\n",
       "      <td>4.99</td>\n",
       "      <td>1.99</td>\n",
       "      <td>12.39</td>\n",
       "      <td>4.13</td>\n",
       "      <td>2.20</td>\n",
       "      <td>14.76</td>\n",
       "      <td>4.07</td>\n",
       "      <td>1.62</td>\n",
       "      <td>10.58</td>\n",
       "      <td>2.68</td>\n",
       "      <td>1.02</td>\n",
       "    </tr>\n",
       "  </tbody>\n",
       "</table>\n",
       "</div>"
      ],
      "text/plain": [
       "  Período   Anios  Quito  Quito.1  Quito.2  Guayaquil  Guayaquil.1  \\\n",
       "0     NaN     NaN    NaN      NaN      NaN        NaN          NaN   \n",
       "1   Marzo  2008.0  10.45     3.32     1.76      22.06         6.38   \n",
       "2   Marzo  2009.0  11.16     3.71     1.97      24.28         7.50   \n",
       "3   Marzo  2010.0  13.01     4.34     2.31      20.80         5.82   \n",
       "4   Marzo  2011.0  10.33     3.34     1.81      19.21         4.99   \n",
       "\n",
       "   Guayaquil.2  Cuenca  Cuenca.1  Cuenca.2  Machala  Machala.1  Machala.2  \\\n",
       "0          NaN     NaN       NaN       NaN      NaN        NaN        NaN   \n",
       "1         2.87   11.68      3.74      1.88    20.76       6.43       2.82   \n",
       "2         3.26   10.91      3.31      1.51    20.76       6.32       2.94   \n",
       "3         2.37   13.78      3.80      1.60    15.54       4.20       1.77   \n",
       "4         1.99   12.39      4.13      2.20    14.76       4.07       1.62   \n",
       "\n",
       "   Ambato  Ambato.1  Ambato.2  \n",
       "0     NaN       NaN       NaN  \n",
       "1   21.20      6.38      3.11  \n",
       "2   17.55      5.81      2.99  \n",
       "3   11.63      3.47      1.47  \n",
       "4   10.58      2.68      1.02  "
      ]
     },
     "execution_count": 3,
     "metadata": {},
     "output_type": "execute_result"
    }
   ],
   "source": [
    "raw_data.head()"
   ]
  },
  {
   "cell_type": "markdown",
   "metadata": {},
   "source": [
    "Con la función `[1:]` eliminamos la primera fila, ya que no son parte de los datos que usaremos"
   ]
  },
  {
   "cell_type": "code",
   "execution_count": 4,
   "metadata": {},
   "outputs": [],
   "source": [
    "raw_data = raw_data[1:]"
   ]
  },
  {
   "cell_type": "code",
   "execution_count": 5,
   "metadata": {},
   "outputs": [
    {
     "data": {
      "text/plain": [
       "(10, 17)"
      ]
     },
     "execution_count": 5,
     "metadata": {},
     "output_type": "execute_result"
    }
   ],
   "source": [
    "raw_data.shape  # números de campos de nuestra data"
   ]
  },
  {
   "cell_type": "markdown",
   "metadata": {},
   "source": [
    "Un `DataFrame` se compone de dos componentes principales; \n",
    " - Los datos mismos, que se pueden extraer a través del atributo de valores\n",
    " - Conjunto de índices, que son esencialmente etiquetas para las filas y columnas del DataFrame."
   ]
  },
  {
   "cell_type": "code",
   "execution_count": 6,
   "metadata": {},
   "outputs": [
    {
     "data": {
      "text/plain": [
       "RangeIndex(start=1, stop=11, step=1)"
      ]
     },
     "execution_count": 6,
     "metadata": {},
     "output_type": "execute_result"
    }
   ],
   "source": [
    "raw_data.index"
   ]
  },
  {
   "cell_type": "code",
   "execution_count": 7,
   "metadata": {},
   "outputs": [
    {
     "data": {
      "text/plain": [
       "Index(['Período', 'Anios', 'Quito', 'Quito.1', 'Quito.2', 'Guayaquil',\n",
       "       'Guayaquil.1', 'Guayaquil.2', 'Cuenca', 'Cuenca.1', 'Cuenca.2',\n",
       "       'Machala', 'Machala.1', 'Machala.2', 'Ambato', 'Ambato.1', 'Ambato.2'],\n",
       "      dtype='object')"
      ]
     },
     "execution_count": 7,
     "metadata": {},
     "output_type": "execute_result"
    }
   ],
   "source": [
    "raw_data.columns"
   ]
  },
  {
   "cell_type": "markdown",
   "metadata": {},
   "source": [
    "Pero, un `índice` es más que un conjunto de etiquetas. Es importante destacar que asegura la **alineación de datos** cuando se agregan datos o se combinan estructuras de datos.\n",
    "\n",
    "De hecho, podemos especificar un índice más apropiado para nuestros datos. El campo Año aquí es un índice único para los valores de análisis correspondientes.\n",
    "\n",
    "`set_index` nos permite convertir cualquier columna (o matriz externa) que elijamos en el índice de fila."
   ]
  },
  {
   "cell_type": "code",
   "execution_count": 8,
   "metadata": {},
   "outputs": [
    {
     "data": {
      "text/html": [
       "<div>\n",
       "<style scoped>\n",
       "    .dataframe tbody tr th:only-of-type {\n",
       "        vertical-align: middle;\n",
       "    }\n",
       "\n",
       "    .dataframe tbody tr th {\n",
       "        vertical-align: top;\n",
       "    }\n",
       "\n",
       "    .dataframe thead th {\n",
       "        text-align: right;\n",
       "    }\n",
       "</style>\n",
       "<table border=\"1\" class=\"dataframe\">\n",
       "  <thead>\n",
       "    <tr style=\"text-align: right;\">\n",
       "      <th></th>\n",
       "      <th>Período</th>\n",
       "      <th>Quito</th>\n",
       "      <th>Quito.1</th>\n",
       "      <th>Quito.2</th>\n",
       "      <th>Guayaquil</th>\n",
       "      <th>Guayaquil.1</th>\n",
       "      <th>Guayaquil.2</th>\n",
       "      <th>Cuenca</th>\n",
       "      <th>Cuenca.1</th>\n",
       "      <th>Cuenca.2</th>\n",
       "      <th>Machala</th>\n",
       "      <th>Machala.1</th>\n",
       "      <th>Machala.2</th>\n",
       "      <th>Ambato</th>\n",
       "      <th>Ambato.1</th>\n",
       "      <th>Ambato.2</th>\n",
       "    </tr>\n",
       "    <tr>\n",
       "      <th>Anios</th>\n",
       "      <th></th>\n",
       "      <th></th>\n",
       "      <th></th>\n",
       "      <th></th>\n",
       "      <th></th>\n",
       "      <th></th>\n",
       "      <th></th>\n",
       "      <th></th>\n",
       "      <th></th>\n",
       "      <th></th>\n",
       "      <th></th>\n",
       "      <th></th>\n",
       "      <th></th>\n",
       "      <th></th>\n",
       "      <th></th>\n",
       "      <th></th>\n",
       "    </tr>\n",
       "  </thead>\n",
       "  <tbody>\n",
       "    <tr>\n",
       "      <th>2008.0</th>\n",
       "      <td>Marzo</td>\n",
       "      <td>10.45</td>\n",
       "      <td>3.32</td>\n",
       "      <td>1.76</td>\n",
       "      <td>22.06</td>\n",
       "      <td>6.38</td>\n",
       "      <td>2.87</td>\n",
       "      <td>11.68</td>\n",
       "      <td>3.74</td>\n",
       "      <td>1.88</td>\n",
       "      <td>20.76</td>\n",
       "      <td>6.43</td>\n",
       "      <td>2.82</td>\n",
       "      <td>21.20</td>\n",
       "      <td>6.38</td>\n",
       "      <td>3.11</td>\n",
       "    </tr>\n",
       "    <tr>\n",
       "      <th>2009.0</th>\n",
       "      <td>Marzo</td>\n",
       "      <td>11.16</td>\n",
       "      <td>3.71</td>\n",
       "      <td>1.97</td>\n",
       "      <td>24.28</td>\n",
       "      <td>7.50</td>\n",
       "      <td>3.26</td>\n",
       "      <td>10.91</td>\n",
       "      <td>3.31</td>\n",
       "      <td>1.51</td>\n",
       "      <td>20.76</td>\n",
       "      <td>6.32</td>\n",
       "      <td>2.94</td>\n",
       "      <td>17.55</td>\n",
       "      <td>5.81</td>\n",
       "      <td>2.99</td>\n",
       "    </tr>\n",
       "  </tbody>\n",
       "</table>\n",
       "</div>"
      ],
      "text/plain": [
       "       Período  Quito  Quito.1  Quito.2  Guayaquil  Guayaquil.1  Guayaquil.2  \\\n",
       "Anios                                                                          \n",
       "2008.0   Marzo  10.45     3.32     1.76      22.06         6.38         2.87   \n",
       "2009.0   Marzo  11.16     3.71     1.97      24.28         7.50         3.26   \n",
       "\n",
       "        Cuenca  Cuenca.1  Cuenca.2  Machala  Machala.1  Machala.2  Ambato  \\\n",
       "Anios                                                                       \n",
       "2008.0   11.68      3.74      1.88    20.76       6.43       2.82   21.20   \n",
       "2009.0   10.91      3.31      1.51    20.76       6.32       2.94   17.55   \n",
       "\n",
       "        Ambato.1  Ambato.2  \n",
       "Anios                       \n",
       "2008.0      6.38      3.11  \n",
       "2009.0      5.81      2.99  "
      ]
     },
     "execution_count": 8,
     "metadata": {},
     "output_type": "execute_result"
    }
   ],
   "source": [
    "temp = raw_data.set_index('Anios')\n",
    "temp.head(2)"
   ]
  },
  {
   "cell_type": "markdown",
   "metadata": {},
   "source": [
    "## Data\n",
    "Para nuestra tabla agruparemos los datos de Quito para nuestras graficas"
   ]
  },
  {
   "cell_type": "code",
   "execution_count": 9,
   "metadata": {},
   "outputs": [
    {
     "data": {
      "text/html": [
       "<div>\n",
       "<style scoped>\n",
       "    .dataframe tbody tr th:only-of-type {\n",
       "        vertical-align: middle;\n",
       "    }\n",
       "\n",
       "    .dataframe tbody tr th {\n",
       "        vertical-align: top;\n",
       "    }\n",
       "\n",
       "    .dataframe thead th {\n",
       "        text-align: right;\n",
       "    }\n",
       "</style>\n",
       "<table border=\"1\" class=\"dataframe\">\n",
       "  <thead>\n",
       "    <tr style=\"text-align: right;\">\n",
       "      <th></th>\n",
       "      <th>Anios</th>\n",
       "      <th>Quito</th>\n",
       "      <th>Quito.1</th>\n",
       "      <th>Quito.2</th>\n",
       "    </tr>\n",
       "  </thead>\n",
       "  <tbody>\n",
       "    <tr>\n",
       "      <th>1</th>\n",
       "      <td>2008</td>\n",
       "      <td>10.45</td>\n",
       "      <td>3.32</td>\n",
       "      <td>1.76</td>\n",
       "    </tr>\n",
       "  </tbody>\n",
       "</table>\n",
       "</div>"
      ],
      "text/plain": [
       "  Anios  Quito  Quito.1  Quito.2\n",
       "1  2008  10.45     3.32     1.76"
      ]
     },
     "execution_count": 9,
     "metadata": {},
     "output_type": "execute_result"
    }
   ],
   "source": [
    "data = raw_data.drop(['Período', 'Guayaquil', 'Guayaquil.1', 'Guayaquil.2', 'Cuenca', 'Cuenca.1', 'Cuenca.2', 'Machala', 'Machala.1', 'Machala.2', 'Ambato', 'Ambato.1', 'Ambato.2'], axis=1)\n",
    "data['Anios'] = data['Anios'].astype(int).astype(str)\n",
    "data.head(1)"
   ]
  },
  {
   "cell_type": "markdown",
   "metadata": {},
   "source": [
    "Cambiaremos los nombres de las columnas de nuestra data para ver lo que representaremos"
   ]
  },
  {
   "cell_type": "code",
   "execution_count": 10,
   "metadata": {},
   "outputs": [
    {
     "data": {
      "text/html": [
       "<div>\n",
       "<style scoped>\n",
       "    .dataframe tbody tr th:only-of-type {\n",
       "        vertical-align: middle;\n",
       "    }\n",
       "\n",
       "    .dataframe tbody tr th {\n",
       "        vertical-align: top;\n",
       "    }\n",
       "\n",
       "    .dataframe thead th {\n",
       "        text-align: right;\n",
       "    }\n",
       "</style>\n",
       "<table border=\"1\" class=\"dataframe\">\n",
       "  <thead>\n",
       "    <tr style=\"text-align: right;\">\n",
       "      <th></th>\n",
       "      <th>Anios</th>\n",
       "      <th>Incidencia</th>\n",
       "      <th>Brecha</th>\n",
       "      <th>Severidad</th>\n",
       "    </tr>\n",
       "  </thead>\n",
       "  <tbody>\n",
       "    <tr>\n",
       "      <th>1</th>\n",
       "      <td>2008</td>\n",
       "      <td>10.45</td>\n",
       "      <td>3.32</td>\n",
       "      <td>1.76</td>\n",
       "    </tr>\n",
       "  </tbody>\n",
       "</table>\n",
       "</div>"
      ],
      "text/plain": [
       "  Anios  Incidencia  Brecha  Severidad\n",
       "1  2008       10.45    3.32       1.76"
      ]
     },
     "execution_count": 10,
     "metadata": {},
     "output_type": "execute_result"
    }
   ],
   "source": [
    "data.columns = ['Anios', 'Incidencia', 'Brecha', 'Severidad']\n",
    "data.head(1)"
   ]
  },
  {
   "cell_type": "markdown",
   "metadata": {},
   "source": [
    "### ¿Qué es incidencia de la pobreza?\n",
    "Número de personas pobres expresado como porcentaje del total de la población en un determinado año. Se define como \"pobres\" a aquellas personas que pertenecen a hogares cuyo consumo per cápita, en un período determinado, es inferior al valor de la línea de pobreza.\n",
    "### ¿Qué es la brecha de la pobreza?\n",
    "La línea de pobreza es el equivalente monetario del costo de una canasta básica de bienes y servicios. La brecha de la pobreza refleja cuan pobres son los pobres y, por tanto, proporciona una idea de la profundidad de las carencias de ingreso o consumo que definen una situación de pobreza.\n",
    "### ¿Qué es la severidad de la pobreza?\n",
    "P es un promedio (sobre la población total, n) de las distancias que separan a individuos u hogares de la línea de pobreza, ponderado por un exponente. El valor del exponente permite que la misma fórmula dé como resultado la incidencia, brecha y severidad de la pobreza como casos especiales de la medida."
   ]
  },
  {
   "cell_type": "markdown",
   "metadata": {},
   "source": [
    "## MARCO TEORICO \n",
    "----"
   ]
  },
  {
   "cell_type": "markdown",
   "metadata": {},
   "source": [
    "## Python \n",
    "\n",
    "Python es un lenguaje de programación interpretado cuya filosofía hace hincapié en una sintaxis que favorezca un código legible.\n",
    "\n",
    "Se trata de un lenguaje de programación multiparadigma, ya que soporta orientación a objetos, programación imperativa y, en menor medida, programación funcional. Es un lenguaje interpretado, usa tipado dinámico y es multiplataforma.\n",
    "\n",
    "\n",
    "## Pandas\n",
    "\n",
    "Pandas es una biblioteca de código abierto con licencia de BSD que proporciona estructuras de datos y herramientas de análisis de datos de alto rendimiento y fácil de usar para el lenguaje de programación Python.\n",
    "\n",
    "pandas es un proyecto patrocinado por NUMFocus. Esto ayudará a garantizar el éxito del desarrollo de los pandas como un proyecto de código abierto de clase mundial, y hace posible donar para el proyecto.\n",
    "\n",
    "## Bokeh\n",
    "\n",
    "Bokeh es una biblioteca de visualización interactiva de Python que se dirige a navegadores web modernos para su presentación. Su objetivo es proporcionar una construcción elegante y concisa de gráficos novedosos al estilo de D3.js y ampliar esta capacidad con interactividad de alto rendimiento en conjuntos de datos de gran tamaño o de transmisión"
   ]
  },
  {
   "cell_type": "markdown",
   "metadata": {},
   "source": [
    "## PROPUESTAS DE VISUALIZACION\n",
    "---\n",
    "**Para la visualización de datos se utilizo la librería bokeh**\n",
    "Con los datos descritos anterior mente utilizaremos bokeh como una manera grafica de visualizar nuestra tabla.\n",
    "\n",
    " - Usarnos gráficos de líneas para visualizar la diferencia que existe en nuestros datos\n",
    " - Utilizaremos gráficos de barras para visualizar la semejanza de los datos del mismo año\n",
    " - También utilizaremos gráficos de pastel interactivos con los que podremos observar la variación de datos dentro de nuestro rango de años."
   ]
  },
  {
   "cell_type": "markdown",
   "metadata": {},
   "source": [
    "Al usar la interfaz bokeh.plotting, necesitamos importar:\n",
    "\n",
    " - Use la función de `figure` para crear nuevos objetos de trazado para trabajar.\n",
    " - Las funciones `output_file`, `output_notebook` para indicar a Bokeh cómo mostrar el resultado."
   ]
  },
  {
   "cell_type": "code",
   "execution_count": 11,
   "metadata": {},
   "outputs": [],
   "source": [
    "from bokeh.io import show\n",
    "from bokeh.plotting import figure\n",
    "from bokeh.models import ColumnDataSource"
   ]
  },
  {
   "cell_type": "markdown",
   "metadata": {},
   "source": [
    "Importamos `gridplot` - para presentar varias graficas en una"
   ]
  },
  {
   "cell_type": "code",
   "execution_count": 12,
   "metadata": {},
   "outputs": [],
   "source": [
    "from bokeh.layouts import gridplot"
   ]
  },
  {
   "cell_type": "markdown",
   "metadata": {},
   "source": [
    "En este caso, estamos en `jupyter notebook`, así que llamamos a `output_notebook()`. Solo debemos llamar esto una vez para mostrar nuestras graficas en el cuaderno usando la función `show()` de bokeh."
   ]
  },
  {
   "cell_type": "code",
   "execution_count": 13,
   "metadata": {},
   "outputs": [
    {
     "data": {
      "text/html": [
       "\n",
       "    <div class=\"bk-root\">\n",
       "        <a href=\"https://bokeh.pydata.org\" target=\"_blank\" class=\"bk-logo bk-logo-small bk-logo-notebook\"></a>\n",
       "        <span id=\"5ca0edae-cc90-4e8f-b441-ad1728dc057a\">Loading BokehJS ...</span>\n",
       "    </div>"
      ]
     },
     "metadata": {},
     "output_type": "display_data"
    },
    {
     "data": {
      "application/javascript": [
       "\n",
       "(function(root) {\n",
       "  function now() {\n",
       "    return new Date();\n",
       "  }\n",
       "\n",
       "  var force = true;\n",
       "\n",
       "  if (typeof (root._bokeh_onload_callbacks) === \"undefined\" || force === true) {\n",
       "    root._bokeh_onload_callbacks = [];\n",
       "    root._bokeh_is_loading = undefined;\n",
       "  }\n",
       "\n",
       "  var JS_MIME_TYPE = 'application/javascript';\n",
       "  var HTML_MIME_TYPE = 'text/html';\n",
       "  var EXEC_MIME_TYPE = 'application/vnd.bokehjs_exec.v0+json';\n",
       "  var CLASS_NAME = 'output_bokeh rendered_html';\n",
       "\n",
       "  /**\n",
       "   * Render data to the DOM node\n",
       "   */\n",
       "  function render(props, node) {\n",
       "    var script = document.createElement(\"script\");\n",
       "    node.appendChild(script);\n",
       "  }\n",
       "\n",
       "  /**\n",
       "   * Handle when an output is cleared or removed\n",
       "   */\n",
       "  function handleClearOutput(event, handle) {\n",
       "    var cell = handle.cell;\n",
       "\n",
       "    var id = cell.output_area._bokeh_element_id;\n",
       "    var server_id = cell.output_area._bokeh_server_id;\n",
       "    // Clean up Bokeh references\n",
       "    if (id !== undefined) {\n",
       "      Bokeh.index[id].model.document.clear();\n",
       "      delete Bokeh.index[id];\n",
       "    }\n",
       "\n",
       "    if (server_id !== undefined) {\n",
       "      // Clean up Bokeh references\n",
       "      var cmd = \"from bokeh.io.state import curstate; print(curstate().uuid_to_server['\" + server_id + \"'].get_sessions()[0].document.roots[0]._id)\";\n",
       "      cell.notebook.kernel.execute(cmd, {\n",
       "        iopub: {\n",
       "          output: function(msg) {\n",
       "            var element_id = msg.content.text.trim();\n",
       "            Bokeh.index[element_id].model.document.clear();\n",
       "            delete Bokeh.index[element_id];\n",
       "          }\n",
       "        }\n",
       "      });\n",
       "      // Destroy server and session\n",
       "      var cmd = \"import bokeh.io.notebook as ion; ion.destroy_server('\" + server_id + \"')\";\n",
       "      cell.notebook.kernel.execute(cmd);\n",
       "    }\n",
       "  }\n",
       "\n",
       "  /**\n",
       "   * Handle when a new output is added\n",
       "   */\n",
       "  function handleAddOutput(event, handle) {\n",
       "    var output_area = handle.output_area;\n",
       "    var output = handle.output;\n",
       "\n",
       "    // limit handleAddOutput to display_data with EXEC_MIME_TYPE content only\n",
       "    if ((output.output_type != \"display_data\") || (!output.data.hasOwnProperty(EXEC_MIME_TYPE))) {\n",
       "      return\n",
       "    }\n",
       "\n",
       "    var toinsert = output_area.element.find(`.${CLASS_NAME.split(' ')[0]}`);\n",
       "\n",
       "    if (output.metadata[EXEC_MIME_TYPE][\"id\"] !== undefined) {\n",
       "      toinsert[0].firstChild.textContent = output.data[JS_MIME_TYPE];\n",
       "      // store reference to embed id on output_area\n",
       "      output_area._bokeh_element_id = output.metadata[EXEC_MIME_TYPE][\"id\"];\n",
       "    }\n",
       "    if (output.metadata[EXEC_MIME_TYPE][\"server_id\"] !== undefined) {\n",
       "      var bk_div = document.createElement(\"div\");\n",
       "      bk_div.innerHTML = output.data[HTML_MIME_TYPE];\n",
       "      var script_attrs = bk_div.children[0].attributes;\n",
       "      for (var i = 0; i < script_attrs.length; i++) {\n",
       "        toinsert[0].firstChild.setAttribute(script_attrs[i].name, script_attrs[i].value);\n",
       "      }\n",
       "      // store reference to server id on output_area\n",
       "      output_area._bokeh_server_id = output.metadata[EXEC_MIME_TYPE][\"server_id\"];\n",
       "    }\n",
       "  }\n",
       "\n",
       "  function register_renderer(events, OutputArea) {\n",
       "\n",
       "    function append_mime(data, metadata, element) {\n",
       "      // create a DOM node to render to\n",
       "      var toinsert = this.create_output_subarea(\n",
       "        metadata,\n",
       "        CLASS_NAME,\n",
       "        EXEC_MIME_TYPE\n",
       "      );\n",
       "      this.keyboard_manager.register_events(toinsert);\n",
       "      // Render to node\n",
       "      var props = {data: data, metadata: metadata[EXEC_MIME_TYPE]};\n",
       "      render(props, toinsert[0]);\n",
       "      element.append(toinsert);\n",
       "      return toinsert\n",
       "    }\n",
       "\n",
       "    /* Handle when an output is cleared or removed */\n",
       "    events.on('clear_output.CodeCell', handleClearOutput);\n",
       "    events.on('delete.Cell', handleClearOutput);\n",
       "\n",
       "    /* Handle when a new output is added */\n",
       "    events.on('output_added.OutputArea', handleAddOutput);\n",
       "\n",
       "    /**\n",
       "     * Register the mime type and append_mime function with output_area\n",
       "     */\n",
       "    OutputArea.prototype.register_mime_type(EXEC_MIME_TYPE, append_mime, {\n",
       "      /* Is output safe? */\n",
       "      safe: true,\n",
       "      /* Index of renderer in `output_area.display_order` */\n",
       "      index: 0\n",
       "    });\n",
       "  }\n",
       "\n",
       "  // register the mime type if in Jupyter Notebook environment and previously unregistered\n",
       "  if (root.Jupyter !== undefined) {\n",
       "    var events = require('base/js/events');\n",
       "    var OutputArea = require('notebook/js/outputarea').OutputArea;\n",
       "\n",
       "    if (OutputArea.prototype.mime_types().indexOf(EXEC_MIME_TYPE) == -1) {\n",
       "      register_renderer(events, OutputArea);\n",
       "    }\n",
       "  }\n",
       "\n",
       "  \n",
       "  if (typeof (root._bokeh_timeout) === \"undefined\" || force === true) {\n",
       "    root._bokeh_timeout = Date.now() + 5000;\n",
       "    root._bokeh_failed_load = false;\n",
       "  }\n",
       "\n",
       "  var NB_LOAD_WARNING = {'data': {'text/html':\n",
       "     \"<div style='background-color: #fdd'>\\n\"+\n",
       "     \"<p>\\n\"+\n",
       "     \"BokehJS does not appear to have successfully loaded. If loading BokehJS from CDN, this \\n\"+\n",
       "     \"may be due to a slow or bad network connection. Possible fixes:\\n\"+\n",
       "     \"</p>\\n\"+\n",
       "     \"<ul>\\n\"+\n",
       "     \"<li>re-rerun `output_notebook()` to attempt to load from CDN again, or</li>\\n\"+\n",
       "     \"<li>use INLINE resources instead, as so:</li>\\n\"+\n",
       "     \"</ul>\\n\"+\n",
       "     \"<code>\\n\"+\n",
       "     \"from bokeh.resources import INLINE\\n\"+\n",
       "     \"output_notebook(resources=INLINE)\\n\"+\n",
       "     \"</code>\\n\"+\n",
       "     \"</div>\"}};\n",
       "\n",
       "  function display_loaded() {\n",
       "    var el = document.getElementById(\"5ca0edae-cc90-4e8f-b441-ad1728dc057a\");\n",
       "    if (el != null) {\n",
       "      el.textContent = \"BokehJS is loading...\";\n",
       "    }\n",
       "    if (root.Bokeh !== undefined) {\n",
       "      if (el != null) {\n",
       "        el.textContent = \"BokehJS \" + root.Bokeh.version + \" successfully loaded.\";\n",
       "      }\n",
       "    } else if (Date.now() < root._bokeh_timeout) {\n",
       "      setTimeout(display_loaded, 100)\n",
       "    }\n",
       "  }\n",
       "\n",
       "\n",
       "  function run_callbacks() {\n",
       "    try {\n",
       "      root._bokeh_onload_callbacks.forEach(function(callback) { callback() });\n",
       "    }\n",
       "    finally {\n",
       "      delete root._bokeh_onload_callbacks\n",
       "    }\n",
       "    console.info(\"Bokeh: all callbacks have finished\");\n",
       "  }\n",
       "\n",
       "  function load_libs(js_urls, callback) {\n",
       "    root._bokeh_onload_callbacks.push(callback);\n",
       "    if (root._bokeh_is_loading > 0) {\n",
       "      console.log(\"Bokeh: BokehJS is being loaded, scheduling callback at\", now());\n",
       "      return null;\n",
       "    }\n",
       "    if (js_urls == null || js_urls.length === 0) {\n",
       "      run_callbacks();\n",
       "      return null;\n",
       "    }\n",
       "    console.log(\"Bokeh: BokehJS not loaded, scheduling load and callback at\", now());\n",
       "    root._bokeh_is_loading = js_urls.length;\n",
       "    for (var i = 0; i < js_urls.length; i++) {\n",
       "      var url = js_urls[i];\n",
       "      var s = document.createElement('script');\n",
       "      s.src = url;\n",
       "      s.async = false;\n",
       "      s.onreadystatechange = s.onload = function() {\n",
       "        root._bokeh_is_loading--;\n",
       "        if (root._bokeh_is_loading === 0) {\n",
       "          console.log(\"Bokeh: all BokehJS libraries loaded\");\n",
       "          run_callbacks()\n",
       "        }\n",
       "      };\n",
       "      s.onerror = function() {\n",
       "        console.warn(\"failed to load library \" + url);\n",
       "      };\n",
       "      console.log(\"Bokeh: injecting script tag for BokehJS library: \", url);\n",
       "      document.getElementsByTagName(\"head\")[0].appendChild(s);\n",
       "    }\n",
       "  };var element = document.getElementById(\"5ca0edae-cc90-4e8f-b441-ad1728dc057a\");\n",
       "  if (element == null) {\n",
       "    console.log(\"Bokeh: ERROR: autoload.js configured with elementid '5ca0edae-cc90-4e8f-b441-ad1728dc057a' but no matching script tag was found. \")\n",
       "    return false;\n",
       "  }\n",
       "\n",
       "  var js_urls = [\"https://cdn.pydata.org/bokeh/release/bokeh-0.12.10.min.js\", \"https://cdn.pydata.org/bokeh/release/bokeh-widgets-0.12.10.min.js\", \"https://cdn.pydata.org/bokeh/release/bokeh-tables-0.12.10.min.js\", \"https://cdn.pydata.org/bokeh/release/bokeh-gl-0.12.10.min.js\"];\n",
       "\n",
       "  var inline_js = [\n",
       "    function(Bokeh) {\n",
       "      Bokeh.set_log_level(\"info\");\n",
       "    },\n",
       "    \n",
       "    function(Bokeh) {\n",
       "      \n",
       "    },\n",
       "    function(Bokeh) {\n",
       "      console.log(\"Bokeh: injecting CSS: https://cdn.pydata.org/bokeh/release/bokeh-0.12.10.min.css\");\n",
       "      Bokeh.embed.inject_css(\"https://cdn.pydata.org/bokeh/release/bokeh-0.12.10.min.css\");\n",
       "      console.log(\"Bokeh: injecting CSS: https://cdn.pydata.org/bokeh/release/bokeh-widgets-0.12.10.min.css\");\n",
       "      Bokeh.embed.inject_css(\"https://cdn.pydata.org/bokeh/release/bokeh-widgets-0.12.10.min.css\");\n",
       "      console.log(\"Bokeh: injecting CSS: https://cdn.pydata.org/bokeh/release/bokeh-tables-0.12.10.min.css\");\n",
       "      Bokeh.embed.inject_css(\"https://cdn.pydata.org/bokeh/release/bokeh-tables-0.12.10.min.css\");\n",
       "    }\n",
       "  ];\n",
       "\n",
       "  function run_inline_js() {\n",
       "    \n",
       "    if ((root.Bokeh !== undefined) || (force === true)) {\n",
       "      for (var i = 0; i < inline_js.length; i++) {\n",
       "        inline_js[i].call(root, root.Bokeh);\n",
       "      }if (force === true) {\n",
       "        display_loaded();\n",
       "      }} else if (Date.now() < root._bokeh_timeout) {\n",
       "      setTimeout(run_inline_js, 100);\n",
       "    } else if (!root._bokeh_failed_load) {\n",
       "      console.log(\"Bokeh: BokehJS failed to load within specified timeout.\");\n",
       "      root._bokeh_failed_load = true;\n",
       "    } else if (force !== true) {\n",
       "      var cell = $(document.getElementById(\"5ca0edae-cc90-4e8f-b441-ad1728dc057a\")).parents('.cell').data().cell;\n",
       "      cell.output_area.append_execute_result(NB_LOAD_WARNING)\n",
       "    }\n",
       "\n",
       "  }\n",
       "\n",
       "  if (root._bokeh_is_loading === 0) {\n",
       "    console.log(\"Bokeh: BokehJS loaded, going straight to plotting\");\n",
       "    run_inline_js();\n",
       "  } else {\n",
       "    load_libs(js_urls, function() {\n",
       "      console.log(\"Bokeh: BokehJS plotting callback run at\", now());\n",
       "      run_inline_js();\n",
       "    });\n",
       "  }\n",
       "}(window));"
      ],
      "application/vnd.bokehjs_load.v0+json": "\n(function(root) {\n  function now() {\n    return new Date();\n  }\n\n  var force = true;\n\n  if (typeof (root._bokeh_onload_callbacks) === \"undefined\" || force === true) {\n    root._bokeh_onload_callbacks = [];\n    root._bokeh_is_loading = undefined;\n  }\n\n  \n\n  \n  if (typeof (root._bokeh_timeout) === \"undefined\" || force === true) {\n    root._bokeh_timeout = Date.now() + 5000;\n    root._bokeh_failed_load = false;\n  }\n\n  var NB_LOAD_WARNING = {'data': {'text/html':\n     \"<div style='background-color: #fdd'>\\n\"+\n     \"<p>\\n\"+\n     \"BokehJS does not appear to have successfully loaded. If loading BokehJS from CDN, this \\n\"+\n     \"may be due to a slow or bad network connection. Possible fixes:\\n\"+\n     \"</p>\\n\"+\n     \"<ul>\\n\"+\n     \"<li>re-rerun `output_notebook()` to attempt to load from CDN again, or</li>\\n\"+\n     \"<li>use INLINE resources instead, as so:</li>\\n\"+\n     \"</ul>\\n\"+\n     \"<code>\\n\"+\n     \"from bokeh.resources import INLINE\\n\"+\n     \"output_notebook(resources=INLINE)\\n\"+\n     \"</code>\\n\"+\n     \"</div>\"}};\n\n  function display_loaded() {\n    var el = document.getElementById(\"5ca0edae-cc90-4e8f-b441-ad1728dc057a\");\n    if (el != null) {\n      el.textContent = \"BokehJS is loading...\";\n    }\n    if (root.Bokeh !== undefined) {\n      if (el != null) {\n        el.textContent = \"BokehJS \" + root.Bokeh.version + \" successfully loaded.\";\n      }\n    } else if (Date.now() < root._bokeh_timeout) {\n      setTimeout(display_loaded, 100)\n    }\n  }\n\n\n  function run_callbacks() {\n    try {\n      root._bokeh_onload_callbacks.forEach(function(callback) { callback() });\n    }\n    finally {\n      delete root._bokeh_onload_callbacks\n    }\n    console.info(\"Bokeh: all callbacks have finished\");\n  }\n\n  function load_libs(js_urls, callback) {\n    root._bokeh_onload_callbacks.push(callback);\n    if (root._bokeh_is_loading > 0) {\n      console.log(\"Bokeh: BokehJS is being loaded, scheduling callback at\", now());\n      return null;\n    }\n    if (js_urls == null || js_urls.length === 0) {\n      run_callbacks();\n      return null;\n    }\n    console.log(\"Bokeh: BokehJS not loaded, scheduling load and callback at\", now());\n    root._bokeh_is_loading = js_urls.length;\n    for (var i = 0; i < js_urls.length; i++) {\n      var url = js_urls[i];\n      var s = document.createElement('script');\n      s.src = url;\n      s.async = false;\n      s.onreadystatechange = s.onload = function() {\n        root._bokeh_is_loading--;\n        if (root._bokeh_is_loading === 0) {\n          console.log(\"Bokeh: all BokehJS libraries loaded\");\n          run_callbacks()\n        }\n      };\n      s.onerror = function() {\n        console.warn(\"failed to load library \" + url);\n      };\n      console.log(\"Bokeh: injecting script tag for BokehJS library: \", url);\n      document.getElementsByTagName(\"head\")[0].appendChild(s);\n    }\n  };var element = document.getElementById(\"5ca0edae-cc90-4e8f-b441-ad1728dc057a\");\n  if (element == null) {\n    console.log(\"Bokeh: ERROR: autoload.js configured with elementid '5ca0edae-cc90-4e8f-b441-ad1728dc057a' but no matching script tag was found. \")\n    return false;\n  }\n\n  var js_urls = [\"https://cdn.pydata.org/bokeh/release/bokeh-0.12.10.min.js\", \"https://cdn.pydata.org/bokeh/release/bokeh-widgets-0.12.10.min.js\", \"https://cdn.pydata.org/bokeh/release/bokeh-tables-0.12.10.min.js\", \"https://cdn.pydata.org/bokeh/release/bokeh-gl-0.12.10.min.js\"];\n\n  var inline_js = [\n    function(Bokeh) {\n      Bokeh.set_log_level(\"info\");\n    },\n    \n    function(Bokeh) {\n      \n    },\n    function(Bokeh) {\n      console.log(\"Bokeh: injecting CSS: https://cdn.pydata.org/bokeh/release/bokeh-0.12.10.min.css\");\n      Bokeh.embed.inject_css(\"https://cdn.pydata.org/bokeh/release/bokeh-0.12.10.min.css\");\n      console.log(\"Bokeh: injecting CSS: https://cdn.pydata.org/bokeh/release/bokeh-widgets-0.12.10.min.css\");\n      Bokeh.embed.inject_css(\"https://cdn.pydata.org/bokeh/release/bokeh-widgets-0.12.10.min.css\");\n      console.log(\"Bokeh: injecting CSS: https://cdn.pydata.org/bokeh/release/bokeh-tables-0.12.10.min.css\");\n      Bokeh.embed.inject_css(\"https://cdn.pydata.org/bokeh/release/bokeh-tables-0.12.10.min.css\");\n    }\n  ];\n\n  function run_inline_js() {\n    \n    if ((root.Bokeh !== undefined) || (force === true)) {\n      for (var i = 0; i < inline_js.length; i++) {\n        inline_js[i].call(root, root.Bokeh);\n      }if (force === true) {\n        display_loaded();\n      }} else if (Date.now() < root._bokeh_timeout) {\n      setTimeout(run_inline_js, 100);\n    } else if (!root._bokeh_failed_load) {\n      console.log(\"Bokeh: BokehJS failed to load within specified timeout.\");\n      root._bokeh_failed_load = true;\n    } else if (force !== true) {\n      var cell = $(document.getElementById(\"5ca0edae-cc90-4e8f-b441-ad1728dc057a\")).parents('.cell').data().cell;\n      cell.output_area.append_execute_result(NB_LOAD_WARNING)\n    }\n\n  }\n\n  if (root._bokeh_is_loading === 0) {\n    console.log(\"Bokeh: BokehJS loaded, going straight to plotting\");\n    run_inline_js();\n  } else {\n    load_libs(js_urls, function() {\n      console.log(\"Bokeh: BokehJS plotting callback run at\", now());\n      run_inline_js();\n    });\n  }\n}(window));"
     },
     "metadata": {},
     "output_type": "display_data"
    }
   ],
   "source": [
    "from bokeh.io import output_notebook\n",
    "output_notebook()"
   ]
  },
  {
   "cell_type": "markdown",
   "metadata": {},
   "source": [
    "# GRAFICAS\n",
    "----"
   ]
  },
  {
   "cell_type": "markdown",
   "metadata": {},
   "source": [
    "## Gráfico de Líneas"
   ]
  },
  {
   "cell_type": "code",
   "execution_count": 14,
   "metadata": {},
   "outputs": [],
   "source": [
    "group1 = data.groupby('Anios')\n",
    "\n",
    "source = ColumnDataSource(group1)"
   ]
  },
  {
   "cell_type": "markdown",
   "metadata": {},
   "source": [
    "Características que tendrá nuestra grafica"
   ]
  },
  {
   "cell_type": "code",
   "execution_count": 15,
   "metadata": {},
   "outputs": [],
   "source": [
    "graph_line = figure(\n",
    "    plot_height=400, # ancho\n",
    "    plot_width=900, # alto\n",
    "    x_range=group1,\n",
    "    title='POBREZA-QUITO' # titulo\n",
    ")"
   ]
  },
  {
   "cell_type": "markdown",
   "metadata": {},
   "source": [
    "Definimos los datos que representara cada \"Línea\", y otras opciones como color y leyenda"
   ]
  },
  {
   "cell_type": "code",
   "execution_count": 16,
   "metadata": {},
   "outputs": [
    {
     "data": {
      "text/html": [
       "<div style=\"display: table;\"><div style=\"display: table-row;\"><div style=\"display: table-cell;\"><b title=\"bokeh.models.renderers.GlyphRenderer\">GlyphRenderer</b>(</div><div style=\"display: table-cell;\">id&nbsp;=&nbsp;'5676bd01-2f9a-4834-90c3-744880893a5e', <span id=\"0c55c6ee-ec8f-46cd-b81f-be926a467d4d\" style=\"cursor: pointer;\">&hellip;)</span></div></div><div class=\"45aeb030-0eb8-4c23-991d-dc4f4f85bd40\" style=\"display: none;\"><div style=\"display: table-cell;\"></div><div style=\"display: table-cell;\">data_source&nbsp;=&nbsp;ColumnDataSource(id='e08c74f0-8c9f-4c2b-810d-0a7a97c5b2ef', ...),</div></div><div class=\"45aeb030-0eb8-4c23-991d-dc4f4f85bd40\" style=\"display: none;\"><div style=\"display: table-cell;\"></div><div style=\"display: table-cell;\">glyph&nbsp;=&nbsp;Line(id='835add9a-bcc0-4757-bddb-41132e7d4a1e', ...),</div></div><div class=\"45aeb030-0eb8-4c23-991d-dc4f4f85bd40\" style=\"display: none;\"><div style=\"display: table-cell;\"></div><div style=\"display: table-cell;\">hover_glyph&nbsp;=&nbsp;None,</div></div><div class=\"45aeb030-0eb8-4c23-991d-dc4f4f85bd40\" style=\"display: none;\"><div style=\"display: table-cell;\"></div><div style=\"display: table-cell;\">js_event_callbacks&nbsp;=&nbsp;{},</div></div><div class=\"45aeb030-0eb8-4c23-991d-dc4f4f85bd40\" style=\"display: none;\"><div style=\"display: table-cell;\"></div><div style=\"display: table-cell;\">js_property_callbacks&nbsp;=&nbsp;{},</div></div><div class=\"45aeb030-0eb8-4c23-991d-dc4f4f85bd40\" style=\"display: none;\"><div style=\"display: table-cell;\"></div><div style=\"display: table-cell;\">level&nbsp;=&nbsp;'glyph',</div></div><div class=\"45aeb030-0eb8-4c23-991d-dc4f4f85bd40\" style=\"display: none;\"><div style=\"display: table-cell;\"></div><div style=\"display: table-cell;\">muted&nbsp;=&nbsp;False,</div></div><div class=\"45aeb030-0eb8-4c23-991d-dc4f4f85bd40\" style=\"display: none;\"><div style=\"display: table-cell;\"></div><div style=\"display: table-cell;\">muted_glyph&nbsp;=&nbsp;None,</div></div><div class=\"45aeb030-0eb8-4c23-991d-dc4f4f85bd40\" style=\"display: none;\"><div style=\"display: table-cell;\"></div><div style=\"display: table-cell;\">name&nbsp;=&nbsp;None,</div></div><div class=\"45aeb030-0eb8-4c23-991d-dc4f4f85bd40\" style=\"display: none;\"><div style=\"display: table-cell;\"></div><div style=\"display: table-cell;\">nonselection_glyph&nbsp;=&nbsp;Line(id='64d9b5e7-2664-4a59-bde6-c7ed2a59978b', ...),</div></div><div class=\"45aeb030-0eb8-4c23-991d-dc4f4f85bd40\" style=\"display: none;\"><div style=\"display: table-cell;\"></div><div style=\"display: table-cell;\">selection_glyph&nbsp;=&nbsp;None,</div></div><div class=\"45aeb030-0eb8-4c23-991d-dc4f4f85bd40\" style=\"display: none;\"><div style=\"display: table-cell;\"></div><div style=\"display: table-cell;\">subscribed_events&nbsp;=&nbsp;[],</div></div><div class=\"45aeb030-0eb8-4c23-991d-dc4f4f85bd40\" style=\"display: none;\"><div style=\"display: table-cell;\"></div><div style=\"display: table-cell;\">tags&nbsp;=&nbsp;[],</div></div><div class=\"45aeb030-0eb8-4c23-991d-dc4f4f85bd40\" style=\"display: none;\"><div style=\"display: table-cell;\"></div><div style=\"display: table-cell;\">view&nbsp;=&nbsp;CDSView(id='fe8b5e25-1310-4fc5-9cca-5c8293ed887b', ...),</div></div><div class=\"45aeb030-0eb8-4c23-991d-dc4f4f85bd40\" style=\"display: none;\"><div style=\"display: table-cell;\"></div><div style=\"display: table-cell;\">visible&nbsp;=&nbsp;True,</div></div><div class=\"45aeb030-0eb8-4c23-991d-dc4f4f85bd40\" style=\"display: none;\"><div style=\"display: table-cell;\"></div><div style=\"display: table-cell;\">x_range_name&nbsp;=&nbsp;'default',</div></div><div class=\"45aeb030-0eb8-4c23-991d-dc4f4f85bd40\" style=\"display: none;\"><div style=\"display: table-cell;\"></div><div style=\"display: table-cell;\">y_range_name&nbsp;=&nbsp;'default')</div></div></div>\n",
       "<script>\n",
       "(function() {\n",
       "  var expanded = false;\n",
       "  var ellipsis = document.getElementById(\"0c55c6ee-ec8f-46cd-b81f-be926a467d4d\");\n",
       "  ellipsis.addEventListener(\"click\", function() {\n",
       "    var rows = document.getElementsByClassName(\"45aeb030-0eb8-4c23-991d-dc4f4f85bd40\");\n",
       "    for (var i = 0; i < rows.length; i++) {\n",
       "      var el = rows[i];\n",
       "      el.style.display = expanded ? \"none\" : \"table-row\";\n",
       "    }\n",
       "    ellipsis.innerHTML = expanded ? \"&hellip;)\" : \"&lsaquo;&lsaquo;&lsaquo;\";\n",
       "    expanded = !expanded;\n",
       "  });\n",
       "})();\n",
       "</script>\n"
      ],
      "text/plain": [
       "GlyphRenderer(id='5676bd01-2f9a-4834-90c3-744880893a5e', ...)"
      ]
     },
     "execution_count": 16,
     "metadata": {},
     "output_type": "execute_result"
    }
   ],
   "source": [
    "graph_line.line(\n",
    "    x='Anios', # datos en x\n",
    "    y='Incidencia_mean', # datos en y\n",
    "    color='#f4d341', # color de las líneas\n",
    "    legend='Incidencia', # leyenda que representa nuestra grafica\n",
    "    line_width=5,\n",
    "    source=source\n",
    ")\n",
    "graph_line.line(\n",
    "    x='Anios', y='Brecha_mean', color='#42f4bf', legend='Brecha',line_width=5,source=source\n",
    ")\n",
    "graph_line.line(\n",
    "    x='Anios', y='Severidad_mean', color='#f44171', legend='Severidad',line_width=5,source=source\n",
    ")"
   ]
  },
  {
   "cell_type": "markdown",
   "metadata": {},
   "source": [
    "Para no mostramos los trazados del plano y presentamos nuestra grafica"
   ]
  },
  {
   "cell_type": "code",
   "execution_count": 17,
   "metadata": {},
   "outputs": [
    {
     "data": {
      "text/html": [
       "\n",
       "<div class=\"bk-root\">\n",
       "    <div class=\"bk-plotdiv\" id=\"b9cbf5c9-04db-4349-bd56-d68c5f255f71\"></div>\n",
       "</div>"
      ]
     },
     "metadata": {},
     "output_type": "display_data"
    },
    {
     "data": {
      "application/javascript": [
       "(function(root) {\n",
       "  function embed_document(root) {\n",
       "    var docs_json = {\"ad1aa3f2-6143-4cf2-b7b8-6505fb27ad7f\":{\"roots\":{\"references\":[{\"attributes\":{\"label\":{\"value\":\"Severidad\"},\"renderers\":[{\"id\":\"5676bd01-2f9a-4834-90c3-744880893a5e\",\"type\":\"GlyphRenderer\"}]},\"id\":\"d25119a8-cb4a-4041-a947-a5da8f3c3753\",\"type\":\"LegendItem\"},{\"attributes\":{},\"id\":\"a8f4030c-b6ca-4193-8918-b76c1ce0d8af\",\"type\":\"LinearScale\"},{\"attributes\":{\"line_color\":{\"value\":\"#42f4bf\"},\"line_width\":{\"value\":5},\"x\":{\"field\":\"Anios\"},\"y\":{\"field\":\"Brecha_mean\"}},\"id\":\"e78aaa93-3c50-40e0-babe-e3d661a7d6a1\",\"type\":\"Line\"},{\"attributes\":{\"bottom_units\":\"screen\",\"fill_alpha\":{\"value\":0.5},\"fill_color\":{\"value\":\"lightgrey\"},\"left_units\":\"screen\",\"level\":\"overlay\",\"line_alpha\":{\"value\":1.0},\"line_color\":{\"value\":\"black\"},\"line_dash\":[4,4],\"line_width\":{\"value\":2},\"plot\":null,\"render_mode\":\"css\",\"right_units\":\"screen\",\"top_units\":\"screen\"},\"id\":\"690c102b-3fef-437f-ba9b-308f1c264793\",\"type\":\"BoxAnnotation\"},{\"attributes\":{\"plot\":null,\"text\":\"POBREZA-QUITO\"},\"id\":\"da81e324-3650-4794-96d4-ac453ccf5030\",\"type\":\"Title\"},{\"attributes\":{},\"id\":\"bbec438b-19c1-45c5-a8bb-a8185ef00ef8\",\"type\":\"PanTool\"},{\"attributes\":{},\"id\":\"ced8fbd2-82f8-4911-98b4-a1d9629218d9\",\"type\":\"BasicTickFormatter\"},{\"attributes\":{},\"id\":\"fcf41889-95ac-4df2-a1f7-fbafa027e196\",\"type\":\"BasicTicker\"},{\"attributes\":{},\"id\":\"0c9c724b-b88a-4eea-81eb-164445bc0076\",\"type\":\"CategoricalTicker\"},{\"attributes\":{\"line_alpha\":{\"value\":0.1},\"line_color\":{\"value\":\"#1f77b4\"},\"line_width\":{\"value\":5},\"x\":{\"field\":\"Anios\"},\"y\":{\"field\":\"Brecha_mean\"}},\"id\":\"ed304c23-2d31-4aa5-ad90-12cdaeb314ea\",\"type\":\"Line\"},{\"attributes\":{},\"id\":\"87880d2f-6f99-47b5-b7bd-8d0eb7b6baa2\",\"type\":\"WheelZoomTool\"},{\"attributes\":{\"callback\":null},\"id\":\"59db6165-b04c-4625-af75-91ffd7639a82\",\"type\":\"DataRange1d\"},{\"attributes\":{\"line_alpha\":{\"value\":0.1},\"line_color\":{\"value\":\"#1f77b4\"},\"line_width\":{\"value\":5},\"x\":{\"field\":\"Anios\"},\"y\":{\"field\":\"Incidencia_mean\"}},\"id\":\"a27c646c-ae2f-424a-acca-a5e30d517a34\",\"type\":\"Line\"},{\"attributes\":{\"source\":{\"id\":\"e08c74f0-8c9f-4c2b-810d-0a7a97c5b2ef\",\"type\":\"ColumnDataSource\"}},\"id\":\"6209102b-1198-4bab-a174-88ab2566f127\",\"type\":\"CDSView\"},{\"attributes\":{\"formatter\":{\"id\":\"896e293d-6f97-4d3d-94ce-db9db0a9a0d9\",\"type\":\"CategoricalTickFormatter\"},\"plot\":{\"id\":\"72e516b1-fdbb-4a71-a5e6-428a94065c79\",\"subtype\":\"Figure\",\"type\":\"Plot\"},\"ticker\":{\"id\":\"0c9c724b-b88a-4eea-81eb-164445bc0076\",\"type\":\"CategoricalTicker\"}},\"id\":\"6866ca40-c112-4c1b-9da2-4e0b232f3ee0\",\"type\":\"CategoricalAxis\"},{\"attributes\":{\"formatter\":{\"id\":\"ced8fbd2-82f8-4911-98b4-a1d9629218d9\",\"type\":\"BasicTickFormatter\"},\"plot\":{\"id\":\"72e516b1-fdbb-4a71-a5e6-428a94065c79\",\"subtype\":\"Figure\",\"type\":\"Plot\"},\"ticker\":{\"id\":\"fcf41889-95ac-4df2-a1f7-fbafa027e196\",\"type\":\"BasicTicker\"}},\"id\":\"e4f51d9d-ae67-4e2c-80f2-b9c3cfb644b9\",\"type\":\"LinearAxis\"},{\"attributes\":{\"grid_line_color\":{\"value\":null},\"plot\":{\"id\":\"72e516b1-fdbb-4a71-a5e6-428a94065c79\",\"subtype\":\"Figure\",\"type\":\"Plot\"},\"ticker\":{\"id\":\"0c9c724b-b88a-4eea-81eb-164445bc0076\",\"type\":\"CategoricalTicker\"}},\"id\":\"ba125961-6e0d-4ce1-ac8f-97be13a0a29f\",\"type\":\"Grid\"},{\"attributes\":{\"active_drag\":\"auto\",\"active_inspect\":\"auto\",\"active_scroll\":\"auto\",\"active_tap\":\"auto\",\"tools\":[{\"id\":\"bbec438b-19c1-45c5-a8bb-a8185ef00ef8\",\"type\":\"PanTool\"},{\"id\":\"87880d2f-6f99-47b5-b7bd-8d0eb7b6baa2\",\"type\":\"WheelZoomTool\"},{\"id\":\"65d8d865-e14f-4645-bdee-98082a11ae69\",\"type\":\"BoxZoomTool\"},{\"id\":\"2f6baa6f-532b-4c05-9cf9-8b0ce92aa619\",\"type\":\"SaveTool\"},{\"id\":\"50c9871b-ee9d-40d6-a21c-36c9195454fa\",\"type\":\"ResetTool\"},{\"id\":\"609c7faa-cfcd-4c75-a732-782c5df5c49f\",\"type\":\"HelpTool\"}]},\"id\":\"0001be9d-6e26-405d-a3fa-b3a37fa78434\",\"type\":\"Toolbar\"},{\"attributes\":{},\"id\":\"896e293d-6f97-4d3d-94ce-db9db0a9a0d9\",\"type\":\"CategoricalTickFormatter\"},{\"attributes\":{\"overlay\":{\"id\":\"690c102b-3fef-437f-ba9b-308f1c264793\",\"type\":\"BoxAnnotation\"}},\"id\":\"65d8d865-e14f-4645-bdee-98082a11ae69\",\"type\":\"BoxZoomTool\"},{\"attributes\":{\"line_color\":{\"value\":\"#f4d341\"},\"line_width\":{\"value\":5},\"x\":{\"field\":\"Anios\"},\"y\":{\"field\":\"Incidencia_mean\"}},\"id\":\"6fe532b6-67ac-4eae-aa02-e326865777eb\",\"type\":\"Line\"},{\"attributes\":{\"below\":[{\"id\":\"6866ca40-c112-4c1b-9da2-4e0b232f3ee0\",\"type\":\"CategoricalAxis\"}],\"left\":[{\"id\":\"e4f51d9d-ae67-4e2c-80f2-b9c3cfb644b9\",\"type\":\"LinearAxis\"}],\"plot_height\":400,\"plot_width\":900,\"renderers\":[{\"id\":\"6866ca40-c112-4c1b-9da2-4e0b232f3ee0\",\"type\":\"CategoricalAxis\"},{\"id\":\"ba125961-6e0d-4ce1-ac8f-97be13a0a29f\",\"type\":\"Grid\"},{\"id\":\"e4f51d9d-ae67-4e2c-80f2-b9c3cfb644b9\",\"type\":\"LinearAxis\"},{\"id\":\"c4b42b0d-366c-440e-b115-aa4ab9a938dc\",\"type\":\"Grid\"},{\"id\":\"690c102b-3fef-437f-ba9b-308f1c264793\",\"type\":\"BoxAnnotation\"},{\"id\":\"1ca634f1-a92e-4489-bcac-307f66da8652\",\"type\":\"Legend\"},{\"id\":\"79110696-9ad1-4edc-bf04-cbe644e17106\",\"type\":\"GlyphRenderer\"},{\"id\":\"d978e698-52a9-4c56-bec2-9a89dd8918a1\",\"type\":\"GlyphRenderer\"},{\"id\":\"5676bd01-2f9a-4834-90c3-744880893a5e\",\"type\":\"GlyphRenderer\"}],\"title\":{\"id\":\"da81e324-3650-4794-96d4-ac453ccf5030\",\"type\":\"Title\"},\"toolbar\":{\"id\":\"0001be9d-6e26-405d-a3fa-b3a37fa78434\",\"type\":\"Toolbar\"},\"x_range\":{\"id\":\"52384107-6775-4c15-a7c6-d215b2d3448d\",\"type\":\"FactorRange\"},\"x_scale\":{\"id\":\"7c64429a-2e6c-4a71-9209-e6486cb25839\",\"type\":\"CategoricalScale\"},\"y_range\":{\"id\":\"59db6165-b04c-4625-af75-91ffd7639a82\",\"type\":\"DataRange1d\"},\"y_scale\":{\"id\":\"a8f4030c-b6ca-4193-8918-b76c1ce0d8af\",\"type\":\"LinearScale\"}},\"id\":\"72e516b1-fdbb-4a71-a5e6-428a94065c79\",\"subtype\":\"Figure\",\"type\":\"Plot\"},{\"attributes\":{\"callback\":null,\"column_names\":[\"Brecha_count\",\"Brecha_mean\",\"Brecha_std\",\"Brecha_min\",\"Brecha_25%\",\"Brecha_50%\",\"Brecha_75%\",\"Brecha_max\",\"Incidencia_count\",\"Incidencia_mean\",\"Incidencia_std\",\"Incidencia_min\",\"Incidencia_25%\",\"Incidencia_50%\",\"Incidencia_75%\",\"Incidencia_max\",\"Severidad_count\",\"Severidad_mean\",\"Severidad_std\",\"Severidad_min\",\"Severidad_25%\",\"Severidad_50%\",\"Severidad_75%\",\"Severidad_max\",\"Anios\"],\"data\":{\"Anios\":[\"2008\",\"2009\",\"2010\",\"2011\",\"2012\",\"2013\",\"2014\",\"2015\",\"2016\",\"2017\"],\"Brecha_25%\":{\"__ndarray__\":\"j8L1KFyPCkCuR+F6FK4NQFyPwvUoXBFAuB6F61G4CkBSuB6F61EKQNejcD0K1wtAPQrXo3A9BkC4HoXrUbgEQArXo3A9CgVAMzMzMzMzA0A=\",\"dtype\":\"float64\",\"shape\":[10]},\"Brecha_50%\":{\"__ndarray__\":\"j8L1KFyPCkCuR+F6FK4NQFyPwvUoXBFAuB6F61G4CkBSuB6F61EKQNejcD0K1wtAPQrXo3A9BkC4HoXrUbgEQArXo3A9CgVAMzMzMzMzA0A=\",\"dtype\":\"float64\",\"shape\":[10]},\"Brecha_75%\":{\"__ndarray__\":\"j8L1KFyPCkCuR+F6FK4NQFyPwvUoXBFAuB6F61G4CkBSuB6F61EKQNejcD0K1wtAPQrXo3A9BkC4HoXrUbgEQArXo3A9CgVAMzMzMzMzA0A=\",\"dtype\":\"float64\",\"shape\":[10]},\"Brecha_count\":{\"__ndarray__\":\"AAAAAAAA8D8AAAAAAADwPwAAAAAAAPA/AAAAAAAA8D8AAAAAAADwPwAAAAAAAPA/AAAAAAAA8D8AAAAAAADwPwAAAAAAAPA/AAAAAAAA8D8=\",\"dtype\":\"float64\",\"shape\":[10]},\"Brecha_max\":{\"__ndarray__\":\"j8L1KFyPCkCuR+F6FK4NQFyPwvUoXBFAuB6F61G4CkBSuB6F61EKQNejcD0K1wtAPQrXo3A9BkC4HoXrUbgEQArXo3A9CgVAMzMzMzMzA0A=\",\"dtype\":\"float64\",\"shape\":[10]},\"Brecha_mean\":{\"__ndarray__\":\"j8L1KFyPCkCuR+F6FK4NQFyPwvUoXBFAuB6F61G4CkBSuB6F61EKQNejcD0K1wtAPQrXo3A9BkC4HoXrUbgEQArXo3A9CgVAMzMzMzMzA0A=\",\"dtype\":\"float64\",\"shape\":[10]},\"Brecha_min\":{\"__ndarray__\":\"j8L1KFyPCkCuR+F6FK4NQFyPwvUoXBFAuB6F61G4CkBSuB6F61EKQNejcD0K1wtAPQrXo3A9BkC4HoXrUbgEQArXo3A9CgVAMzMzMzMzA0A=\",\"dtype\":\"float64\",\"shape\":[10]},\"Brecha_std\":{\"__ndarray__\":\"AAAAAAAA+H8AAAAAAAD4fwAAAAAAAPh/AAAAAAAA+H8AAAAAAAD4fwAAAAAAAPh/AAAAAAAA+H8AAAAAAAD4fwAAAAAAAPh/AAAAAAAA+H8=\",\"dtype\":\"float64\",\"shape\":[10]},\"Incidencia_25%\":{\"__ndarray__\":\"ZmZmZmbmJEBSuB6F61EmQIXrUbgeBSpAKVyPwvWoJEBxPQrXo/AhQDMzMzMzsyVA16NwPQrXIUB7FK5H4XofQOxRuB6F6x9AZmZmZmZmHUA=\",\"dtype\":\"float64\",\"shape\":[10]},\"Incidencia_50%\":{\"__ndarray__\":\"ZmZmZmbmJEBSuB6F61EmQIXrUbgeBSpAKVyPwvWoJEBxPQrXo/AhQDMzMzMzsyVA16NwPQrXIUB7FK5H4XofQOxRuB6F6x9AZmZmZmZmHUA=\",\"dtype\":\"float64\",\"shape\":[10]},\"Incidencia_75%\":{\"__ndarray__\":\"ZmZmZmbmJEBSuB6F61EmQIXrUbgeBSpAKVyPwvWoJEBxPQrXo/AhQDMzMzMzsyVA16NwPQrXIUB7FK5H4XofQOxRuB6F6x9AZmZmZmZmHUA=\",\"dtype\":\"float64\",\"shape\":[10]},\"Incidencia_count\":{\"__ndarray__\":\"AAAAAAAA8D8AAAAAAADwPwAAAAAAAPA/AAAAAAAA8D8AAAAAAADwPwAAAAAAAPA/AAAAAAAA8D8AAAAAAADwPwAAAAAAAPA/AAAAAAAA8D8=\",\"dtype\":\"float64\",\"shape\":[10]},\"Incidencia_max\":{\"__ndarray__\":\"ZmZmZmbmJEBSuB6F61EmQIXrUbgeBSpAKVyPwvWoJEBxPQrXo/AhQDMzMzMzsyVA16NwPQrXIUB7FK5H4XofQOxRuB6F6x9AZmZmZmZmHUA=\",\"dtype\":\"float64\",\"shape\":[10]},\"Incidencia_mean\":{\"__ndarray__\":\"ZmZmZmbmJEBSuB6F61EmQIXrUbgeBSpAKVyPwvWoJEBxPQrXo/AhQDMzMzMzsyVA16NwPQrXIUB7FK5H4XofQOxRuB6F6x9AZmZmZmZmHUA=\",\"dtype\":\"float64\",\"shape\":[10]},\"Incidencia_min\":{\"__ndarray__\":\"ZmZmZmbmJEBSuB6F61EmQIXrUbgeBSpAKVyPwvWoJEBxPQrXo/AhQDMzMzMzsyVA16NwPQrXIUB7FK5H4XofQOxRuB6F6x9AZmZmZmZmHUA=\",\"dtype\":\"float64\",\"shape\":[10]},\"Incidencia_std\":{\"__ndarray__\":\"AAAAAAAA+H8AAAAAAAD4fwAAAAAAAPh/AAAAAAAA+H8AAAAAAAD4fwAAAAAAAPh/AAAAAAAA+H8AAAAAAAD4fwAAAAAAAPh/AAAAAAAA+H8=\",\"dtype\":\"float64\",\"shape\":[10]},\"Severidad_25%\":{\"__ndarray__\":\"KVyPwvUo/D+F61G4HoX/P3sUrkfhegJA9ihcj8L1/D9xPQrXo3D5P/YoXI/C9fg/PQrXo3A99j/NzMzMzMz0P3E9CtejcPU/rkfhehSu8z8=\",\"dtype\":\"float64\",\"shape\":[10]},\"Severidad_50%\":{\"__ndarray__\":\"KVyPwvUo/D+F61G4HoX/P3sUrkfhegJA9ihcj8L1/D9xPQrXo3D5P/YoXI/C9fg/PQrXo3A99j/NzMzMzMz0P3E9CtejcPU/rkfhehSu8z8=\",\"dtype\":\"float64\",\"shape\":[10]},\"Severidad_75%\":{\"__ndarray__\":\"KVyPwvUo/D+F61G4HoX/P3sUrkfhegJA9ihcj8L1/D9xPQrXo3D5P/YoXI/C9fg/PQrXo3A99j/NzMzMzMz0P3E9CtejcPU/rkfhehSu8z8=\",\"dtype\":\"float64\",\"shape\":[10]},\"Severidad_count\":{\"__ndarray__\":\"AAAAAAAA8D8AAAAAAADwPwAAAAAAAPA/AAAAAAAA8D8AAAAAAADwPwAAAAAAAPA/AAAAAAAA8D8AAAAAAADwPwAAAAAAAPA/AAAAAAAA8D8=\",\"dtype\":\"float64\",\"shape\":[10]},\"Severidad_max\":{\"__ndarray__\":\"KVyPwvUo/D+F61G4HoX/P3sUrkfhegJA9ihcj8L1/D9xPQrXo3D5P/YoXI/C9fg/PQrXo3A99j/NzMzMzMz0P3E9CtejcPU/rkfhehSu8z8=\",\"dtype\":\"float64\",\"shape\":[10]},\"Severidad_mean\":{\"__ndarray__\":\"KVyPwvUo/D+F61G4HoX/P3sUrkfhegJA9ihcj8L1/D9xPQrXo3D5P/YoXI/C9fg/PQrXo3A99j/NzMzMzMz0P3E9CtejcPU/rkfhehSu8z8=\",\"dtype\":\"float64\",\"shape\":[10]},\"Severidad_min\":{\"__ndarray__\":\"KVyPwvUo/D+F61G4HoX/P3sUrkfhegJA9ihcj8L1/D9xPQrXo3D5P/YoXI/C9fg/PQrXo3A99j/NzMzMzMz0P3E9CtejcPU/rkfhehSu8z8=\",\"dtype\":\"float64\",\"shape\":[10]},\"Severidad_std\":{\"__ndarray__\":\"AAAAAAAA+H8AAAAAAAD4fwAAAAAAAPh/AAAAAAAA+H8AAAAAAAD4fwAAAAAAAPh/AAAAAAAA+H8AAAAAAAD4fwAAAAAAAPh/AAAAAAAA+H8=\",\"dtype\":\"float64\",\"shape\":[10]}}},\"id\":\"e08c74f0-8c9f-4c2b-810d-0a7a97c5b2ef\",\"type\":\"ColumnDataSource\"},{\"attributes\":{\"line_color\":{\"value\":\"#f44171\"},\"line_width\":{\"value\":5},\"x\":{\"field\":\"Anios\"},\"y\":{\"field\":\"Severidad_mean\"}},\"id\":\"835add9a-bcc0-4757-bddb-41132e7d4a1e\",\"type\":\"Line\"},{\"attributes\":{\"data_source\":{\"id\":\"e08c74f0-8c9f-4c2b-810d-0a7a97c5b2ef\",\"type\":\"ColumnDataSource\"},\"glyph\":{\"id\":\"6fe532b6-67ac-4eae-aa02-e326865777eb\",\"type\":\"Line\"},\"hover_glyph\":null,\"muted_glyph\":null,\"nonselection_glyph\":{\"id\":\"a27c646c-ae2f-424a-acca-a5e30d517a34\",\"type\":\"Line\"},\"selection_glyph\":null,\"view\":{\"id\":\"6209102b-1198-4bab-a174-88ab2566f127\",\"type\":\"CDSView\"}},\"id\":\"79110696-9ad1-4edc-bf04-cbe644e17106\",\"type\":\"GlyphRenderer\"},{\"attributes\":{},\"id\":\"2f6baa6f-532b-4c05-9cf9-8b0ce92aa619\",\"type\":\"SaveTool\"},{\"attributes\":{\"label\":{\"value\":\"Brecha\"},\"renderers\":[{\"id\":\"d978e698-52a9-4c56-bec2-9a89dd8918a1\",\"type\":\"GlyphRenderer\"}]},\"id\":\"850dbb19-49b0-420a-acc6-f4f0f1431a41\",\"type\":\"LegendItem\"},{\"attributes\":{\"source\":{\"id\":\"e08c74f0-8c9f-4c2b-810d-0a7a97c5b2ef\",\"type\":\"ColumnDataSource\"}},\"id\":\"8c2629ee-6f66-4814-b144-5b10cb4a95db\",\"type\":\"CDSView\"},{\"attributes\":{\"dimension\":1,\"grid_line_color\":{\"value\":null},\"plot\":{\"id\":\"72e516b1-fdbb-4a71-a5e6-428a94065c79\",\"subtype\":\"Figure\",\"type\":\"Plot\"},\"ticker\":{\"id\":\"fcf41889-95ac-4df2-a1f7-fbafa027e196\",\"type\":\"BasicTicker\"}},\"id\":\"c4b42b0d-366c-440e-b115-aa4ab9a938dc\",\"type\":\"Grid\"},{\"attributes\":{},\"id\":\"609c7faa-cfcd-4c75-a732-782c5df5c49f\",\"type\":\"HelpTool\"},{\"attributes\":{\"data_source\":{\"id\":\"e08c74f0-8c9f-4c2b-810d-0a7a97c5b2ef\",\"type\":\"ColumnDataSource\"},\"glyph\":{\"id\":\"e78aaa93-3c50-40e0-babe-e3d661a7d6a1\",\"type\":\"Line\"},\"hover_glyph\":null,\"muted_glyph\":null,\"nonselection_glyph\":{\"id\":\"ed304c23-2d31-4aa5-ad90-12cdaeb314ea\",\"type\":\"Line\"},\"selection_glyph\":null,\"view\":{\"id\":\"8c2629ee-6f66-4814-b144-5b10cb4a95db\",\"type\":\"CDSView\"}},\"id\":\"d978e698-52a9-4c56-bec2-9a89dd8918a1\",\"type\":\"GlyphRenderer\"},{\"attributes\":{\"source\":{\"id\":\"e08c74f0-8c9f-4c2b-810d-0a7a97c5b2ef\",\"type\":\"ColumnDataSource\"}},\"id\":\"fe8b5e25-1310-4fc5-9cca-5c8293ed887b\",\"type\":\"CDSView\"},{\"attributes\":{},\"id\":\"50c9871b-ee9d-40d6-a21c-36c9195454fa\",\"type\":\"ResetTool\"},{\"attributes\":{\"data_source\":{\"id\":\"e08c74f0-8c9f-4c2b-810d-0a7a97c5b2ef\",\"type\":\"ColumnDataSource\"},\"glyph\":{\"id\":\"835add9a-bcc0-4757-bddb-41132e7d4a1e\",\"type\":\"Line\"},\"hover_glyph\":null,\"muted_glyph\":null,\"nonselection_glyph\":{\"id\":\"64d9b5e7-2664-4a59-bde6-c7ed2a59978b\",\"type\":\"Line\"},\"selection_glyph\":null,\"view\":{\"id\":\"fe8b5e25-1310-4fc5-9cca-5c8293ed887b\",\"type\":\"CDSView\"}},\"id\":\"5676bd01-2f9a-4834-90c3-744880893a5e\",\"type\":\"GlyphRenderer\"},{\"attributes\":{\"label\":{\"value\":\"Incidencia\"},\"renderers\":[{\"id\":\"79110696-9ad1-4edc-bf04-cbe644e17106\",\"type\":\"GlyphRenderer\"}]},\"id\":\"219462b1-804f-4fcf-81f3-0215754f0634\",\"type\":\"LegendItem\"},{\"attributes\":{\"line_alpha\":{\"value\":0.1},\"line_color\":{\"value\":\"#1f77b4\"},\"line_width\":{\"value\":5},\"x\":{\"field\":\"Anios\"},\"y\":{\"field\":\"Severidad_mean\"}},\"id\":\"64d9b5e7-2664-4a59-bde6-c7ed2a59978b\",\"type\":\"Line\"},{\"attributes\":{\"callback\":null,\"factors\":[\"2008\",\"2009\",\"2010\",\"2011\",\"2012\",\"2013\",\"2014\",\"2015\",\"2016\",\"2017\"]},\"id\":\"52384107-6775-4c15-a7c6-d215b2d3448d\",\"type\":\"FactorRange\"},{\"attributes\":{},\"id\":\"7c64429a-2e6c-4a71-9209-e6486cb25839\",\"type\":\"CategoricalScale\"},{\"attributes\":{\"items\":[{\"id\":\"219462b1-804f-4fcf-81f3-0215754f0634\",\"type\":\"LegendItem\"},{\"id\":\"850dbb19-49b0-420a-acc6-f4f0f1431a41\",\"type\":\"LegendItem\"},{\"id\":\"d25119a8-cb4a-4041-a947-a5da8f3c3753\",\"type\":\"LegendItem\"}],\"plot\":{\"id\":\"72e516b1-fdbb-4a71-a5e6-428a94065c79\",\"subtype\":\"Figure\",\"type\":\"Plot\"}},\"id\":\"1ca634f1-a92e-4489-bcac-307f66da8652\",\"type\":\"Legend\"}],\"root_ids\":[\"72e516b1-fdbb-4a71-a5e6-428a94065c79\"]},\"title\":\"Bokeh Application\",\"version\":\"0.12.10\"}};\n",
       "    var render_items = [{\"docid\":\"ad1aa3f2-6143-4cf2-b7b8-6505fb27ad7f\",\"elementid\":\"b9cbf5c9-04db-4349-bd56-d68c5f255f71\",\"modelid\":\"72e516b1-fdbb-4a71-a5e6-428a94065c79\"}];\n",
       "\n",
       "    root.Bokeh.embed.embed_items(docs_json, render_items);\n",
       "  }\n",
       "\n",
       "  if (root.Bokeh !== undefined) {\n",
       "    embed_document(root);\n",
       "  } else {\n",
       "    var attempts = 0;\n",
       "    var timer = setInterval(function(root) {\n",
       "      if (root.Bokeh !== undefined) {\n",
       "        embed_document(root);\n",
       "        clearInterval(timer);\n",
       "      }\n",
       "      attempts++;\n",
       "      if (attempts > 100) {\n",
       "        console.log(\"Bokeh: ERROR: Unable to embed document because BokehJS library is missing\")\n",
       "        clearInterval(timer);\n",
       "      }\n",
       "    }, 10, root)\n",
       "  }\n",
       "})(window);"
      ],
      "application/vnd.bokehjs_exec.v0+json": ""
     },
     "metadata": {
      "application/vnd.bokehjs_exec.v0+json": {
       "id": "72e516b1-fdbb-4a71-a5e6-428a94065c79"
      }
     },
     "output_type": "display_data"
    }
   ],
   "source": [
    "graph_line.xgrid.grid_line_color = None # eliminamos las lineas verticales\n",
    "graph_line.ygrid.grid_line_color = None # horizontales\n",
    "\n",
    "show(graph_line) # mostramos nuestra grafica"
   ]
  },
  {
   "cell_type": "markdown",
   "metadata": {},
   "source": [
    "**En esta gráfica, podemos observar la pobreza recuerdo con la incidencia, que desde el año 2008 al 2010, tiene una mayoría de pobreza y del 2010 al 2012 a disminuido de la misma, y del 2012 en adelante sido desmullendo la pobreza, mientras que la pobreza recuerdo con la brecha, casi se aumentado en un rango mínimo, desde el año 2008 al 2016, y por último la pobreza de acuerdo con la serenidad no ha existido un rango alto de pobreza, si no que se ha ido manteniendo en un porcentaje medio.**"
   ]
  },
  {
   "cell_type": "markdown",
   "metadata": {},
   "source": [
    "## Gráfico de barras"
   ]
  },
  {
   "cell_type": "markdown",
   "metadata": {},
   "source": [
    "Creamos un objeto de figura por cada gráfica y establecemos sus opciones y titulo. (opciones)"
   ]
  },
  {
   "cell_type": "code",
   "execution_count": 18,
   "metadata": {},
   "outputs": [],
   "source": [
    "graph_bar_1 = figure(\n",
    "    title='Incidencia', # título de esta grafica en particular\n",
    "    plot_width=300, plot_height=300, # Tamaño\n",
    "    x_range=group1, # Mandamos el rango de x\n",
    ")\n",
    "graph_bar_2 = figure(title='Brecha', plot_width=300, plot_height=300, x_range=group1)\n",
    "graph_bar_3 = figure(title='Severidad', plot_width=300, plot_height=300, x_range=group1)"
   ]
  },
  {
   "cell_type": "markdown",
   "metadata": {},
   "source": [
    "Definimos lo que cada una de nuestras graficas representara"
   ]
  },
  {
   "cell_type": "code",
   "execution_count": 19,
   "metadata": {},
   "outputs": [
    {
     "data": {
      "text/html": [
       "<div style=\"display: table;\"><div style=\"display: table-row;\"><div style=\"display: table-cell;\"><b title=\"bokeh.models.renderers.GlyphRenderer\">GlyphRenderer</b>(</div><div style=\"display: table-cell;\">id&nbsp;=&nbsp;'03705cb4-ef40-45b3-be0f-d0c329c97f24', <span id=\"3dc58b83-377b-498d-8cb8-0decb24f15e0\" style=\"cursor: pointer;\">&hellip;)</span></div></div><div class=\"dfe39e47-517d-402c-8031-52f5a9e4424b\" style=\"display: none;\"><div style=\"display: table-cell;\"></div><div style=\"display: table-cell;\">data_source&nbsp;=&nbsp;ColumnDataSource(id='e08c74f0-8c9f-4c2b-810d-0a7a97c5b2ef', ...),</div></div><div class=\"dfe39e47-517d-402c-8031-52f5a9e4424b\" style=\"display: none;\"><div style=\"display: table-cell;\"></div><div style=\"display: table-cell;\">glyph&nbsp;=&nbsp;VBar(id='3aab6c80-2c78-4d82-99e5-018e3dcb2199', ...),</div></div><div class=\"dfe39e47-517d-402c-8031-52f5a9e4424b\" style=\"display: none;\"><div style=\"display: table-cell;\"></div><div style=\"display: table-cell;\">hover_glyph&nbsp;=&nbsp;None,</div></div><div class=\"dfe39e47-517d-402c-8031-52f5a9e4424b\" style=\"display: none;\"><div style=\"display: table-cell;\"></div><div style=\"display: table-cell;\">js_event_callbacks&nbsp;=&nbsp;{},</div></div><div class=\"dfe39e47-517d-402c-8031-52f5a9e4424b\" style=\"display: none;\"><div style=\"display: table-cell;\"></div><div style=\"display: table-cell;\">js_property_callbacks&nbsp;=&nbsp;{},</div></div><div class=\"dfe39e47-517d-402c-8031-52f5a9e4424b\" style=\"display: none;\"><div style=\"display: table-cell;\"></div><div style=\"display: table-cell;\">level&nbsp;=&nbsp;'glyph',</div></div><div class=\"dfe39e47-517d-402c-8031-52f5a9e4424b\" style=\"display: none;\"><div style=\"display: table-cell;\"></div><div style=\"display: table-cell;\">muted&nbsp;=&nbsp;False,</div></div><div class=\"dfe39e47-517d-402c-8031-52f5a9e4424b\" style=\"display: none;\"><div style=\"display: table-cell;\"></div><div style=\"display: table-cell;\">muted_glyph&nbsp;=&nbsp;None,</div></div><div class=\"dfe39e47-517d-402c-8031-52f5a9e4424b\" style=\"display: none;\"><div style=\"display: table-cell;\"></div><div style=\"display: table-cell;\">name&nbsp;=&nbsp;None,</div></div><div class=\"dfe39e47-517d-402c-8031-52f5a9e4424b\" style=\"display: none;\"><div style=\"display: table-cell;\"></div><div style=\"display: table-cell;\">nonselection_glyph&nbsp;=&nbsp;VBar(id='d8a2c073-a63e-4f7f-b61a-89743280e243', ...),</div></div><div class=\"dfe39e47-517d-402c-8031-52f5a9e4424b\" style=\"display: none;\"><div style=\"display: table-cell;\"></div><div style=\"display: table-cell;\">selection_glyph&nbsp;=&nbsp;None,</div></div><div class=\"dfe39e47-517d-402c-8031-52f5a9e4424b\" style=\"display: none;\"><div style=\"display: table-cell;\"></div><div style=\"display: table-cell;\">subscribed_events&nbsp;=&nbsp;[],</div></div><div class=\"dfe39e47-517d-402c-8031-52f5a9e4424b\" style=\"display: none;\"><div style=\"display: table-cell;\"></div><div style=\"display: table-cell;\">tags&nbsp;=&nbsp;[],</div></div><div class=\"dfe39e47-517d-402c-8031-52f5a9e4424b\" style=\"display: none;\"><div style=\"display: table-cell;\"></div><div style=\"display: table-cell;\">view&nbsp;=&nbsp;CDSView(id='1da4b180-b5bc-47fe-be15-378d36778a40', ...),</div></div><div class=\"dfe39e47-517d-402c-8031-52f5a9e4424b\" style=\"display: none;\"><div style=\"display: table-cell;\"></div><div style=\"display: table-cell;\">visible&nbsp;=&nbsp;True,</div></div><div class=\"dfe39e47-517d-402c-8031-52f5a9e4424b\" style=\"display: none;\"><div style=\"display: table-cell;\"></div><div style=\"display: table-cell;\">x_range_name&nbsp;=&nbsp;'default',</div></div><div class=\"dfe39e47-517d-402c-8031-52f5a9e4424b\" style=\"display: none;\"><div style=\"display: table-cell;\"></div><div style=\"display: table-cell;\">y_range_name&nbsp;=&nbsp;'default')</div></div></div>\n",
       "<script>\n",
       "(function() {\n",
       "  var expanded = false;\n",
       "  var ellipsis = document.getElementById(\"3dc58b83-377b-498d-8cb8-0decb24f15e0\");\n",
       "  ellipsis.addEventListener(\"click\", function() {\n",
       "    var rows = document.getElementsByClassName(\"dfe39e47-517d-402c-8031-52f5a9e4424b\");\n",
       "    for (var i = 0; i < rows.length; i++) {\n",
       "      var el = rows[i];\n",
       "      el.style.display = expanded ? \"none\" : \"table-row\";\n",
       "    }\n",
       "    ellipsis.innerHTML = expanded ? \"&hellip;)\" : \"&lsaquo;&lsaquo;&lsaquo;\";\n",
       "    expanded = !expanded;\n",
       "  });\n",
       "})();\n",
       "</script>\n"
      ],
      "text/plain": [
       "GlyphRenderer(id='03705cb4-ef40-45b3-be0f-d0c329c97f24', ...)"
      ]
     },
     "execution_count": 19,
     "metadata": {},
     "output_type": "execute_result"
    }
   ],
   "source": [
    "graph_bar_1.vbar(\n",
    "    x='Anios', # datos en x\n",
    "    top='Incidencia_mean', # valor máximo\n",
    "    width=0.7, # ancho de cada barra\n",
    "    line_color=\"white\", # color del borde de cada barra\n",
    "    color=\"#f4d341\", # color de cada barra\n",
    "    source=source\n",
    ")\n",
    "graph_bar_2.vbar(\n",
    "    x='Anios', top='Brecha_mean', width=0.7, line_color=\"white\", color=\"#42f4bf\", source=source\n",
    ")\n",
    "graph_bar_3.vbar(\n",
    "    x='Anios', top='Severidad_mean', width=0.7, line_color=\"white\", color=\"#f44171\", source=source\n",
    ")"
   ]
  },
  {
   "cell_type": "markdown",
   "metadata": {},
   "source": [
    "Creamos una nueva figura que está compuesta por las figuras creadas anteriormente"
   ]
  },
  {
   "cell_type": "code",
   "execution_count": 20,
   "metadata": {},
   "outputs": [
    {
     "data": {
      "text/html": [
       "\n",
       "<div class=\"bk-root\">\n",
       "    <div class=\"bk-plotdiv\" id=\"5e7dbc11-4542-4656-801e-0f98f31bcf29\"></div>\n",
       "</div>"
      ]
     },
     "metadata": {},
     "output_type": "display_data"
    },
    {
     "data": {
      "application/javascript": [
       "(function(root) {\n",
       "  function embed_document(root) {\n",
       "    var docs_json = {\"61e1bcf6-40ef-455a-8b6b-0f202fe82cae\":{\"roots\":{\"references\":[{\"attributes\":{\"below\":[{\"id\":\"abd954e0-5e13-4729-b1ad-893cdfca3e54\",\"type\":\"CategoricalAxis\"}],\"left\":[{\"id\":\"3ec2da6a-fdde-4425-b8dc-113276e812e1\",\"type\":\"LinearAxis\"}],\"plot_height\":300,\"plot_width\":300,\"renderers\":[{\"id\":\"abd954e0-5e13-4729-b1ad-893cdfca3e54\",\"type\":\"CategoricalAxis\"},{\"id\":\"7377f50f-801e-4a5a-a5e7-1e8ccb1fea40\",\"type\":\"Grid\"},{\"id\":\"3ec2da6a-fdde-4425-b8dc-113276e812e1\",\"type\":\"LinearAxis\"},{\"id\":\"d2e15732-f06f-4a9c-ad21-cecea1251f1d\",\"type\":\"Grid\"},{\"id\":\"c0633d12-393e-4053-9ea3-bc7bdbd065f9\",\"type\":\"BoxAnnotation\"},{\"id\":\"aee710b7-663e-4afc-bc0e-8dede5fdd26c\",\"type\":\"GlyphRenderer\"}],\"title\":{\"id\":\"2801f54a-50eb-4f8b-8df8-553f712c2eb6\",\"type\":\"Title\"},\"toolbar\":{\"id\":\"17da4932-9201-400e-8f7f-11b2fb83cdf7\",\"type\":\"Toolbar\"},\"toolbar_location\":null,\"x_range\":{\"id\":\"4c16489b-acdb-48e2-abc7-558bbfa526a9\",\"type\":\"FactorRange\"},\"x_scale\":{\"id\":\"b39089d8-6846-455f-9413-6bc7ba3f8463\",\"type\":\"CategoricalScale\"},\"y_range\":{\"id\":\"31b9651e-79af-46ec-a0f8-5cbad7cabfb7\",\"type\":\"DataRange1d\"},\"y_scale\":{\"id\":\"13b34a85-4f09-4adb-8254-d69afe3eb45b\",\"type\":\"LinearScale\"}},\"id\":\"8614bcb0-e6d4-4c71-bac1-417817394ad5\",\"subtype\":\"Figure\",\"type\":\"Plot\"},{\"attributes\":{\"formatter\":{\"id\":\"80821f9c-3713-4ff5-8a97-c587ebee8b49\",\"type\":\"BasicTickFormatter\"},\"plot\":{\"id\":\"cc74040d-8f9b-4583-a964-cd9dd0963f9e\",\"subtype\":\"Figure\",\"type\":\"Plot\"},\"ticker\":{\"id\":\"59884b14-d319-42d9-a08b-f2f1594a23b4\",\"type\":\"BasicTicker\"}},\"id\":\"4ef3b58b-12d9-4a79-99b0-25d7e5be4e87\",\"type\":\"LinearAxis\"},{\"attributes\":{\"plot\":null,\"text\":\"Brecha\"},\"id\":\"314e9a15-0908-43c2-b627-3342e1400b56\",\"type\":\"Title\"},{\"attributes\":{\"callback\":null,\"factors\":[\"2008\",\"2009\",\"2010\",\"2011\",\"2012\",\"2013\",\"2014\",\"2015\",\"2016\",\"2017\"]},\"id\":\"4c16489b-acdb-48e2-abc7-558bbfa526a9\",\"type\":\"FactorRange\"},{\"attributes\":{\"active_drag\":\"auto\",\"active_inspect\":\"auto\",\"active_scroll\":\"auto\",\"active_tap\":\"auto\",\"tools\":[{\"id\":\"c01279ef-6e2a-46bf-9663-86a1c12e5001\",\"type\":\"PanTool\"},{\"id\":\"1f1facc3-8844-4782-992e-daf3dbf744eb\",\"type\":\"WheelZoomTool\"},{\"id\":\"459bfa0d-da88-4ee4-87d3-1a167418e7fe\",\"type\":\"BoxZoomTool\"},{\"id\":\"6708aa85-582c-4a76-9be8-d6629063b624\",\"type\":\"SaveTool\"},{\"id\":\"a85911d6-d6b4-4f79-af21-0fdf0351ce2c\",\"type\":\"ResetTool\"},{\"id\":\"f9cb6fc0-23ba-4bbe-a556-ee801150dfc6\",\"type\":\"HelpTool\"}]},\"id\":\"17da4932-9201-400e-8f7f-11b2fb83cdf7\",\"type\":\"Toolbar\"},{\"attributes\":{\"children\":[{\"id\":\"8614bcb0-e6d4-4c71-bac1-417817394ad5\",\"subtype\":\"Figure\",\"type\":\"Plot\"},{\"id\":\"cc74040d-8f9b-4583-a964-cd9dd0963f9e\",\"subtype\":\"Figure\",\"type\":\"Plot\"},{\"id\":\"9926b79c-01c6-4527-bb2e-b3f644332266\",\"subtype\":\"Figure\",\"type\":\"Plot\"}]},\"id\":\"d7301dcd-d077-4ec2-9d4e-d4445a68fc66\",\"type\":\"Row\"},{\"attributes\":{\"formatter\":{\"id\":\"e2c0494c-ef7b-460b-939f-176664f4e857\",\"type\":\"BasicTickFormatter\"},\"plot\":{\"id\":\"8614bcb0-e6d4-4c71-bac1-417817394ad5\",\"subtype\":\"Figure\",\"type\":\"Plot\"},\"ticker\":{\"id\":\"d0351e65-4f90-4efe-afac-2e1985c0258e\",\"type\":\"BasicTicker\"}},\"id\":\"3ec2da6a-fdde-4425-b8dc-113276e812e1\",\"type\":\"LinearAxis\"},{\"attributes\":{\"formatter\":{\"id\":\"a12669a0-f19e-4b3c-9ea9-c8df1b58bc8a\",\"type\":\"CategoricalTickFormatter\"},\"plot\":{\"id\":\"cc74040d-8f9b-4583-a964-cd9dd0963f9e\",\"subtype\":\"Figure\",\"type\":\"Plot\"},\"ticker\":{\"id\":\"a6694588-3ee3-416f-bfdb-7776b2e71a3f\",\"type\":\"CategoricalTicker\"}},\"id\":\"b37affb9-effe-44cc-93e0-832342076268\",\"type\":\"CategoricalAxis\"},{\"attributes\":{\"callback\":null},\"id\":\"31b9651e-79af-46ec-a0f8-5cbad7cabfb7\",\"type\":\"DataRange1d\"},{\"attributes\":{},\"id\":\"80821f9c-3713-4ff5-8a97-c587ebee8b49\",\"type\":\"BasicTickFormatter\"},{\"attributes\":{\"plot\":{\"id\":\"cc74040d-8f9b-4583-a964-cd9dd0963f9e\",\"subtype\":\"Figure\",\"type\":\"Plot\"},\"ticker\":{\"id\":\"a6694588-3ee3-416f-bfdb-7776b2e71a3f\",\"type\":\"CategoricalTicker\"}},\"id\":\"03240072-e78b-44b2-a572-17a1aa7b27f3\",\"type\":\"Grid\"},{\"attributes\":{},\"id\":\"b39089d8-6846-455f-9413-6bc7ba3f8463\",\"type\":\"CategoricalScale\"},{\"attributes\":{},\"id\":\"13b34a85-4f09-4adb-8254-d69afe3eb45b\",\"type\":\"LinearScale\"},{\"attributes\":{\"fill_alpha\":{\"value\":0.1},\"fill_color\":{\"value\":\"#1f77b4\"},\"line_alpha\":{\"value\":0.1},\"line_color\":{\"value\":\"#1f77b4\"},\"top\":{\"field\":\"Brecha_mean\"},\"width\":{\"value\":0.7},\"x\":{\"field\":\"Anios\"}},\"id\":\"e74ca7c6-6f4a-4b74-a1ac-c48eac5b549e\",\"type\":\"VBar\"},{\"attributes\":{\"plot\":{\"id\":\"8614bcb0-e6d4-4c71-bac1-417817394ad5\",\"subtype\":\"Figure\",\"type\":\"Plot\"},\"ticker\":{\"id\":\"c7b01277-eb09-474d-9434-c0a2e6e3654a\",\"type\":\"CategoricalTicker\"}},\"id\":\"7377f50f-801e-4a5a-a5e7-1e8ccb1fea40\",\"type\":\"Grid\"},{\"attributes\":{\"fill_color\":{\"value\":\"#f4d341\"},\"line_color\":{\"value\":\"white\"},\"top\":{\"field\":\"Incidencia_mean\"},\"width\":{\"value\":0.7},\"x\":{\"field\":\"Anios\"}},\"id\":\"aa4e9ad2-7665-4f64-992b-9beed66ba460\",\"type\":\"VBar\"},{\"attributes\":{\"sizing_mode\":\"scale_width\",\"toolbar_location\":\"above\",\"tools\":[{\"id\":\"c01279ef-6e2a-46bf-9663-86a1c12e5001\",\"type\":\"PanTool\"},{\"id\":\"1f1facc3-8844-4782-992e-daf3dbf744eb\",\"type\":\"WheelZoomTool\"},{\"id\":\"459bfa0d-da88-4ee4-87d3-1a167418e7fe\",\"type\":\"BoxZoomTool\"},{\"id\":\"6708aa85-582c-4a76-9be8-d6629063b624\",\"type\":\"SaveTool\"},{\"id\":\"a85911d6-d6b4-4f79-af21-0fdf0351ce2c\",\"type\":\"ResetTool\"},{\"id\":\"f9cb6fc0-23ba-4bbe-a556-ee801150dfc6\",\"type\":\"HelpTool\"},{\"id\":\"52eb60b3-a580-4208-9d6d-fd1786edea20\",\"type\":\"PanTool\"},{\"id\":\"810ec609-5992-4cdb-a638-52f163c7179b\",\"type\":\"WheelZoomTool\"},{\"id\":\"413ee797-0846-4546-a643-64b83d2a34ce\",\"type\":\"BoxZoomTool\"},{\"id\":\"f0a359c8-3b72-4cd3-9037-f9eb2871a607\",\"type\":\"SaveTool\"},{\"id\":\"c57f6484-dc29-43ec-84fd-6afb5bace848\",\"type\":\"ResetTool\"},{\"id\":\"6c5327bb-4a39-4392-86e6-696a8a32207e\",\"type\":\"HelpTool\"},{\"id\":\"90b5d14f-2b82-46d5-9c7a-f5dc116b44f7\",\"type\":\"PanTool\"},{\"id\":\"99e4f7e3-459f-4912-95cb-dfa88ccb6696\",\"type\":\"WheelZoomTool\"},{\"id\":\"f049b0e3-71e2-4d5e-a89b-c5ed54ab3fb8\",\"type\":\"BoxZoomTool\"},{\"id\":\"8d976039-e70b-44b4-bc5b-bd6a8a916430\",\"type\":\"SaveTool\"},{\"id\":\"9da7ad9c-e5e2-4592-98b3-a84a77d6a646\",\"type\":\"ResetTool\"},{\"id\":\"c3ad1106-8750-456b-8e4f-0acf598ba813\",\"type\":\"HelpTool\"}]},\"id\":\"e43449e4-1c69-4f25-958c-a19260bd8481\",\"type\":\"ToolbarBox\"},{\"attributes\":{\"formatter\":{\"id\":\"6a94f3f7-41e5-4afc-bc4c-adf9e1607162\",\"type\":\"CategoricalTickFormatter\"},\"plot\":{\"id\":\"8614bcb0-e6d4-4c71-bac1-417817394ad5\",\"subtype\":\"Figure\",\"type\":\"Plot\"},\"ticker\":{\"id\":\"c7b01277-eb09-474d-9434-c0a2e6e3654a\",\"type\":\"CategoricalTicker\"}},\"id\":\"abd954e0-5e13-4729-b1ad-893cdfca3e54\",\"type\":\"CategoricalAxis\"},{\"attributes\":{\"fill_alpha\":{\"value\":0.1},\"fill_color\":{\"value\":\"#1f77b4\"},\"line_alpha\":{\"value\":0.1},\"line_color\":{\"value\":\"#1f77b4\"},\"top\":{\"field\":\"Incidencia_mean\"},\"width\":{\"value\":0.7},\"x\":{\"field\":\"Anios\"}},\"id\":\"e13e442a-edf8-4351-a5da-473b2ee7d283\",\"type\":\"VBar\"},{\"attributes\":{},\"id\":\"c7b01277-eb09-474d-9434-c0a2e6e3654a\",\"type\":\"CategoricalTicker\"},{\"attributes\":{},\"id\":\"6a94f3f7-41e5-4afc-bc4c-adf9e1607162\",\"type\":\"CategoricalTickFormatter\"},{\"attributes\":{\"data_source\":{\"id\":\"e08c74f0-8c9f-4c2b-810d-0a7a97c5b2ef\",\"type\":\"ColumnDataSource\"},\"glyph\":{\"id\":\"aa4e9ad2-7665-4f64-992b-9beed66ba460\",\"type\":\"VBar\"},\"hover_glyph\":null,\"muted_glyph\":null,\"nonselection_glyph\":{\"id\":\"e13e442a-edf8-4351-a5da-473b2ee7d283\",\"type\":\"VBar\"},\"selection_glyph\":null,\"view\":{\"id\":\"772edd0a-e0a6-4f23-8f6c-9e5709407d39\",\"type\":\"CDSView\"}},\"id\":\"aee710b7-663e-4afc-bc0e-8dede5fdd26c\",\"type\":\"GlyphRenderer\"},{\"attributes\":{\"callback\":null,\"factors\":[\"2008\",\"2009\",\"2010\",\"2011\",\"2012\",\"2013\",\"2014\",\"2015\",\"2016\",\"2017\"]},\"id\":\"1c5bfab8-d8c9-404d-8093-5e0b81cccb36\",\"type\":\"FactorRange\"},{\"attributes\":{},\"id\":\"d0351e65-4f90-4efe-afac-2e1985c0258e\",\"type\":\"BasicTicker\"},{\"attributes\":{},\"id\":\"e2c0494c-ef7b-460b-939f-176664f4e857\",\"type\":\"BasicTickFormatter\"},{\"attributes\":{\"dimension\":1,\"plot\":{\"id\":\"8614bcb0-e6d4-4c71-bac1-417817394ad5\",\"subtype\":\"Figure\",\"type\":\"Plot\"},\"ticker\":{\"id\":\"d0351e65-4f90-4efe-afac-2e1985c0258e\",\"type\":\"BasicTicker\"}},\"id\":\"d2e15732-f06f-4a9c-ad21-cecea1251f1d\",\"type\":\"Grid\"},{\"attributes\":{\"source\":{\"id\":\"e08c74f0-8c9f-4c2b-810d-0a7a97c5b2ef\",\"type\":\"ColumnDataSource\"}},\"id\":\"772edd0a-e0a6-4f23-8f6c-9e5709407d39\",\"type\":\"CDSView\"},{\"attributes\":{\"children\":[{\"id\":\"e43449e4-1c69-4f25-958c-a19260bd8481\",\"type\":\"ToolbarBox\"},{\"id\":\"4823b202-b1b8-4342-8672-a0d38cbb95bc\",\"type\":\"Column\"}]},\"id\":\"8b009ed5-e8da-42aa-adf6-b480f3e33e04\",\"type\":\"Column\"},{\"attributes\":{\"data_source\":{\"id\":\"e08c74f0-8c9f-4c2b-810d-0a7a97c5b2ef\",\"type\":\"ColumnDataSource\"},\"glyph\":{\"id\":\"675029f7-bc11-4913-8d73-3deba7cc6dd4\",\"type\":\"VBar\"},\"hover_glyph\":null,\"muted_glyph\":null,\"nonselection_glyph\":{\"id\":\"e74ca7c6-6f4a-4b74-a1ac-c48eac5b549e\",\"type\":\"VBar\"},\"selection_glyph\":null,\"view\":{\"id\":\"c83c485f-bf2c-4059-906f-3dcaff7cca63\",\"type\":\"CDSView\"}},\"id\":\"cbf6c969-d5d9-4114-b51a-81888cbb51e1\",\"type\":\"GlyphRenderer\"},{\"attributes\":{\"active_drag\":\"auto\",\"active_inspect\":\"auto\",\"active_scroll\":\"auto\",\"active_tap\":\"auto\",\"tools\":[{\"id\":\"52eb60b3-a580-4208-9d6d-fd1786edea20\",\"type\":\"PanTool\"},{\"id\":\"810ec609-5992-4cdb-a638-52f163c7179b\",\"type\":\"WheelZoomTool\"},{\"id\":\"413ee797-0846-4546-a643-64b83d2a34ce\",\"type\":\"BoxZoomTool\"},{\"id\":\"f0a359c8-3b72-4cd3-9037-f9eb2871a607\",\"type\":\"SaveTool\"},{\"id\":\"c57f6484-dc29-43ec-84fd-6afb5bace848\",\"type\":\"ResetTool\"},{\"id\":\"6c5327bb-4a39-4392-86e6-696a8a32207e\",\"type\":\"HelpTool\"}]},\"id\":\"91719bdc-5256-4b85-ab81-1b82ec9a0dc1\",\"type\":\"Toolbar\"},{\"attributes\":{\"bottom_units\":\"screen\",\"fill_alpha\":{\"value\":0.5},\"fill_color\":{\"value\":\"lightgrey\"},\"left_units\":\"screen\",\"level\":\"overlay\",\"line_alpha\":{\"value\":1.0},\"line_color\":{\"value\":\"black\"},\"line_dash\":[4,4],\"line_width\":{\"value\":2},\"plot\":null,\"render_mode\":\"css\",\"right_units\":\"screen\",\"top_units\":\"screen\"},\"id\":\"c0633d12-393e-4053-9ea3-bc7bdbd065f9\",\"type\":\"BoxAnnotation\"},{\"attributes\":{\"callback\":null,\"column_names\":[\"Brecha_count\",\"Brecha_mean\",\"Brecha_std\",\"Brecha_min\",\"Brecha_25%\",\"Brecha_50%\",\"Brecha_75%\",\"Brecha_max\",\"Incidencia_count\",\"Incidencia_mean\",\"Incidencia_std\",\"Incidencia_min\",\"Incidencia_25%\",\"Incidencia_50%\",\"Incidencia_75%\",\"Incidencia_max\",\"Severidad_count\",\"Severidad_mean\",\"Severidad_std\",\"Severidad_min\",\"Severidad_25%\",\"Severidad_50%\",\"Severidad_75%\",\"Severidad_max\",\"Anios\"],\"data\":{\"Anios\":[\"2008\",\"2009\",\"2010\",\"2011\",\"2012\",\"2013\",\"2014\",\"2015\",\"2016\",\"2017\"],\"Brecha_25%\":{\"__ndarray__\":\"j8L1KFyPCkCuR+F6FK4NQFyPwvUoXBFAuB6F61G4CkBSuB6F61EKQNejcD0K1wtAPQrXo3A9BkC4HoXrUbgEQArXo3A9CgVAMzMzMzMzA0A=\",\"dtype\":\"float64\",\"shape\":[10]},\"Brecha_50%\":{\"__ndarray__\":\"j8L1KFyPCkCuR+F6FK4NQFyPwvUoXBFAuB6F61G4CkBSuB6F61EKQNejcD0K1wtAPQrXo3A9BkC4HoXrUbgEQArXo3A9CgVAMzMzMzMzA0A=\",\"dtype\":\"float64\",\"shape\":[10]},\"Brecha_75%\":{\"__ndarray__\":\"j8L1KFyPCkCuR+F6FK4NQFyPwvUoXBFAuB6F61G4CkBSuB6F61EKQNejcD0K1wtAPQrXo3A9BkC4HoXrUbgEQArXo3A9CgVAMzMzMzMzA0A=\",\"dtype\":\"float64\",\"shape\":[10]},\"Brecha_count\":{\"__ndarray__\":\"AAAAAAAA8D8AAAAAAADwPwAAAAAAAPA/AAAAAAAA8D8AAAAAAADwPwAAAAAAAPA/AAAAAAAA8D8AAAAAAADwPwAAAAAAAPA/AAAAAAAA8D8=\",\"dtype\":\"float64\",\"shape\":[10]},\"Brecha_max\":{\"__ndarray__\":\"j8L1KFyPCkCuR+F6FK4NQFyPwvUoXBFAuB6F61G4CkBSuB6F61EKQNejcD0K1wtAPQrXo3A9BkC4HoXrUbgEQArXo3A9CgVAMzMzMzMzA0A=\",\"dtype\":\"float64\",\"shape\":[10]},\"Brecha_mean\":{\"__ndarray__\":\"j8L1KFyPCkCuR+F6FK4NQFyPwvUoXBFAuB6F61G4CkBSuB6F61EKQNejcD0K1wtAPQrXo3A9BkC4HoXrUbgEQArXo3A9CgVAMzMzMzMzA0A=\",\"dtype\":\"float64\",\"shape\":[10]},\"Brecha_min\":{\"__ndarray__\":\"j8L1KFyPCkCuR+F6FK4NQFyPwvUoXBFAuB6F61G4CkBSuB6F61EKQNejcD0K1wtAPQrXo3A9BkC4HoXrUbgEQArXo3A9CgVAMzMzMzMzA0A=\",\"dtype\":\"float64\",\"shape\":[10]},\"Brecha_std\":{\"__ndarray__\":\"AAAAAAAA+H8AAAAAAAD4fwAAAAAAAPh/AAAAAAAA+H8AAAAAAAD4fwAAAAAAAPh/AAAAAAAA+H8AAAAAAAD4fwAAAAAAAPh/AAAAAAAA+H8=\",\"dtype\":\"float64\",\"shape\":[10]},\"Incidencia_25%\":{\"__ndarray__\":\"ZmZmZmbmJEBSuB6F61EmQIXrUbgeBSpAKVyPwvWoJEBxPQrXo/AhQDMzMzMzsyVA16NwPQrXIUB7FK5H4XofQOxRuB6F6x9AZmZmZmZmHUA=\",\"dtype\":\"float64\",\"shape\":[10]},\"Incidencia_50%\":{\"__ndarray__\":\"ZmZmZmbmJEBSuB6F61EmQIXrUbgeBSpAKVyPwvWoJEBxPQrXo/AhQDMzMzMzsyVA16NwPQrXIUB7FK5H4XofQOxRuB6F6x9AZmZmZmZmHUA=\",\"dtype\":\"float64\",\"shape\":[10]},\"Incidencia_75%\":{\"__ndarray__\":\"ZmZmZmbmJEBSuB6F61EmQIXrUbgeBSpAKVyPwvWoJEBxPQrXo/AhQDMzMzMzsyVA16NwPQrXIUB7FK5H4XofQOxRuB6F6x9AZmZmZmZmHUA=\",\"dtype\":\"float64\",\"shape\":[10]},\"Incidencia_count\":{\"__ndarray__\":\"AAAAAAAA8D8AAAAAAADwPwAAAAAAAPA/AAAAAAAA8D8AAAAAAADwPwAAAAAAAPA/AAAAAAAA8D8AAAAAAADwPwAAAAAAAPA/AAAAAAAA8D8=\",\"dtype\":\"float64\",\"shape\":[10]},\"Incidencia_max\":{\"__ndarray__\":\"ZmZmZmbmJEBSuB6F61EmQIXrUbgeBSpAKVyPwvWoJEBxPQrXo/AhQDMzMzMzsyVA16NwPQrXIUB7FK5H4XofQOxRuB6F6x9AZmZmZmZmHUA=\",\"dtype\":\"float64\",\"shape\":[10]},\"Incidencia_mean\":{\"__ndarray__\":\"ZmZmZmbmJEBSuB6F61EmQIXrUbgeBSpAKVyPwvWoJEBxPQrXo/AhQDMzMzMzsyVA16NwPQrXIUB7FK5H4XofQOxRuB6F6x9AZmZmZmZmHUA=\",\"dtype\":\"float64\",\"shape\":[10]},\"Incidencia_min\":{\"__ndarray__\":\"ZmZmZmbmJEBSuB6F61EmQIXrUbgeBSpAKVyPwvWoJEBxPQrXo/AhQDMzMzMzsyVA16NwPQrXIUB7FK5H4XofQOxRuB6F6x9AZmZmZmZmHUA=\",\"dtype\":\"float64\",\"shape\":[10]},\"Incidencia_std\":{\"__ndarray__\":\"AAAAAAAA+H8AAAAAAAD4fwAAAAAAAPh/AAAAAAAA+H8AAAAAAAD4fwAAAAAAAPh/AAAAAAAA+H8AAAAAAAD4fwAAAAAAAPh/AAAAAAAA+H8=\",\"dtype\":\"float64\",\"shape\":[10]},\"Severidad_25%\":{\"__ndarray__\":\"KVyPwvUo/D+F61G4HoX/P3sUrkfhegJA9ihcj8L1/D9xPQrXo3D5P/YoXI/C9fg/PQrXo3A99j/NzMzMzMz0P3E9CtejcPU/rkfhehSu8z8=\",\"dtype\":\"float64\",\"shape\":[10]},\"Severidad_50%\":{\"__ndarray__\":\"KVyPwvUo/D+F61G4HoX/P3sUrkfhegJA9ihcj8L1/D9xPQrXo3D5P/YoXI/C9fg/PQrXo3A99j/NzMzMzMz0P3E9CtejcPU/rkfhehSu8z8=\",\"dtype\":\"float64\",\"shape\":[10]},\"Severidad_75%\":{\"__ndarray__\":\"KVyPwvUo/D+F61G4HoX/P3sUrkfhegJA9ihcj8L1/D9xPQrXo3D5P/YoXI/C9fg/PQrXo3A99j/NzMzMzMz0P3E9CtejcPU/rkfhehSu8z8=\",\"dtype\":\"float64\",\"shape\":[10]},\"Severidad_count\":{\"__ndarray__\":\"AAAAAAAA8D8AAAAAAADwPwAAAAAAAPA/AAAAAAAA8D8AAAAAAADwPwAAAAAAAPA/AAAAAAAA8D8AAAAAAADwPwAAAAAAAPA/AAAAAAAA8D8=\",\"dtype\":\"float64\",\"shape\":[10]},\"Severidad_max\":{\"__ndarray__\":\"KVyPwvUo/D+F61G4HoX/P3sUrkfhegJA9ihcj8L1/D9xPQrXo3D5P/YoXI/C9fg/PQrXo3A99j/NzMzMzMz0P3E9CtejcPU/rkfhehSu8z8=\",\"dtype\":\"float64\",\"shape\":[10]},\"Severidad_mean\":{\"__ndarray__\":\"KVyPwvUo/D+F61G4HoX/P3sUrkfhegJA9ihcj8L1/D9xPQrXo3D5P/YoXI/C9fg/PQrXo3A99j/NzMzMzMz0P3E9CtejcPU/rkfhehSu8z8=\",\"dtype\":\"float64\",\"shape\":[10]},\"Severidad_min\":{\"__ndarray__\":\"KVyPwvUo/D+F61G4HoX/P3sUrkfhegJA9ihcj8L1/D9xPQrXo3D5P/YoXI/C9fg/PQrXo3A99j/NzMzMzMz0P3E9CtejcPU/rkfhehSu8z8=\",\"dtype\":\"float64\",\"shape\":[10]},\"Severidad_std\":{\"__ndarray__\":\"AAAAAAAA+H8AAAAAAAD4fwAAAAAAAPh/AAAAAAAA+H8AAAAAAAD4fwAAAAAAAPh/AAAAAAAA+H8AAAAAAAD4fwAAAAAAAPh/AAAAAAAA+H8=\",\"dtype\":\"float64\",\"shape\":[10]}}},\"id\":\"e08c74f0-8c9f-4c2b-810d-0a7a97c5b2ef\",\"type\":\"ColumnDataSource\"},{\"attributes\":{\"fill_color\":{\"value\":\"#42f4bf\"},\"line_color\":{\"value\":\"white\"},\"top\":{\"field\":\"Brecha_mean\"},\"width\":{\"value\":0.7},\"x\":{\"field\":\"Anios\"}},\"id\":\"675029f7-bc11-4913-8d73-3deba7cc6dd4\",\"type\":\"VBar\"},{\"attributes\":{},\"id\":\"c01279ef-6e2a-46bf-9663-86a1c12e5001\",\"type\":\"PanTool\"},{\"attributes\":{},\"id\":\"de09d323-ae23-4244-887a-848476867c3d\",\"type\":\"CategoricalScale\"},{\"attributes\":{},\"id\":\"a12669a0-f19e-4b3c-9ea9-c8df1b58bc8a\",\"type\":\"CategoricalTickFormatter\"},{\"attributes\":{},\"id\":\"1f1facc3-8844-4782-992e-daf3dbf744eb\",\"type\":\"WheelZoomTool\"},{\"attributes\":{},\"id\":\"9b7b9461-fe11-4acb-b850-306945186a28\",\"type\":\"BasicTickFormatter\"},{\"attributes\":{\"overlay\":{\"id\":\"c0633d12-393e-4053-9ea3-bc7bdbd065f9\",\"type\":\"BoxAnnotation\"}},\"id\":\"459bfa0d-da88-4ee4-87d3-1a167418e7fe\",\"type\":\"BoxZoomTool\"},{\"attributes\":{\"source\":{\"id\":\"e08c74f0-8c9f-4c2b-810d-0a7a97c5b2ef\",\"type\":\"ColumnDataSource\"}},\"id\":\"c83c485f-bf2c-4059-906f-3dcaff7cca63\",\"type\":\"CDSView\"},{\"attributes\":{},\"id\":\"6708aa85-582c-4a76-9be8-d6629063b624\",\"type\":\"SaveTool\"},{\"attributes\":{},\"id\":\"a85911d6-d6b4-4f79-af21-0fdf0351ce2c\",\"type\":\"ResetTool\"},{\"attributes\":{\"fill_color\":{\"value\":\"#f44171\"},\"line_color\":{\"value\":\"white\"},\"top\":{\"field\":\"Severidad_mean\"},\"width\":{\"value\":0.7},\"x\":{\"field\":\"Anios\"}},\"id\":\"3aab6c80-2c78-4d82-99e5-018e3dcb2199\",\"type\":\"VBar\"},{\"attributes\":{},\"id\":\"f9cb6fc0-23ba-4bbe-a556-ee801150dfc6\",\"type\":\"HelpTool\"},{\"attributes\":{\"source\":{\"id\":\"e08c74f0-8c9f-4c2b-810d-0a7a97c5b2ef\",\"type\":\"ColumnDataSource\"}},\"id\":\"1da4b180-b5bc-47fe-be15-378d36778a40\",\"type\":\"CDSView\"},{\"attributes\":{\"callback\":null,\"factors\":[\"2008\",\"2009\",\"2010\",\"2011\",\"2012\",\"2013\",\"2014\",\"2015\",\"2016\",\"2017\"]},\"id\":\"aeac8607-7d28-4b49-a29b-38fab78c27fd\",\"type\":\"FactorRange\"},{\"attributes\":{\"fill_alpha\":{\"value\":0.1},\"fill_color\":{\"value\":\"#1f77b4\"},\"line_alpha\":{\"value\":0.1},\"line_color\":{\"value\":\"#1f77b4\"},\"top\":{\"field\":\"Severidad_mean\"},\"width\":{\"value\":0.7},\"x\":{\"field\":\"Anios\"}},\"id\":\"d8a2c073-a63e-4f7f-b61a-89743280e243\",\"type\":\"VBar\"},{\"attributes\":{\"callback\":null},\"id\":\"a5bf16ef-fa72-4d70-b912-b604112b35be\",\"type\":\"DataRange1d\"},{\"attributes\":{\"data_source\":{\"id\":\"e08c74f0-8c9f-4c2b-810d-0a7a97c5b2ef\",\"type\":\"ColumnDataSource\"},\"glyph\":{\"id\":\"3aab6c80-2c78-4d82-99e5-018e3dcb2199\",\"type\":\"VBar\"},\"hover_glyph\":null,\"muted_glyph\":null,\"nonselection_glyph\":{\"id\":\"d8a2c073-a63e-4f7f-b61a-89743280e243\",\"type\":\"VBar\"},\"selection_glyph\":null,\"view\":{\"id\":\"1da4b180-b5bc-47fe-be15-378d36778a40\",\"type\":\"CDSView\"}},\"id\":\"03705cb4-ef40-45b3-be0f-d0c329c97f24\",\"type\":\"GlyphRenderer\"},{\"attributes\":{},\"id\":\"7fb1f3af-f468-4c76-8e73-71b25a675845\",\"type\":\"LinearScale\"},{\"attributes\":{},\"id\":\"a6694588-3ee3-416f-bfdb-7776b2e71a3f\",\"type\":\"CategoricalTicker\"},{\"attributes\":{},\"id\":\"48ce99b2-ead5-4f91-9886-ae3b7178350f\",\"type\":\"CategoricalTickFormatter\"},{\"attributes\":{},\"id\":\"59884b14-d319-42d9-a08b-f2f1594a23b4\",\"type\":\"BasicTicker\"},{\"attributes\":{\"dimension\":1,\"plot\":{\"id\":\"cc74040d-8f9b-4583-a964-cd9dd0963f9e\",\"subtype\":\"Figure\",\"type\":\"Plot\"},\"ticker\":{\"id\":\"59884b14-d319-42d9-a08b-f2f1594a23b4\",\"type\":\"BasicTicker\"}},\"id\":\"f952b564-fa0b-41e4-819d-4d9da0322906\",\"type\":\"Grid\"},{\"attributes\":{\"below\":[{\"id\":\"b37affb9-effe-44cc-93e0-832342076268\",\"type\":\"CategoricalAxis\"}],\"left\":[{\"id\":\"4ef3b58b-12d9-4a79-99b0-25d7e5be4e87\",\"type\":\"LinearAxis\"}],\"plot_height\":300,\"plot_width\":300,\"renderers\":[{\"id\":\"b37affb9-effe-44cc-93e0-832342076268\",\"type\":\"CategoricalAxis\"},{\"id\":\"03240072-e78b-44b2-a572-17a1aa7b27f3\",\"type\":\"Grid\"},{\"id\":\"4ef3b58b-12d9-4a79-99b0-25d7e5be4e87\",\"type\":\"LinearAxis\"},{\"id\":\"f952b564-fa0b-41e4-819d-4d9da0322906\",\"type\":\"Grid\"},{\"id\":\"2f9a0b95-0ae0-4c51-bae0-db7d58f071a0\",\"type\":\"BoxAnnotation\"},{\"id\":\"cbf6c969-d5d9-4114-b51a-81888cbb51e1\",\"type\":\"GlyphRenderer\"}],\"title\":{\"id\":\"314e9a15-0908-43c2-b627-3342e1400b56\",\"type\":\"Title\"},\"toolbar\":{\"id\":\"91719bdc-5256-4b85-ab81-1b82ec9a0dc1\",\"type\":\"Toolbar\"},\"toolbar_location\":null,\"x_range\":{\"id\":\"1c5bfab8-d8c9-404d-8093-5e0b81cccb36\",\"type\":\"FactorRange\"},\"x_scale\":{\"id\":\"de09d323-ae23-4244-887a-848476867c3d\",\"type\":\"CategoricalScale\"},\"y_range\":{\"id\":\"a5bf16ef-fa72-4d70-b912-b604112b35be\",\"type\":\"DataRange1d\"},\"y_scale\":{\"id\":\"7fb1f3af-f468-4c76-8e73-71b25a675845\",\"type\":\"LinearScale\"}},\"id\":\"cc74040d-8f9b-4583-a964-cd9dd0963f9e\",\"subtype\":\"Figure\",\"type\":\"Plot\"},{\"attributes\":{\"active_drag\":\"auto\",\"active_inspect\":\"auto\",\"active_scroll\":\"auto\",\"active_tap\":\"auto\",\"tools\":[{\"id\":\"90b5d14f-2b82-46d5-9c7a-f5dc116b44f7\",\"type\":\"PanTool\"},{\"id\":\"99e4f7e3-459f-4912-95cb-dfa88ccb6696\",\"type\":\"WheelZoomTool\"},{\"id\":\"f049b0e3-71e2-4d5e-a89b-c5ed54ab3fb8\",\"type\":\"BoxZoomTool\"},{\"id\":\"8d976039-e70b-44b4-bc5b-bd6a8a916430\",\"type\":\"SaveTool\"},{\"id\":\"9da7ad9c-e5e2-4592-98b3-a84a77d6a646\",\"type\":\"ResetTool\"},{\"id\":\"c3ad1106-8750-456b-8e4f-0acf598ba813\",\"type\":\"HelpTool\"}]},\"id\":\"b5fc51ad-f176-4892-bc0a-5829eda7d2bb\",\"type\":\"Toolbar\"},{\"attributes\":{\"plot\":null,\"text\":\"Severidad\"},\"id\":\"26b35627-f345-4e1e-b796-69cce6db1bc4\",\"type\":\"Title\"},{\"attributes\":{\"bottom_units\":\"screen\",\"fill_alpha\":{\"value\":0.5},\"fill_color\":{\"value\":\"lightgrey\"},\"left_units\":\"screen\",\"level\":\"overlay\",\"line_alpha\":{\"value\":1.0},\"line_color\":{\"value\":\"black\"},\"line_dash\":[4,4],\"line_width\":{\"value\":2},\"plot\":null,\"render_mode\":\"css\",\"right_units\":\"screen\",\"top_units\":\"screen\"},\"id\":\"2f9a0b95-0ae0-4c51-bae0-db7d58f071a0\",\"type\":\"BoxAnnotation\"},{\"attributes\":{},\"id\":\"52eb60b3-a580-4208-9d6d-fd1786edea20\",\"type\":\"PanTool\"},{\"attributes\":{\"formatter\":{\"id\":\"9b7b9461-fe11-4acb-b850-306945186a28\",\"type\":\"BasicTickFormatter\"},\"plot\":{\"id\":\"9926b79c-01c6-4527-bb2e-b3f644332266\",\"subtype\":\"Figure\",\"type\":\"Plot\"},\"ticker\":{\"id\":\"b8f53af5-9be2-4542-9788-d1311b4b0746\",\"type\":\"BasicTicker\"}},\"id\":\"6dbc16e0-4b37-4c0a-b2a7-1006c9513c20\",\"type\":\"LinearAxis\"},{\"attributes\":{},\"id\":\"810ec609-5992-4cdb-a638-52f163c7179b\",\"type\":\"WheelZoomTool\"},{\"attributes\":{\"children\":[{\"id\":\"d7301dcd-d077-4ec2-9d4e-d4445a68fc66\",\"type\":\"Row\"}]},\"id\":\"4823b202-b1b8-4342-8672-a0d38cbb95bc\",\"type\":\"Column\"},{\"attributes\":{\"overlay\":{\"id\":\"2f9a0b95-0ae0-4c51-bae0-db7d58f071a0\",\"type\":\"BoxAnnotation\"}},\"id\":\"413ee797-0846-4546-a643-64b83d2a34ce\",\"type\":\"BoxZoomTool\"},{\"attributes\":{},\"id\":\"f0a359c8-3b72-4cd3-9037-f9eb2871a607\",\"type\":\"SaveTool\"},{\"attributes\":{},\"id\":\"c57f6484-dc29-43ec-84fd-6afb5bace848\",\"type\":\"ResetTool\"},{\"attributes\":{},\"id\":\"6c5327bb-4a39-4392-86e6-696a8a32207e\",\"type\":\"HelpTool\"},{\"attributes\":{},\"id\":\"89e2a31f-c97c-4446-99f9-987d9b4327eb\",\"type\":\"LinearScale\"},{\"attributes\":{},\"id\":\"1bb4c6cc-3144-4d2d-8fd6-8b53902fd685\",\"type\":\"CategoricalScale\"},{\"attributes\":{\"callback\":null},\"id\":\"a4237203-8fef-4358-a58c-cc80a45db657\",\"type\":\"DataRange1d\"},{\"attributes\":{\"plot\":{\"id\":\"9926b79c-01c6-4527-bb2e-b3f644332266\",\"subtype\":\"Figure\",\"type\":\"Plot\"},\"ticker\":{\"id\":\"4728a310-41cb-4a61-a851-2cb03dd1c07f\",\"type\":\"CategoricalTicker\"}},\"id\":\"256705f2-cd43-4377-addd-4e552062e394\",\"type\":\"Grid\"},{\"attributes\":{\"dimension\":1,\"plot\":{\"id\":\"9926b79c-01c6-4527-bb2e-b3f644332266\",\"subtype\":\"Figure\",\"type\":\"Plot\"},\"ticker\":{\"id\":\"b8f53af5-9be2-4542-9788-d1311b4b0746\",\"type\":\"BasicTicker\"}},\"id\":\"f54f718a-c461-4fa6-94f3-d27f5232cad8\",\"type\":\"Grid\"},{\"attributes\":{},\"id\":\"4728a310-41cb-4a61-a851-2cb03dd1c07f\",\"type\":\"CategoricalTicker\"},{\"attributes\":{\"formatter\":{\"id\":\"48ce99b2-ead5-4f91-9886-ae3b7178350f\",\"type\":\"CategoricalTickFormatter\"},\"plot\":{\"id\":\"9926b79c-01c6-4527-bb2e-b3f644332266\",\"subtype\":\"Figure\",\"type\":\"Plot\"},\"ticker\":{\"id\":\"4728a310-41cb-4a61-a851-2cb03dd1c07f\",\"type\":\"CategoricalTicker\"}},\"id\":\"26fc4bc8-f09f-4a45-8035-28cf1b42a8a3\",\"type\":\"CategoricalAxis\"},{\"attributes\":{},\"id\":\"b8f53af5-9be2-4542-9788-d1311b4b0746\",\"type\":\"BasicTicker\"},{\"attributes\":{\"bottom_units\":\"screen\",\"fill_alpha\":{\"value\":0.5},\"fill_color\":{\"value\":\"lightgrey\"},\"left_units\":\"screen\",\"level\":\"overlay\",\"line_alpha\":{\"value\":1.0},\"line_color\":{\"value\":\"black\"},\"line_dash\":[4,4],\"line_width\":{\"value\":2},\"plot\":null,\"render_mode\":\"css\",\"right_units\":\"screen\",\"top_units\":\"screen\"},\"id\":\"622eb430-48fe-405d-9d9b-8daef6379619\",\"type\":\"BoxAnnotation\"},{\"attributes\":{},\"id\":\"90b5d14f-2b82-46d5-9c7a-f5dc116b44f7\",\"type\":\"PanTool\"},{\"attributes\":{},\"id\":\"99e4f7e3-459f-4912-95cb-dfa88ccb6696\",\"type\":\"WheelZoomTool\"},{\"attributes\":{\"overlay\":{\"id\":\"622eb430-48fe-405d-9d9b-8daef6379619\",\"type\":\"BoxAnnotation\"}},\"id\":\"f049b0e3-71e2-4d5e-a89b-c5ed54ab3fb8\",\"type\":\"BoxZoomTool\"},{\"attributes\":{\"plot\":null,\"text\":\"Incidencia\"},\"id\":\"2801f54a-50eb-4f8b-8df8-553f712c2eb6\",\"type\":\"Title\"},{\"attributes\":{},\"id\":\"8d976039-e70b-44b4-bc5b-bd6a8a916430\",\"type\":\"SaveTool\"},{\"attributes\":{},\"id\":\"9da7ad9c-e5e2-4592-98b3-a84a77d6a646\",\"type\":\"ResetTool\"},{\"attributes\":{},\"id\":\"c3ad1106-8750-456b-8e4f-0acf598ba813\",\"type\":\"HelpTool\"},{\"attributes\":{\"below\":[{\"id\":\"26fc4bc8-f09f-4a45-8035-28cf1b42a8a3\",\"type\":\"CategoricalAxis\"}],\"left\":[{\"id\":\"6dbc16e0-4b37-4c0a-b2a7-1006c9513c20\",\"type\":\"LinearAxis\"}],\"plot_height\":300,\"plot_width\":300,\"renderers\":[{\"id\":\"26fc4bc8-f09f-4a45-8035-28cf1b42a8a3\",\"type\":\"CategoricalAxis\"},{\"id\":\"256705f2-cd43-4377-addd-4e552062e394\",\"type\":\"Grid\"},{\"id\":\"6dbc16e0-4b37-4c0a-b2a7-1006c9513c20\",\"type\":\"LinearAxis\"},{\"id\":\"f54f718a-c461-4fa6-94f3-d27f5232cad8\",\"type\":\"Grid\"},{\"id\":\"622eb430-48fe-405d-9d9b-8daef6379619\",\"type\":\"BoxAnnotation\"},{\"id\":\"03705cb4-ef40-45b3-be0f-d0c329c97f24\",\"type\":\"GlyphRenderer\"}],\"title\":{\"id\":\"26b35627-f345-4e1e-b796-69cce6db1bc4\",\"type\":\"Title\"},\"toolbar\":{\"id\":\"b5fc51ad-f176-4892-bc0a-5829eda7d2bb\",\"type\":\"Toolbar\"},\"toolbar_location\":null,\"x_range\":{\"id\":\"aeac8607-7d28-4b49-a29b-38fab78c27fd\",\"type\":\"FactorRange\"},\"x_scale\":{\"id\":\"1bb4c6cc-3144-4d2d-8fd6-8b53902fd685\",\"type\":\"CategoricalScale\"},\"y_range\":{\"id\":\"a4237203-8fef-4358-a58c-cc80a45db657\",\"type\":\"DataRange1d\"},\"y_scale\":{\"id\":\"89e2a31f-c97c-4446-99f9-987d9b4327eb\",\"type\":\"LinearScale\"}},\"id\":\"9926b79c-01c6-4527-bb2e-b3f644332266\",\"subtype\":\"Figure\",\"type\":\"Plot\"}],\"root_ids\":[\"8b009ed5-e8da-42aa-adf6-b480f3e33e04\"]},\"title\":\"Bokeh Application\",\"version\":\"0.12.10\"}};\n",
       "    var render_items = [{\"docid\":\"61e1bcf6-40ef-455a-8b6b-0f202fe82cae\",\"elementid\":\"5e7dbc11-4542-4656-801e-0f98f31bcf29\",\"modelid\":\"8b009ed5-e8da-42aa-adf6-b480f3e33e04\"}];\n",
       "\n",
       "    root.Bokeh.embed.embed_items(docs_json, render_items);\n",
       "  }\n",
       "\n",
       "  if (root.Bokeh !== undefined) {\n",
       "    embed_document(root);\n",
       "  } else {\n",
       "    var attempts = 0;\n",
       "    var timer = setInterval(function(root) {\n",
       "      if (root.Bokeh !== undefined) {\n",
       "        embed_document(root);\n",
       "        clearInterval(timer);\n",
       "      }\n",
       "      attempts++;\n",
       "      if (attempts > 100) {\n",
       "        console.log(\"Bokeh: ERROR: Unable to embed document because BokehJS library is missing\")\n",
       "        clearInterval(timer);\n",
       "      }\n",
       "    }, 10, root)\n",
       "  }\n",
       "})(window);"
      ],
      "application/vnd.bokehjs_exec.v0+json": ""
     },
     "metadata": {
      "application/vnd.bokehjs_exec.v0+json": {
       "id": "8b009ed5-e8da-42aa-adf6-b480f3e33e04"
      }
     },
     "output_type": "display_data"
    }
   ],
   "source": [
    "graph_bar = gridplot([[graph_bar_1, graph_bar_2, graph_bar_3]]) # agrupamos nuestas graficas\n",
    "show(graph_bar) # Mostramos los resultados"
   ]
  },
  {
   "cell_type": "markdown",
   "metadata": {},
   "source": [
    "**En este gráfico, podemos observar sobre la pobreza dependiendo de la incidencia, brecha y serenidad de la ciudad de quito desde el año 2008 hasta el 2016, ya que nos daremos cuenta en cada año como va aumentado y disminuyendo, de la misma. **"
   ]
  },
  {
   "cell_type": "markdown",
   "metadata": {},
   "source": [
    "## Grafico de pastel"
   ]
  },
  {
   "cell_type": "markdown",
   "metadata": {},
   "source": [
    "Importamos `pi` de la librería `numpy` para el Angulo en nuestras graficas\n",
    "\n",
    "Y `interact` de `ipywidgets` para poder interactuar con nuestra grafica"
   ]
  },
  {
   "cell_type": "code",
   "execution_count": 21,
   "metadata": {},
   "outputs": [],
   "source": [
    "from numpy import pi\n",
    "from ipywidgets import interact"
   ]
  },
  {
   "cell_type": "markdown",
   "metadata": {},
   "source": [
    "Creamos una variable contiene los parámetros de nuestra grafica final"
   ]
  },
  {
   "cell_type": "code",
   "execution_count": 22,
   "metadata": {},
   "outputs": [],
   "source": [
    "options = dict( # opciones que compartirán cada una de nuestras graficas\n",
    "    plot_width=300, plot_height=300 # Tamaño\n",
    ")"
   ]
  },
  {
   "cell_type": "markdown",
   "metadata": {},
   "source": [
    "Definimos cada una de las gráficas de pastel que representaremos, su título, la cuadricula que mostrara, y las opciones antes definidas de la gráfica anterior"
   ]
  },
  {
   "cell_type": "code",
   "execution_count": 23,
   "metadata": {},
   "outputs": [],
   "source": [
    "graph_pie_1 = figure(\n",
    "    title='Incidencia', # título de esta grafica en particular\n",
    "    x_range=(-1,1),\n",
    "    y_range=(-1,1),\n",
    "    **options\n",
    ")\n",
    "graph_pie_2 = figure(title='Brecha', x_range=(-1,1), y_range=(-1,1), **options)\n",
    "graph_pie_3 = figure(title='Severidad', x_range=(-1,1), y_range=(-1,1), **options)"
   ]
  },
  {
   "cell_type": "markdown",
   "metadata": {},
   "source": [
    "Definimos una función que será llamada cada vez que interactuemos con el slider"
   ]
  },
  {
   "cell_type": "code",
   "execution_count": 24,
   "metadata": {},
   "outputs": [],
   "source": [
    "def f(x):\n",
    "    graph_pie_1.wedge(\n",
    "        x=0, y=0, radius=0.8, # centro y radio\n",
    "        start_angle=[0.0, data.Incidencia[x]*2*pi/100], # valores donde inicia cada parte\n",
    "        end_angle=[data.Incidencia[x]*2*pi, 2*pi],  # valores donde termina cada parte del pastel\n",
    "        color=['#f4d341','#686060'] # color de cada parte\n",
    "    )\n",
    "    graph_pie_2.wedge(\n",
    "        x=0, y=0, radius=0.8, \n",
    "        start_angle=[0.0, data.Brecha[x]*2*pi/100], \n",
    "        end_angle=[data.Brecha[x]*2*pi, 2*pi], \n",
    "        color=['#42f4bf','#686060']\n",
    "    )\n",
    "    graph_pie_3.wedge(\n",
    "        x=0, y=0, radius=0.8, \n",
    "        start_angle=[0.0, data.Severidad[x]*2*pi/100], \n",
    "        end_angle=[data.Severidad[x]*2*pi, 2*pi], \n",
    "        color=['#f44171','#686060']\n",
    "    )\n",
    "    \n",
    "    \n",
    "    print(\"Año: \"+str(int(data.Anios[x])))\n",
    "    graph_pie = gridplot([[graph_pie_1, graph_pie_2, graph_pie_3]]) # agrupamos nuestras  graficas\n",
    "    show(graph_pie) # Mostramos los resultados"
   ]
  },
  {
   "cell_type": "markdown",
   "metadata": {},
   "source": [
    "Mostramos la gráfica y el slider con el que podremos interactuar"
   ]
  },
  {
   "cell_type": "code",
   "execution_count": 25,
   "metadata": {},
   "outputs": [
    {
     "data": {
      "application/vnd.jupyter.widget-view+json": {
       "model_id": "642e525fa5814077bca18fc08c072887",
       "version_major": 2,
       "version_minor": 0
      },
      "text/html": [
       "<p>Failed to display Jupyter Widget of type <code>interactive</code>.</p>\n",
       "<p>\n",
       "  If you're reading this message in the Jupyter Notebook or JupyterLab Notebook, it may mean\n",
       "  that the widgets JavaScript is still loading. If this message persists, it\n",
       "  likely means that the widgets JavaScript library is either not installed or\n",
       "  not enabled. See the <a href=\"https://ipywidgets.readthedocs.io/en/stable/user_install.html\">Jupyter\n",
       "  Widgets Documentation</a> for setup instructions.\n",
       "</p>\n",
       "<p>\n",
       "  If you're reading this message in another frontend (for example, a static\n",
       "  rendering on GitHub or <a href=\"https://nbviewer.jupyter.org/\">NBViewer</a>),\n",
       "  it may mean that your frontend doesn't currently support widgets.\n",
       "</p>\n"
      ],
      "text/plain": [
       "interactive(children=(IntSlider(value=5, description='x', max=10, min=1), Output()), _dom_classes=('widget-interact',))"
      ]
     },
     "metadata": {},
     "output_type": "display_data"
    }
   ],
   "source": [
    "interact(f, x=(1,10));"
   ]
  },
  {
   "cell_type": "markdown",
   "metadata": {},
   "source": [
    "**Con el slider podemos avanzar en el tiempo para poder observar que cada año se ha producido una disminución del porcentaje de pobreza**"
   ]
  },
  {
   "cell_type": "markdown",
   "metadata": {},
   "source": [
    "# Bibliografía \n",
    "----\n",
    "Este notebook fue realiza con jupyter notebook. - http://jupyter.org/\n",
    "\n",
    "Una página que utilizamos, para poder hacer las gráficas se utilizó bokeh. - https://bokeh.pydata.org/en/latest/\n",
    "\n",
    "Carga de datos Pandas. - https://pandas.pydata.org/\n",
    "\n",
    "Datos obtenidos de Ecuador en cifras. - http://www.ecuadorencifras.gob.ec/"
   ]
  }
 ],
 "metadata": {
  "kernelspec": {
   "display_name": "Python 3",
   "language": "python",
   "name": "python3"
  },
  "language_info": {
   "codemirror_mode": {
    "name": "ipython",
    "version": 3
   },
   "file_extension": ".py",
   "mimetype": "text/x-python",
   "name": "python",
   "nbconvert_exporter": "python",
   "pygments_lexer": "ipython3",
   "version": "3.6.3"
  }
 },
 "nbformat": 4,
 "nbformat_minor": 2
}
