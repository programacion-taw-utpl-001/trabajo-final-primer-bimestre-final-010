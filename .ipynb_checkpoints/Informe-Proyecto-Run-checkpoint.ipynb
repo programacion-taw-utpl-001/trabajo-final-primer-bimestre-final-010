{
 "cells": [
  {
   "cell_type": "markdown",
   "metadata": {},
   "source": [
    "# PROYECTO DE VISUALIZACION DE DATOS "
   ]
  },
  {
   "cell_type": "markdown",
   "metadata": {},
   "source": [
    "## SET DE DATOS\n",
    "----\n",
    "**Los datos que trabajaremos son del sitio web Ecuador en cifras, sobre la pobreza en ciudades como Quito, Guayaquil, y otras del Ecuador**"
   ]
  },
  {
   "cell_type": "markdown",
   "metadata": {},
   "source": [
    "Para poder cargar nuestro set de datos necesitamos importar la librería de `pandas`"
   ]
  },
  {
   "cell_type": "code",
   "execution_count": 20,
   "metadata": {},
   "outputs": [],
   "source": [
    "import pandas as pd"
   ]
  },
  {
   "cell_type": "markdown",
   "metadata": {},
   "source": [
    "Nuestro conjunto de datos está en formato `.csv`, por lo que usaremos `read_csv` de pandas."
   ]
  },
  {
   "cell_type": "code",
   "execution_count": 21,
   "metadata": {},
   "outputs": [],
   "source": [
    "# guardamos nuestra tabla en una variable data, después de haber sido leída por pandas\n",
    "raw_data = pd.read_csv(\n",
    "    './assets/datosPobreza.csv', # dirección donde esta nuestra data\n",
    "    sep=';', # separador de datos para ser leídos por pandas\n",
    "    decimal=\",\" # el separador, o sino nuestros números serán tratados como strings si contienen \"comas\"\n",
    ")"
   ]
  },
  {
   "cell_type": "markdown",
   "metadata": {},
   "source": [
    "`read_csv` devuelve un `DataFrame`, una estructura tabular de datos proporcionada por pandas. Un `DataFrame` está dotado de varios atributos y métodos útiles para explorar los datos."
   ]
  },
  {
   "cell_type": "markdown",
   "metadata": {},
   "source": [
    "Con la función `head()` sobre nuestro `DataFrame` podemos mostrar los primeras filas de nuestra data, para no presentar todas las filas. "
   ]
  },
  {
   "cell_type": "code",
   "execution_count": 22,
   "metadata": {},
   "outputs": [
    {
     "data": {
      "text/html": [
       "<div>\n",
       "<style scoped>\n",
       "    .dataframe tbody tr th:only-of-type {\n",
       "        vertical-align: middle;\n",
       "    }\n",
       "\n",
       "    .dataframe tbody tr th {\n",
       "        vertical-align: top;\n",
       "    }\n",
       "\n",
       "    .dataframe thead th {\n",
       "        text-align: right;\n",
       "    }\n",
       "</style>\n",
       "<table border=\"1\" class=\"dataframe\">\n",
       "  <thead>\n",
       "    <tr style=\"text-align: right;\">\n",
       "      <th></th>\n",
       "      <th>Período</th>\n",
       "      <th>Anios</th>\n",
       "      <th>Quito</th>\n",
       "      <th>Quito.1</th>\n",
       "      <th>Quito.2</th>\n",
       "      <th>Guayaquil</th>\n",
       "      <th>Guayaquil.1</th>\n",
       "      <th>Guayaquil.2</th>\n",
       "      <th>Cuenca</th>\n",
       "      <th>Cuenca.1</th>\n",
       "      <th>Cuenca.2</th>\n",
       "      <th>Machala</th>\n",
       "      <th>Machala.1</th>\n",
       "      <th>Machala.2</th>\n",
       "      <th>Ambato</th>\n",
       "      <th>Ambato.1</th>\n",
       "      <th>Ambato.2</th>\n",
       "    </tr>\n",
       "  </thead>\n",
       "  <tbody>\n",
       "    <tr>\n",
       "      <th>0</th>\n",
       "      <td>NaN</td>\n",
       "      <td>NaN</td>\n",
       "      <td>NaN</td>\n",
       "      <td>NaN</td>\n",
       "      <td>NaN</td>\n",
       "      <td>NaN</td>\n",
       "      <td>NaN</td>\n",
       "      <td>NaN</td>\n",
       "      <td>NaN</td>\n",
       "      <td>NaN</td>\n",
       "      <td>NaN</td>\n",
       "      <td>NaN</td>\n",
       "      <td>NaN</td>\n",
       "      <td>NaN</td>\n",
       "      <td>NaN</td>\n",
       "      <td>NaN</td>\n",
       "      <td>NaN</td>\n",
       "    </tr>\n",
       "    <tr>\n",
       "      <th>1</th>\n",
       "      <td>Marzo</td>\n",
       "      <td>2008.0</td>\n",
       "      <td>10.45</td>\n",
       "      <td>3.32</td>\n",
       "      <td>1.76</td>\n",
       "      <td>22.06</td>\n",
       "      <td>6.38</td>\n",
       "      <td>2.87</td>\n",
       "      <td>11.68</td>\n",
       "      <td>3.74</td>\n",
       "      <td>1.88</td>\n",
       "      <td>20.76</td>\n",
       "      <td>6.43</td>\n",
       "      <td>2.82</td>\n",
       "      <td>21.20</td>\n",
       "      <td>6.38</td>\n",
       "      <td>3.11</td>\n",
       "    </tr>\n",
       "    <tr>\n",
       "      <th>2</th>\n",
       "      <td>Marzo</td>\n",
       "      <td>2009.0</td>\n",
       "      <td>11.16</td>\n",
       "      <td>3.71</td>\n",
       "      <td>1.97</td>\n",
       "      <td>24.28</td>\n",
       "      <td>7.50</td>\n",
       "      <td>3.26</td>\n",
       "      <td>10.91</td>\n",
       "      <td>3.31</td>\n",
       "      <td>1.51</td>\n",
       "      <td>20.76</td>\n",
       "      <td>6.32</td>\n",
       "      <td>2.94</td>\n",
       "      <td>17.55</td>\n",
       "      <td>5.81</td>\n",
       "      <td>2.99</td>\n",
       "    </tr>\n",
       "    <tr>\n",
       "      <th>3</th>\n",
       "      <td>Marzo</td>\n",
       "      <td>2010.0</td>\n",
       "      <td>13.01</td>\n",
       "      <td>4.34</td>\n",
       "      <td>2.31</td>\n",
       "      <td>20.80</td>\n",
       "      <td>5.82</td>\n",
       "      <td>2.37</td>\n",
       "      <td>13.78</td>\n",
       "      <td>3.80</td>\n",
       "      <td>1.60</td>\n",
       "      <td>15.54</td>\n",
       "      <td>4.20</td>\n",
       "      <td>1.77</td>\n",
       "      <td>11.63</td>\n",
       "      <td>3.47</td>\n",
       "      <td>1.47</td>\n",
       "    </tr>\n",
       "    <tr>\n",
       "      <th>4</th>\n",
       "      <td>Marzo</td>\n",
       "      <td>2011.0</td>\n",
       "      <td>10.33</td>\n",
       "      <td>3.34</td>\n",
       "      <td>1.81</td>\n",
       "      <td>19.21</td>\n",
       "      <td>4.99</td>\n",
       "      <td>1.99</td>\n",
       "      <td>12.39</td>\n",
       "      <td>4.13</td>\n",
       "      <td>2.20</td>\n",
       "      <td>14.76</td>\n",
       "      <td>4.07</td>\n",
       "      <td>1.62</td>\n",
       "      <td>10.58</td>\n",
       "      <td>2.68</td>\n",
       "      <td>1.02</td>\n",
       "    </tr>\n",
       "  </tbody>\n",
       "</table>\n",
       "</div>"
      ],
      "text/plain": [
       "  Período   Anios  Quito  Quito.1  Quito.2  Guayaquil  Guayaquil.1  \\\n",
       "0     NaN     NaN    NaN      NaN      NaN        NaN          NaN   \n",
       "1   Marzo  2008.0  10.45     3.32     1.76      22.06         6.38   \n",
       "2   Marzo  2009.0  11.16     3.71     1.97      24.28         7.50   \n",
       "3   Marzo  2010.0  13.01     4.34     2.31      20.80         5.82   \n",
       "4   Marzo  2011.0  10.33     3.34     1.81      19.21         4.99   \n",
       "\n",
       "   Guayaquil.2  Cuenca  Cuenca.1  Cuenca.2  Machala  Machala.1  Machala.2  \\\n",
       "0          NaN     NaN       NaN       NaN      NaN        NaN        NaN   \n",
       "1         2.87   11.68      3.74      1.88    20.76       6.43       2.82   \n",
       "2         3.26   10.91      3.31      1.51    20.76       6.32       2.94   \n",
       "3         2.37   13.78      3.80      1.60    15.54       4.20       1.77   \n",
       "4         1.99   12.39      4.13      2.20    14.76       4.07       1.62   \n",
       "\n",
       "   Ambato  Ambato.1  Ambato.2  \n",
       "0     NaN       NaN       NaN  \n",
       "1   21.20      6.38      3.11  \n",
       "2   17.55      5.81      2.99  \n",
       "3   11.63      3.47      1.47  \n",
       "4   10.58      2.68      1.02  "
      ]
     },
     "execution_count": 22,
     "metadata": {},
     "output_type": "execute_result"
    }
   ],
   "source": [
    "raw_data.head()"
   ]
  },
  {
   "cell_type": "markdown",
   "metadata": {},
   "source": [
    "Con la función `[1:]` eliminamos la primera fila, ya que no son parte de los datos que usaremos"
   ]
  },
  {
   "cell_type": "code",
   "execution_count": 23,
   "metadata": {},
   "outputs": [],
   "source": [
    "raw_data = raw_data[1:]"
   ]
  },
  {
   "cell_type": "code",
   "execution_count": 24,
   "metadata": {},
   "outputs": [
    {
     "data": {
      "text/plain": [
       "(10, 17)"
      ]
     },
     "execution_count": 24,
     "metadata": {},
     "output_type": "execute_result"
    }
   ],
   "source": [
    "raw_data.shape  # números de campos de nuestra data"
   ]
  },
  {
   "cell_type": "markdown",
   "metadata": {},
   "source": [
    "Un `DataFrame` se compone de dos componentes principales; \n",
    " - Los datos mismos, que se pueden extraer a través del atributo de valores\n",
    " - Conjunto de índices, que son esencialmente etiquetas para las filas y columnas del DataFrame."
   ]
  },
  {
   "cell_type": "code",
   "execution_count": 25,
   "metadata": {},
   "outputs": [
    {
     "data": {
      "text/plain": [
       "RangeIndex(start=1, stop=11, step=1)"
      ]
     },
     "execution_count": 25,
     "metadata": {},
     "output_type": "execute_result"
    }
   ],
   "source": [
    "raw_data.index"
   ]
  },
  {
   "cell_type": "code",
   "execution_count": 26,
   "metadata": {},
   "outputs": [
    {
     "data": {
      "text/plain": [
       "Index(['Período', 'Anios', 'Quito', 'Quito.1', 'Quito.2', 'Guayaquil',\n",
       "       'Guayaquil.1', 'Guayaquil.2', 'Cuenca', 'Cuenca.1', 'Cuenca.2',\n",
       "       'Machala', 'Machala.1', 'Machala.2', 'Ambato', 'Ambato.1', 'Ambato.2'],\n",
       "      dtype='object')"
      ]
     },
     "execution_count": 26,
     "metadata": {},
     "output_type": "execute_result"
    }
   ],
   "source": [
    "raw_data.columns"
   ]
  },
  {
   "cell_type": "markdown",
   "metadata": {},
   "source": [
    "Pero, un `índice` es más que un conjunto de etiquetas. Es importante destacar que asegura la **alineación de datos** cuando se agregan datos o se combinan estructuras de datos.\n",
    "\n",
    "De hecho, podemos especificar un índice más apropiado para nuestros datos. El campo Año aquí es un índice único para los valores de análisis correspondientes.\n",
    "\n",
    "`set_index` nos permite convertir cualquier columna (o matriz externa) que elijamos en el índice de fila."
   ]
  },
  {
   "cell_type": "code",
   "execution_count": 27,
   "metadata": {},
   "outputs": [
    {
     "data": {
      "text/html": [
       "<div>\n",
       "<style scoped>\n",
       "    .dataframe tbody tr th:only-of-type {\n",
       "        vertical-align: middle;\n",
       "    }\n",
       "\n",
       "    .dataframe tbody tr th {\n",
       "        vertical-align: top;\n",
       "    }\n",
       "\n",
       "    .dataframe thead th {\n",
       "        text-align: right;\n",
       "    }\n",
       "</style>\n",
       "<table border=\"1\" class=\"dataframe\">\n",
       "  <thead>\n",
       "    <tr style=\"text-align: right;\">\n",
       "      <th></th>\n",
       "      <th>Período</th>\n",
       "      <th>Quito</th>\n",
       "      <th>Quito.1</th>\n",
       "      <th>Quito.2</th>\n",
       "      <th>Guayaquil</th>\n",
       "      <th>Guayaquil.1</th>\n",
       "      <th>Guayaquil.2</th>\n",
       "      <th>Cuenca</th>\n",
       "      <th>Cuenca.1</th>\n",
       "      <th>Cuenca.2</th>\n",
       "      <th>Machala</th>\n",
       "      <th>Machala.1</th>\n",
       "      <th>Machala.2</th>\n",
       "      <th>Ambato</th>\n",
       "      <th>Ambato.1</th>\n",
       "      <th>Ambato.2</th>\n",
       "    </tr>\n",
       "    <tr>\n",
       "      <th>Anios</th>\n",
       "      <th></th>\n",
       "      <th></th>\n",
       "      <th></th>\n",
       "      <th></th>\n",
       "      <th></th>\n",
       "      <th></th>\n",
       "      <th></th>\n",
       "      <th></th>\n",
       "      <th></th>\n",
       "      <th></th>\n",
       "      <th></th>\n",
       "      <th></th>\n",
       "      <th></th>\n",
       "      <th></th>\n",
       "      <th></th>\n",
       "      <th></th>\n",
       "    </tr>\n",
       "  </thead>\n",
       "  <tbody>\n",
       "    <tr>\n",
       "      <th>2008.0</th>\n",
       "      <td>Marzo</td>\n",
       "      <td>10.45</td>\n",
       "      <td>3.32</td>\n",
       "      <td>1.76</td>\n",
       "      <td>22.06</td>\n",
       "      <td>6.38</td>\n",
       "      <td>2.87</td>\n",
       "      <td>11.68</td>\n",
       "      <td>3.74</td>\n",
       "      <td>1.88</td>\n",
       "      <td>20.76</td>\n",
       "      <td>6.43</td>\n",
       "      <td>2.82</td>\n",
       "      <td>21.20</td>\n",
       "      <td>6.38</td>\n",
       "      <td>3.11</td>\n",
       "    </tr>\n",
       "    <tr>\n",
       "      <th>2009.0</th>\n",
       "      <td>Marzo</td>\n",
       "      <td>11.16</td>\n",
       "      <td>3.71</td>\n",
       "      <td>1.97</td>\n",
       "      <td>24.28</td>\n",
       "      <td>7.50</td>\n",
       "      <td>3.26</td>\n",
       "      <td>10.91</td>\n",
       "      <td>3.31</td>\n",
       "      <td>1.51</td>\n",
       "      <td>20.76</td>\n",
       "      <td>6.32</td>\n",
       "      <td>2.94</td>\n",
       "      <td>17.55</td>\n",
       "      <td>5.81</td>\n",
       "      <td>2.99</td>\n",
       "    </tr>\n",
       "  </tbody>\n",
       "</table>\n",
       "</div>"
      ],
      "text/plain": [
       "       Período  Quito  Quito.1  Quito.2  Guayaquil  Guayaquil.1  Guayaquil.2  \\\n",
       "Anios                                                                          \n",
       "2008.0   Marzo  10.45     3.32     1.76      22.06         6.38         2.87   \n",
       "2009.0   Marzo  11.16     3.71     1.97      24.28         7.50         3.26   \n",
       "\n",
       "        Cuenca  Cuenca.1  Cuenca.2  Machala  Machala.1  Machala.2  Ambato  \\\n",
       "Anios                                                                       \n",
       "2008.0   11.68      3.74      1.88    20.76       6.43       2.82   21.20   \n",
       "2009.0   10.91      3.31      1.51    20.76       6.32       2.94   17.55   \n",
       "\n",
       "        Ambato.1  Ambato.2  \n",
       "Anios                       \n",
       "2008.0      6.38      3.11  \n",
       "2009.0      5.81      2.99  "
      ]
     },
     "execution_count": 27,
     "metadata": {},
     "output_type": "execute_result"
    }
   ],
   "source": [
    "temp = raw_data.set_index('Anios')\n",
    "temp.head(2)"
   ]
  },
  {
   "cell_type": "markdown",
   "metadata": {},
   "source": [
    "## Data\n",
    "Para nuestra tabla agruparemos los datos de Quito para nuestras graficas"
   ]
  },
  {
   "cell_type": "code",
   "execution_count": 28,
   "metadata": {},
   "outputs": [
    {
     "data": {
      "text/html": [
       "<div>\n",
       "<style scoped>\n",
       "    .dataframe tbody tr th:only-of-type {\n",
       "        vertical-align: middle;\n",
       "    }\n",
       "\n",
       "    .dataframe tbody tr th {\n",
       "        vertical-align: top;\n",
       "    }\n",
       "\n",
       "    .dataframe thead th {\n",
       "        text-align: right;\n",
       "    }\n",
       "</style>\n",
       "<table border=\"1\" class=\"dataframe\">\n",
       "  <thead>\n",
       "    <tr style=\"text-align: right;\">\n",
       "      <th></th>\n",
       "      <th>Anios</th>\n",
       "      <th>Quito</th>\n",
       "      <th>Quito.1</th>\n",
       "      <th>Quito.2</th>\n",
       "    </tr>\n",
       "  </thead>\n",
       "  <tbody>\n",
       "    <tr>\n",
       "      <th>1</th>\n",
       "      <td>2008</td>\n",
       "      <td>10.45</td>\n",
       "      <td>3.32</td>\n",
       "      <td>1.76</td>\n",
       "    </tr>\n",
       "  </tbody>\n",
       "</table>\n",
       "</div>"
      ],
      "text/plain": [
       "  Anios  Quito  Quito.1  Quito.2\n",
       "1  2008  10.45     3.32     1.76"
      ]
     },
     "execution_count": 28,
     "metadata": {},
     "output_type": "execute_result"
    }
   ],
   "source": [
    "data = raw_data.drop(['Período', 'Guayaquil', 'Guayaquil.1', 'Guayaquil.2', 'Cuenca', 'Cuenca.1', 'Cuenca.2', 'Machala', 'Machala.1', 'Machala.2', 'Ambato', 'Ambato.1', 'Ambato.2'], axis=1)\n",
    "data['Anios'] = data['Anios'].astype(int).astype(str)\n",
    "data.head(1)"
   ]
  },
  {
   "cell_type": "markdown",
   "metadata": {},
   "source": [
    "Cambiaremos los nombres de las columnas de nuestra data para ver lo que representaremos"
   ]
  },
  {
   "cell_type": "code",
   "execution_count": 29,
   "metadata": {},
   "outputs": [
    {
     "data": {
      "text/html": [
       "<div>\n",
       "<style scoped>\n",
       "    .dataframe tbody tr th:only-of-type {\n",
       "        vertical-align: middle;\n",
       "    }\n",
       "\n",
       "    .dataframe tbody tr th {\n",
       "        vertical-align: top;\n",
       "    }\n",
       "\n",
       "    .dataframe thead th {\n",
       "        text-align: right;\n",
       "    }\n",
       "</style>\n",
       "<table border=\"1\" class=\"dataframe\">\n",
       "  <thead>\n",
       "    <tr style=\"text-align: right;\">\n",
       "      <th></th>\n",
       "      <th>Anios</th>\n",
       "      <th>Incidencia</th>\n",
       "      <th>Brecha</th>\n",
       "      <th>Severidad</th>\n",
       "    </tr>\n",
       "  </thead>\n",
       "  <tbody>\n",
       "    <tr>\n",
       "      <th>1</th>\n",
       "      <td>2008</td>\n",
       "      <td>10.45</td>\n",
       "      <td>3.32</td>\n",
       "      <td>1.76</td>\n",
       "    </tr>\n",
       "  </tbody>\n",
       "</table>\n",
       "</div>"
      ],
      "text/plain": [
       "  Anios  Incidencia  Brecha  Severidad\n",
       "1  2008       10.45    3.32       1.76"
      ]
     },
     "execution_count": 29,
     "metadata": {},
     "output_type": "execute_result"
    }
   ],
   "source": [
    "data.columns = ['Anios', 'Incidencia', 'Brecha', 'Severidad']\n",
    "data.head(1)"
   ]
  },
  {
   "cell_type": "markdown",
   "metadata": {},
   "source": [
    "### ¿Qué es incidencia de la pobreza?\n",
    "Número de personas pobres expresado como porcentaje del total de la población en un determinado año. Se define como \"pobres\" a aquellas personas que pertenecen a hogares cuyo consumo per cápita, en un período determinado, es inferior al valor de la línea de pobreza.\n",
    "### ¿Qué es la brecha de la pobreza?\n",
    "La línea de pobreza es el equivalente monetario del costo de una canasta básica de bienes y servicios. La brecha de la pobreza refleja cuan pobres son los pobres y, por tanto, proporciona una idea de la profundidad de las carencias de ingreso o consumo que definen una situación de pobreza.\n",
    "### ¿Qué es la severidad de la pobreza?\n",
    "P es un promedio (sobre la población total, n) de las distancias que separan a individuos u hogares de la línea de pobreza, ponderado por un exponente. El valor del exponente permite que la misma fórmula dé como resultado la incidencia, brecha y severidad de la pobreza como casos especiales de la medida."
   ]
  },
  {
   "cell_type": "markdown",
   "metadata": {},
   "source": [
    "## MARCO TEORICO \n",
    "----"
   ]
  },
  {
   "cell_type": "markdown",
   "metadata": {},
   "source": [
    "## Python \n",
    "\n",
    "Python es un lenguaje de programación interpretado cuya filosofía hace hincapié en una sintaxis que favorezca un código legible.\n",
    "\n",
    "Se trata de un lenguaje de programación multiparadigma, ya que soporta orientación a objetos, programación imperativa y, en menor medida, programación funcional. Es un lenguaje interpretado, usa tipado dinámico y es multiplataforma.\n",
    "\n",
    "\n",
    "## Pandas\n",
    "\n",
    "Pandas es una biblioteca de código abierto con licencia de BSD que proporciona estructuras de datos y herramientas de análisis de datos de alto rendimiento y fácil de usar para el lenguaje de programación Python.\n",
    "\n",
    "pandas es un proyecto patrocinado por NUMFocus. Esto ayudará a garantizar el éxito del desarrollo de los pandas como un proyecto de código abierto de clase mundial, y hace posible donar para el proyecto.\n",
    "\n",
    "## Bokeh\n",
    "\n",
    "Bokeh es una biblioteca de visualización interactiva de Python que se dirige a navegadores web modernos para su presentación. Su objetivo es proporcionar una construcción elegante y concisa de gráficos novedosos al estilo de D3.js y ampliar esta capacidad con interactividad de alto rendimiento en conjuntos de datos de gran tamaño o de transmisión"
   ]
  },
  {
   "cell_type": "markdown",
   "metadata": {},
   "source": [
    "## PROPUESTAS DE VISUALIZACION\n",
    "---\n",
    "**Para la visualización de datos se utilizo la librería bokeh**\n",
    "Con los datos descritos anterior mente utilizaremos bokeh como una manera grafica de visualizar nuestra tabla.\n",
    "\n",
    " - Usarnos gráficos de líneas para visualizar la diferencia que existe en nuestros datos\n",
    " - Utilizaremos gráficos de barras para visualizar la semejanza de los datos del mismo año\n",
    " - También utilizaremos gráficos de pastel interactivos con los que podremos observar la variación de datos dentro de nuestro rango de años."
   ]
  },
  {
   "cell_type": "markdown",
   "metadata": {},
   "source": [
    "Al usar la interfaz bokeh.plotting, necesitamos importar:\n",
    "\n",
    " - Use la función de `figure` para crear nuevos objetos de trazado para trabajar.\n",
    " - Las funciones `output_file`, `output_notebook` para indicar a Bokeh cómo mostrar el resultado."
   ]
  },
  {
   "cell_type": "code",
   "execution_count": 30,
   "metadata": {},
   "outputs": [],
   "source": [
    "from bokeh.io import show\n",
    "from bokeh.plotting import figure\n",
    "from bokeh.models import ColumnDataSource"
   ]
  },
  {
   "cell_type": "markdown",
   "metadata": {},
   "source": [
    "Importamos `gridplot` - para presentar varias graficas en una"
   ]
  },
  {
   "cell_type": "code",
   "execution_count": 31,
   "metadata": {},
   "outputs": [],
   "source": [
    "from bokeh.layouts import gridplot"
   ]
  },
  {
   "cell_type": "markdown",
   "metadata": {},
   "source": [
    "En este caso, estamos en `jupyter notebook`, así que llamamos a `output_notebook()`. Solo debemos llamar esto una vez para mostrar nuestras graficas en el cuaderno usando la función `show()` de bokeh."
   ]
  },
  {
   "cell_type": "code",
   "execution_count": 32,
   "metadata": {},
   "outputs": [
    {
     "data": {
      "text/html": [
       "\n",
       "    <div class=\"bk-root\">\n",
       "        <a href=\"https://bokeh.pydata.org\" target=\"_blank\" class=\"bk-logo bk-logo-small bk-logo-notebook\"></a>\n",
       "        <span id=\"b49514e7-2d20-47fb-8018-936dff3f276d\">Loading BokehJS ...</span>\n",
       "    </div>"
      ]
     },
     "metadata": {},
     "output_type": "display_data"
    },
    {
     "data": {
      "application/javascript": [
       "\n",
       "(function(root) {\n",
       "  function now() {\n",
       "    return new Date();\n",
       "  }\n",
       "\n",
       "  var force = true;\n",
       "\n",
       "  if (typeof (root._bokeh_onload_callbacks) === \"undefined\" || force === true) {\n",
       "    root._bokeh_onload_callbacks = [];\n",
       "    root._bokeh_is_loading = undefined;\n",
       "  }\n",
       "\n",
       "  var JS_MIME_TYPE = 'application/javascript';\n",
       "  var HTML_MIME_TYPE = 'text/html';\n",
       "  var EXEC_MIME_TYPE = 'application/vnd.bokehjs_exec.v0+json';\n",
       "  var CLASS_NAME = 'output_bokeh rendered_html';\n",
       "\n",
       "  /**\n",
       "   * Render data to the DOM node\n",
       "   */\n",
       "  function render(props, node) {\n",
       "    var script = document.createElement(\"script\");\n",
       "    node.appendChild(script);\n",
       "  }\n",
       "\n",
       "  /**\n",
       "   * Handle when an output is cleared or removed\n",
       "   */\n",
       "  function handleClearOutput(event, handle) {\n",
       "    var cell = handle.cell;\n",
       "\n",
       "    var id = cell.output_area._bokeh_element_id;\n",
       "    var server_id = cell.output_area._bokeh_server_id;\n",
       "    // Clean up Bokeh references\n",
       "    if (id !== undefined) {\n",
       "      Bokeh.index[id].model.document.clear();\n",
       "      delete Bokeh.index[id];\n",
       "    }\n",
       "\n",
       "    if (server_id !== undefined) {\n",
       "      // Clean up Bokeh references\n",
       "      var cmd = \"from bokeh.io.state import curstate; print(curstate().uuid_to_server['\" + server_id + \"'].get_sessions()[0].document.roots[0]._id)\";\n",
       "      cell.notebook.kernel.execute(cmd, {\n",
       "        iopub: {\n",
       "          output: function(msg) {\n",
       "            var element_id = msg.content.text.trim();\n",
       "            Bokeh.index[element_id].model.document.clear();\n",
       "            delete Bokeh.index[element_id];\n",
       "          }\n",
       "        }\n",
       "      });\n",
       "      // Destroy server and session\n",
       "      var cmd = \"import bokeh.io.notebook as ion; ion.destroy_server('\" + server_id + \"')\";\n",
       "      cell.notebook.kernel.execute(cmd);\n",
       "    }\n",
       "  }\n",
       "\n",
       "  /**\n",
       "   * Handle when a new output is added\n",
       "   */\n",
       "  function handleAddOutput(event, handle) {\n",
       "    var output_area = handle.output_area;\n",
       "    var output = handle.output;\n",
       "\n",
       "    // limit handleAddOutput to display_data with EXEC_MIME_TYPE content only\n",
       "    if ((output.output_type != \"display_data\") || (!output.data.hasOwnProperty(EXEC_MIME_TYPE))) {\n",
       "      return\n",
       "    }\n",
       "\n",
       "    var toinsert = output_area.element.find(`.${CLASS_NAME.split(' ')[0]}`);\n",
       "\n",
       "    if (output.metadata[EXEC_MIME_TYPE][\"id\"] !== undefined) {\n",
       "      toinsert[0].firstChild.textContent = output.data[JS_MIME_TYPE];\n",
       "      // store reference to embed id on output_area\n",
       "      output_area._bokeh_element_id = output.metadata[EXEC_MIME_TYPE][\"id\"];\n",
       "    }\n",
       "    if (output.metadata[EXEC_MIME_TYPE][\"server_id\"] !== undefined) {\n",
       "      var bk_div = document.createElement(\"div\");\n",
       "      bk_div.innerHTML = output.data[HTML_MIME_TYPE];\n",
       "      var script_attrs = bk_div.children[0].attributes;\n",
       "      for (var i = 0; i < script_attrs.length; i++) {\n",
       "        toinsert[0].firstChild.setAttribute(script_attrs[i].name, script_attrs[i].value);\n",
       "      }\n",
       "      // store reference to server id on output_area\n",
       "      output_area._bokeh_server_id = output.metadata[EXEC_MIME_TYPE][\"server_id\"];\n",
       "    }\n",
       "  }\n",
       "\n",
       "  function register_renderer(events, OutputArea) {\n",
       "\n",
       "    function append_mime(data, metadata, element) {\n",
       "      // create a DOM node to render to\n",
       "      var toinsert = this.create_output_subarea(\n",
       "        metadata,\n",
       "        CLASS_NAME,\n",
       "        EXEC_MIME_TYPE\n",
       "      );\n",
       "      this.keyboard_manager.register_events(toinsert);\n",
       "      // Render to node\n",
       "      var props = {data: data, metadata: metadata[EXEC_MIME_TYPE]};\n",
       "      render(props, toinsert[0]);\n",
       "      element.append(toinsert);\n",
       "      return toinsert\n",
       "    }\n",
       "\n",
       "    /* Handle when an output is cleared or removed */\n",
       "    events.on('clear_output.CodeCell', handleClearOutput);\n",
       "    events.on('delete.Cell', handleClearOutput);\n",
       "\n",
       "    /* Handle when a new output is added */\n",
       "    events.on('output_added.OutputArea', handleAddOutput);\n",
       "\n",
       "    /**\n",
       "     * Register the mime type and append_mime function with output_area\n",
       "     */\n",
       "    OutputArea.prototype.register_mime_type(EXEC_MIME_TYPE, append_mime, {\n",
       "      /* Is output safe? */\n",
       "      safe: true,\n",
       "      /* Index of renderer in `output_area.display_order` */\n",
       "      index: 0\n",
       "    });\n",
       "  }\n",
       "\n",
       "  // register the mime type if in Jupyter Notebook environment and previously unregistered\n",
       "  if (root.Jupyter !== undefined) {\n",
       "    var events = require('base/js/events');\n",
       "    var OutputArea = require('notebook/js/outputarea').OutputArea;\n",
       "\n",
       "    if (OutputArea.prototype.mime_types().indexOf(EXEC_MIME_TYPE) == -1) {\n",
       "      register_renderer(events, OutputArea);\n",
       "    }\n",
       "  }\n",
       "\n",
       "  \n",
       "  if (typeof (root._bokeh_timeout) === \"undefined\" || force === true) {\n",
       "    root._bokeh_timeout = Date.now() + 5000;\n",
       "    root._bokeh_failed_load = false;\n",
       "  }\n",
       "\n",
       "  var NB_LOAD_WARNING = {'data': {'text/html':\n",
       "     \"<div style='background-color: #fdd'>\\n\"+\n",
       "     \"<p>\\n\"+\n",
       "     \"BokehJS does not appear to have successfully loaded. If loading BokehJS from CDN, this \\n\"+\n",
       "     \"may be due to a slow or bad network connection. Possible fixes:\\n\"+\n",
       "     \"</p>\\n\"+\n",
       "     \"<ul>\\n\"+\n",
       "     \"<li>re-rerun `output_notebook()` to attempt to load from CDN again, or</li>\\n\"+\n",
       "     \"<li>use INLINE resources instead, as so:</li>\\n\"+\n",
       "     \"</ul>\\n\"+\n",
       "     \"<code>\\n\"+\n",
       "     \"from bokeh.resources import INLINE\\n\"+\n",
       "     \"output_notebook(resources=INLINE)\\n\"+\n",
       "     \"</code>\\n\"+\n",
       "     \"</div>\"}};\n",
       "\n",
       "  function display_loaded() {\n",
       "    var el = document.getElementById(\"b49514e7-2d20-47fb-8018-936dff3f276d\");\n",
       "    if (el != null) {\n",
       "      el.textContent = \"BokehJS is loading...\";\n",
       "    }\n",
       "    if (root.Bokeh !== undefined) {\n",
       "      if (el != null) {\n",
       "        el.textContent = \"BokehJS \" + root.Bokeh.version + \" successfully loaded.\";\n",
       "      }\n",
       "    } else if (Date.now() < root._bokeh_timeout) {\n",
       "      setTimeout(display_loaded, 100)\n",
       "    }\n",
       "  }\n",
       "\n",
       "\n",
       "  function run_callbacks() {\n",
       "    try {\n",
       "      root._bokeh_onload_callbacks.forEach(function(callback) { callback() });\n",
       "    }\n",
       "    finally {\n",
       "      delete root._bokeh_onload_callbacks\n",
       "    }\n",
       "    console.info(\"Bokeh: all callbacks have finished\");\n",
       "  }\n",
       "\n",
       "  function load_libs(js_urls, callback) {\n",
       "    root._bokeh_onload_callbacks.push(callback);\n",
       "    if (root._bokeh_is_loading > 0) {\n",
       "      console.log(\"Bokeh: BokehJS is being loaded, scheduling callback at\", now());\n",
       "      return null;\n",
       "    }\n",
       "    if (js_urls == null || js_urls.length === 0) {\n",
       "      run_callbacks();\n",
       "      return null;\n",
       "    }\n",
       "    console.log(\"Bokeh: BokehJS not loaded, scheduling load and callback at\", now());\n",
       "    root._bokeh_is_loading = js_urls.length;\n",
       "    for (var i = 0; i < js_urls.length; i++) {\n",
       "      var url = js_urls[i];\n",
       "      var s = document.createElement('script');\n",
       "      s.src = url;\n",
       "      s.async = false;\n",
       "      s.onreadystatechange = s.onload = function() {\n",
       "        root._bokeh_is_loading--;\n",
       "        if (root._bokeh_is_loading === 0) {\n",
       "          console.log(\"Bokeh: all BokehJS libraries loaded\");\n",
       "          run_callbacks()\n",
       "        }\n",
       "      };\n",
       "      s.onerror = function() {\n",
       "        console.warn(\"failed to load library \" + url);\n",
       "      };\n",
       "      console.log(\"Bokeh: injecting script tag for BokehJS library: \", url);\n",
       "      document.getElementsByTagName(\"head\")[0].appendChild(s);\n",
       "    }\n",
       "  };var element = document.getElementById(\"b49514e7-2d20-47fb-8018-936dff3f276d\");\n",
       "  if (element == null) {\n",
       "    console.log(\"Bokeh: ERROR: autoload.js configured with elementid 'b49514e7-2d20-47fb-8018-936dff3f276d' but no matching script tag was found. \")\n",
       "    return false;\n",
       "  }\n",
       "\n",
       "  var js_urls = [\"https://cdn.pydata.org/bokeh/release/bokeh-0.12.10.min.js\", \"https://cdn.pydata.org/bokeh/release/bokeh-widgets-0.12.10.min.js\", \"https://cdn.pydata.org/bokeh/release/bokeh-tables-0.12.10.min.js\", \"https://cdn.pydata.org/bokeh/release/bokeh-gl-0.12.10.min.js\"];\n",
       "\n",
       "  var inline_js = [\n",
       "    function(Bokeh) {\n",
       "      Bokeh.set_log_level(\"info\");\n",
       "    },\n",
       "    \n",
       "    function(Bokeh) {\n",
       "      \n",
       "    },\n",
       "    function(Bokeh) {\n",
       "      console.log(\"Bokeh: injecting CSS: https://cdn.pydata.org/bokeh/release/bokeh-0.12.10.min.css\");\n",
       "      Bokeh.embed.inject_css(\"https://cdn.pydata.org/bokeh/release/bokeh-0.12.10.min.css\");\n",
       "      console.log(\"Bokeh: injecting CSS: https://cdn.pydata.org/bokeh/release/bokeh-widgets-0.12.10.min.css\");\n",
       "      Bokeh.embed.inject_css(\"https://cdn.pydata.org/bokeh/release/bokeh-widgets-0.12.10.min.css\");\n",
       "      console.log(\"Bokeh: injecting CSS: https://cdn.pydata.org/bokeh/release/bokeh-tables-0.12.10.min.css\");\n",
       "      Bokeh.embed.inject_css(\"https://cdn.pydata.org/bokeh/release/bokeh-tables-0.12.10.min.css\");\n",
       "    }\n",
       "  ];\n",
       "\n",
       "  function run_inline_js() {\n",
       "    \n",
       "    if ((root.Bokeh !== undefined) || (force === true)) {\n",
       "      for (var i = 0; i < inline_js.length; i++) {\n",
       "        inline_js[i].call(root, root.Bokeh);\n",
       "      }if (force === true) {\n",
       "        display_loaded();\n",
       "      }} else if (Date.now() < root._bokeh_timeout) {\n",
       "      setTimeout(run_inline_js, 100);\n",
       "    } else if (!root._bokeh_failed_load) {\n",
       "      console.log(\"Bokeh: BokehJS failed to load within specified timeout.\");\n",
       "      root._bokeh_failed_load = true;\n",
       "    } else if (force !== true) {\n",
       "      var cell = $(document.getElementById(\"b49514e7-2d20-47fb-8018-936dff3f276d\")).parents('.cell').data().cell;\n",
       "      cell.output_area.append_execute_result(NB_LOAD_WARNING)\n",
       "    }\n",
       "\n",
       "  }\n",
       "\n",
       "  if (root._bokeh_is_loading === 0) {\n",
       "    console.log(\"Bokeh: BokehJS loaded, going straight to plotting\");\n",
       "    run_inline_js();\n",
       "  } else {\n",
       "    load_libs(js_urls, function() {\n",
       "      console.log(\"Bokeh: BokehJS plotting callback run at\", now());\n",
       "      run_inline_js();\n",
       "    });\n",
       "  }\n",
       "}(window));"
      ],
      "application/vnd.bokehjs_load.v0+json": "\n(function(root) {\n  function now() {\n    return new Date();\n  }\n\n  var force = true;\n\n  if (typeof (root._bokeh_onload_callbacks) === \"undefined\" || force === true) {\n    root._bokeh_onload_callbacks = [];\n    root._bokeh_is_loading = undefined;\n  }\n\n  \n\n  \n  if (typeof (root._bokeh_timeout) === \"undefined\" || force === true) {\n    root._bokeh_timeout = Date.now() + 5000;\n    root._bokeh_failed_load = false;\n  }\n\n  var NB_LOAD_WARNING = {'data': {'text/html':\n     \"<div style='background-color: #fdd'>\\n\"+\n     \"<p>\\n\"+\n     \"BokehJS does not appear to have successfully loaded. If loading BokehJS from CDN, this \\n\"+\n     \"may be due to a slow or bad network connection. Possible fixes:\\n\"+\n     \"</p>\\n\"+\n     \"<ul>\\n\"+\n     \"<li>re-rerun `output_notebook()` to attempt to load from CDN again, or</li>\\n\"+\n     \"<li>use INLINE resources instead, as so:</li>\\n\"+\n     \"</ul>\\n\"+\n     \"<code>\\n\"+\n     \"from bokeh.resources import INLINE\\n\"+\n     \"output_notebook(resources=INLINE)\\n\"+\n     \"</code>\\n\"+\n     \"</div>\"}};\n\n  function display_loaded() {\n    var el = document.getElementById(\"b49514e7-2d20-47fb-8018-936dff3f276d\");\n    if (el != null) {\n      el.textContent = \"BokehJS is loading...\";\n    }\n    if (root.Bokeh !== undefined) {\n      if (el != null) {\n        el.textContent = \"BokehJS \" + root.Bokeh.version + \" successfully loaded.\";\n      }\n    } else if (Date.now() < root._bokeh_timeout) {\n      setTimeout(display_loaded, 100)\n    }\n  }\n\n\n  function run_callbacks() {\n    try {\n      root._bokeh_onload_callbacks.forEach(function(callback) { callback() });\n    }\n    finally {\n      delete root._bokeh_onload_callbacks\n    }\n    console.info(\"Bokeh: all callbacks have finished\");\n  }\n\n  function load_libs(js_urls, callback) {\n    root._bokeh_onload_callbacks.push(callback);\n    if (root._bokeh_is_loading > 0) {\n      console.log(\"Bokeh: BokehJS is being loaded, scheduling callback at\", now());\n      return null;\n    }\n    if (js_urls == null || js_urls.length === 0) {\n      run_callbacks();\n      return null;\n    }\n    console.log(\"Bokeh: BokehJS not loaded, scheduling load and callback at\", now());\n    root._bokeh_is_loading = js_urls.length;\n    for (var i = 0; i < js_urls.length; i++) {\n      var url = js_urls[i];\n      var s = document.createElement('script');\n      s.src = url;\n      s.async = false;\n      s.onreadystatechange = s.onload = function() {\n        root._bokeh_is_loading--;\n        if (root._bokeh_is_loading === 0) {\n          console.log(\"Bokeh: all BokehJS libraries loaded\");\n          run_callbacks()\n        }\n      };\n      s.onerror = function() {\n        console.warn(\"failed to load library \" + url);\n      };\n      console.log(\"Bokeh: injecting script tag for BokehJS library: \", url);\n      document.getElementsByTagName(\"head\")[0].appendChild(s);\n    }\n  };var element = document.getElementById(\"b49514e7-2d20-47fb-8018-936dff3f276d\");\n  if (element == null) {\n    console.log(\"Bokeh: ERROR: autoload.js configured with elementid 'b49514e7-2d20-47fb-8018-936dff3f276d' but no matching script tag was found. \")\n    return false;\n  }\n\n  var js_urls = [\"https://cdn.pydata.org/bokeh/release/bokeh-0.12.10.min.js\", \"https://cdn.pydata.org/bokeh/release/bokeh-widgets-0.12.10.min.js\", \"https://cdn.pydata.org/bokeh/release/bokeh-tables-0.12.10.min.js\", \"https://cdn.pydata.org/bokeh/release/bokeh-gl-0.12.10.min.js\"];\n\n  var inline_js = [\n    function(Bokeh) {\n      Bokeh.set_log_level(\"info\");\n    },\n    \n    function(Bokeh) {\n      \n    },\n    function(Bokeh) {\n      console.log(\"Bokeh: injecting CSS: https://cdn.pydata.org/bokeh/release/bokeh-0.12.10.min.css\");\n      Bokeh.embed.inject_css(\"https://cdn.pydata.org/bokeh/release/bokeh-0.12.10.min.css\");\n      console.log(\"Bokeh: injecting CSS: https://cdn.pydata.org/bokeh/release/bokeh-widgets-0.12.10.min.css\");\n      Bokeh.embed.inject_css(\"https://cdn.pydata.org/bokeh/release/bokeh-widgets-0.12.10.min.css\");\n      console.log(\"Bokeh: injecting CSS: https://cdn.pydata.org/bokeh/release/bokeh-tables-0.12.10.min.css\");\n      Bokeh.embed.inject_css(\"https://cdn.pydata.org/bokeh/release/bokeh-tables-0.12.10.min.css\");\n    }\n  ];\n\n  function run_inline_js() {\n    \n    if ((root.Bokeh !== undefined) || (force === true)) {\n      for (var i = 0; i < inline_js.length; i++) {\n        inline_js[i].call(root, root.Bokeh);\n      }if (force === true) {\n        display_loaded();\n      }} else if (Date.now() < root._bokeh_timeout) {\n      setTimeout(run_inline_js, 100);\n    } else if (!root._bokeh_failed_load) {\n      console.log(\"Bokeh: BokehJS failed to load within specified timeout.\");\n      root._bokeh_failed_load = true;\n    } else if (force !== true) {\n      var cell = $(document.getElementById(\"b49514e7-2d20-47fb-8018-936dff3f276d\")).parents('.cell').data().cell;\n      cell.output_area.append_execute_result(NB_LOAD_WARNING)\n    }\n\n  }\n\n  if (root._bokeh_is_loading === 0) {\n    console.log(\"Bokeh: BokehJS loaded, going straight to plotting\");\n    run_inline_js();\n  } else {\n    load_libs(js_urls, function() {\n      console.log(\"Bokeh: BokehJS plotting callback run at\", now());\n      run_inline_js();\n    });\n  }\n}(window));"
     },
     "metadata": {},
     "output_type": "display_data"
    }
   ],
   "source": [
    "from bokeh.io import output_notebook\n",
    "output_notebook()"
   ]
  },
  {
   "cell_type": "markdown",
   "metadata": {},
   "source": [
    "# GRAFICAS\n",
    "----"
   ]
  },
  {
   "cell_type": "markdown",
   "metadata": {},
   "source": [
    "## Gráfico de Líneas"
   ]
  },
  {
   "cell_type": "code",
   "execution_count": 33,
   "metadata": {},
   "outputs": [],
   "source": [
    "group1 = data.groupby('Anios')\n",
    "\n",
    "source = ColumnDataSource(group1)"
   ]
  },
  {
   "cell_type": "code",
   "execution_count": 37,
   "metadata": {},
   "outputs": [
    {
     "data": {
      "text/html": [
       "\n",
       "<div class=\"bk-root\">\n",
       "    <div class=\"bk-plotdiv\" id=\"08abb526-e5b4-45f1-8903-b16a31c42ac9\"></div>\n",
       "</div>"
      ]
     },
     "metadata": {},
     "output_type": "display_data"
    },
    {
     "data": {
      "application/javascript": [
       "(function(root) {\n",
       "  function embed_document(root) {\n",
       "    var docs_json = {\"485a4d41-c8af-4913-9171-2173a9bdd0dc\":{\"roots\":{\"references\":[{\"attributes\":{},\"id\":\"7cb4e1bf-fe65-4a7d-91a9-e21d046d474b\",\"type\":\"PanTool\"},{\"attributes\":{\"line_color\":{\"value\":\"#f4d341\"},\"line_width\":{\"value\":5},\"x\":{\"field\":\"Anios\"},\"y\":{\"field\":\"Incidencia_mean\"}},\"id\":\"106b80c6-3900-4296-9019-671b37f585e8\",\"type\":\"Line\"},{\"attributes\":{\"line_color\":{\"value\":\"#f44171\"},\"line_width\":{\"value\":5},\"x\":{\"field\":\"Anios\"},\"y\":{\"field\":\"Severidad_mean\"}},\"id\":\"2c23134d-e22a-49fd-bded-642969a42017\",\"type\":\"Line\"},{\"attributes\":{\"callback\":null},\"id\":\"9e1a9e83-8b16-4e35-a680-9dafff22377a\",\"type\":\"DataRange1d\"},{\"attributes\":{\"below\":[{\"id\":\"cf20b6c8-cb64-4d45-a23c-ceeb13c6ad29\",\"type\":\"CategoricalAxis\"}],\"left\":[{\"id\":\"f3b95588-014d-4b71-b52d-68a967f2d9d2\",\"type\":\"LinearAxis\"}],\"plot_height\":400,\"plot_width\":900,\"renderers\":[{\"id\":\"cf20b6c8-cb64-4d45-a23c-ceeb13c6ad29\",\"type\":\"CategoricalAxis\"},{\"id\":\"a7b5b7e2-5164-41e9-80a7-12d302cd3500\",\"type\":\"Grid\"},{\"id\":\"f3b95588-014d-4b71-b52d-68a967f2d9d2\",\"type\":\"LinearAxis\"},{\"id\":\"310d2de8-2dda-44c8-8422-6bd4fea590de\",\"type\":\"Grid\"},{\"id\":\"79617c5f-d28a-4834-9ec9-7c6c2f6620ce\",\"type\":\"BoxAnnotation\"},{\"id\":\"d23caefa-d84f-45c0-acc4-6ab54dfda259\",\"type\":\"Legend\"},{\"id\":\"e7dd18da-f882-4f17-9135-8f400150cb42\",\"type\":\"GlyphRenderer\"},{\"id\":\"f818da2f-8ef5-43de-a213-f7e3c1ffc5b1\",\"type\":\"GlyphRenderer\"},{\"id\":\"142474c0-76f6-4c80-99da-9cbfbb883e43\",\"type\":\"GlyphRenderer\"}],\"title\":{\"id\":\"e8407d3e-d99b-4e6e-8baf-1500c5ea712e\",\"type\":\"Title\"},\"toolbar\":{\"id\":\"6fdf75a0-e0d7-4932-b0f1-fc3606d3422f\",\"type\":\"Toolbar\"},\"x_range\":{\"id\":\"b89ebad7-7292-4fe8-a74b-ec2e1322beee\",\"type\":\"FactorRange\"},\"x_scale\":{\"id\":\"a6f12c7f-4661-49f9-be12-2c0d3bd3ef6c\",\"type\":\"CategoricalScale\"},\"y_range\":{\"id\":\"9e1a9e83-8b16-4e35-a680-9dafff22377a\",\"type\":\"DataRange1d\"},\"y_scale\":{\"id\":\"04ee830c-eca7-47b5-b29c-6312d3289f0d\",\"type\":\"LinearScale\"}},\"id\":\"8cb7f775-b2c0-4d1b-a95c-53d41aaf643a\",\"subtype\":\"Figure\",\"type\":\"Plot\"},{\"attributes\":{\"line_alpha\":{\"value\":0.1},\"line_color\":{\"value\":\"#1f77b4\"},\"line_width\":{\"value\":5},\"x\":{\"field\":\"Anios\"},\"y\":{\"field\":\"Severidad_mean\"}},\"id\":\"7bd57c2b-d43c-4c27-8653-c7bbd446ef92\",\"type\":\"Line\"},{\"attributes\":{},\"id\":\"a6f12c7f-4661-49f9-be12-2c0d3bd3ef6c\",\"type\":\"CategoricalScale\"},{\"attributes\":{\"dimension\":1,\"grid_line_color\":{\"value\":null},\"plot\":{\"id\":\"8cb7f775-b2c0-4d1b-a95c-53d41aaf643a\",\"subtype\":\"Figure\",\"type\":\"Plot\"},\"ticker\":{\"id\":\"47051435-a5ab-42d6-b9f2-e2696655512c\",\"type\":\"BasicTicker\"}},\"id\":\"310d2de8-2dda-44c8-8422-6bd4fea590de\",\"type\":\"Grid\"},{\"attributes\":{},\"id\":\"e24cfc34-8a51-44de-9f56-ef8270768d6e\",\"type\":\"CategoricalTicker\"},{\"attributes\":{\"source\":{\"id\":\"e0914e60-eb6d-4e05-b84e-bc134f6cf596\",\"type\":\"ColumnDataSource\"}},\"id\":\"888cfcec-5151-4707-bfa2-6eb829ab1bca\",\"type\":\"CDSView\"},{\"attributes\":{\"line_color\":{\"value\":\"#42f4bf\"},\"line_width\":{\"value\":5},\"x\":{\"field\":\"Anios\"},\"y\":{\"field\":\"Brecha_mean\"}},\"id\":\"54871a46-88e5-43cb-8bed-64209ad54b39\",\"type\":\"Line\"},{\"attributes\":{\"data_source\":{\"id\":\"e0914e60-eb6d-4e05-b84e-bc134f6cf596\",\"type\":\"ColumnDataSource\"},\"glyph\":{\"id\":\"54871a46-88e5-43cb-8bed-64209ad54b39\",\"type\":\"Line\"},\"hover_glyph\":null,\"muted_glyph\":null,\"nonselection_glyph\":{\"id\":\"570dbeb2-4fa8-408f-8117-c6737ef64bb5\",\"type\":\"Line\"},\"selection_glyph\":null,\"view\":{\"id\":\"888cfcec-5151-4707-bfa2-6eb829ab1bca\",\"type\":\"CDSView\"}},\"id\":\"f818da2f-8ef5-43de-a213-f7e3c1ffc5b1\",\"type\":\"GlyphRenderer\"},{\"attributes\":{\"plot\":null,\"text\":\"POBREZA-QUITO\"},\"id\":\"e8407d3e-d99b-4e6e-8baf-1500c5ea712e\",\"type\":\"Title\"},{\"attributes\":{\"label\":{\"value\":\"Severidad\"},\"renderers\":[{\"id\":\"142474c0-76f6-4c80-99da-9cbfbb883e43\",\"type\":\"GlyphRenderer\"}]},\"id\":\"dea8bdc3-8b7c-4491-9e3f-d5d2a5ae80ed\",\"type\":\"LegendItem\"},{\"attributes\":{\"callback\":null,\"factors\":[\"2008\",\"2009\",\"2010\",\"2011\",\"2012\",\"2013\",\"2014\",\"2015\",\"2016\",\"2017\"]},\"id\":\"b89ebad7-7292-4fe8-a74b-ec2e1322beee\",\"type\":\"FactorRange\"},{\"attributes\":{\"data_source\":{\"id\":\"e0914e60-eb6d-4e05-b84e-bc134f6cf596\",\"type\":\"ColumnDataSource\"},\"glyph\":{\"id\":\"2c23134d-e22a-49fd-bded-642969a42017\",\"type\":\"Line\"},\"hover_glyph\":null,\"muted_glyph\":null,\"nonselection_glyph\":{\"id\":\"7bd57c2b-d43c-4c27-8653-c7bbd446ef92\",\"type\":\"Line\"},\"selection_glyph\":null,\"view\":{\"id\":\"cd485b10-7986-462c-a0f1-32f88b4d79f0\",\"type\":\"CDSView\"}},\"id\":\"142474c0-76f6-4c80-99da-9cbfbb883e43\",\"type\":\"GlyphRenderer\"},{\"attributes\":{\"active_drag\":\"auto\",\"active_inspect\":\"auto\",\"active_scroll\":\"auto\",\"active_tap\":\"auto\",\"tools\":[{\"id\":\"7cb4e1bf-fe65-4a7d-91a9-e21d046d474b\",\"type\":\"PanTool\"},{\"id\":\"bcc5440c-9e21-4f3a-bf07-24bd91e43521\",\"type\":\"WheelZoomTool\"},{\"id\":\"b8b8aa22-ecc6-42bf-adf4-4e776ecd10b1\",\"type\":\"BoxZoomTool\"},{\"id\":\"8f96321e-de9e-4556-9bde-a6b5cae87431\",\"type\":\"SaveTool\"},{\"id\":\"d58a49a4-7f0d-49a2-b5aa-4e8a07cd304f\",\"type\":\"ResetTool\"},{\"id\":\"2a8a4998-4418-4b99-a73d-aa008b7f067f\",\"type\":\"HelpTool\"}]},\"id\":\"6fdf75a0-e0d7-4932-b0f1-fc3606d3422f\",\"type\":\"Toolbar\"},{\"attributes\":{},\"id\":\"1844c42a-ae2c-42c4-8d7e-a8233d913dc5\",\"type\":\"CategoricalTickFormatter\"},{\"attributes\":{\"source\":{\"id\":\"e0914e60-eb6d-4e05-b84e-bc134f6cf596\",\"type\":\"ColumnDataSource\"}},\"id\":\"bc3a5c98-3cba-44b5-b2f7-a7ae8e6bced8\",\"type\":\"CDSView\"},{\"attributes\":{},\"id\":\"04ee830c-eca7-47b5-b29c-6312d3289f0d\",\"type\":\"LinearScale\"},{\"attributes\":{},\"id\":\"8f96321e-de9e-4556-9bde-a6b5cae87431\",\"type\":\"SaveTool\"},{\"attributes\":{},\"id\":\"d58a49a4-7f0d-49a2-b5aa-4e8a07cd304f\",\"type\":\"ResetTool\"},{\"attributes\":{\"formatter\":{\"id\":\"1844c42a-ae2c-42c4-8d7e-a8233d913dc5\",\"type\":\"CategoricalTickFormatter\"},\"plot\":{\"id\":\"8cb7f775-b2c0-4d1b-a95c-53d41aaf643a\",\"subtype\":\"Figure\",\"type\":\"Plot\"},\"ticker\":{\"id\":\"e24cfc34-8a51-44de-9f56-ef8270768d6e\",\"type\":\"CategoricalTicker\"}},\"id\":\"cf20b6c8-cb64-4d45-a23c-ceeb13c6ad29\",\"type\":\"CategoricalAxis\"},{\"attributes\":{\"formatter\":{\"id\":\"8bce9e14-2563-4cdc-a9f5-2ddb17ed92e6\",\"type\":\"BasicTickFormatter\"},\"plot\":{\"id\":\"8cb7f775-b2c0-4d1b-a95c-53d41aaf643a\",\"subtype\":\"Figure\",\"type\":\"Plot\"},\"ticker\":{\"id\":\"47051435-a5ab-42d6-b9f2-e2696655512c\",\"type\":\"BasicTicker\"}},\"id\":\"f3b95588-014d-4b71-b52d-68a967f2d9d2\",\"type\":\"LinearAxis\"},{\"attributes\":{},\"id\":\"bcc5440c-9e21-4f3a-bf07-24bd91e43521\",\"type\":\"WheelZoomTool\"},{\"attributes\":{\"line_alpha\":{\"value\":0.1},\"line_color\":{\"value\":\"#1f77b4\"},\"line_width\":{\"value\":5},\"x\":{\"field\":\"Anios\"},\"y\":{\"field\":\"Brecha_mean\"}},\"id\":\"570dbeb2-4fa8-408f-8117-c6737ef64bb5\",\"type\":\"Line\"},{\"attributes\":{\"overlay\":{\"id\":\"79617c5f-d28a-4834-9ec9-7c6c2f6620ce\",\"type\":\"BoxAnnotation\"}},\"id\":\"b8b8aa22-ecc6-42bf-adf4-4e776ecd10b1\",\"type\":\"BoxZoomTool\"},{\"attributes\":{},\"id\":\"8bce9e14-2563-4cdc-a9f5-2ddb17ed92e6\",\"type\":\"BasicTickFormatter\"},{\"attributes\":{},\"id\":\"2a8a4998-4418-4b99-a73d-aa008b7f067f\",\"type\":\"HelpTool\"},{\"attributes\":{\"label\":{\"value\":\"Incidencia\"},\"renderers\":[{\"id\":\"e7dd18da-f882-4f17-9135-8f400150cb42\",\"type\":\"GlyphRenderer\"}]},\"id\":\"5a0dd009-a33a-40b1-98c4-f3818d2a1efb\",\"type\":\"LegendItem\"},{\"attributes\":{\"items\":[{\"id\":\"5a0dd009-a33a-40b1-98c4-f3818d2a1efb\",\"type\":\"LegendItem\"},{\"id\":\"8b5aece6-0efb-4651-a5c2-b6fb1478a3ed\",\"type\":\"LegendItem\"},{\"id\":\"dea8bdc3-8b7c-4491-9e3f-d5d2a5ae80ed\",\"type\":\"LegendItem\"}],\"plot\":{\"id\":\"8cb7f775-b2c0-4d1b-a95c-53d41aaf643a\",\"subtype\":\"Figure\",\"type\":\"Plot\"}},\"id\":\"d23caefa-d84f-45c0-acc4-6ab54dfda259\",\"type\":\"Legend\"},{\"attributes\":{\"label\":{\"value\":\"Brecha\"},\"renderers\":[{\"id\":\"f818da2f-8ef5-43de-a213-f7e3c1ffc5b1\",\"type\":\"GlyphRenderer\"}]},\"id\":\"8b5aece6-0efb-4651-a5c2-b6fb1478a3ed\",\"type\":\"LegendItem\"},{\"attributes\":{\"callback\":null,\"column_names\":[\"Brecha_count\",\"Brecha_mean\",\"Brecha_std\",\"Brecha_min\",\"Brecha_25%\",\"Brecha_50%\",\"Brecha_75%\",\"Brecha_max\",\"Incidencia_count\",\"Incidencia_mean\",\"Incidencia_std\",\"Incidencia_min\",\"Incidencia_25%\",\"Incidencia_50%\",\"Incidencia_75%\",\"Incidencia_max\",\"Severidad_count\",\"Severidad_mean\",\"Severidad_std\",\"Severidad_min\",\"Severidad_25%\",\"Severidad_50%\",\"Severidad_75%\",\"Severidad_max\",\"Anios\"],\"data\":{\"Anios\":[\"2008\",\"2009\",\"2010\",\"2011\",\"2012\",\"2013\",\"2014\",\"2015\",\"2016\",\"2017\"],\"Brecha_25%\":{\"__ndarray__\":\"j8L1KFyPCkCuR+F6FK4NQFyPwvUoXBFAuB6F61G4CkBSuB6F61EKQNejcD0K1wtAPQrXo3A9BkC4HoXrUbgEQArXo3A9CgVAMzMzMzMzA0A=\",\"dtype\":\"float64\",\"shape\":[10]},\"Brecha_50%\":{\"__ndarray__\":\"j8L1KFyPCkCuR+F6FK4NQFyPwvUoXBFAuB6F61G4CkBSuB6F61EKQNejcD0K1wtAPQrXo3A9BkC4HoXrUbgEQArXo3A9CgVAMzMzMzMzA0A=\",\"dtype\":\"float64\",\"shape\":[10]},\"Brecha_75%\":{\"__ndarray__\":\"j8L1KFyPCkCuR+F6FK4NQFyPwvUoXBFAuB6F61G4CkBSuB6F61EKQNejcD0K1wtAPQrXo3A9BkC4HoXrUbgEQArXo3A9CgVAMzMzMzMzA0A=\",\"dtype\":\"float64\",\"shape\":[10]},\"Brecha_count\":{\"__ndarray__\":\"AAAAAAAA8D8AAAAAAADwPwAAAAAAAPA/AAAAAAAA8D8AAAAAAADwPwAAAAAAAPA/AAAAAAAA8D8AAAAAAADwPwAAAAAAAPA/AAAAAAAA8D8=\",\"dtype\":\"float64\",\"shape\":[10]},\"Brecha_max\":{\"__ndarray__\":\"j8L1KFyPCkCuR+F6FK4NQFyPwvUoXBFAuB6F61G4CkBSuB6F61EKQNejcD0K1wtAPQrXo3A9BkC4HoXrUbgEQArXo3A9CgVAMzMzMzMzA0A=\",\"dtype\":\"float64\",\"shape\":[10]},\"Brecha_mean\":{\"__ndarray__\":\"j8L1KFyPCkCuR+F6FK4NQFyPwvUoXBFAuB6F61G4CkBSuB6F61EKQNejcD0K1wtAPQrXo3A9BkC4HoXrUbgEQArXo3A9CgVAMzMzMzMzA0A=\",\"dtype\":\"float64\",\"shape\":[10]},\"Brecha_min\":{\"__ndarray__\":\"j8L1KFyPCkCuR+F6FK4NQFyPwvUoXBFAuB6F61G4CkBSuB6F61EKQNejcD0K1wtAPQrXo3A9BkC4HoXrUbgEQArXo3A9CgVAMzMzMzMzA0A=\",\"dtype\":\"float64\",\"shape\":[10]},\"Brecha_std\":{\"__ndarray__\":\"AAAAAAAA+H8AAAAAAAD4fwAAAAAAAPh/AAAAAAAA+H8AAAAAAAD4fwAAAAAAAPh/AAAAAAAA+H8AAAAAAAD4fwAAAAAAAPh/AAAAAAAA+H8=\",\"dtype\":\"float64\",\"shape\":[10]},\"Incidencia_25%\":{\"__ndarray__\":\"ZmZmZmbmJEBSuB6F61EmQIXrUbgeBSpAKVyPwvWoJEBxPQrXo/AhQDMzMzMzsyVA16NwPQrXIUB7FK5H4XofQOxRuB6F6x9AZmZmZmZmHUA=\",\"dtype\":\"float64\",\"shape\":[10]},\"Incidencia_50%\":{\"__ndarray__\":\"ZmZmZmbmJEBSuB6F61EmQIXrUbgeBSpAKVyPwvWoJEBxPQrXo/AhQDMzMzMzsyVA16NwPQrXIUB7FK5H4XofQOxRuB6F6x9AZmZmZmZmHUA=\",\"dtype\":\"float64\",\"shape\":[10]},\"Incidencia_75%\":{\"__ndarray__\":\"ZmZmZmbmJEBSuB6F61EmQIXrUbgeBSpAKVyPwvWoJEBxPQrXo/AhQDMzMzMzsyVA16NwPQrXIUB7FK5H4XofQOxRuB6F6x9AZmZmZmZmHUA=\",\"dtype\":\"float64\",\"shape\":[10]},\"Incidencia_count\":{\"__ndarray__\":\"AAAAAAAA8D8AAAAAAADwPwAAAAAAAPA/AAAAAAAA8D8AAAAAAADwPwAAAAAAAPA/AAAAAAAA8D8AAAAAAADwPwAAAAAAAPA/AAAAAAAA8D8=\",\"dtype\":\"float64\",\"shape\":[10]},\"Incidencia_max\":{\"__ndarray__\":\"ZmZmZmbmJEBSuB6F61EmQIXrUbgeBSpAKVyPwvWoJEBxPQrXo/AhQDMzMzMzsyVA16NwPQrXIUB7FK5H4XofQOxRuB6F6x9AZmZmZmZmHUA=\",\"dtype\":\"float64\",\"shape\":[10]},\"Incidencia_mean\":{\"__ndarray__\":\"ZmZmZmbmJEBSuB6F61EmQIXrUbgeBSpAKVyPwvWoJEBxPQrXo/AhQDMzMzMzsyVA16NwPQrXIUB7FK5H4XofQOxRuB6F6x9AZmZmZmZmHUA=\",\"dtype\":\"float64\",\"shape\":[10]},\"Incidencia_min\":{\"__ndarray__\":\"ZmZmZmbmJEBSuB6F61EmQIXrUbgeBSpAKVyPwvWoJEBxPQrXo/AhQDMzMzMzsyVA16NwPQrXIUB7FK5H4XofQOxRuB6F6x9AZmZmZmZmHUA=\",\"dtype\":\"float64\",\"shape\":[10]},\"Incidencia_std\":{\"__ndarray__\":\"AAAAAAAA+H8AAAAAAAD4fwAAAAAAAPh/AAAAAAAA+H8AAAAAAAD4fwAAAAAAAPh/AAAAAAAA+H8AAAAAAAD4fwAAAAAAAPh/AAAAAAAA+H8=\",\"dtype\":\"float64\",\"shape\":[10]},\"Severidad_25%\":{\"__ndarray__\":\"KVyPwvUo/D+F61G4HoX/P3sUrkfhegJA9ihcj8L1/D9xPQrXo3D5P/YoXI/C9fg/PQrXo3A99j/NzMzMzMz0P3E9CtejcPU/rkfhehSu8z8=\",\"dtype\":\"float64\",\"shape\":[10]},\"Severidad_50%\":{\"__ndarray__\":\"KVyPwvUo/D+F61G4HoX/P3sUrkfhegJA9ihcj8L1/D9xPQrXo3D5P/YoXI/C9fg/PQrXo3A99j/NzMzMzMz0P3E9CtejcPU/rkfhehSu8z8=\",\"dtype\":\"float64\",\"shape\":[10]},\"Severidad_75%\":{\"__ndarray__\":\"KVyPwvUo/D+F61G4HoX/P3sUrkfhegJA9ihcj8L1/D9xPQrXo3D5P/YoXI/C9fg/PQrXo3A99j/NzMzMzMz0P3E9CtejcPU/rkfhehSu8z8=\",\"dtype\":\"float64\",\"shape\":[10]},\"Severidad_count\":{\"__ndarray__\":\"AAAAAAAA8D8AAAAAAADwPwAAAAAAAPA/AAAAAAAA8D8AAAAAAADwPwAAAAAAAPA/AAAAAAAA8D8AAAAAAADwPwAAAAAAAPA/AAAAAAAA8D8=\",\"dtype\":\"float64\",\"shape\":[10]},\"Severidad_max\":{\"__ndarray__\":\"KVyPwvUo/D+F61G4HoX/P3sUrkfhegJA9ihcj8L1/D9xPQrXo3D5P/YoXI/C9fg/PQrXo3A99j/NzMzMzMz0P3E9CtejcPU/rkfhehSu8z8=\",\"dtype\":\"float64\",\"shape\":[10]},\"Severidad_mean\":{\"__ndarray__\":\"KVyPwvUo/D+F61G4HoX/P3sUrkfhegJA9ihcj8L1/D9xPQrXo3D5P/YoXI/C9fg/PQrXo3A99j/NzMzMzMz0P3E9CtejcPU/rkfhehSu8z8=\",\"dtype\":\"float64\",\"shape\":[10]},\"Severidad_min\":{\"__ndarray__\":\"KVyPwvUo/D+F61G4HoX/P3sUrkfhegJA9ihcj8L1/D9xPQrXo3D5P/YoXI/C9fg/PQrXo3A99j/NzMzMzMz0P3E9CtejcPU/rkfhehSu8z8=\",\"dtype\":\"float64\",\"shape\":[10]},\"Severidad_std\":{\"__ndarray__\":\"AAAAAAAA+H8AAAAAAAD4fwAAAAAAAPh/AAAAAAAA+H8AAAAAAAD4fwAAAAAAAPh/AAAAAAAA+H8AAAAAAAD4fwAAAAAAAPh/AAAAAAAA+H8=\",\"dtype\":\"float64\",\"shape\":[10]}}},\"id\":\"e0914e60-eb6d-4e05-b84e-bc134f6cf596\",\"type\":\"ColumnDataSource\"},{\"attributes\":{\"source\":{\"id\":\"e0914e60-eb6d-4e05-b84e-bc134f6cf596\",\"type\":\"ColumnDataSource\"}},\"id\":\"cd485b10-7986-462c-a0f1-32f88b4d79f0\",\"type\":\"CDSView\"},{\"attributes\":{\"grid_line_color\":{\"value\":null},\"plot\":{\"id\":\"8cb7f775-b2c0-4d1b-a95c-53d41aaf643a\",\"subtype\":\"Figure\",\"type\":\"Plot\"},\"ticker\":{\"id\":\"e24cfc34-8a51-44de-9f56-ef8270768d6e\",\"type\":\"CategoricalTicker\"}},\"id\":\"a7b5b7e2-5164-41e9-80a7-12d302cd3500\",\"type\":\"Grid\"},{\"attributes\":{\"data_source\":{\"id\":\"e0914e60-eb6d-4e05-b84e-bc134f6cf596\",\"type\":\"ColumnDataSource\"},\"glyph\":{\"id\":\"106b80c6-3900-4296-9019-671b37f585e8\",\"type\":\"Line\"},\"hover_glyph\":null,\"muted_glyph\":null,\"nonselection_glyph\":{\"id\":\"50c0c2b9-f15b-4bef-8d18-c41d89dc31bb\",\"type\":\"Line\"},\"selection_glyph\":null,\"view\":{\"id\":\"bc3a5c98-3cba-44b5-b2f7-a7ae8e6bced8\",\"type\":\"CDSView\"}},\"id\":\"e7dd18da-f882-4f17-9135-8f400150cb42\",\"type\":\"GlyphRenderer\"},{\"attributes\":{\"line_alpha\":{\"value\":0.1},\"line_color\":{\"value\":\"#1f77b4\"},\"line_width\":{\"value\":5},\"x\":{\"field\":\"Anios\"},\"y\":{\"field\":\"Incidencia_mean\"}},\"id\":\"50c0c2b9-f15b-4bef-8d18-c41d89dc31bb\",\"type\":\"Line\"},{\"attributes\":{},\"id\":\"47051435-a5ab-42d6-b9f2-e2696655512c\",\"type\":\"BasicTicker\"},{\"attributes\":{\"bottom_units\":\"screen\",\"fill_alpha\":{\"value\":0.5},\"fill_color\":{\"value\":\"lightgrey\"},\"left_units\":\"screen\",\"level\":\"overlay\",\"line_alpha\":{\"value\":1.0},\"line_color\":{\"value\":\"black\"},\"line_dash\":[4,4],\"line_width\":{\"value\":2},\"plot\":null,\"render_mode\":\"css\",\"right_units\":\"screen\",\"top_units\":\"screen\"},\"id\":\"79617c5f-d28a-4834-9ec9-7c6c2f6620ce\",\"type\":\"BoxAnnotation\"}],\"root_ids\":[\"8cb7f775-b2c0-4d1b-a95c-53d41aaf643a\"]},\"title\":\"Bokeh Application\",\"version\":\"0.12.10\"}};\n",
       "    var render_items = [{\"docid\":\"485a4d41-c8af-4913-9171-2173a9bdd0dc\",\"elementid\":\"08abb526-e5b4-45f1-8903-b16a31c42ac9\",\"modelid\":\"8cb7f775-b2c0-4d1b-a95c-53d41aaf643a\"}];\n",
       "\n",
       "    root.Bokeh.embed.embed_items(docs_json, render_items);\n",
       "  }\n",
       "\n",
       "  if (root.Bokeh !== undefined) {\n",
       "    embed_document(root);\n",
       "  } else {\n",
       "    var attempts = 0;\n",
       "    var timer = setInterval(function(root) {\n",
       "      if (root.Bokeh !== undefined) {\n",
       "        embed_document(root);\n",
       "        clearInterval(timer);\n",
       "      }\n",
       "      attempts++;\n",
       "      if (attempts > 100) {\n",
       "        console.log(\"Bokeh: ERROR: Unable to embed document because BokehJS library is missing\")\n",
       "        clearInterval(timer);\n",
       "      }\n",
       "    }, 10, root)\n",
       "  }\n",
       "})(window);"
      ],
      "application/vnd.bokehjs_exec.v0+json": ""
     },
     "metadata": {
      "application/vnd.bokehjs_exec.v0+json": {
       "id": "8cb7f775-b2c0-4d1b-a95c-53d41aaf643a"
      }
     },
     "output_type": "display_data"
    }
   ],
   "source": [
    "# Características que tendrá nuestra grafica\n",
    "graph_line = figure(\n",
    "    plot_height=400, # ancho\n",
    "    plot_width=900, # alto\n",
    "    x_range=group1,\n",
    "    title='POBREZA-QUITO' # titulo\n",
    ")\n",
    "\n",
    "# Definimos los datos que representara cada \"Línea\", y otras opciones como color y leyenda\n",
    "graph_line.line(\n",
    "    x='Anios', # datos en x\n",
    "    y='Incidencia_mean', # datos en y\n",
    "    color='#f4d341', # color de las líneas\n",
    "    legend='Incidencia', # leyenda que representa nuestra grafica\n",
    "    line_width=5,\n",
    "    source=source\n",
    ")\n",
    "graph_line.line(x='Anios', y='Brecha_mean', color='#42f4bf', legend='Brecha',line_width=5,source=source)\n",
    "graph_line.line(x='Anios', y='Severidad_mean', color='#f44171', legend='Severidad',line_width=5,source=source)\n",
    "\n",
    "# Para no mostramos los trazados del plano y presentamos nuestra grafica\n",
    "graph_line.xgrid.grid_line_color = None # eliminamos las lineas verticales\n",
    "graph_line.ygrid.grid_line_color = None # horizontales\n",
    "\n",
    "show(graph_line) # mostramos nuestra grafica"
   ]
  },
  {
   "cell_type": "markdown",
   "metadata": {},
   "source": [
    "**En esta gráfica, podemos observar la pobreza recuerdo con la incidencia, que desde el año 2008 al 2010, tiene una mayoría de pobreza y del 2010 al 2012 a disminuido de la misma, y del 2012 en adelante sido desmullendo la pobreza, mientras que la pobreza recuerdo con la brecha, casi se aumentado en un rango mínimo, desde el año 2008 al 2016, y por último la pobreza de acuerdo con la serenidad no ha existido un rango alto de pobreza, si no que se ha ido manteniendo en un porcentaje medio.**"
   ]
  },
  {
   "cell_type": "markdown",
   "metadata": {},
   "source": [
    "## Gráfico de barras"
   ]
  },
  {
   "cell_type": "code",
   "execution_count": 35,
   "metadata": {},
   "outputs": [
    {
     "data": {
      "text/html": [
       "\n",
       "<div class=\"bk-root\">\n",
       "    <div class=\"bk-plotdiv\" id=\"3e07e74c-2ab3-41b3-b15b-e34e5b7b67bc\"></div>\n",
       "</div>"
      ]
     },
     "metadata": {},
     "output_type": "display_data"
    },
    {
     "data": {
      "application/javascript": [
       "(function(root) {\n",
       "  function embed_document(root) {\n",
       "    var docs_json = {\"50e2eacd-2549-47a9-90d7-45fd66ef48a9\":{\"roots\":{\"references\":[{\"attributes\":{\"active_drag\":\"auto\",\"active_inspect\":\"auto\",\"active_scroll\":\"auto\",\"active_tap\":\"auto\",\"tools\":[{\"id\":\"a0ba3d21-96d9-4b79-a945-372117125b65\",\"type\":\"PanTool\"},{\"id\":\"93b7b2a8-9d48-41ee-8291-feb620b9b911\",\"type\":\"WheelZoomTool\"},{\"id\":\"69fd1b25-000f-4053-ba1a-db01ea1b47bd\",\"type\":\"BoxZoomTool\"},{\"id\":\"a30b74b3-777e-4015-a034-653b85a396a4\",\"type\":\"SaveTool\"},{\"id\":\"82e54809-88fb-4111-90a3-bc0d88d7b181\",\"type\":\"ResetTool\"},{\"id\":\"884592eb-83b8-4803-80b3-d911f6b236db\",\"type\":\"HelpTool\"}]},\"id\":\"dc5f55f5-b4d9-487e-9dfd-4019031d33d6\",\"type\":\"Toolbar\"},{\"attributes\":{\"below\":[{\"id\":\"a1f32113-4b85-42bb-a5ce-8f5023f9d8a3\",\"type\":\"CategoricalAxis\"}],\"left\":[{\"id\":\"6cdd0353-a8a5-483a-be94-ad9d191e5e14\",\"type\":\"LinearAxis\"}],\"plot_height\":300,\"plot_width\":300,\"renderers\":[{\"id\":\"a1f32113-4b85-42bb-a5ce-8f5023f9d8a3\",\"type\":\"CategoricalAxis\"},{\"id\":\"b14aa5a3-a491-42f5-8c0f-17c511014adf\",\"type\":\"Grid\"},{\"id\":\"6cdd0353-a8a5-483a-be94-ad9d191e5e14\",\"type\":\"LinearAxis\"},{\"id\":\"4f136105-8637-40af-a6ef-05afcd820445\",\"type\":\"Grid\"},{\"id\":\"e386a231-cd99-41f8-bd5f-50bf374ce518\",\"type\":\"BoxAnnotation\"},{\"id\":\"976577ab-75dd-4e18-b23f-024450f2d413\",\"type\":\"GlyphRenderer\"}],\"title\":{\"id\":\"90acdd8c-ced7-429b-b52f-92d09467737b\",\"type\":\"Title\"},\"toolbar\":{\"id\":\"78197a38-25fb-4d89-84df-fe3f33d0864d\",\"type\":\"Toolbar\"},\"toolbar_location\":null,\"x_range\":{\"id\":\"03717577-787c-4904-a0ce-6174ad4f19c6\",\"type\":\"FactorRange\"},\"x_scale\":{\"id\":\"978826b5-2d37-4341-aa11-b24c5d54b435\",\"type\":\"CategoricalScale\"},\"y_range\":{\"id\":\"3300a713-7981-4513-8288-18f646ea3bcf\",\"type\":\"DataRange1d\"},\"y_scale\":{\"id\":\"137ace2b-d766-4386-826a-db964b897db8\",\"type\":\"LinearScale\"}},\"id\":\"57907fbd-9b46-4e95-9997-85c225f001e1\",\"subtype\":\"Figure\",\"type\":\"Plot\"},{\"attributes\":{},\"id\":\"23839c34-c58d-4605-ae93-68efff30d6c1\",\"type\":\"CategoricalTickFormatter\"},{\"attributes\":{\"active_drag\":\"auto\",\"active_inspect\":\"auto\",\"active_scroll\":\"auto\",\"active_tap\":\"auto\",\"tools\":[{\"id\":\"bf2ec53b-44ac-4811-97f0-1a23de18fa4f\",\"type\":\"PanTool\"},{\"id\":\"686f7402-847b-4d1a-aac6-7478b403baf2\",\"type\":\"WheelZoomTool\"},{\"id\":\"f66434fe-972e-4da0-bc66-15e001a5cdbb\",\"type\":\"BoxZoomTool\"},{\"id\":\"bfab7673-d19b-4c4d-96f3-6f93cb32a1b9\",\"type\":\"SaveTool\"},{\"id\":\"0fcb4eee-26b7-48dc-ace1-52f463afef0c\",\"type\":\"ResetTool\"},{\"id\":\"c6fa52cd-5344-4451-b694-271e92ac538b\",\"type\":\"HelpTool\"}]},\"id\":\"e754f563-9cb6-44da-bfa0-4ff56cd79637\",\"type\":\"Toolbar\"},{\"attributes\":{\"fill_color\":{\"value\":\"#f44171\"},\"line_color\":{\"value\":\"white\"},\"top\":{\"field\":\"Severidad_mean\"},\"width\":{\"value\":0.7},\"x\":{\"field\":\"Anios\"}},\"id\":\"79648f22-9e12-407f-9469-4b5734ee379b\",\"type\":\"VBar\"},{\"attributes\":{\"below\":[{\"id\":\"6875be63-b182-49ad-9b50-d8b0a97d6e5e\",\"type\":\"CategoricalAxis\"}],\"left\":[{\"id\":\"ad3ca6a4-bf21-484e-8aed-7ab56cf12c19\",\"type\":\"LinearAxis\"}],\"plot_height\":300,\"plot_width\":300,\"renderers\":[{\"id\":\"6875be63-b182-49ad-9b50-d8b0a97d6e5e\",\"type\":\"CategoricalAxis\"},{\"id\":\"19a70b2c-de43-42f6-9b1e-86afb81d0bbd\",\"type\":\"Grid\"},{\"id\":\"ad3ca6a4-bf21-484e-8aed-7ab56cf12c19\",\"type\":\"LinearAxis\"},{\"id\":\"38534985-6820-4d53-92bf-e599b5b23704\",\"type\":\"Grid\"},{\"id\":\"2595cf31-5387-4d4d-b9c1-cde4da74421c\",\"type\":\"BoxAnnotation\"},{\"id\":\"8ac8309e-f879-4ae4-b99d-a47bacd26784\",\"type\":\"GlyphRenderer\"}],\"title\":{\"id\":\"6256f4c3-fe35-4857-821f-2dc148b96ec5\",\"type\":\"Title\"},\"toolbar\":{\"id\":\"e754f563-9cb6-44da-bfa0-4ff56cd79637\",\"type\":\"Toolbar\"},\"toolbar_location\":null,\"x_range\":{\"id\":\"7f418285-62bc-402e-914d-275f54875d16\",\"type\":\"FactorRange\"},\"x_scale\":{\"id\":\"ce20f6d1-3e79-41d9-8878-e8f0aaff3d9e\",\"type\":\"CategoricalScale\"},\"y_range\":{\"id\":\"c4b5ffdf-68b7-41bf-ab81-11fe33cb1568\",\"type\":\"DataRange1d\"},\"y_scale\":{\"id\":\"c2d4184f-80ba-4008-8b1d-384b89f6e731\",\"type\":\"LinearScale\"}},\"id\":\"630b28d1-d309-4be4-a8d5-91e3bb815c26\",\"subtype\":\"Figure\",\"type\":\"Plot\"},{\"attributes\":{},\"id\":\"7d975744-1f57-4c59-aeae-27f058aaf839\",\"type\":\"CategoricalTickFormatter\"},{\"attributes\":{\"plot\":null,\"text\":\"Incidencia\"},\"id\":\"90acdd8c-ced7-429b-b52f-92d09467737b\",\"type\":\"Title\"},{\"attributes\":{\"source\":{\"id\":\"e0914e60-eb6d-4e05-b84e-bc134f6cf596\",\"type\":\"ColumnDataSource\"}},\"id\":\"fe135582-8a9c-4c90-b075-16c5f32dfc7f\",\"type\":\"CDSView\"},{\"attributes\":{\"callback\":null,\"factors\":[\"2008\",\"2009\",\"2010\",\"2011\",\"2012\",\"2013\",\"2014\",\"2015\",\"2016\",\"2017\"]},\"id\":\"03717577-787c-4904-a0ce-6174ad4f19c6\",\"type\":\"FactorRange\"},{\"attributes\":{\"fill_alpha\":{\"value\":0.1},\"fill_color\":{\"value\":\"#1f77b4\"},\"line_alpha\":{\"value\":0.1},\"line_color\":{\"value\":\"#1f77b4\"},\"top\":{\"field\":\"Severidad_mean\"},\"width\":{\"value\":0.7},\"x\":{\"field\":\"Anios\"}},\"id\":\"5ccfb460-fb17-4c64-8795-c311cd31e1a2\",\"type\":\"VBar\"},{\"attributes\":{\"active_drag\":\"auto\",\"active_inspect\":\"auto\",\"active_scroll\":\"auto\",\"active_tap\":\"auto\",\"tools\":[{\"id\":\"f4eb6e38-a01a-4485-b245-34c4bb39afdf\",\"type\":\"PanTool\"},{\"id\":\"ce8b7936-5cff-4003-80d2-5e87cea617d4\",\"type\":\"WheelZoomTool\"},{\"id\":\"6b1e1f2c-fbb6-4ce2-8bf0-808093c0c01e\",\"type\":\"BoxZoomTool\"},{\"id\":\"246baa06-2237-4843-aa40-5f42a286b435\",\"type\":\"SaveTool\"},{\"id\":\"aeb4c389-30a9-4d82-aae0-172001b9d49e\",\"type\":\"ResetTool\"},{\"id\":\"0c7e3590-8062-4d66-8f9f-716e7e136500\",\"type\":\"HelpTool\"}]},\"id\":\"78197a38-25fb-4d89-84df-fe3f33d0864d\",\"type\":\"Toolbar\"},{\"attributes\":{},\"id\":\"5e353018-b275-424a-8ad5-365e1dbfbc39\",\"type\":\"CategoricalTickFormatter\"},{\"attributes\":{},\"id\":\"978826b5-2d37-4341-aa11-b24c5d54b435\",\"type\":\"CategoricalScale\"},{\"attributes\":{\"data_source\":{\"id\":\"e0914e60-eb6d-4e05-b84e-bc134f6cf596\",\"type\":\"ColumnDataSource\"},\"glyph\":{\"id\":\"79648f22-9e12-407f-9469-4b5734ee379b\",\"type\":\"VBar\"},\"hover_glyph\":null,\"muted_glyph\":null,\"nonselection_glyph\":{\"id\":\"5ccfb460-fb17-4c64-8795-c311cd31e1a2\",\"type\":\"VBar\"},\"selection_glyph\":null,\"view\":{\"id\":\"fe135582-8a9c-4c90-b075-16c5f32dfc7f\",\"type\":\"CDSView\"}},\"id\":\"67934587-54c2-402f-b4c4-95c861dd0b4e\",\"type\":\"GlyphRenderer\"},{\"attributes\":{\"children\":[{\"id\":\"4fdbc955-544a-4e08-af4a-263ae8995d59\",\"type\":\"ToolbarBox\"},{\"id\":\"6714feaf-6a06-4608-b957-354ce939ea64\",\"type\":\"Column\"}]},\"id\":\"53532412-d061-4b73-bdc1-6e5f61bf065c\",\"type\":\"Column\"},{\"attributes\":{\"callback\":null},\"id\":\"3300a713-7981-4513-8288-18f646ea3bcf\",\"type\":\"DataRange1d\"},{\"attributes\":{},\"id\":\"137ace2b-d766-4386-826a-db964b897db8\",\"type\":\"LinearScale\"},{\"attributes\":{},\"id\":\"8d940bbe-972b-43e2-9c28-9394219e4bea\",\"type\":\"BasicTickFormatter\"},{\"attributes\":{\"source\":{\"id\":\"e0914e60-eb6d-4e05-b84e-bc134f6cf596\",\"type\":\"ColumnDataSource\"}},\"id\":\"06cc08d7-5673-44af-9ad4-c08eb8740447\",\"type\":\"CDSView\"},{\"attributes\":{\"formatter\":{\"id\":\"5e353018-b275-424a-8ad5-365e1dbfbc39\",\"type\":\"CategoricalTickFormatter\"},\"plot\":{\"id\":\"57907fbd-9b46-4e95-9997-85c225f001e1\",\"subtype\":\"Figure\",\"type\":\"Plot\"},\"ticker\":{\"id\":\"70a04b80-8a51-49b7-9eee-0fe1e1beca61\",\"type\":\"CategoricalTicker\"}},\"id\":\"a1f32113-4b85-42bb-a5ce-8f5023f9d8a3\",\"type\":\"CategoricalAxis\"},{\"attributes\":{},\"id\":\"70a04b80-8a51-49b7-9eee-0fe1e1beca61\",\"type\":\"CategoricalTicker\"},{\"attributes\":{\"plot\":{\"id\":\"57907fbd-9b46-4e95-9997-85c225f001e1\",\"subtype\":\"Figure\",\"type\":\"Plot\"},\"ticker\":{\"id\":\"70a04b80-8a51-49b7-9eee-0fe1e1beca61\",\"type\":\"CategoricalTicker\"}},\"id\":\"b14aa5a3-a491-42f5-8c0f-17c511014adf\",\"type\":\"Grid\"},{\"attributes\":{\"formatter\":{\"id\":\"1b17214f-38ba-4767-a30e-b3b5d50bb799\",\"type\":\"BasicTickFormatter\"},\"plot\":{\"id\":\"57907fbd-9b46-4e95-9997-85c225f001e1\",\"subtype\":\"Figure\",\"type\":\"Plot\"},\"ticker\":{\"id\":\"65a2b1e0-e23c-455d-bfea-b586043c6c0f\",\"type\":\"BasicTicker\"}},\"id\":\"6cdd0353-a8a5-483a-be94-ad9d191e5e14\",\"type\":\"LinearAxis\"},{\"attributes\":{\"below\":[{\"id\":\"59af1f3d-831c-456f-8581-58316a739668\",\"type\":\"CategoricalAxis\"}],\"left\":[{\"id\":\"a1eb7038-189e-4022-b7d4-19e836adfc86\",\"type\":\"LinearAxis\"}],\"plot_height\":300,\"plot_width\":300,\"renderers\":[{\"id\":\"59af1f3d-831c-456f-8581-58316a739668\",\"type\":\"CategoricalAxis\"},{\"id\":\"104842aa-c666-4d70-8740-5d2dc1be930a\",\"type\":\"Grid\"},{\"id\":\"a1eb7038-189e-4022-b7d4-19e836adfc86\",\"type\":\"LinearAxis\"},{\"id\":\"b1cadf6b-9ca2-40c9-8942-004647341aca\",\"type\":\"Grid\"},{\"id\":\"56030064-ac7e-449a-8cd0-251cdff349f4\",\"type\":\"BoxAnnotation\"},{\"id\":\"67934587-54c2-402f-b4c4-95c861dd0b4e\",\"type\":\"GlyphRenderer\"}],\"title\":{\"id\":\"ed2795b1-f81b-4b75-bcd1-8b8ed46bf07d\",\"type\":\"Title\"},\"toolbar\":{\"id\":\"dc5f55f5-b4d9-487e-9dfd-4019031d33d6\",\"type\":\"Toolbar\"},\"toolbar_location\":null,\"x_range\":{\"id\":\"4c80db16-862e-4fd9-9f52-af451a71efc5\",\"type\":\"FactorRange\"},\"x_scale\":{\"id\":\"474bacfe-4ebf-41a7-830e-8cfeb5adb677\",\"type\":\"CategoricalScale\"},\"y_range\":{\"id\":\"0d8aa5f1-a613-4d82-8d7b-99371aab4155\",\"type\":\"DataRange1d\"},\"y_scale\":{\"id\":\"3bde7d7c-76d0-45d3-a74f-f55db99eb1ec\",\"type\":\"LinearScale\"}},\"id\":\"fee1c41b-8f00-4bac-a399-0262c916bd86\",\"subtype\":\"Figure\",\"type\":\"Plot\"},{\"attributes\":{},\"id\":\"65a2b1e0-e23c-455d-bfea-b586043c6c0f\",\"type\":\"BasicTicker\"},{\"attributes\":{\"dimension\":1,\"plot\":{\"id\":\"57907fbd-9b46-4e95-9997-85c225f001e1\",\"subtype\":\"Figure\",\"type\":\"Plot\"},\"ticker\":{\"id\":\"65a2b1e0-e23c-455d-bfea-b586043c6c0f\",\"type\":\"BasicTicker\"}},\"id\":\"4f136105-8637-40af-a6ef-05afcd820445\",\"type\":\"Grid\"},{\"attributes\":{\"callback\":null,\"factors\":[\"2008\",\"2009\",\"2010\",\"2011\",\"2012\",\"2013\",\"2014\",\"2015\",\"2016\",\"2017\"]},\"id\":\"7f418285-62bc-402e-914d-275f54875d16\",\"type\":\"FactorRange\"},{\"attributes\":{\"plot\":null,\"text\":\"Brecha\"},\"id\":\"6256f4c3-fe35-4857-821f-2dc148b96ec5\",\"type\":\"Title\"},{\"attributes\":{\"fill_color\":{\"value\":\"#42f4bf\"},\"line_color\":{\"value\":\"white\"},\"top\":{\"field\":\"Brecha_mean\"},\"width\":{\"value\":0.7},\"x\":{\"field\":\"Anios\"}},\"id\":\"97c764af-5da7-409f-9f51-b0cdc682571a\",\"type\":\"VBar\"},{\"attributes\":{\"bottom_units\":\"screen\",\"fill_alpha\":{\"value\":0.5},\"fill_color\":{\"value\":\"lightgrey\"},\"left_units\":\"screen\",\"level\":\"overlay\",\"line_alpha\":{\"value\":1.0},\"line_color\":{\"value\":\"black\"},\"line_dash\":[4,4],\"line_width\":{\"value\":2},\"plot\":null,\"render_mode\":\"css\",\"right_units\":\"screen\",\"top_units\":\"screen\"},\"id\":\"e386a231-cd99-41f8-bd5f-50bf374ce518\",\"type\":\"BoxAnnotation\"},{\"attributes\":{},\"id\":\"f4eb6e38-a01a-4485-b245-34c4bb39afdf\",\"type\":\"PanTool\"},{\"attributes\":{\"callback\":null,\"column_names\":[\"Brecha_count\",\"Brecha_mean\",\"Brecha_std\",\"Brecha_min\",\"Brecha_25%\",\"Brecha_50%\",\"Brecha_75%\",\"Brecha_max\",\"Incidencia_count\",\"Incidencia_mean\",\"Incidencia_std\",\"Incidencia_min\",\"Incidencia_25%\",\"Incidencia_50%\",\"Incidencia_75%\",\"Incidencia_max\",\"Severidad_count\",\"Severidad_mean\",\"Severidad_std\",\"Severidad_min\",\"Severidad_25%\",\"Severidad_50%\",\"Severidad_75%\",\"Severidad_max\",\"Anios\"],\"data\":{\"Anios\":[\"2008\",\"2009\",\"2010\",\"2011\",\"2012\",\"2013\",\"2014\",\"2015\",\"2016\",\"2017\"],\"Brecha_25%\":{\"__ndarray__\":\"j8L1KFyPCkCuR+F6FK4NQFyPwvUoXBFAuB6F61G4CkBSuB6F61EKQNejcD0K1wtAPQrXo3A9BkC4HoXrUbgEQArXo3A9CgVAMzMzMzMzA0A=\",\"dtype\":\"float64\",\"shape\":[10]},\"Brecha_50%\":{\"__ndarray__\":\"j8L1KFyPCkCuR+F6FK4NQFyPwvUoXBFAuB6F61G4CkBSuB6F61EKQNejcD0K1wtAPQrXo3A9BkC4HoXrUbgEQArXo3A9CgVAMzMzMzMzA0A=\",\"dtype\":\"float64\",\"shape\":[10]},\"Brecha_75%\":{\"__ndarray__\":\"j8L1KFyPCkCuR+F6FK4NQFyPwvUoXBFAuB6F61G4CkBSuB6F61EKQNejcD0K1wtAPQrXo3A9BkC4HoXrUbgEQArXo3A9CgVAMzMzMzMzA0A=\",\"dtype\":\"float64\",\"shape\":[10]},\"Brecha_count\":{\"__ndarray__\":\"AAAAAAAA8D8AAAAAAADwPwAAAAAAAPA/AAAAAAAA8D8AAAAAAADwPwAAAAAAAPA/AAAAAAAA8D8AAAAAAADwPwAAAAAAAPA/AAAAAAAA8D8=\",\"dtype\":\"float64\",\"shape\":[10]},\"Brecha_max\":{\"__ndarray__\":\"j8L1KFyPCkCuR+F6FK4NQFyPwvUoXBFAuB6F61G4CkBSuB6F61EKQNejcD0K1wtAPQrXo3A9BkC4HoXrUbgEQArXo3A9CgVAMzMzMzMzA0A=\",\"dtype\":\"float64\",\"shape\":[10]},\"Brecha_mean\":{\"__ndarray__\":\"j8L1KFyPCkCuR+F6FK4NQFyPwvUoXBFAuB6F61G4CkBSuB6F61EKQNejcD0K1wtAPQrXo3A9BkC4HoXrUbgEQArXo3A9CgVAMzMzMzMzA0A=\",\"dtype\":\"float64\",\"shape\":[10]},\"Brecha_min\":{\"__ndarray__\":\"j8L1KFyPCkCuR+F6FK4NQFyPwvUoXBFAuB6F61G4CkBSuB6F61EKQNejcD0K1wtAPQrXo3A9BkC4HoXrUbgEQArXo3A9CgVAMzMzMzMzA0A=\",\"dtype\":\"float64\",\"shape\":[10]},\"Brecha_std\":{\"__ndarray__\":\"AAAAAAAA+H8AAAAAAAD4fwAAAAAAAPh/AAAAAAAA+H8AAAAAAAD4fwAAAAAAAPh/AAAAAAAA+H8AAAAAAAD4fwAAAAAAAPh/AAAAAAAA+H8=\",\"dtype\":\"float64\",\"shape\":[10]},\"Incidencia_25%\":{\"__ndarray__\":\"ZmZmZmbmJEBSuB6F61EmQIXrUbgeBSpAKVyPwvWoJEBxPQrXo/AhQDMzMzMzsyVA16NwPQrXIUB7FK5H4XofQOxRuB6F6x9AZmZmZmZmHUA=\",\"dtype\":\"float64\",\"shape\":[10]},\"Incidencia_50%\":{\"__ndarray__\":\"ZmZmZmbmJEBSuB6F61EmQIXrUbgeBSpAKVyPwvWoJEBxPQrXo/AhQDMzMzMzsyVA16NwPQrXIUB7FK5H4XofQOxRuB6F6x9AZmZmZmZmHUA=\",\"dtype\":\"float64\",\"shape\":[10]},\"Incidencia_75%\":{\"__ndarray__\":\"ZmZmZmbmJEBSuB6F61EmQIXrUbgeBSpAKVyPwvWoJEBxPQrXo/AhQDMzMzMzsyVA16NwPQrXIUB7FK5H4XofQOxRuB6F6x9AZmZmZmZmHUA=\",\"dtype\":\"float64\",\"shape\":[10]},\"Incidencia_count\":{\"__ndarray__\":\"AAAAAAAA8D8AAAAAAADwPwAAAAAAAPA/AAAAAAAA8D8AAAAAAADwPwAAAAAAAPA/AAAAAAAA8D8AAAAAAADwPwAAAAAAAPA/AAAAAAAA8D8=\",\"dtype\":\"float64\",\"shape\":[10]},\"Incidencia_max\":{\"__ndarray__\":\"ZmZmZmbmJEBSuB6F61EmQIXrUbgeBSpAKVyPwvWoJEBxPQrXo/AhQDMzMzMzsyVA16NwPQrXIUB7FK5H4XofQOxRuB6F6x9AZmZmZmZmHUA=\",\"dtype\":\"float64\",\"shape\":[10]},\"Incidencia_mean\":{\"__ndarray__\":\"ZmZmZmbmJEBSuB6F61EmQIXrUbgeBSpAKVyPwvWoJEBxPQrXo/AhQDMzMzMzsyVA16NwPQrXIUB7FK5H4XofQOxRuB6F6x9AZmZmZmZmHUA=\",\"dtype\":\"float64\",\"shape\":[10]},\"Incidencia_min\":{\"__ndarray__\":\"ZmZmZmbmJEBSuB6F61EmQIXrUbgeBSpAKVyPwvWoJEBxPQrXo/AhQDMzMzMzsyVA16NwPQrXIUB7FK5H4XofQOxRuB6F6x9AZmZmZmZmHUA=\",\"dtype\":\"float64\",\"shape\":[10]},\"Incidencia_std\":{\"__ndarray__\":\"AAAAAAAA+H8AAAAAAAD4fwAAAAAAAPh/AAAAAAAA+H8AAAAAAAD4fwAAAAAAAPh/AAAAAAAA+H8AAAAAAAD4fwAAAAAAAPh/AAAAAAAA+H8=\",\"dtype\":\"float64\",\"shape\":[10]},\"Severidad_25%\":{\"__ndarray__\":\"KVyPwvUo/D+F61G4HoX/P3sUrkfhegJA9ihcj8L1/D9xPQrXo3D5P/YoXI/C9fg/PQrXo3A99j/NzMzMzMz0P3E9CtejcPU/rkfhehSu8z8=\",\"dtype\":\"float64\",\"shape\":[10]},\"Severidad_50%\":{\"__ndarray__\":\"KVyPwvUo/D+F61G4HoX/P3sUrkfhegJA9ihcj8L1/D9xPQrXo3D5P/YoXI/C9fg/PQrXo3A99j/NzMzMzMz0P3E9CtejcPU/rkfhehSu8z8=\",\"dtype\":\"float64\",\"shape\":[10]},\"Severidad_75%\":{\"__ndarray__\":\"KVyPwvUo/D+F61G4HoX/P3sUrkfhegJA9ihcj8L1/D9xPQrXo3D5P/YoXI/C9fg/PQrXo3A99j/NzMzMzMz0P3E9CtejcPU/rkfhehSu8z8=\",\"dtype\":\"float64\",\"shape\":[10]},\"Severidad_count\":{\"__ndarray__\":\"AAAAAAAA8D8AAAAAAADwPwAAAAAAAPA/AAAAAAAA8D8AAAAAAADwPwAAAAAAAPA/AAAAAAAA8D8AAAAAAADwPwAAAAAAAPA/AAAAAAAA8D8=\",\"dtype\":\"float64\",\"shape\":[10]},\"Severidad_max\":{\"__ndarray__\":\"KVyPwvUo/D+F61G4HoX/P3sUrkfhegJA9ihcj8L1/D9xPQrXo3D5P/YoXI/C9fg/PQrXo3A99j/NzMzMzMz0P3E9CtejcPU/rkfhehSu8z8=\",\"dtype\":\"float64\",\"shape\":[10]},\"Severidad_mean\":{\"__ndarray__\":\"KVyPwvUo/D+F61G4HoX/P3sUrkfhegJA9ihcj8L1/D9xPQrXo3D5P/YoXI/C9fg/PQrXo3A99j/NzMzMzMz0P3E9CtejcPU/rkfhehSu8z8=\",\"dtype\":\"float64\",\"shape\":[10]},\"Severidad_min\":{\"__ndarray__\":\"KVyPwvUo/D+F61G4HoX/P3sUrkfhegJA9ihcj8L1/D9xPQrXo3D5P/YoXI/C9fg/PQrXo3A99j/NzMzMzMz0P3E9CtejcPU/rkfhehSu8z8=\",\"dtype\":\"float64\",\"shape\":[10]},\"Severidad_std\":{\"__ndarray__\":\"AAAAAAAA+H8AAAAAAAD4fwAAAAAAAPh/AAAAAAAA+H8AAAAAAAD4fwAAAAAAAPh/AAAAAAAA+H8AAAAAAAD4fwAAAAAAAPh/AAAAAAAA+H8=\",\"dtype\":\"float64\",\"shape\":[10]}}},\"id\":\"e0914e60-eb6d-4e05-b84e-bc134f6cf596\",\"type\":\"ColumnDataSource\"},{\"attributes\":{\"formatter\":{\"id\":\"618259a6-31c9-48e8-af4d-3766b5ee5957\",\"type\":\"BasicTickFormatter\"},\"plot\":{\"id\":\"630b28d1-d309-4be4-a8d5-91e3bb815c26\",\"subtype\":\"Figure\",\"type\":\"Plot\"},\"ticker\":{\"id\":\"4f6a17b0-fbe9-468f-87f0-1aedfe2f1293\",\"type\":\"BasicTicker\"}},\"id\":\"ad3ca6a4-bf21-484e-8aed-7ab56cf12c19\",\"type\":\"LinearAxis\"},{\"attributes\":{},\"id\":\"ce8b7936-5cff-4003-80d2-5e87cea617d4\",\"type\":\"WheelZoomTool\"},{\"attributes\":{\"overlay\":{\"id\":\"e386a231-cd99-41f8-bd5f-50bf374ce518\",\"type\":\"BoxAnnotation\"}},\"id\":\"6b1e1f2c-fbb6-4ce2-8bf0-808093c0c01e\",\"type\":\"BoxZoomTool\"},{\"attributes\":{},\"id\":\"246baa06-2237-4843-aa40-5f42a286b435\",\"type\":\"SaveTool\"},{\"attributes\":{},\"id\":\"aeb4c389-30a9-4d82-aae0-172001b9d49e\",\"type\":\"ResetTool\"},{\"attributes\":{},\"id\":\"0c7e3590-8062-4d66-8f9f-716e7e136500\",\"type\":\"HelpTool\"},{\"attributes\":{},\"id\":\"c2d4184f-80ba-4008-8b1d-384b89f6e731\",\"type\":\"LinearScale\"},{\"attributes\":{},\"id\":\"ce20f6d1-3e79-41d9-8878-e8f0aaff3d9e\",\"type\":\"CategoricalScale\"},{\"attributes\":{\"callback\":null},\"id\":\"c4b5ffdf-68b7-41bf-ab81-11fe33cb1568\",\"type\":\"DataRange1d\"},{\"attributes\":{},\"id\":\"5e6aaa42-1e1e-4c4f-ae2f-154baf9402c4\",\"type\":\"CategoricalTicker\"},{\"attributes\":{\"plot\":{\"id\":\"630b28d1-d309-4be4-a8d5-91e3bb815c26\",\"subtype\":\"Figure\",\"type\":\"Plot\"},\"ticker\":{\"id\":\"99555f95-ed52-4509-aa27-202f2827b860\",\"type\":\"CategoricalTicker\"}},\"id\":\"19a70b2c-de43-42f6-9b1e-86afb81d0bbd\",\"type\":\"Grid\"},{\"attributes\":{\"dimension\":1,\"plot\":{\"id\":\"630b28d1-d309-4be4-a8d5-91e3bb815c26\",\"subtype\":\"Figure\",\"type\":\"Plot\"},\"ticker\":{\"id\":\"4f6a17b0-fbe9-468f-87f0-1aedfe2f1293\",\"type\":\"BasicTicker\"}},\"id\":\"38534985-6820-4d53-92bf-e599b5b23704\",\"type\":\"Grid\"},{\"attributes\":{},\"id\":\"99555f95-ed52-4509-aa27-202f2827b860\",\"type\":\"CategoricalTicker\"},{\"attributes\":{\"formatter\":{\"id\":\"23839c34-c58d-4605-ae93-68efff30d6c1\",\"type\":\"CategoricalTickFormatter\"},\"plot\":{\"id\":\"630b28d1-d309-4be4-a8d5-91e3bb815c26\",\"subtype\":\"Figure\",\"type\":\"Plot\"},\"ticker\":{\"id\":\"99555f95-ed52-4509-aa27-202f2827b860\",\"type\":\"CategoricalTicker\"}},\"id\":\"6875be63-b182-49ad-9b50-d8b0a97d6e5e\",\"type\":\"CategoricalAxis\"},{\"attributes\":{},\"id\":\"4f6a17b0-fbe9-468f-87f0-1aedfe2f1293\",\"type\":\"BasicTicker\"},{\"attributes\":{\"sizing_mode\":\"scale_width\",\"toolbar_location\":\"above\",\"tools\":[{\"id\":\"f4eb6e38-a01a-4485-b245-34c4bb39afdf\",\"type\":\"PanTool\"},{\"id\":\"ce8b7936-5cff-4003-80d2-5e87cea617d4\",\"type\":\"WheelZoomTool\"},{\"id\":\"6b1e1f2c-fbb6-4ce2-8bf0-808093c0c01e\",\"type\":\"BoxZoomTool\"},{\"id\":\"246baa06-2237-4843-aa40-5f42a286b435\",\"type\":\"SaveTool\"},{\"id\":\"aeb4c389-30a9-4d82-aae0-172001b9d49e\",\"type\":\"ResetTool\"},{\"id\":\"0c7e3590-8062-4d66-8f9f-716e7e136500\",\"type\":\"HelpTool\"},{\"id\":\"bf2ec53b-44ac-4811-97f0-1a23de18fa4f\",\"type\":\"PanTool\"},{\"id\":\"686f7402-847b-4d1a-aac6-7478b403baf2\",\"type\":\"WheelZoomTool\"},{\"id\":\"f66434fe-972e-4da0-bc66-15e001a5cdbb\",\"type\":\"BoxZoomTool\"},{\"id\":\"bfab7673-d19b-4c4d-96f3-6f93cb32a1b9\",\"type\":\"SaveTool\"},{\"id\":\"0fcb4eee-26b7-48dc-ace1-52f463afef0c\",\"type\":\"ResetTool\"},{\"id\":\"c6fa52cd-5344-4451-b694-271e92ac538b\",\"type\":\"HelpTool\"},{\"id\":\"a0ba3d21-96d9-4b79-a945-372117125b65\",\"type\":\"PanTool\"},{\"id\":\"93b7b2a8-9d48-41ee-8291-feb620b9b911\",\"type\":\"WheelZoomTool\"},{\"id\":\"69fd1b25-000f-4053-ba1a-db01ea1b47bd\",\"type\":\"BoxZoomTool\"},{\"id\":\"a30b74b3-777e-4015-a034-653b85a396a4\",\"type\":\"SaveTool\"},{\"id\":\"82e54809-88fb-4111-90a3-bc0d88d7b181\",\"type\":\"ResetTool\"},{\"id\":\"884592eb-83b8-4803-80b3-d911f6b236db\",\"type\":\"HelpTool\"}]},\"id\":\"4fdbc955-544a-4e08-af4a-263ae8995d59\",\"type\":\"ToolbarBox\"},{\"attributes\":{\"callback\":null,\"factors\":[\"2008\",\"2009\",\"2010\",\"2011\",\"2012\",\"2013\",\"2014\",\"2015\",\"2016\",\"2017\"]},\"id\":\"4c80db16-862e-4fd9-9f52-af451a71efc5\",\"type\":\"FactorRange\"},{\"attributes\":{\"plot\":null,\"text\":\"Severidad\"},\"id\":\"ed2795b1-f81b-4b75-bcd1-8b8ed46bf07d\",\"type\":\"Title\"},{\"attributes\":{\"children\":[{\"id\":\"958fbe3c-947a-436f-9ee0-e6c69531c4b7\",\"type\":\"Row\"}]},\"id\":\"6714feaf-6a06-4608-b957-354ce939ea64\",\"type\":\"Column\"},{\"attributes\":{\"bottom_units\":\"screen\",\"fill_alpha\":{\"value\":0.5},\"fill_color\":{\"value\":\"lightgrey\"},\"left_units\":\"screen\",\"level\":\"overlay\",\"line_alpha\":{\"value\":1.0},\"line_color\":{\"value\":\"black\"},\"line_dash\":[4,4],\"line_width\":{\"value\":2},\"plot\":null,\"render_mode\":\"css\",\"right_units\":\"screen\",\"top_units\":\"screen\"},\"id\":\"2595cf31-5387-4d4d-b9c1-cde4da74421c\",\"type\":\"BoxAnnotation\"},{\"attributes\":{},\"id\":\"bf2ec53b-44ac-4811-97f0-1a23de18fa4f\",\"type\":\"PanTool\"},{\"attributes\":{\"plot\":{\"id\":\"fee1c41b-8f00-4bac-a399-0262c916bd86\",\"subtype\":\"Figure\",\"type\":\"Plot\"},\"ticker\":{\"id\":\"5e6aaa42-1e1e-4c4f-ae2f-154baf9402c4\",\"type\":\"CategoricalTicker\"}},\"id\":\"104842aa-c666-4d70-8740-5d2dc1be930a\",\"type\":\"Grid\"},{\"attributes\":{},\"id\":\"686f7402-847b-4d1a-aac6-7478b403baf2\",\"type\":\"WheelZoomTool\"},{\"attributes\":{\"overlay\":{\"id\":\"2595cf31-5387-4d4d-b9c1-cde4da74421c\",\"type\":\"BoxAnnotation\"}},\"id\":\"f66434fe-972e-4da0-bc66-15e001a5cdbb\",\"type\":\"BoxZoomTool\"},{\"attributes\":{},\"id\":\"bfab7673-d19b-4c4d-96f3-6f93cb32a1b9\",\"type\":\"SaveTool\"},{\"attributes\":{},\"id\":\"0fcb4eee-26b7-48dc-ace1-52f463afef0c\",\"type\":\"ResetTool\"},{\"attributes\":{},\"id\":\"c6fa52cd-5344-4451-b694-271e92ac538b\",\"type\":\"HelpTool\"},{\"attributes\":{\"formatter\":{\"id\":\"7d975744-1f57-4c59-aeae-27f058aaf839\",\"type\":\"CategoricalTickFormatter\"},\"plot\":{\"id\":\"fee1c41b-8f00-4bac-a399-0262c916bd86\",\"subtype\":\"Figure\",\"type\":\"Plot\"},\"ticker\":{\"id\":\"5e6aaa42-1e1e-4c4f-ae2f-154baf9402c4\",\"type\":\"CategoricalTicker\"}},\"id\":\"59af1f3d-831c-456f-8581-58316a739668\",\"type\":\"CategoricalAxis\"},{\"attributes\":{},\"id\":\"3bde7d7c-76d0-45d3-a74f-f55db99eb1ec\",\"type\":\"LinearScale\"},{\"attributes\":{},\"id\":\"474bacfe-4ebf-41a7-830e-8cfeb5adb677\",\"type\":\"CategoricalScale\"},{\"attributes\":{\"callback\":null},\"id\":\"0d8aa5f1-a613-4d82-8d7b-99371aab4155\",\"type\":\"DataRange1d\"},{\"attributes\":{},\"id\":\"2db58872-1bea-4845-a8c0-090c377d462f\",\"type\":\"BasicTicker\"},{\"attributes\":{\"children\":[{\"id\":\"57907fbd-9b46-4e95-9997-85c225f001e1\",\"subtype\":\"Figure\",\"type\":\"Plot\"},{\"id\":\"630b28d1-d309-4be4-a8d5-91e3bb815c26\",\"subtype\":\"Figure\",\"type\":\"Plot\"},{\"id\":\"fee1c41b-8f00-4bac-a399-0262c916bd86\",\"subtype\":\"Figure\",\"type\":\"Plot\"}]},\"id\":\"958fbe3c-947a-436f-9ee0-e6c69531c4b7\",\"type\":\"Row\"},{\"attributes\":{\"fill_color\":{\"value\":\"#f4d341\"},\"line_color\":{\"value\":\"white\"},\"top\":{\"field\":\"Incidencia_mean\"},\"width\":{\"value\":0.7},\"x\":{\"field\":\"Anios\"}},\"id\":\"8b9a8157-6ff7-4f8a-aa30-684a0b4b5579\",\"type\":\"VBar\"},{\"attributes\":{\"formatter\":{\"id\":\"8d940bbe-972b-43e2-9c28-9394219e4bea\",\"type\":\"BasicTickFormatter\"},\"plot\":{\"id\":\"fee1c41b-8f00-4bac-a399-0262c916bd86\",\"subtype\":\"Figure\",\"type\":\"Plot\"},\"ticker\":{\"id\":\"2db58872-1bea-4845-a8c0-090c377d462f\",\"type\":\"BasicTicker\"}},\"id\":\"a1eb7038-189e-4022-b7d4-19e836adfc86\",\"type\":\"LinearAxis\"},{\"attributes\":{\"fill_alpha\":{\"value\":0.1},\"fill_color\":{\"value\":\"#1f77b4\"},\"line_alpha\":{\"value\":0.1},\"line_color\":{\"value\":\"#1f77b4\"},\"top\":{\"field\":\"Incidencia_mean\"},\"width\":{\"value\":0.7},\"x\":{\"field\":\"Anios\"}},\"id\":\"ff1478cd-d824-4bff-94fc-964607b5f209\",\"type\":\"VBar\"},{\"attributes\":{\"dimension\":1,\"plot\":{\"id\":\"fee1c41b-8f00-4bac-a399-0262c916bd86\",\"subtype\":\"Figure\",\"type\":\"Plot\"},\"ticker\":{\"id\":\"2db58872-1bea-4845-a8c0-090c377d462f\",\"type\":\"BasicTicker\"}},\"id\":\"b1cadf6b-9ca2-40c9-8942-004647341aca\",\"type\":\"Grid\"},{\"attributes\":{},\"id\":\"618259a6-31c9-48e8-af4d-3766b5ee5957\",\"type\":\"BasicTickFormatter\"},{\"attributes\":{\"bottom_units\":\"screen\",\"fill_alpha\":{\"value\":0.5},\"fill_color\":{\"value\":\"lightgrey\"},\"left_units\":\"screen\",\"level\":\"overlay\",\"line_alpha\":{\"value\":1.0},\"line_color\":{\"value\":\"black\"},\"line_dash\":[4,4],\"line_width\":{\"value\":2},\"plot\":null,\"render_mode\":\"css\",\"right_units\":\"screen\",\"top_units\":\"screen\"},\"id\":\"56030064-ac7e-449a-8cd0-251cdff349f4\",\"type\":\"BoxAnnotation\"},{\"attributes\":{},\"id\":\"a0ba3d21-96d9-4b79-a945-372117125b65\",\"type\":\"PanTool\"},{\"attributes\":{\"data_source\":{\"id\":\"e0914e60-eb6d-4e05-b84e-bc134f6cf596\",\"type\":\"ColumnDataSource\"},\"glyph\":{\"id\":\"8b9a8157-6ff7-4f8a-aa30-684a0b4b5579\",\"type\":\"VBar\"},\"hover_glyph\":null,\"muted_glyph\":null,\"nonselection_glyph\":{\"id\":\"ff1478cd-d824-4bff-94fc-964607b5f209\",\"type\":\"VBar\"},\"selection_glyph\":null,\"view\":{\"id\":\"06cc08d7-5673-44af-9ad4-c08eb8740447\",\"type\":\"CDSView\"}},\"id\":\"976577ab-75dd-4e18-b23f-024450f2d413\",\"type\":\"GlyphRenderer\"},{\"attributes\":{},\"id\":\"93b7b2a8-9d48-41ee-8291-feb620b9b911\",\"type\":\"WheelZoomTool\"},{\"attributes\":{\"overlay\":{\"id\":\"56030064-ac7e-449a-8cd0-251cdff349f4\",\"type\":\"BoxAnnotation\"}},\"id\":\"69fd1b25-000f-4053-ba1a-db01ea1b47bd\",\"type\":\"BoxZoomTool\"},{\"attributes\":{},\"id\":\"a30b74b3-777e-4015-a034-653b85a396a4\",\"type\":\"SaveTool\"},{\"attributes\":{},\"id\":\"82e54809-88fb-4111-90a3-bc0d88d7b181\",\"type\":\"ResetTool\"},{\"attributes\":{},\"id\":\"884592eb-83b8-4803-80b3-d911f6b236db\",\"type\":\"HelpTool\"},{\"attributes\":{\"data_source\":{\"id\":\"e0914e60-eb6d-4e05-b84e-bc134f6cf596\",\"type\":\"ColumnDataSource\"},\"glyph\":{\"id\":\"97c764af-5da7-409f-9f51-b0cdc682571a\",\"type\":\"VBar\"},\"hover_glyph\":null,\"muted_glyph\":null,\"nonselection_glyph\":{\"id\":\"408abaa9-5299-4da4-b711-f15c762adc83\",\"type\":\"VBar\"},\"selection_glyph\":null,\"view\":{\"id\":\"bb891232-5a2b-4f0b-aada-0b28c2eeca03\",\"type\":\"CDSView\"}},\"id\":\"8ac8309e-f879-4ae4-b99d-a47bacd26784\",\"type\":\"GlyphRenderer\"},{\"attributes\":{\"source\":{\"id\":\"e0914e60-eb6d-4e05-b84e-bc134f6cf596\",\"type\":\"ColumnDataSource\"}},\"id\":\"bb891232-5a2b-4f0b-aada-0b28c2eeca03\",\"type\":\"CDSView\"},{\"attributes\":{\"fill_alpha\":{\"value\":0.1},\"fill_color\":{\"value\":\"#1f77b4\"},\"line_alpha\":{\"value\":0.1},\"line_color\":{\"value\":\"#1f77b4\"},\"top\":{\"field\":\"Brecha_mean\"},\"width\":{\"value\":0.7},\"x\":{\"field\":\"Anios\"}},\"id\":\"408abaa9-5299-4da4-b711-f15c762adc83\",\"type\":\"VBar\"},{\"attributes\":{},\"id\":\"1b17214f-38ba-4767-a30e-b3b5d50bb799\",\"type\":\"BasicTickFormatter\"}],\"root_ids\":[\"53532412-d061-4b73-bdc1-6e5f61bf065c\"]},\"title\":\"Bokeh Application\",\"version\":\"0.12.10\"}};\n",
       "    var render_items = [{\"docid\":\"50e2eacd-2549-47a9-90d7-45fd66ef48a9\",\"elementid\":\"3e07e74c-2ab3-41b3-b15b-e34e5b7b67bc\",\"modelid\":\"53532412-d061-4b73-bdc1-6e5f61bf065c\"}];\n",
       "\n",
       "    root.Bokeh.embed.embed_items(docs_json, render_items);\n",
       "  }\n",
       "\n",
       "  if (root.Bokeh !== undefined) {\n",
       "    embed_document(root);\n",
       "  } else {\n",
       "    var attempts = 0;\n",
       "    var timer = setInterval(function(root) {\n",
       "      if (root.Bokeh !== undefined) {\n",
       "        embed_document(root);\n",
       "        clearInterval(timer);\n",
       "      }\n",
       "      attempts++;\n",
       "      if (attempts > 100) {\n",
       "        console.log(\"Bokeh: ERROR: Unable to embed document because BokehJS library is missing\")\n",
       "        clearInterval(timer);\n",
       "      }\n",
       "    }, 10, root)\n",
       "  }\n",
       "})(window);"
      ],
      "application/vnd.bokehjs_exec.v0+json": ""
     },
     "metadata": {
      "application/vnd.bokehjs_exec.v0+json": {
       "id": "53532412-d061-4b73-bdc1-6e5f61bf065c"
      }
     },
     "output_type": "display_data"
    }
   ],
   "source": [
    "# Creamos un objeto de figura por cada gráfica y establecemos sus opciones y titulo. (opciones)\n",
    "graph_bar_1 = figure(\n",
    "    title='Incidencia', # título de esta grafica en particular\n",
    "    plot_width=300, plot_height=300, # Tamaño\n",
    "    x_range=group1, # Mandamos el rango de x\n",
    ")\n",
    "graph_bar_2 = figure(title='Brecha', plot_width=300, plot_height=300, x_range=group1)\n",
    "graph_bar_3 = figure(title='Severidad', plot_width=300, plot_height=300, x_range=group1)\n",
    "\n",
    "# Definimos lo que cada una de nuestras graficas representara\n",
    "graph_bar_1.vbar(\n",
    "    x='Anios', # datos en x\n",
    "    top='Incidencia_mean', # valor máximo\n",
    "    width=0.7, # ancho de cada barra\n",
    "    line_color=\"white\", # color del borde de cada barra\n",
    "    color=\"#f4d341\", # color de cada barra\n",
    "    source=source\n",
    ")\n",
    "graph_bar_2.vbar(x='Anios', top='Brecha_mean', width=0.7, line_color=\"white\", color=\"#42f4bf\", source=source)\n",
    "graph_bar_3.vbar(x='Anios', top='Severidad_mean', width=0.7, line_color=\"white\", color=\"#f44171\", source=source)\n",
    "\n",
    "# Creamos una nueva figura que está compuesta por las figuras creadas anteriormente\n",
    "graph_bar = gridplot([[graph_bar_1, graph_bar_2, graph_bar_3]]) # agrupamos nuestas graficas\n",
    "show(graph_bar) # Mostramos los resultados"
   ]
  },
  {
   "cell_type": "markdown",
   "metadata": {},
   "source": [
    "**En este gráfico, podemos observar sobre la pobreza dependiendo de la incidencia, brecha y serenidad de la ciudad de quito desde el año 2008 hasta el 2016, ya que nos daremos cuenta en cada año como va aumentado y disminuyendo, de la misma. **"
   ]
  },
  {
   "cell_type": "markdown",
   "metadata": {},
   "source": [
    "## Grafico de pastel"
   ]
  },
  {
   "cell_type": "code",
   "execution_count": 39,
   "metadata": {},
   "outputs": [
    {
     "data": {
      "application/vnd.jupyter.widget-view+json": {
       "model_id": "2c7fbeaba6ac4dbfbcfa959848fd596d",
       "version_major": 2,
       "version_minor": 0
      },
      "text/html": [
       "<p>Failed to display Jupyter Widget of type <code>interactive</code>.</p>\n",
       "<p>\n",
       "  If you're reading this message in the Jupyter Notebook or JupyterLab Notebook, it may mean\n",
       "  that the widgets JavaScript is still loading. If this message persists, it\n",
       "  likely means that the widgets JavaScript library is either not installed or\n",
       "  not enabled. See the <a href=\"https://ipywidgets.readthedocs.io/en/stable/user_install.html\">Jupyter\n",
       "  Widgets Documentation</a> for setup instructions.\n",
       "</p>\n",
       "<p>\n",
       "  If you're reading this message in another frontend (for example, a static\n",
       "  rendering on GitHub or <a href=\"https://nbviewer.jupyter.org/\">NBViewer</a>),\n",
       "  it may mean that your frontend doesn't currently support widgets.\n",
       "</p>\n"
      ],
      "text/plain": [
       "interactive(children=(IntSlider(value=5, description='x', max=10, min=1), Output()), _dom_classes=('widget-interact',))"
      ]
     },
     "metadata": {},
     "output_type": "display_data"
    }
   ],
   "source": [
    "# Importamos `pi` de la librería `numpy` para el Angulo en nuestras graficas\n",
    "# Y `interact` de `ipywidgets` para poder interactuar con nuestra grafica\n",
    "from numpy import pi\n",
    "from ipywidgets import interact\n",
    "\n",
    "# Creamos una variable contiene los parámetros de nuestra grafica final\n",
    "options = dict( # opciones que compartirán cada una de nuestras graficas\n",
    "    plot_width=300, plot_height=300 # Tamaño\n",
    ")\n",
    "\n",
    "# Definimos cada una de las gráficas de pastel que representaremos, su título, \n",
    "# la cuadricula que mostrara, y las opciones antes definidas de la gráfica anterior\n",
    "graph_pie_1 = figure(\n",
    "    title='Incidencia', # título de esta grafica en particular\n",
    "    x_range=(-1,1),\n",
    "    y_range=(-1,1),\n",
    "    **options\n",
    ")\n",
    "graph_pie_2 = figure(title='Brecha', x_range=(-1,1), y_range=(-1,1), **options)\n",
    "graph_pie_3 = figure(title='Severidad', x_range=(-1,1), y_range=(-1,1), **options)\n",
    "\n",
    "# Definimos una función que será llamada cada vez que interactuemos con el slider\n",
    "def f(x):\n",
    "    graph_pie_1.wedge(\n",
    "        x=0, y=0, radius=0.8, # centro y radio\n",
    "        start_angle=[0.0, data.Incidencia[x]*2*pi/100], # valores donde inicia cada parte\n",
    "        end_angle=[data.Incidencia[x]*2*pi, 2*pi],  # valores donde termina cada parte del pastel\n",
    "        color=['#f4d341','#686060'] # color de cada parte\n",
    "    )\n",
    "    graph_pie_2.wedge(\n",
    "        x=0, y=0, radius=0.8, \n",
    "        start_angle=[0.0, data.Brecha[x]*2*pi/100], \n",
    "        end_angle=[data.Brecha[x]*2*pi, 2*pi], \n",
    "        color=['#42f4bf','#686060']\n",
    "    )\n",
    "    graph_pie_3.wedge(\n",
    "        x=0, y=0, radius=0.8, \n",
    "        start_angle=[0.0, data.Severidad[x]*2*pi/100], \n",
    "        end_angle=[data.Severidad[x]*2*pi, 2*pi], \n",
    "        color=['#f44171','#686060']\n",
    "    )\n",
    "    \n",
    "    \n",
    "    print(\"Año: \"+str(int(data.Anios[x])))\n",
    "    graph_pie = gridplot([[graph_pie_1, graph_pie_2, graph_pie_3]]) # agrupamos nuestras  graficas\n",
    "    show(graph_pie) # Mostramos los resultados\n",
    "    \n",
    "# Mostramos la gráfica y el slider con el que podremos interactuar\n",
    "interact(f, x=(1,10));"
   ]
  },
  {
   "cell_type": "markdown",
   "metadata": {},
   "source": [
    "**Con el slider podemos avanzar en el tiempo para poder observar que cada año se ha producido una disminución del porcentaje de pobreza**"
   ]
  },
  {
   "cell_type": "markdown",
   "metadata": {},
   "source": [
    "# Bibliografía \n",
    "----\n",
    "Este notebook fue realiza con jupyter notebook. - http://jupyter.org/\n",
    "\n",
    "Una página que utilizamos, para poder hacer las gráficas se utilizó bokeh. - https://bokeh.pydata.org/en/latest/\n",
    "\n",
    "Carga de datos Pandas. - https://pandas.pydata.org/\n",
    "\n",
    "Datos obtenidos de Ecuador en cifras. - http://www.ecuadorencifras.gob.ec/"
   ]
  }
 ],
 "metadata": {
  "kernelspec": {
   "display_name": "Python 3",
   "language": "python",
   "name": "python3"
  },
  "language_info": {
   "codemirror_mode": {
    "name": "ipython",
    "version": 3
   },
   "file_extension": ".py",
   "mimetype": "text/x-python",
   "name": "python",
   "nbconvert_exporter": "python",
   "pygments_lexer": "ipython3",
   "version": "3.6.3"
  }
 },
 "nbformat": 4,
 "nbformat_minor": 2
}
