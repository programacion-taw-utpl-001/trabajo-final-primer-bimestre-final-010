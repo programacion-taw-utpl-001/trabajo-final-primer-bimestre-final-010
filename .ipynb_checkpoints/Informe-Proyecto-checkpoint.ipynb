{
 "cells": [
  {
   "cell_type": "markdown",
   "metadata": {},
   "source": [
    "# PROYECTO DE VISUALIZACION DE DATOS "
   ]
  },
  {
   "cell_type": "markdown",
   "metadata": {},
   "source": [
    "## SET DE DATOS\n",
    "----\n",
    "**Los datos que trabajaremos son del sitio web Ecuador en cifras, sobre la pobreza en ciudades como Quito, Guayaquil, y otras del Ecuador**"
   ]
  },
  {
   "cell_type": "markdown",
   "metadata": {},
   "source": [
    "Para poder cargar nuestro set de datos necesitamos importar la librería de `pandas`"
   ]
  },
  {
   "cell_type": "code",
   "execution_count": null,
   "metadata": {},
   "outputs": [],
   "source": [
    "import pandas as pd"
   ]
  },
  {
   "cell_type": "markdown",
   "metadata": {},
   "source": [
    "Nuestro conjunto de datos está en formato `.csv`, por lo que usaremos `read_csv` de pandas."
   ]
  },
  {
   "cell_type": "code",
   "execution_count": null,
   "metadata": {},
   "outputs": [],
   "source": [
    "# guardamos nuestra tabla en una variable data, después de haber sido leída por pandas\n",
    "raw_data = pd.read_csv(\n",
    "    './assets/datosPobreza.csv', # dirección donde esta nuestra data\n",
    "    sep=';', # separador de datos para ser leídos por pandas\n",
    "    decimal=\",\" # el separador, o sino nuestros números serán tratados como strings si contienen \"comas\"\n",
    ")"
   ]
  },
  {
   "cell_type": "markdown",
   "metadata": {},
   "source": [
    "`read_csv` devuelve un `DataFrame`, una estructura tabular de datos proporcionada por pandas. Un `DataFrame` está dotado de varios atributos y métodos útiles para explorar los datos."
   ]
  },
  {
   "cell_type": "markdown",
   "metadata": {},
   "source": [
    "Con la función `head()` sobre nuestro `DataFrame` podemos mostrar los primeras filas de nuestra data, para no presentar todas las filas. "
   ]
  },
  {
   "cell_type": "code",
   "execution_count": null,
   "metadata": {},
   "outputs": [],
   "source": [
    "raw_data.head()"
   ]
  },
  {
   "cell_type": "markdown",
   "metadata": {},
   "source": [
    "Con la función `[1:]` eliminamos la primera fila, ya que no son parte de los datos que usaremos"
   ]
  },
  {
   "cell_type": "code",
   "execution_count": null,
   "metadata": {},
   "outputs": [],
   "source": [
    "raw_data = raw_data[1:]"
   ]
  },
  {
   "cell_type": "code",
   "execution_count": null,
   "metadata": {},
   "outputs": [],
   "source": [
    "raw_data.shape  # números de campos de nuestra data"
   ]
  },
  {
   "cell_type": "markdown",
   "metadata": {},
   "source": [
    "Un `DataFrame` se compone de dos componentes principales; \n",
    " - Los datos mismos, que se pueden extraer a través del atributo de valores\n",
    " - Conjunto de índices, que son esencialmente etiquetas para las filas y columnas del DataFrame."
   ]
  },
  {
   "cell_type": "code",
   "execution_count": null,
   "metadata": {},
   "outputs": [],
   "source": [
    "raw_data.index"
   ]
  },
  {
   "cell_type": "code",
   "execution_count": null,
   "metadata": {},
   "outputs": [],
   "source": [
    "raw_data.columns"
   ]
  },
  {
   "cell_type": "markdown",
   "metadata": {},
   "source": [
    "Pero, un `índice` es más que un conjunto de etiquetas. Es importante destacar que asegura la **alineación de datos** cuando se agregan datos o se combinan estructuras de datos.\n",
    "\n",
    "De hecho, podemos especificar un índice más apropiado para nuestros datos. El campo Año aquí es un índice único para los valores de análisis correspondientes.\n",
    "\n",
    "`set_index` nos permite convertir cualquier columna (o matriz externa) que elijamos en el índice de fila."
   ]
  },
  {
   "cell_type": "code",
   "execution_count": null,
   "metadata": {},
   "outputs": [],
   "source": [
    "temp = raw_data.set_index('Anios')\n",
    "temp.head(2)"
   ]
  },
  {
   "cell_type": "markdown",
   "metadata": {},
   "source": [
    "## Data\n",
    "Para nuestra tabla agruparemos los datos de Quito para nuestras graficas"
   ]
  },
  {
   "cell_type": "code",
   "execution_count": null,
   "metadata": {},
   "outputs": [],
   "source": [
    "data = raw_data.drop(['Período', 'Guayaquil', 'Guayaquil.1', 'Guayaquil.2', 'Cuenca', 'Cuenca.1', 'Cuenca.2', 'Machala', 'Machala.1', 'Machala.2', 'Ambato', 'Ambato.1', 'Ambato.2'], axis=1)\n",
    "data['Anios'] = data['Anios'].astype(int).astype(str)\n",
    "data.head(1)"
   ]
  },
  {
   "cell_type": "markdown",
   "metadata": {},
   "source": [
    "Cambiaremos los nombres de las columnas de nuestra data para ver lo que representaremos"
   ]
  },
  {
   "cell_type": "code",
   "execution_count": null,
   "metadata": {},
   "outputs": [],
   "source": [
    "data.columns = ['Anios', 'Incidencia', 'Brecha', 'Severidad']\n",
    "data.head(1)"
   ]
  },
  {
   "cell_type": "markdown",
   "metadata": {},
   "source": [
    "### ¿Qué es incidencia de la pobreza?\n",
    "Número de personas pobres expresado como porcentaje del total de la población en un determinado año. Se define como \"pobres\" a aquellas personas que pertenecen a hogares cuyo consumo per cápita, en un período determinado, es inferior al valor de la línea de pobreza.\n",
    "### ¿Qué es la brecha de la pobreza?\n",
    "La línea de pobreza es el equivalente monetario del costo de una canasta básica de bienes y servicios. La brecha de la pobreza refleja cuan pobres son los pobres y, por tanto, proporciona una idea de la profundidad de las carencias de ingreso o consumo que definen una situación de pobreza.\n",
    "### ¿Qué es la severidad de la pobreza?\n",
    "P es un promedio (sobre la población total, n) de las distancias que separan a individuos u hogares de la línea de pobreza, ponderado por un exponente. El valor del exponente permite que la misma fórmula dé como resultado la incidencia, brecha y severidad de la pobreza como casos especiales de la medida."
   ]
  },
  {
   "cell_type": "markdown",
   "metadata": {},
   "source": [
    "## MARCO TEORICO \n",
    "----"
   ]
  },
  {
   "cell_type": "markdown",
   "metadata": {},
   "source": [
    "## Python \n",
    "\n",
    "Python es un lenguaje de programación interpretado cuya filosofía hace hincapié en una sintaxis que favorezca un código legible.\n",
    "\n",
    "Se trata de un lenguaje de programación multiparadigma, ya que soporta orientación a objetos, programación imperativa y, en menor medida, programación funcional. Es un lenguaje interpretado, usa tipado dinámico y es multiplataforma.\n",
    "\n",
    "\n",
    "## Pandas\n",
    "\n",
    "Pandas es una biblioteca de código abierto con licencia de BSD que proporciona estructuras de datos y herramientas de análisis de datos de alto rendimiento y fácil de usar para el lenguaje de programación Python.\n",
    "\n",
    "pandas es un proyecto patrocinado por NUMFocus. Esto ayudará a garantizar el éxito del desarrollo de los pandas como un proyecto de código abierto de clase mundial, y hace posible donar para el proyecto.\n",
    "\n",
    "## Bokeh\n",
    "\n",
    "Bokeh es una biblioteca de visualización interactiva de Python que se dirige a navegadores web modernos para su presentación. Su objetivo es proporcionar una construcción elegante y concisa de gráficos novedosos al estilo de D3.js y ampliar esta capacidad con interactividad de alto rendimiento en conjuntos de datos de gran tamaño o de transmisión"
   ]
  },
  {
   "cell_type": "markdown",
   "metadata": {},
   "source": [
    "## PROPUESTAS DE VISUALIZACION\n",
    "---\n",
    "**Para la visualización de datos se utilizo la librería bokeh**\n",
    "Con los datos descritos anterior mente utilizaremos bokeh como una manera grafica de visualizar nuestra tabla.\n",
    "\n",
    " - Usarnos gráficos de líneas para visualizar la diferencia que existe en nuestros datos\n",
    " - Utilizaremos gráficos de barras para visualizar la semejanza de los datos del mismo año\n",
    " - También utilizaremos gráficos de pastel interactivos con los que podremos observar la variación de datos dentro de nuestro rango de años."
   ]
  },
  {
   "cell_type": "markdown",
   "metadata": {},
   "source": [
    "Al usar la interfaz bokeh.plotting, necesitamos importar:\n",
    "\n",
    " - Use la función de `figure` para crear nuevos objetos de trazado para trabajar.\n",
    " - Las funciones `output_file`, `output_notebook` para indicar a Bokeh cómo mostrar el resultado."
   ]
  },
  {
   "cell_type": "code",
   "execution_count": null,
   "metadata": {},
   "outputs": [],
   "source": [
    "from bokeh.io import show\n",
    "from bokeh.plotting import figure\n",
    "from bokeh.models import ColumnDataSource"
   ]
  },
  {
   "cell_type": "markdown",
   "metadata": {},
   "source": [
    "Importamos `gridplot` - para presentar varias graficas en una"
   ]
  },
  {
   "cell_type": "code",
   "execution_count": null,
   "metadata": {},
   "outputs": [],
   "source": [
    "from bokeh.layouts import gridplot"
   ]
  },
  {
   "cell_type": "markdown",
   "metadata": {},
   "source": [
    "En este caso, estamos en `jupyter notebook`, así que llamamos a `output_notebook()`. Solo debemos llamar esto una vez para mostrar nuestras graficas en el cuaderno usando la función `show()` de bokeh."
   ]
  },
  {
   "cell_type": "code",
   "execution_count": null,
   "metadata": {},
   "outputs": [],
   "source": [
    "from bokeh.io import output_notebook\n",
    "output_notebook()"
   ]
  },
  {
   "cell_type": "markdown",
   "metadata": {},
   "source": [
    "# GRAFICAS\n",
    "----"
   ]
  },
  {
   "cell_type": "markdown",
   "metadata": {},
   "source": [
    "## Gráfico de Líneas"
   ]
  },
  {
   "cell_type": "code",
   "execution_count": null,
   "metadata": {},
   "outputs": [],
   "source": [
    "group1 = data.groupby('Anios')\n",
    "source = ColumnDataSource(group1)\n",
    "\n",
    "# Características que tendrá nuestra grafica\n",
    "graph_line = figure(\n",
    "    plot_height=400, # ancho\n",
    "    plot_width=900, # alto\n",
    "    x_range=group1,\n",
    "    title='POBREZA-QUITO' # titulo\n",
    ")\n",
    "\n",
    "# Definimos los datos que representara cada \"Línea\", y otras opciones como color y leyenda\n",
    "graph_line.line(\n",
    "    x='Anios', # datos en x\n",
    "    y='Incidencia_mean', # datos en y\n",
    "    color='#f4d341', # color de las líneas\n",
    "    legend='Incidencia', # leyenda que representa nuestra grafica\n",
    "    line_width=5,\n",
    "    source=source\n",
    ")\n",
    "graph_line.line(\n",
    "    x='Anios', y='Brecha_mean', color='#42f4bf', legend='Brecha',line_width=5,source=source\n",
    ")\n",
    "graph_line.line(\n",
    "    x='Anios', y='Severidad_mean', color='#f44171', legend='Severidad',line_width=5,source=source\n",
    ")\n",
    "\n",
    "# Para no mostramos los trazados del plano y presentamos nuestra grafica\n",
    "graph_line.xgrid.grid_line_color = None # eliminamos las lineas verticales\n",
    "graph_line.ygrid.grid_line_color = None # horizontales\n",
    "\n",
    "show(graph_line) # mostramos nuestra grafica"
   ]
  },
  {
   "cell_type": "markdown",
   "metadata": {},
   "source": [
    "**En esta gráfica, podemos observar la pobreza recuerdo con la incidencia, que desde el año 2008 al 2010, tiene una mayoría de pobreza y del 2010 al 2012 a disminuido de la misma, y del 2012 en adelante sido desmullendo la pobreza, mientras que la pobreza recuerdo con la brecha, casi se aumentado en un rango mínimo, desde el año 2008 al 2016, y por último la pobreza de acuerdo con la serenidad no ha existido un rango alto de pobreza, si no que se ha ido manteniendo en un porcentaje medio.**"
   ]
  },
  {
   "cell_type": "markdown",
   "metadata": {},
   "source": [
    "## Gráfico de barras"
   ]
  },
  {
   "cell_type": "code",
   "execution_count": null,
   "metadata": {},
   "outputs": [],
   "source": [
    "group1 = data.groupby('Anios')\n",
    "source = ColumnDataSource(group1)\n",
    "\n",
    "# Creamos un objeto de figura por cada gráfica y establecemos sus opciones y titulo. (opciones)\n",
    "graph_bar_1 = figure(\n",
    "    title='Incidencia', # título de esta grafica en particular\n",
    "    plot_width=300, plot_height=300, # Tamaño\n",
    "    x_range=group1, # Mandamos el rango de x\n",
    ")\n",
    "graph_bar_2 = figure(title='Brecha', plot_width=300, plot_height=300, x_range=group1)\n",
    "graph_bar_3 = figure(title='Severidad', plot_width=300, plot_height=300, x_range=group1)\n",
    "\n",
    "# Definimos lo que cada una de nuestras graficas representara\n",
    "graph_bar_1.vbar(\n",
    "    x='Anios', # datos en x\n",
    "    top='Incidencia_mean', # valor máximo\n",
    "    width=0.7, # ancho de cada barra\n",
    "    line_color=\"white\", # color del borde de cada barra\n",
    "    color=\"#f4d341\", # color de cada barra\n",
    "    source=source\n",
    ")\n",
    "graph_bar_2.vbar(\n",
    "    x='Anios', top='Brecha_mean', width=0.7, line_color=\"white\", color=\"#42f4bf\", source=source\n",
    ")\n",
    "graph_bar_3.vbar(\n",
    "    x='Anios', top='Severidad_mean', width=0.7, line_color=\"white\", color=\"#f44171\", source=source\n",
    ")\n",
    "\n",
    "# Creamos una nueva figura que está compuesta por las figuras creadas anteriormente\n",
    "graph_bar = gridplot([[graph_bar_1, graph_bar_2, graph_bar_3]]) # agrupamos nuestas graficas\n",
    "show(graph_bar) # Mostramos los resultados"
   ]
  },
  {
   "cell_type": "markdown",
   "metadata": {},
   "source": [
    "**En este gráfico, podemos observar sobre la pobreza dependiendo de la incidencia, brecha y serenidad de la ciudad de quito desde el año 2008 hasta el 2016, ya que nos daremos cuenta en cada año como va aumentado y disminuyendo, de la misma. **"
   ]
  },
  {
   "cell_type": "markdown",
   "metadata": {},
   "source": [
    "## Grafico de pastel"
   ]
  },
  {
   "cell_type": "code",
   "execution_count": null,
   "metadata": {},
   "outputs": [],
   "source": [
    "# Importamos `pi` de la librería `numpy` para el Angulo en nuestras graficas\n",
    "# Y `interact` de `ipywidgets` para poder interactuar con nuestra grafica\n",
    "from numpy import pi\n",
    "from ipywidgets import interact\n",
    "\n",
    "# Creamos una variable contiene los parámetros de nuestra grafica final\n",
    "options = dict( # opciones que compartirán cada una de nuestras graficas\n",
    "    plot_width=300, plot_height=300 # Tamaño\n",
    ")\n",
    "\n",
    "# Definimos cada una de las gráficas de pastel que representaremos, su título, \n",
    "# la cuadricula que mostrara, y las opciones antes definidas de la gráfica anterior\n",
    "graph_pie_1 = figure(\n",
    "    title='Incidencia', # título de esta grafica en particular\n",
    "    x_range=(-1,1),\n",
    "    y_range=(-1,1),\n",
    "    **options\n",
    ")\n",
    "graph_pie_2 = figure(title='Brecha', x_range=(-1,1), y_range=(-1,1), **options)\n",
    "graph_pie_3 = figure(title='Severidad', x_range=(-1,1), y_range=(-1,1), **options)\n",
    "\n",
    "# Definimos una función que será llamada cada vez que interactuemos con el slider\n",
    "def f(x):\n",
    "    graph_pie_1.wedge(\n",
    "        x=0, y=0, radius=0.8, # centro y radio\n",
    "        start_angle=[0.0, data.Incidencia[x]*2*pi/100], # valores donde inicia cada parte\n",
    "        end_angle=[data.Incidencia[x]*2*pi, 2*pi],  # valores donde termina cada parte del pastel\n",
    "        color=['#f4d341','#686060'] # color de cada parte\n",
    "    )\n",
    "    graph_pie_2.wedge(\n",
    "        x=0, y=0, radius=0.8, \n",
    "        start_angle=[0.0, data.Brecha[x]*2*pi/100], \n",
    "        end_angle=[data.Brecha[x]*2*pi, 2*pi], \n",
    "        color=['#42f4bf','#686060']\n",
    "    )\n",
    "    graph_pie_3.wedge(\n",
    "        x=0, y=0, radius=0.8, \n",
    "        start_angle=[0.0, data.Severidad[x]*2*pi/100], \n",
    "        end_angle=[data.Severidad[x]*2*pi, 2*pi], \n",
    "        color=['#f44171','#686060']\n",
    "    )\n",
    "    \n",
    "    \n",
    "    print(\"Año: \"+str(int(data.Anios[x])))\n",
    "    graph_pie = gridplot([[graph_pie_1, graph_pie_2, graph_pie_3]]) # agrupamos nuestras  graficas\n",
    "    show(graph_pie) # Mostramos los resultados\n",
    "    \n",
    "# Mostramos la gráfica y el slider con el que podremos interactuar\n",
    "interact(f, x=(1,10));"
   ]
  },
  {
   "cell_type": "markdown",
   "metadata": {},
   "source": [
    "**Con el slider podemos avanzar en el tiempo para poder observar que cada año se ha producido una disminución del porcentaje de pobreza**"
   ]
  },
  {
   "cell_type": "markdown",
   "metadata": {},
   "source": [
    "# Bibliografía \n",
    "----\n",
    "Este notebook fue realiza con jupyter notebook. - http://jupyter.org/\n",
    "\n",
    "Una página que utilizamos, para poder hacer las gráficas se utilizó bokeh. - https://bokeh.pydata.org/en/latest/\n",
    "\n",
    "Carga de datos Pandas. - https://pandas.pydata.org/\n",
    "\n",
    "Datos obtenidos de Ecuador en cifras. - http://www.ecuadorencifras.gob.ec/"
   ]
  }
 ],
 "metadata": {
  "kernelspec": {
   "display_name": "Python 3",
   "language": "python",
   "name": "python3"
  },
  "language_info": {
   "codemirror_mode": {
    "name": "ipython",
    "version": 3
   },
   "file_extension": ".py",
   "mimetype": "text/x-python",
   "name": "python",
   "nbconvert_exporter": "python",
   "pygments_lexer": "ipython3",
   "version": "3.6.3"
  }
 },
 "nbformat": 4,
 "nbformat_minor": 2
}
