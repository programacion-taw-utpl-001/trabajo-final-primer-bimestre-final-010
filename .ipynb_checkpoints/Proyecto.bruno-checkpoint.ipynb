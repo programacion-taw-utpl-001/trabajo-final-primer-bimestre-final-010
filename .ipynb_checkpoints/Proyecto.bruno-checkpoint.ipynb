{
 "cells": [
  {
   "cell_type": "markdown",
   "metadata": {},
   "source": [
    "# Manejo y Visualización de Datos con Python"
   ]
  },
  {
   "cell_type": "markdown",
   "metadata": {},
   "source": [
    "Para este trabajo se utilizo"
   ]
  },
  {
   "cell_type": "markdown",
   "metadata": {},
   "source": [
    " - **pandas**: Un módulo que proporciona estructuras de datos y herramientas de análisis de datos de alto rendimiento y fácil de usar."
   ]
  },
  {
   "cell_type": "markdown",
   "metadata": {},
   "source": [
    "## pandas\n",
    "\n",
    "pandas es un paquete de Python que proporciona estructuras de datos rápidas, flexibles y expresivas diseñadas para trabajar con datos relacionales o etiquetados. Es un componente fundamental de alto nivel para hacer un análisis práctico y real de datos en Python."
   ]
  },
  {
   "cell_type": "code",
   "execution_count": 1,
   "metadata": {},
   "outputs": [],
   "source": [
    "import pandas as pd"
   ]
  },
  {
   "cell_type": "markdown",
   "metadata": {},
   "source": [
    "¿Cómo hacemos para que este conjunto de datos se convierta en una estructura de datos pandas?\n",
    "pandas hace que sea muy fácil importar datos en varios formatos con su conjunto de funciones de importación:"
   ]
  },
  {
   "cell_type": "code",
   "execution_count": 2,
   "metadata": {},
   "outputs": [
    {
     "data": {
      "text/plain": [
       "['read_clipboard',\n",
       " 'read_csv',\n",
       " 'read_excel',\n",
       " 'read_feather',\n",
       " 'read_fwf',\n",
       " 'read_gbq',\n",
       " 'read_hdf',\n",
       " 'read_html',\n",
       " 'read_json',\n",
       " 'read_msgpack',\n",
       " 'read_parquet',\n",
       " 'read_pickle',\n",
       " 'read_sas',\n",
       " 'read_sql',\n",
       " 'read_sql_query',\n",
       " 'read_sql_table',\n",
       " 'read_stata',\n",
       " 'read_table']"
      ]
     },
     "execution_count": 2,
     "metadata": {},
     "output_type": "execute_result"
    }
   ],
   "source": [
    "# esta es un arreglo comprimido que contiene formatos que puede leer pandas\n",
    "[formatos for formatos in dir(pd) if formatos.startswith('read_')]"
   ]
  },
  {
   "cell_type": "markdown",
   "metadata": {},
   "source": [
    "Nuestro conjunto de datos está en formato `.csv`, por lo que usaremos `read_csv` de pandas.\n",
    "\n",
    "**Los datos que trabajaremos son del sitio web Ecuador en cifras, sobre la probresa en ciudades como Quito, Guayaquil, y otras del Ecuador**"
   ]
  },
  {
   "cell_type": "code",
   "execution_count": 3,
   "metadata": {},
   "outputs": [],
   "source": [
    "# guardamos nuestra tabla en una variable data, despues de haver sido leida por pandas\n",
    "raw_data = pd.read_csv(\n",
    "    './assets/datosPobreza.csv', # direccion donde esta nuestra data\n",
    "    sep=';', # separador de datos para ser leidos por pandas\n",
    "    decimal=\",\" # el separador, o sino nuestros numeros seran tratados como strings si contienen \"comas\"\n",
    ")"
   ]
  },
  {
   "cell_type": "markdown",
   "metadata": {},
   "source": [
    "`read_csv` devuelve un `DataFrame`, una estructura tabular de datos proporcionada por pandas."
   ]
  },
  {
   "cell_type": "code",
   "execution_count": 4,
   "metadata": {},
   "outputs": [
    {
     "data": {
      "text/plain": [
       "pandas.core.frame.DataFrame"
      ]
     },
     "execution_count": 4,
     "metadata": {},
     "output_type": "execute_result"
    }
   ],
   "source": [
    "type(raw_data)"
   ]
  },
  {
   "cell_type": "markdown",
   "metadata": {},
   "source": [
    "Un `DataFrame` está dotado de varios atributos y métodos útiles para explorar los datos."
   ]
  },
  {
   "cell_type": "markdown",
   "metadata": {},
   "source": [
    "Con la funcion `head()` sobre nuestro `DataFrame` podemos mostrar los primeras filas de nuestra data, para no presentar todas las filas. "
   ]
  },
  {
   "cell_type": "code",
   "execution_count": 5,
   "metadata": {},
   "outputs": [
    {
     "data": {
      "text/html": [
       "<div>\n",
       "<style scoped>\n",
       "    .dataframe tbody tr th:only-of-type {\n",
       "        vertical-align: middle;\n",
       "    }\n",
       "\n",
       "    .dataframe tbody tr th {\n",
       "        vertical-align: top;\n",
       "    }\n",
       "\n",
       "    .dataframe thead th {\n",
       "        text-align: right;\n",
       "    }\n",
       "</style>\n",
       "<table border=\"1\" class=\"dataframe\">\n",
       "  <thead>\n",
       "    <tr style=\"text-align: right;\">\n",
       "      <th></th>\n",
       "      <th>Período</th>\n",
       "      <th>Anios</th>\n",
       "      <th>Quito</th>\n",
       "      <th>Quito.1</th>\n",
       "      <th>Quito.2</th>\n",
       "      <th>Guayaquil</th>\n",
       "      <th>Guayaquil.1</th>\n",
       "      <th>Guayaquil.2</th>\n",
       "      <th>Cuenca</th>\n",
       "      <th>Cuenca.1</th>\n",
       "      <th>Cuenca.2</th>\n",
       "      <th>Machala</th>\n",
       "      <th>Machala.1</th>\n",
       "      <th>Machala.2</th>\n",
       "      <th>Ambato</th>\n",
       "      <th>Ambato.1</th>\n",
       "      <th>Ambato.2</th>\n",
       "    </tr>\n",
       "  </thead>\n",
       "  <tbody>\n",
       "    <tr>\n",
       "      <th>0</th>\n",
       "      <td>NaN</td>\n",
       "      <td>NaN</td>\n",
       "      <td>NaN</td>\n",
       "      <td>NaN</td>\n",
       "      <td>NaN</td>\n",
       "      <td>NaN</td>\n",
       "      <td>NaN</td>\n",
       "      <td>NaN</td>\n",
       "      <td>NaN</td>\n",
       "      <td>NaN</td>\n",
       "      <td>NaN</td>\n",
       "      <td>NaN</td>\n",
       "      <td>NaN</td>\n",
       "      <td>NaN</td>\n",
       "      <td>NaN</td>\n",
       "      <td>NaN</td>\n",
       "      <td>NaN</td>\n",
       "    </tr>\n",
       "    <tr>\n",
       "      <th>1</th>\n",
       "      <td>Marzo</td>\n",
       "      <td>2008.0</td>\n",
       "      <td>10.45</td>\n",
       "      <td>3.32</td>\n",
       "      <td>1.76</td>\n",
       "      <td>22.06</td>\n",
       "      <td>6.38</td>\n",
       "      <td>2.87</td>\n",
       "      <td>11.68</td>\n",
       "      <td>3.74</td>\n",
       "      <td>1.88</td>\n",
       "      <td>20.76</td>\n",
       "      <td>6.43</td>\n",
       "      <td>2.82</td>\n",
       "      <td>21.20</td>\n",
       "      <td>6.38</td>\n",
       "      <td>3.11</td>\n",
       "    </tr>\n",
       "    <tr>\n",
       "      <th>2</th>\n",
       "      <td>Marzo</td>\n",
       "      <td>2009.0</td>\n",
       "      <td>11.16</td>\n",
       "      <td>3.71</td>\n",
       "      <td>1.97</td>\n",
       "      <td>24.28</td>\n",
       "      <td>7.50</td>\n",
       "      <td>3.26</td>\n",
       "      <td>10.91</td>\n",
       "      <td>3.31</td>\n",
       "      <td>1.51</td>\n",
       "      <td>20.76</td>\n",
       "      <td>6.32</td>\n",
       "      <td>2.94</td>\n",
       "      <td>17.55</td>\n",
       "      <td>5.81</td>\n",
       "      <td>2.99</td>\n",
       "    </tr>\n",
       "    <tr>\n",
       "      <th>3</th>\n",
       "      <td>Marzo</td>\n",
       "      <td>2010.0</td>\n",
       "      <td>13.01</td>\n",
       "      <td>4.34</td>\n",
       "      <td>2.31</td>\n",
       "      <td>20.80</td>\n",
       "      <td>5.82</td>\n",
       "      <td>2.37</td>\n",
       "      <td>13.78</td>\n",
       "      <td>3.80</td>\n",
       "      <td>1.60</td>\n",
       "      <td>15.54</td>\n",
       "      <td>4.20</td>\n",
       "      <td>1.77</td>\n",
       "      <td>11.63</td>\n",
       "      <td>3.47</td>\n",
       "      <td>1.47</td>\n",
       "    </tr>\n",
       "    <tr>\n",
       "      <th>4</th>\n",
       "      <td>Marzo</td>\n",
       "      <td>2011.0</td>\n",
       "      <td>10.33</td>\n",
       "      <td>3.34</td>\n",
       "      <td>1.81</td>\n",
       "      <td>19.21</td>\n",
       "      <td>4.99</td>\n",
       "      <td>1.99</td>\n",
       "      <td>12.39</td>\n",
       "      <td>4.13</td>\n",
       "      <td>2.20</td>\n",
       "      <td>14.76</td>\n",
       "      <td>4.07</td>\n",
       "      <td>1.62</td>\n",
       "      <td>10.58</td>\n",
       "      <td>2.68</td>\n",
       "      <td>1.02</td>\n",
       "    </tr>\n",
       "  </tbody>\n",
       "</table>\n",
       "</div>"
      ],
      "text/plain": [
       "  Período   Anios  Quito  Quito.1  Quito.2  Guayaquil  Guayaquil.1  \\\n",
       "0     NaN     NaN    NaN      NaN      NaN        NaN          NaN   \n",
       "1   Marzo  2008.0  10.45     3.32     1.76      22.06         6.38   \n",
       "2   Marzo  2009.0  11.16     3.71     1.97      24.28         7.50   \n",
       "3   Marzo  2010.0  13.01     4.34     2.31      20.80         5.82   \n",
       "4   Marzo  2011.0  10.33     3.34     1.81      19.21         4.99   \n",
       "\n",
       "   Guayaquil.2  Cuenca  Cuenca.1  Cuenca.2  Machala  Machala.1  Machala.2  \\\n",
       "0          NaN     NaN       NaN       NaN      NaN        NaN        NaN   \n",
       "1         2.87   11.68      3.74      1.88    20.76       6.43       2.82   \n",
       "2         3.26   10.91      3.31      1.51    20.76       6.32       2.94   \n",
       "3         2.37   13.78      3.80      1.60    15.54       4.20       1.77   \n",
       "4         1.99   12.39      4.13      2.20    14.76       4.07       1.62   \n",
       "\n",
       "   Ambato  Ambato.1  Ambato.2  \n",
       "0     NaN       NaN       NaN  \n",
       "1   21.20      6.38      3.11  \n",
       "2   17.55      5.81      2.99  \n",
       "3   11.63      3.47      1.47  \n",
       "4   10.58      2.68      1.02  "
      ]
     },
     "execution_count": 5,
     "metadata": {},
     "output_type": "execute_result"
    }
   ],
   "source": [
    "raw_data.head()"
   ]
  },
  {
   "cell_type": "markdown",
   "metadata": {},
   "source": [
    "Con la funcion `[1:]` eliminamos la primera fila, ya que no son parte de los datos que usaremos"
   ]
  },
  {
   "cell_type": "code",
   "execution_count": 6,
   "metadata": {},
   "outputs": [],
   "source": [
    "raw_data = raw_data[1:]"
   ]
  },
  {
   "cell_type": "code",
   "execution_count": 7,
   "metadata": {},
   "outputs": [
    {
     "data": {
      "text/plain": [
       "(10, 17)"
      ]
     },
     "execution_count": 7,
     "metadata": {},
     "output_type": "execute_result"
    }
   ],
   "source": [
    "raw_data.shape  # numeros de campos de nuestra data"
   ]
  },
  {
   "cell_type": "markdown",
   "metadata": {},
   "source": [
    "Un `DataFrame` se compone de dos componentes principales; \n",
    " - Los datos mismos, que se pueden extraer a través del atributo de valores:"
   ]
  },
  {
   "cell_type": "code",
   "execution_count": 8,
   "metadata": {},
   "outputs": [
    {
     "data": {
      "text/plain": [
       "array([['Marzo', 2008.0, 10.45, 3.32, 1.76, 22.06, 6.38, 2.87, 11.68, 3.74,\n",
       "        1.88, 20.76, 6.43, 2.82, 21.2, 6.38, 3.11],\n",
       "       ['Marzo', 2009.0, 11.16, 3.71, 1.97, 24.28, 7.5, 3.26, 10.91, 3.31,\n",
       "        1.51, 20.76, 6.32, 2.94, 17.55, 5.81, 2.99],\n",
       "       ['Marzo', 2010.0, 13.01, 4.34, 2.31, 20.8, 5.82, 2.37, 13.78, 3.8,\n",
       "        1.6, 15.54, 4.2, 1.77, 11.63, 3.47, 1.47],\n",
       "       ['Marzo', 2011.0, 10.33, 3.34, 1.81, 19.21, 4.99, 1.99, 12.39, 4.13,\n",
       "        2.2, 14.76, 4.07, 1.62, 10.58, 2.68, 1.02],\n",
       "       ['Marzo', 2012.0, 8.97, 3.29, 1.59, 11.04, 2.75, 1.04, 9.72, 2.92,\n",
       "        1.33, 9.51, 1.91, 0.62, 8.04, 1.97, 0.76],\n",
       "       ['Marzo', 2013.0, 10.85, 3.48, 1.56, 12.77, 3.58, 1.6, 9.17, 2.47,\n",
       "        1.01, 11.98, 2.48, 0.76, 10.54, 3.71, 2.01],\n",
       "       ['Marzo', 2014.0, 8.92, 2.78, 1.39, 11.69, 3.07, 1.2, 4.67, 1.65,\n",
       "        0.87, 13.71, 3.84, 1.54, 12.81, 3.15, 1.31],\n",
       "       ['Marzo', 2015.0, 7.87, 2.59, 1.3, 7.69, 1.84, 0.68, 5.32, 1.24,\n",
       "        0.49, 15.09, 4.2, 1.81, 8.42, 2.9, 1.24],\n",
       "       ['Marzo', 2016.0, 7.98, 2.63, 1.34, 8.67, 2.52, 0.97, 7.83, 2.55,\n",
       "        1.17, 13.77, 3.88, 1.76, 7.77, 2.49, 1.23],\n",
       "       ['Marzo', 2017.0, 7.35, 2.4, 1.23, 10.98, 2.67, 1.11, 7.85, 2.89,\n",
       "        1.54, 16.76, 4.51, 1.98, 9.74, 3.06, 1.64]], dtype=object)"
      ]
     },
     "execution_count": 8,
     "metadata": {},
     "output_type": "execute_result"
    }
   ],
   "source": [
    "raw_data.values"
   ]
  },
  {
   "cell_type": "markdown",
   "metadata": {},
   "source": [
    " - Conjunto de índices, que son esencialmente etiquetas para las filas y columnas del DataFrame."
   ]
  },
  {
   "cell_type": "code",
   "execution_count": 9,
   "metadata": {},
   "outputs": [
    {
     "data": {
      "text/plain": [
       "RangeIndex(start=1, stop=11, step=1)"
      ]
     },
     "execution_count": 9,
     "metadata": {},
     "output_type": "execute_result"
    }
   ],
   "source": [
    "raw_data.index"
   ]
  },
  {
   "cell_type": "code",
   "execution_count": 10,
   "metadata": {},
   "outputs": [
    {
     "data": {
      "text/plain": [
       "Index(['Período', 'Anios', 'Quito', 'Quito.1', 'Quito.2', 'Guayaquil',\n",
       "       'Guayaquil.1', 'Guayaquil.2', 'Cuenca', 'Cuenca.1', 'Cuenca.2',\n",
       "       'Machala', 'Machala.1', 'Machala.2', 'Ambato', 'Ambato.1', 'Ambato.2'],\n",
       "      dtype='object')"
      ]
     },
     "execution_count": 10,
     "metadata": {},
     "output_type": "execute_result"
    }
   ],
   "source": [
    "raw_data.columns"
   ]
  },
  {
   "cell_type": "markdown",
   "metadata": {},
   "source": [
    "Pero, un `índice` es más que un conjunto de etiquetas. Es importante destacar que asegura la **alineación de datos** cuando se agregan datos o se combinan estructuras de datos."
   ]
  },
  {
   "cell_type": "markdown",
   "metadata": {},
   "source": [
    "De hecho, podemos especificar un índice más apropiado para nuestros datos. El campo Año aquí es un índice único para los valores de análisis correspondientes.\n",
    "\n",
    "`set_index` nos permite convertir cualquier columna (o matriz externa) que elijamos en el índice de fila."
   ]
  },
  {
   "cell_type": "code",
   "execution_count": 11,
   "metadata": {},
   "outputs": [
    {
     "data": {
      "text/html": [
       "<div>\n",
       "<style scoped>\n",
       "    .dataframe tbody tr th:only-of-type {\n",
       "        vertical-align: middle;\n",
       "    }\n",
       "\n",
       "    .dataframe tbody tr th {\n",
       "        vertical-align: top;\n",
       "    }\n",
       "\n",
       "    .dataframe thead th {\n",
       "        text-align: right;\n",
       "    }\n",
       "</style>\n",
       "<table border=\"1\" class=\"dataframe\">\n",
       "  <thead>\n",
       "    <tr style=\"text-align: right;\">\n",
       "      <th></th>\n",
       "      <th>Período</th>\n",
       "      <th>Quito</th>\n",
       "      <th>Quito.1</th>\n",
       "      <th>Quito.2</th>\n",
       "      <th>Guayaquil</th>\n",
       "      <th>Guayaquil.1</th>\n",
       "      <th>Guayaquil.2</th>\n",
       "      <th>Cuenca</th>\n",
       "      <th>Cuenca.1</th>\n",
       "      <th>Cuenca.2</th>\n",
       "      <th>Machala</th>\n",
       "      <th>Machala.1</th>\n",
       "      <th>Machala.2</th>\n",
       "      <th>Ambato</th>\n",
       "      <th>Ambato.1</th>\n",
       "      <th>Ambato.2</th>\n",
       "    </tr>\n",
       "    <tr>\n",
       "      <th>Anios</th>\n",
       "      <th></th>\n",
       "      <th></th>\n",
       "      <th></th>\n",
       "      <th></th>\n",
       "      <th></th>\n",
       "      <th></th>\n",
       "      <th></th>\n",
       "      <th></th>\n",
       "      <th></th>\n",
       "      <th></th>\n",
       "      <th></th>\n",
       "      <th></th>\n",
       "      <th></th>\n",
       "      <th></th>\n",
       "      <th></th>\n",
       "      <th></th>\n",
       "    </tr>\n",
       "  </thead>\n",
       "  <tbody>\n",
       "    <tr>\n",
       "      <th>2008.0</th>\n",
       "      <td>Marzo</td>\n",
       "      <td>10.45</td>\n",
       "      <td>3.32</td>\n",
       "      <td>1.76</td>\n",
       "      <td>22.06</td>\n",
       "      <td>6.38</td>\n",
       "      <td>2.87</td>\n",
       "      <td>11.68</td>\n",
       "      <td>3.74</td>\n",
       "      <td>1.88</td>\n",
       "      <td>20.76</td>\n",
       "      <td>6.43</td>\n",
       "      <td>2.82</td>\n",
       "      <td>21.20</td>\n",
       "      <td>6.38</td>\n",
       "      <td>3.11</td>\n",
       "    </tr>\n",
       "    <tr>\n",
       "      <th>2009.0</th>\n",
       "      <td>Marzo</td>\n",
       "      <td>11.16</td>\n",
       "      <td>3.71</td>\n",
       "      <td>1.97</td>\n",
       "      <td>24.28</td>\n",
       "      <td>7.50</td>\n",
       "      <td>3.26</td>\n",
       "      <td>10.91</td>\n",
       "      <td>3.31</td>\n",
       "      <td>1.51</td>\n",
       "      <td>20.76</td>\n",
       "      <td>6.32</td>\n",
       "      <td>2.94</td>\n",
       "      <td>17.55</td>\n",
       "      <td>5.81</td>\n",
       "      <td>2.99</td>\n",
       "    </tr>\n",
       "    <tr>\n",
       "      <th>2010.0</th>\n",
       "      <td>Marzo</td>\n",
       "      <td>13.01</td>\n",
       "      <td>4.34</td>\n",
       "      <td>2.31</td>\n",
       "      <td>20.80</td>\n",
       "      <td>5.82</td>\n",
       "      <td>2.37</td>\n",
       "      <td>13.78</td>\n",
       "      <td>3.80</td>\n",
       "      <td>1.60</td>\n",
       "      <td>15.54</td>\n",
       "      <td>4.20</td>\n",
       "      <td>1.77</td>\n",
       "      <td>11.63</td>\n",
       "      <td>3.47</td>\n",
       "      <td>1.47</td>\n",
       "    </tr>\n",
       "    <tr>\n",
       "      <th>2011.0</th>\n",
       "      <td>Marzo</td>\n",
       "      <td>10.33</td>\n",
       "      <td>3.34</td>\n",
       "      <td>1.81</td>\n",
       "      <td>19.21</td>\n",
       "      <td>4.99</td>\n",
       "      <td>1.99</td>\n",
       "      <td>12.39</td>\n",
       "      <td>4.13</td>\n",
       "      <td>2.20</td>\n",
       "      <td>14.76</td>\n",
       "      <td>4.07</td>\n",
       "      <td>1.62</td>\n",
       "      <td>10.58</td>\n",
       "      <td>2.68</td>\n",
       "      <td>1.02</td>\n",
       "    </tr>\n",
       "    <tr>\n",
       "      <th>2012.0</th>\n",
       "      <td>Marzo</td>\n",
       "      <td>8.97</td>\n",
       "      <td>3.29</td>\n",
       "      <td>1.59</td>\n",
       "      <td>11.04</td>\n",
       "      <td>2.75</td>\n",
       "      <td>1.04</td>\n",
       "      <td>9.72</td>\n",
       "      <td>2.92</td>\n",
       "      <td>1.33</td>\n",
       "      <td>9.51</td>\n",
       "      <td>1.91</td>\n",
       "      <td>0.62</td>\n",
       "      <td>8.04</td>\n",
       "      <td>1.97</td>\n",
       "      <td>0.76</td>\n",
       "    </tr>\n",
       "  </tbody>\n",
       "</table>\n",
       "</div>"
      ],
      "text/plain": [
       "       Período  Quito  Quito.1  Quito.2  Guayaquil  Guayaquil.1  Guayaquil.2  \\\n",
       "Anios                                                                          \n",
       "2008.0   Marzo  10.45     3.32     1.76      22.06         6.38         2.87   \n",
       "2009.0   Marzo  11.16     3.71     1.97      24.28         7.50         3.26   \n",
       "2010.0   Marzo  13.01     4.34     2.31      20.80         5.82         2.37   \n",
       "2011.0   Marzo  10.33     3.34     1.81      19.21         4.99         1.99   \n",
       "2012.0   Marzo   8.97     3.29     1.59      11.04         2.75         1.04   \n",
       "\n",
       "        Cuenca  Cuenca.1  Cuenca.2  Machala  Machala.1  Machala.2  Ambato  \\\n",
       "Anios                                                                       \n",
       "2008.0   11.68      3.74      1.88    20.76       6.43       2.82   21.20   \n",
       "2009.0   10.91      3.31      1.51    20.76       6.32       2.94   17.55   \n",
       "2010.0   13.78      3.80      1.60    15.54       4.20       1.77   11.63   \n",
       "2011.0   12.39      4.13      2.20    14.76       4.07       1.62   10.58   \n",
       "2012.0    9.72      2.92      1.33     9.51       1.91       0.62    8.04   \n",
       "\n",
       "        Ambato.1  Ambato.2  \n",
       "Anios                       \n",
       "2008.0      6.38      3.11  \n",
       "2009.0      5.81      2.99  \n",
       "2010.0      3.47      1.47  \n",
       "2011.0      2.68      1.02  \n",
       "2012.0      1.97      0.76  "
      ]
     },
     "execution_count": 11,
     "metadata": {},
     "output_type": "execute_result"
    }
   ],
   "source": [
    "temp = raw_data.set_index('Anios')\n",
    "temp.head()"
   ]
  },
  {
   "cell_type": "markdown",
   "metadata": {},
   "source": [
    "# Data\n",
    "------\n",
    "Para nuestra tabla agruparemos los datos de Quito para Repesentar nuestras graficas"
   ]
  },
  {
   "cell_type": "code",
   "execution_count": 12,
   "metadata": {},
   "outputs": [
    {
     "data": {
      "text/html": [
       "<div>\n",
       "<style scoped>\n",
       "    .dataframe tbody tr th:only-of-type {\n",
       "        vertical-align: middle;\n",
       "    }\n",
       "\n",
       "    .dataframe tbody tr th {\n",
       "        vertical-align: top;\n",
       "    }\n",
       "\n",
       "    .dataframe thead th {\n",
       "        text-align: right;\n",
       "    }\n",
       "</style>\n",
       "<table border=\"1\" class=\"dataframe\">\n",
       "  <thead>\n",
       "    <tr style=\"text-align: right;\">\n",
       "      <th></th>\n",
       "      <th>Anios</th>\n",
       "      <th>Quito</th>\n",
       "      <th>Quito.1</th>\n",
       "      <th>Quito.2</th>\n",
       "    </tr>\n",
       "  </thead>\n",
       "  <tbody>\n",
       "    <tr>\n",
       "      <th>1</th>\n",
       "      <td>2008.0</td>\n",
       "      <td>10.45</td>\n",
       "      <td>3.32</td>\n",
       "      <td>1.76</td>\n",
       "    </tr>\n",
       "    <tr>\n",
       "      <th>2</th>\n",
       "      <td>2009.0</td>\n",
       "      <td>11.16</td>\n",
       "      <td>3.71</td>\n",
       "      <td>1.97</td>\n",
       "    </tr>\n",
       "    <tr>\n",
       "      <th>3</th>\n",
       "      <td>2010.0</td>\n",
       "      <td>13.01</td>\n",
       "      <td>4.34</td>\n",
       "      <td>2.31</td>\n",
       "    </tr>\n",
       "    <tr>\n",
       "      <th>4</th>\n",
       "      <td>2011.0</td>\n",
       "      <td>10.33</td>\n",
       "      <td>3.34</td>\n",
       "      <td>1.81</td>\n",
       "    </tr>\n",
       "    <tr>\n",
       "      <th>5</th>\n",
       "      <td>2012.0</td>\n",
       "      <td>8.97</td>\n",
       "      <td>3.29</td>\n",
       "      <td>1.59</td>\n",
       "    </tr>\n",
       "  </tbody>\n",
       "</table>\n",
       "</div>"
      ],
      "text/plain": [
       "    Anios  Quito  Quito.1  Quito.2\n",
       "1  2008.0  10.45     3.32     1.76\n",
       "2  2009.0  11.16     3.71     1.97\n",
       "3  2010.0  13.01     4.34     2.31\n",
       "4  2011.0  10.33     3.34     1.81\n",
       "5  2012.0   8.97     3.29     1.59"
      ]
     },
     "execution_count": 12,
     "metadata": {},
     "output_type": "execute_result"
    }
   ],
   "source": [
    "data = raw_data.drop(['Período', 'Guayaquil', 'Guayaquil.1', 'Guayaquil.2', 'Cuenca', 'Cuenca.1', 'Cuenca.2', 'Machala', 'Machala.1', 'Machala.2', 'Ambato', 'Ambato.1', 'Ambato.2'], axis=1)\n",
    "data.head()"
   ]
  },
  {
   "cell_type": "markdown",
   "metadata": {},
   "source": [
    "Cambiaremos los nombres de las columnas de nuestra data para ver lo que representaremos"
   ]
  },
  {
   "cell_type": "code",
   "execution_count": 13,
   "metadata": {},
   "outputs": [
    {
     "data": {
      "text/html": [
       "<div>\n",
       "<style scoped>\n",
       "    .dataframe tbody tr th:only-of-type {\n",
       "        vertical-align: middle;\n",
       "    }\n",
       "\n",
       "    .dataframe tbody tr th {\n",
       "        vertical-align: top;\n",
       "    }\n",
       "\n",
       "    .dataframe thead th {\n",
       "        text-align: right;\n",
       "    }\n",
       "</style>\n",
       "<table border=\"1\" class=\"dataframe\">\n",
       "  <thead>\n",
       "    <tr style=\"text-align: right;\">\n",
       "      <th></th>\n",
       "      <th>Anios</th>\n",
       "      <th>Incidencia</th>\n",
       "      <th>Brecha</th>\n",
       "      <th>Severidad</th>\n",
       "    </tr>\n",
       "  </thead>\n",
       "  <tbody>\n",
       "    <tr>\n",
       "      <th>1</th>\n",
       "      <td>2008.0</td>\n",
       "      <td>10.45</td>\n",
       "      <td>3.32</td>\n",
       "      <td>1.76</td>\n",
       "    </tr>\n",
       "    <tr>\n",
       "      <th>2</th>\n",
       "      <td>2009.0</td>\n",
       "      <td>11.16</td>\n",
       "      <td>3.71</td>\n",
       "      <td>1.97</td>\n",
       "    </tr>\n",
       "    <tr>\n",
       "      <th>3</th>\n",
       "      <td>2010.0</td>\n",
       "      <td>13.01</td>\n",
       "      <td>4.34</td>\n",
       "      <td>2.31</td>\n",
       "    </tr>\n",
       "    <tr>\n",
       "      <th>4</th>\n",
       "      <td>2011.0</td>\n",
       "      <td>10.33</td>\n",
       "      <td>3.34</td>\n",
       "      <td>1.81</td>\n",
       "    </tr>\n",
       "    <tr>\n",
       "      <th>5</th>\n",
       "      <td>2012.0</td>\n",
       "      <td>8.97</td>\n",
       "      <td>3.29</td>\n",
       "      <td>1.59</td>\n",
       "    </tr>\n",
       "  </tbody>\n",
       "</table>\n",
       "</div>"
      ],
      "text/plain": [
       "    Anios  Incidencia  Brecha  Severidad\n",
       "1  2008.0       10.45    3.32       1.76\n",
       "2  2009.0       11.16    3.71       1.97\n",
       "3  2010.0       13.01    4.34       2.31\n",
       "4  2011.0       10.33    3.34       1.81\n",
       "5  2012.0        8.97    3.29       1.59"
      ]
     },
     "execution_count": 13,
     "metadata": {},
     "output_type": "execute_result"
    }
   ],
   "source": [
    "data.columns = ['Anios', 'Incidencia', 'Brecha', 'Severidad']\n",
    "data.head()"
   ]
  },
  {
   "cell_type": "markdown",
   "metadata": {},
   "source": [
    "### ¿Qué es incidencia de la pobreza?\n",
    "Número de personas pobres expresado como porcentaje del total de la población en un determinado año. Se define como \"pobres\" a aquellas personas que pertenecen a hogares cuyo consumo per cápita, en un período determinado, es inferior al valor de la línea de pobreza.\n",
    "### ¿Qué es la brecha de la pobreza?\n",
    "La línea de pobreza es el equivalente monetario del costo de una canasta básica de bienes y servicios. La brecha de la pobreza refleja cuan pobres son los pobres y, por tanto, proporciona una idea de la profundidad de las carencias de ingreso o consumo que definen una situación de pobreza.\n",
    "### ¿Qué es la severidad de la pobreza?\n",
    "P es un promedio (sobre la población total, n) de las distancias que separan a individuos u hogares de la línea de pobreza, ponderado por un exponente . El valor del exponente permite que la misma fórmula dé como resultado la incidencia, brecha y severidad de la pobreza como casos especiales de la medida."
   ]
  },
  {
   "cell_type": "markdown",
   "metadata": {},
   "source": [
    "----------"
   ]
  },
  {
   "cell_type": "markdown",
   "metadata": {},
   "source": [
    " ## Trazado en Python\n",
    " \n",
    " - **Bokeh**: Es una biblioteca de visualización interactiva de Python con gráficos novedosos."
   ]
  },
  {
   "cell_type": "markdown",
   "metadata": {},
   "source": [
    "Al usar la interfaz bokeh.plotting, necesitamos importar:\n",
    "\n",
    " - Use la función de `figure` para crear nuevos objetos de trazado para trabajar.\n",
    " - Las funciones `output_file`, `output_notebook` para indicar a Bokeh cómo mostrar el resultado."
   ]
  },
  {
   "cell_type": "code",
   "execution_count": 14,
   "metadata": {},
   "outputs": [],
   "source": [
    "from bokeh.io import show\n",
    "from bokeh.plotting import figure"
   ]
  },
  {
   "cell_type": "markdown",
   "metadata": {},
   "source": [
    "Importamos `gridplot` - para presentar varias graficas en una"
   ]
  },
  {
   "cell_type": "code",
   "execution_count": 15,
   "metadata": {},
   "outputs": [],
   "source": [
    "from bokeh.layouts import gridplot"
   ]
  },
  {
   "cell_type": "markdown",
   "metadata": {},
   "source": [
    "En este caso, estamos en `jupyter notebook`, así que llamamos a `output_notebook()`. Solo debemos llamar esto una vez para mostrar nuestras graficas en el cuaderno usando la funcion `show()` de bokeh."
   ]
  },
  {
   "cell_type": "code",
   "execution_count": 16,
   "metadata": {},
   "outputs": [
    {
     "data": {
      "text/html": [
       "\n",
       "    <div class=\"bk-root\">\n",
       "        <a href=\"https://bokeh.pydata.org\" target=\"_blank\" class=\"bk-logo bk-logo-small bk-logo-notebook\"></a>\n",
       "        <span id=\"324de8bc-929f-494a-8d5e-ce864ffa05db\">Loading BokehJS ...</span>\n",
       "    </div>"
      ]
     },
     "metadata": {},
     "output_type": "display_data"
    },
    {
     "data": {
      "application/javascript": [
       "\n",
       "(function(root) {\n",
       "  function now() {\n",
       "    return new Date();\n",
       "  }\n",
       "\n",
       "  var force = true;\n",
       "\n",
       "  if (typeof (root._bokeh_onload_callbacks) === \"undefined\" || force === true) {\n",
       "    root._bokeh_onload_callbacks = [];\n",
       "    root._bokeh_is_loading = undefined;\n",
       "  }\n",
       "\n",
       "  var JS_MIME_TYPE = 'application/javascript';\n",
       "  var HTML_MIME_TYPE = 'text/html';\n",
       "  var EXEC_MIME_TYPE = 'application/vnd.bokehjs_exec.v0+json';\n",
       "  var CLASS_NAME = 'output_bokeh rendered_html';\n",
       "\n",
       "  /**\n",
       "   * Render data to the DOM node\n",
       "   */\n",
       "  function render(props, node) {\n",
       "    var script = document.createElement(\"script\");\n",
       "    node.appendChild(script);\n",
       "  }\n",
       "\n",
       "  /**\n",
       "   * Handle when an output is cleared or removed\n",
       "   */\n",
       "  function handleClearOutput(event, handle) {\n",
       "    var cell = handle.cell;\n",
       "\n",
       "    var id = cell.output_area._bokeh_element_id;\n",
       "    var server_id = cell.output_area._bokeh_server_id;\n",
       "    // Clean up Bokeh references\n",
       "    if (id !== undefined) {\n",
       "      Bokeh.index[id].model.document.clear();\n",
       "      delete Bokeh.index[id];\n",
       "    }\n",
       "\n",
       "    if (server_id !== undefined) {\n",
       "      // Clean up Bokeh references\n",
       "      var cmd = \"from bokeh.io.state import curstate; print(curstate().uuid_to_server['\" + server_id + \"'].get_sessions()[0].document.roots[0]._id)\";\n",
       "      cell.notebook.kernel.execute(cmd, {\n",
       "        iopub: {\n",
       "          output: function(msg) {\n",
       "            var element_id = msg.content.text.trim();\n",
       "            Bokeh.index[element_id].model.document.clear();\n",
       "            delete Bokeh.index[element_id];\n",
       "          }\n",
       "        }\n",
       "      });\n",
       "      // Destroy server and session\n",
       "      var cmd = \"import bokeh.io.notebook as ion; ion.destroy_server('\" + server_id + \"')\";\n",
       "      cell.notebook.kernel.execute(cmd);\n",
       "    }\n",
       "  }\n",
       "\n",
       "  /**\n",
       "   * Handle when a new output is added\n",
       "   */\n",
       "  function handleAddOutput(event, handle) {\n",
       "    var output_area = handle.output_area;\n",
       "    var output = handle.output;\n",
       "\n",
       "    // limit handleAddOutput to display_data with EXEC_MIME_TYPE content only\n",
       "    if ((output.output_type != \"display_data\") || (!output.data.hasOwnProperty(EXEC_MIME_TYPE))) {\n",
       "      return\n",
       "    }\n",
       "\n",
       "    var toinsert = output_area.element.find(`.${CLASS_NAME.split(' ')[0]}`);\n",
       "\n",
       "    if (output.metadata[EXEC_MIME_TYPE][\"id\"] !== undefined) {\n",
       "      toinsert[0].firstChild.textContent = output.data[JS_MIME_TYPE];\n",
       "      // store reference to embed id on output_area\n",
       "      output_area._bokeh_element_id = output.metadata[EXEC_MIME_TYPE][\"id\"];\n",
       "    }\n",
       "    if (output.metadata[EXEC_MIME_TYPE][\"server_id\"] !== undefined) {\n",
       "      var bk_div = document.createElement(\"div\");\n",
       "      bk_div.innerHTML = output.data[HTML_MIME_TYPE];\n",
       "      var script_attrs = bk_div.children[0].attributes;\n",
       "      for (var i = 0; i < script_attrs.length; i++) {\n",
       "        toinsert[0].firstChild.setAttribute(script_attrs[i].name, script_attrs[i].value);\n",
       "      }\n",
       "      // store reference to server id on output_area\n",
       "      output_area._bokeh_server_id = output.metadata[EXEC_MIME_TYPE][\"server_id\"];\n",
       "    }\n",
       "  }\n",
       "\n",
       "  function register_renderer(events, OutputArea) {\n",
       "\n",
       "    function append_mime(data, metadata, element) {\n",
       "      // create a DOM node to render to\n",
       "      var toinsert = this.create_output_subarea(\n",
       "        metadata,\n",
       "        CLASS_NAME,\n",
       "        EXEC_MIME_TYPE\n",
       "      );\n",
       "      this.keyboard_manager.register_events(toinsert);\n",
       "      // Render to node\n",
       "      var props = {data: data, metadata: metadata[EXEC_MIME_TYPE]};\n",
       "      render(props, toinsert[0]);\n",
       "      element.append(toinsert);\n",
       "      return toinsert\n",
       "    }\n",
       "\n",
       "    /* Handle when an output is cleared or removed */\n",
       "    events.on('clear_output.CodeCell', handleClearOutput);\n",
       "    events.on('delete.Cell', handleClearOutput);\n",
       "\n",
       "    /* Handle when a new output is added */\n",
       "    events.on('output_added.OutputArea', handleAddOutput);\n",
       "\n",
       "    /**\n",
       "     * Register the mime type and append_mime function with output_area\n",
       "     */\n",
       "    OutputArea.prototype.register_mime_type(EXEC_MIME_TYPE, append_mime, {\n",
       "      /* Is output safe? */\n",
       "      safe: true,\n",
       "      /* Index of renderer in `output_area.display_order` */\n",
       "      index: 0\n",
       "    });\n",
       "  }\n",
       "\n",
       "  // register the mime type if in Jupyter Notebook environment and previously unregistered\n",
       "  if (root.Jupyter !== undefined) {\n",
       "    var events = require('base/js/events');\n",
       "    var OutputArea = require('notebook/js/outputarea').OutputArea;\n",
       "\n",
       "    if (OutputArea.prototype.mime_types().indexOf(EXEC_MIME_TYPE) == -1) {\n",
       "      register_renderer(events, OutputArea);\n",
       "    }\n",
       "  }\n",
       "\n",
       "  \n",
       "  if (typeof (root._bokeh_timeout) === \"undefined\" || force === true) {\n",
       "    root._bokeh_timeout = Date.now() + 5000;\n",
       "    root._bokeh_failed_load = false;\n",
       "  }\n",
       "\n",
       "  var NB_LOAD_WARNING = {'data': {'text/html':\n",
       "     \"<div style='background-color: #fdd'>\\n\"+\n",
       "     \"<p>\\n\"+\n",
       "     \"BokehJS does not appear to have successfully loaded. If loading BokehJS from CDN, this \\n\"+\n",
       "     \"may be due to a slow or bad network connection. Possible fixes:\\n\"+\n",
       "     \"</p>\\n\"+\n",
       "     \"<ul>\\n\"+\n",
       "     \"<li>re-rerun `output_notebook()` to attempt to load from CDN again, or</li>\\n\"+\n",
       "     \"<li>use INLINE resources instead, as so:</li>\\n\"+\n",
       "     \"</ul>\\n\"+\n",
       "     \"<code>\\n\"+\n",
       "     \"from bokeh.resources import INLINE\\n\"+\n",
       "     \"output_notebook(resources=INLINE)\\n\"+\n",
       "     \"</code>\\n\"+\n",
       "     \"</div>\"}};\n",
       "\n",
       "  function display_loaded() {\n",
       "    var el = document.getElementById(\"324de8bc-929f-494a-8d5e-ce864ffa05db\");\n",
       "    if (el != null) {\n",
       "      el.textContent = \"BokehJS is loading...\";\n",
       "    }\n",
       "    if (root.Bokeh !== undefined) {\n",
       "      if (el != null) {\n",
       "        el.textContent = \"BokehJS \" + root.Bokeh.version + \" successfully loaded.\";\n",
       "      }\n",
       "    } else if (Date.now() < root._bokeh_timeout) {\n",
       "      setTimeout(display_loaded, 100)\n",
       "    }\n",
       "  }\n",
       "\n",
       "\n",
       "  function run_callbacks() {\n",
       "    try {\n",
       "      root._bokeh_onload_callbacks.forEach(function(callback) { callback() });\n",
       "    }\n",
       "    finally {\n",
       "      delete root._bokeh_onload_callbacks\n",
       "    }\n",
       "    console.info(\"Bokeh: all callbacks have finished\");\n",
       "  }\n",
       "\n",
       "  function load_libs(js_urls, callback) {\n",
       "    root._bokeh_onload_callbacks.push(callback);\n",
       "    if (root._bokeh_is_loading > 0) {\n",
       "      console.log(\"Bokeh: BokehJS is being loaded, scheduling callback at\", now());\n",
       "      return null;\n",
       "    }\n",
       "    if (js_urls == null || js_urls.length === 0) {\n",
       "      run_callbacks();\n",
       "      return null;\n",
       "    }\n",
       "    console.log(\"Bokeh: BokehJS not loaded, scheduling load and callback at\", now());\n",
       "    root._bokeh_is_loading = js_urls.length;\n",
       "    for (var i = 0; i < js_urls.length; i++) {\n",
       "      var url = js_urls[i];\n",
       "      var s = document.createElement('script');\n",
       "      s.src = url;\n",
       "      s.async = false;\n",
       "      s.onreadystatechange = s.onload = function() {\n",
       "        root._bokeh_is_loading--;\n",
       "        if (root._bokeh_is_loading === 0) {\n",
       "          console.log(\"Bokeh: all BokehJS libraries loaded\");\n",
       "          run_callbacks()\n",
       "        }\n",
       "      };\n",
       "      s.onerror = function() {\n",
       "        console.warn(\"failed to load library \" + url);\n",
       "      };\n",
       "      console.log(\"Bokeh: injecting script tag for BokehJS library: \", url);\n",
       "      document.getElementsByTagName(\"head\")[0].appendChild(s);\n",
       "    }\n",
       "  };var element = document.getElementById(\"324de8bc-929f-494a-8d5e-ce864ffa05db\");\n",
       "  if (element == null) {\n",
       "    console.log(\"Bokeh: ERROR: autoload.js configured with elementid '324de8bc-929f-494a-8d5e-ce864ffa05db' but no matching script tag was found. \")\n",
       "    return false;\n",
       "  }\n",
       "\n",
       "  var js_urls = [\"https://cdn.pydata.org/bokeh/release/bokeh-0.12.10.min.js\", \"https://cdn.pydata.org/bokeh/release/bokeh-widgets-0.12.10.min.js\", \"https://cdn.pydata.org/bokeh/release/bokeh-tables-0.12.10.min.js\", \"https://cdn.pydata.org/bokeh/release/bokeh-gl-0.12.10.min.js\"];\n",
       "\n",
       "  var inline_js = [\n",
       "    function(Bokeh) {\n",
       "      Bokeh.set_log_level(\"info\");\n",
       "    },\n",
       "    \n",
       "    function(Bokeh) {\n",
       "      \n",
       "    },\n",
       "    function(Bokeh) {\n",
       "      console.log(\"Bokeh: injecting CSS: https://cdn.pydata.org/bokeh/release/bokeh-0.12.10.min.css\");\n",
       "      Bokeh.embed.inject_css(\"https://cdn.pydata.org/bokeh/release/bokeh-0.12.10.min.css\");\n",
       "      console.log(\"Bokeh: injecting CSS: https://cdn.pydata.org/bokeh/release/bokeh-widgets-0.12.10.min.css\");\n",
       "      Bokeh.embed.inject_css(\"https://cdn.pydata.org/bokeh/release/bokeh-widgets-0.12.10.min.css\");\n",
       "      console.log(\"Bokeh: injecting CSS: https://cdn.pydata.org/bokeh/release/bokeh-tables-0.12.10.min.css\");\n",
       "      Bokeh.embed.inject_css(\"https://cdn.pydata.org/bokeh/release/bokeh-tables-0.12.10.min.css\");\n",
       "    }\n",
       "  ];\n",
       "\n",
       "  function run_inline_js() {\n",
       "    \n",
       "    if ((root.Bokeh !== undefined) || (force === true)) {\n",
       "      for (var i = 0; i < inline_js.length; i++) {\n",
       "        inline_js[i].call(root, root.Bokeh);\n",
       "      }if (force === true) {\n",
       "        display_loaded();\n",
       "      }} else if (Date.now() < root._bokeh_timeout) {\n",
       "      setTimeout(run_inline_js, 100);\n",
       "    } else if (!root._bokeh_failed_load) {\n",
       "      console.log(\"Bokeh: BokehJS failed to load within specified timeout.\");\n",
       "      root._bokeh_failed_load = true;\n",
       "    } else if (force !== true) {\n",
       "      var cell = $(document.getElementById(\"324de8bc-929f-494a-8d5e-ce864ffa05db\")).parents('.cell').data().cell;\n",
       "      cell.output_area.append_execute_result(NB_LOAD_WARNING)\n",
       "    }\n",
       "\n",
       "  }\n",
       "\n",
       "  if (root._bokeh_is_loading === 0) {\n",
       "    console.log(\"Bokeh: BokehJS loaded, going straight to plotting\");\n",
       "    run_inline_js();\n",
       "  } else {\n",
       "    load_libs(js_urls, function() {\n",
       "      console.log(\"Bokeh: BokehJS plotting callback run at\", now());\n",
       "      run_inline_js();\n",
       "    });\n",
       "  }\n",
       "}(window));"
      ],
      "application/vnd.bokehjs_load.v0+json": "\n(function(root) {\n  function now() {\n    return new Date();\n  }\n\n  var force = true;\n\n  if (typeof (root._bokeh_onload_callbacks) === \"undefined\" || force === true) {\n    root._bokeh_onload_callbacks = [];\n    root._bokeh_is_loading = undefined;\n  }\n\n  \n\n  \n  if (typeof (root._bokeh_timeout) === \"undefined\" || force === true) {\n    root._bokeh_timeout = Date.now() + 5000;\n    root._bokeh_failed_load = false;\n  }\n\n  var NB_LOAD_WARNING = {'data': {'text/html':\n     \"<div style='background-color: #fdd'>\\n\"+\n     \"<p>\\n\"+\n     \"BokehJS does not appear to have successfully loaded. If loading BokehJS from CDN, this \\n\"+\n     \"may be due to a slow or bad network connection. Possible fixes:\\n\"+\n     \"</p>\\n\"+\n     \"<ul>\\n\"+\n     \"<li>re-rerun `output_notebook()` to attempt to load from CDN again, or</li>\\n\"+\n     \"<li>use INLINE resources instead, as so:</li>\\n\"+\n     \"</ul>\\n\"+\n     \"<code>\\n\"+\n     \"from bokeh.resources import INLINE\\n\"+\n     \"output_notebook(resources=INLINE)\\n\"+\n     \"</code>\\n\"+\n     \"</div>\"}};\n\n  function display_loaded() {\n    var el = document.getElementById(\"324de8bc-929f-494a-8d5e-ce864ffa05db\");\n    if (el != null) {\n      el.textContent = \"BokehJS is loading...\";\n    }\n    if (root.Bokeh !== undefined) {\n      if (el != null) {\n        el.textContent = \"BokehJS \" + root.Bokeh.version + \" successfully loaded.\";\n      }\n    } else if (Date.now() < root._bokeh_timeout) {\n      setTimeout(display_loaded, 100)\n    }\n  }\n\n\n  function run_callbacks() {\n    try {\n      root._bokeh_onload_callbacks.forEach(function(callback) { callback() });\n    }\n    finally {\n      delete root._bokeh_onload_callbacks\n    }\n    console.info(\"Bokeh: all callbacks have finished\");\n  }\n\n  function load_libs(js_urls, callback) {\n    root._bokeh_onload_callbacks.push(callback);\n    if (root._bokeh_is_loading > 0) {\n      console.log(\"Bokeh: BokehJS is being loaded, scheduling callback at\", now());\n      return null;\n    }\n    if (js_urls == null || js_urls.length === 0) {\n      run_callbacks();\n      return null;\n    }\n    console.log(\"Bokeh: BokehJS not loaded, scheduling load and callback at\", now());\n    root._bokeh_is_loading = js_urls.length;\n    for (var i = 0; i < js_urls.length; i++) {\n      var url = js_urls[i];\n      var s = document.createElement('script');\n      s.src = url;\n      s.async = false;\n      s.onreadystatechange = s.onload = function() {\n        root._bokeh_is_loading--;\n        if (root._bokeh_is_loading === 0) {\n          console.log(\"Bokeh: all BokehJS libraries loaded\");\n          run_callbacks()\n        }\n      };\n      s.onerror = function() {\n        console.warn(\"failed to load library \" + url);\n      };\n      console.log(\"Bokeh: injecting script tag for BokehJS library: \", url);\n      document.getElementsByTagName(\"head\")[0].appendChild(s);\n    }\n  };var element = document.getElementById(\"324de8bc-929f-494a-8d5e-ce864ffa05db\");\n  if (element == null) {\n    console.log(\"Bokeh: ERROR: autoload.js configured with elementid '324de8bc-929f-494a-8d5e-ce864ffa05db' but no matching script tag was found. \")\n    return false;\n  }\n\n  var js_urls = [\"https://cdn.pydata.org/bokeh/release/bokeh-0.12.10.min.js\", \"https://cdn.pydata.org/bokeh/release/bokeh-widgets-0.12.10.min.js\", \"https://cdn.pydata.org/bokeh/release/bokeh-tables-0.12.10.min.js\", \"https://cdn.pydata.org/bokeh/release/bokeh-gl-0.12.10.min.js\"];\n\n  var inline_js = [\n    function(Bokeh) {\n      Bokeh.set_log_level(\"info\");\n    },\n    \n    function(Bokeh) {\n      \n    },\n    function(Bokeh) {\n      console.log(\"Bokeh: injecting CSS: https://cdn.pydata.org/bokeh/release/bokeh-0.12.10.min.css\");\n      Bokeh.embed.inject_css(\"https://cdn.pydata.org/bokeh/release/bokeh-0.12.10.min.css\");\n      console.log(\"Bokeh: injecting CSS: https://cdn.pydata.org/bokeh/release/bokeh-widgets-0.12.10.min.css\");\n      Bokeh.embed.inject_css(\"https://cdn.pydata.org/bokeh/release/bokeh-widgets-0.12.10.min.css\");\n      console.log(\"Bokeh: injecting CSS: https://cdn.pydata.org/bokeh/release/bokeh-tables-0.12.10.min.css\");\n      Bokeh.embed.inject_css(\"https://cdn.pydata.org/bokeh/release/bokeh-tables-0.12.10.min.css\");\n    }\n  ];\n\n  function run_inline_js() {\n    \n    if ((root.Bokeh !== undefined) || (force === true)) {\n      for (var i = 0; i < inline_js.length; i++) {\n        inline_js[i].call(root, root.Bokeh);\n      }if (force === true) {\n        display_loaded();\n      }} else if (Date.now() < root._bokeh_timeout) {\n      setTimeout(run_inline_js, 100);\n    } else if (!root._bokeh_failed_load) {\n      console.log(\"Bokeh: BokehJS failed to load within specified timeout.\");\n      root._bokeh_failed_load = true;\n    } else if (force !== true) {\n      var cell = $(document.getElementById(\"324de8bc-929f-494a-8d5e-ce864ffa05db\")).parents('.cell').data().cell;\n      cell.output_area.append_execute_result(NB_LOAD_WARNING)\n    }\n\n  }\n\n  if (root._bokeh_is_loading === 0) {\n    console.log(\"Bokeh: BokehJS loaded, going straight to plotting\");\n    run_inline_js();\n  } else {\n    load_libs(js_urls, function() {\n      console.log(\"Bokeh: BokehJS plotting callback run at\", now());\n      run_inline_js();\n    });\n  }\n}(window));"
     },
     "metadata": {},
     "output_type": "display_data"
    }
   ],
   "source": [
    "from bokeh.io import output_notebook\n",
    "output_notebook()"
   ]
  },
  {
   "cell_type": "markdown",
   "metadata": {},
   "source": [
    "## Grafico de Lineas"
   ]
  },
  {
   "cell_type": "markdown",
   "metadata": {},
   "source": [
    "Caracteristicas que tendra nuestra grafica"
   ]
  },
  {
   "cell_type": "code",
   "execution_count": 17,
   "metadata": {},
   "outputs": [],
   "source": [
    "graph_line = figure(\n",
    "    plot_height=400, # ancho\n",
    "    plot_width=900, # alto\n",
    "    title='POBREZA-QUITO', # titulo\n",
    "    tools='' # opciones de bokeh\n",
    ")"
   ]
  },
  {
   "cell_type": "markdown",
   "metadata": {},
   "source": [
    "Definimos los datos que representara cada \"Linea\", y otras opciones como color y leyenda"
   ]
  },
  {
   "cell_type": "code",
   "execution_count": 18,
   "metadata": {},
   "outputs": [
    {
     "data": {
      "text/html": [
       "<div style=\"display: table;\"><div style=\"display: table-row;\"><div style=\"display: table-cell;\"><b title=\"bokeh.models.renderers.GlyphRenderer\">GlyphRenderer</b>(</div><div style=\"display: table-cell;\">id&nbsp;=&nbsp;'c90ed59a-9077-400d-b7d6-156ddd82bc4e', <span id=\"c6cbe337-46e2-46d8-b60d-fb2cd1a90f7d\" style=\"cursor: pointer;\">&hellip;)</span></div></div><div class=\"bf237aed-afa3-43b7-848c-b520bc04263b\" style=\"display: none;\"><div style=\"display: table-cell;\"></div><div style=\"display: table-cell;\">data_source&nbsp;=&nbsp;ColumnDataSource(id='7db5d6b0-39d4-4287-a112-0376781143f7', ...),</div></div><div class=\"bf237aed-afa3-43b7-848c-b520bc04263b\" style=\"display: none;\"><div style=\"display: table-cell;\"></div><div style=\"display: table-cell;\">glyph&nbsp;=&nbsp;Line(id='5277573e-d74c-42d5-ab76-63185ae8e4ec', ...),</div></div><div class=\"bf237aed-afa3-43b7-848c-b520bc04263b\" style=\"display: none;\"><div style=\"display: table-cell;\"></div><div style=\"display: table-cell;\">hover_glyph&nbsp;=&nbsp;None,</div></div><div class=\"bf237aed-afa3-43b7-848c-b520bc04263b\" style=\"display: none;\"><div style=\"display: table-cell;\"></div><div style=\"display: table-cell;\">js_event_callbacks&nbsp;=&nbsp;{},</div></div><div class=\"bf237aed-afa3-43b7-848c-b520bc04263b\" style=\"display: none;\"><div style=\"display: table-cell;\"></div><div style=\"display: table-cell;\">js_property_callbacks&nbsp;=&nbsp;{},</div></div><div class=\"bf237aed-afa3-43b7-848c-b520bc04263b\" style=\"display: none;\"><div style=\"display: table-cell;\"></div><div style=\"display: table-cell;\">level&nbsp;=&nbsp;'glyph',</div></div><div class=\"bf237aed-afa3-43b7-848c-b520bc04263b\" style=\"display: none;\"><div style=\"display: table-cell;\"></div><div style=\"display: table-cell;\">muted&nbsp;=&nbsp;False,</div></div><div class=\"bf237aed-afa3-43b7-848c-b520bc04263b\" style=\"display: none;\"><div style=\"display: table-cell;\"></div><div style=\"display: table-cell;\">muted_glyph&nbsp;=&nbsp;None,</div></div><div class=\"bf237aed-afa3-43b7-848c-b520bc04263b\" style=\"display: none;\"><div style=\"display: table-cell;\"></div><div style=\"display: table-cell;\">name&nbsp;=&nbsp;None,</div></div><div class=\"bf237aed-afa3-43b7-848c-b520bc04263b\" style=\"display: none;\"><div style=\"display: table-cell;\"></div><div style=\"display: table-cell;\">nonselection_glyph&nbsp;=&nbsp;Line(id='4628b255-46c4-46b2-8d67-d21c92d796d9', ...),</div></div><div class=\"bf237aed-afa3-43b7-848c-b520bc04263b\" style=\"display: none;\"><div style=\"display: table-cell;\"></div><div style=\"display: table-cell;\">selection_glyph&nbsp;=&nbsp;None,</div></div><div class=\"bf237aed-afa3-43b7-848c-b520bc04263b\" style=\"display: none;\"><div style=\"display: table-cell;\"></div><div style=\"display: table-cell;\">subscribed_events&nbsp;=&nbsp;[],</div></div><div class=\"bf237aed-afa3-43b7-848c-b520bc04263b\" style=\"display: none;\"><div style=\"display: table-cell;\"></div><div style=\"display: table-cell;\">tags&nbsp;=&nbsp;[],</div></div><div class=\"bf237aed-afa3-43b7-848c-b520bc04263b\" style=\"display: none;\"><div style=\"display: table-cell;\"></div><div style=\"display: table-cell;\">view&nbsp;=&nbsp;CDSView(id='fb6093c8-ea7a-4925-bece-277a213a6779', ...),</div></div><div class=\"bf237aed-afa3-43b7-848c-b520bc04263b\" style=\"display: none;\"><div style=\"display: table-cell;\"></div><div style=\"display: table-cell;\">visible&nbsp;=&nbsp;True,</div></div><div class=\"bf237aed-afa3-43b7-848c-b520bc04263b\" style=\"display: none;\"><div style=\"display: table-cell;\"></div><div style=\"display: table-cell;\">x_range_name&nbsp;=&nbsp;'default',</div></div><div class=\"bf237aed-afa3-43b7-848c-b520bc04263b\" style=\"display: none;\"><div style=\"display: table-cell;\"></div><div style=\"display: table-cell;\">y_range_name&nbsp;=&nbsp;'default')</div></div></div>\n",
       "<script>\n",
       "(function() {\n",
       "  var expanded = false;\n",
       "  var ellipsis = document.getElementById(\"c6cbe337-46e2-46d8-b60d-fb2cd1a90f7d\");\n",
       "  ellipsis.addEventListener(\"click\", function() {\n",
       "    var rows = document.getElementsByClassName(\"bf237aed-afa3-43b7-848c-b520bc04263b\");\n",
       "    for (var i = 0; i < rows.length; i++) {\n",
       "      var el = rows[i];\n",
       "      el.style.display = expanded ? \"none\" : \"table-row\";\n",
       "    }\n",
       "    ellipsis.innerHTML = expanded ? \"&hellip;)\" : \"&lsaquo;&lsaquo;&lsaquo;\";\n",
       "    expanded = !expanded;\n",
       "  });\n",
       "})();\n",
       "</script>\n"
      ],
      "text/plain": [
       "GlyphRenderer(id='c90ed59a-9077-400d-b7d6-156ddd82bc4e', ...)"
      ]
     },
     "execution_count": 18,
     "metadata": {},
     "output_type": "execute_result"
    }
   ],
   "source": [
    "graph_line.line(\n",
    "    x=data.Anios, # datos en x\n",
    "    y=data.Incidencia, # datos en y\n",
    "    color='#f4d341', # color de las lineas\n",
    "    legend='Incidencia', # leyendad que representa nuestra grafica\n",
    "    line_width=5\n",
    ")\n",
    "graph_line.line(x=data.Anios, y=data.Brecha, color='#42f4bf', legend='Brecha',line_width=5)\n",
    "graph_line.line(x=data.Anios, y=data.Severidad, color='#f44171', legend='Severidad',line_width=5)"
   ]
  },
  {
   "cell_type": "markdown",
   "metadata": {},
   "source": [
    "Para no mostramos los trasados del plano y presentamos nuestra grafica"
   ]
  },
  {
   "cell_type": "code",
   "execution_count": 19,
   "metadata": {},
   "outputs": [
    {
     "data": {
      "text/html": [
       "\n",
       "<div class=\"bk-root\">\n",
       "    <div class=\"bk-plotdiv\" id=\"d7eb1646-6f35-42cb-a641-aa61314a2bd8\"></div>\n",
       "</div>"
      ]
     },
     "metadata": {},
     "output_type": "display_data"
    },
    {
     "data": {
      "application/javascript": [
       "(function(root) {\n",
       "  function embed_document(root) {\n",
       "    var docs_json = {\"8ed64322-1efd-4556-bd15-beaca31df3f3\":{\"roots\":{\"references\":[{\"attributes\":{},\"id\":\"437b4c1e-e67c-4b0b-8b37-76e59fdb6c88\",\"type\":\"LinearScale\"},{\"attributes\":{\"line_color\":{\"value\":\"#f44171\"},\"line_width\":{\"value\":5},\"x\":{\"field\":\"x\"},\"y\":{\"field\":\"y\"}},\"id\":\"5277573e-d74c-42d5-ab76-63185ae8e4ec\",\"type\":\"Line\"},{\"attributes\":{\"callback\":null},\"id\":\"34d4d393-b4ff-4e75-ad4f-dcf56434f584\",\"type\":\"DataRange1d\"},{\"attributes\":{},\"id\":\"dc64ca5b-16af-48e8-a561-21d131319f66\",\"type\":\"LinearScale\"},{\"attributes\":{\"label\":{\"value\":\"Severidad\"},\"renderers\":[{\"id\":\"c90ed59a-9077-400d-b7d6-156ddd82bc4e\",\"type\":\"GlyphRenderer\"}]},\"id\":\"2b513474-faa1-4899-b2ec-4fd2e7c2bd1d\",\"type\":\"LegendItem\"},{\"attributes\":{\"items\":[{\"id\":\"a1b07ec1-1935-404b-9eae-b69bd93731eb\",\"type\":\"LegendItem\"},{\"id\":\"99fc38c0-8547-4cab-8181-ef2e753551be\",\"type\":\"LegendItem\"},{\"id\":\"2b513474-faa1-4899-b2ec-4fd2e7c2bd1d\",\"type\":\"LegendItem\"}],\"plot\":{\"id\":\"d84c51d9-63c5-4027-91d4-5390b2f03c63\",\"subtype\":\"Figure\",\"type\":\"Plot\"}},\"id\":\"a2e2b2c3-acfc-4150-a305-861f1f89b88f\",\"type\":\"Legend\"},{\"attributes\":{},\"id\":\"79173ce5-867a-4ec4-891b-e08b4d6ac0bf\",\"type\":\"BasicTickFormatter\"},{\"attributes\":{\"formatter\":{\"id\":\"e1230403-7227-4a8e-b776-529d47d3b7a6\",\"type\":\"BasicTickFormatter\"},\"plot\":{\"id\":\"d84c51d9-63c5-4027-91d4-5390b2f03c63\",\"subtype\":\"Figure\",\"type\":\"Plot\"},\"ticker\":{\"id\":\"5d8af5cf-ed15-4594-9edc-216f445bccc4\",\"type\":\"BasicTicker\"}},\"id\":\"73d193c2-d4d6-4f3d-9043-ef5a568b1785\",\"type\":\"LinearAxis\"},{\"attributes\":{},\"id\":\"5d8af5cf-ed15-4594-9edc-216f445bccc4\",\"type\":\"BasicTicker\"},{\"attributes\":{\"grid_line_color\":{\"value\":null},\"plot\":{\"id\":\"d84c51d9-63c5-4027-91d4-5390b2f03c63\",\"subtype\":\"Figure\",\"type\":\"Plot\"},\"ticker\":{\"id\":\"5d8af5cf-ed15-4594-9edc-216f445bccc4\",\"type\":\"BasicTicker\"}},\"id\":\"915bbb7c-f1db-4e37-b268-da8701c86ff9\",\"type\":\"Grid\"},{\"attributes\":{\"formatter\":{\"id\":\"79173ce5-867a-4ec4-891b-e08b4d6ac0bf\",\"type\":\"BasicTickFormatter\"},\"plot\":{\"id\":\"d84c51d9-63c5-4027-91d4-5390b2f03c63\",\"subtype\":\"Figure\",\"type\":\"Plot\"},\"ticker\":{\"id\":\"9538bb45-d021-45c7-8a4b-71f594a79f0e\",\"type\":\"BasicTicker\"}},\"id\":\"d41ba0c3-6802-4629-a3cf-8b56d893f19b\",\"type\":\"LinearAxis\"},{\"attributes\":{},\"id\":\"9538bb45-d021-45c7-8a4b-71f594a79f0e\",\"type\":\"BasicTicker\"},{\"attributes\":{\"dimension\":1,\"grid_line_color\":{\"value\":null},\"plot\":{\"id\":\"d84c51d9-63c5-4027-91d4-5390b2f03c63\",\"subtype\":\"Figure\",\"type\":\"Plot\"},\"ticker\":{\"id\":\"9538bb45-d021-45c7-8a4b-71f594a79f0e\",\"type\":\"BasicTicker\"}},\"id\":\"09206cf7-cc60-4794-8cb0-bbb858142dcd\",\"type\":\"Grid\"},{\"attributes\":{\"source\":{\"id\":\"6fd49623-35c8-4cdf-b8e0-7f227433e045\",\"type\":\"ColumnDataSource\"}},\"id\":\"324bed19-934b-4d28-90b7-0b5d7773dcf9\",\"type\":\"CDSView\"},{\"attributes\":{\"callback\":null,\"column_names\":[\"x\",\"y\"],\"data\":{\"x\":{\"__ndarray__\":\"AAAAAABgn0AAAAAAAGSfQAAAAAAAaJ9AAAAAAABsn0AAAAAAAHCfQAAAAAAAdJ9AAAAAAAB4n0AAAAAAAHyfQAAAAAAAgJ9AAAAAAACEn0A=\",\"dtype\":\"float64\",\"shape\":[10]},\"y\":{\"__ndarray__\":\"KVyPwvUo/D+F61G4HoX/P3sUrkfhegJA9ihcj8L1/D9xPQrXo3D5P/YoXI/C9fg/PQrXo3A99j/NzMzMzMz0P3E9CtejcPU/rkfhehSu8z8=\",\"dtype\":\"float64\",\"shape\":[10]}}},\"id\":\"7db5d6b0-39d4-4287-a112-0376781143f7\",\"type\":\"ColumnDataSource\"},{\"attributes\":{\"callback\":null,\"column_names\":[\"x\",\"y\"],\"data\":{\"x\":{\"__ndarray__\":\"AAAAAABgn0AAAAAAAGSfQAAAAAAAaJ9AAAAAAABsn0AAAAAAAHCfQAAAAAAAdJ9AAAAAAAB4n0AAAAAAAHyfQAAAAAAAgJ9AAAAAAACEn0A=\",\"dtype\":\"float64\",\"shape\":[10]},\"y\":{\"__ndarray__\":\"j8L1KFyPCkCuR+F6FK4NQFyPwvUoXBFAuB6F61G4CkBSuB6F61EKQNejcD0K1wtAPQrXo3A9BkC4HoXrUbgEQArXo3A9CgVAMzMzMzMzA0A=\",\"dtype\":\"float64\",\"shape\":[10]}}},\"id\":\"f7331d78-e6ce-4ad6-b580-3d1c760e82e4\",\"type\":\"ColumnDataSource\"},{\"attributes\":{\"line_alpha\":{\"value\":0.1},\"line_color\":{\"value\":\"#1f77b4\"},\"line_width\":{\"value\":5},\"x\":{\"field\":\"x\"},\"y\":{\"field\":\"y\"}},\"id\":\"9c3d91b4-9600-4ce9-97d0-e203c39e6a20\",\"type\":\"Line\"},{\"attributes\":{\"line_color\":{\"value\":\"#f4d341\"},\"line_width\":{\"value\":5},\"x\":{\"field\":\"x\"},\"y\":{\"field\":\"y\"}},\"id\":\"bba59934-b6ff-4e86-ac17-0dbc5148e52b\",\"type\":\"Line\"},{\"attributes\":{\"data_source\":{\"id\":\"6fd49623-35c8-4cdf-b8e0-7f227433e045\",\"type\":\"ColumnDataSource\"},\"glyph\":{\"id\":\"bba59934-b6ff-4e86-ac17-0dbc5148e52b\",\"type\":\"Line\"},\"hover_glyph\":null,\"muted_glyph\":null,\"nonselection_glyph\":{\"id\":\"9c3d91b4-9600-4ce9-97d0-e203c39e6a20\",\"type\":\"Line\"},\"selection_glyph\":null,\"view\":{\"id\":\"324bed19-934b-4d28-90b7-0b5d7773dcf9\",\"type\":\"CDSView\"}},\"id\":\"e78ae293-2a17-46e0-9362-73451ba1aabf\",\"type\":\"GlyphRenderer\"},{\"attributes\":{\"source\":{\"id\":\"7db5d6b0-39d4-4287-a112-0376781143f7\",\"type\":\"ColumnDataSource\"}},\"id\":\"fb6093c8-ea7a-4925-bece-277a213a6779\",\"type\":\"CDSView\"},{\"attributes\":{\"callback\":null,\"column_names\":[\"x\",\"y\"],\"data\":{\"x\":{\"__ndarray__\":\"AAAAAABgn0AAAAAAAGSfQAAAAAAAaJ9AAAAAAABsn0AAAAAAAHCfQAAAAAAAdJ9AAAAAAAB4n0AAAAAAAHyfQAAAAAAAgJ9AAAAAAACEn0A=\",\"dtype\":\"float64\",\"shape\":[10]},\"y\":{\"__ndarray__\":\"ZmZmZmbmJEBSuB6F61EmQIXrUbgeBSpAKVyPwvWoJEBxPQrXo/AhQDMzMzMzsyVA16NwPQrXIUB7FK5H4XofQOxRuB6F6x9AZmZmZmZmHUA=\",\"dtype\":\"float64\",\"shape\":[10]}}},\"id\":\"6fd49623-35c8-4cdf-b8e0-7f227433e045\",\"type\":\"ColumnDataSource\"},{\"attributes\":{},\"id\":\"e1230403-7227-4a8e-b776-529d47d3b7a6\",\"type\":\"BasicTickFormatter\"},{\"attributes\":{\"line_color\":{\"value\":\"#42f4bf\"},\"line_width\":{\"value\":5},\"x\":{\"field\":\"x\"},\"y\":{\"field\":\"y\"}},\"id\":\"55f34386-026a-4874-ba4b-5951463d8457\",\"type\":\"Line\"},{\"attributes\":{\"source\":{\"id\":\"f7331d78-e6ce-4ad6-b580-3d1c760e82e4\",\"type\":\"ColumnDataSource\"}},\"id\":\"14f133fb-99df-4b19-94b7-af442635779e\",\"type\":\"CDSView\"},{\"attributes\":{\"data_source\":{\"id\":\"f7331d78-e6ce-4ad6-b580-3d1c760e82e4\",\"type\":\"ColumnDataSource\"},\"glyph\":{\"id\":\"55f34386-026a-4874-ba4b-5951463d8457\",\"type\":\"Line\"},\"hover_glyph\":null,\"muted_glyph\":null,\"nonselection_glyph\":{\"id\":\"a7dac735-4845-4da6-bded-bfa6e873c9a2\",\"type\":\"Line\"},\"selection_glyph\":null,\"view\":{\"id\":\"14f133fb-99df-4b19-94b7-af442635779e\",\"type\":\"CDSView\"}},\"id\":\"55277d6d-fb4c-44a5-acda-412d840eec65\",\"type\":\"GlyphRenderer\"},{\"attributes\":{\"below\":[{\"id\":\"73d193c2-d4d6-4f3d-9043-ef5a568b1785\",\"type\":\"LinearAxis\"}],\"left\":[{\"id\":\"d41ba0c3-6802-4629-a3cf-8b56d893f19b\",\"type\":\"LinearAxis\"}],\"plot_height\":400,\"plot_width\":900,\"renderers\":[{\"id\":\"73d193c2-d4d6-4f3d-9043-ef5a568b1785\",\"type\":\"LinearAxis\"},{\"id\":\"915bbb7c-f1db-4e37-b268-da8701c86ff9\",\"type\":\"Grid\"},{\"id\":\"d41ba0c3-6802-4629-a3cf-8b56d893f19b\",\"type\":\"LinearAxis\"},{\"id\":\"09206cf7-cc60-4794-8cb0-bbb858142dcd\",\"type\":\"Grid\"},{\"id\":\"a2e2b2c3-acfc-4150-a305-861f1f89b88f\",\"type\":\"Legend\"},{\"id\":\"e78ae293-2a17-46e0-9362-73451ba1aabf\",\"type\":\"GlyphRenderer\"},{\"id\":\"55277d6d-fb4c-44a5-acda-412d840eec65\",\"type\":\"GlyphRenderer\"},{\"id\":\"c90ed59a-9077-400d-b7d6-156ddd82bc4e\",\"type\":\"GlyphRenderer\"}],\"title\":{\"id\":\"b3e5e242-0f4a-4bc9-8e56-ee6b4f30c36e\",\"type\":\"Title\"},\"toolbar\":{\"id\":\"43ba2949-ef59-48ac-b514-c59519086f34\",\"type\":\"Toolbar\"},\"x_range\":{\"id\":\"080548fc-c7ca-44d9-9a2c-38107e0d6a14\",\"type\":\"DataRange1d\"},\"x_scale\":{\"id\":\"437b4c1e-e67c-4b0b-8b37-76e59fdb6c88\",\"type\":\"LinearScale\"},\"y_range\":{\"id\":\"34d4d393-b4ff-4e75-ad4f-dcf56434f584\",\"type\":\"DataRange1d\"},\"y_scale\":{\"id\":\"dc64ca5b-16af-48e8-a561-21d131319f66\",\"type\":\"LinearScale\"}},\"id\":\"d84c51d9-63c5-4027-91d4-5390b2f03c63\",\"subtype\":\"Figure\",\"type\":\"Plot\"},{\"attributes\":{\"label\":{\"value\":\"Brecha\"},\"renderers\":[{\"id\":\"55277d6d-fb4c-44a5-acda-412d840eec65\",\"type\":\"GlyphRenderer\"}]},\"id\":\"99fc38c0-8547-4cab-8181-ef2e753551be\",\"type\":\"LegendItem\"},{\"attributes\":{\"line_alpha\":{\"value\":0.1},\"line_color\":{\"value\":\"#1f77b4\"},\"line_width\":{\"value\":5},\"x\":{\"field\":\"x\"},\"y\":{\"field\":\"y\"}},\"id\":\"a7dac735-4845-4da6-bded-bfa6e873c9a2\",\"type\":\"Line\"},{\"attributes\":{\"plot\":null,\"text\":\"POBREZA-QUITO\"},\"id\":\"b3e5e242-0f4a-4bc9-8e56-ee6b4f30c36e\",\"type\":\"Title\"},{\"attributes\":{\"callback\":null},\"id\":\"080548fc-c7ca-44d9-9a2c-38107e0d6a14\",\"type\":\"DataRange1d\"},{\"attributes\":{\"line_alpha\":{\"value\":0.1},\"line_color\":{\"value\":\"#1f77b4\"},\"line_width\":{\"value\":5},\"x\":{\"field\":\"x\"},\"y\":{\"field\":\"y\"}},\"id\":\"4628b255-46c4-46b2-8d67-d21c92d796d9\",\"type\":\"Line\"},{\"attributes\":{\"label\":{\"value\":\"Incidencia\"},\"renderers\":[{\"id\":\"e78ae293-2a17-46e0-9362-73451ba1aabf\",\"type\":\"GlyphRenderer\"}]},\"id\":\"a1b07ec1-1935-404b-9eae-b69bd93731eb\",\"type\":\"LegendItem\"},{\"attributes\":{\"active_drag\":\"auto\",\"active_inspect\":\"auto\",\"active_scroll\":\"auto\",\"active_tap\":\"auto\"},\"id\":\"43ba2949-ef59-48ac-b514-c59519086f34\",\"type\":\"Toolbar\"},{\"attributes\":{\"data_source\":{\"id\":\"7db5d6b0-39d4-4287-a112-0376781143f7\",\"type\":\"ColumnDataSource\"},\"glyph\":{\"id\":\"5277573e-d74c-42d5-ab76-63185ae8e4ec\",\"type\":\"Line\"},\"hover_glyph\":null,\"muted_glyph\":null,\"nonselection_glyph\":{\"id\":\"4628b255-46c4-46b2-8d67-d21c92d796d9\",\"type\":\"Line\"},\"selection_glyph\":null,\"view\":{\"id\":\"fb6093c8-ea7a-4925-bece-277a213a6779\",\"type\":\"CDSView\"}},\"id\":\"c90ed59a-9077-400d-b7d6-156ddd82bc4e\",\"type\":\"GlyphRenderer\"}],\"root_ids\":[\"d84c51d9-63c5-4027-91d4-5390b2f03c63\"]},\"title\":\"Bokeh Application\",\"version\":\"0.12.10\"}};\n",
       "    var render_items = [{\"docid\":\"8ed64322-1efd-4556-bd15-beaca31df3f3\",\"elementid\":\"d7eb1646-6f35-42cb-a641-aa61314a2bd8\",\"modelid\":\"d84c51d9-63c5-4027-91d4-5390b2f03c63\"}];\n",
       "\n",
       "    root.Bokeh.embed.embed_items(docs_json, render_items);\n",
       "  }\n",
       "\n",
       "  if (root.Bokeh !== undefined) {\n",
       "    embed_document(root);\n",
       "  } else {\n",
       "    var attempts = 0;\n",
       "    var timer = setInterval(function(root) {\n",
       "      if (root.Bokeh !== undefined) {\n",
       "        embed_document(root);\n",
       "        clearInterval(timer);\n",
       "      }\n",
       "      attempts++;\n",
       "      if (attempts > 100) {\n",
       "        console.log(\"Bokeh: ERROR: Unable to embed document because BokehJS library is missing\")\n",
       "        clearInterval(timer);\n",
       "      }\n",
       "    }, 10, root)\n",
       "  }\n",
       "})(window);"
      ],
      "application/vnd.bokehjs_exec.v0+json": ""
     },
     "metadata": {
      "application/vnd.bokehjs_exec.v0+json": {
       "id": "d84c51d9-63c5-4027-91d4-5390b2f03c63"
      }
     },
     "output_type": "display_data"
    }
   ],
   "source": [
    "graph_line.xgrid.grid_line_color = None # eliminamos las lineas verticales\n",
    "graph_line.ygrid.grid_line_color = None # horizontales\n",
    "show(graph_line) # mostramos nuestra grafica"
   ]
  },
  {
   "cell_type": "markdown",
   "metadata": {},
   "source": [
    "## Grafico de barras"
   ]
  },
  {
   "cell_type": "markdown",
   "metadata": {},
   "source": [
    "Creamos un una variable contiene los parametros de nuestra grafica final"
   ]
  },
  {
   "cell_type": "code",
   "execution_count": 20,
   "metadata": {},
   "outputs": [],
   "source": [
    "options = dict( # opciones que compartiran cada una de nuestras graficas\n",
    "    plot_width=300, plot_height=300, # Tamaño\n",
    "    tools='' # Herramientas de bokeh adicionales\n",
    ")"
   ]
  },
  {
   "cell_type": "markdown",
   "metadata": {},
   "source": [
    "Creamos un objeto de figura por cada grafica y establecemos sus opciones y titulo. (opciones)"
   ]
  },
  {
   "cell_type": "code",
   "execution_count": 21,
   "metadata": {},
   "outputs": [],
   "source": [
    "graph_bar_1 = figure(\n",
    "    title='Incidencia', # titulo de esta grafica en particular\n",
    "    **options # opciones antes definidad\n",
    ")\n",
    "graph_bar_2 = figure(title='Brecha', **options)\n",
    "graph_bar_3 = figure(title='Severidad', **options)"
   ]
  },
  {
   "cell_type": "markdown",
   "metadata": {},
   "source": [
    "Definimos lo que cada una de nuestras graficas representara"
   ]
  },
  {
   "cell_type": "code",
   "execution_count": 22,
   "metadata": {},
   "outputs": [
    {
     "data": {
      "text/html": [
       "<div style=\"display: table;\"><div style=\"display: table-row;\"><div style=\"display: table-cell;\"><b title=\"bokeh.models.renderers.GlyphRenderer\">GlyphRenderer</b>(</div><div style=\"display: table-cell;\">id&nbsp;=&nbsp;'20cd7258-b48e-4108-9b44-f570c465ea66', <span id=\"40240cfc-2a13-441b-9585-a024df6ac10d\" style=\"cursor: pointer;\">&hellip;)</span></div></div><div class=\"d42fa880-a865-4435-a9f9-cb68dbfbc49c\" style=\"display: none;\"><div style=\"display: table-cell;\"></div><div style=\"display: table-cell;\">data_source&nbsp;=&nbsp;ColumnDataSource(id='c3e0c7c6-4407-4382-bd5b-63bea9a255ef', ...),</div></div><div class=\"d42fa880-a865-4435-a9f9-cb68dbfbc49c\" style=\"display: none;\"><div style=\"display: table-cell;\"></div><div style=\"display: table-cell;\">glyph&nbsp;=&nbsp;VBar(id='74ca21e7-fa6b-45d2-b5c1-b73e41c95ae4', ...),</div></div><div class=\"d42fa880-a865-4435-a9f9-cb68dbfbc49c\" style=\"display: none;\"><div style=\"display: table-cell;\"></div><div style=\"display: table-cell;\">hover_glyph&nbsp;=&nbsp;None,</div></div><div class=\"d42fa880-a865-4435-a9f9-cb68dbfbc49c\" style=\"display: none;\"><div style=\"display: table-cell;\"></div><div style=\"display: table-cell;\">js_event_callbacks&nbsp;=&nbsp;{},</div></div><div class=\"d42fa880-a865-4435-a9f9-cb68dbfbc49c\" style=\"display: none;\"><div style=\"display: table-cell;\"></div><div style=\"display: table-cell;\">js_property_callbacks&nbsp;=&nbsp;{},</div></div><div class=\"d42fa880-a865-4435-a9f9-cb68dbfbc49c\" style=\"display: none;\"><div style=\"display: table-cell;\"></div><div style=\"display: table-cell;\">level&nbsp;=&nbsp;'glyph',</div></div><div class=\"d42fa880-a865-4435-a9f9-cb68dbfbc49c\" style=\"display: none;\"><div style=\"display: table-cell;\"></div><div style=\"display: table-cell;\">muted&nbsp;=&nbsp;False,</div></div><div class=\"d42fa880-a865-4435-a9f9-cb68dbfbc49c\" style=\"display: none;\"><div style=\"display: table-cell;\"></div><div style=\"display: table-cell;\">muted_glyph&nbsp;=&nbsp;None,</div></div><div class=\"d42fa880-a865-4435-a9f9-cb68dbfbc49c\" style=\"display: none;\"><div style=\"display: table-cell;\"></div><div style=\"display: table-cell;\">name&nbsp;=&nbsp;None,</div></div><div class=\"d42fa880-a865-4435-a9f9-cb68dbfbc49c\" style=\"display: none;\"><div style=\"display: table-cell;\"></div><div style=\"display: table-cell;\">nonselection_glyph&nbsp;=&nbsp;VBar(id='2c89a8e8-6d6e-4dd9-83a2-238e1922b5d2', ...),</div></div><div class=\"d42fa880-a865-4435-a9f9-cb68dbfbc49c\" style=\"display: none;\"><div style=\"display: table-cell;\"></div><div style=\"display: table-cell;\">selection_glyph&nbsp;=&nbsp;None,</div></div><div class=\"d42fa880-a865-4435-a9f9-cb68dbfbc49c\" style=\"display: none;\"><div style=\"display: table-cell;\"></div><div style=\"display: table-cell;\">subscribed_events&nbsp;=&nbsp;[],</div></div><div class=\"d42fa880-a865-4435-a9f9-cb68dbfbc49c\" style=\"display: none;\"><div style=\"display: table-cell;\"></div><div style=\"display: table-cell;\">tags&nbsp;=&nbsp;[],</div></div><div class=\"d42fa880-a865-4435-a9f9-cb68dbfbc49c\" style=\"display: none;\"><div style=\"display: table-cell;\"></div><div style=\"display: table-cell;\">view&nbsp;=&nbsp;CDSView(id='0a5c1e32-a8e4-42be-8497-de901230ca4d', ...),</div></div><div class=\"d42fa880-a865-4435-a9f9-cb68dbfbc49c\" style=\"display: none;\"><div style=\"display: table-cell;\"></div><div style=\"display: table-cell;\">visible&nbsp;=&nbsp;True,</div></div><div class=\"d42fa880-a865-4435-a9f9-cb68dbfbc49c\" style=\"display: none;\"><div style=\"display: table-cell;\"></div><div style=\"display: table-cell;\">x_range_name&nbsp;=&nbsp;'default',</div></div><div class=\"d42fa880-a865-4435-a9f9-cb68dbfbc49c\" style=\"display: none;\"><div style=\"display: table-cell;\"></div><div style=\"display: table-cell;\">y_range_name&nbsp;=&nbsp;'default')</div></div></div>\n",
       "<script>\n",
       "(function() {\n",
       "  var expanded = false;\n",
       "  var ellipsis = document.getElementById(\"40240cfc-2a13-441b-9585-a024df6ac10d\");\n",
       "  ellipsis.addEventListener(\"click\", function() {\n",
       "    var rows = document.getElementsByClassName(\"d42fa880-a865-4435-a9f9-cb68dbfbc49c\");\n",
       "    for (var i = 0; i < rows.length; i++) {\n",
       "      var el = rows[i];\n",
       "      el.style.display = expanded ? \"none\" : \"table-row\";\n",
       "    }\n",
       "    ellipsis.innerHTML = expanded ? \"&hellip;)\" : \"&lsaquo;&lsaquo;&lsaquo;\";\n",
       "    expanded = !expanded;\n",
       "  });\n",
       "})();\n",
       "</script>\n"
      ],
      "text/plain": [
       "GlyphRenderer(id='20cd7258-b48e-4108-9b44-f570c465ea66', ...)"
      ]
     },
     "execution_count": 22,
     "metadata": {},
     "output_type": "execute_result"
    }
   ],
   "source": [
    "graph_bar_1.vbar(\n",
    "    x=data.Anios, # datos en x\n",
    "    top=data.Incidencia, # valor maximo\n",
    "    width=0.7, # ancho de cada barra\n",
    "    line_color=\"white\", # color del borde de cada barra\n",
    "    color=\"#f4d341\" # color de cada barra\n",
    ")\n",
    "graph_bar_2.vbar(x=data.Anios, top=data.Brecha, width=0.7, line_color=\"white\", color=\"#42f4bf\")\n",
    "graph_bar_3.vbar(x=data.Anios, top=data.Severidad, width=0.7, line_color=\"white\", color=\"#f44171\")"
   ]
  },
  {
   "cell_type": "markdown",
   "metadata": {},
   "source": [
    "Creamos una nueva figura que esta compuesta por las figuras creadas anteriormente"
   ]
  },
  {
   "cell_type": "code",
   "execution_count": 23,
   "metadata": {},
   "outputs": [
    {
     "data": {
      "text/html": [
       "\n",
       "<div class=\"bk-root\">\n",
       "    <div class=\"bk-plotdiv\" id=\"2b6af8cf-9673-4953-be7f-b213715f1487\"></div>\n",
       "</div>"
      ]
     },
     "metadata": {},
     "output_type": "display_data"
    },
    {
     "data": {
      "application/javascript": [
       "(function(root) {\n",
       "  function embed_document(root) {\n",
       "    var docs_json = {\"4b98273d-86bf-45e4-ab2f-ca4bf2794cd5\":{\"roots\":{\"references\":[{\"attributes\":{\"children\":[{\"id\":\"f709ada0-7826-4611-ad74-9f3027700797\",\"type\":\"Row\"}]},\"id\":\"0d5834a5-0fe9-42a7-ae80-60f05a7a9701\",\"type\":\"Column\"},{\"attributes\":{\"sizing_mode\":\"scale_width\",\"toolbar_location\":\"above\"},\"id\":\"dba5ef5f-8702-4856-a689-f35131139e1b\",\"type\":\"ToolbarBox\"},{\"attributes\":{\"callback\":null,\"column_names\":[\"x\",\"top\"],\"data\":{\"top\":{\"__ndarray__\":\"j8L1KFyPCkCuR+F6FK4NQFyPwvUoXBFAuB6F61G4CkBSuB6F61EKQNejcD0K1wtAPQrXo3A9BkC4HoXrUbgEQArXo3A9CgVAMzMzMzMzA0A=\",\"dtype\":\"float64\",\"shape\":[10]},\"x\":{\"__ndarray__\":\"AAAAAABgn0AAAAAAAGSfQAAAAAAAaJ9AAAAAAABsn0AAAAAAAHCfQAAAAAAAdJ9AAAAAAAB4n0AAAAAAAHyfQAAAAAAAgJ9AAAAAAACEn0A=\",\"dtype\":\"float64\",\"shape\":[10]}}},\"id\":\"46aab4da-1a6c-4c02-8995-93251fb4c76a\",\"type\":\"ColumnDataSource\"},{\"attributes\":{\"callback\":null,\"column_names\":[\"x\",\"top\"],\"data\":{\"top\":{\"__ndarray__\":\"ZmZmZmbmJEBSuB6F61EmQIXrUbgeBSpAKVyPwvWoJEBxPQrXo/AhQDMzMzMzsyVA16NwPQrXIUB7FK5H4XofQOxRuB6F6x9AZmZmZmZmHUA=\",\"dtype\":\"float64\",\"shape\":[10]},\"x\":{\"__ndarray__\":\"AAAAAABgn0AAAAAAAGSfQAAAAAAAaJ9AAAAAAABsn0AAAAAAAHCfQAAAAAAAdJ9AAAAAAAB4n0AAAAAAAHyfQAAAAAAAgJ9AAAAAAACEn0A=\",\"dtype\":\"float64\",\"shape\":[10]}}},\"id\":\"88da9a4c-7f32-4916-a65b-602ecf2fa47a\",\"type\":\"ColumnDataSource\"},{\"attributes\":{},\"id\":\"6cfa08ec-3021-458c-8b3a-cc6228c1adc0\",\"type\":\"BasicTickFormatter\"},{\"attributes\":{\"fill_color\":{\"value\":\"#f4d341\"},\"line_color\":{\"value\":\"white\"},\"top\":{\"field\":\"top\"},\"width\":{\"value\":0.7},\"x\":{\"field\":\"x\"}},\"id\":\"a9a75bbf-6278-416a-b4f0-9e3b2854bf0e\",\"type\":\"VBar\"},{\"attributes\":{},\"id\":\"5d29337c-043d-4563-95a0-69619d67a8bb\",\"type\":\"BasicTickFormatter\"},{\"attributes\":{\"fill_alpha\":{\"value\":0.1},\"fill_color\":{\"value\":\"#1f77b4\"},\"line_alpha\":{\"value\":0.1},\"line_color\":{\"value\":\"#1f77b4\"},\"top\":{\"field\":\"top\"},\"width\":{\"value\":0.7},\"x\":{\"field\":\"x\"}},\"id\":\"2c89a8e8-6d6e-4dd9-83a2-238e1922b5d2\",\"type\":\"VBar\"},{\"attributes\":{},\"id\":\"5a1ea388-a8ad-4cd7-81ce-d6a7cbc6b03c\",\"type\":\"BasicTickFormatter\"},{\"attributes\":{\"children\":[{\"id\":\"dba5ef5f-8702-4856-a689-f35131139e1b\",\"type\":\"ToolbarBox\"},{\"id\":\"0d5834a5-0fe9-42a7-ae80-60f05a7a9701\",\"type\":\"Column\"}]},\"id\":\"2e9c3309-a901-4e56-a9de-3e2a7fd35e93\",\"type\":\"Column\"},{\"attributes\":{\"fill_alpha\":{\"value\":0.1},\"fill_color\":{\"value\":\"#1f77b4\"},\"line_alpha\":{\"value\":0.1},\"line_color\":{\"value\":\"#1f77b4\"},\"top\":{\"field\":\"top\"},\"width\":{\"value\":0.7},\"x\":{\"field\":\"x\"}},\"id\":\"3f90b856-7552-4b37-b6e9-f6959c97d940\",\"type\":\"VBar\"},{\"attributes\":{\"fill_color\":{\"value\":\"#42f4bf\"},\"line_color\":{\"value\":\"white\"},\"top\":{\"field\":\"top\"},\"width\":{\"value\":0.7},\"x\":{\"field\":\"x\"}},\"id\":\"1c758e33-05b2-4401-a977-fdd6a92c4ddd\",\"type\":\"VBar\"},{\"attributes\":{\"source\":{\"id\":\"46aab4da-1a6c-4c02-8995-93251fb4c76a\",\"type\":\"ColumnDataSource\"}},\"id\":\"9da089e8-f3b1-4ed1-85ca-6d09b3486b96\",\"type\":\"CDSView\"},{\"attributes\":{\"data_source\":{\"id\":\"88da9a4c-7f32-4916-a65b-602ecf2fa47a\",\"type\":\"ColumnDataSource\"},\"glyph\":{\"id\":\"a9a75bbf-6278-416a-b4f0-9e3b2854bf0e\",\"type\":\"VBar\"},\"hover_glyph\":null,\"muted_glyph\":null,\"nonselection_glyph\":{\"id\":\"3f90b856-7552-4b37-b6e9-f6959c97d940\",\"type\":\"VBar\"},\"selection_glyph\":null,\"view\":{\"id\":\"20701089-85f6-4459-897c-b8a48afb88b6\",\"type\":\"CDSView\"}},\"id\":\"2c52f265-6fe0-4eb3-af7a-a4ae8daeb73b\",\"type\":\"GlyphRenderer\"},{\"attributes\":{\"plot\":null,\"text\":\"Incidencia\"},\"id\":\"41bf0e60-3c56-4db1-92a8-13ae19dc6d47\",\"type\":\"Title\"},{\"attributes\":{\"below\":[{\"id\":\"ff2b7baf-38ad-46c0-8af1-076b5110e6b7\",\"type\":\"LinearAxis\"}],\"left\":[{\"id\":\"0df00bb6-9e5a-408a-a0de-078ef0434400\",\"type\":\"LinearAxis\"}],\"plot_height\":300,\"plot_width\":300,\"renderers\":[{\"id\":\"ff2b7baf-38ad-46c0-8af1-076b5110e6b7\",\"type\":\"LinearAxis\"},{\"id\":\"d8b934c4-dec0-4a13-96b3-583415266d5c\",\"type\":\"Grid\"},{\"id\":\"0df00bb6-9e5a-408a-a0de-078ef0434400\",\"type\":\"LinearAxis\"},{\"id\":\"da9c329c-c013-4e5b-a8e1-33ae1f0f2381\",\"type\":\"Grid\"},{\"id\":\"01e1ecb8-61bc-43ac-9fd0-f0b3739e4f22\",\"type\":\"GlyphRenderer\"}],\"title\":{\"id\":\"55d9a4e5-ab6a-483c-8f15-323c0131a7e6\",\"type\":\"Title\"},\"toolbar\":{\"id\":\"8ceac950-af60-44c2-b05f-e4465268fa72\",\"type\":\"Toolbar\"},\"toolbar_location\":null,\"x_range\":{\"id\":\"8641a882-7b9c-473d-8fcf-fdba51e0ad74\",\"type\":\"DataRange1d\"},\"x_scale\":{\"id\":\"fb0b2d81-f45b-44ad-bab5-a851435dcf81\",\"type\":\"LinearScale\"},\"y_range\":{\"id\":\"07506611-7616-458c-bd25-cee03c110744\",\"type\":\"DataRange1d\"},\"y_scale\":{\"id\":\"68fa6fb0-c99e-4547-b2d2-40e6d6d28ada\",\"type\":\"LinearScale\"}},\"id\":\"884f07f6-f2d6-4fbb-995a-2af79931ee8d\",\"subtype\":\"Figure\",\"type\":\"Plot\"},{\"attributes\":{\"data_source\":{\"id\":\"46aab4da-1a6c-4c02-8995-93251fb4c76a\",\"type\":\"ColumnDataSource\"},\"glyph\":{\"id\":\"1c758e33-05b2-4401-a977-fdd6a92c4ddd\",\"type\":\"VBar\"},\"hover_glyph\":null,\"muted_glyph\":null,\"nonselection_glyph\":{\"id\":\"667ffa61-b60c-433b-9a71-5fc9d1ffbe0c\",\"type\":\"VBar\"},\"selection_glyph\":null,\"view\":{\"id\":\"9da089e8-f3b1-4ed1-85ca-6d09b3486b96\",\"type\":\"CDSView\"}},\"id\":\"01e1ecb8-61bc-43ac-9fd0-f0b3739e4f22\",\"type\":\"GlyphRenderer\"},{\"attributes\":{\"below\":[{\"id\":\"be2123f7-0c41-4f69-ac2c-659aaf9521cf\",\"type\":\"LinearAxis\"}],\"left\":[{\"id\":\"a4960211-b676-4f2a-8e87-4c6fc942b437\",\"type\":\"LinearAxis\"}],\"plot_height\":300,\"plot_width\":300,\"renderers\":[{\"id\":\"be2123f7-0c41-4f69-ac2c-659aaf9521cf\",\"type\":\"LinearAxis\"},{\"id\":\"4d177c99-352d-4d7c-9f92-89ca2bc5452b\",\"type\":\"Grid\"},{\"id\":\"a4960211-b676-4f2a-8e87-4c6fc942b437\",\"type\":\"LinearAxis\"},{\"id\":\"b350028c-c2b2-43ab-bcfe-4e7225388bc3\",\"type\":\"Grid\"},{\"id\":\"2c52f265-6fe0-4eb3-af7a-a4ae8daeb73b\",\"type\":\"GlyphRenderer\"}],\"title\":{\"id\":\"41bf0e60-3c56-4db1-92a8-13ae19dc6d47\",\"type\":\"Title\"},\"toolbar\":{\"id\":\"191b8596-1009-419d-a870-e961e6bc486f\",\"type\":\"Toolbar\"},\"toolbar_location\":null,\"x_range\":{\"id\":\"93a55965-ca66-4820-913d-b78fafb39d53\",\"type\":\"DataRange1d\"},\"x_scale\":{\"id\":\"aeeed738-f9a7-4666-870c-72404027ea78\",\"type\":\"LinearScale\"},\"y_range\":{\"id\":\"dbd5726d-138d-4b7b-b943-311616c3d78a\",\"type\":\"DataRange1d\"},\"y_scale\":{\"id\":\"819439d5-e75e-4816-b119-38750051c980\",\"type\":\"LinearScale\"}},\"id\":\"03b15217-36eb-4fd8-932a-db1c5acf25e8\",\"subtype\":\"Figure\",\"type\":\"Plot\"},{\"attributes\":{\"source\":{\"id\":\"88da9a4c-7f32-4916-a65b-602ecf2fa47a\",\"type\":\"ColumnDataSource\"}},\"id\":\"20701089-85f6-4459-897c-b8a48afb88b6\",\"type\":\"CDSView\"},{\"attributes\":{\"fill_color\":{\"value\":\"#f44171\"},\"line_color\":{\"value\":\"white\"},\"top\":{\"field\":\"top\"},\"width\":{\"value\":0.7},\"x\":{\"field\":\"x\"}},\"id\":\"74ca21e7-fa6b-45d2-b5c1-b73e41c95ae4\",\"type\":\"VBar\"},{\"attributes\":{\"plot\":null,\"text\":\"Severidad\"},\"id\":\"f210129d-1989-4430-a367-0a8ab945a0bf\",\"type\":\"Title\"},{\"attributes\":{\"fill_alpha\":{\"value\":0.1},\"fill_color\":{\"value\":\"#1f77b4\"},\"line_alpha\":{\"value\":0.1},\"line_color\":{\"value\":\"#1f77b4\"},\"top\":{\"field\":\"top\"},\"width\":{\"value\":0.7},\"x\":{\"field\":\"x\"}},\"id\":\"667ffa61-b60c-433b-9a71-5fc9d1ffbe0c\",\"type\":\"VBar\"},{\"attributes\":{\"active_drag\":\"auto\",\"active_inspect\":\"auto\",\"active_scroll\":\"auto\",\"active_tap\":\"auto\"},\"id\":\"191b8596-1009-419d-a870-e961e6bc486f\",\"type\":\"Toolbar\"},{\"attributes\":{\"callback\":null,\"column_names\":[\"x\",\"top\"],\"data\":{\"top\":{\"__ndarray__\":\"KVyPwvUo/D+F61G4HoX/P3sUrkfhegJA9ihcj8L1/D9xPQrXo3D5P/YoXI/C9fg/PQrXo3A99j/NzMzMzMz0P3E9CtejcPU/rkfhehSu8z8=\",\"dtype\":\"float64\",\"shape\":[10]},\"x\":{\"__ndarray__\":\"AAAAAABgn0AAAAAAAGSfQAAAAAAAaJ9AAAAAAABsn0AAAAAAAHCfQAAAAAAAdJ9AAAAAAAB4n0AAAAAAAHyfQAAAAAAAgJ9AAAAAAACEn0A=\",\"dtype\":\"float64\",\"shape\":[10]}}},\"id\":\"c3e0c7c6-4407-4382-bd5b-63bea9a255ef\",\"type\":\"ColumnDataSource\"},{\"attributes\":{\"callback\":null},\"id\":\"93a55965-ca66-4820-913d-b78fafb39d53\",\"type\":\"DataRange1d\"},{\"attributes\":{\"source\":{\"id\":\"c3e0c7c6-4407-4382-bd5b-63bea9a255ef\",\"type\":\"ColumnDataSource\"}},\"id\":\"0a5c1e32-a8e4-42be-8497-de901230ca4d\",\"type\":\"CDSView\"},{\"attributes\":{\"callback\":null},\"id\":\"dbd5726d-138d-4b7b-b943-311616c3d78a\",\"type\":\"DataRange1d\"},{\"attributes\":{},\"id\":\"819439d5-e75e-4816-b119-38750051c980\",\"type\":\"LinearScale\"},{\"attributes\":{},\"id\":\"0709d99d-7297-4d39-aabf-c700f334e0fe\",\"type\":\"BasicTickFormatter\"},{\"attributes\":{},\"id\":\"aeeed738-f9a7-4666-870c-72404027ea78\",\"type\":\"LinearScale\"},{\"attributes\":{\"formatter\":{\"id\":\"0709d99d-7297-4d39-aabf-c700f334e0fe\",\"type\":\"BasicTickFormatter\"},\"plot\":{\"id\":\"884f07f6-f2d6-4fbb-995a-2af79931ee8d\",\"subtype\":\"Figure\",\"type\":\"Plot\"},\"ticker\":{\"id\":\"7c7c0eb9-454e-4070-9c1e-716d84eb006d\",\"type\":\"BasicTicker\"}},\"id\":\"ff2b7baf-38ad-46c0-8af1-076b5110e6b7\",\"type\":\"LinearAxis\"},{\"attributes\":{\"data_source\":{\"id\":\"c3e0c7c6-4407-4382-bd5b-63bea9a255ef\",\"type\":\"ColumnDataSource\"},\"glyph\":{\"id\":\"74ca21e7-fa6b-45d2-b5c1-b73e41c95ae4\",\"type\":\"VBar\"},\"hover_glyph\":null,\"muted_glyph\":null,\"nonselection_glyph\":{\"id\":\"2c89a8e8-6d6e-4dd9-83a2-238e1922b5d2\",\"type\":\"VBar\"},\"selection_glyph\":null,\"view\":{\"id\":\"0a5c1e32-a8e4-42be-8497-de901230ca4d\",\"type\":\"CDSView\"}},\"id\":\"20cd7258-b48e-4108-9b44-f570c465ea66\",\"type\":\"GlyphRenderer\"},{\"attributes\":{\"plot\":{\"id\":\"03b15217-36eb-4fd8-932a-db1c5acf25e8\",\"subtype\":\"Figure\",\"type\":\"Plot\"},\"ticker\":{\"id\":\"6dd1ed4f-0592-4884-ad03-45466d9c0a1a\",\"type\":\"BasicTicker\"}},\"id\":\"4d177c99-352d-4d7c-9f92-89ca2bc5452b\",\"type\":\"Grid\"},{\"attributes\":{\"formatter\":{\"id\":\"5d29337c-043d-4563-95a0-69619d67a8bb\",\"type\":\"BasicTickFormatter\"},\"plot\":{\"id\":\"03b15217-36eb-4fd8-932a-db1c5acf25e8\",\"subtype\":\"Figure\",\"type\":\"Plot\"},\"ticker\":{\"id\":\"6dd1ed4f-0592-4884-ad03-45466d9c0a1a\",\"type\":\"BasicTicker\"}},\"id\":\"be2123f7-0c41-4f69-ac2c-659aaf9521cf\",\"type\":\"LinearAxis\"},{\"attributes\":{},\"id\":\"56f10d54-c34b-42f2-9fe7-1606939da821\",\"type\":\"BasicTickFormatter\"},{\"attributes\":{},\"id\":\"6dd1ed4f-0592-4884-ad03-45466d9c0a1a\",\"type\":\"BasicTicker\"},{\"attributes\":{},\"id\":\"75c21fd6-8b66-4e36-8347-2dc7d5227a3d\",\"type\":\"BasicTicker\"},{\"attributes\":{\"formatter\":{\"id\":\"6cfa08ec-3021-458c-8b3a-cc6228c1adc0\",\"type\":\"BasicTickFormatter\"},\"plot\":{\"id\":\"03b15217-36eb-4fd8-932a-db1c5acf25e8\",\"subtype\":\"Figure\",\"type\":\"Plot\"},\"ticker\":{\"id\":\"f0e0787b-6bce-4e5c-b15f-566cf2010bd6\",\"type\":\"BasicTicker\"}},\"id\":\"a4960211-b676-4f2a-8e87-4c6fc942b437\",\"type\":\"LinearAxis\"},{\"attributes\":{\"callback\":null},\"id\":\"07506611-7616-458c-bd25-cee03c110744\",\"type\":\"DataRange1d\"},{\"attributes\":{\"plot\":null,\"text\":\"Brecha\"},\"id\":\"55d9a4e5-ab6a-483c-8f15-323c0131a7e6\",\"type\":\"Title\"},{\"attributes\":{\"dimension\":1,\"plot\":{\"id\":\"03b15217-36eb-4fd8-932a-db1c5acf25e8\",\"subtype\":\"Figure\",\"type\":\"Plot\"},\"ticker\":{\"id\":\"f0e0787b-6bce-4e5c-b15f-566cf2010bd6\",\"type\":\"BasicTicker\"}},\"id\":\"b350028c-c2b2-43ab-bcfe-4e7225388bc3\",\"type\":\"Grid\"},{\"attributes\":{},\"id\":\"f0e0787b-6bce-4e5c-b15f-566cf2010bd6\",\"type\":\"BasicTicker\"},{\"attributes\":{\"callback\":null},\"id\":\"8641a882-7b9c-473d-8fcf-fdba51e0ad74\",\"type\":\"DataRange1d\"},{\"attributes\":{\"below\":[{\"id\":\"aa129670-22db-4818-89be-16dfcc0ee7ff\",\"type\":\"LinearAxis\"}],\"left\":[{\"id\":\"ed9c79c8-188b-4ddc-9036-cc1c18ce82da\",\"type\":\"LinearAxis\"}],\"plot_height\":300,\"plot_width\":300,\"renderers\":[{\"id\":\"aa129670-22db-4818-89be-16dfcc0ee7ff\",\"type\":\"LinearAxis\"},{\"id\":\"8257895a-c05c-454e-9e4e-6b584d803f31\",\"type\":\"Grid\"},{\"id\":\"ed9c79c8-188b-4ddc-9036-cc1c18ce82da\",\"type\":\"LinearAxis\"},{\"id\":\"4608bbd9-448c-4c2c-8c32-e8532e97a3e1\",\"type\":\"Grid\"},{\"id\":\"20cd7258-b48e-4108-9b44-f570c465ea66\",\"type\":\"GlyphRenderer\"}],\"title\":{\"id\":\"f210129d-1989-4430-a367-0a8ab945a0bf\",\"type\":\"Title\"},\"toolbar\":{\"id\":\"a9e08b38-2ff0-439d-9781-c82413f3574e\",\"type\":\"Toolbar\"},\"toolbar_location\":null,\"x_range\":{\"id\":\"7f31cc22-d4fe-4170-93c1-6e674e29f22d\",\"type\":\"DataRange1d\"},\"x_scale\":{\"id\":\"66fe97ee-1f58-4696-bb19-292dba9afe42\",\"type\":\"LinearScale\"},\"y_range\":{\"id\":\"1550cc58-b434-4b50-8047-22346da5370f\",\"type\":\"DataRange1d\"},\"y_scale\":{\"id\":\"56729b8c-9165-4464-a366-a9fa2406e2b2\",\"type\":\"LinearScale\"}},\"id\":\"d3a482c2-e38e-4a4f-8eb0-3bbe0175d09c\",\"subtype\":\"Figure\",\"type\":\"Plot\"},{\"attributes\":{},\"id\":\"68fa6fb0-c99e-4547-b2d2-40e6d6d28ada\",\"type\":\"LinearScale\"},{\"attributes\":{\"formatter\":{\"id\":\"5ece21f6-36b7-4e29-b376-b0d72d0981dc\",\"type\":\"BasicTickFormatter\"},\"plot\":{\"id\":\"884f07f6-f2d6-4fbb-995a-2af79931ee8d\",\"subtype\":\"Figure\",\"type\":\"Plot\"},\"ticker\":{\"id\":\"75c21fd6-8b66-4e36-8347-2dc7d5227a3d\",\"type\":\"BasicTicker\"}},\"id\":\"0df00bb6-9e5a-408a-a0de-078ef0434400\",\"type\":\"LinearAxis\"},{\"attributes\":{},\"id\":\"fb0b2d81-f45b-44ad-bab5-a851435dcf81\",\"type\":\"LinearScale\"},{\"attributes\":{\"plot\":{\"id\":\"884f07f6-f2d6-4fbb-995a-2af79931ee8d\",\"subtype\":\"Figure\",\"type\":\"Plot\"},\"ticker\":{\"id\":\"7c7c0eb9-454e-4070-9c1e-716d84eb006d\",\"type\":\"BasicTicker\"}},\"id\":\"d8b934c4-dec0-4a13-96b3-583415266d5c\",\"type\":\"Grid\"},{\"attributes\":{\"active_drag\":\"auto\",\"active_inspect\":\"auto\",\"active_scroll\":\"auto\",\"active_tap\":\"auto\"},\"id\":\"8ceac950-af60-44c2-b05f-e4465268fa72\",\"type\":\"Toolbar\"},{\"attributes\":{},\"id\":\"7c7c0eb9-454e-4070-9c1e-716d84eb006d\",\"type\":\"BasicTicker\"},{\"attributes\":{},\"id\":\"66fe97ee-1f58-4696-bb19-292dba9afe42\",\"type\":\"LinearScale\"},{\"attributes\":{\"dimension\":1,\"plot\":{\"id\":\"884f07f6-f2d6-4fbb-995a-2af79931ee8d\",\"subtype\":\"Figure\",\"type\":\"Plot\"},\"ticker\":{\"id\":\"75c21fd6-8b66-4e36-8347-2dc7d5227a3d\",\"type\":\"BasicTicker\"}},\"id\":\"da9c329c-c013-4e5b-a8e1-33ae1f0f2381\",\"type\":\"Grid\"},{\"attributes\":{\"callback\":null},\"id\":\"7f31cc22-d4fe-4170-93c1-6e674e29f22d\",\"type\":\"DataRange1d\"},{\"attributes\":{},\"id\":\"5ece21f6-36b7-4e29-b376-b0d72d0981dc\",\"type\":\"BasicTickFormatter\"},{\"attributes\":{\"active_drag\":\"auto\",\"active_inspect\":\"auto\",\"active_scroll\":\"auto\",\"active_tap\":\"auto\"},\"id\":\"a9e08b38-2ff0-439d-9781-c82413f3574e\",\"type\":\"Toolbar\"},{\"attributes\":{\"callback\":null},\"id\":\"1550cc58-b434-4b50-8047-22346da5370f\",\"type\":\"DataRange1d\"},{\"attributes\":{},\"id\":\"e905b407-0021-485d-8166-75824eb6a1b9\",\"type\":\"BasicTicker\"},{\"attributes\":{\"dimension\":1,\"plot\":{\"id\":\"d3a482c2-e38e-4a4f-8eb0-3bbe0175d09c\",\"subtype\":\"Figure\",\"type\":\"Plot\"},\"ticker\":{\"id\":\"e905b407-0021-485d-8166-75824eb6a1b9\",\"type\":\"BasicTicker\"}},\"id\":\"4608bbd9-448c-4c2c-8c32-e8532e97a3e1\",\"type\":\"Grid\"},{\"attributes\":{\"formatter\":{\"id\":\"5a1ea388-a8ad-4cd7-81ce-d6a7cbc6b03c\",\"type\":\"BasicTickFormatter\"},\"plot\":{\"id\":\"d3a482c2-e38e-4a4f-8eb0-3bbe0175d09c\",\"subtype\":\"Figure\",\"type\":\"Plot\"},\"ticker\":{\"id\":\"e905b407-0021-485d-8166-75824eb6a1b9\",\"type\":\"BasicTicker\"}},\"id\":\"ed9c79c8-188b-4ddc-9036-cc1c18ce82da\",\"type\":\"LinearAxis\"},{\"attributes\":{},\"id\":\"c3b86aab-34e8-4f34-99a8-074e02788007\",\"type\":\"BasicTicker\"},{\"attributes\":{\"formatter\":{\"id\":\"56f10d54-c34b-42f2-9fe7-1606939da821\",\"type\":\"BasicTickFormatter\"},\"plot\":{\"id\":\"d3a482c2-e38e-4a4f-8eb0-3bbe0175d09c\",\"subtype\":\"Figure\",\"type\":\"Plot\"},\"ticker\":{\"id\":\"c3b86aab-34e8-4f34-99a8-074e02788007\",\"type\":\"BasicTicker\"}},\"id\":\"aa129670-22db-4818-89be-16dfcc0ee7ff\",\"type\":\"LinearAxis\"},{\"attributes\":{\"plot\":{\"id\":\"d3a482c2-e38e-4a4f-8eb0-3bbe0175d09c\",\"subtype\":\"Figure\",\"type\":\"Plot\"},\"ticker\":{\"id\":\"c3b86aab-34e8-4f34-99a8-074e02788007\",\"type\":\"BasicTicker\"}},\"id\":\"8257895a-c05c-454e-9e4e-6b584d803f31\",\"type\":\"Grid\"},{\"attributes\":{},\"id\":\"56729b8c-9165-4464-a366-a9fa2406e2b2\",\"type\":\"LinearScale\"},{\"attributes\":{\"children\":[{\"id\":\"03b15217-36eb-4fd8-932a-db1c5acf25e8\",\"subtype\":\"Figure\",\"type\":\"Plot\"},{\"id\":\"884f07f6-f2d6-4fbb-995a-2af79931ee8d\",\"subtype\":\"Figure\",\"type\":\"Plot\"},{\"id\":\"d3a482c2-e38e-4a4f-8eb0-3bbe0175d09c\",\"subtype\":\"Figure\",\"type\":\"Plot\"}]},\"id\":\"f709ada0-7826-4611-ad74-9f3027700797\",\"type\":\"Row\"}],\"root_ids\":[\"2e9c3309-a901-4e56-a9de-3e2a7fd35e93\"]},\"title\":\"Bokeh Application\",\"version\":\"0.12.10\"}};\n",
       "    var render_items = [{\"docid\":\"4b98273d-86bf-45e4-ab2f-ca4bf2794cd5\",\"elementid\":\"2b6af8cf-9673-4953-be7f-b213715f1487\",\"modelid\":\"2e9c3309-a901-4e56-a9de-3e2a7fd35e93\"}];\n",
       "\n",
       "    root.Bokeh.embed.embed_items(docs_json, render_items);\n",
       "  }\n",
       "\n",
       "  if (root.Bokeh !== undefined) {\n",
       "    embed_document(root);\n",
       "  } else {\n",
       "    var attempts = 0;\n",
       "    var timer = setInterval(function(root) {\n",
       "      if (root.Bokeh !== undefined) {\n",
       "        embed_document(root);\n",
       "        clearInterval(timer);\n",
       "      }\n",
       "      attempts++;\n",
       "      if (attempts > 100) {\n",
       "        console.log(\"Bokeh: ERROR: Unable to embed document because BokehJS library is missing\")\n",
       "        clearInterval(timer);\n",
       "      }\n",
       "    }, 10, root)\n",
       "  }\n",
       "})(window);"
      ],
      "application/vnd.bokehjs_exec.v0+json": ""
     },
     "metadata": {
      "application/vnd.bokehjs_exec.v0+json": {
       "id": "2e9c3309-a901-4e56-a9de-3e2a7fd35e93"
      }
     },
     "output_type": "display_data"
    }
   ],
   "source": [
    "graph_bar = gridplot([[graph_bar_1, graph_bar_2, graph_bar_3]]) # agrupamos nuestas graficas\n",
    "show(graph_bar) # Mostramos los resultados"
   ]
  },
  {
   "cell_type": "markdown",
   "metadata": {},
   "source": [
    "## Grafico de pastel\n",
    "Importamos `pi` de la libreria `numpy` para el angulo en nuestras graficas\n",
    "\n",
    "Y `interact` de `ipywidgets` para poder interactuar con nuestra grafica"
   ]
  },
  {
   "cell_type": "code",
   "execution_count": 24,
   "metadata": {},
   "outputs": [],
   "source": [
    "from numpy import pi\n",
    "from ipywidgets import interact"
   ]
  },
  {
   "cell_type": "markdown",
   "metadata": {},
   "source": [
    "Definimos cada uno de las graficas de pastel que representaremos, su titulo, la cuadricula que mostrara, y las opciones antes definidas de la grafica anterior"
   ]
  },
  {
   "cell_type": "code",
   "execution_count": 25,
   "metadata": {},
   "outputs": [],
   "source": [
    "graph_pie_1 = figure(\n",
    "    title='Incidencia', # titulo de esta grafica en particular\n",
    "    x_range=(-1,1),\n",
    "    y_range=(-1,1),\n",
    "    **options\n",
    ")\n",
    "graph_pie_2 = figure(title='Brecha', x_range=(-1,1), y_range=(-1,1), **options)\n",
    "graph_pie_3 = figure(title='Severidad', x_range=(-1,1), y_range=(-1,1), **options)"
   ]
  },
  {
   "cell_type": "markdown",
   "metadata": {},
   "source": [
    "Definimos una funcion que sera llamada cada vez que interactuemos con el slider"
   ]
  },
  {
   "cell_type": "code",
   "execution_count": 26,
   "metadata": {},
   "outputs": [],
   "source": [
    "def f(x):\n",
    "    graph_pie_1.wedge(\n",
    "        x=0, y=0, radius=0.8, # centro y radio\n",
    "        start_angle=[0.0, data.Incidencia[x]*2*pi/100], # valores donde inicia cada parte\n",
    "        end_angle=[data.Incidencia[x]*2*pi, 2*pi],  # valores donde termona cada parte del pastes\n",
    "        color=['#f4d341','#686060'] # color de cada parte\n",
    "    )\n",
    "    graph_pie_2.wedge(\n",
    "        x=0, y=0, radius=0.8, \n",
    "        start_angle=[0.0, data.Brecha[x]*2*pi/100], \n",
    "        end_angle=[data.Brecha[x]*2*pi, 2*pi], \n",
    "        color=['#42f4bf','#686060']\n",
    "    )\n",
    "    graph_pie_3.wedge(\n",
    "        x=0, y=0, radius=0.8, \n",
    "        start_angle=[0.0, data.Severidad[x]*2*pi/100], \n",
    "        end_angle=[data.Severidad[x]*2*pi, 2*pi], \n",
    "        color=['#f44171','#686060']\n",
    "    )\n",
    "    \n",
    "    \n",
    "    print(\"Año: \"+str(int(data.Anios[x])))\n",
    "    graph_pie = gridplot([[graph_pie_1, graph_pie_2, graph_pie_3]]) # agrupamos nuestas graficas\n",
    "    show(graph_pie) # Mostramos los resultados"
   ]
  },
  {
   "cell_type": "markdown",
   "metadata": {},
   "source": [
    "Mostramos la grafica y el slider con el que podremos interactuar"
   ]
  },
  {
   "cell_type": "code",
   "execution_count": 27,
   "metadata": {},
   "outputs": [
    {
     "data": {
      "application/vnd.jupyter.widget-view+json": {
       "model_id": "4c76540c01c94d85b6a45d22392eee44",
       "version_major": 2,
       "version_minor": 0
      },
      "text/html": [
       "<p>Failed to display Jupyter Widget of type <code>interactive</code>.</p>\n",
       "<p>\n",
       "  If you're reading this message in the Jupyter Notebook or JupyterLab Notebook, it may mean\n",
       "  that the widgets JavaScript is still loading. If this message persists, it\n",
       "  likely means that the widgets JavaScript library is either not installed or\n",
       "  not enabled. See the <a href=\"https://ipywidgets.readthedocs.io/en/stable/user_install.html\">Jupyter\n",
       "  Widgets Documentation</a> for setup instructions.\n",
       "</p>\n",
       "<p>\n",
       "  If you're reading this message in another frontend (for example, a static\n",
       "  rendering on GitHub or <a href=\"https://nbviewer.jupyter.org/\">NBViewer</a>),\n",
       "  it may mean that your frontend doesn't currently support widgets.\n",
       "</p>\n"
      ],
      "text/plain": [
       "interactive(children=(IntSlider(value=5, description='x', max=10, min=1), Output()), _dom_classes=('widget-interact',))"
      ]
     },
     "metadata": {},
     "output_type": "display_data"
    }
   ],
   "source": [
    "interact(f, x=(1,10));"
   ]
  }
 ],
 "metadata": {
  "kernelspec": {
   "display_name": "Python 3",
   "language": "python",
   "name": "python3"
  },
  "language_info": {
   "codemirror_mode": {
    "name": "ipython",
    "version": 3
   },
   "file_extension": ".py",
   "mimetype": "text/x-python",
   "name": "python",
   "nbconvert_exporter": "python",
   "pygments_lexer": "ipython3",
   "version": "3.6.3"
  }
 },
 "nbformat": 4,
 "nbformat_minor": 2
}
