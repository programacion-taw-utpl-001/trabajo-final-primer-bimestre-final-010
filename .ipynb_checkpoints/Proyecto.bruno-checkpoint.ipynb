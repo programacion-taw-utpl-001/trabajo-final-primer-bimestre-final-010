{
 "cells": [
  {
   "cell_type": "markdown",
   "metadata": {},
   "source": [
    "# Manejo y Visualización de Datos con Python"
   ]
  },
  {
   "cell_type": "markdown",
   "metadata": {},
   "source": [
    "Para este trabajo se utilizo"
   ]
  },
  {
   "cell_type": "markdown",
   "metadata": {},
   "source": [
    " - **pandas**: Un módulo que proporciona estructuras de datos y herramientas de análisis de datos de alto rendimiento y fácil de usar."
   ]
  },
  {
   "cell_type": "markdown",
   "metadata": {},
   "source": [
    "## pandas\n",
    "\n",
    "pandas es un paquete de Python que proporciona estructuras de datos rápidas, flexibles y expresivas diseñadas para trabajar con datos relacionales o etiquetados. Es un componente fundamental de alto nivel para hacer un análisis práctico y real de datos en Python."
   ]
  },
  {
   "cell_type": "code",
   "execution_count": 1,
   "metadata": {},
   "outputs": [],
   "source": [
    "import pandas as pd"
   ]
  },
  {
   "cell_type": "markdown",
   "metadata": {},
   "source": [
    "¿Cómo hacemos para que este conjunto de datos se convierta en una estructura de datos pandas?\n",
    "pandas hace que sea muy fácil importar datos en varios formatos con su conjunto de funciones de importación:"
   ]
  },
  {
   "cell_type": "code",
   "execution_count": 2,
   "metadata": {},
   "outputs": [
    {
     "data": {
      "text/plain": [
       "['read_clipboard',\n",
       " 'read_csv',\n",
       " 'read_excel',\n",
       " 'read_feather',\n",
       " 'read_fwf',\n",
       " 'read_gbq',\n",
       " 'read_hdf',\n",
       " 'read_html',\n",
       " 'read_json',\n",
       " 'read_msgpack',\n",
       " 'read_parquet',\n",
       " 'read_pickle',\n",
       " 'read_sas',\n",
       " 'read_sql',\n",
       " 'read_sql_query',\n",
       " 'read_sql_table',\n",
       " 'read_stata',\n",
       " 'read_table']"
      ]
     },
     "execution_count": 2,
     "metadata": {},
     "output_type": "execute_result"
    }
   ],
   "source": [
    "# esta es un arreglo comprimido que contiene formatos que puede leer pandas\n",
    "[formatos for formatos in dir(pd) if formatos.startswith('read_')]"
   ]
  },
  {
   "cell_type": "markdown",
   "metadata": {},
   "source": [
    "Nuestro conjunto de datos está en formato `.csv`, por lo que usaremos `read_csv` de pandas.\n",
    "\n",
    "**Los datos que trabajaremos son del sitio web Ecuador en cifras, sobre la probresa en ciudades como Quito, Guayaquil, y otras del Ecuador**"
   ]
  },
  {
   "cell_type": "code",
   "execution_count": 3,
   "metadata": {},
   "outputs": [],
   "source": [
    "# guardamos nuestra tabla en una variable data, despues de haver sido leida por pandas\n",
    "raw_data = pd.read_csv(\n",
    "    './assets/datosPobreza.csv', # direccion donde esta nuestra data\n",
    "    sep=';', # separador de datos para ser leidos por pandas\n",
    "    decimal=\",\" # el separador, o sino nuestros numeros seran tratados como strings si contienen \"comas\"\n",
    ")"
   ]
  },
  {
   "cell_type": "markdown",
   "metadata": {},
   "source": [
    "`read_csv` devuelve un `DataFrame`, una estructura tabular de datos proporcionada por pandas."
   ]
  },
  {
   "cell_type": "code",
   "execution_count": 4,
   "metadata": {},
   "outputs": [
    {
     "data": {
      "text/plain": [
       "pandas.core.frame.DataFrame"
      ]
     },
     "execution_count": 4,
     "metadata": {},
     "output_type": "execute_result"
    }
   ],
   "source": [
    "type(raw_data)"
   ]
  },
  {
   "cell_type": "markdown",
   "metadata": {},
   "source": [
    "Un `DataFrame` está dotado de varios atributos y métodos útiles para explorar los datos."
   ]
  },
  {
   "cell_type": "markdown",
   "metadata": {},
   "source": [
    "Con la funcion `head()` sobre nuestro `DataFrame` podemos mostrar los primeras filas de nuestra data, para no presentar todas las filas. "
   ]
  },
  {
   "cell_type": "code",
   "execution_count": 5,
   "metadata": {},
   "outputs": [
    {
     "data": {
      "text/html": [
       "<div>\n",
       "<style scoped>\n",
       "    .dataframe tbody tr th:only-of-type {\n",
       "        vertical-align: middle;\n",
       "    }\n",
       "\n",
       "    .dataframe tbody tr th {\n",
       "        vertical-align: top;\n",
       "    }\n",
       "\n",
       "    .dataframe thead th {\n",
       "        text-align: right;\n",
       "    }\n",
       "</style>\n",
       "<table border=\"1\" class=\"dataframe\">\n",
       "  <thead>\n",
       "    <tr style=\"text-align: right;\">\n",
       "      <th></th>\n",
       "      <th>Período</th>\n",
       "      <th>Anios</th>\n",
       "      <th>Quito</th>\n",
       "      <th>Quito.1</th>\n",
       "      <th>Quito.2</th>\n",
       "      <th>Guayaquil</th>\n",
       "      <th>Guayaquil.1</th>\n",
       "      <th>Guayaquil.2</th>\n",
       "      <th>Cuenca</th>\n",
       "      <th>Cuenca.1</th>\n",
       "      <th>Cuenca.2</th>\n",
       "      <th>Machala</th>\n",
       "      <th>Machala.1</th>\n",
       "      <th>Machala.2</th>\n",
       "      <th>Ambato</th>\n",
       "      <th>Ambato.1</th>\n",
       "      <th>Ambato.2</th>\n",
       "    </tr>\n",
       "  </thead>\n",
       "  <tbody>\n",
       "    <tr>\n",
       "      <th>0</th>\n",
       "      <td>NaN</td>\n",
       "      <td>NaN</td>\n",
       "      <td>NaN</td>\n",
       "      <td>NaN</td>\n",
       "      <td>NaN</td>\n",
       "      <td>NaN</td>\n",
       "      <td>NaN</td>\n",
       "      <td>NaN</td>\n",
       "      <td>NaN</td>\n",
       "      <td>NaN</td>\n",
       "      <td>NaN</td>\n",
       "      <td>NaN</td>\n",
       "      <td>NaN</td>\n",
       "      <td>NaN</td>\n",
       "      <td>NaN</td>\n",
       "      <td>NaN</td>\n",
       "      <td>NaN</td>\n",
       "    </tr>\n",
       "    <tr>\n",
       "      <th>1</th>\n",
       "      <td>Marzo</td>\n",
       "      <td>2008.0</td>\n",
       "      <td>10.45</td>\n",
       "      <td>3.32</td>\n",
       "      <td>1.76</td>\n",
       "      <td>22.06</td>\n",
       "      <td>6.38</td>\n",
       "      <td>2.87</td>\n",
       "      <td>11.68</td>\n",
       "      <td>3.74</td>\n",
       "      <td>1.88</td>\n",
       "      <td>20.76</td>\n",
       "      <td>6.43</td>\n",
       "      <td>2.82</td>\n",
       "      <td>21.20</td>\n",
       "      <td>6.38</td>\n",
       "      <td>3.11</td>\n",
       "    </tr>\n",
       "    <tr>\n",
       "      <th>2</th>\n",
       "      <td>Marzo</td>\n",
       "      <td>2009.0</td>\n",
       "      <td>11.16</td>\n",
       "      <td>3.71</td>\n",
       "      <td>1.97</td>\n",
       "      <td>24.28</td>\n",
       "      <td>7.50</td>\n",
       "      <td>3.26</td>\n",
       "      <td>10.91</td>\n",
       "      <td>3.31</td>\n",
       "      <td>1.51</td>\n",
       "      <td>20.76</td>\n",
       "      <td>6.32</td>\n",
       "      <td>2.94</td>\n",
       "      <td>17.55</td>\n",
       "      <td>5.81</td>\n",
       "      <td>2.99</td>\n",
       "    </tr>\n",
       "    <tr>\n",
       "      <th>3</th>\n",
       "      <td>Marzo</td>\n",
       "      <td>2010.0</td>\n",
       "      <td>13.01</td>\n",
       "      <td>4.34</td>\n",
       "      <td>2.31</td>\n",
       "      <td>20.80</td>\n",
       "      <td>5.82</td>\n",
       "      <td>2.37</td>\n",
       "      <td>13.78</td>\n",
       "      <td>3.80</td>\n",
       "      <td>1.60</td>\n",
       "      <td>15.54</td>\n",
       "      <td>4.20</td>\n",
       "      <td>1.77</td>\n",
       "      <td>11.63</td>\n",
       "      <td>3.47</td>\n",
       "      <td>1.47</td>\n",
       "    </tr>\n",
       "    <tr>\n",
       "      <th>4</th>\n",
       "      <td>Marzo</td>\n",
       "      <td>2011.0</td>\n",
       "      <td>10.33</td>\n",
       "      <td>3.34</td>\n",
       "      <td>1.81</td>\n",
       "      <td>19.21</td>\n",
       "      <td>4.99</td>\n",
       "      <td>1.99</td>\n",
       "      <td>12.39</td>\n",
       "      <td>4.13</td>\n",
       "      <td>2.20</td>\n",
       "      <td>14.76</td>\n",
       "      <td>4.07</td>\n",
       "      <td>1.62</td>\n",
       "      <td>10.58</td>\n",
       "      <td>2.68</td>\n",
       "      <td>1.02</td>\n",
       "    </tr>\n",
       "  </tbody>\n",
       "</table>\n",
       "</div>"
      ],
      "text/plain": [
       "  Período   Anios  Quito  Quito.1  Quito.2  Guayaquil  Guayaquil.1  \\\n",
       "0     NaN     NaN    NaN      NaN      NaN        NaN          NaN   \n",
       "1   Marzo  2008.0  10.45     3.32     1.76      22.06         6.38   \n",
       "2   Marzo  2009.0  11.16     3.71     1.97      24.28         7.50   \n",
       "3   Marzo  2010.0  13.01     4.34     2.31      20.80         5.82   \n",
       "4   Marzo  2011.0  10.33     3.34     1.81      19.21         4.99   \n",
       "\n",
       "   Guayaquil.2  Cuenca  Cuenca.1  Cuenca.2  Machala  Machala.1  Machala.2  \\\n",
       "0          NaN     NaN       NaN       NaN      NaN        NaN        NaN   \n",
       "1         2.87   11.68      3.74      1.88    20.76       6.43       2.82   \n",
       "2         3.26   10.91      3.31      1.51    20.76       6.32       2.94   \n",
       "3         2.37   13.78      3.80      1.60    15.54       4.20       1.77   \n",
       "4         1.99   12.39      4.13      2.20    14.76       4.07       1.62   \n",
       "\n",
       "   Ambato  Ambato.1  Ambato.2  \n",
       "0     NaN       NaN       NaN  \n",
       "1   21.20      6.38      3.11  \n",
       "2   17.55      5.81      2.99  \n",
       "3   11.63      3.47      1.47  \n",
       "4   10.58      2.68      1.02  "
      ]
     },
     "execution_count": 5,
     "metadata": {},
     "output_type": "execute_result"
    }
   ],
   "source": [
    "raw_data.head()"
   ]
  },
  {
   "cell_type": "markdown",
   "metadata": {},
   "source": [
    "Con la funcion `[1:]` eliminamos la primera fila, ya que no son parte de los datos que usaremos"
   ]
  },
  {
   "cell_type": "code",
   "execution_count": 6,
   "metadata": {},
   "outputs": [],
   "source": [
    "raw_data = raw_data[1:]"
   ]
  },
  {
   "cell_type": "code",
   "execution_count": 7,
   "metadata": {},
   "outputs": [
    {
     "data": {
      "text/plain": [
       "(10, 17)"
      ]
     },
     "execution_count": 7,
     "metadata": {},
     "output_type": "execute_result"
    }
   ],
   "source": [
    "raw_data.shape  # numeros de campos de nuestra data"
   ]
  },
  {
   "cell_type": "markdown",
   "metadata": {},
   "source": [
    "Un `DataFrame` se compone de dos componentes principales; \n",
    " - Los datos mismos, que se pueden extraer a través del atributo de valores:"
   ]
  },
  {
   "cell_type": "code",
   "execution_count": 8,
   "metadata": {},
   "outputs": [
    {
     "data": {
      "text/plain": [
       "array([['Marzo', 2008.0, 10.45, 3.32, 1.76, 22.06, 6.38, 2.87, 11.68, 3.74,\n",
       "        1.88, 20.76, 6.43, 2.82, 21.2, 6.38, 3.11],\n",
       "       ['Marzo', 2009.0, 11.16, 3.71, 1.97, 24.28, 7.5, 3.26, 10.91, 3.31,\n",
       "        1.51, 20.76, 6.32, 2.94, 17.55, 5.81, 2.99],\n",
       "       ['Marzo', 2010.0, 13.01, 4.34, 2.31, 20.8, 5.82, 2.37, 13.78, 3.8,\n",
       "        1.6, 15.54, 4.2, 1.77, 11.63, 3.47, 1.47],\n",
       "       ['Marzo', 2011.0, 10.33, 3.34, 1.81, 19.21, 4.99, 1.99, 12.39, 4.13,\n",
       "        2.2, 14.76, 4.07, 1.62, 10.58, 2.68, 1.02],\n",
       "       ['Marzo', 2012.0, 8.97, 3.29, 1.59, 11.04, 2.75, 1.04, 9.72, 2.92,\n",
       "        1.33, 9.51, 1.91, 0.62, 8.04, 1.97, 0.76],\n",
       "       ['Marzo', 2013.0, 10.85, 3.48, 1.56, 12.77, 3.58, 1.6, 9.17, 2.47,\n",
       "        1.01, 11.98, 2.48, 0.76, 10.54, 3.71, 2.01],\n",
       "       ['Marzo', 2014.0, 8.92, 2.78, 1.39, 11.69, 3.07, 1.2, 4.67, 1.65,\n",
       "        0.87, 13.71, 3.84, 1.54, 12.81, 3.15, 1.31],\n",
       "       ['Marzo', 2015.0, 7.87, 2.59, 1.3, 7.69, 1.84, 0.68, 5.32, 1.24,\n",
       "        0.49, 15.09, 4.2, 1.81, 8.42, 2.9, 1.24],\n",
       "       ['Marzo', 2016.0, 7.98, 2.63, 1.34, 8.67, 2.52, 0.97, 7.83, 2.55,\n",
       "        1.17, 13.77, 3.88, 1.76, 7.77, 2.49, 1.23],\n",
       "       ['Marzo', 2017.0, 7.35, 2.4, 1.23, 10.98, 2.67, 1.11, 7.85, 2.89,\n",
       "        1.54, 16.76, 4.51, 1.98, 9.74, 3.06, 1.64]], dtype=object)"
      ]
     },
     "execution_count": 8,
     "metadata": {},
     "output_type": "execute_result"
    }
   ],
   "source": [
    "raw_data.values"
   ]
  },
  {
   "cell_type": "markdown",
   "metadata": {},
   "source": [
    " - Conjunto de índices, que son esencialmente etiquetas para las filas y columnas del DataFrame."
   ]
  },
  {
   "cell_type": "code",
   "execution_count": 9,
   "metadata": {},
   "outputs": [
    {
     "data": {
      "text/plain": [
       "RangeIndex(start=1, stop=11, step=1)"
      ]
     },
     "execution_count": 9,
     "metadata": {},
     "output_type": "execute_result"
    }
   ],
   "source": [
    "raw_data.index"
   ]
  },
  {
   "cell_type": "code",
   "execution_count": 10,
   "metadata": {},
   "outputs": [
    {
     "data": {
      "text/plain": [
       "Index(['Período', 'Anios', 'Quito', 'Quito.1', 'Quito.2', 'Guayaquil',\n",
       "       'Guayaquil.1', 'Guayaquil.2', 'Cuenca', 'Cuenca.1', 'Cuenca.2',\n",
       "       'Machala', 'Machala.1', 'Machala.2', 'Ambato', 'Ambato.1', 'Ambato.2'],\n",
       "      dtype='object')"
      ]
     },
     "execution_count": 10,
     "metadata": {},
     "output_type": "execute_result"
    }
   ],
   "source": [
    "raw_data.columns"
   ]
  },
  {
   "cell_type": "markdown",
   "metadata": {},
   "source": [
    "Pero, un `índice` es más que un conjunto de etiquetas. Es importante destacar que asegura la **alineación de datos** cuando se agregan datos o se combinan estructuras de datos."
   ]
  },
  {
   "cell_type": "markdown",
   "metadata": {},
   "source": [
    "De hecho, podemos especificar un índice más apropiado para nuestros datos. El campo Año aquí es un índice único para los valores de análisis correspondientes.\n",
    "\n",
    "`set_index` nos permite convertir cualquier columna (o matriz externa) que elijamos en el índice de fila."
   ]
  },
  {
   "cell_type": "code",
   "execution_count": 11,
   "metadata": {},
   "outputs": [
    {
     "data": {
      "text/html": [
       "<div>\n",
       "<style scoped>\n",
       "    .dataframe tbody tr th:only-of-type {\n",
       "        vertical-align: middle;\n",
       "    }\n",
       "\n",
       "    .dataframe tbody tr th {\n",
       "        vertical-align: top;\n",
       "    }\n",
       "\n",
       "    .dataframe thead th {\n",
       "        text-align: right;\n",
       "    }\n",
       "</style>\n",
       "<table border=\"1\" class=\"dataframe\">\n",
       "  <thead>\n",
       "    <tr style=\"text-align: right;\">\n",
       "      <th></th>\n",
       "      <th>Período</th>\n",
       "      <th>Quito</th>\n",
       "      <th>Quito.1</th>\n",
       "      <th>Quito.2</th>\n",
       "      <th>Guayaquil</th>\n",
       "      <th>Guayaquil.1</th>\n",
       "      <th>Guayaquil.2</th>\n",
       "      <th>Cuenca</th>\n",
       "      <th>Cuenca.1</th>\n",
       "      <th>Cuenca.2</th>\n",
       "      <th>Machala</th>\n",
       "      <th>Machala.1</th>\n",
       "      <th>Machala.2</th>\n",
       "      <th>Ambato</th>\n",
       "      <th>Ambato.1</th>\n",
       "      <th>Ambato.2</th>\n",
       "    </tr>\n",
       "    <tr>\n",
       "      <th>Anios</th>\n",
       "      <th></th>\n",
       "      <th></th>\n",
       "      <th></th>\n",
       "      <th></th>\n",
       "      <th></th>\n",
       "      <th></th>\n",
       "      <th></th>\n",
       "      <th></th>\n",
       "      <th></th>\n",
       "      <th></th>\n",
       "      <th></th>\n",
       "      <th></th>\n",
       "      <th></th>\n",
       "      <th></th>\n",
       "      <th></th>\n",
       "      <th></th>\n",
       "    </tr>\n",
       "  </thead>\n",
       "  <tbody>\n",
       "    <tr>\n",
       "      <th>2008.0</th>\n",
       "      <td>Marzo</td>\n",
       "      <td>10.45</td>\n",
       "      <td>3.32</td>\n",
       "      <td>1.76</td>\n",
       "      <td>22.06</td>\n",
       "      <td>6.38</td>\n",
       "      <td>2.87</td>\n",
       "      <td>11.68</td>\n",
       "      <td>3.74</td>\n",
       "      <td>1.88</td>\n",
       "      <td>20.76</td>\n",
       "      <td>6.43</td>\n",
       "      <td>2.82</td>\n",
       "      <td>21.20</td>\n",
       "      <td>6.38</td>\n",
       "      <td>3.11</td>\n",
       "    </tr>\n",
       "    <tr>\n",
       "      <th>2009.0</th>\n",
       "      <td>Marzo</td>\n",
       "      <td>11.16</td>\n",
       "      <td>3.71</td>\n",
       "      <td>1.97</td>\n",
       "      <td>24.28</td>\n",
       "      <td>7.50</td>\n",
       "      <td>3.26</td>\n",
       "      <td>10.91</td>\n",
       "      <td>3.31</td>\n",
       "      <td>1.51</td>\n",
       "      <td>20.76</td>\n",
       "      <td>6.32</td>\n",
       "      <td>2.94</td>\n",
       "      <td>17.55</td>\n",
       "      <td>5.81</td>\n",
       "      <td>2.99</td>\n",
       "    </tr>\n",
       "    <tr>\n",
       "      <th>2010.0</th>\n",
       "      <td>Marzo</td>\n",
       "      <td>13.01</td>\n",
       "      <td>4.34</td>\n",
       "      <td>2.31</td>\n",
       "      <td>20.80</td>\n",
       "      <td>5.82</td>\n",
       "      <td>2.37</td>\n",
       "      <td>13.78</td>\n",
       "      <td>3.80</td>\n",
       "      <td>1.60</td>\n",
       "      <td>15.54</td>\n",
       "      <td>4.20</td>\n",
       "      <td>1.77</td>\n",
       "      <td>11.63</td>\n",
       "      <td>3.47</td>\n",
       "      <td>1.47</td>\n",
       "    </tr>\n",
       "    <tr>\n",
       "      <th>2011.0</th>\n",
       "      <td>Marzo</td>\n",
       "      <td>10.33</td>\n",
       "      <td>3.34</td>\n",
       "      <td>1.81</td>\n",
       "      <td>19.21</td>\n",
       "      <td>4.99</td>\n",
       "      <td>1.99</td>\n",
       "      <td>12.39</td>\n",
       "      <td>4.13</td>\n",
       "      <td>2.20</td>\n",
       "      <td>14.76</td>\n",
       "      <td>4.07</td>\n",
       "      <td>1.62</td>\n",
       "      <td>10.58</td>\n",
       "      <td>2.68</td>\n",
       "      <td>1.02</td>\n",
       "    </tr>\n",
       "    <tr>\n",
       "      <th>2012.0</th>\n",
       "      <td>Marzo</td>\n",
       "      <td>8.97</td>\n",
       "      <td>3.29</td>\n",
       "      <td>1.59</td>\n",
       "      <td>11.04</td>\n",
       "      <td>2.75</td>\n",
       "      <td>1.04</td>\n",
       "      <td>9.72</td>\n",
       "      <td>2.92</td>\n",
       "      <td>1.33</td>\n",
       "      <td>9.51</td>\n",
       "      <td>1.91</td>\n",
       "      <td>0.62</td>\n",
       "      <td>8.04</td>\n",
       "      <td>1.97</td>\n",
       "      <td>0.76</td>\n",
       "    </tr>\n",
       "  </tbody>\n",
       "</table>\n",
       "</div>"
      ],
      "text/plain": [
       "       Período  Quito  Quito.1  Quito.2  Guayaquil  Guayaquil.1  Guayaquil.2  \\\n",
       "Anios                                                                          \n",
       "2008.0   Marzo  10.45     3.32     1.76      22.06         6.38         2.87   \n",
       "2009.0   Marzo  11.16     3.71     1.97      24.28         7.50         3.26   \n",
       "2010.0   Marzo  13.01     4.34     2.31      20.80         5.82         2.37   \n",
       "2011.0   Marzo  10.33     3.34     1.81      19.21         4.99         1.99   \n",
       "2012.0   Marzo   8.97     3.29     1.59      11.04         2.75         1.04   \n",
       "\n",
       "        Cuenca  Cuenca.1  Cuenca.2  Machala  Machala.1  Machala.2  Ambato  \\\n",
       "Anios                                                                       \n",
       "2008.0   11.68      3.74      1.88    20.76       6.43       2.82   21.20   \n",
       "2009.0   10.91      3.31      1.51    20.76       6.32       2.94   17.55   \n",
       "2010.0   13.78      3.80      1.60    15.54       4.20       1.77   11.63   \n",
       "2011.0   12.39      4.13      2.20    14.76       4.07       1.62   10.58   \n",
       "2012.0    9.72      2.92      1.33     9.51       1.91       0.62    8.04   \n",
       "\n",
       "        Ambato.1  Ambato.2  \n",
       "Anios                       \n",
       "2008.0      6.38      3.11  \n",
       "2009.0      5.81      2.99  \n",
       "2010.0      3.47      1.47  \n",
       "2011.0      2.68      1.02  \n",
       "2012.0      1.97      0.76  "
      ]
     },
     "execution_count": 11,
     "metadata": {},
     "output_type": "execute_result"
    }
   ],
   "source": [
    "temp = raw_data.set_index('Anios')\n",
    "temp.head()"
   ]
  },
  {
   "cell_type": "markdown",
   "metadata": {},
   "source": [
    "# Data\n",
    "------\n",
    "Para nuestra tabla agruparemos los datos de Quito para Repesentar nuestras graficas"
   ]
  },
  {
   "cell_type": "code",
   "execution_count": 12,
   "metadata": {},
   "outputs": [
    {
     "data": {
      "text/html": [
       "<div>\n",
       "<style scoped>\n",
       "    .dataframe tbody tr th:only-of-type {\n",
       "        vertical-align: middle;\n",
       "    }\n",
       "\n",
       "    .dataframe tbody tr th {\n",
       "        vertical-align: top;\n",
       "    }\n",
       "\n",
       "    .dataframe thead th {\n",
       "        text-align: right;\n",
       "    }\n",
       "</style>\n",
       "<table border=\"1\" class=\"dataframe\">\n",
       "  <thead>\n",
       "    <tr style=\"text-align: right;\">\n",
       "      <th></th>\n",
       "      <th>Anios</th>\n",
       "      <th>Quito</th>\n",
       "      <th>Quito.1</th>\n",
       "      <th>Quito.2</th>\n",
       "    </tr>\n",
       "  </thead>\n",
       "  <tbody>\n",
       "    <tr>\n",
       "      <th>1</th>\n",
       "      <td>2008.0</td>\n",
       "      <td>10.45</td>\n",
       "      <td>3.32</td>\n",
       "      <td>1.76</td>\n",
       "    </tr>\n",
       "    <tr>\n",
       "      <th>2</th>\n",
       "      <td>2009.0</td>\n",
       "      <td>11.16</td>\n",
       "      <td>3.71</td>\n",
       "      <td>1.97</td>\n",
       "    </tr>\n",
       "    <tr>\n",
       "      <th>3</th>\n",
       "      <td>2010.0</td>\n",
       "      <td>13.01</td>\n",
       "      <td>4.34</td>\n",
       "      <td>2.31</td>\n",
       "    </tr>\n",
       "    <tr>\n",
       "      <th>4</th>\n",
       "      <td>2011.0</td>\n",
       "      <td>10.33</td>\n",
       "      <td>3.34</td>\n",
       "      <td>1.81</td>\n",
       "    </tr>\n",
       "    <tr>\n",
       "      <th>5</th>\n",
       "      <td>2012.0</td>\n",
       "      <td>8.97</td>\n",
       "      <td>3.29</td>\n",
       "      <td>1.59</td>\n",
       "    </tr>\n",
       "  </tbody>\n",
       "</table>\n",
       "</div>"
      ],
      "text/plain": [
       "    Anios  Quito  Quito.1  Quito.2\n",
       "1  2008.0  10.45     3.32     1.76\n",
       "2  2009.0  11.16     3.71     1.97\n",
       "3  2010.0  13.01     4.34     2.31\n",
       "4  2011.0  10.33     3.34     1.81\n",
       "5  2012.0   8.97     3.29     1.59"
      ]
     },
     "execution_count": 12,
     "metadata": {},
     "output_type": "execute_result"
    }
   ],
   "source": [
    "data = raw_data.drop(['Período', 'Guayaquil', 'Guayaquil.1', 'Guayaquil.2', 'Cuenca', 'Cuenca.1', 'Cuenca.2', 'Machala', 'Machala.1', 'Machala.2', 'Ambato', 'Ambato.1', 'Ambato.2'], axis=1)\n",
    "data.head()"
   ]
  },
  {
   "cell_type": "markdown",
   "metadata": {},
   "source": [
    "Cambiaremos los nombres de las columnas de nuestra data para ver lo que representaremos"
   ]
  },
  {
   "cell_type": "code",
   "execution_count": 59,
   "metadata": {},
   "outputs": [
    {
     "data": {
      "text/html": [
       "<div>\n",
       "<style scoped>\n",
       "    .dataframe tbody tr th:only-of-type {\n",
       "        vertical-align: middle;\n",
       "    }\n",
       "\n",
       "    .dataframe tbody tr th {\n",
       "        vertical-align: top;\n",
       "    }\n",
       "\n",
       "    .dataframe thead th {\n",
       "        text-align: right;\n",
       "    }\n",
       "</style>\n",
       "<table border=\"1\" class=\"dataframe\">\n",
       "  <thead>\n",
       "    <tr style=\"text-align: right;\">\n",
       "      <th></th>\n",
       "      <th>Anios</th>\n",
       "      <th>Incidencia</th>\n",
       "      <th>Brecha</th>\n",
       "      <th>Severidad</th>\n",
       "    </tr>\n",
       "  </thead>\n",
       "  <tbody>\n",
       "    <tr>\n",
       "      <th>1</th>\n",
       "      <td>2008.0</td>\n",
       "      <td>10.45</td>\n",
       "      <td>3.32</td>\n",
       "      <td>1.76</td>\n",
       "    </tr>\n",
       "    <tr>\n",
       "      <th>2</th>\n",
       "      <td>2009.0</td>\n",
       "      <td>11.16</td>\n",
       "      <td>3.71</td>\n",
       "      <td>1.97</td>\n",
       "    </tr>\n",
       "    <tr>\n",
       "      <th>3</th>\n",
       "      <td>2010.0</td>\n",
       "      <td>13.01</td>\n",
       "      <td>4.34</td>\n",
       "      <td>2.31</td>\n",
       "    </tr>\n",
       "    <tr>\n",
       "      <th>4</th>\n",
       "      <td>2011.0</td>\n",
       "      <td>10.33</td>\n",
       "      <td>3.34</td>\n",
       "      <td>1.81</td>\n",
       "    </tr>\n",
       "    <tr>\n",
       "      <th>5</th>\n",
       "      <td>2012.0</td>\n",
       "      <td>8.97</td>\n",
       "      <td>3.29</td>\n",
       "      <td>1.59</td>\n",
       "    </tr>\n",
       "  </tbody>\n",
       "</table>\n",
       "</div>"
      ],
      "text/plain": [
       "    Anios  Incidencia  Brecha  Severidad\n",
       "1  2008.0       10.45    3.32       1.76\n",
       "2  2009.0       11.16    3.71       1.97\n",
       "3  2010.0       13.01    4.34       2.31\n",
       "4  2011.0       10.33    3.34       1.81\n",
       "5  2012.0        8.97    3.29       1.59"
      ]
     },
     "execution_count": 59,
     "metadata": {},
     "output_type": "execute_result"
    }
   ],
   "source": [
    "data.columns = ['Anios', 'Incidencia', 'Brecha', 'Severidad']\n",
    "data.head()"
   ]
  },
  {
   "cell_type": "markdown",
   "metadata": {},
   "source": [
    "### ¿Qué es incidencia de la pobreza?\n",
    "Número de personas pobres expresado como porcentaje del total de la población en un determinado año. Se define como \"pobres\" a aquellas personas que pertenecen a hogares cuyo consumo per cápita, en un período determinado, es inferior al valor de la línea de pobreza.\n",
    "### ¿Qué es la brecha de la pobreza?\n",
    "La línea de pobreza es el equivalente monetario del costo de una canasta básica de bienes y servicios. La brecha de la pobreza refleja cuan pobres son los pobres y, por tanto, proporciona una idea de la profundidad de las carencias de ingreso o consumo que definen una situación de pobreza.\n",
    "### ¿Qué es la severidad de la pobreza?\n",
    "P es un promedio (sobre la población total, n) de las distancias que separan a individuos u hogares de la línea de pobreza, ponderado por un exponente . El valor del exponente permite que la misma fórmula dé como resultado la incidencia, brecha y severidad de la pobreza como casos especiales de la medida."
   ]
  },
  {
   "cell_type": "markdown",
   "metadata": {},
   "source": [
    "----------"
   ]
  },
  {
   "cell_type": "markdown",
   "metadata": {},
   "source": [
    " ## Trazado en Python\n",
    " \n",
    " - **Bokeh**: Es una biblioteca de visualización interactiva de Python con gráficos novedosos."
   ]
  },
  {
   "cell_type": "markdown",
   "metadata": {},
   "source": [
    "Al usar la interfaz bokeh.plotting, necesitamos importar:\n",
    "\n",
    " - Use la función de `figure` para crear nuevos objetos de trazado para trabajar.\n",
    " - Las funciones `output_file`, `output_notebook` para indicar a Bokeh cómo mostrar el resultado."
   ]
  },
  {
   "cell_type": "code",
   "execution_count": 14,
   "metadata": {},
   "outputs": [],
   "source": [
    "from bokeh.io import show\n",
    "from bokeh.plotting import figure"
   ]
  },
  {
   "cell_type": "markdown",
   "metadata": {},
   "source": [
    "Importamos `gridplot` - para presentar varias graficas en una"
   ]
  },
  {
   "cell_type": "code",
   "execution_count": 15,
   "metadata": {},
   "outputs": [],
   "source": [
    "from bokeh.layouts import gridplot"
   ]
  },
  {
   "cell_type": "markdown",
   "metadata": {},
   "source": [
    "En este caso, estamos en `jupyter notebook`, así que llamamos a `output_notebook()`. Solo debemos llamar esto una vez para mostrar nuestras graficas en el cuaderno usando la funcion `show()` de bokeh."
   ]
  },
  {
   "cell_type": "code",
   "execution_count": 16,
   "metadata": {},
   "outputs": [
    {
     "data": {
      "text/html": [
       "\n",
       "    <div class=\"bk-root\">\n",
       "        <a href=\"https://bokeh.pydata.org\" target=\"_blank\" class=\"bk-logo bk-logo-small bk-logo-notebook\"></a>\n",
       "        <span id=\"2ade148a-1df3-4a4a-8b3a-eec73ec85234\">Loading BokehJS ...</span>\n",
       "    </div>"
      ]
     },
     "metadata": {},
     "output_type": "display_data"
    },
    {
     "data": {
      "application/javascript": [
       "\n",
       "(function(root) {\n",
       "  function now() {\n",
       "    return new Date();\n",
       "  }\n",
       "\n",
       "  var force = true;\n",
       "\n",
       "  if (typeof (root._bokeh_onload_callbacks) === \"undefined\" || force === true) {\n",
       "    root._bokeh_onload_callbacks = [];\n",
       "    root._bokeh_is_loading = undefined;\n",
       "  }\n",
       "\n",
       "  var JS_MIME_TYPE = 'application/javascript';\n",
       "  var HTML_MIME_TYPE = 'text/html';\n",
       "  var EXEC_MIME_TYPE = 'application/vnd.bokehjs_exec.v0+json';\n",
       "  var CLASS_NAME = 'output_bokeh rendered_html';\n",
       "\n",
       "  /**\n",
       "   * Render data to the DOM node\n",
       "   */\n",
       "  function render(props, node) {\n",
       "    var script = document.createElement(\"script\");\n",
       "    node.appendChild(script);\n",
       "  }\n",
       "\n",
       "  /**\n",
       "   * Handle when an output is cleared or removed\n",
       "   */\n",
       "  function handleClearOutput(event, handle) {\n",
       "    var cell = handle.cell;\n",
       "\n",
       "    var id = cell.output_area._bokeh_element_id;\n",
       "    var server_id = cell.output_area._bokeh_server_id;\n",
       "    // Clean up Bokeh references\n",
       "    if (id !== undefined) {\n",
       "      Bokeh.index[id].model.document.clear();\n",
       "      delete Bokeh.index[id];\n",
       "    }\n",
       "\n",
       "    if (server_id !== undefined) {\n",
       "      // Clean up Bokeh references\n",
       "      var cmd = \"from bokeh.io.state import curstate; print(curstate().uuid_to_server['\" + server_id + \"'].get_sessions()[0].document.roots[0]._id)\";\n",
       "      cell.notebook.kernel.execute(cmd, {\n",
       "        iopub: {\n",
       "          output: function(msg) {\n",
       "            var element_id = msg.content.text.trim();\n",
       "            Bokeh.index[element_id].model.document.clear();\n",
       "            delete Bokeh.index[element_id];\n",
       "          }\n",
       "        }\n",
       "      });\n",
       "      // Destroy server and session\n",
       "      var cmd = \"import bokeh.io.notebook as ion; ion.destroy_server('\" + server_id + \"')\";\n",
       "      cell.notebook.kernel.execute(cmd);\n",
       "    }\n",
       "  }\n",
       "\n",
       "  /**\n",
       "   * Handle when a new output is added\n",
       "   */\n",
       "  function handleAddOutput(event, handle) {\n",
       "    var output_area = handle.output_area;\n",
       "    var output = handle.output;\n",
       "\n",
       "    // limit handleAddOutput to display_data with EXEC_MIME_TYPE content only\n",
       "    if ((output.output_type != \"display_data\") || (!output.data.hasOwnProperty(EXEC_MIME_TYPE))) {\n",
       "      return\n",
       "    }\n",
       "\n",
       "    var toinsert = output_area.element.find(`.${CLASS_NAME.split(' ')[0]}`);\n",
       "\n",
       "    if (output.metadata[EXEC_MIME_TYPE][\"id\"] !== undefined) {\n",
       "      toinsert[0].firstChild.textContent = output.data[JS_MIME_TYPE];\n",
       "      // store reference to embed id on output_area\n",
       "      output_area._bokeh_element_id = output.metadata[EXEC_MIME_TYPE][\"id\"];\n",
       "    }\n",
       "    if (output.metadata[EXEC_MIME_TYPE][\"server_id\"] !== undefined) {\n",
       "      var bk_div = document.createElement(\"div\");\n",
       "      bk_div.innerHTML = output.data[HTML_MIME_TYPE];\n",
       "      var script_attrs = bk_div.children[0].attributes;\n",
       "      for (var i = 0; i < script_attrs.length; i++) {\n",
       "        toinsert[0].firstChild.setAttribute(script_attrs[i].name, script_attrs[i].value);\n",
       "      }\n",
       "      // store reference to server id on output_area\n",
       "      output_area._bokeh_server_id = output.metadata[EXEC_MIME_TYPE][\"server_id\"];\n",
       "    }\n",
       "  }\n",
       "\n",
       "  function register_renderer(events, OutputArea) {\n",
       "\n",
       "    function append_mime(data, metadata, element) {\n",
       "      // create a DOM node to render to\n",
       "      var toinsert = this.create_output_subarea(\n",
       "        metadata,\n",
       "        CLASS_NAME,\n",
       "        EXEC_MIME_TYPE\n",
       "      );\n",
       "      this.keyboard_manager.register_events(toinsert);\n",
       "      // Render to node\n",
       "      var props = {data: data, metadata: metadata[EXEC_MIME_TYPE]};\n",
       "      render(props, toinsert[0]);\n",
       "      element.append(toinsert);\n",
       "      return toinsert\n",
       "    }\n",
       "\n",
       "    /* Handle when an output is cleared or removed */\n",
       "    events.on('clear_output.CodeCell', handleClearOutput);\n",
       "    events.on('delete.Cell', handleClearOutput);\n",
       "\n",
       "    /* Handle when a new output is added */\n",
       "    events.on('output_added.OutputArea', handleAddOutput);\n",
       "\n",
       "    /**\n",
       "     * Register the mime type and append_mime function with output_area\n",
       "     */\n",
       "    OutputArea.prototype.register_mime_type(EXEC_MIME_TYPE, append_mime, {\n",
       "      /* Is output safe? */\n",
       "      safe: true,\n",
       "      /* Index of renderer in `output_area.display_order` */\n",
       "      index: 0\n",
       "    });\n",
       "  }\n",
       "\n",
       "  // register the mime type if in Jupyter Notebook environment and previously unregistered\n",
       "  if (root.Jupyter !== undefined) {\n",
       "    var events = require('base/js/events');\n",
       "    var OutputArea = require('notebook/js/outputarea').OutputArea;\n",
       "\n",
       "    if (OutputArea.prototype.mime_types().indexOf(EXEC_MIME_TYPE) == -1) {\n",
       "      register_renderer(events, OutputArea);\n",
       "    }\n",
       "  }\n",
       "\n",
       "  \n",
       "  if (typeof (root._bokeh_timeout) === \"undefined\" || force === true) {\n",
       "    root._bokeh_timeout = Date.now() + 5000;\n",
       "    root._bokeh_failed_load = false;\n",
       "  }\n",
       "\n",
       "  var NB_LOAD_WARNING = {'data': {'text/html':\n",
       "     \"<div style='background-color: #fdd'>\\n\"+\n",
       "     \"<p>\\n\"+\n",
       "     \"BokehJS does not appear to have successfully loaded. If loading BokehJS from CDN, this \\n\"+\n",
       "     \"may be due to a slow or bad network connection. Possible fixes:\\n\"+\n",
       "     \"</p>\\n\"+\n",
       "     \"<ul>\\n\"+\n",
       "     \"<li>re-rerun `output_notebook()` to attempt to load from CDN again, or</li>\\n\"+\n",
       "     \"<li>use INLINE resources instead, as so:</li>\\n\"+\n",
       "     \"</ul>\\n\"+\n",
       "     \"<code>\\n\"+\n",
       "     \"from bokeh.resources import INLINE\\n\"+\n",
       "     \"output_notebook(resources=INLINE)\\n\"+\n",
       "     \"</code>\\n\"+\n",
       "     \"</div>\"}};\n",
       "\n",
       "  function display_loaded() {\n",
       "    var el = document.getElementById(\"2ade148a-1df3-4a4a-8b3a-eec73ec85234\");\n",
       "    if (el != null) {\n",
       "      el.textContent = \"BokehJS is loading...\";\n",
       "    }\n",
       "    if (root.Bokeh !== undefined) {\n",
       "      if (el != null) {\n",
       "        el.textContent = \"BokehJS \" + root.Bokeh.version + \" successfully loaded.\";\n",
       "      }\n",
       "    } else if (Date.now() < root._bokeh_timeout) {\n",
       "      setTimeout(display_loaded, 100)\n",
       "    }\n",
       "  }\n",
       "\n",
       "\n",
       "  function run_callbacks() {\n",
       "    try {\n",
       "      root._bokeh_onload_callbacks.forEach(function(callback) { callback() });\n",
       "    }\n",
       "    finally {\n",
       "      delete root._bokeh_onload_callbacks\n",
       "    }\n",
       "    console.info(\"Bokeh: all callbacks have finished\");\n",
       "  }\n",
       "\n",
       "  function load_libs(js_urls, callback) {\n",
       "    root._bokeh_onload_callbacks.push(callback);\n",
       "    if (root._bokeh_is_loading > 0) {\n",
       "      console.log(\"Bokeh: BokehJS is being loaded, scheduling callback at\", now());\n",
       "      return null;\n",
       "    }\n",
       "    if (js_urls == null || js_urls.length === 0) {\n",
       "      run_callbacks();\n",
       "      return null;\n",
       "    }\n",
       "    console.log(\"Bokeh: BokehJS not loaded, scheduling load and callback at\", now());\n",
       "    root._bokeh_is_loading = js_urls.length;\n",
       "    for (var i = 0; i < js_urls.length; i++) {\n",
       "      var url = js_urls[i];\n",
       "      var s = document.createElement('script');\n",
       "      s.src = url;\n",
       "      s.async = false;\n",
       "      s.onreadystatechange = s.onload = function() {\n",
       "        root._bokeh_is_loading--;\n",
       "        if (root._bokeh_is_loading === 0) {\n",
       "          console.log(\"Bokeh: all BokehJS libraries loaded\");\n",
       "          run_callbacks()\n",
       "        }\n",
       "      };\n",
       "      s.onerror = function() {\n",
       "        console.warn(\"failed to load library \" + url);\n",
       "      };\n",
       "      console.log(\"Bokeh: injecting script tag for BokehJS library: \", url);\n",
       "      document.getElementsByTagName(\"head\")[0].appendChild(s);\n",
       "    }\n",
       "  };var element = document.getElementById(\"2ade148a-1df3-4a4a-8b3a-eec73ec85234\");\n",
       "  if (element == null) {\n",
       "    console.log(\"Bokeh: ERROR: autoload.js configured with elementid '2ade148a-1df3-4a4a-8b3a-eec73ec85234' but no matching script tag was found. \")\n",
       "    return false;\n",
       "  }\n",
       "\n",
       "  var js_urls = [\"https://cdn.pydata.org/bokeh/release/bokeh-0.12.10.min.js\", \"https://cdn.pydata.org/bokeh/release/bokeh-widgets-0.12.10.min.js\", \"https://cdn.pydata.org/bokeh/release/bokeh-tables-0.12.10.min.js\", \"https://cdn.pydata.org/bokeh/release/bokeh-gl-0.12.10.min.js\"];\n",
       "\n",
       "  var inline_js = [\n",
       "    function(Bokeh) {\n",
       "      Bokeh.set_log_level(\"info\");\n",
       "    },\n",
       "    \n",
       "    function(Bokeh) {\n",
       "      \n",
       "    },\n",
       "    function(Bokeh) {\n",
       "      console.log(\"Bokeh: injecting CSS: https://cdn.pydata.org/bokeh/release/bokeh-0.12.10.min.css\");\n",
       "      Bokeh.embed.inject_css(\"https://cdn.pydata.org/bokeh/release/bokeh-0.12.10.min.css\");\n",
       "      console.log(\"Bokeh: injecting CSS: https://cdn.pydata.org/bokeh/release/bokeh-widgets-0.12.10.min.css\");\n",
       "      Bokeh.embed.inject_css(\"https://cdn.pydata.org/bokeh/release/bokeh-widgets-0.12.10.min.css\");\n",
       "      console.log(\"Bokeh: injecting CSS: https://cdn.pydata.org/bokeh/release/bokeh-tables-0.12.10.min.css\");\n",
       "      Bokeh.embed.inject_css(\"https://cdn.pydata.org/bokeh/release/bokeh-tables-0.12.10.min.css\");\n",
       "    }\n",
       "  ];\n",
       "\n",
       "  function run_inline_js() {\n",
       "    \n",
       "    if ((root.Bokeh !== undefined) || (force === true)) {\n",
       "      for (var i = 0; i < inline_js.length; i++) {\n",
       "        inline_js[i].call(root, root.Bokeh);\n",
       "      }if (force === true) {\n",
       "        display_loaded();\n",
       "      }} else if (Date.now() < root._bokeh_timeout) {\n",
       "      setTimeout(run_inline_js, 100);\n",
       "    } else if (!root._bokeh_failed_load) {\n",
       "      console.log(\"Bokeh: BokehJS failed to load within specified timeout.\");\n",
       "      root._bokeh_failed_load = true;\n",
       "    } else if (force !== true) {\n",
       "      var cell = $(document.getElementById(\"2ade148a-1df3-4a4a-8b3a-eec73ec85234\")).parents('.cell').data().cell;\n",
       "      cell.output_area.append_execute_result(NB_LOAD_WARNING)\n",
       "    }\n",
       "\n",
       "  }\n",
       "\n",
       "  if (root._bokeh_is_loading === 0) {\n",
       "    console.log(\"Bokeh: BokehJS loaded, going straight to plotting\");\n",
       "    run_inline_js();\n",
       "  } else {\n",
       "    load_libs(js_urls, function() {\n",
       "      console.log(\"Bokeh: BokehJS plotting callback run at\", now());\n",
       "      run_inline_js();\n",
       "    });\n",
       "  }\n",
       "}(window));"
      ],
      "application/vnd.bokehjs_load.v0+json": "\n(function(root) {\n  function now() {\n    return new Date();\n  }\n\n  var force = true;\n\n  if (typeof (root._bokeh_onload_callbacks) === \"undefined\" || force === true) {\n    root._bokeh_onload_callbacks = [];\n    root._bokeh_is_loading = undefined;\n  }\n\n  \n\n  \n  if (typeof (root._bokeh_timeout) === \"undefined\" || force === true) {\n    root._bokeh_timeout = Date.now() + 5000;\n    root._bokeh_failed_load = false;\n  }\n\n  var NB_LOAD_WARNING = {'data': {'text/html':\n     \"<div style='background-color: #fdd'>\\n\"+\n     \"<p>\\n\"+\n     \"BokehJS does not appear to have successfully loaded. If loading BokehJS from CDN, this \\n\"+\n     \"may be due to a slow or bad network connection. Possible fixes:\\n\"+\n     \"</p>\\n\"+\n     \"<ul>\\n\"+\n     \"<li>re-rerun `output_notebook()` to attempt to load from CDN again, or</li>\\n\"+\n     \"<li>use INLINE resources instead, as so:</li>\\n\"+\n     \"</ul>\\n\"+\n     \"<code>\\n\"+\n     \"from bokeh.resources import INLINE\\n\"+\n     \"output_notebook(resources=INLINE)\\n\"+\n     \"</code>\\n\"+\n     \"</div>\"}};\n\n  function display_loaded() {\n    var el = document.getElementById(\"2ade148a-1df3-4a4a-8b3a-eec73ec85234\");\n    if (el != null) {\n      el.textContent = \"BokehJS is loading...\";\n    }\n    if (root.Bokeh !== undefined) {\n      if (el != null) {\n        el.textContent = \"BokehJS \" + root.Bokeh.version + \" successfully loaded.\";\n      }\n    } else if (Date.now() < root._bokeh_timeout) {\n      setTimeout(display_loaded, 100)\n    }\n  }\n\n\n  function run_callbacks() {\n    try {\n      root._bokeh_onload_callbacks.forEach(function(callback) { callback() });\n    }\n    finally {\n      delete root._bokeh_onload_callbacks\n    }\n    console.info(\"Bokeh: all callbacks have finished\");\n  }\n\n  function load_libs(js_urls, callback) {\n    root._bokeh_onload_callbacks.push(callback);\n    if (root._bokeh_is_loading > 0) {\n      console.log(\"Bokeh: BokehJS is being loaded, scheduling callback at\", now());\n      return null;\n    }\n    if (js_urls == null || js_urls.length === 0) {\n      run_callbacks();\n      return null;\n    }\n    console.log(\"Bokeh: BokehJS not loaded, scheduling load and callback at\", now());\n    root._bokeh_is_loading = js_urls.length;\n    for (var i = 0; i < js_urls.length; i++) {\n      var url = js_urls[i];\n      var s = document.createElement('script');\n      s.src = url;\n      s.async = false;\n      s.onreadystatechange = s.onload = function() {\n        root._bokeh_is_loading--;\n        if (root._bokeh_is_loading === 0) {\n          console.log(\"Bokeh: all BokehJS libraries loaded\");\n          run_callbacks()\n        }\n      };\n      s.onerror = function() {\n        console.warn(\"failed to load library \" + url);\n      };\n      console.log(\"Bokeh: injecting script tag for BokehJS library: \", url);\n      document.getElementsByTagName(\"head\")[0].appendChild(s);\n    }\n  };var element = document.getElementById(\"2ade148a-1df3-4a4a-8b3a-eec73ec85234\");\n  if (element == null) {\n    console.log(\"Bokeh: ERROR: autoload.js configured with elementid '2ade148a-1df3-4a4a-8b3a-eec73ec85234' but no matching script tag was found. \")\n    return false;\n  }\n\n  var js_urls = [\"https://cdn.pydata.org/bokeh/release/bokeh-0.12.10.min.js\", \"https://cdn.pydata.org/bokeh/release/bokeh-widgets-0.12.10.min.js\", \"https://cdn.pydata.org/bokeh/release/bokeh-tables-0.12.10.min.js\", \"https://cdn.pydata.org/bokeh/release/bokeh-gl-0.12.10.min.js\"];\n\n  var inline_js = [\n    function(Bokeh) {\n      Bokeh.set_log_level(\"info\");\n    },\n    \n    function(Bokeh) {\n      \n    },\n    function(Bokeh) {\n      console.log(\"Bokeh: injecting CSS: https://cdn.pydata.org/bokeh/release/bokeh-0.12.10.min.css\");\n      Bokeh.embed.inject_css(\"https://cdn.pydata.org/bokeh/release/bokeh-0.12.10.min.css\");\n      console.log(\"Bokeh: injecting CSS: https://cdn.pydata.org/bokeh/release/bokeh-widgets-0.12.10.min.css\");\n      Bokeh.embed.inject_css(\"https://cdn.pydata.org/bokeh/release/bokeh-widgets-0.12.10.min.css\");\n      console.log(\"Bokeh: injecting CSS: https://cdn.pydata.org/bokeh/release/bokeh-tables-0.12.10.min.css\");\n      Bokeh.embed.inject_css(\"https://cdn.pydata.org/bokeh/release/bokeh-tables-0.12.10.min.css\");\n    }\n  ];\n\n  function run_inline_js() {\n    \n    if ((root.Bokeh !== undefined) || (force === true)) {\n      for (var i = 0; i < inline_js.length; i++) {\n        inline_js[i].call(root, root.Bokeh);\n      }if (force === true) {\n        display_loaded();\n      }} else if (Date.now() < root._bokeh_timeout) {\n      setTimeout(run_inline_js, 100);\n    } else if (!root._bokeh_failed_load) {\n      console.log(\"Bokeh: BokehJS failed to load within specified timeout.\");\n      root._bokeh_failed_load = true;\n    } else if (force !== true) {\n      var cell = $(document.getElementById(\"2ade148a-1df3-4a4a-8b3a-eec73ec85234\")).parents('.cell').data().cell;\n      cell.output_area.append_execute_result(NB_LOAD_WARNING)\n    }\n\n  }\n\n  if (root._bokeh_is_loading === 0) {\n    console.log(\"Bokeh: BokehJS loaded, going straight to plotting\");\n    run_inline_js();\n  } else {\n    load_libs(js_urls, function() {\n      console.log(\"Bokeh: BokehJS plotting callback run at\", now());\n      run_inline_js();\n    });\n  }\n}(window));"
     },
     "metadata": {},
     "output_type": "display_data"
    }
   ],
   "source": [
    "from bokeh.io import output_notebook\n",
    "output_notebook()"
   ]
  },
  {
   "cell_type": "markdown",
   "metadata": {},
   "source": [
    "## Grafico de Lineas"
   ]
  },
  {
   "cell_type": "markdown",
   "metadata": {},
   "source": [
    "Caracteristicas que tendra nuestra grafica"
   ]
  },
  {
   "cell_type": "code",
   "execution_count": 17,
   "metadata": {},
   "outputs": [],
   "source": [
    "graph_line = figure(\n",
    "    plot_height=400, # ancho\n",
    "    plot_width=900, # alto\n",
    "    title='POBREZA-QUITO', # titulo\n",
    "    tools='' # opciones de bokeh\n",
    ")"
   ]
  },
  {
   "cell_type": "markdown",
   "metadata": {},
   "source": [
    "Definimos los datos que representara cada \"Linea\", y otras opciones como color y leyenda"
   ]
  },
  {
   "cell_type": "code",
   "execution_count": 56,
   "metadata": {},
   "outputs": [
    {
     "data": {
      "text/html": [
       "<div style=\"display: table;\"><div style=\"display: table-row;\"><div style=\"display: table-cell;\"><b title=\"bokeh.models.renderers.GlyphRenderer\">GlyphRenderer</b>(</div><div style=\"display: table-cell;\">id&nbsp;=&nbsp;'52dd08d9-47d8-41a4-90c9-4a33dd783b03', <span id=\"8237b9c3-9157-4055-af72-7b0bc820962e\" style=\"cursor: pointer;\">&hellip;)</span></div></div><div class=\"06ed0332-21bf-458b-be58-3b1c79e78e70\" style=\"display: none;\"><div style=\"display: table-cell;\"></div><div style=\"display: table-cell;\">data_source&nbsp;=&nbsp;ColumnDataSource(id='a9754301-770d-49f8-afb1-f89527ac6536', ...),</div></div><div class=\"06ed0332-21bf-458b-be58-3b1c79e78e70\" style=\"display: none;\"><div style=\"display: table-cell;\"></div><div style=\"display: table-cell;\">glyph&nbsp;=&nbsp;Line(id='aeab1c6d-33b5-4c8d-a241-7884ca31dd71', ...),</div></div><div class=\"06ed0332-21bf-458b-be58-3b1c79e78e70\" style=\"display: none;\"><div style=\"display: table-cell;\"></div><div style=\"display: table-cell;\">hover_glyph&nbsp;=&nbsp;None,</div></div><div class=\"06ed0332-21bf-458b-be58-3b1c79e78e70\" style=\"display: none;\"><div style=\"display: table-cell;\"></div><div style=\"display: table-cell;\">js_event_callbacks&nbsp;=&nbsp;{},</div></div><div class=\"06ed0332-21bf-458b-be58-3b1c79e78e70\" style=\"display: none;\"><div style=\"display: table-cell;\"></div><div style=\"display: table-cell;\">js_property_callbacks&nbsp;=&nbsp;{},</div></div><div class=\"06ed0332-21bf-458b-be58-3b1c79e78e70\" style=\"display: none;\"><div style=\"display: table-cell;\"></div><div style=\"display: table-cell;\">level&nbsp;=&nbsp;'glyph',</div></div><div class=\"06ed0332-21bf-458b-be58-3b1c79e78e70\" style=\"display: none;\"><div style=\"display: table-cell;\"></div><div style=\"display: table-cell;\">muted&nbsp;=&nbsp;False,</div></div><div class=\"06ed0332-21bf-458b-be58-3b1c79e78e70\" style=\"display: none;\"><div style=\"display: table-cell;\"></div><div style=\"display: table-cell;\">muted_glyph&nbsp;=&nbsp;None,</div></div><div class=\"06ed0332-21bf-458b-be58-3b1c79e78e70\" style=\"display: none;\"><div style=\"display: table-cell;\"></div><div style=\"display: table-cell;\">name&nbsp;=&nbsp;None,</div></div><div class=\"06ed0332-21bf-458b-be58-3b1c79e78e70\" style=\"display: none;\"><div style=\"display: table-cell;\"></div><div style=\"display: table-cell;\">nonselection_glyph&nbsp;=&nbsp;Line(id='9d04338a-7f4e-46f5-bb9f-2faa23e15e8a', ...),</div></div><div class=\"06ed0332-21bf-458b-be58-3b1c79e78e70\" style=\"display: none;\"><div style=\"display: table-cell;\"></div><div style=\"display: table-cell;\">selection_glyph&nbsp;=&nbsp;None,</div></div><div class=\"06ed0332-21bf-458b-be58-3b1c79e78e70\" style=\"display: none;\"><div style=\"display: table-cell;\"></div><div style=\"display: table-cell;\">subscribed_events&nbsp;=&nbsp;[],</div></div><div class=\"06ed0332-21bf-458b-be58-3b1c79e78e70\" style=\"display: none;\"><div style=\"display: table-cell;\"></div><div style=\"display: table-cell;\">tags&nbsp;=&nbsp;[],</div></div><div class=\"06ed0332-21bf-458b-be58-3b1c79e78e70\" style=\"display: none;\"><div style=\"display: table-cell;\"></div><div style=\"display: table-cell;\">view&nbsp;=&nbsp;CDSView(id='e37866e6-fc8f-4938-8702-dda5f64310d9', ...),</div></div><div class=\"06ed0332-21bf-458b-be58-3b1c79e78e70\" style=\"display: none;\"><div style=\"display: table-cell;\"></div><div style=\"display: table-cell;\">visible&nbsp;=&nbsp;True,</div></div><div class=\"06ed0332-21bf-458b-be58-3b1c79e78e70\" style=\"display: none;\"><div style=\"display: table-cell;\"></div><div style=\"display: table-cell;\">x_range_name&nbsp;=&nbsp;'default',</div></div><div class=\"06ed0332-21bf-458b-be58-3b1c79e78e70\" style=\"display: none;\"><div style=\"display: table-cell;\"></div><div style=\"display: table-cell;\">y_range_name&nbsp;=&nbsp;'default')</div></div></div>\n",
       "<script>\n",
       "(function() {\n",
       "  var expanded = false;\n",
       "  var ellipsis = document.getElementById(\"8237b9c3-9157-4055-af72-7b0bc820962e\");\n",
       "  ellipsis.addEventListener(\"click\", function() {\n",
       "    var rows = document.getElementsByClassName(\"06ed0332-21bf-458b-be58-3b1c79e78e70\");\n",
       "    for (var i = 0; i < rows.length; i++) {\n",
       "      var el = rows[i];\n",
       "      el.style.display = expanded ? \"none\" : \"table-row\";\n",
       "    }\n",
       "    ellipsis.innerHTML = expanded ? \"&hellip;)\" : \"&lsaquo;&lsaquo;&lsaquo;\";\n",
       "    expanded = !expanded;\n",
       "  });\n",
       "})();\n",
       "</script>\n"
      ],
      "text/plain": [
       "GlyphRenderer(id='52dd08d9-47d8-41a4-90c9-4a33dd783b03', ...)"
      ]
     },
     "execution_count": 56,
     "metadata": {},
     "output_type": "execute_result"
    }
   ],
   "source": [
    "graph_line.line(\n",
    "    x=data.Anios, # datos en x\n",
    "    y=data.Incidencia, # datos en y\n",
    "    color='#f4d341', # color de las lineas\n",
    "    legend='Incidencia', # leyendad que representa nuestra grafica\n",
    "    line_width=5\n",
    ")\n",
    "graph_line.line(x=data.Anios, y=data.Brecha, color='#42f4bf', legend='Brecha',line_width=5)\n",
    "graph_line.line(x=data.Anios, y=data.Severidad, color='#f44171', legend='Severidad',line_width=5)"
   ]
  },
  {
   "cell_type": "markdown",
   "metadata": {},
   "source": [
    "Para no mostramos los trasados del plano y presentamos nuestra grafica"
   ]
  },
  {
   "cell_type": "code",
   "execution_count": 57,
   "metadata": {},
   "outputs": [
    {
     "data": {
      "text/html": [
       "\n",
       "<div class=\"bk-root\">\n",
       "    <div class=\"bk-plotdiv\" id=\"b3125102-73f3-400d-87dc-cbdc36752b2d\"></div>\n",
       "</div>"
      ]
     },
     "metadata": {},
     "output_type": "display_data"
    },
    {
     "data": {
      "application/javascript": [
       "(function(root) {\n",
       "  function embed_document(root) {\n",
       "    var docs_json = {\"17b4b90f-c87c-4b98-b64f-5932c77fbf79\":{\"roots\":{\"references\":[{\"attributes\":{\"line_alpha\":{\"value\":0.1},\"line_color\":{\"value\":\"#1f77b4\"},\"x\":{\"field\":\"x\"},\"y\":{\"field\":\"y\"}},\"id\":\"88eb9ed3-fd54-4d47-a7b9-3deee9e73efa\",\"type\":\"Line\"},{\"attributes\":{\"callback\":null,\"column_names\":[\"x\",\"y\"],\"data\":{\"x\":{\"__ndarray__\":\"AAAAAABgn0AAAAAAAGSfQAAAAAAAaJ9AAAAAAABsn0AAAAAAAHCfQAAAAAAAdJ9AAAAAAAB4n0AAAAAAAHyfQAAAAAAAgJ9AAAAAAACEn0A=\",\"dtype\":\"float64\",\"shape\":[10]},\"y\":{\"__ndarray__\":\"j8L1KFyPCkCuR+F6FK4NQFyPwvUoXBFAuB6F61G4CkBSuB6F61EKQNejcD0K1wtAPQrXo3A9BkC4HoXrUbgEQArXo3A9CgVAMzMzMzMzA0A=\",\"dtype\":\"float64\",\"shape\":[10]}}},\"id\":\"a5caeb7e-225a-4613-a2d3-e4d2b305bc6b\",\"type\":\"ColumnDataSource\"},{\"attributes\":{\"callback\":null,\"column_names\":[\"x\",\"y\"],\"data\":{\"x\":{\"__ndarray__\":\"AAAAAABgn0AAAAAAAGSfQAAAAAAAaJ9AAAAAAABsn0AAAAAAAHCfQAAAAAAAdJ9AAAAAAAB4n0AAAAAAAHyfQAAAAAAAgJ9AAAAAAACEn0A=\",\"dtype\":\"float64\",\"shape\":[10]},\"y\":{\"__ndarray__\":\"j8L1KFyPCkCuR+F6FK4NQFyPwvUoXBFAuB6F61G4CkBSuB6F61EKQNejcD0K1wtAPQrXo3A9BkC4HoXrUbgEQArXo3A9CgVAMzMzMzMzA0A=\",\"dtype\":\"float64\",\"shape\":[10]}}},\"id\":\"2006c4b4-3861-4883-a3ee-30039dad2984\",\"type\":\"ColumnDataSource\"},{\"attributes\":{\"source\":{\"id\":\"1c46c37c-e262-4a95-85ce-bf3ef62cef47\",\"type\":\"ColumnDataSource\"}},\"id\":\"7959f29c-bdbf-4d4d-9976-3f84733bfac9\",\"type\":\"CDSView\"},{\"attributes\":{\"data_source\":{\"id\":\"6f7a150a-3eed-4a6c-9e83-2152556e4901\",\"type\":\"ColumnDataSource\"},\"glyph\":{\"id\":\"49f7e148-bc96-442a-af2b-f61820a8bdce\",\"type\":\"Line\"},\"hover_glyph\":null,\"muted_glyph\":null,\"nonselection_glyph\":{\"id\":\"2a1b0f09-3729-4f7b-8190-8df90571f2b9\",\"type\":\"Line\"},\"selection_glyph\":null,\"view\":{\"id\":\"d6f628b3-496a-4bf9-bfad-2958f5cb1c16\",\"type\":\"CDSView\"}},\"id\":\"c72cfadd-f121-43bd-9d01-a1980ac651d9\",\"type\":\"GlyphRenderer\"},{\"attributes\":{},\"id\":\"f6428aa0-d552-4c70-973e-aadc0d7e7c64\",\"type\":\"BasicTickFormatter\"},{\"attributes\":{\"line_color\":{\"value\":\"#42f4bf\"},\"x\":{\"field\":\"x\"},\"y\":{\"field\":\"y\"}},\"id\":\"6fb36af7-38af-4c89-9a6d-0afa5e61b5d1\",\"type\":\"Line\"},{\"attributes\":{\"callback\":null,\"column_names\":[\"x\",\"y\"],\"data\":{\"x\":{\"__ndarray__\":\"AAAAAABgn0AAAAAAAGSfQAAAAAAAaJ9AAAAAAABsn0AAAAAAAHCfQAAAAAAAdJ9AAAAAAAB4n0AAAAAAAHyfQAAAAAAAgJ9AAAAAAACEn0A=\",\"dtype\":\"float64\",\"shape\":[10]},\"y\":{\"__ndarray__\":\"KVyPwvUo/D+F61G4HoX/P3sUrkfhegJA9ihcj8L1/D9xPQrXo3D5P/YoXI/C9fg/PQrXo3A99j/NzMzMzMz0P3E9CtejcPU/rkfhehSu8z8=\",\"dtype\":\"float64\",\"shape\":[10]}}},\"id\":\"27d5546d-14ce-4fbb-b502-81b2b2342c8a\",\"type\":\"ColumnDataSource\"},{\"attributes\":{\"line_alpha\":{\"value\":0.1},\"line_color\":{\"value\":\"#1f77b4\"},\"x\":{\"field\":\"x\"},\"y\":{\"field\":\"y\"}},\"id\":\"2a1b0f09-3729-4f7b-8190-8df90571f2b9\",\"type\":\"Line\"},{\"attributes\":{\"callback\":null,\"column_names\":[\"x\",\"y\"],\"data\":{\"x\":{\"__ndarray__\":\"AAAAAABgn0AAAAAAAGSfQAAAAAAAaJ9AAAAAAABsn0AAAAAAAHCfQAAAAAAAdJ9AAAAAAAB4n0AAAAAAAHyfQAAAAAAAgJ9AAAAAAACEn0A=\",\"dtype\":\"float64\",\"shape\":[10]},\"y\":{\"__ndarray__\":\"ZmZmZmbmJEBSuB6F61EmQIXrUbgeBSpAKVyPwvWoJEBxPQrXo/AhQDMzMzMzsyVA16NwPQrXIUB7FK5H4XofQOxRuB6F6x9AZmZmZmZmHUA=\",\"dtype\":\"float64\",\"shape\":[10]}}},\"id\":\"6f7a150a-3eed-4a6c-9e83-2152556e4901\",\"type\":\"ColumnDataSource\"},{\"attributes\":{\"line_alpha\":{\"value\":0.1},\"line_color\":{\"value\":\"#1f77b4\"},\"x\":{\"field\":\"x\"},\"y\":{\"field\":\"y\"}},\"id\":\"5486d345-f917-46e2-8f94-089bfab9d122\",\"type\":\"Line\"},{\"attributes\":{\"callback\":null,\"column_names\":[\"x\",\"y\"],\"data\":{\"x\":{\"__ndarray__\":\"AAAAAABgn0AAAAAAAGSfQAAAAAAAaJ9AAAAAAABsn0AAAAAAAHCfQAAAAAAAdJ9AAAAAAAB4n0AAAAAAAHyfQAAAAAAAgJ9AAAAAAACEn0A=\",\"dtype\":\"float64\",\"shape\":[10]},\"y\":{\"__ndarray__\":\"KVyPwvUo/D+F61G4HoX/P3sUrkfhegJA9ihcj8L1/D9xPQrXo3D5P/YoXI/C9fg/PQrXo3A99j/NzMzMzMz0P3E9CtejcPU/rkfhehSu8z8=\",\"dtype\":\"float64\",\"shape\":[10]}}},\"id\":\"4478b29e-1e47-402a-9059-d3df05fd22cd\",\"type\":\"ColumnDataSource\"},{\"attributes\":{\"data_source\":{\"id\":\"2006c4b4-3861-4883-a3ee-30039dad2984\",\"type\":\"ColumnDataSource\"},\"glyph\":{\"id\":\"e9dbe6a8-fd61-4118-b64c-8f9c88be087e\",\"type\":\"Line\"},\"hover_glyph\":null,\"muted_glyph\":null,\"nonselection_glyph\":{\"id\":\"9b0d355b-2608-40b9-a058-fbbe8fa6deeb\",\"type\":\"Line\"},\"selection_glyph\":null,\"view\":{\"id\":\"5347fa7e-c8c0-41f2-b51d-e7ca9de8f592\",\"type\":\"CDSView\"}},\"id\":\"adbee7fa-f4ba-422f-a6d2-6fbde6f8c224\",\"type\":\"GlyphRenderer\"},{\"attributes\":{\"line_alpha\":{\"value\":2},\"line_color\":{\"value\":\"#f4d341\"},\"x\":{\"field\":\"x\"},\"y\":{\"field\":\"y\"}},\"id\":\"49f7e148-bc96-442a-af2b-f61820a8bdce\",\"type\":\"Line\"},{\"attributes\":{\"line_color\":{\"value\":\"#f4d341\"},\"line_width\":{\"value\":5},\"x\":{\"field\":\"x\"},\"y\":{\"field\":\"y\"}},\"id\":\"93395c59-4312-43a2-a6a7-3feade3d4d78\",\"type\":\"Line\"},{\"attributes\":{\"line_color\":{\"value\":\"#f44171\"},\"x\":{\"field\":\"x\"},\"y\":{\"field\":\"y\"}},\"id\":\"c5000b11-ad71-4927-8bb0-22d800a5e343\",\"type\":\"Line\"},{\"attributes\":{\"callback\":null,\"column_names\":[\"x\",\"y\"],\"data\":{\"x\":{\"__ndarray__\":\"AAAAAABgn0AAAAAAAGSfQAAAAAAAaJ9AAAAAAABsn0AAAAAAAHCfQAAAAAAAdJ9AAAAAAAB4n0AAAAAAAHyfQAAAAAAAgJ9AAAAAAACEn0A=\",\"dtype\":\"float64\",\"shape\":[10]},\"y\":{\"__ndarray__\":\"ZmZmZmbmJEBSuB6F61EmQIXrUbgeBSpAKVyPwvWoJEBxPQrXo/AhQDMzMzMzsyVA16NwPQrXIUB7FK5H4XofQOxRuB6F6x9AZmZmZmZmHUA=\",\"dtype\":\"float64\",\"shape\":[10]}}},\"id\":\"d82b7d2d-8967-4698-91d8-d218137c83eb\",\"type\":\"ColumnDataSource\"},{\"attributes\":{\"callback\":null,\"column_names\":[\"x\",\"y\"],\"data\":{\"x\":{\"__ndarray__\":\"AAAAAABgn0AAAAAAAGSfQAAAAAAAaJ9AAAAAAABsn0AAAAAAAHCfQAAAAAAAdJ9AAAAAAAB4n0AAAAAAAHyfQAAAAAAAgJ9AAAAAAACEn0A=\",\"dtype\":\"float64\",\"shape\":[10]},\"y\":{\"__ndarray__\":\"ZmZmZmbmJEBSuB6F61EmQIXrUbgeBSpAKVyPwvWoJEBxPQrXo/AhQDMzMzMzsyVA16NwPQrXIUB7FK5H4XofQOxRuB6F6x9AZmZmZmZmHUA=\",\"dtype\":\"float64\",\"shape\":[10]}}},\"id\":\"8c459eb9-4078-488c-9b63-9214d62d57ae\",\"type\":\"ColumnDataSource\"},{\"attributes\":{\"source\":{\"id\":\"5593869b-74c3-4efe-8fb8-2c02c467851c\",\"type\":\"ColumnDataSource\"}},\"id\":\"bd023743-b97c-4c46-8835-db1eb9b7d8dd\",\"type\":\"CDSView\"},{\"attributes\":{\"data_source\":{\"id\":\"317a2308-41ae-46b7-850e-063ef99f56bd\",\"type\":\"ColumnDataSource\"},\"glyph\":{\"id\":\"9ece146a-c9a2-474f-873f-568020b8df0c\",\"type\":\"Line\"},\"hover_glyph\":null,\"muted_glyph\":null,\"nonselection_glyph\":{\"id\":\"cb60caf0-2802-4f9d-bd84-67fde5f11562\",\"type\":\"Line\"},\"selection_glyph\":null,\"view\":{\"id\":\"1b816437-1358-460f-849a-d0e2c847a89c\",\"type\":\"CDSView\"}},\"id\":\"6fb72a79-5a6f-44c3-b223-763da0f58cb5\",\"type\":\"GlyphRenderer\"},{\"attributes\":{\"data_source\":{\"id\":\"a5caeb7e-225a-4613-a2d3-e4d2b305bc6b\",\"type\":\"ColumnDataSource\"},\"glyph\":{\"id\":\"6fb36af7-38af-4c89-9a6d-0afa5e61b5d1\",\"type\":\"Line\"},\"hover_glyph\":null,\"muted_glyph\":null,\"nonselection_glyph\":{\"id\":\"af1d3e54-4a30-44c8-80d9-36dd3fba99a5\",\"type\":\"Line\"},\"selection_glyph\":null,\"view\":{\"id\":\"8c8a2560-cdf8-462c-9786-5a69c93222af\",\"type\":\"CDSView\"}},\"id\":\"bdf727a4-d336-4610-884a-7b0fc3e4d58e\",\"type\":\"GlyphRenderer\"},{\"attributes\":{\"source\":{\"id\":\"27d5546d-14ce-4fbb-b502-81b2b2342c8a\",\"type\":\"ColumnDataSource\"}},\"id\":\"38dd8135-657b-49c8-8ca3-cbf825c40950\",\"type\":\"CDSView\"},{\"attributes\":{\"source\":{\"id\":\"8c459eb9-4078-488c-9b63-9214d62d57ae\",\"type\":\"ColumnDataSource\"}},\"id\":\"4fa77c41-2d7b-4b05-ab92-8c132bedc66e\",\"type\":\"CDSView\"},{\"attributes\":{\"source\":{\"id\":\"317a2308-41ae-46b7-850e-063ef99f56bd\",\"type\":\"ColumnDataSource\"}},\"id\":\"1b816437-1358-460f-849a-d0e2c847a89c\",\"type\":\"CDSView\"},{\"attributes\":{\"line_color\":{\"value\":\"#42f4bf\"},\"x\":{\"field\":\"x\"},\"y\":{\"field\":\"y\"}},\"id\":\"05e433ef-57c9-402a-aa90-ae6ee178ea68\",\"type\":\"Line\"},{\"attributes\":{\"line_alpha\":{\"value\":0.1},\"line_color\":{\"value\":\"#1f77b4\"},\"line_width\":{\"value\":5},\"x\":{\"field\":\"x\"},\"y\":{\"field\":\"y\"}},\"id\":\"b8e0523d-5dc6-4476-8860-317e9dbbedae\",\"type\":\"Line\"},{\"attributes\":{\"callback\":null,\"column_names\":[\"x\",\"y\"],\"data\":{\"x\":{\"__ndarray__\":\"AAAAAABgn0AAAAAAAGSfQAAAAAAAaJ9AAAAAAABsn0AAAAAAAHCfQAAAAAAAdJ9AAAAAAAB4n0AAAAAAAHyfQAAAAAAAgJ9AAAAAAACEn0A=\",\"dtype\":\"float64\",\"shape\":[10]},\"y\":{\"__ndarray__\":\"j8L1KFyPCkCuR+F6FK4NQFyPwvUoXBFAuB6F61G4CkBSuB6F61EKQNejcD0K1wtAPQrXo3A9BkC4HoXrUbgEQArXo3A9CgVAMzMzMzMzA0A=\",\"dtype\":\"float64\",\"shape\":[10]}}},\"id\":\"317a2308-41ae-46b7-850e-063ef99f56bd\",\"type\":\"ColumnDataSource\"},{\"attributes\":{\"line_color\":{\"value\":\"#42f4bf\"},\"line_width\":{\"value\":5},\"x\":{\"field\":\"x\"},\"y\":{\"field\":\"y\"}},\"id\":\"9ece146a-c9a2-474f-873f-568020b8df0c\",\"type\":\"Line\"},{\"attributes\":{\"data_source\":{\"id\":\"f8a22f6c-52aa-46d8-b6cd-5c8b43a5cd91\",\"type\":\"ColumnDataSource\"},\"glyph\":{\"id\":\"c5000b11-ad71-4927-8bb0-22d800a5e343\",\"type\":\"Line\"},\"hover_glyph\":null,\"muted_glyph\":null,\"nonselection_glyph\":{\"id\":\"88eb9ed3-fd54-4d47-a7b9-3deee9e73efa\",\"type\":\"Line\"},\"selection_glyph\":null,\"view\":{\"id\":\"4e7506da-f776-49be-b374-2d101aa50aa9\",\"type\":\"CDSView\"}},\"id\":\"f739bd94-be0b-4599-b6b6-bff61c42fe16\",\"type\":\"GlyphRenderer\"},{\"attributes\":{\"line_alpha\":{\"value\":0.1},\"line_color\":{\"value\":\"#1f77b4\"},\"x\":{\"field\":\"x\"},\"y\":{\"field\":\"y\"}},\"id\":\"3a2701c7-ea1a-4b74-8893-08f42181cc28\",\"type\":\"Line\"},{\"attributes\":{\"callback\":null,\"column_names\":[\"x\",\"y\"],\"data\":{\"x\":{\"__ndarray__\":\"AAAAAABgn0AAAAAAAGSfQAAAAAAAaJ9AAAAAAABsn0AAAAAAAHCfQAAAAAAAdJ9AAAAAAAB4n0AAAAAAAHyfQAAAAAAAgJ9AAAAAAACEn0A=\",\"dtype\":\"float64\",\"shape\":[10]},\"y\":{\"__ndarray__\":\"j8L1KFyPCkCuR+F6FK4NQFyPwvUoXBFAuB6F61G4CkBSuB6F61EKQNejcD0K1wtAPQrXo3A9BkC4HoXrUbgEQArXo3A9CgVAMzMzMzMzA0A=\",\"dtype\":\"float64\",\"shape\":[10]}}},\"id\":\"87824058-5f4c-4b12-bbb1-ebe261f6f062\",\"type\":\"ColumnDataSource\"},{\"attributes\":{\"callback\":null,\"column_names\":[\"x\",\"y\"],\"data\":{\"x\":{\"__ndarray__\":\"AAAAAABgn0AAAAAAAGSfQAAAAAAAaJ9AAAAAAABsn0AAAAAAAHCfQAAAAAAAdJ9AAAAAAAB4n0AAAAAAAHyfQAAAAAAAgJ9AAAAAAACEn0A=\",\"dtype\":\"float64\",\"shape\":[10]},\"y\":{\"__ndarray__\":\"j8L1KFyPCkCuR+F6FK4NQFyPwvUoXBFAuB6F61G4CkBSuB6F61EKQNejcD0K1wtAPQrXo3A9BkC4HoXrUbgEQArXo3A9CgVAMzMzMzMzA0A=\",\"dtype\":\"float64\",\"shape\":[10]}}},\"id\":\"5593869b-74c3-4efe-8fb8-2c02c467851c\",\"type\":\"ColumnDataSource\"},{\"attributes\":{\"data_source\":{\"id\":\"27d5546d-14ce-4fbb-b502-81b2b2342c8a\",\"type\":\"ColumnDataSource\"},\"glyph\":{\"id\":\"3b4e94ec-aba3-477d-ab2b-ade344c3fb23\",\"type\":\"Line\"},\"hover_glyph\":null,\"muted_glyph\":null,\"nonselection_glyph\":{\"id\":\"5486d345-f917-46e2-8f94-089bfab9d122\",\"type\":\"Line\"},\"selection_glyph\":null,\"view\":{\"id\":\"38dd8135-657b-49c8-8ca3-cbf825c40950\",\"type\":\"CDSView\"}},\"id\":\"394f4bac-34dd-4765-bb99-02cb44e2d716\",\"type\":\"GlyphRenderer\"},{\"attributes\":{\"source\":{\"id\":\"87824058-5f4c-4b12-bbb1-ebe261f6f062\",\"type\":\"ColumnDataSource\"}},\"id\":\"168b35ac-63be-4920-acd5-0897762bcf92\",\"type\":\"CDSView\"},{\"attributes\":{\"line_alpha\":{\"value\":0.1},\"line_color\":{\"value\":\"#1f77b4\"},\"x\":{\"field\":\"x\"},\"y\":{\"field\":\"y\"}},\"id\":\"10099c03-420c-404f-832d-a62cd94a3502\",\"type\":\"Line\"},{\"attributes\":{\"data_source\":{\"id\":\"87824058-5f4c-4b12-bbb1-ebe261f6f062\",\"type\":\"ColumnDataSource\"},\"glyph\":{\"id\":\"3e65cc41-a732-40a0-9849-fceef61325bc\",\"type\":\"Line\"},\"hover_glyph\":null,\"muted_glyph\":null,\"nonselection_glyph\":{\"id\":\"bfa01a97-baed-45a9-9f23-a67094aacd8e\",\"type\":\"Line\"},\"selection_glyph\":null,\"view\":{\"id\":\"168b35ac-63be-4920-acd5-0897762bcf92\",\"type\":\"CDSView\"}},\"id\":\"1bd09f07-72f1-4bf0-95c1-8b0422e12fc5\",\"type\":\"GlyphRenderer\"},{\"attributes\":{\"line_alpha\":{\"value\":0.1},\"line_color\":{\"value\":\"#1f77b4\"},\"x\":{\"field\":\"x\"},\"y\":{\"field\":\"y\"}},\"id\":\"bfa01a97-baed-45a9-9f23-a67094aacd8e\",\"type\":\"Line\"},{\"attributes\":{\"line_color\":{\"value\":\"#f44171\"},\"x\":{\"field\":\"x\"},\"y\":{\"field\":\"y\"}},\"id\":\"a6c7a7b1-835b-4a90-9aae-b65ba7d7d806\",\"type\":\"Line\"},{\"attributes\":{\"line_alpha\":{\"value\":0.1},\"line_color\":{\"value\":\"#1f77b4\"},\"line_width\":{\"value\":5},\"x\":{\"field\":\"x\"},\"y\":{\"field\":\"y\"}},\"id\":\"cb60caf0-2802-4f9d-bd84-67fde5f11562\",\"type\":\"Line\"},{\"attributes\":{\"callback\":null,\"column_names\":[\"x\",\"y\"],\"data\":{\"x\":{\"__ndarray__\":\"AAAAAABgn0AAAAAAAGSfQAAAAAAAaJ9AAAAAAABsn0AAAAAAAHCfQAAAAAAAdJ9AAAAAAAB4n0AAAAAAAHyfQAAAAAAAgJ9AAAAAAACEn0A=\",\"dtype\":\"float64\",\"shape\":[10]},\"y\":{\"__ndarray__\":\"ZmZmZmbmJEBSuB6F61EmQIXrUbgeBSpAKVyPwvWoJEBxPQrXo/AhQDMzMzMzsyVA16NwPQrXIUB7FK5H4XofQOxRuB6F6x9AZmZmZmZmHUA=\",\"dtype\":\"float64\",\"shape\":[10]}}},\"id\":\"0abf2355-127c-4614-912d-2a681aea0a51\",\"type\":\"ColumnDataSource\"},{\"attributes\":{\"data_source\":{\"id\":\"d82b7d2d-8967-4698-91d8-d218137c83eb\",\"type\":\"ColumnDataSource\"},\"glyph\":{\"id\":\"93395c59-4312-43a2-a6a7-3feade3d4d78\",\"type\":\"Line\"},\"hover_glyph\":null,\"muted_glyph\":null,\"nonselection_glyph\":{\"id\":\"b8e0523d-5dc6-4476-8860-317e9dbbedae\",\"type\":\"Line\"},\"selection_glyph\":null,\"view\":{\"id\":\"829b4951-fb28-418c-a634-6b678ec3f35c\",\"type\":\"CDSView\"}},\"id\":\"dbb51fe1-01f1-458a-afde-25de9757c278\",\"type\":\"GlyphRenderer\"},{\"attributes\":{},\"id\":\"6101ddff-7719-4b6e-8106-ccba1f561aed\",\"type\":\"BasicTickFormatter\"},{\"attributes\":{\"line_color\":{\"value\":\"#42f4bf\"},\"x\":{\"field\":\"x\"},\"y\":{\"field\":\"y\"}},\"id\":\"3e65cc41-a732-40a0-9849-fceef61325bc\",\"type\":\"Line\"},{\"attributes\":{\"source\":{\"id\":\"cfb63edc-e9f7-4156-bf20-6980f9889524\",\"type\":\"ColumnDataSource\"}},\"id\":\"fe0fef3f-c50f-4d65-907a-a153e08c0fa0\",\"type\":\"CDSView\"},{\"attributes\":{\"callback\":null,\"column_names\":[\"x\",\"y\"],\"data\":{\"x\":{\"__ndarray__\":\"AAAAAABgn0AAAAAAAGSfQAAAAAAAaJ9AAAAAAABsn0AAAAAAAHCfQAAAAAAAdJ9AAAAAAAB4n0AAAAAAAHyfQAAAAAAAgJ9AAAAAAACEn0A=\",\"dtype\":\"float64\",\"shape\":[10]},\"y\":{\"__ndarray__\":\"KVyPwvUo/D+F61G4HoX/P3sUrkfhegJA9ihcj8L1/D9xPQrXo3D5P/YoXI/C9fg/PQrXo3A99j/NzMzMzMz0P3E9CtejcPU/rkfhehSu8z8=\",\"dtype\":\"float64\",\"shape\":[10]}}},\"id\":\"5d6e4b0c-0ba9-44a0-8eb6-18f02b681dc7\",\"type\":\"ColumnDataSource\"},{\"attributes\":{\"label\":{\"value\":\"Brecha\"},\"renderers\":[{\"id\":\"1bd09f07-72f1-4bf0-95c1-8b0422e12fc5\",\"type\":\"GlyphRenderer\"},{\"id\":\"4e3d4c7e-6914-4b7e-90b6-47e39479fa81\",\"type\":\"GlyphRenderer\"},{\"id\":\"bdf727a4-d336-4610-884a-7b0fc3e4d58e\",\"type\":\"GlyphRenderer\"},{\"id\":\"adbee7fa-f4ba-422f-a6d2-6fbde6f8c224\",\"type\":\"GlyphRenderer\"},{\"id\":\"df0d1c4b-d0be-4d2c-b84d-fc95b59186d5\",\"type\":\"GlyphRenderer\"},{\"id\":\"6fb72a79-5a6f-44c3-b223-763da0f58cb5\",\"type\":\"GlyphRenderer\"}]},\"id\":\"beb04e7b-6269-4b6b-8406-bbd76327fb8b\",\"type\":\"LegendItem\"},{\"attributes\":{\"callback\":null,\"column_names\":[\"x\",\"y\"],\"data\":{\"x\":{\"__ndarray__\":\"AAAAAABgn0AAAAAAAGSfQAAAAAAAaJ9AAAAAAABsn0AAAAAAAHCfQAAAAAAAdJ9AAAAAAAB4n0AAAAAAAHyfQAAAAAAAgJ9AAAAAAACEn0A=\",\"dtype\":\"float64\",\"shape\":[10]},\"y\":{\"__ndarray__\":\"KVyPwvUo/D+F61G4HoX/P3sUrkfhegJA9ihcj8L1/D9xPQrXo3D5P/YoXI/C9fg/PQrXo3A99j/NzMzMzMz0P3E9CtejcPU/rkfhehSu8z8=\",\"dtype\":\"float64\",\"shape\":[10]}}},\"id\":\"a9754301-770d-49f8-afb1-f89527ac6536\",\"type\":\"ColumnDataSource\"},{\"attributes\":{\"data_source\":{\"id\":\"cfb63edc-e9f7-4156-bf20-6980f9889524\",\"type\":\"ColumnDataSource\"},\"glyph\":{\"id\":\"a6c7a7b1-835b-4a90-9aae-b65ba7d7d806\",\"type\":\"Line\"},\"hover_glyph\":null,\"muted_glyph\":null,\"nonselection_glyph\":{\"id\":\"3a2701c7-ea1a-4b74-8893-08f42181cc28\",\"type\":\"Line\"},\"selection_glyph\":null,\"view\":{\"id\":\"fe0fef3f-c50f-4d65-907a-a153e08c0fa0\",\"type\":\"CDSView\"}},\"id\":\"7b039c1d-0a35-421f-9ce2-279e408fccb6\",\"type\":\"GlyphRenderer\"},{\"attributes\":{\"data_source\":{\"id\":\"5593869b-74c3-4efe-8fb8-2c02c467851c\",\"type\":\"ColumnDataSource\"},\"glyph\":{\"id\":\"05e433ef-57c9-402a-aa90-ae6ee178ea68\",\"type\":\"Line\"},\"hover_glyph\":null,\"muted_glyph\":null,\"nonselection_glyph\":{\"id\":\"10099c03-420c-404f-832d-a62cd94a3502\",\"type\":\"Line\"},\"selection_glyph\":null,\"view\":{\"id\":\"bd023743-b97c-4c46-8835-db1eb9b7d8dd\",\"type\":\"CDSView\"}},\"id\":\"4e3d4c7e-6914-4b7e-90b6-47e39479fa81\",\"type\":\"GlyphRenderer\"},{\"attributes\":{\"source\":{\"id\":\"6f7a150a-3eed-4a6c-9e83-2152556e4901\",\"type\":\"ColumnDataSource\"}},\"id\":\"d6f628b3-496a-4bf9-bfad-2958f5cb1c16\",\"type\":\"CDSView\"},{\"attributes\":{\"data_source\":{\"id\":\"5d6e4b0c-0ba9-44a0-8eb6-18f02b681dc7\",\"type\":\"ColumnDataSource\"},\"glyph\":{\"id\":\"c508b467-8115-4732-995c-94edcd65ee0d\",\"type\":\"Line\"},\"hover_glyph\":null,\"muted_glyph\":null,\"nonselection_glyph\":{\"id\":\"97a8eb93-1b0a-4937-a3bb-b54da86e7f66\",\"type\":\"Line\"},\"selection_glyph\":null,\"view\":{\"id\":\"a33bb23e-0271-4361-ac77-c2a715ae69cc\",\"type\":\"CDSView\"}},\"id\":\"7d4ec8c9-df80-4ac5-93e2-d076fd34024b\",\"type\":\"GlyphRenderer\"},{\"attributes\":{\"source\":{\"id\":\"f8a22f6c-52aa-46d8-b6cd-5c8b43a5cd91\",\"type\":\"ColumnDataSource\"}},\"id\":\"4e7506da-f776-49be-b374-2d101aa50aa9\",\"type\":\"CDSView\"},{\"attributes\":{\"line_color\":{\"value\":\"#f44171\"},\"x\":{\"field\":\"x\"},\"y\":{\"field\":\"y\"}},\"id\":\"3b4e94ec-aba3-477d-ab2b-ade344c3fb23\",\"type\":\"Line\"},{\"attributes\":{\"source\":{\"id\":\"5d6e4b0c-0ba9-44a0-8eb6-18f02b681dc7\",\"type\":\"ColumnDataSource\"}},\"id\":\"a33bb23e-0271-4361-ac77-c2a715ae69cc\",\"type\":\"CDSView\"},{\"attributes\":{\"below\":[{\"id\":\"a4ac2a16-5794-4e85-9ec5-baef3427843e\",\"type\":\"LinearAxis\"}],\"left\":[{\"id\":\"63d1c71a-2ee9-4938-877d-3ef8f21abfdc\",\"type\":\"LinearAxis\"}],\"plot_height\":400,\"plot_width\":900,\"renderers\":[{\"id\":\"a4ac2a16-5794-4e85-9ec5-baef3427843e\",\"type\":\"LinearAxis\"},{\"id\":\"65bbbc3f-8cb3-46e6-94a2-f0af0972f53d\",\"type\":\"Grid\"},{\"id\":\"63d1c71a-2ee9-4938-877d-3ef8f21abfdc\",\"type\":\"LinearAxis\"},{\"id\":\"d8c28d51-9cab-4457-931b-662090a4eeef\",\"type\":\"Grid\"},{\"id\":\"2bb6fd68-83aa-4e32-8e6f-0931f8fb9d3d\",\"type\":\"Legend\"},{\"id\":\"68c49647-916b-4af7-92b0-14749c919288\",\"type\":\"GlyphRenderer\"},{\"id\":\"1bd09f07-72f1-4bf0-95c1-8b0422e12fc5\",\"type\":\"GlyphRenderer\"},{\"id\":\"7d4ec8c9-df80-4ac5-93e2-d076fd34024b\",\"type\":\"GlyphRenderer\"},{\"id\":\"2436337d-bc30-4da0-a807-b804051821b0\",\"type\":\"GlyphRenderer\"},{\"id\":\"4e3d4c7e-6914-4b7e-90b6-47e39479fa81\",\"type\":\"GlyphRenderer\"},{\"id\":\"f739bd94-be0b-4599-b6b6-bff61c42fe16\",\"type\":\"GlyphRenderer\"},{\"id\":\"c72cfadd-f121-43bd-9d01-a1980ac651d9\",\"type\":\"GlyphRenderer\"},{\"id\":\"bdf727a4-d336-4610-884a-7b0fc3e4d58e\",\"type\":\"GlyphRenderer\"},{\"id\":\"394f4bac-34dd-4765-bb99-02cb44e2d716\",\"type\":\"GlyphRenderer\"},{\"id\":\"19c282f5-00bf-40ea-ae5d-cbb8321c8c58\",\"type\":\"GlyphRenderer\"},{\"id\":\"adbee7fa-f4ba-422f-a6d2-6fbde6f8c224\",\"type\":\"GlyphRenderer\"},{\"id\":\"b0c28146-e1c1-4ef5-8f73-09185aaeaef0\",\"type\":\"GlyphRenderer\"},{\"id\":\"b5b4a54e-8c2b-4180-9b64-8ab1e42fa64a\",\"type\":\"GlyphRenderer\"},{\"id\":\"df0d1c4b-d0be-4d2c-b84d-fc95b59186d5\",\"type\":\"GlyphRenderer\"},{\"id\":\"7b039c1d-0a35-421f-9ce2-279e408fccb6\",\"type\":\"GlyphRenderer\"},{\"id\":\"dbb51fe1-01f1-458a-afde-25de9757c278\",\"type\":\"GlyphRenderer\"},{\"id\":\"6fb72a79-5a6f-44c3-b223-763da0f58cb5\",\"type\":\"GlyphRenderer\"},{\"id\":\"52dd08d9-47d8-41a4-90c9-4a33dd783b03\",\"type\":\"GlyphRenderer\"}],\"title\":{\"id\":\"601deb31-769c-4a82-ad9d-4ff00c85a952\",\"type\":\"Title\"},\"toolbar\":{\"id\":\"96b998d3-2080-4168-926d-20712349b2df\",\"type\":\"Toolbar\"},\"x_range\":{\"id\":\"ce5336ea-966c-4998-879f-b24fdd932ae2\",\"type\":\"DataRange1d\"},\"x_scale\":{\"id\":\"89e7e0bd-5d37-4d1a-b8db-ee30e492d6a6\",\"type\":\"LinearScale\"},\"y_range\":{\"id\":\"a9009a74-c783-4146-a9f1-a75efba9974f\",\"type\":\"DataRange1d\"},\"y_scale\":{\"id\":\"3cef86c7-18fd-4876-a9ea-1cefcce1ae38\",\"type\":\"LinearScale\"}},\"id\":\"aea6c450-6d92-4285-9d90-23710d0c2119\",\"subtype\":\"Figure\",\"type\":\"Plot\"},{\"attributes\":{\"data_source\":{\"id\":\"26b9936f-389c-4329-abc1-d4caaf4ade94\",\"type\":\"ColumnDataSource\"},\"glyph\":{\"id\":\"af9ff72c-7379-4050-9c1a-69703c5c5fca\",\"type\":\"Line\"},\"hover_glyph\":null,\"muted_glyph\":null,\"nonselection_glyph\":{\"id\":\"36efff9b-1ea4-4379-9794-158b3bd64d79\",\"type\":\"Line\"},\"selection_glyph\":null,\"view\":{\"id\":\"58b9de9b-1a57-4f2c-a918-a6fa3b0b3d89\",\"type\":\"CDSView\"}},\"id\":\"b5b4a54e-8c2b-4180-9b64-8ab1e42fa64a\",\"type\":\"GlyphRenderer\"},{\"attributes\":{\"line_color\":{\"value\":\"#f44171\"},\"x\":{\"field\":\"x\"},\"y\":{\"field\":\"y\"}},\"id\":\"c508b467-8115-4732-995c-94edcd65ee0d\",\"type\":\"Line\"},{\"attributes\":{\"line_alpha\":{\"value\":0.1},\"line_color\":{\"value\":\"#1f77b4\"},\"line_width\":{\"value\":3},\"x\":{\"field\":\"x\"},\"y\":{\"field\":\"y\"}},\"id\":\"36efff9b-1ea4-4379-9794-158b3bd64d79\",\"type\":\"Line\"},{\"attributes\":{\"data_source\":{\"id\":\"0abf2355-127c-4614-912d-2a681aea0a51\",\"type\":\"ColumnDataSource\"},\"glyph\":{\"id\":\"e9e81ace-92a8-4aea-886f-279a982f9940\",\"type\":\"Line\"},\"hover_glyph\":null,\"muted_glyph\":null,\"nonselection_glyph\":{\"id\":\"15c72457-57a6-4296-9374-4f93b30b9315\",\"type\":\"Line\"},\"selection_glyph\":null,\"view\":{\"id\":\"897e9a71-c82c-4e32-b120-18e5374cfba3\",\"type\":\"CDSView\"}},\"id\":\"2436337d-bc30-4da0-a807-b804051821b0\",\"type\":\"GlyphRenderer\"},{\"attributes\":{\"line_alpha\":{\"value\":0.1},\"line_color\":{\"value\":\"#1f77b4\"},\"x\":{\"field\":\"x\"},\"y\":{\"field\":\"y\"}},\"id\":\"97a8eb93-1b0a-4937-a3bb-b54da86e7f66\",\"type\":\"Line\"},{\"attributes\":{\"plot\":null,\"text\":\"POBREZA-QUITO\"},\"id\":\"601deb31-769c-4a82-ad9d-4ff00c85a952\",\"type\":\"Title\"},{\"attributes\":{\"data_source\":{\"id\":\"a9754301-770d-49f8-afb1-f89527ac6536\",\"type\":\"ColumnDataSource\"},\"glyph\":{\"id\":\"aeab1c6d-33b5-4c8d-a241-7884ca31dd71\",\"type\":\"Line\"},\"hover_glyph\":null,\"muted_glyph\":null,\"nonselection_glyph\":{\"id\":\"9d04338a-7f4e-46f5-bb9f-2faa23e15e8a\",\"type\":\"Line\"},\"selection_glyph\":null,\"view\":{\"id\":\"e37866e6-fc8f-4938-8702-dda5f64310d9\",\"type\":\"CDSView\"}},\"id\":\"52dd08d9-47d8-41a4-90c9-4a33dd783b03\",\"type\":\"GlyphRenderer\"},{\"attributes\":{\"label\":{\"value\":\"Severidad\"},\"renderers\":[{\"id\":\"7d4ec8c9-df80-4ac5-93e2-d076fd34024b\",\"type\":\"GlyphRenderer\"},{\"id\":\"f739bd94-be0b-4599-b6b6-bff61c42fe16\",\"type\":\"GlyphRenderer\"},{\"id\":\"394f4bac-34dd-4765-bb99-02cb44e2d716\",\"type\":\"GlyphRenderer\"},{\"id\":\"b0c28146-e1c1-4ef5-8f73-09185aaeaef0\",\"type\":\"GlyphRenderer\"},{\"id\":\"7b039c1d-0a35-421f-9ce2-279e408fccb6\",\"type\":\"GlyphRenderer\"},{\"id\":\"52dd08d9-47d8-41a4-90c9-4a33dd783b03\",\"type\":\"GlyphRenderer\"}]},\"id\":\"ecf7947d-bd15-4bba-b450-4670b2e8d999\",\"type\":\"LegendItem\"},{\"attributes\":{\"source\":{\"id\":\"a5caeb7e-225a-4613-a2d3-e4d2b305bc6b\",\"type\":\"ColumnDataSource\"}},\"id\":\"8c8a2560-cdf8-462c-9786-5a69c93222af\",\"type\":\"CDSView\"},{\"attributes\":{\"callback\":null},\"id\":\"ce5336ea-966c-4998-879f-b24fdd932ae2\",\"type\":\"DataRange1d\"},{\"attributes\":{\"line_alpha\":{\"value\":0.1},\"line_color\":{\"value\":\"#1f77b4\"},\"x\":{\"field\":\"x\"},\"y\":{\"field\":\"y\"}},\"id\":\"ef5f4eba-d707-4bf3-80b7-142759c62185\",\"type\":\"Line\"},{\"attributes\":{\"active_drag\":\"auto\",\"active_inspect\":\"auto\",\"active_scroll\":\"auto\",\"active_tap\":\"auto\"},\"id\":\"96b998d3-2080-4168-926d-20712349b2df\",\"type\":\"Toolbar\"},{\"attributes\":{\"line_color\":{\"value\":\"#f4d341\"},\"line_width\":{\"value\":3},\"x\":{\"field\":\"x\"},\"y\":{\"field\":\"y\"}},\"id\":\"af9ff72c-7379-4050-9c1a-69703c5c5fca\",\"type\":\"Line\"},{\"attributes\":{\"data_source\":{\"id\":\"1c46c37c-e262-4a95-85ce-bf3ef62cef47\",\"type\":\"ColumnDataSource\"},\"glyph\":{\"id\":\"edad7934-f370-4fcb-bff8-f8c8ab0e9462\",\"type\":\"Line\"},\"hover_glyph\":null,\"muted_glyph\":null,\"nonselection_glyph\":{\"id\":\"2e200886-f21c-41c0-8dc9-301b4334885b\",\"type\":\"Line\"},\"selection_glyph\":null,\"view\":{\"id\":\"7959f29c-bdbf-4d4d-9976-3f84733bfac9\",\"type\":\"CDSView\"}},\"id\":\"19c282f5-00bf-40ea-ae5d-cbb8321c8c58\",\"type\":\"GlyphRenderer\"},{\"attributes\":{\"label\":{\"value\":\"Incidencia\"},\"renderers\":[{\"id\":\"68c49647-916b-4af7-92b0-14749c919288\",\"type\":\"GlyphRenderer\"},{\"id\":\"2436337d-bc30-4da0-a807-b804051821b0\",\"type\":\"GlyphRenderer\"},{\"id\":\"c72cfadd-f121-43bd-9d01-a1980ac651d9\",\"type\":\"GlyphRenderer\"},{\"id\":\"19c282f5-00bf-40ea-ae5d-cbb8321c8c58\",\"type\":\"GlyphRenderer\"},{\"id\":\"b5b4a54e-8c2b-4180-9b64-8ab1e42fa64a\",\"type\":\"GlyphRenderer\"},{\"id\":\"dbb51fe1-01f1-458a-afde-25de9757c278\",\"type\":\"GlyphRenderer\"}]},\"id\":\"6bfd5f1a-1d60-46d8-90e6-c2a07f29f1f9\",\"type\":\"LegendItem\"},{\"attributes\":{\"source\":{\"id\":\"d82b7d2d-8967-4698-91d8-d218137c83eb\",\"type\":\"ColumnDataSource\"}},\"id\":\"829b4951-fb28-418c-a634-6b678ec3f35c\",\"type\":\"CDSView\"},{\"attributes\":{},\"id\":\"89e7e0bd-5d37-4d1a-b8db-ee30e492d6a6\",\"type\":\"LinearScale\"},{\"attributes\":{\"source\":{\"id\":\"0abf2355-127c-4614-912d-2a681aea0a51\",\"type\":\"ColumnDataSource\"}},\"id\":\"897e9a71-c82c-4e32-b120-18e5374cfba3\",\"type\":\"CDSView\"},{\"attributes\":{\"callback\":null},\"id\":\"a9009a74-c783-4146-a9f1-a75efba9974f\",\"type\":\"DataRange1d\"},{\"attributes\":{\"line_alpha\":{\"value\":0.1},\"line_color\":{\"value\":\"#1f77b4\"},\"line_width\":{\"value\":5},\"x\":{\"field\":\"x\"},\"y\":{\"field\":\"y\"}},\"id\":\"9d04338a-7f4e-46f5-bb9f-2faa23e15e8a\",\"type\":\"Line\"},{\"attributes\":{\"data_source\":{\"id\":\"8c459eb9-4078-488c-9b63-9214d62d57ae\",\"type\":\"ColumnDataSource\"},\"glyph\":{\"id\":\"9b16512a-74aa-4803-9ca7-aedd6ab184c9\",\"type\":\"Line\"},\"hover_glyph\":null,\"muted_glyph\":null,\"nonselection_glyph\":{\"id\":\"ef5f4eba-d707-4bf3-80b7-142759c62185\",\"type\":\"Line\"},\"selection_glyph\":null,\"view\":{\"id\":\"4fa77c41-2d7b-4b05-ab92-8c132bedc66e\",\"type\":\"CDSView\"}},\"id\":\"68c49647-916b-4af7-92b0-14749c919288\",\"type\":\"GlyphRenderer\"},{\"attributes\":{},\"id\":\"3cef86c7-18fd-4876-a9ea-1cefcce1ae38\",\"type\":\"LinearScale\"},{\"attributes\":{\"source\":{\"id\":\"a9754301-770d-49f8-afb1-f89527ac6536\",\"type\":\"ColumnDataSource\"}},\"id\":\"e37866e6-fc8f-4938-8702-dda5f64310d9\",\"type\":\"CDSView\"},{\"attributes\":{\"callback\":null,\"column_names\":[\"x\",\"y\"],\"data\":{\"x\":{\"__ndarray__\":\"AAAAAABgn0AAAAAAAGSfQAAAAAAAaJ9AAAAAAABsn0AAAAAAAHCfQAAAAAAAdJ9AAAAAAAB4n0AAAAAAAHyfQAAAAAAAgJ9AAAAAAACEn0A=\",\"dtype\":\"float64\",\"shape\":[10]},\"y\":{\"__ndarray__\":\"KVyPwvUo/D+F61G4HoX/P3sUrkfhegJA9ihcj8L1/D9xPQrXo3D5P/YoXI/C9fg/PQrXo3A99j/NzMzMzMz0P3E9CtejcPU/rkfhehSu8z8=\",\"dtype\":\"float64\",\"shape\":[10]}}},\"id\":\"f8a22f6c-52aa-46d8-b6cd-5c8b43a5cd91\",\"type\":\"ColumnDataSource\"},{\"attributes\":{\"line_color\":{\"value\":\"#42f4bf\"},\"x\":{\"field\":\"x\"},\"y\":{\"field\":\"y\"}},\"id\":\"e9dbe6a8-fd61-4118-b64c-8f9c88be087e\",\"type\":\"Line\"},{\"attributes\":{\"line_color\":{\"value\":\"#f44171\"},\"line_width\":{\"value\":5},\"x\":{\"field\":\"x\"},\"y\":{\"field\":\"y\"}},\"id\":\"aeab1c6d-33b5-4c8d-a241-7884ca31dd71\",\"type\":\"Line\"},{\"attributes\":{\"items\":[{\"id\":\"6bfd5f1a-1d60-46d8-90e6-c2a07f29f1f9\",\"type\":\"LegendItem\"},{\"id\":\"beb04e7b-6269-4b6b-8406-bbd76327fb8b\",\"type\":\"LegendItem\"},{\"id\":\"ecf7947d-bd15-4bba-b450-4670b2e8d999\",\"type\":\"LegendItem\"}],\"plot\":{\"id\":\"aea6c450-6d92-4285-9d90-23710d0c2119\",\"subtype\":\"Figure\",\"type\":\"Plot\"}},\"id\":\"2bb6fd68-83aa-4e32-8e6f-0931f8fb9d3d\",\"type\":\"Legend\"},{\"attributes\":{\"line_alpha\":{\"value\":0.9},\"line_color\":{\"value\":\"#f4d341\"},\"x\":{\"field\":\"x\"},\"y\":{\"field\":\"y\"}},\"id\":\"e9e81ace-92a8-4aea-886f-279a982f9940\",\"type\":\"Line\"},{\"attributes\":{\"formatter\":{\"id\":\"6101ddff-7719-4b6e-8106-ccba1f561aed\",\"type\":\"BasicTickFormatter\"},\"plot\":{\"id\":\"aea6c450-6d92-4285-9d90-23710d0c2119\",\"subtype\":\"Figure\",\"type\":\"Plot\"},\"ticker\":{\"id\":\"dda27f34-3eb8-472a-a7fc-66b86fe77af6\",\"type\":\"BasicTicker\"}},\"id\":\"a4ac2a16-5794-4e85-9ec5-baef3427843e\",\"type\":\"LinearAxis\"},{\"attributes\":{\"line_color\":{\"value\":\"#f4d341\"},\"x\":{\"field\":\"x\"},\"y\":{\"field\":\"y\"}},\"id\":\"9b16512a-74aa-4803-9ca7-aedd6ab184c9\",\"type\":\"Line\"},{\"attributes\":{\"line_alpha\":{\"value\":0.1},\"line_color\":{\"value\":\"#1f77b4\"},\"x\":{\"field\":\"x\"},\"y\":{\"field\":\"y\"}},\"id\":\"15c72457-57a6-4296-9374-4f93b30b9315\",\"type\":\"Line\"},{\"attributes\":{},\"id\":\"dda27f34-3eb8-472a-a7fc-66b86fe77af6\",\"type\":\"BasicTicker\"},{\"attributes\":{\"source\":{\"id\":\"4478b29e-1e47-402a-9059-d3df05fd22cd\",\"type\":\"ColumnDataSource\"}},\"id\":\"7d63741f-a654-4644-bdee-3751be2fc184\",\"type\":\"CDSView\"},{\"attributes\":{\"grid_line_color\":{\"value\":null},\"plot\":{\"id\":\"aea6c450-6d92-4285-9d90-23710d0c2119\",\"subtype\":\"Figure\",\"type\":\"Plot\"},\"ticker\":{\"id\":\"dda27f34-3eb8-472a-a7fc-66b86fe77af6\",\"type\":\"BasicTicker\"}},\"id\":\"65bbbc3f-8cb3-46e6-94a2-f0af0972f53d\",\"type\":\"Grid\"},{\"attributes\":{\"callback\":null,\"column_names\":[\"x\",\"y\"],\"data\":{\"x\":{\"__ndarray__\":\"AAAAAABgn0AAAAAAAGSfQAAAAAAAaJ9AAAAAAABsn0AAAAAAAHCfQAAAAAAAdJ9AAAAAAAB4n0AAAAAAAHyfQAAAAAAAgJ9AAAAAAACEn0A=\",\"dtype\":\"float64\",\"shape\":[10]},\"y\":{\"__ndarray__\":\"j8L1KFyPCkCuR+F6FK4NQFyPwvUoXBFAuB6F61G4CkBSuB6F61EKQNejcD0K1wtAPQrXo3A9BkC4HoXrUbgEQArXo3A9CgVAMzMzMzMzA0A=\",\"dtype\":\"float64\",\"shape\":[10]}}},\"id\":\"3b0aecb6-5638-4099-a106-22c57967ab3b\",\"type\":\"ColumnDataSource\"},{\"attributes\":{\"source\":{\"id\":\"26b9936f-389c-4329-abc1-d4caaf4ade94\",\"type\":\"ColumnDataSource\"}},\"id\":\"58b9de9b-1a57-4f2c-a918-a6fa3b0b3d89\",\"type\":\"CDSView\"},{\"attributes\":{\"formatter\":{\"id\":\"f6428aa0-d552-4c70-973e-aadc0d7e7c64\",\"type\":\"BasicTickFormatter\"},\"plot\":{\"id\":\"aea6c450-6d92-4285-9d90-23710d0c2119\",\"subtype\":\"Figure\",\"type\":\"Plot\"},\"ticker\":{\"id\":\"35782692-331f-48d5-ae2a-e7ba59526c70\",\"type\":\"BasicTicker\"}},\"id\":\"63d1c71a-2ee9-4938-877d-3ef8f21abfdc\",\"type\":\"LinearAxis\"},{\"attributes\":{},\"id\":\"35782692-331f-48d5-ae2a-e7ba59526c70\",\"type\":\"BasicTicker\"},{\"attributes\":{\"dimension\":1,\"grid_line_color\":{\"value\":null},\"plot\":{\"id\":\"aea6c450-6d92-4285-9d90-23710d0c2119\",\"subtype\":\"Figure\",\"type\":\"Plot\"},\"ticker\":{\"id\":\"35782692-331f-48d5-ae2a-e7ba59526c70\",\"type\":\"BasicTicker\"}},\"id\":\"d8c28d51-9cab-4457-931b-662090a4eeef\",\"type\":\"Grid\"},{\"attributes\":{\"data_source\":{\"id\":\"3b0aecb6-5638-4099-a106-22c57967ab3b\",\"type\":\"ColumnDataSource\"},\"glyph\":{\"id\":\"f95f4292-5e23-442e-ba0c-4fc88ddd0a78\",\"type\":\"Line\"},\"hover_glyph\":null,\"muted_glyph\":null,\"nonselection_glyph\":{\"id\":\"60d7313c-7558-43e2-beb3-12677220ab84\",\"type\":\"Line\"},\"selection_glyph\":null,\"view\":{\"id\":\"accb02c2-1afc-493d-aa2e-00fd7785a8de\",\"type\":\"CDSView\"}},\"id\":\"df0d1c4b-d0be-4d2c-b84d-fc95b59186d5\",\"type\":\"GlyphRenderer\"},{\"attributes\":{\"line_color\":{\"value\":\"#f44171\"},\"x\":{\"field\":\"x\"},\"y\":{\"field\":\"y\"}},\"id\":\"d85daab0-b98d-4e85-b037-b6bb0e0fb890\",\"type\":\"Line\"},{\"attributes\":{\"line_color\":{\"value\":\"#f4d341\"},\"x\":{\"field\":\"x\"},\"y\":{\"field\":\"y\"}},\"id\":\"edad7934-f370-4fcb-bff8-f8c8ab0e9462\",\"type\":\"Line\"},{\"attributes\":{\"data_source\":{\"id\":\"4478b29e-1e47-402a-9059-d3df05fd22cd\",\"type\":\"ColumnDataSource\"},\"glyph\":{\"id\":\"d85daab0-b98d-4e85-b037-b6bb0e0fb890\",\"type\":\"Line\"},\"hover_glyph\":null,\"muted_glyph\":null,\"nonselection_glyph\":{\"id\":\"54d03faa-9a1f-48b7-addc-418995d3fea4\",\"type\":\"Line\"},\"selection_glyph\":null,\"view\":{\"id\":\"7d63741f-a654-4644-bdee-3751be2fc184\",\"type\":\"CDSView\"}},\"id\":\"b0c28146-e1c1-4ef5-8f73-09185aaeaef0\",\"type\":\"GlyphRenderer\"},{\"attributes\":{\"source\":{\"id\":\"2006c4b4-3861-4883-a3ee-30039dad2984\",\"type\":\"ColumnDataSource\"}},\"id\":\"5347fa7e-c8c0-41f2-b51d-e7ca9de8f592\",\"type\":\"CDSView\"},{\"attributes\":{\"callback\":null,\"column_names\":[\"x\",\"y\"],\"data\":{\"x\":{\"__ndarray__\":\"AAAAAABgn0AAAAAAAGSfQAAAAAAAaJ9AAAAAAABsn0AAAAAAAHCfQAAAAAAAdJ9AAAAAAAB4n0AAAAAAAHyfQAAAAAAAgJ9AAAAAAACEn0A=\",\"dtype\":\"float64\",\"shape\":[10]},\"y\":{\"__ndarray__\":\"ZmZmZmbmJEBSuB6F61EmQIXrUbgeBSpAKVyPwvWoJEBxPQrXo/AhQDMzMzMzsyVA16NwPQrXIUB7FK5H4XofQOxRuB6F6x9AZmZmZmZmHUA=\",\"dtype\":\"float64\",\"shape\":[10]}}},\"id\":\"1c46c37c-e262-4a95-85ce-bf3ef62cef47\",\"type\":\"ColumnDataSource\"},{\"attributes\":{\"line_alpha\":{\"value\":0.1},\"line_color\":{\"value\":\"#1f77b4\"},\"x\":{\"field\":\"x\"},\"y\":{\"field\":\"y\"}},\"id\":\"9b0d355b-2608-40b9-a058-fbbe8fa6deeb\",\"type\":\"Line\"},{\"attributes\":{\"line_color\":{\"value\":\"#42f4bf\"},\"x\":{\"field\":\"x\"},\"y\":{\"field\":\"y\"}},\"id\":\"f95f4292-5e23-442e-ba0c-4fc88ddd0a78\",\"type\":\"Line\"},{\"attributes\":{\"callback\":null,\"column_names\":[\"x\",\"y\"],\"data\":{\"x\":{\"__ndarray__\":\"AAAAAABgn0AAAAAAAGSfQAAAAAAAaJ9AAAAAAABsn0AAAAAAAHCfQAAAAAAAdJ9AAAAAAAB4n0AAAAAAAHyfQAAAAAAAgJ9AAAAAAACEn0A=\",\"dtype\":\"float64\",\"shape\":[10]},\"y\":{\"__ndarray__\":\"ZmZmZmbmJEBSuB6F61EmQIXrUbgeBSpAKVyPwvWoJEBxPQrXo/AhQDMzMzMzsyVA16NwPQrXIUB7FK5H4XofQOxRuB6F6x9AZmZmZmZmHUA=\",\"dtype\":\"float64\",\"shape\":[10]}}},\"id\":\"26b9936f-389c-4329-abc1-d4caaf4ade94\",\"type\":\"ColumnDataSource\"},{\"attributes\":{\"line_alpha\":{\"value\":0.1},\"line_color\":{\"value\":\"#1f77b4\"},\"x\":{\"field\":\"x\"},\"y\":{\"field\":\"y\"}},\"id\":\"60d7313c-7558-43e2-beb3-12677220ab84\",\"type\":\"Line\"},{\"attributes\":{\"line_alpha\":{\"value\":0.1},\"line_color\":{\"value\":\"#1f77b4\"},\"x\":{\"field\":\"x\"},\"y\":{\"field\":\"y\"}},\"id\":\"af1d3e54-4a30-44c8-80d9-36dd3fba99a5\",\"type\":\"Line\"},{\"attributes\":{\"line_alpha\":{\"value\":0.1},\"line_color\":{\"value\":\"#1f77b4\"},\"x\":{\"field\":\"x\"},\"y\":{\"field\":\"y\"}},\"id\":\"54d03faa-9a1f-48b7-addc-418995d3fea4\",\"type\":\"Line\"},{\"attributes\":{\"source\":{\"id\":\"3b0aecb6-5638-4099-a106-22c57967ab3b\",\"type\":\"ColumnDataSource\"}},\"id\":\"accb02c2-1afc-493d-aa2e-00fd7785a8de\",\"type\":\"CDSView\"},{\"attributes\":{\"line_alpha\":{\"value\":0.1},\"line_color\":{\"value\":\"#1f77b4\"},\"x\":{\"field\":\"x\"},\"y\":{\"field\":\"y\"}},\"id\":\"2e200886-f21c-41c0-8dc9-301b4334885b\",\"type\":\"Line\"},{\"attributes\":{\"callback\":null,\"column_names\":[\"x\",\"y\"],\"data\":{\"x\":{\"__ndarray__\":\"AAAAAABgn0AAAAAAAGSfQAAAAAAAaJ9AAAAAAABsn0AAAAAAAHCfQAAAAAAAdJ9AAAAAAAB4n0AAAAAAAHyfQAAAAAAAgJ9AAAAAAACEn0A=\",\"dtype\":\"float64\",\"shape\":[10]},\"y\":{\"__ndarray__\":\"KVyPwvUo/D+F61G4HoX/P3sUrkfhegJA9ihcj8L1/D9xPQrXo3D5P/YoXI/C9fg/PQrXo3A99j/NzMzMzMz0P3E9CtejcPU/rkfhehSu8z8=\",\"dtype\":\"float64\",\"shape\":[10]}}},\"id\":\"cfb63edc-e9f7-4156-bf20-6980f9889524\",\"type\":\"ColumnDataSource\"}],\"root_ids\":[\"aea6c450-6d92-4285-9d90-23710d0c2119\"]},\"title\":\"Bokeh Application\",\"version\":\"0.12.10\"}};\n",
       "    var render_items = [{\"docid\":\"17b4b90f-c87c-4b98-b64f-5932c77fbf79\",\"elementid\":\"b3125102-73f3-400d-87dc-cbdc36752b2d\",\"modelid\":\"aea6c450-6d92-4285-9d90-23710d0c2119\"}];\n",
       "\n",
       "    root.Bokeh.embed.embed_items(docs_json, render_items);\n",
       "  }\n",
       "\n",
       "  if (root.Bokeh !== undefined) {\n",
       "    embed_document(root);\n",
       "  } else {\n",
       "    var attempts = 0;\n",
       "    var timer = setInterval(function(root) {\n",
       "      if (root.Bokeh !== undefined) {\n",
       "        embed_document(root);\n",
       "        clearInterval(timer);\n",
       "      }\n",
       "      attempts++;\n",
       "      if (attempts > 100) {\n",
       "        console.log(\"Bokeh: ERROR: Unable to embed document because BokehJS library is missing\")\n",
       "        clearInterval(timer);\n",
       "      }\n",
       "    }, 10, root)\n",
       "  }\n",
       "})(window);"
      ],
      "application/vnd.bokehjs_exec.v0+json": ""
     },
     "metadata": {
      "application/vnd.bokehjs_exec.v0+json": {
       "id": "aea6c450-6d92-4285-9d90-23710d0c2119"
      }
     },
     "output_type": "display_data"
    }
   ],
   "source": [
    "graph_line.xgrid.grid_line_color = None # eliminamos las lineas verticales\n",
    "graph_line.ygrid.grid_line_color = None # horizontales\n",
    "show(graph_line) # mostramos nuestra grafica"
   ]
  },
  {
   "cell_type": "markdown",
   "metadata": {},
   "source": [
    "## Grafico de barras"
   ]
  },
  {
   "cell_type": "markdown",
   "metadata": {},
   "source": [
    "Creamos un una variable contiene los parametros de nuestra grafica final"
   ]
  },
  {
   "cell_type": "code",
   "execution_count": 35,
   "metadata": {},
   "outputs": [],
   "source": [
    "options = dict( # opciones que compartiran cada una de nuestras graficas\n",
    "    plot_width=300, plot_height=250, # Tamaño\n",
    "    tools='' # Herramientas de bokeh adicionales\n",
    ")"
   ]
  },
  {
   "cell_type": "markdown",
   "metadata": {},
   "source": [
    "Creamos un objeto de figura por cada grafica y establecemos sus opciones y titulo. (opciones)"
   ]
  },
  {
   "cell_type": "code",
   "execution_count": 36,
   "metadata": {},
   "outputs": [],
   "source": [
    "graph_bar_1 = figure(\n",
    "    title='Incidencia', # titulo de esta grafica en particular\n",
    "    **options # opciones antes definidad\n",
    ")\n",
    "graph_bar_2 = figure(title='Brecha', **options)\n",
    "graph_bar_3 = figure(title='Severidad', **options)"
   ]
  },
  {
   "cell_type": "markdown",
   "metadata": {},
   "source": [
    "Definimos lo que cada una de nuestras graficas representara"
   ]
  },
  {
   "cell_type": "code",
   "execution_count": 22,
   "metadata": {},
   "outputs": [
    {
     "data": {
      "text/html": [
       "<div style=\"display: table;\"><div style=\"display: table-row;\"><div style=\"display: table-cell;\"><b title=\"bokeh.models.renderers.GlyphRenderer\">GlyphRenderer</b>(</div><div style=\"display: table-cell;\">id&nbsp;=&nbsp;'69fb59ec-dc5c-45cb-9149-f0954f7231cd', <span id=\"b09776a6-b2f8-49ae-b81f-ff6b456116bb\" style=\"cursor: pointer;\">&hellip;)</span></div></div><div class=\"72b38ddf-8f53-4d06-9c5f-7fe38832c915\" style=\"display: none;\"><div style=\"display: table-cell;\"></div><div style=\"display: table-cell;\">data_source&nbsp;=&nbsp;ColumnDataSource(id='d8eea622-0ec3-45b6-a144-6d447b904773', ...),</div></div><div class=\"72b38ddf-8f53-4d06-9c5f-7fe38832c915\" style=\"display: none;\"><div style=\"display: table-cell;\"></div><div style=\"display: table-cell;\">glyph&nbsp;=&nbsp;VBar(id='f2b03c0d-2a91-499f-948c-ff755764bdfe', ...),</div></div><div class=\"72b38ddf-8f53-4d06-9c5f-7fe38832c915\" style=\"display: none;\"><div style=\"display: table-cell;\"></div><div style=\"display: table-cell;\">hover_glyph&nbsp;=&nbsp;None,</div></div><div class=\"72b38ddf-8f53-4d06-9c5f-7fe38832c915\" style=\"display: none;\"><div style=\"display: table-cell;\"></div><div style=\"display: table-cell;\">js_event_callbacks&nbsp;=&nbsp;{},</div></div><div class=\"72b38ddf-8f53-4d06-9c5f-7fe38832c915\" style=\"display: none;\"><div style=\"display: table-cell;\"></div><div style=\"display: table-cell;\">js_property_callbacks&nbsp;=&nbsp;{},</div></div><div class=\"72b38ddf-8f53-4d06-9c5f-7fe38832c915\" style=\"display: none;\"><div style=\"display: table-cell;\"></div><div style=\"display: table-cell;\">level&nbsp;=&nbsp;'glyph',</div></div><div class=\"72b38ddf-8f53-4d06-9c5f-7fe38832c915\" style=\"display: none;\"><div style=\"display: table-cell;\"></div><div style=\"display: table-cell;\">muted&nbsp;=&nbsp;False,</div></div><div class=\"72b38ddf-8f53-4d06-9c5f-7fe38832c915\" style=\"display: none;\"><div style=\"display: table-cell;\"></div><div style=\"display: table-cell;\">muted_glyph&nbsp;=&nbsp;None,</div></div><div class=\"72b38ddf-8f53-4d06-9c5f-7fe38832c915\" style=\"display: none;\"><div style=\"display: table-cell;\"></div><div style=\"display: table-cell;\">name&nbsp;=&nbsp;None,</div></div><div class=\"72b38ddf-8f53-4d06-9c5f-7fe38832c915\" style=\"display: none;\"><div style=\"display: table-cell;\"></div><div style=\"display: table-cell;\">nonselection_glyph&nbsp;=&nbsp;VBar(id='dac6110d-95ae-452d-aa31-95b71a1ad5f3', ...),</div></div><div class=\"72b38ddf-8f53-4d06-9c5f-7fe38832c915\" style=\"display: none;\"><div style=\"display: table-cell;\"></div><div style=\"display: table-cell;\">selection_glyph&nbsp;=&nbsp;None,</div></div><div class=\"72b38ddf-8f53-4d06-9c5f-7fe38832c915\" style=\"display: none;\"><div style=\"display: table-cell;\"></div><div style=\"display: table-cell;\">subscribed_events&nbsp;=&nbsp;[],</div></div><div class=\"72b38ddf-8f53-4d06-9c5f-7fe38832c915\" style=\"display: none;\"><div style=\"display: table-cell;\"></div><div style=\"display: table-cell;\">tags&nbsp;=&nbsp;[],</div></div><div class=\"72b38ddf-8f53-4d06-9c5f-7fe38832c915\" style=\"display: none;\"><div style=\"display: table-cell;\"></div><div style=\"display: table-cell;\">view&nbsp;=&nbsp;CDSView(id='8d85ec2b-d556-41d8-bc1e-7eff54f5af4e', ...),</div></div><div class=\"72b38ddf-8f53-4d06-9c5f-7fe38832c915\" style=\"display: none;\"><div style=\"display: table-cell;\"></div><div style=\"display: table-cell;\">visible&nbsp;=&nbsp;True,</div></div><div class=\"72b38ddf-8f53-4d06-9c5f-7fe38832c915\" style=\"display: none;\"><div style=\"display: table-cell;\"></div><div style=\"display: table-cell;\">x_range_name&nbsp;=&nbsp;'default',</div></div><div class=\"72b38ddf-8f53-4d06-9c5f-7fe38832c915\" style=\"display: none;\"><div style=\"display: table-cell;\"></div><div style=\"display: table-cell;\">y_range_name&nbsp;=&nbsp;'default')</div></div></div>\n",
       "<script>\n",
       "(function() {\n",
       "  var expanded = false;\n",
       "  var ellipsis = document.getElementById(\"b09776a6-b2f8-49ae-b81f-ff6b456116bb\");\n",
       "  ellipsis.addEventListener(\"click\", function() {\n",
       "    var rows = document.getElementsByClassName(\"72b38ddf-8f53-4d06-9c5f-7fe38832c915\");\n",
       "    for (var i = 0; i < rows.length; i++) {\n",
       "      var el = rows[i];\n",
       "      el.style.display = expanded ? \"none\" : \"table-row\";\n",
       "    }\n",
       "    ellipsis.innerHTML = expanded ? \"&hellip;)\" : \"&lsaquo;&lsaquo;&lsaquo;\";\n",
       "    expanded = !expanded;\n",
       "  });\n",
       "})();\n",
       "</script>\n"
      ],
      "text/plain": [
       "GlyphRenderer(id='69fb59ec-dc5c-45cb-9149-f0954f7231cd', ...)"
      ]
     },
     "execution_count": 22,
     "metadata": {},
     "output_type": "execute_result"
    }
   ],
   "source": [
    "graph_bar_1.vbar(\n",
    "    x=data.Anios, # datos en x\n",
    "    top=data.Incidencia, # valor maximo\n",
    "    width=0.7, # ancho de cada barra\n",
    "    line_color=\"white\", # color del borde de cada barra\n",
    "    color=\"#f4d341\" # color de cada barra\n",
    ")\n",
    "graph_bar_2.vbar(x=data.Anios, top=data.Brecha, width=0.7, line_color=\"white\", color=\"#42f4bf\")\n",
    "graph_bar_3.vbar(x=data.Anios, top=data.Severidad, width=0.7, line_color=\"white\", color=\"#f44171\")"
   ]
  },
  {
   "cell_type": "markdown",
   "metadata": {},
   "source": [
    "Creamos una nueva figura que esta compuesta por las figuras creadas anteriormente"
   ]
  },
  {
   "cell_type": "code",
   "execution_count": 23,
   "metadata": {},
   "outputs": [
    {
     "data": {
      "text/html": [
       "\n",
       "<div class=\"bk-root\">\n",
       "    <div class=\"bk-plotdiv\" id=\"09fba4dc-ab03-4b43-96f6-48906469bd4e\"></div>\n",
       "</div>"
      ]
     },
     "metadata": {},
     "output_type": "display_data"
    },
    {
     "data": {
      "application/javascript": [
       "(function(root) {\n",
       "  function embed_document(root) {\n",
       "    var docs_json = {\"a9ce161b-3226-48ef-8108-4c8615f09f31\":{\"roots\":{\"references\":[{\"attributes\":{},\"id\":\"1baa930a-a501-459c-b248-936436dd47ca\",\"type\":\"BasicTickFormatter\"},{\"attributes\":{\"callback\":null,\"column_names\":[\"x\",\"top\"],\"data\":{\"top\":{\"__ndarray__\":\"j8L1KFyPCkCuR+F6FK4NQFyPwvUoXBFAuB6F61G4CkBSuB6F61EKQNejcD0K1wtAPQrXo3A9BkC4HoXrUbgEQArXo3A9CgVAMzMzMzMzA0A=\",\"dtype\":\"float64\",\"shape\":[10]},\"x\":{\"__ndarray__\":\"AAAAAABgn0AAAAAAAGSfQAAAAAAAaJ9AAAAAAABsn0AAAAAAAHCfQAAAAAAAdJ9AAAAAAAB4n0AAAAAAAHyfQAAAAAAAgJ9AAAAAAACEn0A=\",\"dtype\":\"float64\",\"shape\":[10]}}},\"id\":\"fe1d8567-8c61-4884-8da6-6a7004a87d55\",\"type\":\"ColumnDataSource\"},{\"attributes\":{\"callback\":null,\"column_names\":[\"x\",\"top\"],\"data\":{\"top\":{\"__ndarray__\":\"ZmZmZmbmJEBSuB6F61EmQIXrUbgeBSpAKVyPwvWoJEBxPQrXo/AhQDMzMzMzsyVA16NwPQrXIUB7FK5H4XofQOxRuB6F6x9AZmZmZmZmHUA=\",\"dtype\":\"float64\",\"shape\":[10]},\"x\":{\"__ndarray__\":\"AAAAAABgn0AAAAAAAGSfQAAAAAAAaJ9AAAAAAABsn0AAAAAAAHCfQAAAAAAAdJ9AAAAAAAB4n0AAAAAAAHyfQAAAAAAAgJ9AAAAAAACEn0A=\",\"dtype\":\"float64\",\"shape\":[10]}}},\"id\":\"24c529cc-dfe6-42e5-8e6c-82146985f5d7\",\"type\":\"ColumnDataSource\"},{\"attributes\":{\"children\":[{\"id\":\"bf378884-c777-46f0-8940-17059d658210\",\"type\":\"Row\"}]},\"id\":\"8f4a24b9-4cc1-4930-9e4f-7a7be3e510b4\",\"type\":\"Column\"},{\"attributes\":{\"data_source\":{\"id\":\"fe1d8567-8c61-4884-8da6-6a7004a87d55\",\"type\":\"ColumnDataSource\"},\"glyph\":{\"id\":\"885ca9c6-c3c4-4c24-81a6-8af62b5c79ac\",\"type\":\"VBar\"},\"hover_glyph\":null,\"muted_glyph\":null,\"nonselection_glyph\":{\"id\":\"ebbe084e-22c5-4866-8004-65d0c9095682\",\"type\":\"VBar\"},\"selection_glyph\":null,\"view\":{\"id\":\"a0d7d404-f2c1-401c-abdb-efe8f2a00522\",\"type\":\"CDSView\"}},\"id\":\"01ff26ae-27b8-475f-ab7e-6cbf948c0abb\",\"type\":\"GlyphRenderer\"},{\"attributes\":{\"fill_color\":{\"value\":\"#f4d341\"},\"line_color\":{\"value\":\"white\"},\"top\":{\"field\":\"top\"},\"width\":{\"value\":0.7},\"x\":{\"field\":\"x\"}},\"id\":\"38141e5a-41e6-44d3-ac3e-28e7b8d9e8d6\",\"type\":\"VBar\"},{\"attributes\":{\"callback\":null},\"id\":\"ac21b59a-767d-48fc-b5b7-c52916e9f201\",\"type\":\"DataRange1d\"},{\"attributes\":{\"fill_alpha\":{\"value\":0.1},\"fill_color\":{\"value\":\"#1f77b4\"},\"line_alpha\":{\"value\":0.1},\"line_color\":{\"value\":\"#1f77b4\"},\"top\":{\"field\":\"top\"},\"width\":{\"value\":0.7},\"x\":{\"field\":\"x\"}},\"id\":\"bd63dc22-5465-46a2-af18-b87709efa384\",\"type\":\"VBar\"},{\"attributes\":{\"plot\":null,\"text\":\"Incidencia\"},\"id\":\"e75ec7a3-3eca-4e2e-9aac-e7c72cbffcf7\",\"type\":\"Title\"},{\"attributes\":{},\"id\":\"2ed2c6a7-6da7-4bc9-a998-5983174add53\",\"type\":\"BasicTickFormatter\"},{\"attributes\":{},\"id\":\"dd25b526-b74f-42d7-a20d-043d5d2fef80\",\"type\":\"BasicTicker\"},{\"attributes\":{\"fill_alpha\":{\"value\":0.1},\"fill_color\":{\"value\":\"#1f77b4\"},\"line_alpha\":{\"value\":0.1},\"line_color\":{\"value\":\"#1f77b4\"},\"top\":{\"field\":\"top\"},\"width\":{\"value\":0.7},\"x\":{\"field\":\"x\"}},\"id\":\"ebbe084e-22c5-4866-8004-65d0c9095682\",\"type\":\"VBar\"},{\"attributes\":{\"plot\":{\"id\":\"c8594c0f-6bc1-423a-9d7e-f271ee6a90d0\",\"subtype\":\"Figure\",\"type\":\"Plot\"},\"ticker\":{\"id\":\"dd25b526-b74f-42d7-a20d-043d5d2fef80\",\"type\":\"BasicTicker\"}},\"id\":\"0cdef2dd-c94a-4d46-b713-26e8e7eab116\",\"type\":\"Grid\"},{\"attributes\":{\"callback\":null,\"column_names\":[\"x\",\"top\"],\"data\":{\"top\":{\"__ndarray__\":\"KVyPwvUo/D+F61G4HoX/P3sUrkfhegJA9ihcj8L1/D9xPQrXo3D5P/YoXI/C9fg/PQrXo3A99j/NzMzMzMz0P3E9CtejcPU/rkfhehSu8z8=\",\"dtype\":\"float64\",\"shape\":[10]},\"x\":{\"__ndarray__\":\"AAAAAABgn0AAAAAAAGSfQAAAAAAAaJ9AAAAAAABsn0AAAAAAAHCfQAAAAAAAdJ9AAAAAAAB4n0AAAAAAAHyfQAAAAAAAgJ9AAAAAAACEn0A=\",\"dtype\":\"float64\",\"shape\":[10]}}},\"id\":\"d8eea622-0ec3-45b6-a144-6d447b904773\",\"type\":\"ColumnDataSource\"},{\"attributes\":{\"below\":[{\"id\":\"1a106b84-1b4b-40d0-bbf9-47d819f29434\",\"type\":\"LinearAxis\"}],\"left\":[{\"id\":\"3ffad828-1d1d-4075-a47a-db46b4ba7ebf\",\"type\":\"LinearAxis\"}],\"plot_height\":250,\"plot_width\":300,\"renderers\":[{\"id\":\"1a106b84-1b4b-40d0-bbf9-47d819f29434\",\"type\":\"LinearAxis\"},{\"id\":\"0cdef2dd-c94a-4d46-b713-26e8e7eab116\",\"type\":\"Grid\"},{\"id\":\"3ffad828-1d1d-4075-a47a-db46b4ba7ebf\",\"type\":\"LinearAxis\"},{\"id\":\"4b2613ae-d293-4c07-9c4d-e2550b7f0eca\",\"type\":\"Grid\"},{\"id\":\"b605cbaa-4ef8-4dac-9b57-36bec14ae95f\",\"type\":\"GlyphRenderer\"}],\"title\":{\"id\":\"e75ec7a3-3eca-4e2e-9aac-e7c72cbffcf7\",\"type\":\"Title\"},\"toolbar\":{\"id\":\"14a4878e-1fd5-498b-b192-5b7eeb134312\",\"type\":\"Toolbar\"},\"toolbar_location\":null,\"x_range\":{\"id\":\"ac21b59a-767d-48fc-b5b7-c52916e9f201\",\"type\":\"DataRange1d\"},\"x_scale\":{\"id\":\"b5d9e2a2-5fc0-43c1-a7f6-ae68d79d199b\",\"type\":\"LinearScale\"},\"y_range\":{\"id\":\"7e93741b-9420-467c-be47-b0a9605431b8\",\"type\":\"DataRange1d\"},\"y_scale\":{\"id\":\"97f2e642-4443-4234-91da-53eb1071ce60\",\"type\":\"LinearScale\"}},\"id\":\"c8594c0f-6bc1-423a-9d7e-f271ee6a90d0\",\"subtype\":\"Figure\",\"type\":\"Plot\"},{\"attributes\":{\"data_source\":{\"id\":\"24c529cc-dfe6-42e5-8e6c-82146985f5d7\",\"type\":\"ColumnDataSource\"},\"glyph\":{\"id\":\"38141e5a-41e6-44d3-ac3e-28e7b8d9e8d6\",\"type\":\"VBar\"},\"hover_glyph\":null,\"muted_glyph\":null,\"nonselection_glyph\":{\"id\":\"bd63dc22-5465-46a2-af18-b87709efa384\",\"type\":\"VBar\"},\"selection_glyph\":null,\"view\":{\"id\":\"57698d09-6fb7-4acc-a7bd-41f997e1cef6\",\"type\":\"CDSView\"}},\"id\":\"b605cbaa-4ef8-4dac-9b57-36bec14ae95f\",\"type\":\"GlyphRenderer\"},{\"attributes\":{},\"id\":\"5f3750ed-2185-48e1-8f50-523c4fce6a95\",\"type\":\"BasicTickFormatter\"},{\"attributes\":{\"below\":[{\"id\":\"5d9351de-52fd-4a55-a848-4f1121df89d5\",\"type\":\"LinearAxis\"}],\"left\":[{\"id\":\"de99f788-184d-40eb-98a8-5cc838dc25f6\",\"type\":\"LinearAxis\"}],\"plot_height\":250,\"plot_width\":300,\"renderers\":[{\"id\":\"5d9351de-52fd-4a55-a848-4f1121df89d5\",\"type\":\"LinearAxis\"},{\"id\":\"60f1a7a9-8399-4739-b7de-56051d08cb3d\",\"type\":\"Grid\"},{\"id\":\"de99f788-184d-40eb-98a8-5cc838dc25f6\",\"type\":\"LinearAxis\"},{\"id\":\"8d845cd7-86ed-48ee-87db-0679f95fc758\",\"type\":\"Grid\"},{\"id\":\"01ff26ae-27b8-475f-ab7e-6cbf948c0abb\",\"type\":\"GlyphRenderer\"}],\"title\":{\"id\":\"61e67926-65b6-4dff-b946-951bf30594f3\",\"type\":\"Title\"},\"toolbar\":{\"id\":\"38d047ba-32a9-440a-8378-209aeca9ec83\",\"type\":\"Toolbar\"},\"toolbar_location\":null,\"x_range\":{\"id\":\"9774cbea-aa9f-4e4a-ba4a-3727e85ee338\",\"type\":\"DataRange1d\"},\"x_scale\":{\"id\":\"ef7ede54-dcce-44b5-8086-df4599ac5c5d\",\"type\":\"LinearScale\"},\"y_range\":{\"id\":\"c269d124-35e5-4a5c-a1d6-a84fdcf8bf85\",\"type\":\"DataRange1d\"},\"y_scale\":{\"id\":\"b119c1a6-a0c0-4150-b3a0-20ff1f9dbb6d\",\"type\":\"LinearScale\"}},\"id\":\"d69d99c9-5a2e-404e-8e41-b0300cd2b43f\",\"subtype\":\"Figure\",\"type\":\"Plot\"},{\"attributes\":{\"formatter\":{\"id\":\"2ed2c6a7-6da7-4bc9-a998-5983174add53\",\"type\":\"BasicTickFormatter\"},\"plot\":{\"id\":\"c8594c0f-6bc1-423a-9d7e-f271ee6a90d0\",\"subtype\":\"Figure\",\"type\":\"Plot\"},\"ticker\":{\"id\":\"dd25b526-b74f-42d7-a20d-043d5d2fef80\",\"type\":\"BasicTicker\"}},\"id\":\"1a106b84-1b4b-40d0-bbf9-47d819f29434\",\"type\":\"LinearAxis\"},{\"attributes\":{\"source\":{\"id\":\"fe1d8567-8c61-4884-8da6-6a7004a87d55\",\"type\":\"ColumnDataSource\"}},\"id\":\"a0d7d404-f2c1-401c-abdb-efe8f2a00522\",\"type\":\"CDSView\"},{\"attributes\":{\"fill_color\":{\"value\":\"#42f4bf\"},\"line_color\":{\"value\":\"white\"},\"top\":{\"field\":\"top\"},\"width\":{\"value\":0.7},\"x\":{\"field\":\"x\"}},\"id\":\"885ca9c6-c3c4-4c24-81a6-8af62b5c79ac\",\"type\":\"VBar\"},{\"attributes\":{},\"id\":\"b5d9e2a2-5fc0-43c1-a7f6-ae68d79d199b\",\"type\":\"LinearScale\"},{\"attributes\":{\"fill_alpha\":{\"value\":0.1},\"fill_color\":{\"value\":\"#1f77b4\"},\"line_alpha\":{\"value\":0.1},\"line_color\":{\"value\":\"#1f77b4\"},\"top\":{\"field\":\"top\"},\"width\":{\"value\":0.7},\"x\":{\"field\":\"x\"}},\"id\":\"dac6110d-95ae-452d-aa31-95b71a1ad5f3\",\"type\":\"VBar\"},{\"attributes\":{\"formatter\":{\"id\":\"1baa930a-a501-459c-b248-936436dd47ca\",\"type\":\"BasicTickFormatter\"},\"plot\":{\"id\":\"d69d99c9-5a2e-404e-8e41-b0300cd2b43f\",\"subtype\":\"Figure\",\"type\":\"Plot\"},\"ticker\":{\"id\":\"c668e95b-d385-478e-8599-1355b222318c\",\"type\":\"BasicTicker\"}},\"id\":\"5d9351de-52fd-4a55-a848-4f1121df89d5\",\"type\":\"LinearAxis\"},{\"attributes\":{\"active_drag\":\"auto\",\"active_inspect\":\"auto\",\"active_scroll\":\"auto\",\"active_tap\":\"auto\"},\"id\":\"14a4878e-1fd5-498b-b192-5b7eeb134312\",\"type\":\"Toolbar\"},{\"attributes\":{},\"id\":\"4e9c3363-c699-4186-afad-0e151d7b0aeb\",\"type\":\"BasicTickFormatter\"},{\"attributes\":{},\"id\":\"97f2e642-4443-4234-91da-53eb1071ce60\",\"type\":\"LinearScale\"},{\"attributes\":{},\"id\":\"0c900c98-501d-4e13-9dd5-42de377db437\",\"type\":\"BasicTickFormatter\"},{\"attributes\":{\"callback\":null},\"id\":\"7e93741b-9420-467c-be47-b0a9605431b8\",\"type\":\"DataRange1d\"},{\"attributes\":{\"fill_color\":{\"value\":\"#f44171\"},\"line_color\":{\"value\":\"white\"},\"top\":{\"field\":\"top\"},\"width\":{\"value\":0.7},\"x\":{\"field\":\"x\"}},\"id\":\"f2b03c0d-2a91-499f-948c-ff755764bdfe\",\"type\":\"VBar\"},{\"attributes\":{\"callback\":null},\"id\":\"c269d124-35e5-4a5c-a1d6-a84fdcf8bf85\",\"type\":\"DataRange1d\"},{\"attributes\":{\"data_source\":{\"id\":\"d8eea622-0ec3-45b6-a144-6d447b904773\",\"type\":\"ColumnDataSource\"},\"glyph\":{\"id\":\"f2b03c0d-2a91-499f-948c-ff755764bdfe\",\"type\":\"VBar\"},\"hover_glyph\":null,\"muted_glyph\":null,\"nonselection_glyph\":{\"id\":\"dac6110d-95ae-452d-aa31-95b71a1ad5f3\",\"type\":\"VBar\"},\"selection_glyph\":null,\"view\":{\"id\":\"8d85ec2b-d556-41d8-bc1e-7eff54f5af4e\",\"type\":\"CDSView\"}},\"id\":\"69fb59ec-dc5c-45cb-9149-f0954f7231cd\",\"type\":\"GlyphRenderer\"},{\"attributes\":{\"plot\":null,\"text\":\"Severidad\"},\"id\":\"f4f4882d-1b9a-4f37-8502-da7e96235c30\",\"type\":\"Title\"},{\"attributes\":{\"plot\":null,\"text\":\"Brecha\"},\"id\":\"61e67926-65b6-4dff-b946-951bf30594f3\",\"type\":\"Title\"},{\"attributes\":{\"source\":{\"id\":\"d8eea622-0ec3-45b6-a144-6d447b904773\",\"type\":\"ColumnDataSource\"}},\"id\":\"8d85ec2b-d556-41d8-bc1e-7eff54f5af4e\",\"type\":\"CDSView\"},{\"attributes\":{\"formatter\":{\"id\":\"5f3750ed-2185-48e1-8f50-523c4fce6a95\",\"type\":\"BasicTickFormatter\"},\"plot\":{\"id\":\"c8594c0f-6bc1-423a-9d7e-f271ee6a90d0\",\"subtype\":\"Figure\",\"type\":\"Plot\"},\"ticker\":{\"id\":\"bbfc036c-40f1-4694-add4-b6b9486c3d85\",\"type\":\"BasicTicker\"}},\"id\":\"3ffad828-1d1d-4075-a47a-db46b4ba7ebf\",\"type\":\"LinearAxis\"},{\"attributes\":{\"callback\":null},\"id\":\"9774cbea-aa9f-4e4a-ba4a-3727e85ee338\",\"type\":\"DataRange1d\"},{\"attributes\":{},\"id\":\"19424813-973c-42a1-bbc2-0dccf2ef2d3a\",\"type\":\"BasicTickFormatter\"},{\"attributes\":{\"dimension\":1,\"plot\":{\"id\":\"c8594c0f-6bc1-423a-9d7e-f271ee6a90d0\",\"subtype\":\"Figure\",\"type\":\"Plot\"},\"ticker\":{\"id\":\"bbfc036c-40f1-4694-add4-b6b9486c3d85\",\"type\":\"BasicTicker\"}},\"id\":\"4b2613ae-d293-4c07-9c4d-e2550b7f0eca\",\"type\":\"Grid\"},{\"attributes\":{\"below\":[{\"id\":\"def88fe3-9c5a-4995-abd2-f8aa9b0d338f\",\"type\":\"LinearAxis\"}],\"left\":[{\"id\":\"381126a4-f68c-4c9f-a42e-7f2cb490911b\",\"type\":\"LinearAxis\"}],\"plot_height\":250,\"plot_width\":300,\"renderers\":[{\"id\":\"def88fe3-9c5a-4995-abd2-f8aa9b0d338f\",\"type\":\"LinearAxis\"},{\"id\":\"b104ec5b-7518-4241-92e9-a9a613b3fe09\",\"type\":\"Grid\"},{\"id\":\"381126a4-f68c-4c9f-a42e-7f2cb490911b\",\"type\":\"LinearAxis\"},{\"id\":\"d6558b8d-59c4-4a9b-8b42-f2811210d863\",\"type\":\"Grid\"},{\"id\":\"69fb59ec-dc5c-45cb-9149-f0954f7231cd\",\"type\":\"GlyphRenderer\"}],\"title\":{\"id\":\"f4f4882d-1b9a-4f37-8502-da7e96235c30\",\"type\":\"Title\"},\"toolbar\":{\"id\":\"662b0515-6583-4850-bd3f-7188e497f7a9\",\"type\":\"Toolbar\"},\"toolbar_location\":null,\"x_range\":{\"id\":\"ecbf3a8e-b3c7-4593-bfae-aa769551bfee\",\"type\":\"DataRange1d\"},\"x_scale\":{\"id\":\"c0878ea0-e747-4a3a-8518-2e69df592061\",\"type\":\"LinearScale\"},\"y_range\":{\"id\":\"cebd8b28-f6a8-4e03-9c48-3ad3527e3b15\",\"type\":\"DataRange1d\"},\"y_scale\":{\"id\":\"b2744205-fbfc-4d4a-a853-3286783cd797\",\"type\":\"LinearScale\"}},\"id\":\"9b3d47bc-51cb-4946-8418-2b48244de78e\",\"subtype\":\"Figure\",\"type\":\"Plot\"},{\"attributes\":{\"plot\":{\"id\":\"d69d99c9-5a2e-404e-8e41-b0300cd2b43f\",\"subtype\":\"Figure\",\"type\":\"Plot\"},\"ticker\":{\"id\":\"c668e95b-d385-478e-8599-1355b222318c\",\"type\":\"BasicTicker\"}},\"id\":\"60f1a7a9-8399-4739-b7de-56051d08cb3d\",\"type\":\"Grid\"},{\"attributes\":{},\"id\":\"bbfc036c-40f1-4694-add4-b6b9486c3d85\",\"type\":\"BasicTicker\"},{\"attributes\":{},\"id\":\"ef7ede54-dcce-44b5-8086-df4599ac5c5d\",\"type\":\"LinearScale\"},{\"attributes\":{},\"id\":\"c668e95b-d385-478e-8599-1355b222318c\",\"type\":\"BasicTicker\"},{\"attributes\":{\"active_drag\":\"auto\",\"active_inspect\":\"auto\",\"active_scroll\":\"auto\",\"active_tap\":\"auto\"},\"id\":\"38d047ba-32a9-440a-8378-209aeca9ec83\",\"type\":\"Toolbar\"},{\"attributes\":{},\"id\":\"b119c1a6-a0c0-4150-b3a0-20ff1f9dbb6d\",\"type\":\"LinearScale\"},{\"attributes\":{\"formatter\":{\"id\":\"0c900c98-501d-4e13-9dd5-42de377db437\",\"type\":\"BasicTickFormatter\"},\"plot\":{\"id\":\"d69d99c9-5a2e-404e-8e41-b0300cd2b43f\",\"subtype\":\"Figure\",\"type\":\"Plot\"},\"ticker\":{\"id\":\"fc89c1c9-b40f-455c-8c80-12767fad44a9\",\"type\":\"BasicTicker\"}},\"id\":\"de99f788-184d-40eb-98a8-5cc838dc25f6\",\"type\":\"LinearAxis\"},{\"attributes\":{},\"id\":\"fc89c1c9-b40f-455c-8c80-12767fad44a9\",\"type\":\"BasicTicker\"},{\"attributes\":{\"dimension\":1,\"plot\":{\"id\":\"d69d99c9-5a2e-404e-8e41-b0300cd2b43f\",\"subtype\":\"Figure\",\"type\":\"Plot\"},\"ticker\":{\"id\":\"fc89c1c9-b40f-455c-8c80-12767fad44a9\",\"type\":\"BasicTicker\"}},\"id\":\"8d845cd7-86ed-48ee-87db-0679f95fc758\",\"type\":\"Grid\"},{\"attributes\":{},\"id\":\"25d37aee-217d-4362-bdfa-3ff4edb51b1e\",\"type\":\"BasicTicker\"},{\"attributes\":{\"active_drag\":\"auto\",\"active_inspect\":\"auto\",\"active_scroll\":\"auto\",\"active_tap\":\"auto\"},\"id\":\"662b0515-6583-4850-bd3f-7188e497f7a9\",\"type\":\"Toolbar\"},{\"attributes\":{\"formatter\":{\"id\":\"4e9c3363-c699-4186-afad-0e151d7b0aeb\",\"type\":\"BasicTickFormatter\"},\"plot\":{\"id\":\"9b3d47bc-51cb-4946-8418-2b48244de78e\",\"subtype\":\"Figure\",\"type\":\"Plot\"},\"ticker\":{\"id\":\"2407a6f4-9e2b-4b35-bebf-95478ef4baf8\",\"type\":\"BasicTicker\"}},\"id\":\"def88fe3-9c5a-4995-abd2-f8aa9b0d338f\",\"type\":\"LinearAxis\"},{\"attributes\":{\"callback\":null},\"id\":\"ecbf3a8e-b3c7-4593-bfae-aa769551bfee\",\"type\":\"DataRange1d\"},{\"attributes\":{\"children\":[{\"id\":\"c8594c0f-6bc1-423a-9d7e-f271ee6a90d0\",\"subtype\":\"Figure\",\"type\":\"Plot\"},{\"id\":\"d69d99c9-5a2e-404e-8e41-b0300cd2b43f\",\"subtype\":\"Figure\",\"type\":\"Plot\"},{\"id\":\"9b3d47bc-51cb-4946-8418-2b48244de78e\",\"subtype\":\"Figure\",\"type\":\"Plot\"}]},\"id\":\"bf378884-c777-46f0-8940-17059d658210\",\"type\":\"Row\"},{\"attributes\":{},\"id\":\"c0878ea0-e747-4a3a-8518-2e69df592061\",\"type\":\"LinearScale\"},{\"attributes\":{},\"id\":\"b2744205-fbfc-4d4a-a853-3286783cd797\",\"type\":\"LinearScale\"},{\"attributes\":{\"callback\":null},\"id\":\"cebd8b28-f6a8-4e03-9c48-3ad3527e3b15\",\"type\":\"DataRange1d\"},{\"attributes\":{\"formatter\":{\"id\":\"19424813-973c-42a1-bbc2-0dccf2ef2d3a\",\"type\":\"BasicTickFormatter\"},\"plot\":{\"id\":\"9b3d47bc-51cb-4946-8418-2b48244de78e\",\"subtype\":\"Figure\",\"type\":\"Plot\"},\"ticker\":{\"id\":\"25d37aee-217d-4362-bdfa-3ff4edb51b1e\",\"type\":\"BasicTicker\"}},\"id\":\"381126a4-f68c-4c9f-a42e-7f2cb490911b\",\"type\":\"LinearAxis\"},{\"attributes\":{\"plot\":{\"id\":\"9b3d47bc-51cb-4946-8418-2b48244de78e\",\"subtype\":\"Figure\",\"type\":\"Plot\"},\"ticker\":{\"id\":\"2407a6f4-9e2b-4b35-bebf-95478ef4baf8\",\"type\":\"BasicTicker\"}},\"id\":\"b104ec5b-7518-4241-92e9-a9a613b3fe09\",\"type\":\"Grid\"},{\"attributes\":{},\"id\":\"2407a6f4-9e2b-4b35-bebf-95478ef4baf8\",\"type\":\"BasicTicker\"},{\"attributes\":{\"dimension\":1,\"plot\":{\"id\":\"9b3d47bc-51cb-4946-8418-2b48244de78e\",\"subtype\":\"Figure\",\"type\":\"Plot\"},\"ticker\":{\"id\":\"25d37aee-217d-4362-bdfa-3ff4edb51b1e\",\"type\":\"BasicTicker\"}},\"id\":\"d6558b8d-59c4-4a9b-8b42-f2811210d863\",\"type\":\"Grid\"},{\"attributes\":{\"source\":{\"id\":\"24c529cc-dfe6-42e5-8e6c-82146985f5d7\",\"type\":\"ColumnDataSource\"}},\"id\":\"57698d09-6fb7-4acc-a7bd-41f997e1cef6\",\"type\":\"CDSView\"},{\"attributes\":{\"children\":[{\"id\":\"1b537c64-4bae-4f86-ab49-34ee9594cb1a\",\"type\":\"ToolbarBox\"},{\"id\":\"8f4a24b9-4cc1-4930-9e4f-7a7be3e510b4\",\"type\":\"Column\"}]},\"id\":\"a52cc3ef-65c1-439a-89c0-506646d614e8\",\"type\":\"Column\"},{\"attributes\":{\"sizing_mode\":\"scale_width\",\"toolbar_location\":\"above\"},\"id\":\"1b537c64-4bae-4f86-ab49-34ee9594cb1a\",\"type\":\"ToolbarBox\"}],\"root_ids\":[\"a52cc3ef-65c1-439a-89c0-506646d614e8\"]},\"title\":\"Bokeh Application\",\"version\":\"0.12.10\"}};\n",
       "    var render_items = [{\"docid\":\"a9ce161b-3226-48ef-8108-4c8615f09f31\",\"elementid\":\"09fba4dc-ab03-4b43-96f6-48906469bd4e\",\"modelid\":\"a52cc3ef-65c1-439a-89c0-506646d614e8\"}];\n",
       "\n",
       "    root.Bokeh.embed.embed_items(docs_json, render_items);\n",
       "  }\n",
       "\n",
       "  if (root.Bokeh !== undefined) {\n",
       "    embed_document(root);\n",
       "  } else {\n",
       "    var attempts = 0;\n",
       "    var timer = setInterval(function(root) {\n",
       "      if (root.Bokeh !== undefined) {\n",
       "        embed_document(root);\n",
       "        clearInterval(timer);\n",
       "      }\n",
       "      attempts++;\n",
       "      if (attempts > 100) {\n",
       "        console.log(\"Bokeh: ERROR: Unable to embed document because BokehJS library is missing\")\n",
       "        clearInterval(timer);\n",
       "      }\n",
       "    }, 10, root)\n",
       "  }\n",
       "})(window);"
      ],
      "application/vnd.bokehjs_exec.v0+json": ""
     },
     "metadata": {
      "application/vnd.bokehjs_exec.v0+json": {
       "id": "a52cc3ef-65c1-439a-89c0-506646d614e8"
      }
     },
     "output_type": "display_data"
    }
   ],
   "source": [
    "graph_bar = gridplot([[graph_bar_1, graph_bar_2, graph_bar_3]]) # agrupamos nuestas graficas\n",
    "show(graph_bar) # Mostramos los resultados"
   ]
  },
  {
   "cell_type": "code",
   "execution_count": 61,
   "metadata": {},
   "outputs": [
    {
     "ename": "NameError",
     "evalue": "name 'CustomJS' is not defined",
     "output_type": "error",
     "traceback": [
      "\u001b[1;31m---------------------------------------------------------------------------\u001b[0m",
      "\u001b[1;31mNameError\u001b[0m                                 Traceback (most recent call last)",
      "\u001b[1;32m<ipython-input-61-ea815eb7f74c>\u001b[0m in \u001b[0;36m<module>\u001b[1;34m()\u001b[0m\n\u001b[0;32m     31\u001b[0m )\n\u001b[0;32m     32\u001b[0m \u001b[1;33m\u001b[0m\u001b[0m\n\u001b[1;32m---> 33\u001b[1;33m callback = CustomJS(args=dict(source=source), code=\"\"\"\n\u001b[0m\u001b[0;32m     34\u001b[0m     \u001b[0mvar\u001b[0m \u001b[0mdata\u001b[0m \u001b[1;33m=\u001b[0m \u001b[0msource\u001b[0m\u001b[1;33m.\u001b[0m\u001b[0mdata\u001b[0m\u001b[1;33m;\u001b[0m\u001b[1;33m\u001b[0m\u001b[0m\n\u001b[0;32m     35\u001b[0m     \u001b[0mvar\u001b[0m \u001b[0mA\u001b[0m \u001b[1;33m=\u001b[0m \u001b[0mamp\u001b[0m\u001b[1;33m.\u001b[0m\u001b[0mvalue\u001b[0m\u001b[1;33m;\u001b[0m\u001b[1;33m\u001b[0m\u001b[0m\n",
      "\u001b[1;31mNameError\u001b[0m: name 'CustomJS' is not defined"
     ]
    }
   ],
   "source": [
    "from bokeh.plotting import *\n",
    "from numpy import pi\n",
    "\n",
    "graph_pie_1 = figure(\n",
    "    title='Incidencia', # titulo de esta grafica en particular\n",
    "    x_range=(-1,1),\n",
    "    y_range=(-1,1),\n",
    "    plot_width=300, plot_height=300, # Tamaño\n",
    "    tools='' # Herramientas de bokeh adicionales\n",
    ")\n",
    "graph_pie_2 = figure(title='Brecha', x_range=(-1,1), y_range=(-1,1), plot_width=300, plot_height=300,tools='')\n",
    "graph_pie_3 = figure(title='Severidad', x_range=(-1,1), y_range=(-1,1), plot_width=300, plot_height=300, tools='')\n",
    "\n",
    "graph_pie_1.wedge(\n",
    "    x=0, y=0, radius=0.8, \n",
    "    start_angle=[0.0, data.Incidencia[1]*2*pi/100], \n",
    "    end_angle=[data.Incidencia[1]*2*pi, 2*pi], \n",
    "    color=['#f4d341','#686060']\n",
    ")\n",
    "graph_pie_2.wedge(\n",
    "    x=0, y=0, radius=0.8, \n",
    "    start_angle=[0.0, data.Brecha[1]*2*pi/100], \n",
    "    end_angle=[data.Brecha[1]*2*pi, 2*pi], \n",
    "    color=['#42f4bf','#f4d341']\n",
    ")\n",
    "graph_pie_3.wedge(\n",
    "    x=0, y=0, radius=0.8, \n",
    "    start_angle=[0.0, data.Severidad[1]*2*pi/100], \n",
    "    end_angle=[data.Severidad[1]*2*pi, 2*pi], \n",
    "    color=['#f44171','#42f4bf']\n",
    ")\n",
    "\n",
    "callback = CustomJS(args=dict(source=source), code=\"\"\"\n",
    "    var data = data;\n",
    "    var A = amp.value;\n",
    "    var k = freq.value;\n",
    "    var phi = phase.value;\n",
    "    var B = offset.value;\n",
    "    x = data['x']\n",
    "    y = data['y']\n",
    "    for (i = 0; i < x.length; i++) {\n",
    "        y[i] = B + A*Math.sin(k*x[i]+phi);\n",
    "    }\n",
    "    source.change.emit();\n",
    "\"\"\")\n",
    "\n",
    "amp_slider = Slider(start=0.1, end=10, value=1, step=.1,\n",
    "                    title=\"year\", callback=callback)\n",
    "\n",
    "graph_pie = gridplot([[graph_pie_1, graph_pie_2, graph_pie_3]]) # agrupamos nuestas graficas\n",
    "show(graph_pie) # Mostramos los resultados"
   ]
  }
 ],
 "metadata": {
  "kernelspec": {
   "display_name": "Python 3",
   "language": "python",
   "name": "python3"
  },
  "language_info": {
   "codemirror_mode": {
    "name": "ipython",
    "version": 3
   },
   "file_extension": ".py",
   "mimetype": "text/x-python",
   "name": "python",
   "nbconvert_exporter": "python",
   "pygments_lexer": "ipython3",
   "version": "3.6.3"
  }
 },
 "nbformat": 4,
 "nbformat_minor": 2
}
