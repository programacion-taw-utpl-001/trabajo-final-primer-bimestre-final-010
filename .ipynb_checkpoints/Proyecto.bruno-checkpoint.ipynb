{
 "cells": [
  {
   "cell_type": "markdown",
   "metadata": {},
   "source": [
    "# Manejo y Visualización de Datos con Python"
   ]
  },
  {
   "cell_type": "markdown",
   "metadata": {},
   "source": [
    "Para este trabajo se utilizo"
   ]
  },
  {
   "cell_type": "markdown",
   "metadata": {},
   "source": [
    " - **pandas**: Un módulo que proporciona estructuras de datos y herramientas de análisis de datos de alto rendimiento y fácil de usar."
   ]
  },
  {
   "cell_type": "markdown",
   "metadata": {},
   "source": [
    "## pandas\n",
    "\n",
    "pandas es un paquete de Python que proporciona estructuras de datos rápidas, flexibles y expresivas diseñadas para trabajar con datos relacionales o etiquetados. Es un componente fundamental de alto nivel para hacer un análisis práctico y real de datos en Python."
   ]
  },
  {
   "cell_type": "code",
   "execution_count": 1,
   "metadata": {},
   "outputs": [],
   "source": [
    "import pandas as pd"
   ]
  },
  {
   "cell_type": "markdown",
   "metadata": {},
   "source": [
    "¿Cómo hacemos para que este conjunto de datos se convierta en una estructura de datos pandas?\n",
    "pandas hace que sea muy fácil importar datos en varios formatos con su conjunto de funciones de importación:"
   ]
  },
  {
   "cell_type": "code",
   "execution_count": 2,
   "metadata": {},
   "outputs": [
    {
     "data": {
      "text/plain": [
       "['read_clipboard',\n",
       " 'read_csv',\n",
       " 'read_excel',\n",
       " 'read_feather',\n",
       " 'read_fwf',\n",
       " 'read_gbq',\n",
       " 'read_hdf',\n",
       " 'read_html',\n",
       " 'read_json',\n",
       " 'read_msgpack',\n",
       " 'read_parquet',\n",
       " 'read_pickle',\n",
       " 'read_sas',\n",
       " 'read_sql',\n",
       " 'read_sql_query',\n",
       " 'read_sql_table',\n",
       " 'read_stata',\n",
       " 'read_table']"
      ]
     },
     "execution_count": 2,
     "metadata": {},
     "output_type": "execute_result"
    }
   ],
   "source": [
    "# esta es un arreglo comprimido que contiene formatos que puede leer pandas\n",
    "[formatos for formatos in dir(pd) if formatos.startswith('read_')]"
   ]
  },
  {
   "cell_type": "markdown",
   "metadata": {},
   "source": [
    "Nuestro conjunto de datos está en formato `.csv`, por lo que usaremos `read_csv` de pandas.\n",
    "\n",
    "**Los datos que trabajaremos son del sitio web Ecuador en cifras, sobre la probresa en ciudades como Quito, Guayaquil, y otras del Ecuador**"
   ]
  },
  {
   "cell_type": "code",
   "execution_count": 3,
   "metadata": {},
   "outputs": [],
   "source": [
    "# guardamos nuestra tabla en una variable data, despues de haver sido leida por pandas\n",
    "raw_data = pd.read_csv(\n",
    "    './assets/datosPobreza.csv', # direccion donde esta nuestra data\n",
    "    sep=';', # separador de datos para ser leidos por pandas\n",
    "    decimal=\",\" # el separador, o sino nuestros numeros seran tratados como strings si contienen \"comas\"\n",
    ")"
   ]
  },
  {
   "cell_type": "markdown",
   "metadata": {},
   "source": [
    "`read_csv` devuelve un `DataFrame`, una estructura tabular de datos proporcionada por pandas."
   ]
  },
  {
   "cell_type": "code",
   "execution_count": 4,
   "metadata": {},
   "outputs": [
    {
     "data": {
      "text/plain": [
       "pandas.core.frame.DataFrame"
      ]
     },
     "execution_count": 4,
     "metadata": {},
     "output_type": "execute_result"
    }
   ],
   "source": [
    "type(raw_data)"
   ]
  },
  {
   "cell_type": "markdown",
   "metadata": {},
   "source": [
    "Un `DataFrame` está dotado de varios atributos y métodos útiles para explorar los datos."
   ]
  },
  {
   "cell_type": "markdown",
   "metadata": {},
   "source": [
    "Con la funcion `head()` sobre nuestro `DataFrame` podemos mostrar los primeras filas de nuestra data, para no presentar todas las filas. "
   ]
  },
  {
   "cell_type": "code",
   "execution_count": 5,
   "metadata": {},
   "outputs": [
    {
     "data": {
      "text/html": [
       "<div>\n",
       "<style scoped>\n",
       "    .dataframe tbody tr th:only-of-type {\n",
       "        vertical-align: middle;\n",
       "    }\n",
       "\n",
       "    .dataframe tbody tr th {\n",
       "        vertical-align: top;\n",
       "    }\n",
       "\n",
       "    .dataframe thead th {\n",
       "        text-align: right;\n",
       "    }\n",
       "</style>\n",
       "<table border=\"1\" class=\"dataframe\">\n",
       "  <thead>\n",
       "    <tr style=\"text-align: right;\">\n",
       "      <th></th>\n",
       "      <th>Período</th>\n",
       "      <th>Anios</th>\n",
       "      <th>Quito</th>\n",
       "      <th>Quito.1</th>\n",
       "      <th>Quito.2</th>\n",
       "      <th>Guayaquil</th>\n",
       "      <th>Guayaquil.1</th>\n",
       "      <th>Guayaquil.2</th>\n",
       "      <th>Cuenca</th>\n",
       "      <th>Cuenca.1</th>\n",
       "      <th>Cuenca.2</th>\n",
       "      <th>Machala</th>\n",
       "      <th>Machala.1</th>\n",
       "      <th>Machala.2</th>\n",
       "      <th>Ambato</th>\n",
       "      <th>Ambato.1</th>\n",
       "      <th>Ambato.2</th>\n",
       "    </tr>\n",
       "  </thead>\n",
       "  <tbody>\n",
       "    <tr>\n",
       "      <th>0</th>\n",
       "      <td>NaN</td>\n",
       "      <td>NaN</td>\n",
       "      <td>NaN</td>\n",
       "      <td>NaN</td>\n",
       "      <td>NaN</td>\n",
       "      <td>NaN</td>\n",
       "      <td>NaN</td>\n",
       "      <td>NaN</td>\n",
       "      <td>NaN</td>\n",
       "      <td>NaN</td>\n",
       "      <td>NaN</td>\n",
       "      <td>NaN</td>\n",
       "      <td>NaN</td>\n",
       "      <td>NaN</td>\n",
       "      <td>NaN</td>\n",
       "      <td>NaN</td>\n",
       "      <td>NaN</td>\n",
       "    </tr>\n",
       "    <tr>\n",
       "      <th>1</th>\n",
       "      <td>Marzo</td>\n",
       "      <td>2008.0</td>\n",
       "      <td>10.45</td>\n",
       "      <td>3.32</td>\n",
       "      <td>1.76</td>\n",
       "      <td>22.06</td>\n",
       "      <td>6.38</td>\n",
       "      <td>2.87</td>\n",
       "      <td>11.68</td>\n",
       "      <td>3.74</td>\n",
       "      <td>1.88</td>\n",
       "      <td>20.76</td>\n",
       "      <td>6.43</td>\n",
       "      <td>2.82</td>\n",
       "      <td>21.20</td>\n",
       "      <td>6.38</td>\n",
       "      <td>3.11</td>\n",
       "    </tr>\n",
       "    <tr>\n",
       "      <th>2</th>\n",
       "      <td>Marzo</td>\n",
       "      <td>2009.0</td>\n",
       "      <td>11.16</td>\n",
       "      <td>3.71</td>\n",
       "      <td>1.97</td>\n",
       "      <td>24.28</td>\n",
       "      <td>7.50</td>\n",
       "      <td>3.26</td>\n",
       "      <td>10.91</td>\n",
       "      <td>3.31</td>\n",
       "      <td>1.51</td>\n",
       "      <td>20.76</td>\n",
       "      <td>6.32</td>\n",
       "      <td>2.94</td>\n",
       "      <td>17.55</td>\n",
       "      <td>5.81</td>\n",
       "      <td>2.99</td>\n",
       "    </tr>\n",
       "    <tr>\n",
       "      <th>3</th>\n",
       "      <td>Marzo</td>\n",
       "      <td>2010.0</td>\n",
       "      <td>13.01</td>\n",
       "      <td>4.34</td>\n",
       "      <td>2.31</td>\n",
       "      <td>20.80</td>\n",
       "      <td>5.82</td>\n",
       "      <td>2.37</td>\n",
       "      <td>13.78</td>\n",
       "      <td>3.80</td>\n",
       "      <td>1.60</td>\n",
       "      <td>15.54</td>\n",
       "      <td>4.20</td>\n",
       "      <td>1.77</td>\n",
       "      <td>11.63</td>\n",
       "      <td>3.47</td>\n",
       "      <td>1.47</td>\n",
       "    </tr>\n",
       "    <tr>\n",
       "      <th>4</th>\n",
       "      <td>Marzo</td>\n",
       "      <td>2011.0</td>\n",
       "      <td>10.33</td>\n",
       "      <td>3.34</td>\n",
       "      <td>1.81</td>\n",
       "      <td>19.21</td>\n",
       "      <td>4.99</td>\n",
       "      <td>1.99</td>\n",
       "      <td>12.39</td>\n",
       "      <td>4.13</td>\n",
       "      <td>2.20</td>\n",
       "      <td>14.76</td>\n",
       "      <td>4.07</td>\n",
       "      <td>1.62</td>\n",
       "      <td>10.58</td>\n",
       "      <td>2.68</td>\n",
       "      <td>1.02</td>\n",
       "    </tr>\n",
       "  </tbody>\n",
       "</table>\n",
       "</div>"
      ],
      "text/plain": [
       "  Período   Anios  Quito  Quito.1  Quito.2  Guayaquil  Guayaquil.1  \\\n",
       "0     NaN     NaN    NaN      NaN      NaN        NaN          NaN   \n",
       "1   Marzo  2008.0  10.45     3.32     1.76      22.06         6.38   \n",
       "2   Marzo  2009.0  11.16     3.71     1.97      24.28         7.50   \n",
       "3   Marzo  2010.0  13.01     4.34     2.31      20.80         5.82   \n",
       "4   Marzo  2011.0  10.33     3.34     1.81      19.21         4.99   \n",
       "\n",
       "   Guayaquil.2  Cuenca  Cuenca.1  Cuenca.2  Machala  Machala.1  Machala.2  \\\n",
       "0          NaN     NaN       NaN       NaN      NaN        NaN        NaN   \n",
       "1         2.87   11.68      3.74      1.88    20.76       6.43       2.82   \n",
       "2         3.26   10.91      3.31      1.51    20.76       6.32       2.94   \n",
       "3         2.37   13.78      3.80      1.60    15.54       4.20       1.77   \n",
       "4         1.99   12.39      4.13      2.20    14.76       4.07       1.62   \n",
       "\n",
       "   Ambato  Ambato.1  Ambato.2  \n",
       "0     NaN       NaN       NaN  \n",
       "1   21.20      6.38      3.11  \n",
       "2   17.55      5.81      2.99  \n",
       "3   11.63      3.47      1.47  \n",
       "4   10.58      2.68      1.02  "
      ]
     },
     "execution_count": 5,
     "metadata": {},
     "output_type": "execute_result"
    }
   ],
   "source": [
    "raw_data.head()"
   ]
  },
  {
   "cell_type": "markdown",
   "metadata": {},
   "source": [
    "Con la funcion `[1:]` eliminamos la primera fila, ya que no son parte de los datos que usaremos"
   ]
  },
  {
   "cell_type": "code",
   "execution_count": 6,
   "metadata": {},
   "outputs": [],
   "source": [
    "raw_data = raw_data[1:]"
   ]
  },
  {
   "cell_type": "code",
   "execution_count": 7,
   "metadata": {},
   "outputs": [
    {
     "data": {
      "text/plain": [
       "(10, 17)"
      ]
     },
     "execution_count": 7,
     "metadata": {},
     "output_type": "execute_result"
    }
   ],
   "source": [
    "raw_data.shape  # numeros de campos de nuestra data"
   ]
  },
  {
   "cell_type": "markdown",
   "metadata": {},
   "source": [
    "Un `DataFrame` se compone de dos componentes principales; \n",
    " - Los datos mismos, que se pueden extraer a través del atributo de valores:"
   ]
  },
  {
   "cell_type": "code",
   "execution_count": 8,
   "metadata": {},
   "outputs": [
    {
     "data": {
      "text/plain": [
       "array([['Marzo', 2008.0, 10.45, 3.32, 1.76, 22.06, 6.38, 2.87, 11.68, 3.74,\n",
       "        1.88, 20.76, 6.43, 2.82, 21.2, 6.38, 3.11],\n",
       "       ['Marzo', 2009.0, 11.16, 3.71, 1.97, 24.28, 7.5, 3.26, 10.91, 3.31,\n",
       "        1.51, 20.76, 6.32, 2.94, 17.55, 5.81, 2.99],\n",
       "       ['Marzo', 2010.0, 13.01, 4.34, 2.31, 20.8, 5.82, 2.37, 13.78, 3.8,\n",
       "        1.6, 15.54, 4.2, 1.77, 11.63, 3.47, 1.47],\n",
       "       ['Marzo', 2011.0, 10.33, 3.34, 1.81, 19.21, 4.99, 1.99, 12.39, 4.13,\n",
       "        2.2, 14.76, 4.07, 1.62, 10.58, 2.68, 1.02],\n",
       "       ['Marzo', 2012.0, 8.97, 3.29, 1.59, 11.04, 2.75, 1.04, 9.72, 2.92,\n",
       "        1.33, 9.51, 1.91, 0.62, 8.04, 1.97, 0.76],\n",
       "       ['Marzo', 2013.0, 10.85, 3.48, 1.56, 12.77, 3.58, 1.6, 9.17, 2.47,\n",
       "        1.01, 11.98, 2.48, 0.76, 10.54, 3.71, 2.01],\n",
       "       ['Marzo', 2014.0, 8.92, 2.78, 1.39, 11.69, 3.07, 1.2, 4.67, 1.65,\n",
       "        0.87, 13.71, 3.84, 1.54, 12.81, 3.15, 1.31],\n",
       "       ['Marzo', 2015.0, 7.87, 2.59, 1.3, 7.69, 1.84, 0.68, 5.32, 1.24,\n",
       "        0.49, 15.09, 4.2, 1.81, 8.42, 2.9, 1.24],\n",
       "       ['Marzo', 2016.0, 7.98, 2.63, 1.34, 8.67, 2.52, 0.97, 7.83, 2.55,\n",
       "        1.17, 13.77, 3.88, 1.76, 7.77, 2.49, 1.23],\n",
       "       ['Marzo', 2017.0, 7.35, 2.4, 1.23, 10.98, 2.67, 1.11, 7.85, 2.89,\n",
       "        1.54, 16.76, 4.51, 1.98, 9.74, 3.06, 1.64]], dtype=object)"
      ]
     },
     "execution_count": 8,
     "metadata": {},
     "output_type": "execute_result"
    }
   ],
   "source": [
    "raw_data.values"
   ]
  },
  {
   "cell_type": "markdown",
   "metadata": {},
   "source": [
    " - Conjunto de índices, que son esencialmente etiquetas para las filas y columnas del DataFrame."
   ]
  },
  {
   "cell_type": "code",
   "execution_count": 9,
   "metadata": {},
   "outputs": [
    {
     "data": {
      "text/plain": [
       "RangeIndex(start=1, stop=11, step=1)"
      ]
     },
     "execution_count": 9,
     "metadata": {},
     "output_type": "execute_result"
    }
   ],
   "source": [
    "raw_data.index"
   ]
  },
  {
   "cell_type": "code",
   "execution_count": 10,
   "metadata": {},
   "outputs": [
    {
     "data": {
      "text/plain": [
       "Index(['Período', 'Anios', 'Quito', 'Quito.1', 'Quito.2', 'Guayaquil',\n",
       "       'Guayaquil.1', 'Guayaquil.2', 'Cuenca', 'Cuenca.1', 'Cuenca.2',\n",
       "       'Machala', 'Machala.1', 'Machala.2', 'Ambato', 'Ambato.1', 'Ambato.2'],\n",
       "      dtype='object')"
      ]
     },
     "execution_count": 10,
     "metadata": {},
     "output_type": "execute_result"
    }
   ],
   "source": [
    "raw_data.columns"
   ]
  },
  {
   "cell_type": "markdown",
   "metadata": {},
   "source": [
    "Pero, un `índice` es más que un conjunto de etiquetas. Es importante destacar que asegura la **alineación de datos** cuando se agregan datos o se combinan estructuras de datos."
   ]
  },
  {
   "cell_type": "markdown",
   "metadata": {},
   "source": [
    "De hecho, podemos especificar un índice más apropiado para nuestros datos. El campo Año aquí es un índice único para los valores de análisis correspondientes.\n",
    "\n",
    "`set_index` nos permite convertir cualquier columna (o matriz externa) que elijamos en el índice de fila."
   ]
  },
  {
   "cell_type": "code",
   "execution_count": 11,
   "metadata": {},
   "outputs": [
    {
     "data": {
      "text/html": [
       "<div>\n",
       "<style scoped>\n",
       "    .dataframe tbody tr th:only-of-type {\n",
       "        vertical-align: middle;\n",
       "    }\n",
       "\n",
       "    .dataframe tbody tr th {\n",
       "        vertical-align: top;\n",
       "    }\n",
       "\n",
       "    .dataframe thead th {\n",
       "        text-align: right;\n",
       "    }\n",
       "</style>\n",
       "<table border=\"1\" class=\"dataframe\">\n",
       "  <thead>\n",
       "    <tr style=\"text-align: right;\">\n",
       "      <th></th>\n",
       "      <th>Período</th>\n",
       "      <th>Quito</th>\n",
       "      <th>Quito.1</th>\n",
       "      <th>Quito.2</th>\n",
       "      <th>Guayaquil</th>\n",
       "      <th>Guayaquil.1</th>\n",
       "      <th>Guayaquil.2</th>\n",
       "      <th>Cuenca</th>\n",
       "      <th>Cuenca.1</th>\n",
       "      <th>Cuenca.2</th>\n",
       "      <th>Machala</th>\n",
       "      <th>Machala.1</th>\n",
       "      <th>Machala.2</th>\n",
       "      <th>Ambato</th>\n",
       "      <th>Ambato.1</th>\n",
       "      <th>Ambato.2</th>\n",
       "    </tr>\n",
       "    <tr>\n",
       "      <th>Anios</th>\n",
       "      <th></th>\n",
       "      <th></th>\n",
       "      <th></th>\n",
       "      <th></th>\n",
       "      <th></th>\n",
       "      <th></th>\n",
       "      <th></th>\n",
       "      <th></th>\n",
       "      <th></th>\n",
       "      <th></th>\n",
       "      <th></th>\n",
       "      <th></th>\n",
       "      <th></th>\n",
       "      <th></th>\n",
       "      <th></th>\n",
       "      <th></th>\n",
       "    </tr>\n",
       "  </thead>\n",
       "  <tbody>\n",
       "    <tr>\n",
       "      <th>2008.0</th>\n",
       "      <td>Marzo</td>\n",
       "      <td>10.45</td>\n",
       "      <td>3.32</td>\n",
       "      <td>1.76</td>\n",
       "      <td>22.06</td>\n",
       "      <td>6.38</td>\n",
       "      <td>2.87</td>\n",
       "      <td>11.68</td>\n",
       "      <td>3.74</td>\n",
       "      <td>1.88</td>\n",
       "      <td>20.76</td>\n",
       "      <td>6.43</td>\n",
       "      <td>2.82</td>\n",
       "      <td>21.20</td>\n",
       "      <td>6.38</td>\n",
       "      <td>3.11</td>\n",
       "    </tr>\n",
       "    <tr>\n",
       "      <th>2009.0</th>\n",
       "      <td>Marzo</td>\n",
       "      <td>11.16</td>\n",
       "      <td>3.71</td>\n",
       "      <td>1.97</td>\n",
       "      <td>24.28</td>\n",
       "      <td>7.50</td>\n",
       "      <td>3.26</td>\n",
       "      <td>10.91</td>\n",
       "      <td>3.31</td>\n",
       "      <td>1.51</td>\n",
       "      <td>20.76</td>\n",
       "      <td>6.32</td>\n",
       "      <td>2.94</td>\n",
       "      <td>17.55</td>\n",
       "      <td>5.81</td>\n",
       "      <td>2.99</td>\n",
       "    </tr>\n",
       "    <tr>\n",
       "      <th>2010.0</th>\n",
       "      <td>Marzo</td>\n",
       "      <td>13.01</td>\n",
       "      <td>4.34</td>\n",
       "      <td>2.31</td>\n",
       "      <td>20.80</td>\n",
       "      <td>5.82</td>\n",
       "      <td>2.37</td>\n",
       "      <td>13.78</td>\n",
       "      <td>3.80</td>\n",
       "      <td>1.60</td>\n",
       "      <td>15.54</td>\n",
       "      <td>4.20</td>\n",
       "      <td>1.77</td>\n",
       "      <td>11.63</td>\n",
       "      <td>3.47</td>\n",
       "      <td>1.47</td>\n",
       "    </tr>\n",
       "    <tr>\n",
       "      <th>2011.0</th>\n",
       "      <td>Marzo</td>\n",
       "      <td>10.33</td>\n",
       "      <td>3.34</td>\n",
       "      <td>1.81</td>\n",
       "      <td>19.21</td>\n",
       "      <td>4.99</td>\n",
       "      <td>1.99</td>\n",
       "      <td>12.39</td>\n",
       "      <td>4.13</td>\n",
       "      <td>2.20</td>\n",
       "      <td>14.76</td>\n",
       "      <td>4.07</td>\n",
       "      <td>1.62</td>\n",
       "      <td>10.58</td>\n",
       "      <td>2.68</td>\n",
       "      <td>1.02</td>\n",
       "    </tr>\n",
       "    <tr>\n",
       "      <th>2012.0</th>\n",
       "      <td>Marzo</td>\n",
       "      <td>8.97</td>\n",
       "      <td>3.29</td>\n",
       "      <td>1.59</td>\n",
       "      <td>11.04</td>\n",
       "      <td>2.75</td>\n",
       "      <td>1.04</td>\n",
       "      <td>9.72</td>\n",
       "      <td>2.92</td>\n",
       "      <td>1.33</td>\n",
       "      <td>9.51</td>\n",
       "      <td>1.91</td>\n",
       "      <td>0.62</td>\n",
       "      <td>8.04</td>\n",
       "      <td>1.97</td>\n",
       "      <td>0.76</td>\n",
       "    </tr>\n",
       "  </tbody>\n",
       "</table>\n",
       "</div>"
      ],
      "text/plain": [
       "       Período  Quito  Quito.1  Quito.2  Guayaquil  Guayaquil.1  Guayaquil.2  \\\n",
       "Anios                                                                          \n",
       "2008.0   Marzo  10.45     3.32     1.76      22.06         6.38         2.87   \n",
       "2009.0   Marzo  11.16     3.71     1.97      24.28         7.50         3.26   \n",
       "2010.0   Marzo  13.01     4.34     2.31      20.80         5.82         2.37   \n",
       "2011.0   Marzo  10.33     3.34     1.81      19.21         4.99         1.99   \n",
       "2012.0   Marzo   8.97     3.29     1.59      11.04         2.75         1.04   \n",
       "\n",
       "        Cuenca  Cuenca.1  Cuenca.2  Machala  Machala.1  Machala.2  Ambato  \\\n",
       "Anios                                                                       \n",
       "2008.0   11.68      3.74      1.88    20.76       6.43       2.82   21.20   \n",
       "2009.0   10.91      3.31      1.51    20.76       6.32       2.94   17.55   \n",
       "2010.0   13.78      3.80      1.60    15.54       4.20       1.77   11.63   \n",
       "2011.0   12.39      4.13      2.20    14.76       4.07       1.62   10.58   \n",
       "2012.0    9.72      2.92      1.33     9.51       1.91       0.62    8.04   \n",
       "\n",
       "        Ambato.1  Ambato.2  \n",
       "Anios                       \n",
       "2008.0      6.38      3.11  \n",
       "2009.0      5.81      2.99  \n",
       "2010.0      3.47      1.47  \n",
       "2011.0      2.68      1.02  \n",
       "2012.0      1.97      0.76  "
      ]
     },
     "execution_count": 11,
     "metadata": {},
     "output_type": "execute_result"
    }
   ],
   "source": [
    "temp = raw_data.set_index('Anios')\n",
    "temp.head()"
   ]
  },
  {
   "cell_type": "markdown",
   "metadata": {},
   "source": [
    "# Data\n",
    "------\n",
    "Para nuestra tabla agruparemos los datos de Quito para Repesentar nuestras graficas"
   ]
  },
  {
   "cell_type": "code",
   "execution_count": 12,
   "metadata": {},
   "outputs": [
    {
     "data": {
      "text/html": [
       "<div>\n",
       "<style scoped>\n",
       "    .dataframe tbody tr th:only-of-type {\n",
       "        vertical-align: middle;\n",
       "    }\n",
       "\n",
       "    .dataframe tbody tr th {\n",
       "        vertical-align: top;\n",
       "    }\n",
       "\n",
       "    .dataframe thead th {\n",
       "        text-align: right;\n",
       "    }\n",
       "</style>\n",
       "<table border=\"1\" class=\"dataframe\">\n",
       "  <thead>\n",
       "    <tr style=\"text-align: right;\">\n",
       "      <th></th>\n",
       "      <th>Anios</th>\n",
       "      <th>Quito</th>\n",
       "      <th>Quito.1</th>\n",
       "      <th>Quito.2</th>\n",
       "    </tr>\n",
       "  </thead>\n",
       "  <tbody>\n",
       "    <tr>\n",
       "      <th>1</th>\n",
       "      <td>2008.0</td>\n",
       "      <td>10.45</td>\n",
       "      <td>3.32</td>\n",
       "      <td>1.76</td>\n",
       "    </tr>\n",
       "    <tr>\n",
       "      <th>2</th>\n",
       "      <td>2009.0</td>\n",
       "      <td>11.16</td>\n",
       "      <td>3.71</td>\n",
       "      <td>1.97</td>\n",
       "    </tr>\n",
       "    <tr>\n",
       "      <th>3</th>\n",
       "      <td>2010.0</td>\n",
       "      <td>13.01</td>\n",
       "      <td>4.34</td>\n",
       "      <td>2.31</td>\n",
       "    </tr>\n",
       "    <tr>\n",
       "      <th>4</th>\n",
       "      <td>2011.0</td>\n",
       "      <td>10.33</td>\n",
       "      <td>3.34</td>\n",
       "      <td>1.81</td>\n",
       "    </tr>\n",
       "    <tr>\n",
       "      <th>5</th>\n",
       "      <td>2012.0</td>\n",
       "      <td>8.97</td>\n",
       "      <td>3.29</td>\n",
       "      <td>1.59</td>\n",
       "    </tr>\n",
       "  </tbody>\n",
       "</table>\n",
       "</div>"
      ],
      "text/plain": [
       "    Anios  Quito  Quito.1  Quito.2\n",
       "1  2008.0  10.45     3.32     1.76\n",
       "2  2009.0  11.16     3.71     1.97\n",
       "3  2010.0  13.01     4.34     2.31\n",
       "4  2011.0  10.33     3.34     1.81\n",
       "5  2012.0   8.97     3.29     1.59"
      ]
     },
     "execution_count": 12,
     "metadata": {},
     "output_type": "execute_result"
    }
   ],
   "source": [
    "data = raw_data.drop(['Período', 'Guayaquil', 'Guayaquil.1', 'Guayaquil.2', 'Cuenca', 'Cuenca.1', 'Cuenca.2', 'Machala', 'Machala.1', 'Machala.2', 'Ambato', 'Ambato.1', 'Ambato.2'], axis=1)\n",
    "data.head()"
   ]
  },
  {
   "cell_type": "markdown",
   "metadata": {},
   "source": [
    "Cambiaremos los nombres de las columnas de nuestra data para ver lo que representaremos"
   ]
  },
  {
   "cell_type": "code",
   "execution_count": 13,
   "metadata": {},
   "outputs": [
    {
     "data": {
      "text/html": [
       "<div>\n",
       "<style scoped>\n",
       "    .dataframe tbody tr th:only-of-type {\n",
       "        vertical-align: middle;\n",
       "    }\n",
       "\n",
       "    .dataframe tbody tr th {\n",
       "        vertical-align: top;\n",
       "    }\n",
       "\n",
       "    .dataframe thead th {\n",
       "        text-align: right;\n",
       "    }\n",
       "</style>\n",
       "<table border=\"1\" class=\"dataframe\">\n",
       "  <thead>\n",
       "    <tr style=\"text-align: right;\">\n",
       "      <th></th>\n",
       "      <th>Anios</th>\n",
       "      <th>Incidencia</th>\n",
       "      <th>Brecha</th>\n",
       "      <th>Severidad</th>\n",
       "    </tr>\n",
       "  </thead>\n",
       "  <tbody>\n",
       "    <tr>\n",
       "      <th>1</th>\n",
       "      <td>2008.0</td>\n",
       "      <td>10.45</td>\n",
       "      <td>3.32</td>\n",
       "      <td>1.76</td>\n",
       "    </tr>\n",
       "    <tr>\n",
       "      <th>2</th>\n",
       "      <td>2009.0</td>\n",
       "      <td>11.16</td>\n",
       "      <td>3.71</td>\n",
       "      <td>1.97</td>\n",
       "    </tr>\n",
       "    <tr>\n",
       "      <th>3</th>\n",
       "      <td>2010.0</td>\n",
       "      <td>13.01</td>\n",
       "      <td>4.34</td>\n",
       "      <td>2.31</td>\n",
       "    </tr>\n",
       "    <tr>\n",
       "      <th>4</th>\n",
       "      <td>2011.0</td>\n",
       "      <td>10.33</td>\n",
       "      <td>3.34</td>\n",
       "      <td>1.81</td>\n",
       "    </tr>\n",
       "    <tr>\n",
       "      <th>5</th>\n",
       "      <td>2012.0</td>\n",
       "      <td>8.97</td>\n",
       "      <td>3.29</td>\n",
       "      <td>1.59</td>\n",
       "    </tr>\n",
       "  </tbody>\n",
       "</table>\n",
       "</div>"
      ],
      "text/plain": [
       "    Anios  Incidencia  Brecha  Severidad\n",
       "1  2008.0       10.45    3.32       1.76\n",
       "2  2009.0       11.16    3.71       1.97\n",
       "3  2010.0       13.01    4.34       2.31\n",
       "4  2011.0       10.33    3.34       1.81\n",
       "5  2012.0        8.97    3.29       1.59"
      ]
     },
     "execution_count": 13,
     "metadata": {},
     "output_type": "execute_result"
    }
   ],
   "source": [
    "data.columns = ['Anios', 'Incidencia', 'Brecha', 'Severidad']\n",
    "data.head()"
   ]
  },
  {
   "cell_type": "markdown",
   "metadata": {},
   "source": [
    "### ¿Qué es incidencia de la pobreza?\n",
    "Número de personas pobres expresado como porcentaje del total de la población en un determinado año. Se define como \"pobres\" a aquellas personas que pertenecen a hogares cuyo consumo per cápita, en un período determinado, es inferior al valor de la línea de pobreza.\n",
    "### ¿Qué es la brecha de la pobreza?\n",
    "La línea de pobreza es el equivalente monetario del costo de una canasta básica de bienes y servicios. La brecha de la pobreza refleja cuan pobres son los pobres y, por tanto, proporciona una idea de la profundidad de las carencias de ingreso o consumo que definen una situación de pobreza.\n",
    "### ¿Qué es la severidad de la pobreza?\n",
    "P es un promedio (sobre la población total, n) de las distancias que separan a individuos u hogares de la línea de pobreza, ponderado por un exponente . El valor del exponente permite que la misma fórmula dé como resultado la incidencia, brecha y severidad de la pobreza como casos especiales de la medida."
   ]
  },
  {
   "cell_type": "markdown",
   "metadata": {},
   "source": [
    "----------"
   ]
  },
  {
   "cell_type": "markdown",
   "metadata": {},
   "source": [
    " ## Trazado en Python\n",
    " \n",
    " - **Bokeh**: Es una biblioteca de visualización interactiva de Python con gráficos novedosos."
   ]
  },
  {
   "cell_type": "markdown",
   "metadata": {},
   "source": [
    "Al usar la interfaz bokeh.plotting, necesitamos importar:\n",
    "\n",
    " - Use la función de `figure` para crear nuevos objetos de trazado para trabajar.\n",
    " - Las funciones `output_file`, `output_notebook` para indicar a Bokeh cómo mostrar el resultado."
   ]
  },
  {
   "cell_type": "code",
   "execution_count": 14,
   "metadata": {},
   "outputs": [],
   "source": [
    "from bokeh.io import show\n",
    "from bokeh.plotting import figure"
   ]
  },
  {
   "cell_type": "markdown",
   "metadata": {},
   "source": [
    "Importamos `gridplot` - para presentar varias graficas en una"
   ]
  },
  {
   "cell_type": "code",
   "execution_count": 15,
   "metadata": {},
   "outputs": [],
   "source": [
    "from bokeh.layouts import gridplot"
   ]
  },
  {
   "cell_type": "markdown",
   "metadata": {},
   "source": [
    "En este caso, estamos en `jupyter notebook`, así que llamamos a `output_notebook()`. Solo debemos llamar esto una vez para mostrar nuestras graficas en el cuaderno usando la funcion `show()` de bokeh."
   ]
  },
  {
   "cell_type": "code",
   "execution_count": 16,
   "metadata": {},
   "outputs": [
    {
     "data": {
      "text/html": [
       "\n",
       "    <div class=\"bk-root\">\n",
       "        <a href=\"https://bokeh.pydata.org\" target=\"_blank\" class=\"bk-logo bk-logo-small bk-logo-notebook\"></a>\n",
       "        <span id=\"ef501470-24d3-4603-bf7d-926ed0dde5ae\">Loading BokehJS ...</span>\n",
       "    </div>"
      ]
     },
     "metadata": {},
     "output_type": "display_data"
    },
    {
     "data": {
      "application/javascript": [
       "\n",
       "(function(root) {\n",
       "  function now() {\n",
       "    return new Date();\n",
       "  }\n",
       "\n",
       "  var force = true;\n",
       "\n",
       "  if (typeof (root._bokeh_onload_callbacks) === \"undefined\" || force === true) {\n",
       "    root._bokeh_onload_callbacks = [];\n",
       "    root._bokeh_is_loading = undefined;\n",
       "  }\n",
       "\n",
       "  var JS_MIME_TYPE = 'application/javascript';\n",
       "  var HTML_MIME_TYPE = 'text/html';\n",
       "  var EXEC_MIME_TYPE = 'application/vnd.bokehjs_exec.v0+json';\n",
       "  var CLASS_NAME = 'output_bokeh rendered_html';\n",
       "\n",
       "  /**\n",
       "   * Render data to the DOM node\n",
       "   */\n",
       "  function render(props, node) {\n",
       "    var script = document.createElement(\"script\");\n",
       "    node.appendChild(script);\n",
       "  }\n",
       "\n",
       "  /**\n",
       "   * Handle when an output is cleared or removed\n",
       "   */\n",
       "  function handleClearOutput(event, handle) {\n",
       "    var cell = handle.cell;\n",
       "\n",
       "    var id = cell.output_area._bokeh_element_id;\n",
       "    var server_id = cell.output_area._bokeh_server_id;\n",
       "    // Clean up Bokeh references\n",
       "    if (id !== undefined) {\n",
       "      Bokeh.index[id].model.document.clear();\n",
       "      delete Bokeh.index[id];\n",
       "    }\n",
       "\n",
       "    if (server_id !== undefined) {\n",
       "      // Clean up Bokeh references\n",
       "      var cmd = \"from bokeh.io.state import curstate; print(curstate().uuid_to_server['\" + server_id + \"'].get_sessions()[0].document.roots[0]._id)\";\n",
       "      cell.notebook.kernel.execute(cmd, {\n",
       "        iopub: {\n",
       "          output: function(msg) {\n",
       "            var element_id = msg.content.text.trim();\n",
       "            Bokeh.index[element_id].model.document.clear();\n",
       "            delete Bokeh.index[element_id];\n",
       "          }\n",
       "        }\n",
       "      });\n",
       "      // Destroy server and session\n",
       "      var cmd = \"import bokeh.io.notebook as ion; ion.destroy_server('\" + server_id + \"')\";\n",
       "      cell.notebook.kernel.execute(cmd);\n",
       "    }\n",
       "  }\n",
       "\n",
       "  /**\n",
       "   * Handle when a new output is added\n",
       "   */\n",
       "  function handleAddOutput(event, handle) {\n",
       "    var output_area = handle.output_area;\n",
       "    var output = handle.output;\n",
       "\n",
       "    // limit handleAddOutput to display_data with EXEC_MIME_TYPE content only\n",
       "    if ((output.output_type != \"display_data\") || (!output.data.hasOwnProperty(EXEC_MIME_TYPE))) {\n",
       "      return\n",
       "    }\n",
       "\n",
       "    var toinsert = output_area.element.find(`.${CLASS_NAME.split(' ')[0]}`);\n",
       "\n",
       "    if (output.metadata[EXEC_MIME_TYPE][\"id\"] !== undefined) {\n",
       "      toinsert[0].firstChild.textContent = output.data[JS_MIME_TYPE];\n",
       "      // store reference to embed id on output_area\n",
       "      output_area._bokeh_element_id = output.metadata[EXEC_MIME_TYPE][\"id\"];\n",
       "    }\n",
       "    if (output.metadata[EXEC_MIME_TYPE][\"server_id\"] !== undefined) {\n",
       "      var bk_div = document.createElement(\"div\");\n",
       "      bk_div.innerHTML = output.data[HTML_MIME_TYPE];\n",
       "      var script_attrs = bk_div.children[0].attributes;\n",
       "      for (var i = 0; i < script_attrs.length; i++) {\n",
       "        toinsert[0].firstChild.setAttribute(script_attrs[i].name, script_attrs[i].value);\n",
       "      }\n",
       "      // store reference to server id on output_area\n",
       "      output_area._bokeh_server_id = output.metadata[EXEC_MIME_TYPE][\"server_id\"];\n",
       "    }\n",
       "  }\n",
       "\n",
       "  function register_renderer(events, OutputArea) {\n",
       "\n",
       "    function append_mime(data, metadata, element) {\n",
       "      // create a DOM node to render to\n",
       "      var toinsert = this.create_output_subarea(\n",
       "        metadata,\n",
       "        CLASS_NAME,\n",
       "        EXEC_MIME_TYPE\n",
       "      );\n",
       "      this.keyboard_manager.register_events(toinsert);\n",
       "      // Render to node\n",
       "      var props = {data: data, metadata: metadata[EXEC_MIME_TYPE]};\n",
       "      render(props, toinsert[0]);\n",
       "      element.append(toinsert);\n",
       "      return toinsert\n",
       "    }\n",
       "\n",
       "    /* Handle when an output is cleared or removed */\n",
       "    events.on('clear_output.CodeCell', handleClearOutput);\n",
       "    events.on('delete.Cell', handleClearOutput);\n",
       "\n",
       "    /* Handle when a new output is added */\n",
       "    events.on('output_added.OutputArea', handleAddOutput);\n",
       "\n",
       "    /**\n",
       "     * Register the mime type and append_mime function with output_area\n",
       "     */\n",
       "    OutputArea.prototype.register_mime_type(EXEC_MIME_TYPE, append_mime, {\n",
       "      /* Is output safe? */\n",
       "      safe: true,\n",
       "      /* Index of renderer in `output_area.display_order` */\n",
       "      index: 0\n",
       "    });\n",
       "  }\n",
       "\n",
       "  // register the mime type if in Jupyter Notebook environment and previously unregistered\n",
       "  if (root.Jupyter !== undefined) {\n",
       "    var events = require('base/js/events');\n",
       "    var OutputArea = require('notebook/js/outputarea').OutputArea;\n",
       "\n",
       "    if (OutputArea.prototype.mime_types().indexOf(EXEC_MIME_TYPE) == -1) {\n",
       "      register_renderer(events, OutputArea);\n",
       "    }\n",
       "  }\n",
       "\n",
       "  \n",
       "  if (typeof (root._bokeh_timeout) === \"undefined\" || force === true) {\n",
       "    root._bokeh_timeout = Date.now() + 5000;\n",
       "    root._bokeh_failed_load = false;\n",
       "  }\n",
       "\n",
       "  var NB_LOAD_WARNING = {'data': {'text/html':\n",
       "     \"<div style='background-color: #fdd'>\\n\"+\n",
       "     \"<p>\\n\"+\n",
       "     \"BokehJS does not appear to have successfully loaded. If loading BokehJS from CDN, this \\n\"+\n",
       "     \"may be due to a slow or bad network connection. Possible fixes:\\n\"+\n",
       "     \"</p>\\n\"+\n",
       "     \"<ul>\\n\"+\n",
       "     \"<li>re-rerun `output_notebook()` to attempt to load from CDN again, or</li>\\n\"+\n",
       "     \"<li>use INLINE resources instead, as so:</li>\\n\"+\n",
       "     \"</ul>\\n\"+\n",
       "     \"<code>\\n\"+\n",
       "     \"from bokeh.resources import INLINE\\n\"+\n",
       "     \"output_notebook(resources=INLINE)\\n\"+\n",
       "     \"</code>\\n\"+\n",
       "     \"</div>\"}};\n",
       "\n",
       "  function display_loaded() {\n",
       "    var el = document.getElementById(\"ef501470-24d3-4603-bf7d-926ed0dde5ae\");\n",
       "    if (el != null) {\n",
       "      el.textContent = \"BokehJS is loading...\";\n",
       "    }\n",
       "    if (root.Bokeh !== undefined) {\n",
       "      if (el != null) {\n",
       "        el.textContent = \"BokehJS \" + root.Bokeh.version + \" successfully loaded.\";\n",
       "      }\n",
       "    } else if (Date.now() < root._bokeh_timeout) {\n",
       "      setTimeout(display_loaded, 100)\n",
       "    }\n",
       "  }\n",
       "\n",
       "\n",
       "  function run_callbacks() {\n",
       "    try {\n",
       "      root._bokeh_onload_callbacks.forEach(function(callback) { callback() });\n",
       "    }\n",
       "    finally {\n",
       "      delete root._bokeh_onload_callbacks\n",
       "    }\n",
       "    console.info(\"Bokeh: all callbacks have finished\");\n",
       "  }\n",
       "\n",
       "  function load_libs(js_urls, callback) {\n",
       "    root._bokeh_onload_callbacks.push(callback);\n",
       "    if (root._bokeh_is_loading > 0) {\n",
       "      console.log(\"Bokeh: BokehJS is being loaded, scheduling callback at\", now());\n",
       "      return null;\n",
       "    }\n",
       "    if (js_urls == null || js_urls.length === 0) {\n",
       "      run_callbacks();\n",
       "      return null;\n",
       "    }\n",
       "    console.log(\"Bokeh: BokehJS not loaded, scheduling load and callback at\", now());\n",
       "    root._bokeh_is_loading = js_urls.length;\n",
       "    for (var i = 0; i < js_urls.length; i++) {\n",
       "      var url = js_urls[i];\n",
       "      var s = document.createElement('script');\n",
       "      s.src = url;\n",
       "      s.async = false;\n",
       "      s.onreadystatechange = s.onload = function() {\n",
       "        root._bokeh_is_loading--;\n",
       "        if (root._bokeh_is_loading === 0) {\n",
       "          console.log(\"Bokeh: all BokehJS libraries loaded\");\n",
       "          run_callbacks()\n",
       "        }\n",
       "      };\n",
       "      s.onerror = function() {\n",
       "        console.warn(\"failed to load library \" + url);\n",
       "      };\n",
       "      console.log(\"Bokeh: injecting script tag for BokehJS library: \", url);\n",
       "      document.getElementsByTagName(\"head\")[0].appendChild(s);\n",
       "    }\n",
       "  };var element = document.getElementById(\"ef501470-24d3-4603-bf7d-926ed0dde5ae\");\n",
       "  if (element == null) {\n",
       "    console.log(\"Bokeh: ERROR: autoload.js configured with elementid 'ef501470-24d3-4603-bf7d-926ed0dde5ae' but no matching script tag was found. \")\n",
       "    return false;\n",
       "  }\n",
       "\n",
       "  var js_urls = [\"https://cdn.pydata.org/bokeh/release/bokeh-0.12.10.min.js\", \"https://cdn.pydata.org/bokeh/release/bokeh-widgets-0.12.10.min.js\", \"https://cdn.pydata.org/bokeh/release/bokeh-tables-0.12.10.min.js\", \"https://cdn.pydata.org/bokeh/release/bokeh-gl-0.12.10.min.js\"];\n",
       "\n",
       "  var inline_js = [\n",
       "    function(Bokeh) {\n",
       "      Bokeh.set_log_level(\"info\");\n",
       "    },\n",
       "    \n",
       "    function(Bokeh) {\n",
       "      \n",
       "    },\n",
       "    function(Bokeh) {\n",
       "      console.log(\"Bokeh: injecting CSS: https://cdn.pydata.org/bokeh/release/bokeh-0.12.10.min.css\");\n",
       "      Bokeh.embed.inject_css(\"https://cdn.pydata.org/bokeh/release/bokeh-0.12.10.min.css\");\n",
       "      console.log(\"Bokeh: injecting CSS: https://cdn.pydata.org/bokeh/release/bokeh-widgets-0.12.10.min.css\");\n",
       "      Bokeh.embed.inject_css(\"https://cdn.pydata.org/bokeh/release/bokeh-widgets-0.12.10.min.css\");\n",
       "      console.log(\"Bokeh: injecting CSS: https://cdn.pydata.org/bokeh/release/bokeh-tables-0.12.10.min.css\");\n",
       "      Bokeh.embed.inject_css(\"https://cdn.pydata.org/bokeh/release/bokeh-tables-0.12.10.min.css\");\n",
       "    }\n",
       "  ];\n",
       "\n",
       "  function run_inline_js() {\n",
       "    \n",
       "    if ((root.Bokeh !== undefined) || (force === true)) {\n",
       "      for (var i = 0; i < inline_js.length; i++) {\n",
       "        inline_js[i].call(root, root.Bokeh);\n",
       "      }if (force === true) {\n",
       "        display_loaded();\n",
       "      }} else if (Date.now() < root._bokeh_timeout) {\n",
       "      setTimeout(run_inline_js, 100);\n",
       "    } else if (!root._bokeh_failed_load) {\n",
       "      console.log(\"Bokeh: BokehJS failed to load within specified timeout.\");\n",
       "      root._bokeh_failed_load = true;\n",
       "    } else if (force !== true) {\n",
       "      var cell = $(document.getElementById(\"ef501470-24d3-4603-bf7d-926ed0dde5ae\")).parents('.cell').data().cell;\n",
       "      cell.output_area.append_execute_result(NB_LOAD_WARNING)\n",
       "    }\n",
       "\n",
       "  }\n",
       "\n",
       "  if (root._bokeh_is_loading === 0) {\n",
       "    console.log(\"Bokeh: BokehJS loaded, going straight to plotting\");\n",
       "    run_inline_js();\n",
       "  } else {\n",
       "    load_libs(js_urls, function() {\n",
       "      console.log(\"Bokeh: BokehJS plotting callback run at\", now());\n",
       "      run_inline_js();\n",
       "    });\n",
       "  }\n",
       "}(window));"
      ],
      "application/vnd.bokehjs_load.v0+json": "\n(function(root) {\n  function now() {\n    return new Date();\n  }\n\n  var force = true;\n\n  if (typeof (root._bokeh_onload_callbacks) === \"undefined\" || force === true) {\n    root._bokeh_onload_callbacks = [];\n    root._bokeh_is_loading = undefined;\n  }\n\n  \n\n  \n  if (typeof (root._bokeh_timeout) === \"undefined\" || force === true) {\n    root._bokeh_timeout = Date.now() + 5000;\n    root._bokeh_failed_load = false;\n  }\n\n  var NB_LOAD_WARNING = {'data': {'text/html':\n     \"<div style='background-color: #fdd'>\\n\"+\n     \"<p>\\n\"+\n     \"BokehJS does not appear to have successfully loaded. If loading BokehJS from CDN, this \\n\"+\n     \"may be due to a slow or bad network connection. Possible fixes:\\n\"+\n     \"</p>\\n\"+\n     \"<ul>\\n\"+\n     \"<li>re-rerun `output_notebook()` to attempt to load from CDN again, or</li>\\n\"+\n     \"<li>use INLINE resources instead, as so:</li>\\n\"+\n     \"</ul>\\n\"+\n     \"<code>\\n\"+\n     \"from bokeh.resources import INLINE\\n\"+\n     \"output_notebook(resources=INLINE)\\n\"+\n     \"</code>\\n\"+\n     \"</div>\"}};\n\n  function display_loaded() {\n    var el = document.getElementById(\"ef501470-24d3-4603-bf7d-926ed0dde5ae\");\n    if (el != null) {\n      el.textContent = \"BokehJS is loading...\";\n    }\n    if (root.Bokeh !== undefined) {\n      if (el != null) {\n        el.textContent = \"BokehJS \" + root.Bokeh.version + \" successfully loaded.\";\n      }\n    } else if (Date.now() < root._bokeh_timeout) {\n      setTimeout(display_loaded, 100)\n    }\n  }\n\n\n  function run_callbacks() {\n    try {\n      root._bokeh_onload_callbacks.forEach(function(callback) { callback() });\n    }\n    finally {\n      delete root._bokeh_onload_callbacks\n    }\n    console.info(\"Bokeh: all callbacks have finished\");\n  }\n\n  function load_libs(js_urls, callback) {\n    root._bokeh_onload_callbacks.push(callback);\n    if (root._bokeh_is_loading > 0) {\n      console.log(\"Bokeh: BokehJS is being loaded, scheduling callback at\", now());\n      return null;\n    }\n    if (js_urls == null || js_urls.length === 0) {\n      run_callbacks();\n      return null;\n    }\n    console.log(\"Bokeh: BokehJS not loaded, scheduling load and callback at\", now());\n    root._bokeh_is_loading = js_urls.length;\n    for (var i = 0; i < js_urls.length; i++) {\n      var url = js_urls[i];\n      var s = document.createElement('script');\n      s.src = url;\n      s.async = false;\n      s.onreadystatechange = s.onload = function() {\n        root._bokeh_is_loading--;\n        if (root._bokeh_is_loading === 0) {\n          console.log(\"Bokeh: all BokehJS libraries loaded\");\n          run_callbacks()\n        }\n      };\n      s.onerror = function() {\n        console.warn(\"failed to load library \" + url);\n      };\n      console.log(\"Bokeh: injecting script tag for BokehJS library: \", url);\n      document.getElementsByTagName(\"head\")[0].appendChild(s);\n    }\n  };var element = document.getElementById(\"ef501470-24d3-4603-bf7d-926ed0dde5ae\");\n  if (element == null) {\n    console.log(\"Bokeh: ERROR: autoload.js configured with elementid 'ef501470-24d3-4603-bf7d-926ed0dde5ae' but no matching script tag was found. \")\n    return false;\n  }\n\n  var js_urls = [\"https://cdn.pydata.org/bokeh/release/bokeh-0.12.10.min.js\", \"https://cdn.pydata.org/bokeh/release/bokeh-widgets-0.12.10.min.js\", \"https://cdn.pydata.org/bokeh/release/bokeh-tables-0.12.10.min.js\", \"https://cdn.pydata.org/bokeh/release/bokeh-gl-0.12.10.min.js\"];\n\n  var inline_js = [\n    function(Bokeh) {\n      Bokeh.set_log_level(\"info\");\n    },\n    \n    function(Bokeh) {\n      \n    },\n    function(Bokeh) {\n      console.log(\"Bokeh: injecting CSS: https://cdn.pydata.org/bokeh/release/bokeh-0.12.10.min.css\");\n      Bokeh.embed.inject_css(\"https://cdn.pydata.org/bokeh/release/bokeh-0.12.10.min.css\");\n      console.log(\"Bokeh: injecting CSS: https://cdn.pydata.org/bokeh/release/bokeh-widgets-0.12.10.min.css\");\n      Bokeh.embed.inject_css(\"https://cdn.pydata.org/bokeh/release/bokeh-widgets-0.12.10.min.css\");\n      console.log(\"Bokeh: injecting CSS: https://cdn.pydata.org/bokeh/release/bokeh-tables-0.12.10.min.css\");\n      Bokeh.embed.inject_css(\"https://cdn.pydata.org/bokeh/release/bokeh-tables-0.12.10.min.css\");\n    }\n  ];\n\n  function run_inline_js() {\n    \n    if ((root.Bokeh !== undefined) || (force === true)) {\n      for (var i = 0; i < inline_js.length; i++) {\n        inline_js[i].call(root, root.Bokeh);\n      }if (force === true) {\n        display_loaded();\n      }} else if (Date.now() < root._bokeh_timeout) {\n      setTimeout(run_inline_js, 100);\n    } else if (!root._bokeh_failed_load) {\n      console.log(\"Bokeh: BokehJS failed to load within specified timeout.\");\n      root._bokeh_failed_load = true;\n    } else if (force !== true) {\n      var cell = $(document.getElementById(\"ef501470-24d3-4603-bf7d-926ed0dde5ae\")).parents('.cell').data().cell;\n      cell.output_area.append_execute_result(NB_LOAD_WARNING)\n    }\n\n  }\n\n  if (root._bokeh_is_loading === 0) {\n    console.log(\"Bokeh: BokehJS loaded, going straight to plotting\");\n    run_inline_js();\n  } else {\n    load_libs(js_urls, function() {\n      console.log(\"Bokeh: BokehJS plotting callback run at\", now());\n      run_inline_js();\n    });\n  }\n}(window));"
     },
     "metadata": {},
     "output_type": "display_data"
    }
   ],
   "source": [
    "from bokeh.io import output_notebook\n",
    "output_notebook()"
   ]
  },
  {
   "cell_type": "markdown",
   "metadata": {},
   "source": [
    "## Grafico de Lineas"
   ]
  },
  {
   "cell_type": "markdown",
   "metadata": {},
   "source": [
    "Caracteristicas que tendra nuestra grafica"
   ]
  },
  {
   "cell_type": "code",
   "execution_count": 17,
   "metadata": {},
   "outputs": [],
   "source": [
    "graph_line = figure(\n",
    "    plot_height=400, # ancho\n",
    "    plot_width=900, # alto\n",
    "    title='POBREZA-QUITO', # titulo\n",
    "    tools='' # opciones de bokeh\n",
    ")"
   ]
  },
  {
   "cell_type": "markdown",
   "metadata": {},
   "source": [
    "Definimos los datos que representara cada \"Linea\", y otras opciones como color y leyenda"
   ]
  },
  {
   "cell_type": "code",
   "execution_count": 18,
   "metadata": {},
   "outputs": [
    {
     "data": {
      "text/html": [
       "<div style=\"display: table;\"><div style=\"display: table-row;\"><div style=\"display: table-cell;\"><b title=\"bokeh.models.renderers.GlyphRenderer\">GlyphRenderer</b>(</div><div style=\"display: table-cell;\">id&nbsp;=&nbsp;'235ae2da-d355-4f00-97b4-c6ad383db0f5', <span id=\"c3a0d2c8-0893-403a-bcb7-2d256ead62c9\" style=\"cursor: pointer;\">&hellip;)</span></div></div><div class=\"fe7a0970-c82f-481a-a9b3-2c737b7d6ff1\" style=\"display: none;\"><div style=\"display: table-cell;\"></div><div style=\"display: table-cell;\">data_source&nbsp;=&nbsp;ColumnDataSource(id='ae87d1ab-87d4-469e-afd5-ce0dd8d0b584', ...),</div></div><div class=\"fe7a0970-c82f-481a-a9b3-2c737b7d6ff1\" style=\"display: none;\"><div style=\"display: table-cell;\"></div><div style=\"display: table-cell;\">glyph&nbsp;=&nbsp;Line(id='d49c515c-9bfd-42e2-b4b7-5810cd23767e', ...),</div></div><div class=\"fe7a0970-c82f-481a-a9b3-2c737b7d6ff1\" style=\"display: none;\"><div style=\"display: table-cell;\"></div><div style=\"display: table-cell;\">hover_glyph&nbsp;=&nbsp;None,</div></div><div class=\"fe7a0970-c82f-481a-a9b3-2c737b7d6ff1\" style=\"display: none;\"><div style=\"display: table-cell;\"></div><div style=\"display: table-cell;\">js_event_callbacks&nbsp;=&nbsp;{},</div></div><div class=\"fe7a0970-c82f-481a-a9b3-2c737b7d6ff1\" style=\"display: none;\"><div style=\"display: table-cell;\"></div><div style=\"display: table-cell;\">js_property_callbacks&nbsp;=&nbsp;{},</div></div><div class=\"fe7a0970-c82f-481a-a9b3-2c737b7d6ff1\" style=\"display: none;\"><div style=\"display: table-cell;\"></div><div style=\"display: table-cell;\">level&nbsp;=&nbsp;'glyph',</div></div><div class=\"fe7a0970-c82f-481a-a9b3-2c737b7d6ff1\" style=\"display: none;\"><div style=\"display: table-cell;\"></div><div style=\"display: table-cell;\">muted&nbsp;=&nbsp;False,</div></div><div class=\"fe7a0970-c82f-481a-a9b3-2c737b7d6ff1\" style=\"display: none;\"><div style=\"display: table-cell;\"></div><div style=\"display: table-cell;\">muted_glyph&nbsp;=&nbsp;None,</div></div><div class=\"fe7a0970-c82f-481a-a9b3-2c737b7d6ff1\" style=\"display: none;\"><div style=\"display: table-cell;\"></div><div style=\"display: table-cell;\">name&nbsp;=&nbsp;None,</div></div><div class=\"fe7a0970-c82f-481a-a9b3-2c737b7d6ff1\" style=\"display: none;\"><div style=\"display: table-cell;\"></div><div style=\"display: table-cell;\">nonselection_glyph&nbsp;=&nbsp;Line(id='a8bace48-8312-4b60-9280-2ea83ab3ae19', ...),</div></div><div class=\"fe7a0970-c82f-481a-a9b3-2c737b7d6ff1\" style=\"display: none;\"><div style=\"display: table-cell;\"></div><div style=\"display: table-cell;\">selection_glyph&nbsp;=&nbsp;None,</div></div><div class=\"fe7a0970-c82f-481a-a9b3-2c737b7d6ff1\" style=\"display: none;\"><div style=\"display: table-cell;\"></div><div style=\"display: table-cell;\">subscribed_events&nbsp;=&nbsp;[],</div></div><div class=\"fe7a0970-c82f-481a-a9b3-2c737b7d6ff1\" style=\"display: none;\"><div style=\"display: table-cell;\"></div><div style=\"display: table-cell;\">tags&nbsp;=&nbsp;[],</div></div><div class=\"fe7a0970-c82f-481a-a9b3-2c737b7d6ff1\" style=\"display: none;\"><div style=\"display: table-cell;\"></div><div style=\"display: table-cell;\">view&nbsp;=&nbsp;CDSView(id='e72128ca-6fb0-4d0c-8068-7f9361626444', ...),</div></div><div class=\"fe7a0970-c82f-481a-a9b3-2c737b7d6ff1\" style=\"display: none;\"><div style=\"display: table-cell;\"></div><div style=\"display: table-cell;\">visible&nbsp;=&nbsp;True,</div></div><div class=\"fe7a0970-c82f-481a-a9b3-2c737b7d6ff1\" style=\"display: none;\"><div style=\"display: table-cell;\"></div><div style=\"display: table-cell;\">x_range_name&nbsp;=&nbsp;'default',</div></div><div class=\"fe7a0970-c82f-481a-a9b3-2c737b7d6ff1\" style=\"display: none;\"><div style=\"display: table-cell;\"></div><div style=\"display: table-cell;\">y_range_name&nbsp;=&nbsp;'default')</div></div></div>\n",
       "<script>\n",
       "(function() {\n",
       "  var expanded = false;\n",
       "  var ellipsis = document.getElementById(\"c3a0d2c8-0893-403a-bcb7-2d256ead62c9\");\n",
       "  ellipsis.addEventListener(\"click\", function() {\n",
       "    var rows = document.getElementsByClassName(\"fe7a0970-c82f-481a-a9b3-2c737b7d6ff1\");\n",
       "    for (var i = 0; i < rows.length; i++) {\n",
       "      var el = rows[i];\n",
       "      el.style.display = expanded ? \"none\" : \"table-row\";\n",
       "    }\n",
       "    ellipsis.innerHTML = expanded ? \"&hellip;)\" : \"&lsaquo;&lsaquo;&lsaquo;\";\n",
       "    expanded = !expanded;\n",
       "  });\n",
       "})();\n",
       "</script>\n"
      ],
      "text/plain": [
       "GlyphRenderer(id='235ae2da-d355-4f00-97b4-c6ad383db0f5', ...)"
      ]
     },
     "execution_count": 18,
     "metadata": {},
     "output_type": "execute_result"
    }
   ],
   "source": [
    "graph_line.line(\n",
    "    x=data.Anios, # datos en x\n",
    "    y=data.Incidencia, # datos en y\n",
    "    color='#f4d341', # color de las lineas\n",
    "    legend='Incidencia' # leyendad que representa nuestra grafica\n",
    ")\n",
    "graph_line.line(x=data.Anios, y=data.Brecha, color='#42f4bf', legend='Brecha')\n",
    "graph_line.line(x=data.Anios, y=data.Severidad, color='#f44171', legend='Severidad')"
   ]
  },
  {
   "cell_type": "markdown",
   "metadata": {},
   "source": [
    "Para no mostramos los trasados del plano y presentamos nuestra grafica"
   ]
  },
  {
   "cell_type": "code",
   "execution_count": 19,
   "metadata": {},
   "outputs": [
    {
     "data": {
      "text/html": [
       "\n",
       "<div class=\"bk-root\">\n",
       "    <div class=\"bk-plotdiv\" id=\"007dc9aa-915b-41a6-8199-c6ab3c7ccd64\"></div>\n",
       "</div>"
      ]
     },
     "metadata": {},
     "output_type": "display_data"
    },
    {
     "data": {
      "application/javascript": [
       "(function(root) {\n",
       "  function embed_document(root) {\n",
       "    var docs_json = {\"e5f7c790-9ec6-4877-8c6f-03490dca7c20\":{\"roots\":{\"references\":[{\"attributes\":{\"plot\":null,\"text\":\"POBREZA-QUITO\"},\"id\":\"df1fda29-d268-47fe-b514-b3399a73e2b8\",\"type\":\"Title\"},{\"attributes\":{\"callback\":null},\"id\":\"507d95e5-0234-4360-a26a-2f7b7b16788f\",\"type\":\"DataRange1d\"},{\"attributes\":{\"active_drag\":\"auto\",\"active_inspect\":\"auto\",\"active_scroll\":\"auto\",\"active_tap\":\"auto\"},\"id\":\"106dcd39-9e96-45e6-ad39-cf1f760c4b67\",\"type\":\"Toolbar\"},{\"attributes\":{\"data_source\":{\"id\":\"971ea956-a12f-4e28-801b-cc881844a993\",\"type\":\"ColumnDataSource\"},\"glyph\":{\"id\":\"011681c9-5a2b-4bc5-8650-ecb6af60d21e\",\"type\":\"Line\"},\"hover_glyph\":null,\"muted_glyph\":null,\"nonselection_glyph\":{\"id\":\"d28ed7f2-7bfe-40a9-949d-d4ca8cab3473\",\"type\":\"Line\"},\"selection_glyph\":null,\"view\":{\"id\":\"f4dfd1c6-68b8-4f9c-8176-196f775b4749\",\"type\":\"CDSView\"}},\"id\":\"c36f5dbe-fe24-4829-abab-9debff9b8eb9\",\"type\":\"GlyphRenderer\"},{\"attributes\":{\"label\":{\"value\":\"Incidencia\"},\"renderers\":[{\"id\":\"c36f5dbe-fe24-4829-abab-9debff9b8eb9\",\"type\":\"GlyphRenderer\"}]},\"id\":\"48a26746-490f-4901-856b-3599af8b5948\",\"type\":\"LegendItem\"},{\"attributes\":{},\"id\":\"f836d874-3443-4296-a3f9-e025a97c34a7\",\"type\":\"BasicTickFormatter\"},{\"attributes\":{},\"id\":\"154b7c28-123b-4f9f-9866-0cbfc1760042\",\"type\":\"LinearScale\"},{\"attributes\":{\"callback\":null},\"id\":\"31e23fff-7a99-4202-8934-1cbece7a347a\",\"type\":\"DataRange1d\"},{\"attributes\":{},\"id\":\"0a16faa1-5ddc-4921-99e9-3b5ae41bdc9f\",\"type\":\"LinearScale\"},{\"attributes\":{\"formatter\":{\"id\":\"19807b9c-d4c5-48c1-a6ad-7e7edd53dd1b\",\"type\":\"BasicTickFormatter\"},\"plot\":{\"id\":\"6c01ba33-ce29-4cce-a032-240bca91fa5c\",\"subtype\":\"Figure\",\"type\":\"Plot\"},\"ticker\":{\"id\":\"921ea74f-85ea-443d-ae4e-ef6b22743eaa\",\"type\":\"BasicTicker\"}},\"id\":\"e93e6f7e-5e27-4d57-9ea6-0e5708cba00b\",\"type\":\"LinearAxis\"},{\"attributes\":{\"line_color\":{\"value\":\"#f4d341\"},\"x\":{\"field\":\"x\"},\"y\":{\"field\":\"y\"}},\"id\":\"011681c9-5a2b-4bc5-8650-ecb6af60d21e\",\"type\":\"Line\"},{\"attributes\":{\"callback\":null,\"column_names\":[\"x\",\"y\"],\"data\":{\"x\":{\"__ndarray__\":\"AAAAAABgn0AAAAAAAGSfQAAAAAAAaJ9AAAAAAABsn0AAAAAAAHCfQAAAAAAAdJ9AAAAAAAB4n0AAAAAAAHyfQAAAAAAAgJ9AAAAAAACEn0A=\",\"dtype\":\"float64\",\"shape\":[10]},\"y\":{\"__ndarray__\":\"ZmZmZmbmJEBSuB6F61EmQIXrUbgeBSpAKVyPwvWoJEBxPQrXo/AhQDMzMzMzsyVA16NwPQrXIUB7FK5H4XofQOxRuB6F6x9AZmZmZmZmHUA=\",\"dtype\":\"float64\",\"shape\":[10]}}},\"id\":\"971ea956-a12f-4e28-801b-cc881844a993\",\"type\":\"ColumnDataSource\"},{\"attributes\":{},\"id\":\"921ea74f-85ea-443d-ae4e-ef6b22743eaa\",\"type\":\"BasicTicker\"},{\"attributes\":{\"source\":{\"id\":\"971ea956-a12f-4e28-801b-cc881844a993\",\"type\":\"ColumnDataSource\"}},\"id\":\"f4dfd1c6-68b8-4f9c-8176-196f775b4749\",\"type\":\"CDSView\"},{\"attributes\":{\"grid_line_color\":{\"value\":null},\"plot\":{\"id\":\"6c01ba33-ce29-4cce-a032-240bca91fa5c\",\"subtype\":\"Figure\",\"type\":\"Plot\"},\"ticker\":{\"id\":\"921ea74f-85ea-443d-ae4e-ef6b22743eaa\",\"type\":\"BasicTicker\"}},\"id\":\"83d7f268-9dcd-47ea-b53a-55eed721ec16\",\"type\":\"Grid\"},{\"attributes\":{\"label\":{\"value\":\"Severidad\"},\"renderers\":[{\"id\":\"235ae2da-d355-4f00-97b4-c6ad383db0f5\",\"type\":\"GlyphRenderer\"}]},\"id\":\"c8f95fdf-a7ea-4b20-9f57-63a59fda7efc\",\"type\":\"LegendItem\"},{\"attributes\":{\"formatter\":{\"id\":\"f836d874-3443-4296-a3f9-e025a97c34a7\",\"type\":\"BasicTickFormatter\"},\"plot\":{\"id\":\"6c01ba33-ce29-4cce-a032-240bca91fa5c\",\"subtype\":\"Figure\",\"type\":\"Plot\"},\"ticker\":{\"id\":\"65835d1a-d5a4-4bf0-937c-3ecae7e71194\",\"type\":\"BasicTicker\"}},\"id\":\"2baf065f-00bf-41ae-9073-7a57a21afd82\",\"type\":\"LinearAxis\"},{\"attributes\":{},\"id\":\"65835d1a-d5a4-4bf0-937c-3ecae7e71194\",\"type\":\"BasicTicker\"},{\"attributes\":{\"dimension\":1,\"grid_line_color\":{\"value\":null},\"plot\":{\"id\":\"6c01ba33-ce29-4cce-a032-240bca91fa5c\",\"subtype\":\"Figure\",\"type\":\"Plot\"},\"ticker\":{\"id\":\"65835d1a-d5a4-4bf0-937c-3ecae7e71194\",\"type\":\"BasicTicker\"}},\"id\":\"53936e8b-f346-428f-89a1-0c51f44142f6\",\"type\":\"Grid\"},{\"attributes\":{\"items\":[{\"id\":\"48a26746-490f-4901-856b-3599af8b5948\",\"type\":\"LegendItem\"},{\"id\":\"40edfb68-73aa-4bdf-bc8e-8c0d7d0a198f\",\"type\":\"LegendItem\"},{\"id\":\"c8f95fdf-a7ea-4b20-9f57-63a59fda7efc\",\"type\":\"LegendItem\"}],\"plot\":{\"id\":\"6c01ba33-ce29-4cce-a032-240bca91fa5c\",\"subtype\":\"Figure\",\"type\":\"Plot\"}},\"id\":\"253d9140-1b85-4e84-af88-9bf786d46d5a\",\"type\":\"Legend\"},{\"attributes\":{\"callback\":null,\"column_names\":[\"x\",\"y\"],\"data\":{\"x\":{\"__ndarray__\":\"AAAAAABgn0AAAAAAAGSfQAAAAAAAaJ9AAAAAAABsn0AAAAAAAHCfQAAAAAAAdJ9AAAAAAAB4n0AAAAAAAHyfQAAAAAAAgJ9AAAAAAACEn0A=\",\"dtype\":\"float64\",\"shape\":[10]},\"y\":{\"__ndarray__\":\"j8L1KFyPCkCuR+F6FK4NQFyPwvUoXBFAuB6F61G4CkBSuB6F61EKQNejcD0K1wtAPQrXo3A9BkC4HoXrUbgEQArXo3A9CgVAMzMzMzMzA0A=\",\"dtype\":\"float64\",\"shape\":[10]}}},\"id\":\"51fb59cc-3662-4fa2-bb81-f754fdaf6ce7\",\"type\":\"ColumnDataSource\"},{\"attributes\":{\"line_color\":{\"value\":\"#42f4bf\"},\"x\":{\"field\":\"x\"},\"y\":{\"field\":\"y\"}},\"id\":\"a06c792d-b0f2-4eb7-bd26-a6205029b65f\",\"type\":\"Line\"},{\"attributes\":{\"data_source\":{\"id\":\"51fb59cc-3662-4fa2-bb81-f754fdaf6ce7\",\"type\":\"ColumnDataSource\"},\"glyph\":{\"id\":\"a06c792d-b0f2-4eb7-bd26-a6205029b65f\",\"type\":\"Line\"},\"hover_glyph\":null,\"muted_glyph\":null,\"nonselection_glyph\":{\"id\":\"5653e296-2202-4a5f-af3a-5e5be7d23daa\",\"type\":\"Line\"},\"selection_glyph\":null,\"view\":{\"id\":\"20c25755-eeef-42b2-97fb-5318d09e2b73\",\"type\":\"CDSView\"}},\"id\":\"eda87cee-fd6b-432e-8789-46d385e3d7b1\",\"type\":\"GlyphRenderer\"},{\"attributes\":{},\"id\":\"19807b9c-d4c5-48c1-a6ad-7e7edd53dd1b\",\"type\":\"BasicTickFormatter\"},{\"attributes\":{\"line_alpha\":{\"value\":0.1},\"line_color\":{\"value\":\"#1f77b4\"},\"x\":{\"field\":\"x\"},\"y\":{\"field\":\"y\"}},\"id\":\"5653e296-2202-4a5f-af3a-5e5be7d23daa\",\"type\":\"Line\"},{\"attributes\":{\"source\":{\"id\":\"51fb59cc-3662-4fa2-bb81-f754fdaf6ce7\",\"type\":\"ColumnDataSource\"}},\"id\":\"20c25755-eeef-42b2-97fb-5318d09e2b73\",\"type\":\"CDSView\"},{\"attributes\":{\"line_alpha\":{\"value\":0.1},\"line_color\":{\"value\":\"#1f77b4\"},\"x\":{\"field\":\"x\"},\"y\":{\"field\":\"y\"}},\"id\":\"a8bace48-8312-4b60-9280-2ea83ab3ae19\",\"type\":\"Line\"},{\"attributes\":{\"label\":{\"value\":\"Brecha\"},\"renderers\":[{\"id\":\"eda87cee-fd6b-432e-8789-46d385e3d7b1\",\"type\":\"GlyphRenderer\"}]},\"id\":\"40edfb68-73aa-4bdf-bc8e-8c0d7d0a198f\",\"type\":\"LegendItem\"},{\"attributes\":{\"callback\":null,\"column_names\":[\"x\",\"y\"],\"data\":{\"x\":{\"__ndarray__\":\"AAAAAABgn0AAAAAAAGSfQAAAAAAAaJ9AAAAAAABsn0AAAAAAAHCfQAAAAAAAdJ9AAAAAAAB4n0AAAAAAAHyfQAAAAAAAgJ9AAAAAAACEn0A=\",\"dtype\":\"float64\",\"shape\":[10]},\"y\":{\"__ndarray__\":\"KVyPwvUo/D+F61G4HoX/P3sUrkfhegJA9ihcj8L1/D9xPQrXo3D5P/YoXI/C9fg/PQrXo3A99j/NzMzMzMz0P3E9CtejcPU/rkfhehSu8z8=\",\"dtype\":\"float64\",\"shape\":[10]}}},\"id\":\"ae87d1ab-87d4-469e-afd5-ce0dd8d0b584\",\"type\":\"ColumnDataSource\"},{\"attributes\":{\"source\":{\"id\":\"ae87d1ab-87d4-469e-afd5-ce0dd8d0b584\",\"type\":\"ColumnDataSource\"}},\"id\":\"e72128ca-6fb0-4d0c-8068-7f9361626444\",\"type\":\"CDSView\"},{\"attributes\":{\"line_color\":{\"value\":\"#f44171\"},\"x\":{\"field\":\"x\"},\"y\":{\"field\":\"y\"}},\"id\":\"d49c515c-9bfd-42e2-b4b7-5810cd23767e\",\"type\":\"Line\"},{\"attributes\":{\"data_source\":{\"id\":\"ae87d1ab-87d4-469e-afd5-ce0dd8d0b584\",\"type\":\"ColumnDataSource\"},\"glyph\":{\"id\":\"d49c515c-9bfd-42e2-b4b7-5810cd23767e\",\"type\":\"Line\"},\"hover_glyph\":null,\"muted_glyph\":null,\"nonselection_glyph\":{\"id\":\"a8bace48-8312-4b60-9280-2ea83ab3ae19\",\"type\":\"Line\"},\"selection_glyph\":null,\"view\":{\"id\":\"e72128ca-6fb0-4d0c-8068-7f9361626444\",\"type\":\"CDSView\"}},\"id\":\"235ae2da-d355-4f00-97b4-c6ad383db0f5\",\"type\":\"GlyphRenderer\"},{\"attributes\":{\"line_alpha\":{\"value\":0.1},\"line_color\":{\"value\":\"#1f77b4\"},\"x\":{\"field\":\"x\"},\"y\":{\"field\":\"y\"}},\"id\":\"d28ed7f2-7bfe-40a9-949d-d4ca8cab3473\",\"type\":\"Line\"},{\"attributes\":{\"below\":[{\"id\":\"e93e6f7e-5e27-4d57-9ea6-0e5708cba00b\",\"type\":\"LinearAxis\"}],\"left\":[{\"id\":\"2baf065f-00bf-41ae-9073-7a57a21afd82\",\"type\":\"LinearAxis\"}],\"plot_height\":400,\"plot_width\":900,\"renderers\":[{\"id\":\"e93e6f7e-5e27-4d57-9ea6-0e5708cba00b\",\"type\":\"LinearAxis\"},{\"id\":\"83d7f268-9dcd-47ea-b53a-55eed721ec16\",\"type\":\"Grid\"},{\"id\":\"2baf065f-00bf-41ae-9073-7a57a21afd82\",\"type\":\"LinearAxis\"},{\"id\":\"53936e8b-f346-428f-89a1-0c51f44142f6\",\"type\":\"Grid\"},{\"id\":\"253d9140-1b85-4e84-af88-9bf786d46d5a\",\"type\":\"Legend\"},{\"id\":\"c36f5dbe-fe24-4829-abab-9debff9b8eb9\",\"type\":\"GlyphRenderer\"},{\"id\":\"eda87cee-fd6b-432e-8789-46d385e3d7b1\",\"type\":\"GlyphRenderer\"},{\"id\":\"235ae2da-d355-4f00-97b4-c6ad383db0f5\",\"type\":\"GlyphRenderer\"}],\"title\":{\"id\":\"df1fda29-d268-47fe-b514-b3399a73e2b8\",\"type\":\"Title\"},\"toolbar\":{\"id\":\"106dcd39-9e96-45e6-ad39-cf1f760c4b67\",\"type\":\"Toolbar\"},\"x_range\":{\"id\":\"507d95e5-0234-4360-a26a-2f7b7b16788f\",\"type\":\"DataRange1d\"},\"x_scale\":{\"id\":\"154b7c28-123b-4f9f-9866-0cbfc1760042\",\"type\":\"LinearScale\"},\"y_range\":{\"id\":\"31e23fff-7a99-4202-8934-1cbece7a347a\",\"type\":\"DataRange1d\"},\"y_scale\":{\"id\":\"0a16faa1-5ddc-4921-99e9-3b5ae41bdc9f\",\"type\":\"LinearScale\"}},\"id\":\"6c01ba33-ce29-4cce-a032-240bca91fa5c\",\"subtype\":\"Figure\",\"type\":\"Plot\"}],\"root_ids\":[\"6c01ba33-ce29-4cce-a032-240bca91fa5c\"]},\"title\":\"Bokeh Application\",\"version\":\"0.12.10\"}};\n",
       "    var render_items = [{\"docid\":\"e5f7c790-9ec6-4877-8c6f-03490dca7c20\",\"elementid\":\"007dc9aa-915b-41a6-8199-c6ab3c7ccd64\",\"modelid\":\"6c01ba33-ce29-4cce-a032-240bca91fa5c\"}];\n",
       "\n",
       "    root.Bokeh.embed.embed_items(docs_json, render_items);\n",
       "  }\n",
       "\n",
       "  if (root.Bokeh !== undefined) {\n",
       "    embed_document(root);\n",
       "  } else {\n",
       "    var attempts = 0;\n",
       "    var timer = setInterval(function(root) {\n",
       "      if (root.Bokeh !== undefined) {\n",
       "        embed_document(root);\n",
       "        clearInterval(timer);\n",
       "      }\n",
       "      attempts++;\n",
       "      if (attempts > 100) {\n",
       "        console.log(\"Bokeh: ERROR: Unable to embed document because BokehJS library is missing\")\n",
       "        clearInterval(timer);\n",
       "      }\n",
       "    }, 10, root)\n",
       "  }\n",
       "})(window);"
      ],
      "application/vnd.bokehjs_exec.v0+json": ""
     },
     "metadata": {
      "application/vnd.bokehjs_exec.v0+json": {
       "id": "6c01ba33-ce29-4cce-a032-240bca91fa5c"
      }
     },
     "output_type": "display_data"
    }
   ],
   "source": [
    "graph_line.xgrid.grid_line_color = None # eliminamos las lineas verticales\n",
    "graph_line.ygrid.grid_line_color = None # horizontales\n",
    "show(graph_line) # mostramos nuestra grafica"
   ]
  },
  {
   "cell_type": "markdown",
   "metadata": {},
   "source": [
    "## Grafico de barras"
   ]
  },
  {
   "cell_type": "markdown",
   "metadata": {},
   "source": [
    "Creamos un una variable contiene los parametros de nuestra grafica final"
   ]
  },
  {
   "cell_type": "code",
   "execution_count": 20,
   "metadata": {},
   "outputs": [],
   "source": [
    "options = dict( # opciones que compartiran cada una de nuestras graficas\n",
    "    plot_width=300, plot_height=250, # Tamaño\n",
    "    tools='' # Herramientas de bokeh adicionales\n",
    ")"
   ]
  },
  {
   "cell_type": "markdown",
   "metadata": {},
   "source": [
    "Creamos un objeto de figura por cada grafica y establecemos sus opciones y titulo. (opciones)"
   ]
  },
  {
   "cell_type": "code",
   "execution_count": 21,
   "metadata": {},
   "outputs": [],
   "source": [
    "graph_bar_1 = figure(\n",
    "    title='Incidencia', # titulo de esta grafica en particular\n",
    "    **options # opciones antes definidad\n",
    ")\n",
    "graph_bar_2 = figure(title='Brecha', **options)\n",
    "graph_bar_3 = figure(title='Severidad', **options)"
   ]
  },
  {
   "cell_type": "markdown",
   "metadata": {},
   "source": [
    "Definimos lo que cada una de nuestras graficas representara"
   ]
  },
  {
   "cell_type": "code",
   "execution_count": 22,
   "metadata": {},
   "outputs": [
    {
     "data": {
      "text/html": [
       "<div style=\"display: table;\"><div style=\"display: table-row;\"><div style=\"display: table-cell;\"><b title=\"bokeh.models.renderers.GlyphRenderer\">GlyphRenderer</b>(</div><div style=\"display: table-cell;\">id&nbsp;=&nbsp;'ff92b8c0-3ab1-4ff0-bbeb-bf0d76fadf45', <span id=\"13c2348b-f359-4a92-b00d-789f594e7c38\" style=\"cursor: pointer;\">&hellip;)</span></div></div><div class=\"ffc15aff-a8ae-4cc2-a110-d7df55966b61\" style=\"display: none;\"><div style=\"display: table-cell;\"></div><div style=\"display: table-cell;\">data_source&nbsp;=&nbsp;ColumnDataSource(id='d7d5bbb4-aa51-4e8a-ba28-a575d2139f25', ...),</div></div><div class=\"ffc15aff-a8ae-4cc2-a110-d7df55966b61\" style=\"display: none;\"><div style=\"display: table-cell;\"></div><div style=\"display: table-cell;\">glyph&nbsp;=&nbsp;VBar(id='7a31620b-b6d3-4152-a160-65eaaf3f7d17', ...),</div></div><div class=\"ffc15aff-a8ae-4cc2-a110-d7df55966b61\" style=\"display: none;\"><div style=\"display: table-cell;\"></div><div style=\"display: table-cell;\">hover_glyph&nbsp;=&nbsp;None,</div></div><div class=\"ffc15aff-a8ae-4cc2-a110-d7df55966b61\" style=\"display: none;\"><div style=\"display: table-cell;\"></div><div style=\"display: table-cell;\">js_event_callbacks&nbsp;=&nbsp;{},</div></div><div class=\"ffc15aff-a8ae-4cc2-a110-d7df55966b61\" style=\"display: none;\"><div style=\"display: table-cell;\"></div><div style=\"display: table-cell;\">js_property_callbacks&nbsp;=&nbsp;{},</div></div><div class=\"ffc15aff-a8ae-4cc2-a110-d7df55966b61\" style=\"display: none;\"><div style=\"display: table-cell;\"></div><div style=\"display: table-cell;\">level&nbsp;=&nbsp;'glyph',</div></div><div class=\"ffc15aff-a8ae-4cc2-a110-d7df55966b61\" style=\"display: none;\"><div style=\"display: table-cell;\"></div><div style=\"display: table-cell;\">muted&nbsp;=&nbsp;False,</div></div><div class=\"ffc15aff-a8ae-4cc2-a110-d7df55966b61\" style=\"display: none;\"><div style=\"display: table-cell;\"></div><div style=\"display: table-cell;\">muted_glyph&nbsp;=&nbsp;None,</div></div><div class=\"ffc15aff-a8ae-4cc2-a110-d7df55966b61\" style=\"display: none;\"><div style=\"display: table-cell;\"></div><div style=\"display: table-cell;\">name&nbsp;=&nbsp;None,</div></div><div class=\"ffc15aff-a8ae-4cc2-a110-d7df55966b61\" style=\"display: none;\"><div style=\"display: table-cell;\"></div><div style=\"display: table-cell;\">nonselection_glyph&nbsp;=&nbsp;VBar(id='52c45ac3-1d00-4acd-af1e-58282ca6e75a', ...),</div></div><div class=\"ffc15aff-a8ae-4cc2-a110-d7df55966b61\" style=\"display: none;\"><div style=\"display: table-cell;\"></div><div style=\"display: table-cell;\">selection_glyph&nbsp;=&nbsp;None,</div></div><div class=\"ffc15aff-a8ae-4cc2-a110-d7df55966b61\" style=\"display: none;\"><div style=\"display: table-cell;\"></div><div style=\"display: table-cell;\">subscribed_events&nbsp;=&nbsp;[],</div></div><div class=\"ffc15aff-a8ae-4cc2-a110-d7df55966b61\" style=\"display: none;\"><div style=\"display: table-cell;\"></div><div style=\"display: table-cell;\">tags&nbsp;=&nbsp;[],</div></div><div class=\"ffc15aff-a8ae-4cc2-a110-d7df55966b61\" style=\"display: none;\"><div style=\"display: table-cell;\"></div><div style=\"display: table-cell;\">view&nbsp;=&nbsp;CDSView(id='f0ba7432-7ab1-48f9-b211-78065712e474', ...),</div></div><div class=\"ffc15aff-a8ae-4cc2-a110-d7df55966b61\" style=\"display: none;\"><div style=\"display: table-cell;\"></div><div style=\"display: table-cell;\">visible&nbsp;=&nbsp;True,</div></div><div class=\"ffc15aff-a8ae-4cc2-a110-d7df55966b61\" style=\"display: none;\"><div style=\"display: table-cell;\"></div><div style=\"display: table-cell;\">x_range_name&nbsp;=&nbsp;'default',</div></div><div class=\"ffc15aff-a8ae-4cc2-a110-d7df55966b61\" style=\"display: none;\"><div style=\"display: table-cell;\"></div><div style=\"display: table-cell;\">y_range_name&nbsp;=&nbsp;'default')</div></div></div>\n",
       "<script>\n",
       "(function() {\n",
       "  var expanded = false;\n",
       "  var ellipsis = document.getElementById(\"13c2348b-f359-4a92-b00d-789f594e7c38\");\n",
       "  ellipsis.addEventListener(\"click\", function() {\n",
       "    var rows = document.getElementsByClassName(\"ffc15aff-a8ae-4cc2-a110-d7df55966b61\");\n",
       "    for (var i = 0; i < rows.length; i++) {\n",
       "      var el = rows[i];\n",
       "      el.style.display = expanded ? \"none\" : \"table-row\";\n",
       "    }\n",
       "    ellipsis.innerHTML = expanded ? \"&hellip;)\" : \"&lsaquo;&lsaquo;&lsaquo;\";\n",
       "    expanded = !expanded;\n",
       "  });\n",
       "})();\n",
       "</script>\n"
      ],
      "text/plain": [
       "GlyphRenderer(id='ff92b8c0-3ab1-4ff0-bbeb-bf0d76fadf45', ...)"
      ]
     },
     "execution_count": 22,
     "metadata": {},
     "output_type": "execute_result"
    }
   ],
   "source": [
    "graph_bar_1.vbar(\n",
    "    x=data.Anios, # datos en x\n",
    "    top=data.Incidencia, # valor maximo\n",
    "    width=0.7, # ancho de cada barra\n",
    "    line_color=\"white\", # color del borde de cada barra\n",
    "    color=\"#f4d341\" # color de cada barra\n",
    ")\n",
    "graph_bar_2.vbar(x=data.Anios, top=data.Brecha, width=0.7, line_color=\"white\", color=\"#42f4bf\")\n",
    "graph_bar_3.vbar(x=data.Anios, top=data.Severidad, width=0.7, line_color=\"white\", color=\"#f44171\")"
   ]
  },
  {
   "cell_type": "markdown",
   "metadata": {},
   "source": [
    "Creamos una nueva figura que esta compuesta por las figuras creadas anteriormente"
   ]
  },
  {
   "cell_type": "code",
   "execution_count": 23,
   "metadata": {},
   "outputs": [
    {
     "data": {
      "text/html": [
       "\n",
       "<div class=\"bk-root\">\n",
       "    <div class=\"bk-plotdiv\" id=\"8e4a3a7b-3856-4ce4-91a4-41bc5e750612\"></div>\n",
       "</div>"
      ]
     },
     "metadata": {},
     "output_type": "display_data"
    },
    {
     "data": {
      "application/javascript": [
       "(function(root) {\n",
       "  function embed_document(root) {\n",
       "    var docs_json = {\"e124f128-4c23-4801-91a4-18915f8776f9\":{\"roots\":{\"references\":[{\"attributes\":{},\"id\":\"ac05f130-bf3e-4ee1-a2f0-cb4252d0aeed\",\"type\":\"BasicTickFormatter\"},{\"attributes\":{\"callback\":null,\"column_names\":[\"x\",\"top\"],\"data\":{\"top\":{\"__ndarray__\":\"j8L1KFyPCkCuR+F6FK4NQFyPwvUoXBFAuB6F61G4CkBSuB6F61EKQNejcD0K1wtAPQrXo3A9BkC4HoXrUbgEQArXo3A9CgVAMzMzMzMzA0A=\",\"dtype\":\"float64\",\"shape\":[10]},\"x\":{\"__ndarray__\":\"AAAAAABgn0AAAAAAAGSfQAAAAAAAaJ9AAAAAAABsn0AAAAAAAHCfQAAAAAAAdJ9AAAAAAAB4n0AAAAAAAHyfQAAAAAAAgJ9AAAAAAACEn0A=\",\"dtype\":\"float64\",\"shape\":[10]}}},\"id\":\"d779dbd5-10a8-4917-8178-0a5530b44470\",\"type\":\"ColumnDataSource\"},{\"attributes\":{\"callback\":null,\"column_names\":[\"x\",\"top\"],\"data\":{\"top\":{\"__ndarray__\":\"ZmZmZmbmJEBSuB6F61EmQIXrUbgeBSpAKVyPwvWoJEBxPQrXo/AhQDMzMzMzsyVA16NwPQrXIUB7FK5H4XofQOxRuB6F6x9AZmZmZmZmHUA=\",\"dtype\":\"float64\",\"shape\":[10]},\"x\":{\"__ndarray__\":\"AAAAAABgn0AAAAAAAGSfQAAAAAAAaJ9AAAAAAABsn0AAAAAAAHCfQAAAAAAAdJ9AAAAAAAB4n0AAAAAAAHyfQAAAAAAAgJ9AAAAAAACEn0A=\",\"dtype\":\"float64\",\"shape\":[10]}}},\"id\":\"71da2114-2521-47e6-818c-c535dd4d7335\",\"type\":\"ColumnDataSource\"},{\"attributes\":{\"below\":[{\"id\":\"9b249075-2113-44bc-8ef4-bce08d3a1f4a\",\"type\":\"LinearAxis\"}],\"left\":[{\"id\":\"edbaa5f2-cd94-49a7-851a-358141c92230\",\"type\":\"LinearAxis\"}],\"plot_height\":250,\"plot_width\":300,\"renderers\":[{\"id\":\"9b249075-2113-44bc-8ef4-bce08d3a1f4a\",\"type\":\"LinearAxis\"},{\"id\":\"9d618536-adeb-4ed5-a5d6-3e03e2ccbe63\",\"type\":\"Grid\"},{\"id\":\"edbaa5f2-cd94-49a7-851a-358141c92230\",\"type\":\"LinearAxis\"},{\"id\":\"1f7ea427-96f6-4825-b78e-f21ab42d46f2\",\"type\":\"Grid\"},{\"id\":\"593518e0-1961-4091-aad1-d7cad6b338b1\",\"type\":\"GlyphRenderer\"}],\"title\":{\"id\":\"b1b7fd33-2648-4938-8771-cc53f6bc57ad\",\"type\":\"Title\"},\"toolbar\":{\"id\":\"6a925a29-41db-4679-acc8-2d24209227dc\",\"type\":\"Toolbar\"},\"toolbar_location\":null,\"x_range\":{\"id\":\"aeec0956-c30b-41f4-8c67-3feacf559be7\",\"type\":\"DataRange1d\"},\"x_scale\":{\"id\":\"556ecb17-dbf3-4512-a8da-a39d53ac236a\",\"type\":\"LinearScale\"},\"y_range\":{\"id\":\"0c4f620d-07fe-4ffc-b0e4-de382177f195\",\"type\":\"DataRange1d\"},\"y_scale\":{\"id\":\"f54d62bb-55b4-46b3-aa2e-d4a2076e1faf\",\"type\":\"LinearScale\"}},\"id\":\"0a70c536-4156-4aab-b6c5-2dc76fafd534\",\"subtype\":\"Figure\",\"type\":\"Plot\"},{\"attributes\":{\"callback\":null,\"column_names\":[\"x\",\"top\"],\"data\":{\"top\":{\"__ndarray__\":\"KVyPwvUo/D+F61G4HoX/P3sUrkfhegJA9ihcj8L1/D9xPQrXo3D5P/YoXI/C9fg/PQrXo3A99j/NzMzMzMz0P3E9CtejcPU/rkfhehSu8z8=\",\"dtype\":\"float64\",\"shape\":[10]},\"x\":{\"__ndarray__\":\"AAAAAABgn0AAAAAAAGSfQAAAAAAAaJ9AAAAAAABsn0AAAAAAAHCfQAAAAAAAdJ9AAAAAAAB4n0AAAAAAAHyfQAAAAAAAgJ9AAAAAAACEn0A=\",\"dtype\":\"float64\",\"shape\":[10]}}},\"id\":\"d7d5bbb4-aa51-4e8a-ba28-a575d2139f25\",\"type\":\"ColumnDataSource\"},{\"attributes\":{\"below\":[{\"id\":\"9be6d913-006a-43f7-8407-46903e901945\",\"type\":\"LinearAxis\"}],\"left\":[{\"id\":\"3ca3bbfc-54c4-46be-b583-d27820a22a46\",\"type\":\"LinearAxis\"}],\"plot_height\":250,\"plot_width\":300,\"renderers\":[{\"id\":\"9be6d913-006a-43f7-8407-46903e901945\",\"type\":\"LinearAxis\"},{\"id\":\"dbb8b034-1160-48ba-b6b6-ad69997e88b0\",\"type\":\"Grid\"},{\"id\":\"3ca3bbfc-54c4-46be-b583-d27820a22a46\",\"type\":\"LinearAxis\"},{\"id\":\"adb5e348-97aa-4232-8f02-f51c9093ad20\",\"type\":\"Grid\"},{\"id\":\"d703a0c3-23f4-4103-9a9c-bbbf5a53a55f\",\"type\":\"GlyphRenderer\"}],\"title\":{\"id\":\"276f5018-458e-4f1b-9cc2-049339fc7b46\",\"type\":\"Title\"},\"toolbar\":{\"id\":\"52faafac-fbb0-41ff-bad3-0a4f7fc740ad\",\"type\":\"Toolbar\"},\"toolbar_location\":null,\"x_range\":{\"id\":\"7ae0681a-dbd6-409b-9b6e-4de93526ff32\",\"type\":\"DataRange1d\"},\"x_scale\":{\"id\":\"31c8df62-b632-49d2-8dfb-30020d373b4a\",\"type\":\"LinearScale\"},\"y_range\":{\"id\":\"dd36de19-7d87-4ac0-9976-d1ab60c3b34f\",\"type\":\"DataRange1d\"},\"y_scale\":{\"id\":\"cb92b376-d9a2-4091-8ee3-032786486cc4\",\"type\":\"LinearScale\"}},\"id\":\"83ab45bd-72bb-4f97-b80b-709eff3cdbb9\",\"subtype\":\"Figure\",\"type\":\"Plot\"},{\"attributes\":{\"fill_color\":{\"value\":\"#f4d341\"},\"line_color\":{\"value\":\"white\"},\"top\":{\"field\":\"top\"},\"width\":{\"value\":0.7},\"x\":{\"field\":\"x\"}},\"id\":\"d7e2adfa-6e3b-45b3-aa6a-b26c0f693095\",\"type\":\"VBar\"},{\"attributes\":{\"fill_color\":{\"value\":\"#42f4bf\"},\"line_color\":{\"value\":\"white\"},\"top\":{\"field\":\"top\"},\"width\":{\"value\":0.7},\"x\":{\"field\":\"x\"}},\"id\":\"0456a6c5-09f8-466d-bb2f-3314d7f9a409\",\"type\":\"VBar\"},{\"attributes\":{},\"id\":\"31c8df62-b632-49d2-8dfb-30020d373b4a\",\"type\":\"LinearScale\"},{\"attributes\":{\"fill_alpha\":{\"value\":0.1},\"fill_color\":{\"value\":\"#1f77b4\"},\"line_alpha\":{\"value\":0.1},\"line_color\":{\"value\":\"#1f77b4\"},\"top\":{\"field\":\"top\"},\"width\":{\"value\":0.7},\"x\":{\"field\":\"x\"}},\"id\":\"5cfcc335-5e0c-4473-a010-5c7c7b7ff507\",\"type\":\"VBar\"},{\"attributes\":{\"fill_alpha\":{\"value\":0.1},\"fill_color\":{\"value\":\"#1f77b4\"},\"line_alpha\":{\"value\":0.1},\"line_color\":{\"value\":\"#1f77b4\"},\"top\":{\"field\":\"top\"},\"width\":{\"value\":0.7},\"x\":{\"field\":\"x\"}},\"id\":\"3af582a3-f7f5-4882-a904-18e486c9061b\",\"type\":\"VBar\"},{\"attributes\":{\"callback\":null},\"id\":\"7ae0681a-dbd6-409b-9b6e-4de93526ff32\",\"type\":\"DataRange1d\"},{\"attributes\":{\"data_source\":{\"id\":\"71da2114-2521-47e6-818c-c535dd4d7335\",\"type\":\"ColumnDataSource\"},\"glyph\":{\"id\":\"d7e2adfa-6e3b-45b3-aa6a-b26c0f693095\",\"type\":\"VBar\"},\"hover_glyph\":null,\"muted_glyph\":null,\"nonselection_glyph\":{\"id\":\"3af582a3-f7f5-4882-a904-18e486c9061b\",\"type\":\"VBar\"},\"selection_glyph\":null,\"view\":{\"id\":\"78ec52f1-711c-475e-834c-96d6eb7a973b\",\"type\":\"CDSView\"}},\"id\":\"d703a0c3-23f4-4103-9a9c-bbbf5a53a55f\",\"type\":\"GlyphRenderer\"},{\"attributes\":{\"plot\":null,\"text\":\"Incidencia\"},\"id\":\"276f5018-458e-4f1b-9cc2-049339fc7b46\",\"type\":\"Title\"},{\"attributes\":{\"callback\":null},\"id\":\"dd36de19-7d87-4ac0-9976-d1ab60c3b34f\",\"type\":\"DataRange1d\"},{\"attributes\":{\"plot\":null,\"text\":\"Severidad\"},\"id\":\"8e4c6880-3f81-4ecc-bcad-24b19de787ef\",\"type\":\"Title\"},{\"attributes\":{\"source\":{\"id\":\"71da2114-2521-47e6-818c-c535dd4d7335\",\"type\":\"ColumnDataSource\"}},\"id\":\"78ec52f1-711c-475e-834c-96d6eb7a973b\",\"type\":\"CDSView\"},{\"attributes\":{\"callback\":null},\"id\":\"aeec0956-c30b-41f4-8c67-3feacf559be7\",\"type\":\"DataRange1d\"},{\"attributes\":{},\"id\":\"db4c9a0f-215e-429d-a81a-6a5d01f06fd4\",\"type\":\"BasicTickFormatter\"},{\"attributes\":{\"children\":[{\"id\":\"db5ae08b-d085-43f6-a297-8026c04df027\",\"type\":\"Row\"}]},\"id\":\"8d3901ae-4631-4ccc-a308-7677f08865d6\",\"type\":\"Column\"},{\"attributes\":{\"active_drag\":\"auto\",\"active_inspect\":\"auto\",\"active_scroll\":\"auto\",\"active_tap\":\"auto\"},\"id\":\"6a925a29-41db-4679-acc8-2d24209227dc\",\"type\":\"Toolbar\"},{\"attributes\":{},\"id\":\"f4650e16-74a9-4997-a910-7f07acd41fa7\",\"type\":\"BasicTickFormatter\"},{\"attributes\":{\"plot\":{\"id\":\"0a70c536-4156-4aab-b6c5-2dc76fafd534\",\"subtype\":\"Figure\",\"type\":\"Plot\"},\"ticker\":{\"id\":\"73cfe2a7-d049-4416-879c-2ea5de670154\",\"type\":\"BasicTicker\"}},\"id\":\"9d618536-adeb-4ed5-a5d6-3e03e2ccbe63\",\"type\":\"Grid\"},{\"attributes\":{},\"id\":\"2c884d4b-9e20-434f-b9fe-30bde8934b7e\",\"type\":\"BasicTickFormatter\"},{\"attributes\":{\"active_drag\":\"auto\",\"active_inspect\":\"auto\",\"active_scroll\":\"auto\",\"active_tap\":\"auto\"},\"id\":\"52faafac-fbb0-41ff-bad3-0a4f7fc740ad\",\"type\":\"Toolbar\"},{\"attributes\":{\"formatter\":{\"id\":\"f4650e16-74a9-4997-a910-7f07acd41fa7\",\"type\":\"BasicTickFormatter\"},\"plot\":{\"id\":\"83ab45bd-72bb-4f97-b80b-709eff3cdbb9\",\"subtype\":\"Figure\",\"type\":\"Plot\"},\"ticker\":{\"id\":\"d4b28b28-5270-4fea-a492-cc5df5f97fca\",\"type\":\"BasicTicker\"}},\"id\":\"9be6d913-006a-43f7-8407-46903e901945\",\"type\":\"LinearAxis\"},{\"attributes\":{\"fill_alpha\":{\"value\":0.1},\"fill_color\":{\"value\":\"#1f77b4\"},\"line_alpha\":{\"value\":0.1},\"line_color\":{\"value\":\"#1f77b4\"},\"top\":{\"field\":\"top\"},\"width\":{\"value\":0.7},\"x\":{\"field\":\"x\"}},\"id\":\"52c45ac3-1d00-4acd-af1e-58282ca6e75a\",\"type\":\"VBar\"},{\"attributes\":{\"below\":[{\"id\":\"ab247496-6b23-439a-9e4a-7ab1451e23af\",\"type\":\"LinearAxis\"}],\"left\":[{\"id\":\"ca10320f-c6db-46f2-a2e1-37ef8531e74f\",\"type\":\"LinearAxis\"}],\"plot_height\":250,\"plot_width\":300,\"renderers\":[{\"id\":\"ab247496-6b23-439a-9e4a-7ab1451e23af\",\"type\":\"LinearAxis\"},{\"id\":\"e1005ca7-6e8e-4d35-acfc-eed506df336f\",\"type\":\"Grid\"},{\"id\":\"ca10320f-c6db-46f2-a2e1-37ef8531e74f\",\"type\":\"LinearAxis\"},{\"id\":\"24973dff-465d-47c4-b27f-c43ad041825b\",\"type\":\"Grid\"},{\"id\":\"ff92b8c0-3ab1-4ff0-bbeb-bf0d76fadf45\",\"type\":\"GlyphRenderer\"}],\"title\":{\"id\":\"8e4c6880-3f81-4ecc-bcad-24b19de787ef\",\"type\":\"Title\"},\"toolbar\":{\"id\":\"8d47f515-2060-48c6-92c6-382bc7c79dfc\",\"type\":\"Toolbar\"},\"toolbar_location\":null,\"x_range\":{\"id\":\"b04db4f0-1063-4e9f-bca7-4c01242a992a\",\"type\":\"DataRange1d\"},\"x_scale\":{\"id\":\"55cf4448-7f18-4f89-b238-77f2410069c1\",\"type\":\"LinearScale\"},\"y_range\":{\"id\":\"205b8168-82f8-42dd-9eab-971d7ef055d8\",\"type\":\"DataRange1d\"},\"y_scale\":{\"id\":\"1002a377-dc30-4b79-988c-cf39f28a0b13\",\"type\":\"LinearScale\"}},\"id\":\"8ffb85f3-81ab-4a62-98ba-67da9f4f80f8\",\"subtype\":\"Figure\",\"type\":\"Plot\"},{\"attributes\":{\"fill_color\":{\"value\":\"#f44171\"},\"line_color\":{\"value\":\"white\"},\"top\":{\"field\":\"top\"},\"width\":{\"value\":0.7},\"x\":{\"field\":\"x\"}},\"id\":\"7a31620b-b6d3-4152-a160-65eaaf3f7d17\",\"type\":\"VBar\"},{\"attributes\":{},\"id\":\"cb92b376-d9a2-4091-8ee3-032786486cc4\",\"type\":\"LinearScale\"},{\"attributes\":{\"data_source\":{\"id\":\"d7d5bbb4-aa51-4e8a-ba28-a575d2139f25\",\"type\":\"ColumnDataSource\"},\"glyph\":{\"id\":\"7a31620b-b6d3-4152-a160-65eaaf3f7d17\",\"type\":\"VBar\"},\"hover_glyph\":null,\"muted_glyph\":null,\"nonselection_glyph\":{\"id\":\"52c45ac3-1d00-4acd-af1e-58282ca6e75a\",\"type\":\"VBar\"},\"selection_glyph\":null,\"view\":{\"id\":\"f0ba7432-7ab1-48f9-b211-78065712e474\",\"type\":\"CDSView\"}},\"id\":\"ff92b8c0-3ab1-4ff0-bbeb-bf0d76fadf45\",\"type\":\"GlyphRenderer\"},{\"attributes\":{},\"id\":\"01a108bc-1f2e-4aa8-b9d2-93c6f381da23\",\"type\":\"BasicTicker\"},{\"attributes\":{\"source\":{\"id\":\"d7d5bbb4-aa51-4e8a-ba28-a575d2139f25\",\"type\":\"ColumnDataSource\"}},\"id\":\"f0ba7432-7ab1-48f9-b211-78065712e474\",\"type\":\"CDSView\"},{\"attributes\":{},\"id\":\"d4b28b28-5270-4fea-a492-cc5df5f97fca\",\"type\":\"BasicTicker\"},{\"attributes\":{\"formatter\":{\"id\":\"a51fcc6c-5423-4c18-b890-b685fd1a3fcf\",\"type\":\"BasicTickFormatter\"},\"plot\":{\"id\":\"83ab45bd-72bb-4f97-b80b-709eff3cdbb9\",\"subtype\":\"Figure\",\"type\":\"Plot\"},\"ticker\":{\"id\":\"01a108bc-1f2e-4aa8-b9d2-93c6f381da23\",\"type\":\"BasicTicker\"}},\"id\":\"3ca3bbfc-54c4-46be-b583-d27820a22a46\",\"type\":\"LinearAxis\"},{\"attributes\":{},\"id\":\"e78e0daa-2ed3-4ce7-ba1f-5b83ddf7fcf8\",\"type\":\"BasicTickFormatter\"},{\"attributes\":{\"plot\":null,\"text\":\"Brecha\"},\"id\":\"b1b7fd33-2648-4938-8771-cc53f6bc57ad\",\"type\":\"Title\"},{\"attributes\":{\"plot\":{\"id\":\"83ab45bd-72bb-4f97-b80b-709eff3cdbb9\",\"subtype\":\"Figure\",\"type\":\"Plot\"},\"ticker\":{\"id\":\"d4b28b28-5270-4fea-a492-cc5df5f97fca\",\"type\":\"BasicTicker\"}},\"id\":\"dbb8b034-1160-48ba-b6b6-ad69997e88b0\",\"type\":\"Grid\"},{\"attributes\":{},\"id\":\"f54d62bb-55b4-46b3-aa2e-d4a2076e1faf\",\"type\":\"LinearScale\"},{\"attributes\":{\"dimension\":1,\"plot\":{\"id\":\"83ab45bd-72bb-4f97-b80b-709eff3cdbb9\",\"subtype\":\"Figure\",\"type\":\"Plot\"},\"ticker\":{\"id\":\"01a108bc-1f2e-4aa8-b9d2-93c6f381da23\",\"type\":\"BasicTicker\"}},\"id\":\"adb5e348-97aa-4232-8f02-f51c9093ad20\",\"type\":\"Grid\"},{\"attributes\":{},\"id\":\"73cfe2a7-d049-4416-879c-2ea5de670154\",\"type\":\"BasicTicker\"},{\"attributes\":{\"callback\":null},\"id\":\"0c4f620d-07fe-4ffc-b0e4-de382177f195\",\"type\":\"DataRange1d\"},{\"attributes\":{\"data_source\":{\"id\":\"d779dbd5-10a8-4917-8178-0a5530b44470\",\"type\":\"ColumnDataSource\"},\"glyph\":{\"id\":\"0456a6c5-09f8-466d-bb2f-3314d7f9a409\",\"type\":\"VBar\"},\"hover_glyph\":null,\"muted_glyph\":null,\"nonselection_glyph\":{\"id\":\"5cfcc335-5e0c-4473-a010-5c7c7b7ff507\",\"type\":\"VBar\"},\"selection_glyph\":null,\"view\":{\"id\":\"201e50cd-9eec-4a5a-840b-7f24eee7992e\",\"type\":\"CDSView\"}},\"id\":\"593518e0-1961-4091-aad1-d7cad6b338b1\",\"type\":\"GlyphRenderer\"},{\"attributes\":{\"callback\":null},\"id\":\"b04db4f0-1063-4e9f-bca7-4c01242a992a\",\"type\":\"DataRange1d\"},{\"attributes\":{},\"id\":\"556ecb17-dbf3-4512-a8da-a39d53ac236a\",\"type\":\"LinearScale\"},{\"attributes\":{\"formatter\":{\"id\":\"2c884d4b-9e20-434f-b9fe-30bde8934b7e\",\"type\":\"BasicTickFormatter\"},\"plot\":{\"id\":\"0a70c536-4156-4aab-b6c5-2dc76fafd534\",\"subtype\":\"Figure\",\"type\":\"Plot\"},\"ticker\":{\"id\":\"73cfe2a7-d049-4416-879c-2ea5de670154\",\"type\":\"BasicTicker\"}},\"id\":\"9b249075-2113-44bc-8ef4-bce08d3a1f4a\",\"type\":\"LinearAxis\"},{\"attributes\":{\"formatter\":{\"id\":\"db4c9a0f-215e-429d-a81a-6a5d01f06fd4\",\"type\":\"BasicTickFormatter\"},\"plot\":{\"id\":\"0a70c536-4156-4aab-b6c5-2dc76fafd534\",\"subtype\":\"Figure\",\"type\":\"Plot\"},\"ticker\":{\"id\":\"e055b17e-1303-458a-a858-593abb0ae3be\",\"type\":\"BasicTicker\"}},\"id\":\"edbaa5f2-cd94-49a7-851a-358141c92230\",\"type\":\"LinearAxis\"},{\"attributes\":{},\"id\":\"a51fcc6c-5423-4c18-b890-b685fd1a3fcf\",\"type\":\"BasicTickFormatter\"},{\"attributes\":{\"dimension\":1,\"plot\":{\"id\":\"0a70c536-4156-4aab-b6c5-2dc76fafd534\",\"subtype\":\"Figure\",\"type\":\"Plot\"},\"ticker\":{\"id\":\"e055b17e-1303-458a-a858-593abb0ae3be\",\"type\":\"BasicTicker\"}},\"id\":\"1f7ea427-96f6-4825-b78e-f21ab42d46f2\",\"type\":\"Grid\"},{\"attributes\":{},\"id\":\"e055b17e-1303-458a-a858-593abb0ae3be\",\"type\":\"BasicTicker\"},{\"attributes\":{\"active_drag\":\"auto\",\"active_inspect\":\"auto\",\"active_scroll\":\"auto\",\"active_tap\":\"auto\"},\"id\":\"8d47f515-2060-48c6-92c6-382bc7c79dfc\",\"type\":\"Toolbar\"},{\"attributes\":{\"callback\":null},\"id\":\"205b8168-82f8-42dd-9eab-971d7ef055d8\",\"type\":\"DataRange1d\"},{\"attributes\":{},\"id\":\"55cf4448-7f18-4f89-b238-77f2410069c1\",\"type\":\"LinearScale\"},{\"attributes\":{\"formatter\":{\"id\":\"ac05f130-bf3e-4ee1-a2f0-cb4252d0aeed\",\"type\":\"BasicTickFormatter\"},\"plot\":{\"id\":\"8ffb85f3-81ab-4a62-98ba-67da9f4f80f8\",\"subtype\":\"Figure\",\"type\":\"Plot\"},\"ticker\":{\"id\":\"dd736a05-80b5-402f-ad69-53638ba189e8\",\"type\":\"BasicTicker\"}},\"id\":\"ab247496-6b23-439a-9e4a-7ab1451e23af\",\"type\":\"LinearAxis\"},{\"attributes\":{\"formatter\":{\"id\":\"e78e0daa-2ed3-4ce7-ba1f-5b83ddf7fcf8\",\"type\":\"BasicTickFormatter\"},\"plot\":{\"id\":\"8ffb85f3-81ab-4a62-98ba-67da9f4f80f8\",\"subtype\":\"Figure\",\"type\":\"Plot\"},\"ticker\":{\"id\":\"5b405d82-491b-49f2-a6f1-9f5cff7dcdbf\",\"type\":\"BasicTicker\"}},\"id\":\"ca10320f-c6db-46f2-a2e1-37ef8531e74f\",\"type\":\"LinearAxis\"},{\"attributes\":{\"plot\":{\"id\":\"8ffb85f3-81ab-4a62-98ba-67da9f4f80f8\",\"subtype\":\"Figure\",\"type\":\"Plot\"},\"ticker\":{\"id\":\"dd736a05-80b5-402f-ad69-53638ba189e8\",\"type\":\"BasicTicker\"}},\"id\":\"e1005ca7-6e8e-4d35-acfc-eed506df336f\",\"type\":\"Grid\"},{\"attributes\":{},\"id\":\"1002a377-dc30-4b79-988c-cf39f28a0b13\",\"type\":\"LinearScale\"},{\"attributes\":{\"children\":[{\"id\":\"83ab45bd-72bb-4f97-b80b-709eff3cdbb9\",\"subtype\":\"Figure\",\"type\":\"Plot\"},{\"id\":\"0a70c536-4156-4aab-b6c5-2dc76fafd534\",\"subtype\":\"Figure\",\"type\":\"Plot\"},{\"id\":\"8ffb85f3-81ab-4a62-98ba-67da9f4f80f8\",\"subtype\":\"Figure\",\"type\":\"Plot\"}]},\"id\":\"db5ae08b-d085-43f6-a297-8026c04df027\",\"type\":\"Row\"},{\"attributes\":{},\"id\":\"dd736a05-80b5-402f-ad69-53638ba189e8\",\"type\":\"BasicTicker\"},{\"attributes\":{},\"id\":\"5b405d82-491b-49f2-a6f1-9f5cff7dcdbf\",\"type\":\"BasicTicker\"},{\"attributes\":{\"dimension\":1,\"plot\":{\"id\":\"8ffb85f3-81ab-4a62-98ba-67da9f4f80f8\",\"subtype\":\"Figure\",\"type\":\"Plot\"},\"ticker\":{\"id\":\"5b405d82-491b-49f2-a6f1-9f5cff7dcdbf\",\"type\":\"BasicTicker\"}},\"id\":\"24973dff-465d-47c4-b27f-c43ad041825b\",\"type\":\"Grid\"},{\"attributes\":{\"source\":{\"id\":\"d779dbd5-10a8-4917-8178-0a5530b44470\",\"type\":\"ColumnDataSource\"}},\"id\":\"201e50cd-9eec-4a5a-840b-7f24eee7992e\",\"type\":\"CDSView\"},{\"attributes\":{\"sizing_mode\":\"scale_width\",\"toolbar_location\":\"above\"},\"id\":\"5f4c131c-7fc6-48df-9590-fcc47b4606ea\",\"type\":\"ToolbarBox\"},{\"attributes\":{\"children\":[{\"id\":\"5f4c131c-7fc6-48df-9590-fcc47b4606ea\",\"type\":\"ToolbarBox\"},{\"id\":\"8d3901ae-4631-4ccc-a308-7677f08865d6\",\"type\":\"Column\"}]},\"id\":\"25680f93-92f5-4852-8a0c-faeda7a7df48\",\"type\":\"Column\"}],\"root_ids\":[\"25680f93-92f5-4852-8a0c-faeda7a7df48\"]},\"title\":\"Bokeh Application\",\"version\":\"0.12.10\"}};\n",
       "    var render_items = [{\"docid\":\"e124f128-4c23-4801-91a4-18915f8776f9\",\"elementid\":\"8e4a3a7b-3856-4ce4-91a4-41bc5e750612\",\"modelid\":\"25680f93-92f5-4852-8a0c-faeda7a7df48\"}];\n",
       "\n",
       "    root.Bokeh.embed.embed_items(docs_json, render_items);\n",
       "  }\n",
       "\n",
       "  if (root.Bokeh !== undefined) {\n",
       "    embed_document(root);\n",
       "  } else {\n",
       "    var attempts = 0;\n",
       "    var timer = setInterval(function(root) {\n",
       "      if (root.Bokeh !== undefined) {\n",
       "        embed_document(root);\n",
       "        clearInterval(timer);\n",
       "      }\n",
       "      attempts++;\n",
       "      if (attempts > 100) {\n",
       "        console.log(\"Bokeh: ERROR: Unable to embed document because BokehJS library is missing\")\n",
       "        clearInterval(timer);\n",
       "      }\n",
       "    }, 10, root)\n",
       "  }\n",
       "})(window);"
      ],
      "application/vnd.bokehjs_exec.v0+json": ""
     },
     "metadata": {
      "application/vnd.bokehjs_exec.v0+json": {
       "id": "25680f93-92f5-4852-8a0c-faeda7a7df48"
      }
     },
     "output_type": "display_data"
    }
   ],
   "source": [
    "graph_bar = gridplot([[graph_bar_1, graph_bar_2, graph_bar_3]]) # agrupamos nuestas graficas\n",
    "show(graph_bar) # Mostramos los resultados"
   ]
  }
 ],
 "metadata": {
  "kernelspec": {
   "display_name": "Python 3",
   "language": "python",
   "name": "python3"
  },
  "language_info": {
   "codemirror_mode": {
    "name": "ipython",
    "version": 3
   },
   "file_extension": ".py",
   "mimetype": "text/x-python",
   "name": "python",
   "nbconvert_exporter": "python",
   "pygments_lexer": "ipython3",
   "version": "3.6.3"
  }
 },
 "nbformat": 4,
 "nbformat_minor": 2
}
