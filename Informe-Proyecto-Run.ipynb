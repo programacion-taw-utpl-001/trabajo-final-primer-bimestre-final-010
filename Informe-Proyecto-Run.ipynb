{
 "cells": [
  {
   "cell_type": "markdown",
   "metadata": {},
   "source": [
    "# PROYECTO DE VISUALIZACION DE DATOS "
   ]
  },
  {
   "cell_type": "markdown",
   "metadata": {},
   "source": [
    "## SET DE DATOS\n",
    "----\n",
    "**Los datos que trabajaremos son del sitio web Ecuador en cifras, sobre la pobreza en ciudades como Quito, Guayaquil, y otras del Ecuador**"
   ]
  },
  {
   "cell_type": "markdown",
   "metadata": {},
   "source": [
    "Para poder cargar nuestro set de datos necesitamos importar la librería de `pandas`"
   ]
  },
  {
   "cell_type": "code",
   "execution_count": 2,
   "metadata": {},
   "outputs": [],
   "source": [
    "import pandas as pd"
   ]
  },
  {
   "cell_type": "markdown",
   "metadata": {},
   "source": [
    "Nuestro conjunto de datos está en formato `.csv`, por lo que usaremos `read_csv` de pandas."
   ]
  },
  {
   "cell_type": "code",
   "execution_count": 3,
   "metadata": {},
   "outputs": [],
   "source": [
    "# guardamos nuestra tabla en una variable data, después de haber sido leída por pandas\n",
    "raw_data = pd.read_csv(\n",
    "    './assets/datosPobreza.csv', # dirección donde esta nuestra data\n",
    "    sep=';', # separador de datos para ser leídos por pandas\n",
    "    decimal=\",\" # el separador, o sino nuestros números serán tratados como strings si contienen \"comas\"\n",
    ")"
   ]
  },
  {
   "cell_type": "markdown",
   "metadata": {},
   "source": [
    "`read_csv` devuelve un `DataFrame`, una estructura tabular de datos proporcionada por pandas. Un `DataFrame` está dotado de varios atributos y métodos útiles para explorar los datos."
   ]
  },
  {
   "cell_type": "markdown",
   "metadata": {},
   "source": [
    "Con la función `head()` sobre nuestro `DataFrame` podemos mostrar los primeras filas de nuestra data, para no presentar todas las filas. "
   ]
  },
  {
   "cell_type": "code",
   "execution_count": 4,
   "metadata": {},
   "outputs": [
    {
     "data": {
      "text/html": [
       "<div>\n",
       "<style scoped>\n",
       "    .dataframe tbody tr th:only-of-type {\n",
       "        vertical-align: middle;\n",
       "    }\n",
       "\n",
       "    .dataframe tbody tr th {\n",
       "        vertical-align: top;\n",
       "    }\n",
       "\n",
       "    .dataframe thead th {\n",
       "        text-align: right;\n",
       "    }\n",
       "</style>\n",
       "<table border=\"1\" class=\"dataframe\">\n",
       "  <thead>\n",
       "    <tr style=\"text-align: right;\">\n",
       "      <th></th>\n",
       "      <th>Período</th>\n",
       "      <th>Anios</th>\n",
       "      <th>Quito</th>\n",
       "      <th>Quito.1</th>\n",
       "      <th>Quito.2</th>\n",
       "      <th>Guayaquil</th>\n",
       "      <th>Guayaquil.1</th>\n",
       "      <th>Guayaquil.2</th>\n",
       "      <th>Cuenca</th>\n",
       "      <th>Cuenca.1</th>\n",
       "      <th>Cuenca.2</th>\n",
       "      <th>Machala</th>\n",
       "      <th>Machala.1</th>\n",
       "      <th>Machala.2</th>\n",
       "      <th>Ambato</th>\n",
       "      <th>Ambato.1</th>\n",
       "      <th>Ambato.2</th>\n",
       "    </tr>\n",
       "  </thead>\n",
       "  <tbody>\n",
       "    <tr>\n",
       "      <th>0</th>\n",
       "      <td>NaN</td>\n",
       "      <td>NaN</td>\n",
       "      <td>NaN</td>\n",
       "      <td>NaN</td>\n",
       "      <td>NaN</td>\n",
       "      <td>NaN</td>\n",
       "      <td>NaN</td>\n",
       "      <td>NaN</td>\n",
       "      <td>NaN</td>\n",
       "      <td>NaN</td>\n",
       "      <td>NaN</td>\n",
       "      <td>NaN</td>\n",
       "      <td>NaN</td>\n",
       "      <td>NaN</td>\n",
       "      <td>NaN</td>\n",
       "      <td>NaN</td>\n",
       "      <td>NaN</td>\n",
       "    </tr>\n",
       "    <tr>\n",
       "      <th>1</th>\n",
       "      <td>Marzo</td>\n",
       "      <td>2008.0</td>\n",
       "      <td>10.45</td>\n",
       "      <td>3.32</td>\n",
       "      <td>1.76</td>\n",
       "      <td>22.06</td>\n",
       "      <td>6.38</td>\n",
       "      <td>2.87</td>\n",
       "      <td>11.68</td>\n",
       "      <td>3.74</td>\n",
       "      <td>1.88</td>\n",
       "      <td>20.76</td>\n",
       "      <td>6.43</td>\n",
       "      <td>2.82</td>\n",
       "      <td>21.20</td>\n",
       "      <td>6.38</td>\n",
       "      <td>3.11</td>\n",
       "    </tr>\n",
       "    <tr>\n",
       "      <th>2</th>\n",
       "      <td>Marzo</td>\n",
       "      <td>2009.0</td>\n",
       "      <td>11.16</td>\n",
       "      <td>3.71</td>\n",
       "      <td>1.97</td>\n",
       "      <td>24.28</td>\n",
       "      <td>7.50</td>\n",
       "      <td>3.26</td>\n",
       "      <td>10.91</td>\n",
       "      <td>3.31</td>\n",
       "      <td>1.51</td>\n",
       "      <td>20.76</td>\n",
       "      <td>6.32</td>\n",
       "      <td>2.94</td>\n",
       "      <td>17.55</td>\n",
       "      <td>5.81</td>\n",
       "      <td>2.99</td>\n",
       "    </tr>\n",
       "    <tr>\n",
       "      <th>3</th>\n",
       "      <td>Marzo</td>\n",
       "      <td>2010.0</td>\n",
       "      <td>13.01</td>\n",
       "      <td>4.34</td>\n",
       "      <td>2.31</td>\n",
       "      <td>20.80</td>\n",
       "      <td>5.82</td>\n",
       "      <td>2.37</td>\n",
       "      <td>13.78</td>\n",
       "      <td>3.80</td>\n",
       "      <td>1.60</td>\n",
       "      <td>15.54</td>\n",
       "      <td>4.20</td>\n",
       "      <td>1.77</td>\n",
       "      <td>11.63</td>\n",
       "      <td>3.47</td>\n",
       "      <td>1.47</td>\n",
       "    </tr>\n",
       "    <tr>\n",
       "      <th>4</th>\n",
       "      <td>Marzo</td>\n",
       "      <td>2011.0</td>\n",
       "      <td>10.33</td>\n",
       "      <td>3.34</td>\n",
       "      <td>1.81</td>\n",
       "      <td>19.21</td>\n",
       "      <td>4.99</td>\n",
       "      <td>1.99</td>\n",
       "      <td>12.39</td>\n",
       "      <td>4.13</td>\n",
       "      <td>2.20</td>\n",
       "      <td>14.76</td>\n",
       "      <td>4.07</td>\n",
       "      <td>1.62</td>\n",
       "      <td>10.58</td>\n",
       "      <td>2.68</td>\n",
       "      <td>1.02</td>\n",
       "    </tr>\n",
       "  </tbody>\n",
       "</table>\n",
       "</div>"
      ],
      "text/plain": [
       "  Período   Anios  Quito  Quito.1  Quito.2  Guayaquil  Guayaquil.1  \\\n",
       "0     NaN     NaN    NaN      NaN      NaN        NaN          NaN   \n",
       "1   Marzo  2008.0  10.45     3.32     1.76      22.06         6.38   \n",
       "2   Marzo  2009.0  11.16     3.71     1.97      24.28         7.50   \n",
       "3   Marzo  2010.0  13.01     4.34     2.31      20.80         5.82   \n",
       "4   Marzo  2011.0  10.33     3.34     1.81      19.21         4.99   \n",
       "\n",
       "   Guayaquil.2  Cuenca  Cuenca.1  Cuenca.2  Machala  Machala.1  Machala.2  \\\n",
       "0          NaN     NaN       NaN       NaN      NaN        NaN        NaN   \n",
       "1         2.87   11.68      3.74      1.88    20.76       6.43       2.82   \n",
       "2         3.26   10.91      3.31      1.51    20.76       6.32       2.94   \n",
       "3         2.37   13.78      3.80      1.60    15.54       4.20       1.77   \n",
       "4         1.99   12.39      4.13      2.20    14.76       4.07       1.62   \n",
       "\n",
       "   Ambato  Ambato.1  Ambato.2  \n",
       "0     NaN       NaN       NaN  \n",
       "1   21.20      6.38      3.11  \n",
       "2   17.55      5.81      2.99  \n",
       "3   11.63      3.47      1.47  \n",
       "4   10.58      2.68      1.02  "
      ]
     },
     "execution_count": 4,
     "metadata": {},
     "output_type": "execute_result"
    }
   ],
   "source": [
    "raw_data.head()"
   ]
  },
  {
   "cell_type": "markdown",
   "metadata": {},
   "source": [
    "Con la función `[1:]` eliminamos la primera fila, ya que no son parte de los datos que usaremos"
   ]
  },
  {
   "cell_type": "code",
   "execution_count": 5,
   "metadata": {},
   "outputs": [],
   "source": [
    "raw_data = raw_data[1:]"
   ]
  },
  {
   "cell_type": "code",
   "execution_count": 6,
   "metadata": {},
   "outputs": [
    {
     "data": {
      "text/plain": [
       "(10, 17)"
      ]
     },
     "execution_count": 6,
     "metadata": {},
     "output_type": "execute_result"
    }
   ],
   "source": [
    "raw_data.shape  # números de campos de nuestra data"
   ]
  },
  {
   "cell_type": "markdown",
   "metadata": {},
   "source": [
    "Un `DataFrame` se compone de dos componentes principales; \n",
    " - Los datos mismos, que se pueden extraer a través del atributo de valores\n",
    " - Conjunto de índices, que son esencialmente etiquetas para las filas y columnas del DataFrame."
   ]
  },
  {
   "cell_type": "code",
   "execution_count": 7,
   "metadata": {},
   "outputs": [
    {
     "data": {
      "text/plain": [
       "RangeIndex(start=1, stop=11, step=1)"
      ]
     },
     "execution_count": 7,
     "metadata": {},
     "output_type": "execute_result"
    }
   ],
   "source": [
    "raw_data.index"
   ]
  },
  {
   "cell_type": "code",
   "execution_count": 8,
   "metadata": {},
   "outputs": [
    {
     "data": {
      "text/plain": [
       "Index(['Período', 'Anios', 'Quito', 'Quito.1', 'Quito.2', 'Guayaquil',\n",
       "       'Guayaquil.1', 'Guayaquil.2', 'Cuenca', 'Cuenca.1', 'Cuenca.2',\n",
       "       'Machala', 'Machala.1', 'Machala.2', 'Ambato', 'Ambato.1', 'Ambato.2'],\n",
       "      dtype='object')"
      ]
     },
     "execution_count": 8,
     "metadata": {},
     "output_type": "execute_result"
    }
   ],
   "source": [
    "raw_data.columns"
   ]
  },
  {
   "cell_type": "markdown",
   "metadata": {},
   "source": [
    "Pero, un `índice` es más que un conjunto de etiquetas. Es importante destacar que asegura la **alineación de datos** cuando se agregan datos o se combinan estructuras de datos.\n",
    "\n",
    "De hecho, podemos especificar un índice más apropiado para nuestros datos. El campo Año aquí es un índice único para los valores de análisis correspondientes.\n",
    "\n",
    "`set_index` nos permite convertir cualquier columna (o matriz externa) que elijamos en el índice de fila."
   ]
  },
  {
   "cell_type": "code",
   "execution_count": 9,
   "metadata": {},
   "outputs": [
    {
     "data": {
      "text/html": [
       "<div>\n",
       "<style scoped>\n",
       "    .dataframe tbody tr th:only-of-type {\n",
       "        vertical-align: middle;\n",
       "    }\n",
       "\n",
       "    .dataframe tbody tr th {\n",
       "        vertical-align: top;\n",
       "    }\n",
       "\n",
       "    .dataframe thead th {\n",
       "        text-align: right;\n",
       "    }\n",
       "</style>\n",
       "<table border=\"1\" class=\"dataframe\">\n",
       "  <thead>\n",
       "    <tr style=\"text-align: right;\">\n",
       "      <th></th>\n",
       "      <th>Período</th>\n",
       "      <th>Quito</th>\n",
       "      <th>Quito.1</th>\n",
       "      <th>Quito.2</th>\n",
       "      <th>Guayaquil</th>\n",
       "      <th>Guayaquil.1</th>\n",
       "      <th>Guayaquil.2</th>\n",
       "      <th>Cuenca</th>\n",
       "      <th>Cuenca.1</th>\n",
       "      <th>Cuenca.2</th>\n",
       "      <th>Machala</th>\n",
       "      <th>Machala.1</th>\n",
       "      <th>Machala.2</th>\n",
       "      <th>Ambato</th>\n",
       "      <th>Ambato.1</th>\n",
       "      <th>Ambato.2</th>\n",
       "    </tr>\n",
       "    <tr>\n",
       "      <th>Anios</th>\n",
       "      <th></th>\n",
       "      <th></th>\n",
       "      <th></th>\n",
       "      <th></th>\n",
       "      <th></th>\n",
       "      <th></th>\n",
       "      <th></th>\n",
       "      <th></th>\n",
       "      <th></th>\n",
       "      <th></th>\n",
       "      <th></th>\n",
       "      <th></th>\n",
       "      <th></th>\n",
       "      <th></th>\n",
       "      <th></th>\n",
       "      <th></th>\n",
       "    </tr>\n",
       "  </thead>\n",
       "  <tbody>\n",
       "    <tr>\n",
       "      <th>2008.0</th>\n",
       "      <td>Marzo</td>\n",
       "      <td>10.45</td>\n",
       "      <td>3.32</td>\n",
       "      <td>1.76</td>\n",
       "      <td>22.06</td>\n",
       "      <td>6.38</td>\n",
       "      <td>2.87</td>\n",
       "      <td>11.68</td>\n",
       "      <td>3.74</td>\n",
       "      <td>1.88</td>\n",
       "      <td>20.76</td>\n",
       "      <td>6.43</td>\n",
       "      <td>2.82</td>\n",
       "      <td>21.20</td>\n",
       "      <td>6.38</td>\n",
       "      <td>3.11</td>\n",
       "    </tr>\n",
       "    <tr>\n",
       "      <th>2009.0</th>\n",
       "      <td>Marzo</td>\n",
       "      <td>11.16</td>\n",
       "      <td>3.71</td>\n",
       "      <td>1.97</td>\n",
       "      <td>24.28</td>\n",
       "      <td>7.50</td>\n",
       "      <td>3.26</td>\n",
       "      <td>10.91</td>\n",
       "      <td>3.31</td>\n",
       "      <td>1.51</td>\n",
       "      <td>20.76</td>\n",
       "      <td>6.32</td>\n",
       "      <td>2.94</td>\n",
       "      <td>17.55</td>\n",
       "      <td>5.81</td>\n",
       "      <td>2.99</td>\n",
       "    </tr>\n",
       "  </tbody>\n",
       "</table>\n",
       "</div>"
      ],
      "text/plain": [
       "       Período  Quito  Quito.1  Quito.2  Guayaquil  Guayaquil.1  Guayaquil.2  \\\n",
       "Anios                                                                          \n",
       "2008.0   Marzo  10.45     3.32     1.76      22.06         6.38         2.87   \n",
       "2009.0   Marzo  11.16     3.71     1.97      24.28         7.50         3.26   \n",
       "\n",
       "        Cuenca  Cuenca.1  Cuenca.2  Machala  Machala.1  Machala.2  Ambato  \\\n",
       "Anios                                                                       \n",
       "2008.0   11.68      3.74      1.88    20.76       6.43       2.82   21.20   \n",
       "2009.0   10.91      3.31      1.51    20.76       6.32       2.94   17.55   \n",
       "\n",
       "        Ambato.1  Ambato.2  \n",
       "Anios                       \n",
       "2008.0      6.38      3.11  \n",
       "2009.0      5.81      2.99  "
      ]
     },
     "execution_count": 9,
     "metadata": {},
     "output_type": "execute_result"
    }
   ],
   "source": [
    "temp = raw_data.set_index('Anios')\n",
    "temp.head(2)"
   ]
  },
  {
   "cell_type": "markdown",
   "metadata": {},
   "source": [
    "## Data\n",
    "Para nuestra tabla agruparemos los datos de Quito para nuestras graficas"
   ]
  },
  {
   "cell_type": "code",
   "execution_count": 10,
   "metadata": {},
   "outputs": [
    {
     "data": {
      "text/html": [
       "<div>\n",
       "<style scoped>\n",
       "    .dataframe tbody tr th:only-of-type {\n",
       "        vertical-align: middle;\n",
       "    }\n",
       "\n",
       "    .dataframe tbody tr th {\n",
       "        vertical-align: top;\n",
       "    }\n",
       "\n",
       "    .dataframe thead th {\n",
       "        text-align: right;\n",
       "    }\n",
       "</style>\n",
       "<table border=\"1\" class=\"dataframe\">\n",
       "  <thead>\n",
       "    <tr style=\"text-align: right;\">\n",
       "      <th></th>\n",
       "      <th>Anios</th>\n",
       "      <th>Quito</th>\n",
       "      <th>Quito.1</th>\n",
       "      <th>Quito.2</th>\n",
       "    </tr>\n",
       "  </thead>\n",
       "  <tbody>\n",
       "    <tr>\n",
       "      <th>1</th>\n",
       "      <td>2008.0</td>\n",
       "      <td>10.45</td>\n",
       "      <td>3.32</td>\n",
       "      <td>1.76</td>\n",
       "    </tr>\n",
       "  </tbody>\n",
       "</table>\n",
       "</div>"
      ],
      "text/plain": [
       "    Anios  Quito  Quito.1  Quito.2\n",
       "1  2008.0  10.45     3.32     1.76"
      ]
     },
     "execution_count": 10,
     "metadata": {},
     "output_type": "execute_result"
    }
   ],
   "source": [
    "data = raw_data.drop(['Período', 'Guayaquil', 'Guayaquil.1', 'Guayaquil.2', 'Cuenca', 'Cuenca.1', 'Cuenca.2', 'Machala', 'Machala.1', 'Machala.2', 'Ambato', 'Ambato.1', 'Ambato.2'], axis=1)\n",
    "data.head(1)"
   ]
  },
  {
   "cell_type": "markdown",
   "metadata": {},
   "source": [
    "Cambiaremos los nombres de las columnas de nuestra data para ver lo que representaremos"
   ]
  },
  {
   "cell_type": "code",
   "execution_count": 11,
   "metadata": {},
   "outputs": [
    {
     "data": {
      "text/html": [
       "<div>\n",
       "<style scoped>\n",
       "    .dataframe tbody tr th:only-of-type {\n",
       "        vertical-align: middle;\n",
       "    }\n",
       "\n",
       "    .dataframe tbody tr th {\n",
       "        vertical-align: top;\n",
       "    }\n",
       "\n",
       "    .dataframe thead th {\n",
       "        text-align: right;\n",
       "    }\n",
       "</style>\n",
       "<table border=\"1\" class=\"dataframe\">\n",
       "  <thead>\n",
       "    <tr style=\"text-align: right;\">\n",
       "      <th></th>\n",
       "      <th>Anios</th>\n",
       "      <th>Incidencia</th>\n",
       "      <th>Brecha</th>\n",
       "      <th>Severidad</th>\n",
       "    </tr>\n",
       "  </thead>\n",
       "  <tbody>\n",
       "    <tr>\n",
       "      <th>1</th>\n",
       "      <td>2008.0</td>\n",
       "      <td>10.45</td>\n",
       "      <td>3.32</td>\n",
       "      <td>1.76</td>\n",
       "    </tr>\n",
       "  </tbody>\n",
       "</table>\n",
       "</div>"
      ],
      "text/plain": [
       "    Anios  Incidencia  Brecha  Severidad\n",
       "1  2008.0       10.45    3.32       1.76"
      ]
     },
     "execution_count": 11,
     "metadata": {},
     "output_type": "execute_result"
    }
   ],
   "source": [
    "data.columns = ['Anios', 'Incidencia', 'Brecha', 'Severidad']\n",
    "data.head(1)"
   ]
  },
  {
   "cell_type": "markdown",
   "metadata": {},
   "source": [
    "### ¿Qué es incidencia de la pobreza?\n",
    "Número de personas pobres expresado como porcentaje del total de la población en un determinado año. Se define como \"pobres\" a aquellas personas que pertenecen a hogares cuyo consumo per cápita, en un período determinado, es inferior al valor de la línea de pobreza.\n",
    "### ¿Qué es la brecha de la pobreza?\n",
    "La línea de pobreza es el equivalente monetario del costo de una canasta básica de bienes y servicios. La brecha de la pobreza refleja cuan pobres son los pobres y, por tanto, proporciona una idea de la profundidad de las carencias de ingreso o consumo que definen una situación de pobreza.\n",
    "### ¿Qué es la severidad de la pobreza?\n",
    "P es un promedio (sobre la población total, n) de las distancias que separan a individuos u hogares de la línea de pobreza, ponderado por un exponente. El valor del exponente permite que la misma fórmula dé como resultado la incidencia, brecha y severidad de la pobreza como casos especiales de la medida."
   ]
  },
  {
   "cell_type": "markdown",
   "metadata": {},
   "source": [
    "## MARCO TEORICO \n",
    "----"
   ]
  },
  {
   "cell_type": "markdown",
   "metadata": {},
   "source": [
    "## Python \n",
    "\n",
    "Python es un lenguaje de programación interpretado cuya filosofía hace hincapié en una sintaxis que favorezca un código legible.\n",
    "\n",
    "Se trata de un lenguaje de programación multiparadigma, ya que soporta orientación a objetos, programación imperativa y, en menor medida, programación funcional. Es un lenguaje interpretado, usa tipado dinámico y es multiplataforma.\n",
    "\n",
    "\n",
    "## Pandas\n",
    "\n",
    "Pandas es una biblioteca de código abierto con licencia de BSD que proporciona estructuras de datos y herramientas de análisis de datos de alto rendimiento y fácil de usar para el lenguaje de programación Python.\n",
    "\n",
    "pandas es un proyecto patrocinado por NUMFocus. Esto ayudará a garantizar el éxito del desarrollo de los pandas como un proyecto de código abierto de clase mundial, y hace posible donar para el proyecto.\n",
    "\n",
    "## Bokeh\n",
    "\n",
    "Bokeh es una biblioteca de visualización interactiva de Python que se dirige a navegadores web modernos para su presentación. Su objetivo es proporcionar una construcción elegante y concisa de gráficos novedosos al estilo de D3.js y ampliar esta capacidad con interactividad de alto rendimiento en conjuntos de datos de gran tamaño o de transmisión"
   ]
  },
  {
   "cell_type": "markdown",
   "metadata": {},
   "source": [
    "## PROPUESTAS DE VISUALIZACION\n",
    "---\n",
    "**Para la visualización de datos se utilizo la librería bokeh**\n",
    "Con los datos descritos anterior mente utilizaremos bokeh como una manera grafica de visualizar nuestra tabla.\n",
    "\n",
    " - Usarnos gráficos de líneas para visualizar la diferencia que existe en nuestros datos\n",
    " - Utilizaremos gráficos de barras para visualizar la semejanza de los datos del mismo año\n",
    " - También utilizaremos gráficos de pastel interactivos con los que podremos observar la variación de datos dentro de nuestro rango de años."
   ]
  },
  {
   "cell_type": "markdown",
   "metadata": {},
   "source": [
    "Al usar la interfaz bokeh.plotting, necesitamos importar:\n",
    "\n",
    " - Use la función de `figure` para crear nuevos objetos de trazado para trabajar.\n",
    " - Las funciones `output_file`, `output_notebook` para indicar a Bokeh cómo mostrar el resultado."
   ]
  },
  {
   "cell_type": "code",
   "execution_count": 12,
   "metadata": {},
   "outputs": [],
   "source": [
    "from bokeh.io import show\n",
    "from bokeh.plotting import figure"
   ]
  },
  {
   "cell_type": "markdown",
   "metadata": {},
   "source": [
    "Importamos `gridplot` - para presentar varias graficas en una"
   ]
  },
  {
   "cell_type": "code",
   "execution_count": 13,
   "metadata": {},
   "outputs": [],
   "source": [
    "from bokeh.layouts import gridplot"
   ]
  },
  {
   "cell_type": "markdown",
   "metadata": {},
   "source": [
    "En este caso, estamos en `jupyter notebook`, así que llamamos a `output_notebook()`. Solo debemos llamar esto una vez para mostrar nuestras graficas en el cuaderno usando la función `show()` de bokeh."
   ]
  },
  {
   "cell_type": "code",
   "execution_count": 14,
   "metadata": {},
   "outputs": [
    {
     "data": {
      "text/html": [
       "\n",
       "    <div class=\"bk-root\">\n",
       "        <a href=\"https://bokeh.pydata.org\" target=\"_blank\" class=\"bk-logo bk-logo-small bk-logo-notebook\"></a>\n",
       "        <span id=\"9de5d0ce-122e-43da-9c7c-8c70bbb800e9\">Loading BokehJS ...</span>\n",
       "    </div>"
      ]
     },
     "metadata": {},
     "output_type": "display_data"
    },
    {
     "data": {
      "application/javascript": [
       "\n",
       "(function(root) {\n",
       "  function now() {\n",
       "    return new Date();\n",
       "  }\n",
       "\n",
       "  var force = true;\n",
       "\n",
       "  if (typeof (root._bokeh_onload_callbacks) === \"undefined\" || force === true) {\n",
       "    root._bokeh_onload_callbacks = [];\n",
       "    root._bokeh_is_loading = undefined;\n",
       "  }\n",
       "\n",
       "  var JS_MIME_TYPE = 'application/javascript';\n",
       "  var HTML_MIME_TYPE = 'text/html';\n",
       "  var EXEC_MIME_TYPE = 'application/vnd.bokehjs_exec.v0+json';\n",
       "  var CLASS_NAME = 'output_bokeh rendered_html';\n",
       "\n",
       "  /**\n",
       "   * Render data to the DOM node\n",
       "   */\n",
       "  function render(props, node) {\n",
       "    var script = document.createElement(\"script\");\n",
       "    node.appendChild(script);\n",
       "  }\n",
       "\n",
       "  /**\n",
       "   * Handle when an output is cleared or removed\n",
       "   */\n",
       "  function handleClearOutput(event, handle) {\n",
       "    var cell = handle.cell;\n",
       "\n",
       "    var id = cell.output_area._bokeh_element_id;\n",
       "    var server_id = cell.output_area._bokeh_server_id;\n",
       "    // Clean up Bokeh references\n",
       "    if (id !== undefined) {\n",
       "      Bokeh.index[id].model.document.clear();\n",
       "      delete Bokeh.index[id];\n",
       "    }\n",
       "\n",
       "    if (server_id !== undefined) {\n",
       "      // Clean up Bokeh references\n",
       "      var cmd = \"from bokeh.io.state import curstate; print(curstate().uuid_to_server['\" + server_id + \"'].get_sessions()[0].document.roots[0]._id)\";\n",
       "      cell.notebook.kernel.execute(cmd, {\n",
       "        iopub: {\n",
       "          output: function(msg) {\n",
       "            var element_id = msg.content.text.trim();\n",
       "            Bokeh.index[element_id].model.document.clear();\n",
       "            delete Bokeh.index[element_id];\n",
       "          }\n",
       "        }\n",
       "      });\n",
       "      // Destroy server and session\n",
       "      var cmd = \"import bokeh.io.notebook as ion; ion.destroy_server('\" + server_id + \"')\";\n",
       "      cell.notebook.kernel.execute(cmd);\n",
       "    }\n",
       "  }\n",
       "\n",
       "  /**\n",
       "   * Handle when a new output is added\n",
       "   */\n",
       "  function handleAddOutput(event, handle) {\n",
       "    var output_area = handle.output_area;\n",
       "    var output = handle.output;\n",
       "\n",
       "    // limit handleAddOutput to display_data with EXEC_MIME_TYPE content only\n",
       "    if ((output.output_type != \"display_data\") || (!output.data.hasOwnProperty(EXEC_MIME_TYPE))) {\n",
       "      return\n",
       "    }\n",
       "\n",
       "    var toinsert = output_area.element.find(`.${CLASS_NAME.split(' ')[0]}`);\n",
       "\n",
       "    if (output.metadata[EXEC_MIME_TYPE][\"id\"] !== undefined) {\n",
       "      toinsert[0].firstChild.textContent = output.data[JS_MIME_TYPE];\n",
       "      // store reference to embed id on output_area\n",
       "      output_area._bokeh_element_id = output.metadata[EXEC_MIME_TYPE][\"id\"];\n",
       "    }\n",
       "    if (output.metadata[EXEC_MIME_TYPE][\"server_id\"] !== undefined) {\n",
       "      var bk_div = document.createElement(\"div\");\n",
       "      bk_div.innerHTML = output.data[HTML_MIME_TYPE];\n",
       "      var script_attrs = bk_div.children[0].attributes;\n",
       "      for (var i = 0; i < script_attrs.length; i++) {\n",
       "        toinsert[0].firstChild.setAttribute(script_attrs[i].name, script_attrs[i].value);\n",
       "      }\n",
       "      // store reference to server id on output_area\n",
       "      output_area._bokeh_server_id = output.metadata[EXEC_MIME_TYPE][\"server_id\"];\n",
       "    }\n",
       "  }\n",
       "\n",
       "  function register_renderer(events, OutputArea) {\n",
       "\n",
       "    function append_mime(data, metadata, element) {\n",
       "      // create a DOM node to render to\n",
       "      var toinsert = this.create_output_subarea(\n",
       "        metadata,\n",
       "        CLASS_NAME,\n",
       "        EXEC_MIME_TYPE\n",
       "      );\n",
       "      this.keyboard_manager.register_events(toinsert);\n",
       "      // Render to node\n",
       "      var props = {data: data, metadata: metadata[EXEC_MIME_TYPE]};\n",
       "      render(props, toinsert[0]);\n",
       "      element.append(toinsert);\n",
       "      return toinsert\n",
       "    }\n",
       "\n",
       "    /* Handle when an output is cleared or removed */\n",
       "    events.on('clear_output.CodeCell', handleClearOutput);\n",
       "    events.on('delete.Cell', handleClearOutput);\n",
       "\n",
       "    /* Handle when a new output is added */\n",
       "    events.on('output_added.OutputArea', handleAddOutput);\n",
       "\n",
       "    /**\n",
       "     * Register the mime type and append_mime function with output_area\n",
       "     */\n",
       "    OutputArea.prototype.register_mime_type(EXEC_MIME_TYPE, append_mime, {\n",
       "      /* Is output safe? */\n",
       "      safe: true,\n",
       "      /* Index of renderer in `output_area.display_order` */\n",
       "      index: 0\n",
       "    });\n",
       "  }\n",
       "\n",
       "  // register the mime type if in Jupyter Notebook environment and previously unregistered\n",
       "  if (root.Jupyter !== undefined) {\n",
       "    var events = require('base/js/events');\n",
       "    var OutputArea = require('notebook/js/outputarea').OutputArea;\n",
       "\n",
       "    if (OutputArea.prototype.mime_types().indexOf(EXEC_MIME_TYPE) == -1) {\n",
       "      register_renderer(events, OutputArea);\n",
       "    }\n",
       "  }\n",
       "\n",
       "  \n",
       "  if (typeof (root._bokeh_timeout) === \"undefined\" || force === true) {\n",
       "    root._bokeh_timeout = Date.now() + 5000;\n",
       "    root._bokeh_failed_load = false;\n",
       "  }\n",
       "\n",
       "  var NB_LOAD_WARNING = {'data': {'text/html':\n",
       "     \"<div style='background-color: #fdd'>\\n\"+\n",
       "     \"<p>\\n\"+\n",
       "     \"BokehJS does not appear to have successfully loaded. If loading BokehJS from CDN, this \\n\"+\n",
       "     \"may be due to a slow or bad network connection. Possible fixes:\\n\"+\n",
       "     \"</p>\\n\"+\n",
       "     \"<ul>\\n\"+\n",
       "     \"<li>re-rerun `output_notebook()` to attempt to load from CDN again, or</li>\\n\"+\n",
       "     \"<li>use INLINE resources instead, as so:</li>\\n\"+\n",
       "     \"</ul>\\n\"+\n",
       "     \"<code>\\n\"+\n",
       "     \"from bokeh.resources import INLINE\\n\"+\n",
       "     \"output_notebook(resources=INLINE)\\n\"+\n",
       "     \"</code>\\n\"+\n",
       "     \"</div>\"}};\n",
       "\n",
       "  function display_loaded() {\n",
       "    var el = document.getElementById(\"9de5d0ce-122e-43da-9c7c-8c70bbb800e9\");\n",
       "    if (el != null) {\n",
       "      el.textContent = \"BokehJS is loading...\";\n",
       "    }\n",
       "    if (root.Bokeh !== undefined) {\n",
       "      if (el != null) {\n",
       "        el.textContent = \"BokehJS \" + root.Bokeh.version + \" successfully loaded.\";\n",
       "      }\n",
       "    } else if (Date.now() < root._bokeh_timeout) {\n",
       "      setTimeout(display_loaded, 100)\n",
       "    }\n",
       "  }\n",
       "\n",
       "\n",
       "  function run_callbacks() {\n",
       "    try {\n",
       "      root._bokeh_onload_callbacks.forEach(function(callback) { callback() });\n",
       "    }\n",
       "    finally {\n",
       "      delete root._bokeh_onload_callbacks\n",
       "    }\n",
       "    console.info(\"Bokeh: all callbacks have finished\");\n",
       "  }\n",
       "\n",
       "  function load_libs(js_urls, callback) {\n",
       "    root._bokeh_onload_callbacks.push(callback);\n",
       "    if (root._bokeh_is_loading > 0) {\n",
       "      console.log(\"Bokeh: BokehJS is being loaded, scheduling callback at\", now());\n",
       "      return null;\n",
       "    }\n",
       "    if (js_urls == null || js_urls.length === 0) {\n",
       "      run_callbacks();\n",
       "      return null;\n",
       "    }\n",
       "    console.log(\"Bokeh: BokehJS not loaded, scheduling load and callback at\", now());\n",
       "    root._bokeh_is_loading = js_urls.length;\n",
       "    for (var i = 0; i < js_urls.length; i++) {\n",
       "      var url = js_urls[i];\n",
       "      var s = document.createElement('script');\n",
       "      s.src = url;\n",
       "      s.async = false;\n",
       "      s.onreadystatechange = s.onload = function() {\n",
       "        root._bokeh_is_loading--;\n",
       "        if (root._bokeh_is_loading === 0) {\n",
       "          console.log(\"Bokeh: all BokehJS libraries loaded\");\n",
       "          run_callbacks()\n",
       "        }\n",
       "      };\n",
       "      s.onerror = function() {\n",
       "        console.warn(\"failed to load library \" + url);\n",
       "      };\n",
       "      console.log(\"Bokeh: injecting script tag for BokehJS library: \", url);\n",
       "      document.getElementsByTagName(\"head\")[0].appendChild(s);\n",
       "    }\n",
       "  };var element = document.getElementById(\"9de5d0ce-122e-43da-9c7c-8c70bbb800e9\");\n",
       "  if (element == null) {\n",
       "    console.log(\"Bokeh: ERROR: autoload.js configured with elementid '9de5d0ce-122e-43da-9c7c-8c70bbb800e9' but no matching script tag was found. \")\n",
       "    return false;\n",
       "  }\n",
       "\n",
       "  var js_urls = [\"https://cdn.pydata.org/bokeh/release/bokeh-0.12.10.min.js\", \"https://cdn.pydata.org/bokeh/release/bokeh-widgets-0.12.10.min.js\", \"https://cdn.pydata.org/bokeh/release/bokeh-tables-0.12.10.min.js\", \"https://cdn.pydata.org/bokeh/release/bokeh-gl-0.12.10.min.js\"];\n",
       "\n",
       "  var inline_js = [\n",
       "    function(Bokeh) {\n",
       "      Bokeh.set_log_level(\"info\");\n",
       "    },\n",
       "    \n",
       "    function(Bokeh) {\n",
       "      \n",
       "    },\n",
       "    function(Bokeh) {\n",
       "      console.log(\"Bokeh: injecting CSS: https://cdn.pydata.org/bokeh/release/bokeh-0.12.10.min.css\");\n",
       "      Bokeh.embed.inject_css(\"https://cdn.pydata.org/bokeh/release/bokeh-0.12.10.min.css\");\n",
       "      console.log(\"Bokeh: injecting CSS: https://cdn.pydata.org/bokeh/release/bokeh-widgets-0.12.10.min.css\");\n",
       "      Bokeh.embed.inject_css(\"https://cdn.pydata.org/bokeh/release/bokeh-widgets-0.12.10.min.css\");\n",
       "      console.log(\"Bokeh: injecting CSS: https://cdn.pydata.org/bokeh/release/bokeh-tables-0.12.10.min.css\");\n",
       "      Bokeh.embed.inject_css(\"https://cdn.pydata.org/bokeh/release/bokeh-tables-0.12.10.min.css\");\n",
       "    }\n",
       "  ];\n",
       "\n",
       "  function run_inline_js() {\n",
       "    \n",
       "    if ((root.Bokeh !== undefined) || (force === true)) {\n",
       "      for (var i = 0; i < inline_js.length; i++) {\n",
       "        inline_js[i].call(root, root.Bokeh);\n",
       "      }if (force === true) {\n",
       "        display_loaded();\n",
       "      }} else if (Date.now() < root._bokeh_timeout) {\n",
       "      setTimeout(run_inline_js, 100);\n",
       "    } else if (!root._bokeh_failed_load) {\n",
       "      console.log(\"Bokeh: BokehJS failed to load within specified timeout.\");\n",
       "      root._bokeh_failed_load = true;\n",
       "    } else if (force !== true) {\n",
       "      var cell = $(document.getElementById(\"9de5d0ce-122e-43da-9c7c-8c70bbb800e9\")).parents('.cell').data().cell;\n",
       "      cell.output_area.append_execute_result(NB_LOAD_WARNING)\n",
       "    }\n",
       "\n",
       "  }\n",
       "\n",
       "  if (root._bokeh_is_loading === 0) {\n",
       "    console.log(\"Bokeh: BokehJS loaded, going straight to plotting\");\n",
       "    run_inline_js();\n",
       "  } else {\n",
       "    load_libs(js_urls, function() {\n",
       "      console.log(\"Bokeh: BokehJS plotting callback run at\", now());\n",
       "      run_inline_js();\n",
       "    });\n",
       "  }\n",
       "}(window));"
      ],
      "application/vnd.bokehjs_load.v0+json": "\n(function(root) {\n  function now() {\n    return new Date();\n  }\n\n  var force = true;\n\n  if (typeof (root._bokeh_onload_callbacks) === \"undefined\" || force === true) {\n    root._bokeh_onload_callbacks = [];\n    root._bokeh_is_loading = undefined;\n  }\n\n  \n\n  \n  if (typeof (root._bokeh_timeout) === \"undefined\" || force === true) {\n    root._bokeh_timeout = Date.now() + 5000;\n    root._bokeh_failed_load = false;\n  }\n\n  var NB_LOAD_WARNING = {'data': {'text/html':\n     \"<div style='background-color: #fdd'>\\n\"+\n     \"<p>\\n\"+\n     \"BokehJS does not appear to have successfully loaded. If loading BokehJS from CDN, this \\n\"+\n     \"may be due to a slow or bad network connection. Possible fixes:\\n\"+\n     \"</p>\\n\"+\n     \"<ul>\\n\"+\n     \"<li>re-rerun `output_notebook()` to attempt to load from CDN again, or</li>\\n\"+\n     \"<li>use INLINE resources instead, as so:</li>\\n\"+\n     \"</ul>\\n\"+\n     \"<code>\\n\"+\n     \"from bokeh.resources import INLINE\\n\"+\n     \"output_notebook(resources=INLINE)\\n\"+\n     \"</code>\\n\"+\n     \"</div>\"}};\n\n  function display_loaded() {\n    var el = document.getElementById(\"9de5d0ce-122e-43da-9c7c-8c70bbb800e9\");\n    if (el != null) {\n      el.textContent = \"BokehJS is loading...\";\n    }\n    if (root.Bokeh !== undefined) {\n      if (el != null) {\n        el.textContent = \"BokehJS \" + root.Bokeh.version + \" successfully loaded.\";\n      }\n    } else if (Date.now() < root._bokeh_timeout) {\n      setTimeout(display_loaded, 100)\n    }\n  }\n\n\n  function run_callbacks() {\n    try {\n      root._bokeh_onload_callbacks.forEach(function(callback) { callback() });\n    }\n    finally {\n      delete root._bokeh_onload_callbacks\n    }\n    console.info(\"Bokeh: all callbacks have finished\");\n  }\n\n  function load_libs(js_urls, callback) {\n    root._bokeh_onload_callbacks.push(callback);\n    if (root._bokeh_is_loading > 0) {\n      console.log(\"Bokeh: BokehJS is being loaded, scheduling callback at\", now());\n      return null;\n    }\n    if (js_urls == null || js_urls.length === 0) {\n      run_callbacks();\n      return null;\n    }\n    console.log(\"Bokeh: BokehJS not loaded, scheduling load and callback at\", now());\n    root._bokeh_is_loading = js_urls.length;\n    for (var i = 0; i < js_urls.length; i++) {\n      var url = js_urls[i];\n      var s = document.createElement('script');\n      s.src = url;\n      s.async = false;\n      s.onreadystatechange = s.onload = function() {\n        root._bokeh_is_loading--;\n        if (root._bokeh_is_loading === 0) {\n          console.log(\"Bokeh: all BokehJS libraries loaded\");\n          run_callbacks()\n        }\n      };\n      s.onerror = function() {\n        console.warn(\"failed to load library \" + url);\n      };\n      console.log(\"Bokeh: injecting script tag for BokehJS library: \", url);\n      document.getElementsByTagName(\"head\")[0].appendChild(s);\n    }\n  };var element = document.getElementById(\"9de5d0ce-122e-43da-9c7c-8c70bbb800e9\");\n  if (element == null) {\n    console.log(\"Bokeh: ERROR: autoload.js configured with elementid '9de5d0ce-122e-43da-9c7c-8c70bbb800e9' but no matching script tag was found. \")\n    return false;\n  }\n\n  var js_urls = [\"https://cdn.pydata.org/bokeh/release/bokeh-0.12.10.min.js\", \"https://cdn.pydata.org/bokeh/release/bokeh-widgets-0.12.10.min.js\", \"https://cdn.pydata.org/bokeh/release/bokeh-tables-0.12.10.min.js\", \"https://cdn.pydata.org/bokeh/release/bokeh-gl-0.12.10.min.js\"];\n\n  var inline_js = [\n    function(Bokeh) {\n      Bokeh.set_log_level(\"info\");\n    },\n    \n    function(Bokeh) {\n      \n    },\n    function(Bokeh) {\n      console.log(\"Bokeh: injecting CSS: https://cdn.pydata.org/bokeh/release/bokeh-0.12.10.min.css\");\n      Bokeh.embed.inject_css(\"https://cdn.pydata.org/bokeh/release/bokeh-0.12.10.min.css\");\n      console.log(\"Bokeh: injecting CSS: https://cdn.pydata.org/bokeh/release/bokeh-widgets-0.12.10.min.css\");\n      Bokeh.embed.inject_css(\"https://cdn.pydata.org/bokeh/release/bokeh-widgets-0.12.10.min.css\");\n      console.log(\"Bokeh: injecting CSS: https://cdn.pydata.org/bokeh/release/bokeh-tables-0.12.10.min.css\");\n      Bokeh.embed.inject_css(\"https://cdn.pydata.org/bokeh/release/bokeh-tables-0.12.10.min.css\");\n    }\n  ];\n\n  function run_inline_js() {\n    \n    if ((root.Bokeh !== undefined) || (force === true)) {\n      for (var i = 0; i < inline_js.length; i++) {\n        inline_js[i].call(root, root.Bokeh);\n      }if (force === true) {\n        display_loaded();\n      }} else if (Date.now() < root._bokeh_timeout) {\n      setTimeout(run_inline_js, 100);\n    } else if (!root._bokeh_failed_load) {\n      console.log(\"Bokeh: BokehJS failed to load within specified timeout.\");\n      root._bokeh_failed_load = true;\n    } else if (force !== true) {\n      var cell = $(document.getElementById(\"9de5d0ce-122e-43da-9c7c-8c70bbb800e9\")).parents('.cell').data().cell;\n      cell.output_area.append_execute_result(NB_LOAD_WARNING)\n    }\n\n  }\n\n  if (root._bokeh_is_loading === 0) {\n    console.log(\"Bokeh: BokehJS loaded, going straight to plotting\");\n    run_inline_js();\n  } else {\n    load_libs(js_urls, function() {\n      console.log(\"Bokeh: BokehJS plotting callback run at\", now());\n      run_inline_js();\n    });\n  }\n}(window));"
     },
     "metadata": {},
     "output_type": "display_data"
    }
   ],
   "source": [
    "from bokeh.io import output_notebook\n",
    "output_notebook()"
   ]
  },
  {
   "cell_type": "markdown",
   "metadata": {},
   "source": [
    "# GRAFICAS\n",
    "----"
   ]
  },
  {
   "cell_type": "markdown",
   "metadata": {},
   "source": [
    "## Gráfico de Líneas"
   ]
  },
  {
   "cell_type": "code",
   "execution_count": 15,
   "metadata": {},
   "outputs": [
    {
     "data": {
      "text/html": [
       "\n",
       "<div class=\"bk-root\">\n",
       "    <div class=\"bk-plotdiv\" id=\"d7d1992d-205c-413c-9b38-57315f7d22da\"></div>\n",
       "</div>"
      ]
     },
     "metadata": {},
     "output_type": "display_data"
    },
    {
     "data": {
      "application/javascript": [
       "(function(root) {\n",
       "  function embed_document(root) {\n",
       "    var docs_json = {\"991cf0b1-7c26-4bb8-bf97-25050de0bfa0\":{\"roots\":{\"references\":[{\"attributes\":{\"items\":[{\"id\":\"b491b81a-9a0a-4c37-b5ab-b379e14d29e8\",\"type\":\"LegendItem\"},{\"id\":\"bd9aa29a-7337-4441-831a-970011433884\",\"type\":\"LegendItem\"},{\"id\":\"d356f0f4-271f-40f6-aa98-d551b228d2b8\",\"type\":\"LegendItem\"}],\"plot\":{\"id\":\"078896ba-d911-4953-bf39-83044b3b89bd\",\"subtype\":\"Figure\",\"type\":\"Plot\"}},\"id\":\"c8d62f68-5e8d-48ca-93f9-734e33b7a2d6\",\"type\":\"Legend\"},{\"attributes\":{\"data_source\":{\"id\":\"4634984e-719b-4468-8d10-e414f3ae18a1\",\"type\":\"ColumnDataSource\"},\"glyph\":{\"id\":\"2b6f8027-143b-4a6c-bad4-bccb018399b3\",\"type\":\"Line\"},\"hover_glyph\":null,\"muted_glyph\":null,\"nonselection_glyph\":{\"id\":\"79930ca6-88e5-478f-b0c7-cfe8139d9f10\",\"type\":\"Line\"},\"selection_glyph\":null,\"view\":{\"id\":\"c3c439fe-340c-4472-9694-40ffce9910c7\",\"type\":\"CDSView\"}},\"id\":\"031116af-ea74-4a95-a51f-138f3910fc0a\",\"type\":\"GlyphRenderer\"},{\"attributes\":{\"source\":{\"id\":\"bcf35d52-1ff4-4bf8-a678-32ed67127c1a\",\"type\":\"ColumnDataSource\"}},\"id\":\"381397cc-ed0b-4345-b137-91df99bc0fdc\",\"type\":\"CDSView\"},{\"attributes\":{},\"id\":\"3f2a9898-baeb-4915-af81-0e8720f91454\",\"type\":\"BasicTickFormatter\"},{\"attributes\":{\"data_source\":{\"id\":\"bcf35d52-1ff4-4bf8-a678-32ed67127c1a\",\"type\":\"ColumnDataSource\"},\"glyph\":{\"id\":\"573e1e33-5e13-4e62-a890-5b1e9b69432d\",\"type\":\"Line\"},\"hover_glyph\":null,\"muted_glyph\":null,\"nonselection_glyph\":{\"id\":\"7eaad185-7664-4f33-a74c-1aed9a9e50d4\",\"type\":\"Line\"},\"selection_glyph\":null,\"view\":{\"id\":\"381397cc-ed0b-4345-b137-91df99bc0fdc\",\"type\":\"CDSView\"}},\"id\":\"16bbb6d1-01f1-44c8-869b-9a53310812f6\",\"type\":\"GlyphRenderer\"},{\"attributes\":{\"source\":{\"id\":\"4634984e-719b-4468-8d10-e414f3ae18a1\",\"type\":\"ColumnDataSource\"}},\"id\":\"c3c439fe-340c-4472-9694-40ffce9910c7\",\"type\":\"CDSView\"},{\"attributes\":{\"line_alpha\":{\"value\":0.1},\"line_color\":{\"value\":\"#1f77b4\"},\"line_width\":{\"value\":5},\"x\":{\"field\":\"x\"},\"y\":{\"field\":\"y\"}},\"id\":\"7eaad185-7664-4f33-a74c-1aed9a9e50d4\",\"type\":\"Line\"},{\"attributes\":{\"label\":{\"value\":\"Brecha\"},\"renderers\":[{\"id\":\"16bbb6d1-01f1-44c8-869b-9a53310812f6\",\"type\":\"GlyphRenderer\"}]},\"id\":\"bd9aa29a-7337-4441-831a-970011433884\",\"type\":\"LegendItem\"},{\"attributes\":{\"line_alpha\":{\"value\":0.1},\"line_color\":{\"value\":\"#1f77b4\"},\"line_width\":{\"value\":5},\"x\":{\"field\":\"x\"},\"y\":{\"field\":\"y\"}},\"id\":\"260a16fa-2558-4cb5-b6fe-6c599cdc4c40\",\"type\":\"Line\"},{\"attributes\":{\"callback\":null,\"column_names\":[\"x\",\"y\"],\"data\":{\"x\":{\"__ndarray__\":\"AAAAAABgn0AAAAAAAGSfQAAAAAAAaJ9AAAAAAABsn0AAAAAAAHCfQAAAAAAAdJ9AAAAAAAB4n0AAAAAAAHyfQAAAAAAAgJ9AAAAAAACEn0A=\",\"dtype\":\"float64\",\"shape\":[10]},\"y\":{\"__ndarray__\":\"KVyPwvUo/D+F61G4HoX/P3sUrkfhegJA9ihcj8L1/D9xPQrXo3D5P/YoXI/C9fg/PQrXo3A99j/NzMzMzMz0P3E9CtejcPU/rkfhehSu8z8=\",\"dtype\":\"float64\",\"shape\":[10]}}},\"id\":\"44ad073a-d14d-4dba-a678-88a28defc60d\",\"type\":\"ColumnDataSource\"},{\"attributes\":{},\"id\":\"2347fd84-830d-4015-9521-6e38ee859ac1\",\"type\":\"BasicTickFormatter\"},{\"attributes\":{\"source\":{\"id\":\"44ad073a-d14d-4dba-a678-88a28defc60d\",\"type\":\"ColumnDataSource\"}},\"id\":\"ecb84608-97e6-4eed-805b-62fae9600dbc\",\"type\":\"CDSView\"},{\"attributes\":{\"data_source\":{\"id\":\"44ad073a-d14d-4dba-a678-88a28defc60d\",\"type\":\"ColumnDataSource\"},\"glyph\":{\"id\":\"e016f5f8-df4a-4901-b00a-7a2cdfd4edd7\",\"type\":\"Line\"},\"hover_glyph\":null,\"muted_glyph\":null,\"nonselection_glyph\":{\"id\":\"260a16fa-2558-4cb5-b6fe-6c599cdc4c40\",\"type\":\"Line\"},\"selection_glyph\":null,\"view\":{\"id\":\"ecb84608-97e6-4eed-805b-62fae9600dbc\",\"type\":\"CDSView\"}},\"id\":\"c1e76583-d21d-4405-994b-24d9c5b232d0\",\"type\":\"GlyphRenderer\"},{\"attributes\":{\"line_color\":{\"value\":\"#f44171\"},\"line_width\":{\"value\":5},\"x\":{\"field\":\"x\"},\"y\":{\"field\":\"y\"}},\"id\":\"e016f5f8-df4a-4901-b00a-7a2cdfd4edd7\",\"type\":\"Line\"},{\"attributes\":{\"below\":[{\"id\":\"289dc7e5-0211-49bc-a6ce-a877e074225b\",\"type\":\"LinearAxis\"}],\"left\":[{\"id\":\"3e286c09-d931-4dc4-b1d9-f9e5e51fd48a\",\"type\":\"LinearAxis\"}],\"plot_height\":400,\"plot_width\":900,\"renderers\":[{\"id\":\"289dc7e5-0211-49bc-a6ce-a877e074225b\",\"type\":\"LinearAxis\"},{\"id\":\"3fe50102-20b3-413a-aa33-a727cb70d8c6\",\"type\":\"Grid\"},{\"id\":\"3e286c09-d931-4dc4-b1d9-f9e5e51fd48a\",\"type\":\"LinearAxis\"},{\"id\":\"9b1ea6bd-9a58-4e16-a12b-1a32846006d4\",\"type\":\"Grid\"},{\"id\":\"c8d62f68-5e8d-48ca-93f9-734e33b7a2d6\",\"type\":\"Legend\"},{\"id\":\"031116af-ea74-4a95-a51f-138f3910fc0a\",\"type\":\"GlyphRenderer\"},{\"id\":\"16bbb6d1-01f1-44c8-869b-9a53310812f6\",\"type\":\"GlyphRenderer\"},{\"id\":\"c1e76583-d21d-4405-994b-24d9c5b232d0\",\"type\":\"GlyphRenderer\"}],\"title\":{\"id\":\"e14b8903-84cc-42f5-a219-44b5dd131059\",\"type\":\"Title\"},\"toolbar\":{\"id\":\"94ab832a-ef93-41f6-8484-64c49f889016\",\"type\":\"Toolbar\"},\"x_range\":{\"id\":\"95331b62-5749-4c60-b030-f067dac095b0\",\"type\":\"DataRange1d\"},\"x_scale\":{\"id\":\"554c382f-34d9-4d0c-bed6-6aa4fae01968\",\"type\":\"LinearScale\"},\"y_range\":{\"id\":\"2d05f69a-3797-4352-bfef-44b3a508eb36\",\"type\":\"DataRange1d\"},\"y_scale\":{\"id\":\"52b975b1-c7c5-458e-97a3-d6c5b2d0c276\",\"type\":\"LinearScale\"}},\"id\":\"078896ba-d911-4953-bf39-83044b3b89bd\",\"subtype\":\"Figure\",\"type\":\"Plot\"},{\"attributes\":{\"label\":{\"value\":\"Severidad\"},\"renderers\":[{\"id\":\"c1e76583-d21d-4405-994b-24d9c5b232d0\",\"type\":\"GlyphRenderer\"}]},\"id\":\"d356f0f4-271f-40f6-aa98-d551b228d2b8\",\"type\":\"LegendItem\"},{\"attributes\":{\"callback\":null,\"column_names\":[\"x\",\"y\"],\"data\":{\"x\":{\"__ndarray__\":\"AAAAAABgn0AAAAAAAGSfQAAAAAAAaJ9AAAAAAABsn0AAAAAAAHCfQAAAAAAAdJ9AAAAAAAB4n0AAAAAAAHyfQAAAAAAAgJ9AAAAAAACEn0A=\",\"dtype\":\"float64\",\"shape\":[10]},\"y\":{\"__ndarray__\":\"j8L1KFyPCkCuR+F6FK4NQFyPwvUoXBFAuB6F61G4CkBSuB6F61EKQNejcD0K1wtAPQrXo3A9BkC4HoXrUbgEQArXo3A9CgVAMzMzMzMzA0A=\",\"dtype\":\"float64\",\"shape\":[10]}}},\"id\":\"bcf35d52-1ff4-4bf8-a678-32ed67127c1a\",\"type\":\"ColumnDataSource\"},{\"attributes\":{\"plot\":null,\"text\":\"POBREZA-QUITO\"},\"id\":\"e14b8903-84cc-42f5-a219-44b5dd131059\",\"type\":\"Title\"},{\"attributes\":{\"callback\":null},\"id\":\"95331b62-5749-4c60-b030-f067dac095b0\",\"type\":\"DataRange1d\"},{\"attributes\":{\"active_drag\":\"auto\",\"active_inspect\":\"auto\",\"active_scroll\":\"auto\",\"active_tap\":\"auto\"},\"id\":\"94ab832a-ef93-41f6-8484-64c49f889016\",\"type\":\"Toolbar\"},{\"attributes\":{\"callback\":null,\"column_names\":[\"x\",\"y\"],\"data\":{\"x\":{\"__ndarray__\":\"AAAAAABgn0AAAAAAAGSfQAAAAAAAaJ9AAAAAAABsn0AAAAAAAHCfQAAAAAAAdJ9AAAAAAAB4n0AAAAAAAHyfQAAAAAAAgJ9AAAAAAACEn0A=\",\"dtype\":\"float64\",\"shape\":[10]},\"y\":{\"__ndarray__\":\"ZmZmZmbmJEBSuB6F61EmQIXrUbgeBSpAKVyPwvWoJEBxPQrXo/AhQDMzMzMzsyVA16NwPQrXIUB7FK5H4XofQOxRuB6F6x9AZmZmZmZmHUA=\",\"dtype\":\"float64\",\"shape\":[10]}}},\"id\":\"4634984e-719b-4468-8d10-e414f3ae18a1\",\"type\":\"ColumnDataSource\"},{\"attributes\":{\"line_alpha\":{\"value\":0.1},\"line_color\":{\"value\":\"#1f77b4\"},\"line_width\":{\"value\":5},\"x\":{\"field\":\"x\"},\"y\":{\"field\":\"y\"}},\"id\":\"79930ca6-88e5-478f-b0c7-cfe8139d9f10\",\"type\":\"Line\"},{\"attributes\":{},\"id\":\"554c382f-34d9-4d0c-bed6-6aa4fae01968\",\"type\":\"LinearScale\"},{\"attributes\":{\"callback\":null},\"id\":\"2d05f69a-3797-4352-bfef-44b3a508eb36\",\"type\":\"DataRange1d\"},{\"attributes\":{},\"id\":\"52b975b1-c7c5-458e-97a3-d6c5b2d0c276\",\"type\":\"LinearScale\"},{\"attributes\":{\"formatter\":{\"id\":\"3f2a9898-baeb-4915-af81-0e8720f91454\",\"type\":\"BasicTickFormatter\"},\"plot\":{\"id\":\"078896ba-d911-4953-bf39-83044b3b89bd\",\"subtype\":\"Figure\",\"type\":\"Plot\"},\"ticker\":{\"id\":\"af3b9e97-7dd7-4b82-a940-00f5fc5415e7\",\"type\":\"BasicTicker\"}},\"id\":\"3e286c09-d931-4dc4-b1d9-f9e5e51fd48a\",\"type\":\"LinearAxis\"},{\"attributes\":{\"line_color\":{\"value\":\"#f4d341\"},\"line_width\":{\"value\":5},\"x\":{\"field\":\"x\"},\"y\":{\"field\":\"y\"}},\"id\":\"2b6f8027-143b-4a6c-bad4-bccb018399b3\",\"type\":\"Line\"},{\"attributes\":{\"formatter\":{\"id\":\"2347fd84-830d-4015-9521-6e38ee859ac1\",\"type\":\"BasicTickFormatter\"},\"plot\":{\"id\":\"078896ba-d911-4953-bf39-83044b3b89bd\",\"subtype\":\"Figure\",\"type\":\"Plot\"},\"ticker\":{\"id\":\"0a492584-9d65-4866-b052-53ebdb8513cd\",\"type\":\"BasicTicker\"}},\"id\":\"289dc7e5-0211-49bc-a6ce-a877e074225b\",\"type\":\"LinearAxis\"},{\"attributes\":{\"line_color\":{\"value\":\"#42f4bf\"},\"line_width\":{\"value\":5},\"x\":{\"field\":\"x\"},\"y\":{\"field\":\"y\"}},\"id\":\"573e1e33-5e13-4e62-a890-5b1e9b69432d\",\"type\":\"Line\"},{\"attributes\":{},\"id\":\"0a492584-9d65-4866-b052-53ebdb8513cd\",\"type\":\"BasicTicker\"},{\"attributes\":{\"label\":{\"value\":\"Incidencia\"},\"renderers\":[{\"id\":\"031116af-ea74-4a95-a51f-138f3910fc0a\",\"type\":\"GlyphRenderer\"}]},\"id\":\"b491b81a-9a0a-4c37-b5ab-b379e14d29e8\",\"type\":\"LegendItem\"},{\"attributes\":{\"grid_line_color\":{\"value\":null},\"plot\":{\"id\":\"078896ba-d911-4953-bf39-83044b3b89bd\",\"subtype\":\"Figure\",\"type\":\"Plot\"},\"ticker\":{\"id\":\"0a492584-9d65-4866-b052-53ebdb8513cd\",\"type\":\"BasicTicker\"}},\"id\":\"3fe50102-20b3-413a-aa33-a727cb70d8c6\",\"type\":\"Grid\"},{\"attributes\":{\"dimension\":1,\"grid_line_color\":{\"value\":null},\"plot\":{\"id\":\"078896ba-d911-4953-bf39-83044b3b89bd\",\"subtype\":\"Figure\",\"type\":\"Plot\"},\"ticker\":{\"id\":\"af3b9e97-7dd7-4b82-a940-00f5fc5415e7\",\"type\":\"BasicTicker\"}},\"id\":\"9b1ea6bd-9a58-4e16-a12b-1a32846006d4\",\"type\":\"Grid\"},{\"attributes\":{},\"id\":\"af3b9e97-7dd7-4b82-a940-00f5fc5415e7\",\"type\":\"BasicTicker\"}],\"root_ids\":[\"078896ba-d911-4953-bf39-83044b3b89bd\"]},\"title\":\"Bokeh Application\",\"version\":\"0.12.10\"}};\n",
       "    var render_items = [{\"docid\":\"991cf0b1-7c26-4bb8-bf97-25050de0bfa0\",\"elementid\":\"d7d1992d-205c-413c-9b38-57315f7d22da\",\"modelid\":\"078896ba-d911-4953-bf39-83044b3b89bd\"}];\n",
       "\n",
       "    root.Bokeh.embed.embed_items(docs_json, render_items);\n",
       "  }\n",
       "\n",
       "  if (root.Bokeh !== undefined) {\n",
       "    embed_document(root);\n",
       "  } else {\n",
       "    var attempts = 0;\n",
       "    var timer = setInterval(function(root) {\n",
       "      if (root.Bokeh !== undefined) {\n",
       "        embed_document(root);\n",
       "        clearInterval(timer);\n",
       "      }\n",
       "      attempts++;\n",
       "      if (attempts > 100) {\n",
       "        console.log(\"Bokeh: ERROR: Unable to embed document because BokehJS library is missing\")\n",
       "        clearInterval(timer);\n",
       "      }\n",
       "    }, 10, root)\n",
       "  }\n",
       "})(window);"
      ],
      "application/vnd.bokehjs_exec.v0+json": ""
     },
     "metadata": {
      "application/vnd.bokehjs_exec.v0+json": {
       "id": "078896ba-d911-4953-bf39-83044b3b89bd"
      }
     },
     "output_type": "display_data"
    }
   ],
   "source": [
    "# Características que tendrá nuestra grafica\n",
    "graph_line = figure(\n",
    "    plot_height=400, # ancho\n",
    "    plot_width=900, # alto\n",
    "    title='POBREZA-QUITO', # titulo\n",
    "    tools='' # opciones de bokeh\n",
    ")\n",
    "\n",
    "# Definimos los datos que representara cada \"Línea\", y otras opciones como color y leyenda\n",
    "graph_line.line(\n",
    "    x=data.Anios, # datos en x\n",
    "    y=data.Incidencia, # datos en y\n",
    "    color='#f4d341', # color de las líneas\n",
    "    legend='Incidencia', # leyenda que representa nuestra grafica\n",
    "    line_width=5\n",
    ")\n",
    "graph_line.line(x=data.Anios, y=data.Brecha, color='#42f4bf', legend='Brecha',line_width=5)\n",
    "graph_line.line(x=data.Anios, y=data.Severidad, color='#f44171', legend='Severidad',line_width=5)\n",
    "\n",
    "# Para no mostramos los trazados del plano y presentamos nuestra grafica\n",
    "graph_line.xgrid.grid_line_color = None # eliminamos las lineas verticales\n",
    "graph_line.ygrid.grid_line_color = None # horizontales\n",
    "show(graph_line) # mostramos nuestra grafica"
   ]
  },
  {
   "cell_type": "markdown",
   "metadata": {},
   "source": [
    "**En esta gráfica, podemos observar la pobreza recuerdo con la incidencia, que desde el año 2008 al 2010, tiene una mayoría de pobreza y del 2010 al 2012 a disminuido de la misma, y del 2012 en adelante sido desmullendo la pobreza, mientras que la pobreza recuerdo con la brecha, casi se aumentado en un rango mínimo, desde el año 2008 al 2016, y por último la pobreza de acuerdo con la serenidad no ha existido un rango alto de pobreza, si no que se ha ido manteniendo en un porcentaje medio.**"
   ]
  },
  {
   "cell_type": "markdown",
   "metadata": {},
   "source": [
    "## Gráfico de barras"
   ]
  },
  {
   "cell_type": "code",
   "execution_count": 16,
   "metadata": {},
   "outputs": [
    {
     "data": {
      "text/html": [
       "\n",
       "<div class=\"bk-root\">\n",
       "    <div class=\"bk-plotdiv\" id=\"ab835652-7c47-4c77-85c3-0ed1a3c5c8c5\"></div>\n",
       "</div>"
      ]
     },
     "metadata": {},
     "output_type": "display_data"
    },
    {
     "data": {
      "application/javascript": [
       "(function(root) {\n",
       "  function embed_document(root) {\n",
       "    var docs_json = {\"61cd5411-c866-495c-b9c8-c89966c01a47\":{\"roots\":{\"references\":[{\"attributes\":{},\"id\":\"11d2a154-9a4d-4c2d-a5f9-c5d76df3e0ea\",\"type\":\"LinearScale\"},{\"attributes\":{\"plot\":{\"id\":\"cf9d9862-9754-4caf-9924-c0eab9d65cde\",\"subtype\":\"Figure\",\"type\":\"Plot\"},\"ticker\":{\"id\":\"21778e9e-9c97-44b8-9cb1-c02895befafe\",\"type\":\"BasicTicker\"}},\"id\":\"3681f068-f507-407d-ba7e-9c5c8ffd9ccc\",\"type\":\"Grid\"},{\"attributes\":{\"fill_color\":{\"value\":\"#f4d341\"},\"line_color\":{\"value\":\"white\"},\"top\":{\"field\":\"top\"},\"width\":{\"value\":0.7},\"x\":{\"field\":\"x\"}},\"id\":\"c9024914-2697-45ce-87bb-a762ad1bc487\",\"type\":\"VBar\"},{\"attributes\":{\"formatter\":{\"id\":\"58c2709c-a5b5-4a02-b115-f7a9df7f5079\",\"type\":\"BasicTickFormatter\"},\"plot\":{\"id\":\"cf9d9862-9754-4caf-9924-c0eab9d65cde\",\"subtype\":\"Figure\",\"type\":\"Plot\"},\"ticker\":{\"id\":\"63cf87d3-36da-4720-9711-0d3280f35994\",\"type\":\"BasicTicker\"}},\"id\":\"91c52fbc-8596-47b4-b43b-d29f6934db27\",\"type\":\"LinearAxis\"},{\"attributes\":{\"plot\":null,\"text\":\"Severidad\"},\"id\":\"f93bf712-0cbd-4db2-97a3-52395bebb967\",\"type\":\"Title\"},{\"attributes\":{},\"id\":\"63cf87d3-36da-4720-9711-0d3280f35994\",\"type\":\"BasicTicker\"},{\"attributes\":{\"dimension\":1,\"plot\":{\"id\":\"cf9d9862-9754-4caf-9924-c0eab9d65cde\",\"subtype\":\"Figure\",\"type\":\"Plot\"},\"ticker\":{\"id\":\"63cf87d3-36da-4720-9711-0d3280f35994\",\"type\":\"BasicTicker\"}},\"id\":\"14309a91-8abd-405d-ad55-803b2dd15752\",\"type\":\"Grid\"},{\"attributes\":{\"fill_color\":{\"value\":\"#f44171\"},\"line_color\":{\"value\":\"white\"},\"top\":{\"field\":\"top\"},\"width\":{\"value\":0.7},\"x\":{\"field\":\"x\"}},\"id\":\"9088e88b-6c30-4ad4-aa18-4f0ec4eba93d\",\"type\":\"VBar\"},{\"attributes\":{\"fill_alpha\":{\"value\":0.1},\"fill_color\":{\"value\":\"#1f77b4\"},\"line_alpha\":{\"value\":0.1},\"line_color\":{\"value\":\"#1f77b4\"},\"top\":{\"field\":\"top\"},\"width\":{\"value\":0.7},\"x\":{\"field\":\"x\"}},\"id\":\"ecb114e8-eb5a-42a3-9685-c2f8fabb02d5\",\"type\":\"VBar\"},{\"attributes\":{},\"id\":\"56300c8d-8a7d-4665-94ea-189329e28384\",\"type\":\"BasicTicker\"},{\"attributes\":{\"children\":[{\"id\":\"7a35b509-5958-45c9-bc81-0f5defed4b90\",\"type\":\"Row\"}]},\"id\":\"eaea8bb3-6042-495d-bd05-34c8329745f9\",\"type\":\"Column\"},{\"attributes\":{\"data_source\":{\"id\":\"f112a4dc-1c20-4128-a707-e3b843fdc4fb\",\"type\":\"ColumnDataSource\"},\"glyph\":{\"id\":\"c9024914-2697-45ce-87bb-a762ad1bc487\",\"type\":\"VBar\"},\"hover_glyph\":null,\"muted_glyph\":null,\"nonselection_glyph\":{\"id\":\"ecb114e8-eb5a-42a3-9685-c2f8fabb02d5\",\"type\":\"VBar\"},\"selection_glyph\":null,\"view\":{\"id\":\"897fb6bf-3a35-4df3-8ce2-d07c997a4f61\",\"type\":\"CDSView\"}},\"id\":\"a3d4e85b-f704-490a-b22a-171e8f0556e4\",\"type\":\"GlyphRenderer\"},{\"attributes\":{\"source\":{\"id\":\"311e2606-480b-44c3-a565-ff9ebbfca56b\",\"type\":\"ColumnDataSource\"}},\"id\":\"0364551c-a68b-4d68-be50-440f351f25b3\",\"type\":\"CDSView\"},{\"attributes\":{\"source\":{\"id\":\"f112a4dc-1c20-4128-a707-e3b843fdc4fb\",\"type\":\"ColumnDataSource\"}},\"id\":\"897fb6bf-3a35-4df3-8ce2-d07c997a4f61\",\"type\":\"CDSView\"},{\"attributes\":{},\"id\":\"b4f9190e-e9fe-418e-99d7-4e7e5d9e2945\",\"type\":\"BasicTickFormatter\"},{\"attributes\":{},\"id\":\"6ada201d-eaaa-4d33-ac75-93c8e564ccfb\",\"type\":\"BasicTickFormatter\"},{\"attributes\":{\"plot\":{\"id\":\"2230b676-42ef-44d2-8e31-f51c3913725f\",\"subtype\":\"Figure\",\"type\":\"Plot\"},\"ticker\":{\"id\":\"9d10cf95-2e25-4a5d-a487-5a78762a3064\",\"type\":\"BasicTicker\"}},\"id\":\"7aabbc75-f323-4050-8899-9f3c22518a4d\",\"type\":\"Grid\"},{\"attributes\":{},\"id\":\"10b011fa-358f-4acd-ba24-e1aafe1464ad\",\"type\":\"LinearScale\"},{\"attributes\":{},\"id\":\"2fa07d93-e067-498d-913c-6f34e847aee4\",\"type\":\"BasicTickFormatter\"},{\"attributes\":{\"formatter\":{\"id\":\"b4f9190e-e9fe-418e-99d7-4e7e5d9e2945\",\"type\":\"BasicTickFormatter\"},\"plot\":{\"id\":\"2230b676-42ef-44d2-8e31-f51c3913725f\",\"subtype\":\"Figure\",\"type\":\"Plot\"},\"ticker\":{\"id\":\"9d10cf95-2e25-4a5d-a487-5a78762a3064\",\"type\":\"BasicTicker\"}},\"id\":\"5eb650ca-dc67-499c-a1a1-8d71a2e8b34a\",\"type\":\"LinearAxis\"},{\"attributes\":{\"data_source\":{\"id\":\"311e2606-480b-44c3-a565-ff9ebbfca56b\",\"type\":\"ColumnDataSource\"},\"glyph\":{\"id\":\"97516861-c4f4-4ae1-9ec6-854bc6b96ec0\",\"type\":\"VBar\"},\"hover_glyph\":null,\"muted_glyph\":null,\"nonselection_glyph\":{\"id\":\"926a6d37-7673-43f5-a119-fa2bec9b0d69\",\"type\":\"VBar\"},\"selection_glyph\":null,\"view\":{\"id\":\"0364551c-a68b-4d68-be50-440f351f25b3\",\"type\":\"CDSView\"}},\"id\":\"e71ba07a-515f-4063-8f4d-ebca22a3cca6\",\"type\":\"GlyphRenderer\"},{\"attributes\":{\"active_drag\":\"auto\",\"active_inspect\":\"auto\",\"active_scroll\":\"auto\",\"active_tap\":\"auto\"},\"id\":\"c62d84e8-ba90-4077-b679-8340bc64672a\",\"type\":\"Toolbar\"},{\"attributes\":{},\"id\":\"9d10cf95-2e25-4a5d-a487-5a78762a3064\",\"type\":\"BasicTicker\"},{\"attributes\":{\"sizing_mode\":\"scale_width\",\"toolbar_location\":\"above\"},\"id\":\"2728f014-4c51-4b3c-a1ae-41e324eeb367\",\"type\":\"ToolbarBox\"},{\"attributes\":{\"callback\":null},\"id\":\"8cac541d-ac9a-43f4-851b-484d86111e47\",\"type\":\"DataRange1d\"},{\"attributes\":{},\"id\":\"f707111e-2717-410f-9303-c521bb0a46e5\",\"type\":\"BasicTickFormatter\"},{\"attributes\":{\"callback\":null},\"id\":\"46f4f68c-1058-4874-9748-09dad153fb03\",\"type\":\"DataRange1d\"},{\"attributes\":{\"source\":{\"id\":\"e9b28fd5-78a1-4f82-a1a9-2a58c1ad0db3\",\"type\":\"ColumnDataSource\"}},\"id\":\"0fc9487a-3b27-44bf-9959-3c17899b3c61\",\"type\":\"CDSView\"},{\"attributes\":{\"dimension\":1,\"plot\":{\"id\":\"2230b676-42ef-44d2-8e31-f51c3913725f\",\"subtype\":\"Figure\",\"type\":\"Plot\"},\"ticker\":{\"id\":\"56300c8d-8a7d-4665-94ea-189329e28384\",\"type\":\"BasicTicker\"}},\"id\":\"bab0e7a8-8a9b-45ef-be80-754e0b1befc9\",\"type\":\"Grid\"},{\"attributes\":{\"data_source\":{\"id\":\"e9b28fd5-78a1-4f82-a1a9-2a58c1ad0db3\",\"type\":\"ColumnDataSource\"},\"glyph\":{\"id\":\"9088e88b-6c30-4ad4-aa18-4f0ec4eba93d\",\"type\":\"VBar\"},\"hover_glyph\":null,\"muted_glyph\":null,\"nonselection_glyph\":{\"id\":\"0c4ece08-b539-4bc1-92b7-dbc0dfe84f28\",\"type\":\"VBar\"},\"selection_glyph\":null,\"view\":{\"id\":\"0fc9487a-3b27-44bf-9959-3c17899b3c61\",\"type\":\"CDSView\"}},\"id\":\"63405937-04cf-4099-89da-e669373ac1e5\",\"type\":\"GlyphRenderer\"},{\"attributes\":{\"fill_alpha\":{\"value\":0.1},\"fill_color\":{\"value\":\"#1f77b4\"},\"line_alpha\":{\"value\":0.1},\"line_color\":{\"value\":\"#1f77b4\"},\"top\":{\"field\":\"top\"},\"width\":{\"value\":0.7},\"x\":{\"field\":\"x\"}},\"id\":\"0c4ece08-b539-4bc1-92b7-dbc0dfe84f28\",\"type\":\"VBar\"},{\"attributes\":{},\"id\":\"58c2709c-a5b5-4a02-b115-f7a9df7f5079\",\"type\":\"BasicTickFormatter\"},{\"attributes\":{\"children\":[{\"id\":\"490d6e29-143a-4577-89ed-c7a4bd3fcc86\",\"subtype\":\"Figure\",\"type\":\"Plot\"},{\"id\":\"2230b676-42ef-44d2-8e31-f51c3913725f\",\"subtype\":\"Figure\",\"type\":\"Plot\"},{\"id\":\"cf9d9862-9754-4caf-9924-c0eab9d65cde\",\"subtype\":\"Figure\",\"type\":\"Plot\"}]},\"id\":\"7a35b509-5958-45c9-bc81-0f5defed4b90\",\"type\":\"Row\"},{\"attributes\":{\"children\":[{\"id\":\"2728f014-4c51-4b3c-a1ae-41e324eeb367\",\"type\":\"ToolbarBox\"},{\"id\":\"eaea8bb3-6042-495d-bd05-34c8329745f9\",\"type\":\"Column\"}]},\"id\":\"4b4e492a-0743-4a2e-9291-a0de4cfc337a\",\"type\":\"Column\"},{\"attributes\":{},\"id\":\"74856272-fc3c-4be3-8844-7b86f8f2954c\",\"type\":\"BasicTickFormatter\"},{\"attributes\":{\"callback\":null,\"column_names\":[\"x\",\"top\"],\"data\":{\"top\":{\"__ndarray__\":\"ZmZmZmbmJEBSuB6F61EmQIXrUbgeBSpAKVyPwvWoJEBxPQrXo/AhQDMzMzMzsyVA16NwPQrXIUB7FK5H4XofQOxRuB6F6x9AZmZmZmZmHUA=\",\"dtype\":\"float64\",\"shape\":[10]},\"x\":{\"__ndarray__\":\"AAAAAABgn0AAAAAAAGSfQAAAAAAAaJ9AAAAAAABsn0AAAAAAAHCfQAAAAAAAdJ9AAAAAAAB4n0AAAAAAAHyfQAAAAAAAgJ9AAAAAAACEn0A=\",\"dtype\":\"float64\",\"shape\":[10]}}},\"id\":\"f112a4dc-1c20-4128-a707-e3b843fdc4fb\",\"type\":\"ColumnDataSource\"},{\"attributes\":{\"callback\":null,\"column_names\":[\"x\",\"top\"],\"data\":{\"top\":{\"__ndarray__\":\"j8L1KFyPCkCuR+F6FK4NQFyPwvUoXBFAuB6F61G4CkBSuB6F61EKQNejcD0K1wtAPQrXo3A9BkC4HoXrUbgEQArXo3A9CgVAMzMzMzMzA0A=\",\"dtype\":\"float64\",\"shape\":[10]},\"x\":{\"__ndarray__\":\"AAAAAABgn0AAAAAAAGSfQAAAAAAAaJ9AAAAAAABsn0AAAAAAAHCfQAAAAAAAdJ9AAAAAAAB4n0AAAAAAAHyfQAAAAAAAgJ9AAAAAAACEn0A=\",\"dtype\":\"float64\",\"shape\":[10]}}},\"id\":\"311e2606-480b-44c3-a565-ff9ebbfca56b\",\"type\":\"ColumnDataSource\"},{\"attributes\":{\"fill_alpha\":{\"value\":0.1},\"fill_color\":{\"value\":\"#1f77b4\"},\"line_alpha\":{\"value\":0.1},\"line_color\":{\"value\":\"#1f77b4\"},\"top\":{\"field\":\"top\"},\"width\":{\"value\":0.7},\"x\":{\"field\":\"x\"}},\"id\":\"926a6d37-7673-43f5-a119-fa2bec9b0d69\",\"type\":\"VBar\"},{\"attributes\":{\"formatter\":{\"id\":\"6ada201d-eaaa-4d33-ac75-93c8e564ccfb\",\"type\":\"BasicTickFormatter\"},\"plot\":{\"id\":\"490d6e29-143a-4577-89ed-c7a4bd3fcc86\",\"subtype\":\"Figure\",\"type\":\"Plot\"},\"ticker\":{\"id\":\"7fab7e90-d764-4df3-a8fe-b431bee347b4\",\"type\":\"BasicTicker\"}},\"id\":\"c0042b12-2c10-4558-af87-d681644d16c3\",\"type\":\"LinearAxis\"},{\"attributes\":{},\"id\":\"0ad4ae50-5c80-4d12-8d9a-af3a91b8ca0f\",\"type\":\"BasicTicker\"},{\"attributes\":{},\"id\":\"21778e9e-9c97-44b8-9cb1-c02895befafe\",\"type\":\"BasicTicker\"},{\"attributes\":{\"dimension\":1,\"plot\":{\"id\":\"490d6e29-143a-4577-89ed-c7a4bd3fcc86\",\"subtype\":\"Figure\",\"type\":\"Plot\"},\"ticker\":{\"id\":\"7fab7e90-d764-4df3-a8fe-b431bee347b4\",\"type\":\"BasicTicker\"}},\"id\":\"ed97bfd6-448a-4f02-9811-82f61eda466e\",\"type\":\"Grid\"},{\"attributes\":{\"callback\":null},\"id\":\"869ca0dd-17a1-4584-95c6-4945acd575dc\",\"type\":\"DataRange1d\"},{\"attributes\":{\"below\":[{\"id\":\"5eb650ca-dc67-499c-a1a1-8d71a2e8b34a\",\"type\":\"LinearAxis\"}],\"left\":[{\"id\":\"d8ecca8c-c3c1-4496-9524-f0b4b954ce5f\",\"type\":\"LinearAxis\"}],\"plot_height\":300,\"plot_width\":300,\"renderers\":[{\"id\":\"5eb650ca-dc67-499c-a1a1-8d71a2e8b34a\",\"type\":\"LinearAxis\"},{\"id\":\"7aabbc75-f323-4050-8899-9f3c22518a4d\",\"type\":\"Grid\"},{\"id\":\"d8ecca8c-c3c1-4496-9524-f0b4b954ce5f\",\"type\":\"LinearAxis\"},{\"id\":\"bab0e7a8-8a9b-45ef-be80-754e0b1befc9\",\"type\":\"Grid\"},{\"id\":\"e71ba07a-515f-4063-8f4d-ebca22a3cca6\",\"type\":\"GlyphRenderer\"}],\"title\":{\"id\":\"f3b5f953-64ad-44bf-bba6-b33beb0d0adf\",\"type\":\"Title\"},\"toolbar\":{\"id\":\"f3bbbabf-a384-4ad1-9b71-7c42e91fba25\",\"type\":\"Toolbar\"},\"toolbar_location\":null,\"x_range\":{\"id\":\"38f94e75-4b98-44ae-b177-6404741fd357\",\"type\":\"DataRange1d\"},\"x_scale\":{\"id\":\"bab04ed7-4edc-419f-88f9-4e004cb5eb10\",\"type\":\"LinearScale\"},\"y_range\":{\"id\":\"46f4f68c-1058-4874-9748-09dad153fb03\",\"type\":\"DataRange1d\"},\"y_scale\":{\"id\":\"cd139a03-2c93-40d7-a55c-4a16da055d68\",\"type\":\"LinearScale\"}},\"id\":\"2230b676-42ef-44d2-8e31-f51c3913725f\",\"subtype\":\"Figure\",\"type\":\"Plot\"},{\"attributes\":{\"plot\":{\"id\":\"490d6e29-143a-4577-89ed-c7a4bd3fcc86\",\"subtype\":\"Figure\",\"type\":\"Plot\"},\"ticker\":{\"id\":\"0ad4ae50-5c80-4d12-8d9a-af3a91b8ca0f\",\"type\":\"BasicTicker\"}},\"id\":\"ce4980dc-1244-4452-8bd8-a08742f9538d\",\"type\":\"Grid\"},{\"attributes\":{\"plot\":null,\"text\":\"Brecha\"},\"id\":\"f3b5f953-64ad-44bf-bba6-b33beb0d0adf\",\"type\":\"Title\"},{\"attributes\":{\"callback\":null,\"column_names\":[\"x\",\"top\"],\"data\":{\"top\":{\"__ndarray__\":\"KVyPwvUo/D+F61G4HoX/P3sUrkfhegJA9ihcj8L1/D9xPQrXo3D5P/YoXI/C9fg/PQrXo3A99j/NzMzMzMz0P3E9CtejcPU/rkfhehSu8z8=\",\"dtype\":\"float64\",\"shape\":[10]},\"x\":{\"__ndarray__\":\"AAAAAABgn0AAAAAAAGSfQAAAAAAAaJ9AAAAAAABsn0AAAAAAAHCfQAAAAAAAdJ9AAAAAAAB4n0AAAAAAAHyfQAAAAAAAgJ9AAAAAAACEn0A=\",\"dtype\":\"float64\",\"shape\":[10]}}},\"id\":\"e9b28fd5-78a1-4f82-a1a9-2a58c1ad0db3\",\"type\":\"ColumnDataSource\"},{\"attributes\":{\"callback\":null},\"id\":\"a7f4d21f-62f0-4659-b5c5-669344a72dc3\",\"type\":\"DataRange1d\"},{\"attributes\":{},\"id\":\"5e6979d2-e7ce-46ec-a52d-2ffb1fc6dcc1\",\"type\":\"LinearScale\"},{\"attributes\":{\"callback\":null},\"id\":\"e69f2f6d-b250-4d38-ad17-9ccc49829745\",\"type\":\"DataRange1d\"},{\"attributes\":{},\"id\":\"370b8734-aba9-4085-bc53-8643888f007f\",\"type\":\"LinearScale\"},{\"attributes\":{\"fill_color\":{\"value\":\"#42f4bf\"},\"line_color\":{\"value\":\"white\"},\"top\":{\"field\":\"top\"},\"width\":{\"value\":0.7},\"x\":{\"field\":\"x\"}},\"id\":\"97516861-c4f4-4ae1-9ec6-854bc6b96ec0\",\"type\":\"VBar\"},{\"attributes\":{\"active_drag\":\"auto\",\"active_inspect\":\"auto\",\"active_scroll\":\"auto\",\"active_tap\":\"auto\"},\"id\":\"d9628ba7-de21-43fc-9738-85f8776c4d4a\",\"type\":\"Toolbar\"},{\"attributes\":{\"below\":[{\"id\":\"2fe6490a-406b-48b7-8aae-2380ae75c427\",\"type\":\"LinearAxis\"}],\"left\":[{\"id\":\"91c52fbc-8596-47b4-b43b-d29f6934db27\",\"type\":\"LinearAxis\"}],\"plot_height\":300,\"plot_width\":300,\"renderers\":[{\"id\":\"2fe6490a-406b-48b7-8aae-2380ae75c427\",\"type\":\"LinearAxis\"},{\"id\":\"3681f068-f507-407d-ba7e-9c5c8ffd9ccc\",\"type\":\"Grid\"},{\"id\":\"91c52fbc-8596-47b4-b43b-d29f6934db27\",\"type\":\"LinearAxis\"},{\"id\":\"14309a91-8abd-405d-ad55-803b2dd15752\",\"type\":\"Grid\"},{\"id\":\"63405937-04cf-4099-89da-e669373ac1e5\",\"type\":\"GlyphRenderer\"}],\"title\":{\"id\":\"f93bf712-0cbd-4db2-97a3-52395bebb967\",\"type\":\"Title\"},\"toolbar\":{\"id\":\"c62d84e8-ba90-4077-b679-8340bc64672a\",\"type\":\"Toolbar\"},\"toolbar_location\":null,\"x_range\":{\"id\":\"8cac541d-ac9a-43f4-851b-484d86111e47\",\"type\":\"DataRange1d\"},\"x_scale\":{\"id\":\"10b011fa-358f-4acd-ba24-e1aafe1464ad\",\"type\":\"LinearScale\"},\"y_range\":{\"id\":\"869ca0dd-17a1-4584-95c6-4945acd575dc\",\"type\":\"DataRange1d\"},\"y_scale\":{\"id\":\"11d2a154-9a4d-4c2d-a5f9-c5d76df3e0ea\",\"type\":\"LinearScale\"}},\"id\":\"cf9d9862-9754-4caf-9924-c0eab9d65cde\",\"subtype\":\"Figure\",\"type\":\"Plot\"},{\"attributes\":{\"plot\":null,\"text\":\"Incidencia\"},\"id\":\"27ebf493-e45a-45e0-b25e-b6da8a04bbad\",\"type\":\"Title\"},{\"attributes\":{\"below\":[{\"id\":\"a7834b50-41a8-4ee2-bec9-65d3c27337d0\",\"type\":\"LinearAxis\"}],\"left\":[{\"id\":\"c0042b12-2c10-4558-af87-d681644d16c3\",\"type\":\"LinearAxis\"}],\"plot_height\":300,\"plot_width\":300,\"renderers\":[{\"id\":\"a7834b50-41a8-4ee2-bec9-65d3c27337d0\",\"type\":\"LinearAxis\"},{\"id\":\"ce4980dc-1244-4452-8bd8-a08742f9538d\",\"type\":\"Grid\"},{\"id\":\"c0042b12-2c10-4558-af87-d681644d16c3\",\"type\":\"LinearAxis\"},{\"id\":\"ed97bfd6-448a-4f02-9811-82f61eda466e\",\"type\":\"Grid\"},{\"id\":\"a3d4e85b-f704-490a-b22a-171e8f0556e4\",\"type\":\"GlyphRenderer\"}],\"title\":{\"id\":\"27ebf493-e45a-45e0-b25e-b6da8a04bbad\",\"type\":\"Title\"},\"toolbar\":{\"id\":\"d9628ba7-de21-43fc-9738-85f8776c4d4a\",\"type\":\"Toolbar\"},\"toolbar_location\":null,\"x_range\":{\"id\":\"a7f4d21f-62f0-4659-b5c5-669344a72dc3\",\"type\":\"DataRange1d\"},\"x_scale\":{\"id\":\"370b8734-aba9-4085-bc53-8643888f007f\",\"type\":\"LinearScale\"},\"y_range\":{\"id\":\"e69f2f6d-b250-4d38-ad17-9ccc49829745\",\"type\":\"DataRange1d\"},\"y_scale\":{\"id\":\"5e6979d2-e7ce-46ec-a52d-2ffb1fc6dcc1\",\"type\":\"LinearScale\"}},\"id\":\"490d6e29-143a-4577-89ed-c7a4bd3fcc86\",\"subtype\":\"Figure\",\"type\":\"Plot\"},{\"attributes\":{},\"id\":\"cd139a03-2c93-40d7-a55c-4a16da055d68\",\"type\":\"LinearScale\"},{\"attributes\":{\"formatter\":{\"id\":\"74856272-fc3c-4be3-8844-7b86f8f2954c\",\"type\":\"BasicTickFormatter\"},\"plot\":{\"id\":\"490d6e29-143a-4577-89ed-c7a4bd3fcc86\",\"subtype\":\"Figure\",\"type\":\"Plot\"},\"ticker\":{\"id\":\"0ad4ae50-5c80-4d12-8d9a-af3a91b8ca0f\",\"type\":\"BasicTicker\"}},\"id\":\"a7834b50-41a8-4ee2-bec9-65d3c27337d0\",\"type\":\"LinearAxis\"},{\"attributes\":{},\"id\":\"7fab7e90-d764-4df3-a8fe-b431bee347b4\",\"type\":\"BasicTicker\"},{\"attributes\":{\"callback\":null},\"id\":\"38f94e75-4b98-44ae-b177-6404741fd357\",\"type\":\"DataRange1d\"},{\"attributes\":{\"active_drag\":\"auto\",\"active_inspect\":\"auto\",\"active_scroll\":\"auto\",\"active_tap\":\"auto\"},\"id\":\"f3bbbabf-a384-4ad1-9b71-7c42e91fba25\",\"type\":\"Toolbar\"},{\"attributes\":{\"formatter\":{\"id\":\"f707111e-2717-410f-9303-c521bb0a46e5\",\"type\":\"BasicTickFormatter\"},\"plot\":{\"id\":\"2230b676-42ef-44d2-8e31-f51c3913725f\",\"subtype\":\"Figure\",\"type\":\"Plot\"},\"ticker\":{\"id\":\"56300c8d-8a7d-4665-94ea-189329e28384\",\"type\":\"BasicTicker\"}},\"id\":\"d8ecca8c-c3c1-4496-9524-f0b4b954ce5f\",\"type\":\"LinearAxis\"},{\"attributes\":{\"formatter\":{\"id\":\"2fa07d93-e067-498d-913c-6f34e847aee4\",\"type\":\"BasicTickFormatter\"},\"plot\":{\"id\":\"cf9d9862-9754-4caf-9924-c0eab9d65cde\",\"subtype\":\"Figure\",\"type\":\"Plot\"},\"ticker\":{\"id\":\"21778e9e-9c97-44b8-9cb1-c02895befafe\",\"type\":\"BasicTicker\"}},\"id\":\"2fe6490a-406b-48b7-8aae-2380ae75c427\",\"type\":\"LinearAxis\"},{\"attributes\":{},\"id\":\"bab04ed7-4edc-419f-88f9-4e004cb5eb10\",\"type\":\"LinearScale\"}],\"root_ids\":[\"4b4e492a-0743-4a2e-9291-a0de4cfc337a\"]},\"title\":\"Bokeh Application\",\"version\":\"0.12.10\"}};\n",
       "    var render_items = [{\"docid\":\"61cd5411-c866-495c-b9c8-c89966c01a47\",\"elementid\":\"ab835652-7c47-4c77-85c3-0ed1a3c5c8c5\",\"modelid\":\"4b4e492a-0743-4a2e-9291-a0de4cfc337a\"}];\n",
       "\n",
       "    root.Bokeh.embed.embed_items(docs_json, render_items);\n",
       "  }\n",
       "\n",
       "  if (root.Bokeh !== undefined) {\n",
       "    embed_document(root);\n",
       "  } else {\n",
       "    var attempts = 0;\n",
       "    var timer = setInterval(function(root) {\n",
       "      if (root.Bokeh !== undefined) {\n",
       "        embed_document(root);\n",
       "        clearInterval(timer);\n",
       "      }\n",
       "      attempts++;\n",
       "      if (attempts > 100) {\n",
       "        console.log(\"Bokeh: ERROR: Unable to embed document because BokehJS library is missing\")\n",
       "        clearInterval(timer);\n",
       "      }\n",
       "    }, 10, root)\n",
       "  }\n",
       "})(window);"
      ],
      "application/vnd.bokehjs_exec.v0+json": ""
     },
     "metadata": {
      "application/vnd.bokehjs_exec.v0+json": {
       "id": "4b4e492a-0743-4a2e-9291-a0de4cfc337a"
      }
     },
     "output_type": "display_data"
    }
   ],
   "source": [
    "# Creamos una variable contiene los parámetros de nuestra grafica final\n",
    "options = dict( # opciones que compartirán cada una de nuestras graficas\n",
    "    plot_width=300, plot_height=300, # Tamaño\n",
    "    tools='' # Herramientas de bokeh adicionales\n",
    ")\n",
    "\n",
    "# Creamos un objeto de figura por cada gráfica y establecemos sus opciones y titulo. (opciones)\n",
    "graph_bar_1 = figure(\n",
    "    title='Incidencia', # título de esta grafica en particular\n",
    "    **options # opciones antes definidas\n",
    ")\n",
    "graph_bar_2 = figure(title='Brecha', **options)\n",
    "graph_bar_3 = figure(title='Severidad', **options)\n",
    "\n",
    "# Definimos lo que cada una de nuestras graficas representara\n",
    "graph_bar_1.vbar(\n",
    "    x=data.Anios, # datos en x\n",
    "    top=data.Incidencia, # valor máximo\n",
    "    width=0.7, # ancho de cada barra\n",
    "    line_color=\"white\", # color del borde de cada barra\n",
    "    color=\"#f4d341\" # color de cada barra\n",
    ")\n",
    "graph_bar_2.vbar(x=data.Anios, top=data.Brecha, width=0.7, line_color=\"white\", color=\"#42f4bf\")\n",
    "graph_bar_3.vbar(x=data.Anios, top=data.Severidad, width=0.7, line_color=\"white\", color=\"#f44171\")\n",
    "\n",
    "# Creamos una nueva figura que está compuesta por las figuras creadas anteriormente\n",
    "graph_bar = gridplot([[graph_bar_1, graph_bar_2, graph_bar_3]]) # agrupamos nuestas graficas\n",
    "show(graph_bar) # Mostramos los resultados"
   ]
  },
  {
   "cell_type": "markdown",
   "metadata": {},
   "source": [
    "**En este gráfico, podemos observar sobre la pobreza dependiendo de la incidencia, brecha y serenidad de la ciudad de quito desde el año 2008 hasta el 2016, ya que nos daremos cuenta en cada año como va aumentado y disminuyendo, de la misma. **"
   ]
  },
  {
   "cell_type": "markdown",
   "metadata": {},
   "source": [
    "## Grafico de pastel"
   ]
  },
  {
   "cell_type": "code",
   "execution_count": 17,
   "metadata": {},
   "outputs": [
    {
     "data": {
      "application/vnd.jupyter.widget-view+json": {
       "model_id": "c6a489f0b68f4a27ab0cafdca768470a",
       "version_major": 2,
       "version_minor": 0
      },
      "text/html": [
       "<p>Failed to display Jupyter Widget of type <code>interactive</code>.</p>\n",
       "<p>\n",
       "  If you're reading this message in the Jupyter Notebook or JupyterLab Notebook, it may mean\n",
       "  that the widgets JavaScript is still loading. If this message persists, it\n",
       "  likely means that the widgets JavaScript library is either not installed or\n",
       "  not enabled. See the <a href=\"https://ipywidgets.readthedocs.io/en/stable/user_install.html\">Jupyter\n",
       "  Widgets Documentation</a> for setup instructions.\n",
       "</p>\n",
       "<p>\n",
       "  If you're reading this message in another frontend (for example, a static\n",
       "  rendering on GitHub or <a href=\"https://nbviewer.jupyter.org/\">NBViewer</a>),\n",
       "  it may mean that your frontend doesn't currently support widgets.\n",
       "</p>\n"
      ],
      "text/plain": [
       "interactive(children=(IntSlider(value=5, description='x', max=10, min=1), Output()), _dom_classes=('widget-interact',))"
      ]
     },
     "metadata": {},
     "output_type": "display_data"
    }
   ],
   "source": [
    "# Importamos `pi` de la librería `numpy` para el Angulo en nuestras graficas\n",
    "# Y `interact` de `ipywidgets` para poder interactuar con nuestra grafica\n",
    "from numpy import pi\n",
    "from ipywidgets import interact\n",
    "\n",
    "# Creamos una variable contiene los parámetros de nuestra grafica final\n",
    "options = dict( # opciones que compartirán cada una de nuestras graficas\n",
    "    plot_width=300, plot_height=300, # Tamaño\n",
    "    tools='' # Herramientas de bokeh adicionales\n",
    ")\n",
    "\n",
    "# Definimos cada una de las gráficas de pastel que representaremos, su título, \n",
    "# la cuadricula que mostrara, y las opciones antes definidas de la gráfica anterior\n",
    "graph_pie_1 = figure(\n",
    "    title='Incidencia', # título de esta grafica en particular\n",
    "    x_range=(-1,1),\n",
    "    y_range=(-1,1),\n",
    "    **options\n",
    ")\n",
    "graph_pie_2 = figure(title='Brecha', x_range=(-1,1), y_range=(-1,1), **options)\n",
    "graph_pie_3 = figure(title='Severidad', x_range=(-1,1), y_range=(-1,1), **options)\n",
    "\n",
    "# Definimos una función que será llamada cada vez que interactuemos con el slider\n",
    "def f(x):\n",
    "    graph_pie_1.wedge(\n",
    "        x=0, y=0, radius=0.8, # centro y radio\n",
    "        start_angle=[0.0, data.Incidencia[x]*2*pi/100], # valores donde inicia cada parte\n",
    "        end_angle=[data.Incidencia[x]*2*pi, 2*pi],  # valores donde termina cada parte del pastel\n",
    "        color=['#f4d341','#686060'] # color de cada parte\n",
    "    )\n",
    "    graph_pie_2.wedge(\n",
    "        x=0, y=0, radius=0.8, \n",
    "        start_angle=[0.0, data.Brecha[x]*2*pi/100], \n",
    "        end_angle=[data.Brecha[x]*2*pi, 2*pi], \n",
    "        color=['#42f4bf','#686060']\n",
    "    )\n",
    "    graph_pie_3.wedge(\n",
    "        x=0, y=0, radius=0.8, \n",
    "        start_angle=[0.0, data.Severidad[x]*2*pi/100], \n",
    "        end_angle=[data.Severidad[x]*2*pi, 2*pi], \n",
    "        color=['#f44171','#686060']\n",
    "    )\n",
    "    \n",
    "    \n",
    "    print(\"Año: \"+str(int(data.Anios[x])))\n",
    "    graph_pie = gridplot([[graph_pie_1, graph_pie_2, graph_pie_3]]) # agrupamos nuestras  graficas\n",
    "    show(graph_pie) # Mostramos los resultados\n",
    "    \n",
    "# Mostramos la gráfica y el slider con el que podremos interactuar\n",
    "interact(f, x=(1,10));"
   ]
  },
  {
   "cell_type": "markdown",
   "metadata": {},
   "source": [
    "**Con el slider podemos avanzar en el tiempo para poder observar que cada año se ha producido una disminución del porcentaje de pobreza**"
   ]
  },
  {
   "cell_type": "markdown",
   "metadata": {},
   "source": [
    "# Bibliografía \n",
    "----\n",
    "Este notebook fue realiza con jupyter notebook. - http://jupyter.org/\n",
    "\n",
    "Una página que utilizamos, para poder hacer las gráficas se utilizó bokeh. - https://bokeh.pydata.org/en/latest/\n",
    "\n",
    "Carga de datos Pandas. - https://pandas.pydata.org/\n",
    "\n",
    "Datos obtenidos de Ecuador en cifras. - http://www.ecuadorencifras.gob.ec/"
   ]
  }
 ],
 "metadata": {
  "kernelspec": {
   "display_name": "Python 3",
   "language": "python",
   "name": "python3"
  },
  "language_info": {
   "codemirror_mode": {
    "name": "ipython",
    "version": 3
   },
   "file_extension": ".py",
   "mimetype": "text/x-python",
   "name": "python",
   "nbconvert_exporter": "python",
   "pygments_lexer": "ipython3",
   "version": "3.6.3"
  }
 },
 "nbformat": 4,
 "nbformat_minor": 2
}
