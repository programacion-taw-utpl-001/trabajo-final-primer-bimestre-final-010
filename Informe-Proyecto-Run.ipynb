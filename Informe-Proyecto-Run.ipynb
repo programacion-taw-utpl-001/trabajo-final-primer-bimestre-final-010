{
 "cells": [
  {
   "cell_type": "markdown",
   "metadata": {},
   "source": [
    "# PROYECTO DE VISUALIZACION DE DATOS "
   ]
  },
  {
   "cell_type": "markdown",
   "metadata": {},
   "source": [
    "## SET DE DATOS\n",
    "----\n",
    "**Los datos que trabajaremos son del sitio web Ecuador en cifras, sobre la pobreza en ciudades como Quito, Guayaquil, y otras del Ecuador**"
   ]
  },
  {
   "cell_type": "markdown",
   "metadata": {},
   "source": [
    "Para poder cargar nuestro set de datos necesitamos importar la librería de `pandas`"
   ]
  },
  {
   "cell_type": "code",
   "execution_count": 1,
   "metadata": {},
   "outputs": [],
   "source": [
    "import pandas as pd"
   ]
  },
  {
   "cell_type": "markdown",
   "metadata": {},
   "source": [
    "Nuestro conjunto de datos está en formato `.csv`, por lo que usaremos `read_csv` de pandas."
   ]
  },
  {
   "cell_type": "code",
   "execution_count": 2,
   "metadata": {},
   "outputs": [],
   "source": [
    "# guardamos nuestra tabla en una variable data, después de haber sido leída por pandas\n",
    "raw_data = pd.read_csv(\n",
    "    './assets/datosPobreza.csv', # dirección donde esta nuestra data\n",
    "    sep=';', # separador de datos para ser leídos por pandas\n",
    "    decimal=\",\" # el separador, o sino nuestros números serán tratados como strings si contienen \"comas\"\n",
    ")"
   ]
  },
  {
   "cell_type": "markdown",
   "metadata": {},
   "source": [
    "`read_csv` devuelve un `DataFrame`, una estructura tabular de datos proporcionada por pandas. Un `DataFrame` está dotado de varios atributos y métodos útiles para explorar los datos."
   ]
  },
  {
   "cell_type": "markdown",
   "metadata": {},
   "source": [
    "Con la función `head()` sobre nuestro `DataFrame` podemos mostrar los primeras filas de nuestra data, para no presentar todas las filas. "
   ]
  },
  {
   "cell_type": "code",
   "execution_count": 3,
   "metadata": {},
   "outputs": [
    {
     "data": {
      "text/html": [
       "<div>\n",
       "<style scoped>\n",
       "    .dataframe tbody tr th:only-of-type {\n",
       "        vertical-align: middle;\n",
       "    }\n",
       "\n",
       "    .dataframe tbody tr th {\n",
       "        vertical-align: top;\n",
       "    }\n",
       "\n",
       "    .dataframe thead th {\n",
       "        text-align: right;\n",
       "    }\n",
       "</style>\n",
       "<table border=\"1\" class=\"dataframe\">\n",
       "  <thead>\n",
       "    <tr style=\"text-align: right;\">\n",
       "      <th></th>\n",
       "      <th>Período</th>\n",
       "      <th>Anios</th>\n",
       "      <th>Quito</th>\n",
       "      <th>Quito.1</th>\n",
       "      <th>Quito.2</th>\n",
       "      <th>Guayaquil</th>\n",
       "      <th>Guayaquil.1</th>\n",
       "      <th>Guayaquil.2</th>\n",
       "      <th>Cuenca</th>\n",
       "      <th>Cuenca.1</th>\n",
       "      <th>Cuenca.2</th>\n",
       "      <th>Machala</th>\n",
       "      <th>Machala.1</th>\n",
       "      <th>Machala.2</th>\n",
       "      <th>Ambato</th>\n",
       "      <th>Ambato.1</th>\n",
       "      <th>Ambato.2</th>\n",
       "    </tr>\n",
       "  </thead>\n",
       "  <tbody>\n",
       "    <tr>\n",
       "      <th>0</th>\n",
       "      <td>NaN</td>\n",
       "      <td>NaN</td>\n",
       "      <td>NaN</td>\n",
       "      <td>NaN</td>\n",
       "      <td>NaN</td>\n",
       "      <td>NaN</td>\n",
       "      <td>NaN</td>\n",
       "      <td>NaN</td>\n",
       "      <td>NaN</td>\n",
       "      <td>NaN</td>\n",
       "      <td>NaN</td>\n",
       "      <td>NaN</td>\n",
       "      <td>NaN</td>\n",
       "      <td>NaN</td>\n",
       "      <td>NaN</td>\n",
       "      <td>NaN</td>\n",
       "      <td>NaN</td>\n",
       "    </tr>\n",
       "    <tr>\n",
       "      <th>1</th>\n",
       "      <td>Marzo</td>\n",
       "      <td>2008.0</td>\n",
       "      <td>10.45</td>\n",
       "      <td>3.32</td>\n",
       "      <td>1.76</td>\n",
       "      <td>22.06</td>\n",
       "      <td>6.38</td>\n",
       "      <td>2.87</td>\n",
       "      <td>11.68</td>\n",
       "      <td>3.74</td>\n",
       "      <td>1.88</td>\n",
       "      <td>20.76</td>\n",
       "      <td>6.43</td>\n",
       "      <td>2.82</td>\n",
       "      <td>21.20</td>\n",
       "      <td>6.38</td>\n",
       "      <td>3.11</td>\n",
       "    </tr>\n",
       "    <tr>\n",
       "      <th>2</th>\n",
       "      <td>Marzo</td>\n",
       "      <td>2009.0</td>\n",
       "      <td>11.16</td>\n",
       "      <td>3.71</td>\n",
       "      <td>1.97</td>\n",
       "      <td>24.28</td>\n",
       "      <td>7.50</td>\n",
       "      <td>3.26</td>\n",
       "      <td>10.91</td>\n",
       "      <td>3.31</td>\n",
       "      <td>1.51</td>\n",
       "      <td>20.76</td>\n",
       "      <td>6.32</td>\n",
       "      <td>2.94</td>\n",
       "      <td>17.55</td>\n",
       "      <td>5.81</td>\n",
       "      <td>2.99</td>\n",
       "    </tr>\n",
       "    <tr>\n",
       "      <th>3</th>\n",
       "      <td>Marzo</td>\n",
       "      <td>2010.0</td>\n",
       "      <td>13.01</td>\n",
       "      <td>4.34</td>\n",
       "      <td>2.31</td>\n",
       "      <td>20.80</td>\n",
       "      <td>5.82</td>\n",
       "      <td>2.37</td>\n",
       "      <td>13.78</td>\n",
       "      <td>3.80</td>\n",
       "      <td>1.60</td>\n",
       "      <td>15.54</td>\n",
       "      <td>4.20</td>\n",
       "      <td>1.77</td>\n",
       "      <td>11.63</td>\n",
       "      <td>3.47</td>\n",
       "      <td>1.47</td>\n",
       "    </tr>\n",
       "    <tr>\n",
       "      <th>4</th>\n",
       "      <td>Marzo</td>\n",
       "      <td>2011.0</td>\n",
       "      <td>10.33</td>\n",
       "      <td>3.34</td>\n",
       "      <td>1.81</td>\n",
       "      <td>19.21</td>\n",
       "      <td>4.99</td>\n",
       "      <td>1.99</td>\n",
       "      <td>12.39</td>\n",
       "      <td>4.13</td>\n",
       "      <td>2.20</td>\n",
       "      <td>14.76</td>\n",
       "      <td>4.07</td>\n",
       "      <td>1.62</td>\n",
       "      <td>10.58</td>\n",
       "      <td>2.68</td>\n",
       "      <td>1.02</td>\n",
       "    </tr>\n",
       "  </tbody>\n",
       "</table>\n",
       "</div>"
      ],
      "text/plain": [
       "  Período   Anios  Quito  Quito.1  Quito.2  Guayaquil  Guayaquil.1  \\\n",
       "0     NaN     NaN    NaN      NaN      NaN        NaN          NaN   \n",
       "1   Marzo  2008.0  10.45     3.32     1.76      22.06         6.38   \n",
       "2   Marzo  2009.0  11.16     3.71     1.97      24.28         7.50   \n",
       "3   Marzo  2010.0  13.01     4.34     2.31      20.80         5.82   \n",
       "4   Marzo  2011.0  10.33     3.34     1.81      19.21         4.99   \n",
       "\n",
       "   Guayaquil.2  Cuenca  Cuenca.1  Cuenca.2  Machala  Machala.1  Machala.2  \\\n",
       "0          NaN     NaN       NaN       NaN      NaN        NaN        NaN   \n",
       "1         2.87   11.68      3.74      1.88    20.76       6.43       2.82   \n",
       "2         3.26   10.91      3.31      1.51    20.76       6.32       2.94   \n",
       "3         2.37   13.78      3.80      1.60    15.54       4.20       1.77   \n",
       "4         1.99   12.39      4.13      2.20    14.76       4.07       1.62   \n",
       "\n",
       "   Ambato  Ambato.1  Ambato.2  \n",
       "0     NaN       NaN       NaN  \n",
       "1   21.20      6.38      3.11  \n",
       "2   17.55      5.81      2.99  \n",
       "3   11.63      3.47      1.47  \n",
       "4   10.58      2.68      1.02  "
      ]
     },
     "execution_count": 3,
     "metadata": {},
     "output_type": "execute_result"
    }
   ],
   "source": [
    "raw_data.head()"
   ]
  },
  {
   "cell_type": "markdown",
   "metadata": {},
   "source": [
    "Con la función `[1:]` eliminamos la primera fila, ya que no son parte de los datos que usaremos"
   ]
  },
  {
   "cell_type": "code",
   "execution_count": 4,
   "metadata": {},
   "outputs": [],
   "source": [
    "raw_data = raw_data[1:]"
   ]
  },
  {
   "cell_type": "code",
   "execution_count": 5,
   "metadata": {},
   "outputs": [
    {
     "data": {
      "text/plain": [
       "(10, 17)"
      ]
     },
     "execution_count": 5,
     "metadata": {},
     "output_type": "execute_result"
    }
   ],
   "source": [
    "raw_data.shape  # números de campos de nuestra data"
   ]
  },
  {
   "cell_type": "markdown",
   "metadata": {},
   "source": [
    "Un `DataFrame` se compone de dos componentes principales; \n",
    " - Los datos mismos, que se pueden extraer a través del atributo de valores\n",
    " - Conjunto de índices, que son esencialmente etiquetas para las filas y columnas del DataFrame."
   ]
  },
  {
   "cell_type": "code",
   "execution_count": 6,
   "metadata": {},
   "outputs": [
    {
     "data": {
      "text/plain": [
       "RangeIndex(start=1, stop=11, step=1)"
      ]
     },
     "execution_count": 6,
     "metadata": {},
     "output_type": "execute_result"
    }
   ],
   "source": [
    "raw_data.index"
   ]
  },
  {
   "cell_type": "code",
   "execution_count": 7,
   "metadata": {},
   "outputs": [
    {
     "data": {
      "text/plain": [
       "Index(['Período', 'Anios', 'Quito', 'Quito.1', 'Quito.2', 'Guayaquil',\n",
       "       'Guayaquil.1', 'Guayaquil.2', 'Cuenca', 'Cuenca.1', 'Cuenca.2',\n",
       "       'Machala', 'Machala.1', 'Machala.2', 'Ambato', 'Ambato.1', 'Ambato.2'],\n",
       "      dtype='object')"
      ]
     },
     "execution_count": 7,
     "metadata": {},
     "output_type": "execute_result"
    }
   ],
   "source": [
    "raw_data.columns"
   ]
  },
  {
   "cell_type": "markdown",
   "metadata": {},
   "source": [
    "Pero, un `índice` es más que un conjunto de etiquetas. Es importante destacar que asegura la **alineación de datos** cuando se agregan datos o se combinan estructuras de datos.\n",
    "\n",
    "De hecho, podemos especificar un índice más apropiado para nuestros datos. El campo Año aquí es un índice único para los valores de análisis correspondientes.\n",
    "\n",
    "`set_index` nos permite convertir cualquier columna (o matriz externa) que elijamos en el índice de fila."
   ]
  },
  {
   "cell_type": "code",
   "execution_count": 8,
   "metadata": {},
   "outputs": [
    {
     "data": {
      "text/html": [
       "<div>\n",
       "<style scoped>\n",
       "    .dataframe tbody tr th:only-of-type {\n",
       "        vertical-align: middle;\n",
       "    }\n",
       "\n",
       "    .dataframe tbody tr th {\n",
       "        vertical-align: top;\n",
       "    }\n",
       "\n",
       "    .dataframe thead th {\n",
       "        text-align: right;\n",
       "    }\n",
       "</style>\n",
       "<table border=\"1\" class=\"dataframe\">\n",
       "  <thead>\n",
       "    <tr style=\"text-align: right;\">\n",
       "      <th></th>\n",
       "      <th>Período</th>\n",
       "      <th>Quito</th>\n",
       "      <th>Quito.1</th>\n",
       "      <th>Quito.2</th>\n",
       "      <th>Guayaquil</th>\n",
       "      <th>Guayaquil.1</th>\n",
       "      <th>Guayaquil.2</th>\n",
       "      <th>Cuenca</th>\n",
       "      <th>Cuenca.1</th>\n",
       "      <th>Cuenca.2</th>\n",
       "      <th>Machala</th>\n",
       "      <th>Machala.1</th>\n",
       "      <th>Machala.2</th>\n",
       "      <th>Ambato</th>\n",
       "      <th>Ambato.1</th>\n",
       "      <th>Ambato.2</th>\n",
       "    </tr>\n",
       "    <tr>\n",
       "      <th>Anios</th>\n",
       "      <th></th>\n",
       "      <th></th>\n",
       "      <th></th>\n",
       "      <th></th>\n",
       "      <th></th>\n",
       "      <th></th>\n",
       "      <th></th>\n",
       "      <th></th>\n",
       "      <th></th>\n",
       "      <th></th>\n",
       "      <th></th>\n",
       "      <th></th>\n",
       "      <th></th>\n",
       "      <th></th>\n",
       "      <th></th>\n",
       "      <th></th>\n",
       "    </tr>\n",
       "  </thead>\n",
       "  <tbody>\n",
       "    <tr>\n",
       "      <th>2008.0</th>\n",
       "      <td>Marzo</td>\n",
       "      <td>10.45</td>\n",
       "      <td>3.32</td>\n",
       "      <td>1.76</td>\n",
       "      <td>22.06</td>\n",
       "      <td>6.38</td>\n",
       "      <td>2.87</td>\n",
       "      <td>11.68</td>\n",
       "      <td>3.74</td>\n",
       "      <td>1.88</td>\n",
       "      <td>20.76</td>\n",
       "      <td>6.43</td>\n",
       "      <td>2.82</td>\n",
       "      <td>21.20</td>\n",
       "      <td>6.38</td>\n",
       "      <td>3.11</td>\n",
       "    </tr>\n",
       "    <tr>\n",
       "      <th>2009.0</th>\n",
       "      <td>Marzo</td>\n",
       "      <td>11.16</td>\n",
       "      <td>3.71</td>\n",
       "      <td>1.97</td>\n",
       "      <td>24.28</td>\n",
       "      <td>7.50</td>\n",
       "      <td>3.26</td>\n",
       "      <td>10.91</td>\n",
       "      <td>3.31</td>\n",
       "      <td>1.51</td>\n",
       "      <td>20.76</td>\n",
       "      <td>6.32</td>\n",
       "      <td>2.94</td>\n",
       "      <td>17.55</td>\n",
       "      <td>5.81</td>\n",
       "      <td>2.99</td>\n",
       "    </tr>\n",
       "  </tbody>\n",
       "</table>\n",
       "</div>"
      ],
      "text/plain": [
       "       Período  Quito  Quito.1  Quito.2  Guayaquil  Guayaquil.1  Guayaquil.2  \\\n",
       "Anios                                                                          \n",
       "2008.0   Marzo  10.45     3.32     1.76      22.06         6.38         2.87   \n",
       "2009.0   Marzo  11.16     3.71     1.97      24.28         7.50         3.26   \n",
       "\n",
       "        Cuenca  Cuenca.1  Cuenca.2  Machala  Machala.1  Machala.2  Ambato  \\\n",
       "Anios                                                                       \n",
       "2008.0   11.68      3.74      1.88    20.76       6.43       2.82   21.20   \n",
       "2009.0   10.91      3.31      1.51    20.76       6.32       2.94   17.55   \n",
       "\n",
       "        Ambato.1  Ambato.2  \n",
       "Anios                       \n",
       "2008.0      6.38      3.11  \n",
       "2009.0      5.81      2.99  "
      ]
     },
     "execution_count": 8,
     "metadata": {},
     "output_type": "execute_result"
    }
   ],
   "source": [
    "temp = raw_data.set_index('Anios')\n",
    "temp.head(2)"
   ]
  },
  {
   "cell_type": "markdown",
   "metadata": {},
   "source": [
    "## Data\n",
    "Para nuestra tabla agruparemos los datos de Quito para nuestras graficas"
   ]
  },
  {
   "cell_type": "code",
   "execution_count": 9,
   "metadata": {},
   "outputs": [
    {
     "data": {
      "text/html": [
       "<div>\n",
       "<style scoped>\n",
       "    .dataframe tbody tr th:only-of-type {\n",
       "        vertical-align: middle;\n",
       "    }\n",
       "\n",
       "    .dataframe tbody tr th {\n",
       "        vertical-align: top;\n",
       "    }\n",
       "\n",
       "    .dataframe thead th {\n",
       "        text-align: right;\n",
       "    }\n",
       "</style>\n",
       "<table border=\"1\" class=\"dataframe\">\n",
       "  <thead>\n",
       "    <tr style=\"text-align: right;\">\n",
       "      <th></th>\n",
       "      <th>Anios</th>\n",
       "      <th>Quito</th>\n",
       "      <th>Quito.1</th>\n",
       "      <th>Quito.2</th>\n",
       "    </tr>\n",
       "  </thead>\n",
       "  <tbody>\n",
       "    <tr>\n",
       "      <th>1</th>\n",
       "      <td>2008.0</td>\n",
       "      <td>10.45</td>\n",
       "      <td>3.32</td>\n",
       "      <td>1.76</td>\n",
       "    </tr>\n",
       "  </tbody>\n",
       "</table>\n",
       "</div>"
      ],
      "text/plain": [
       "    Anios  Quito  Quito.1  Quito.2\n",
       "1  2008.0  10.45     3.32     1.76"
      ]
     },
     "execution_count": 9,
     "metadata": {},
     "output_type": "execute_result"
    }
   ],
   "source": [
    "data = raw_data.drop(['Período', 'Guayaquil', 'Guayaquil.1', 'Guayaquil.2', 'Cuenca', 'Cuenca.1', 'Cuenca.2', 'Machala', 'Machala.1', 'Machala.2', 'Ambato', 'Ambato.1', 'Ambato.2'], axis=1)\n",
    "data['Anios'] = data['Anios'].astype(str)\n",
    "data.head(1)"
   ]
  },
  {
   "cell_type": "markdown",
   "metadata": {},
   "source": [
    "Cambiaremos los nombres de las columnas de nuestra data para ver lo que representaremos"
   ]
  },
  {
   "cell_type": "code",
   "execution_count": 10,
   "metadata": {},
   "outputs": [
    {
     "data": {
      "text/html": [
       "<div>\n",
       "<style scoped>\n",
       "    .dataframe tbody tr th:only-of-type {\n",
       "        vertical-align: middle;\n",
       "    }\n",
       "\n",
       "    .dataframe tbody tr th {\n",
       "        vertical-align: top;\n",
       "    }\n",
       "\n",
       "    .dataframe thead th {\n",
       "        text-align: right;\n",
       "    }\n",
       "</style>\n",
       "<table border=\"1\" class=\"dataframe\">\n",
       "  <thead>\n",
       "    <tr style=\"text-align: right;\">\n",
       "      <th></th>\n",
       "      <th>Anios</th>\n",
       "      <th>Incidencia</th>\n",
       "      <th>Brecha</th>\n",
       "      <th>Severidad</th>\n",
       "    </tr>\n",
       "  </thead>\n",
       "  <tbody>\n",
       "    <tr>\n",
       "      <th>1</th>\n",
       "      <td>2008.0</td>\n",
       "      <td>10.45</td>\n",
       "      <td>3.32</td>\n",
       "      <td>1.76</td>\n",
       "    </tr>\n",
       "  </tbody>\n",
       "</table>\n",
       "</div>"
      ],
      "text/plain": [
       "    Anios  Incidencia  Brecha  Severidad\n",
       "1  2008.0       10.45    3.32       1.76"
      ]
     },
     "execution_count": 10,
     "metadata": {},
     "output_type": "execute_result"
    }
   ],
   "source": [
    "data.columns = ['Anios', 'Incidencia', 'Brecha', 'Severidad']\n",
    "data.head(1)"
   ]
  },
  {
   "cell_type": "markdown",
   "metadata": {},
   "source": [
    "### ¿Qué es incidencia de la pobreza?\n",
    "Número de personas pobres expresado como porcentaje del total de la población en un determinado año. Se define como \"pobres\" a aquellas personas que pertenecen a hogares cuyo consumo per cápita, en un período determinado, es inferior al valor de la línea de pobreza.\n",
    "### ¿Qué es la brecha de la pobreza?\n",
    "La línea de pobreza es el equivalente monetario del costo de una canasta básica de bienes y servicios. La brecha de la pobreza refleja cuan pobres son los pobres y, por tanto, proporciona una idea de la profundidad de las carencias de ingreso o consumo que definen una situación de pobreza.\n",
    "### ¿Qué es la severidad de la pobreza?\n",
    "P es un promedio (sobre la población total, n) de las distancias que separan a individuos u hogares de la línea de pobreza, ponderado por un exponente. El valor del exponente permite que la misma fórmula dé como resultado la incidencia, brecha y severidad de la pobreza como casos especiales de la medida."
   ]
  },
  {
   "cell_type": "markdown",
   "metadata": {},
   "source": [
    "## MARCO TEORICO \n",
    "----"
   ]
  },
  {
   "cell_type": "markdown",
   "metadata": {},
   "source": [
    "## Python \n",
    "\n",
    "Python es un lenguaje de programación interpretado cuya filosofía hace hincapié en una sintaxis que favorezca un código legible.\n",
    "\n",
    "Se trata de un lenguaje de programación multiparadigma, ya que soporta orientación a objetos, programación imperativa y, en menor medida, programación funcional. Es un lenguaje interpretado, usa tipado dinámico y es multiplataforma.\n",
    "\n",
    "\n",
    "## Pandas\n",
    "\n",
    "Pandas es una biblioteca de código abierto con licencia de BSD que proporciona estructuras de datos y herramientas de análisis de datos de alto rendimiento y fácil de usar para el lenguaje de programación Python.\n",
    "\n",
    "pandas es un proyecto patrocinado por NUMFocus. Esto ayudará a garantizar el éxito del desarrollo de los pandas como un proyecto de código abierto de clase mundial, y hace posible donar para el proyecto.\n",
    "\n",
    "## Bokeh\n",
    "\n",
    "Bokeh es una biblioteca de visualización interactiva de Python que se dirige a navegadores web modernos para su presentación. Su objetivo es proporcionar una construcción elegante y concisa de gráficos novedosos al estilo de D3.js y ampliar esta capacidad con interactividad de alto rendimiento en conjuntos de datos de gran tamaño o de transmisión"
   ]
  },
  {
   "cell_type": "markdown",
   "metadata": {},
   "source": [
    "## PROPUESTAS DE VISUALIZACION\n",
    "---\n",
    "**Para la visualización de datos se utilizo la librería bokeh**\n",
    "Con los datos descritos anterior mente utilizaremos bokeh como una manera grafica de visualizar nuestra tabla.\n",
    "\n",
    " - Usarnos gráficos de líneas para visualizar la diferencia que existe en nuestros datos\n",
    " - Utilizaremos gráficos de barras para visualizar la semejanza de los datos del mismo año\n",
    " - También utilizaremos gráficos de pastel interactivos con los que podremos observar la variación de datos dentro de nuestro rango de años."
   ]
  },
  {
   "cell_type": "markdown",
   "metadata": {},
   "source": [
    "Al usar la interfaz bokeh.plotting, necesitamos importar:\n",
    "\n",
    " - Use la función de `figure` para crear nuevos objetos de trazado para trabajar.\n",
    " - Las funciones `output_file`, `output_notebook` para indicar a Bokeh cómo mostrar el resultado."
   ]
  },
  {
   "cell_type": "code",
   "execution_count": 11,
   "metadata": {},
   "outputs": [],
   "source": [
    "from bokeh.io import show\n",
    "from bokeh.plotting import figure\n",
    "from bokeh.models import ColumnDataSource"
   ]
  },
  {
   "cell_type": "markdown",
   "metadata": {},
   "source": [
    "Importamos `gridplot` - para presentar varias graficas en una"
   ]
  },
  {
   "cell_type": "code",
   "execution_count": 12,
   "metadata": {},
   "outputs": [],
   "source": [
    "from bokeh.layouts import gridplot"
   ]
  },
  {
   "cell_type": "markdown",
   "metadata": {},
   "source": [
    "En este caso, estamos en `jupyter notebook`, así que llamamos a `output_notebook()`. Solo debemos llamar esto una vez para mostrar nuestras graficas en el cuaderno usando la función `show()` de bokeh."
   ]
  },
  {
   "cell_type": "code",
   "execution_count": 13,
   "metadata": {},
   "outputs": [
    {
     "data": {
      "text/html": [
       "\n",
       "    <div class=\"bk-root\">\n",
       "        <a href=\"https://bokeh.pydata.org\" target=\"_blank\" class=\"bk-logo bk-logo-small bk-logo-notebook\"></a>\n",
       "        <span id=\"7d81d97b-016e-4975-b316-4888067991cb\">Loading BokehJS ...</span>\n",
       "    </div>"
      ]
     },
     "metadata": {},
     "output_type": "display_data"
    },
    {
     "data": {
      "application/javascript": [
       "\n",
       "(function(root) {\n",
       "  function now() {\n",
       "    return new Date();\n",
       "  }\n",
       "\n",
       "  var force = true;\n",
       "\n",
       "  if (typeof (root._bokeh_onload_callbacks) === \"undefined\" || force === true) {\n",
       "    root._bokeh_onload_callbacks = [];\n",
       "    root._bokeh_is_loading = undefined;\n",
       "  }\n",
       "\n",
       "  var JS_MIME_TYPE = 'application/javascript';\n",
       "  var HTML_MIME_TYPE = 'text/html';\n",
       "  var EXEC_MIME_TYPE = 'application/vnd.bokehjs_exec.v0+json';\n",
       "  var CLASS_NAME = 'output_bokeh rendered_html';\n",
       "\n",
       "  /**\n",
       "   * Render data to the DOM node\n",
       "   */\n",
       "  function render(props, node) {\n",
       "    var script = document.createElement(\"script\");\n",
       "    node.appendChild(script);\n",
       "  }\n",
       "\n",
       "  /**\n",
       "   * Handle when an output is cleared or removed\n",
       "   */\n",
       "  function handleClearOutput(event, handle) {\n",
       "    var cell = handle.cell;\n",
       "\n",
       "    var id = cell.output_area._bokeh_element_id;\n",
       "    var server_id = cell.output_area._bokeh_server_id;\n",
       "    // Clean up Bokeh references\n",
       "    if (id !== undefined) {\n",
       "      Bokeh.index[id].model.document.clear();\n",
       "      delete Bokeh.index[id];\n",
       "    }\n",
       "\n",
       "    if (server_id !== undefined) {\n",
       "      // Clean up Bokeh references\n",
       "      var cmd = \"from bokeh.io.state import curstate; print(curstate().uuid_to_server['\" + server_id + \"'].get_sessions()[0].document.roots[0]._id)\";\n",
       "      cell.notebook.kernel.execute(cmd, {\n",
       "        iopub: {\n",
       "          output: function(msg) {\n",
       "            var element_id = msg.content.text.trim();\n",
       "            Bokeh.index[element_id].model.document.clear();\n",
       "            delete Bokeh.index[element_id];\n",
       "          }\n",
       "        }\n",
       "      });\n",
       "      // Destroy server and session\n",
       "      var cmd = \"import bokeh.io.notebook as ion; ion.destroy_server('\" + server_id + \"')\";\n",
       "      cell.notebook.kernel.execute(cmd);\n",
       "    }\n",
       "  }\n",
       "\n",
       "  /**\n",
       "   * Handle when a new output is added\n",
       "   */\n",
       "  function handleAddOutput(event, handle) {\n",
       "    var output_area = handle.output_area;\n",
       "    var output = handle.output;\n",
       "\n",
       "    // limit handleAddOutput to display_data with EXEC_MIME_TYPE content only\n",
       "    if ((output.output_type != \"display_data\") || (!output.data.hasOwnProperty(EXEC_MIME_TYPE))) {\n",
       "      return\n",
       "    }\n",
       "\n",
       "    var toinsert = output_area.element.find(`.${CLASS_NAME.split(' ')[0]}`);\n",
       "\n",
       "    if (output.metadata[EXEC_MIME_TYPE][\"id\"] !== undefined) {\n",
       "      toinsert[0].firstChild.textContent = output.data[JS_MIME_TYPE];\n",
       "      // store reference to embed id on output_area\n",
       "      output_area._bokeh_element_id = output.metadata[EXEC_MIME_TYPE][\"id\"];\n",
       "    }\n",
       "    if (output.metadata[EXEC_MIME_TYPE][\"server_id\"] !== undefined) {\n",
       "      var bk_div = document.createElement(\"div\");\n",
       "      bk_div.innerHTML = output.data[HTML_MIME_TYPE];\n",
       "      var script_attrs = bk_div.children[0].attributes;\n",
       "      for (var i = 0; i < script_attrs.length; i++) {\n",
       "        toinsert[0].firstChild.setAttribute(script_attrs[i].name, script_attrs[i].value);\n",
       "      }\n",
       "      // store reference to server id on output_area\n",
       "      output_area._bokeh_server_id = output.metadata[EXEC_MIME_TYPE][\"server_id\"];\n",
       "    }\n",
       "  }\n",
       "\n",
       "  function register_renderer(events, OutputArea) {\n",
       "\n",
       "    function append_mime(data, metadata, element) {\n",
       "      // create a DOM node to render to\n",
       "      var toinsert = this.create_output_subarea(\n",
       "        metadata,\n",
       "        CLASS_NAME,\n",
       "        EXEC_MIME_TYPE\n",
       "      );\n",
       "      this.keyboard_manager.register_events(toinsert);\n",
       "      // Render to node\n",
       "      var props = {data: data, metadata: metadata[EXEC_MIME_TYPE]};\n",
       "      render(props, toinsert[0]);\n",
       "      element.append(toinsert);\n",
       "      return toinsert\n",
       "    }\n",
       "\n",
       "    /* Handle when an output is cleared or removed */\n",
       "    events.on('clear_output.CodeCell', handleClearOutput);\n",
       "    events.on('delete.Cell', handleClearOutput);\n",
       "\n",
       "    /* Handle when a new output is added */\n",
       "    events.on('output_added.OutputArea', handleAddOutput);\n",
       "\n",
       "    /**\n",
       "     * Register the mime type and append_mime function with output_area\n",
       "     */\n",
       "    OutputArea.prototype.register_mime_type(EXEC_MIME_TYPE, append_mime, {\n",
       "      /* Is output safe? */\n",
       "      safe: true,\n",
       "      /* Index of renderer in `output_area.display_order` */\n",
       "      index: 0\n",
       "    });\n",
       "  }\n",
       "\n",
       "  // register the mime type if in Jupyter Notebook environment and previously unregistered\n",
       "  if (root.Jupyter !== undefined) {\n",
       "    var events = require('base/js/events');\n",
       "    var OutputArea = require('notebook/js/outputarea').OutputArea;\n",
       "\n",
       "    if (OutputArea.prototype.mime_types().indexOf(EXEC_MIME_TYPE) == -1) {\n",
       "      register_renderer(events, OutputArea);\n",
       "    }\n",
       "  }\n",
       "\n",
       "  \n",
       "  if (typeof (root._bokeh_timeout) === \"undefined\" || force === true) {\n",
       "    root._bokeh_timeout = Date.now() + 5000;\n",
       "    root._bokeh_failed_load = false;\n",
       "  }\n",
       "\n",
       "  var NB_LOAD_WARNING = {'data': {'text/html':\n",
       "     \"<div style='background-color: #fdd'>\\n\"+\n",
       "     \"<p>\\n\"+\n",
       "     \"BokehJS does not appear to have successfully loaded. If loading BokehJS from CDN, this \\n\"+\n",
       "     \"may be due to a slow or bad network connection. Possible fixes:\\n\"+\n",
       "     \"</p>\\n\"+\n",
       "     \"<ul>\\n\"+\n",
       "     \"<li>re-rerun `output_notebook()` to attempt to load from CDN again, or</li>\\n\"+\n",
       "     \"<li>use INLINE resources instead, as so:</li>\\n\"+\n",
       "     \"</ul>\\n\"+\n",
       "     \"<code>\\n\"+\n",
       "     \"from bokeh.resources import INLINE\\n\"+\n",
       "     \"output_notebook(resources=INLINE)\\n\"+\n",
       "     \"</code>\\n\"+\n",
       "     \"</div>\"}};\n",
       "\n",
       "  function display_loaded() {\n",
       "    var el = document.getElementById(\"7d81d97b-016e-4975-b316-4888067991cb\");\n",
       "    if (el != null) {\n",
       "      el.textContent = \"BokehJS is loading...\";\n",
       "    }\n",
       "    if (root.Bokeh !== undefined) {\n",
       "      if (el != null) {\n",
       "        el.textContent = \"BokehJS \" + root.Bokeh.version + \" successfully loaded.\";\n",
       "      }\n",
       "    } else if (Date.now() < root._bokeh_timeout) {\n",
       "      setTimeout(display_loaded, 100)\n",
       "    }\n",
       "  }\n",
       "\n",
       "\n",
       "  function run_callbacks() {\n",
       "    try {\n",
       "      root._bokeh_onload_callbacks.forEach(function(callback) { callback() });\n",
       "    }\n",
       "    finally {\n",
       "      delete root._bokeh_onload_callbacks\n",
       "    }\n",
       "    console.info(\"Bokeh: all callbacks have finished\");\n",
       "  }\n",
       "\n",
       "  function load_libs(js_urls, callback) {\n",
       "    root._bokeh_onload_callbacks.push(callback);\n",
       "    if (root._bokeh_is_loading > 0) {\n",
       "      console.log(\"Bokeh: BokehJS is being loaded, scheduling callback at\", now());\n",
       "      return null;\n",
       "    }\n",
       "    if (js_urls == null || js_urls.length === 0) {\n",
       "      run_callbacks();\n",
       "      return null;\n",
       "    }\n",
       "    console.log(\"Bokeh: BokehJS not loaded, scheduling load and callback at\", now());\n",
       "    root._bokeh_is_loading = js_urls.length;\n",
       "    for (var i = 0; i < js_urls.length; i++) {\n",
       "      var url = js_urls[i];\n",
       "      var s = document.createElement('script');\n",
       "      s.src = url;\n",
       "      s.async = false;\n",
       "      s.onreadystatechange = s.onload = function() {\n",
       "        root._bokeh_is_loading--;\n",
       "        if (root._bokeh_is_loading === 0) {\n",
       "          console.log(\"Bokeh: all BokehJS libraries loaded\");\n",
       "          run_callbacks()\n",
       "        }\n",
       "      };\n",
       "      s.onerror = function() {\n",
       "        console.warn(\"failed to load library \" + url);\n",
       "      };\n",
       "      console.log(\"Bokeh: injecting script tag for BokehJS library: \", url);\n",
       "      document.getElementsByTagName(\"head\")[0].appendChild(s);\n",
       "    }\n",
       "  };var element = document.getElementById(\"7d81d97b-016e-4975-b316-4888067991cb\");\n",
       "  if (element == null) {\n",
       "    console.log(\"Bokeh: ERROR: autoload.js configured with elementid '7d81d97b-016e-4975-b316-4888067991cb' but no matching script tag was found. \")\n",
       "    return false;\n",
       "  }\n",
       "\n",
       "  var js_urls = [\"https://cdn.pydata.org/bokeh/release/bokeh-0.12.10.min.js\", \"https://cdn.pydata.org/bokeh/release/bokeh-widgets-0.12.10.min.js\", \"https://cdn.pydata.org/bokeh/release/bokeh-tables-0.12.10.min.js\", \"https://cdn.pydata.org/bokeh/release/bokeh-gl-0.12.10.min.js\"];\n",
       "\n",
       "  var inline_js = [\n",
       "    function(Bokeh) {\n",
       "      Bokeh.set_log_level(\"info\");\n",
       "    },\n",
       "    \n",
       "    function(Bokeh) {\n",
       "      \n",
       "    },\n",
       "    function(Bokeh) {\n",
       "      console.log(\"Bokeh: injecting CSS: https://cdn.pydata.org/bokeh/release/bokeh-0.12.10.min.css\");\n",
       "      Bokeh.embed.inject_css(\"https://cdn.pydata.org/bokeh/release/bokeh-0.12.10.min.css\");\n",
       "      console.log(\"Bokeh: injecting CSS: https://cdn.pydata.org/bokeh/release/bokeh-widgets-0.12.10.min.css\");\n",
       "      Bokeh.embed.inject_css(\"https://cdn.pydata.org/bokeh/release/bokeh-widgets-0.12.10.min.css\");\n",
       "      console.log(\"Bokeh: injecting CSS: https://cdn.pydata.org/bokeh/release/bokeh-tables-0.12.10.min.css\");\n",
       "      Bokeh.embed.inject_css(\"https://cdn.pydata.org/bokeh/release/bokeh-tables-0.12.10.min.css\");\n",
       "    }\n",
       "  ];\n",
       "\n",
       "  function run_inline_js() {\n",
       "    \n",
       "    if ((root.Bokeh !== undefined) || (force === true)) {\n",
       "      for (var i = 0; i < inline_js.length; i++) {\n",
       "        inline_js[i].call(root, root.Bokeh);\n",
       "      }if (force === true) {\n",
       "        display_loaded();\n",
       "      }} else if (Date.now() < root._bokeh_timeout) {\n",
       "      setTimeout(run_inline_js, 100);\n",
       "    } else if (!root._bokeh_failed_load) {\n",
       "      console.log(\"Bokeh: BokehJS failed to load within specified timeout.\");\n",
       "      root._bokeh_failed_load = true;\n",
       "    } else if (force !== true) {\n",
       "      var cell = $(document.getElementById(\"7d81d97b-016e-4975-b316-4888067991cb\")).parents('.cell').data().cell;\n",
       "      cell.output_area.append_execute_result(NB_LOAD_WARNING)\n",
       "    }\n",
       "\n",
       "  }\n",
       "\n",
       "  if (root._bokeh_is_loading === 0) {\n",
       "    console.log(\"Bokeh: BokehJS loaded, going straight to plotting\");\n",
       "    run_inline_js();\n",
       "  } else {\n",
       "    load_libs(js_urls, function() {\n",
       "      console.log(\"Bokeh: BokehJS plotting callback run at\", now());\n",
       "      run_inline_js();\n",
       "    });\n",
       "  }\n",
       "}(window));"
      ],
      "application/vnd.bokehjs_load.v0+json": "\n(function(root) {\n  function now() {\n    return new Date();\n  }\n\n  var force = true;\n\n  if (typeof (root._bokeh_onload_callbacks) === \"undefined\" || force === true) {\n    root._bokeh_onload_callbacks = [];\n    root._bokeh_is_loading = undefined;\n  }\n\n  \n\n  \n  if (typeof (root._bokeh_timeout) === \"undefined\" || force === true) {\n    root._bokeh_timeout = Date.now() + 5000;\n    root._bokeh_failed_load = false;\n  }\n\n  var NB_LOAD_WARNING = {'data': {'text/html':\n     \"<div style='background-color: #fdd'>\\n\"+\n     \"<p>\\n\"+\n     \"BokehJS does not appear to have successfully loaded. If loading BokehJS from CDN, this \\n\"+\n     \"may be due to a slow or bad network connection. Possible fixes:\\n\"+\n     \"</p>\\n\"+\n     \"<ul>\\n\"+\n     \"<li>re-rerun `output_notebook()` to attempt to load from CDN again, or</li>\\n\"+\n     \"<li>use INLINE resources instead, as so:</li>\\n\"+\n     \"</ul>\\n\"+\n     \"<code>\\n\"+\n     \"from bokeh.resources import INLINE\\n\"+\n     \"output_notebook(resources=INLINE)\\n\"+\n     \"</code>\\n\"+\n     \"</div>\"}};\n\n  function display_loaded() {\n    var el = document.getElementById(\"7d81d97b-016e-4975-b316-4888067991cb\");\n    if (el != null) {\n      el.textContent = \"BokehJS is loading...\";\n    }\n    if (root.Bokeh !== undefined) {\n      if (el != null) {\n        el.textContent = \"BokehJS \" + root.Bokeh.version + \" successfully loaded.\";\n      }\n    } else if (Date.now() < root._bokeh_timeout) {\n      setTimeout(display_loaded, 100)\n    }\n  }\n\n\n  function run_callbacks() {\n    try {\n      root._bokeh_onload_callbacks.forEach(function(callback) { callback() });\n    }\n    finally {\n      delete root._bokeh_onload_callbacks\n    }\n    console.info(\"Bokeh: all callbacks have finished\");\n  }\n\n  function load_libs(js_urls, callback) {\n    root._bokeh_onload_callbacks.push(callback);\n    if (root._bokeh_is_loading > 0) {\n      console.log(\"Bokeh: BokehJS is being loaded, scheduling callback at\", now());\n      return null;\n    }\n    if (js_urls == null || js_urls.length === 0) {\n      run_callbacks();\n      return null;\n    }\n    console.log(\"Bokeh: BokehJS not loaded, scheduling load and callback at\", now());\n    root._bokeh_is_loading = js_urls.length;\n    for (var i = 0; i < js_urls.length; i++) {\n      var url = js_urls[i];\n      var s = document.createElement('script');\n      s.src = url;\n      s.async = false;\n      s.onreadystatechange = s.onload = function() {\n        root._bokeh_is_loading--;\n        if (root._bokeh_is_loading === 0) {\n          console.log(\"Bokeh: all BokehJS libraries loaded\");\n          run_callbacks()\n        }\n      };\n      s.onerror = function() {\n        console.warn(\"failed to load library \" + url);\n      };\n      console.log(\"Bokeh: injecting script tag for BokehJS library: \", url);\n      document.getElementsByTagName(\"head\")[0].appendChild(s);\n    }\n  };var element = document.getElementById(\"7d81d97b-016e-4975-b316-4888067991cb\");\n  if (element == null) {\n    console.log(\"Bokeh: ERROR: autoload.js configured with elementid '7d81d97b-016e-4975-b316-4888067991cb' but no matching script tag was found. \")\n    return false;\n  }\n\n  var js_urls = [\"https://cdn.pydata.org/bokeh/release/bokeh-0.12.10.min.js\", \"https://cdn.pydata.org/bokeh/release/bokeh-widgets-0.12.10.min.js\", \"https://cdn.pydata.org/bokeh/release/bokeh-tables-0.12.10.min.js\", \"https://cdn.pydata.org/bokeh/release/bokeh-gl-0.12.10.min.js\"];\n\n  var inline_js = [\n    function(Bokeh) {\n      Bokeh.set_log_level(\"info\");\n    },\n    \n    function(Bokeh) {\n      \n    },\n    function(Bokeh) {\n      console.log(\"Bokeh: injecting CSS: https://cdn.pydata.org/bokeh/release/bokeh-0.12.10.min.css\");\n      Bokeh.embed.inject_css(\"https://cdn.pydata.org/bokeh/release/bokeh-0.12.10.min.css\");\n      console.log(\"Bokeh: injecting CSS: https://cdn.pydata.org/bokeh/release/bokeh-widgets-0.12.10.min.css\");\n      Bokeh.embed.inject_css(\"https://cdn.pydata.org/bokeh/release/bokeh-widgets-0.12.10.min.css\");\n      console.log(\"Bokeh: injecting CSS: https://cdn.pydata.org/bokeh/release/bokeh-tables-0.12.10.min.css\");\n      Bokeh.embed.inject_css(\"https://cdn.pydata.org/bokeh/release/bokeh-tables-0.12.10.min.css\");\n    }\n  ];\n\n  function run_inline_js() {\n    \n    if ((root.Bokeh !== undefined) || (force === true)) {\n      for (var i = 0; i < inline_js.length; i++) {\n        inline_js[i].call(root, root.Bokeh);\n      }if (force === true) {\n        display_loaded();\n      }} else if (Date.now() < root._bokeh_timeout) {\n      setTimeout(run_inline_js, 100);\n    } else if (!root._bokeh_failed_load) {\n      console.log(\"Bokeh: BokehJS failed to load within specified timeout.\");\n      root._bokeh_failed_load = true;\n    } else if (force !== true) {\n      var cell = $(document.getElementById(\"7d81d97b-016e-4975-b316-4888067991cb\")).parents('.cell').data().cell;\n      cell.output_area.append_execute_result(NB_LOAD_WARNING)\n    }\n\n  }\n\n  if (root._bokeh_is_loading === 0) {\n    console.log(\"Bokeh: BokehJS loaded, going straight to plotting\");\n    run_inline_js();\n  } else {\n    load_libs(js_urls, function() {\n      console.log(\"Bokeh: BokehJS plotting callback run at\", now());\n      run_inline_js();\n    });\n  }\n}(window));"
     },
     "metadata": {},
     "output_type": "display_data"
    }
   ],
   "source": [
    "from bokeh.io import output_notebook\n",
    "output_notebook()"
   ]
  },
  {
   "cell_type": "markdown",
   "metadata": {},
   "source": [
    "# GRAFICAS\n",
    "----"
   ]
  },
  {
   "cell_type": "markdown",
   "metadata": {},
   "source": [
    "## Gráfico de Líneas"
   ]
  },
  {
   "cell_type": "code",
   "execution_count": 14,
   "metadata": {},
   "outputs": [
    {
     "data": {
      "text/html": [
       "\n",
       "<div class=\"bk-root\">\n",
       "    <div class=\"bk-plotdiv\" id=\"f87c25ac-d964-40e9-8d12-e6fb1ea04f87\"></div>\n",
       "</div>"
      ]
     },
     "metadata": {},
     "output_type": "display_data"
    },
    {
     "data": {
      "application/javascript": [
       "(function(root) {\n",
       "  function embed_document(root) {\n",
       "    var docs_json = {\"e8ca7cd8-c860-4990-9d21-8cf59eff7cb4\":{\"roots\":{\"references\":[{\"attributes\":{\"line_alpha\":{\"value\":0.1},\"line_color\":{\"value\":\"#1f77b4\"},\"line_width\":{\"value\":5},\"x\":{\"field\":\"Anios\"},\"y\":{\"field\":\"Incidencia_mean\"}},\"id\":\"9094752b-08c5-41e5-bca3-fc265996cfff\",\"type\":\"Line\"},{\"attributes\":{},\"id\":\"a54b1475-b73d-48da-84c8-7a25c726f564\",\"type\":\"BasicTicker\"},{\"attributes\":{\"dimension\":1,\"grid_line_color\":{\"value\":null},\"plot\":{\"id\":\"068891b2-58ea-4768-821c-652ba0af70ca\",\"subtype\":\"Figure\",\"type\":\"Plot\"},\"ticker\":{\"id\":\"a54b1475-b73d-48da-84c8-7a25c726f564\",\"type\":\"BasicTicker\"}},\"id\":\"310b9e84-5c2b-4769-9573-59ea9de4dbf7\",\"type\":\"Grid\"},{\"attributes\":{\"line_alpha\":{\"value\":0.1},\"line_color\":{\"value\":\"#1f77b4\"},\"line_width\":{\"value\":5},\"x\":{\"field\":\"Anios\"},\"y\":{\"field\":\"Severidad_mean\"}},\"id\":\"0cb98255-957a-458e-baf3-8bc16e0621b9\",\"type\":\"Line\"},{\"attributes\":{\"callback\":null,\"factors\":[\"2008.0\",\"2009.0\",\"2010.0\",\"2011.0\",\"2012.0\",\"2013.0\",\"2014.0\",\"2015.0\",\"2016.0\",\"2017.0\"]},\"id\":\"f960b433-1f78-4d14-9c74-10a97a7637f5\",\"type\":\"FactorRange\"},{\"attributes\":{\"callback\":null,\"column_names\":[\"Brecha_count\",\"Brecha_mean\",\"Brecha_std\",\"Brecha_min\",\"Brecha_25%\",\"Brecha_50%\",\"Brecha_75%\",\"Brecha_max\",\"Incidencia_count\",\"Incidencia_mean\",\"Incidencia_std\",\"Incidencia_min\",\"Incidencia_25%\",\"Incidencia_50%\",\"Incidencia_75%\",\"Incidencia_max\",\"Severidad_count\",\"Severidad_mean\",\"Severidad_std\",\"Severidad_min\",\"Severidad_25%\",\"Severidad_50%\",\"Severidad_75%\",\"Severidad_max\",\"Anios\"],\"data\":{\"Anios\":[\"2008.0\",\"2009.0\",\"2010.0\",\"2011.0\",\"2012.0\",\"2013.0\",\"2014.0\",\"2015.0\",\"2016.0\",\"2017.0\"],\"Brecha_25%\":{\"__ndarray__\":\"j8L1KFyPCkCuR+F6FK4NQFyPwvUoXBFAuB6F61G4CkBSuB6F61EKQNejcD0K1wtAPQrXo3A9BkC4HoXrUbgEQArXo3A9CgVAMzMzMzMzA0A=\",\"dtype\":\"float64\",\"shape\":[10]},\"Brecha_50%\":{\"__ndarray__\":\"j8L1KFyPCkCuR+F6FK4NQFyPwvUoXBFAuB6F61G4CkBSuB6F61EKQNejcD0K1wtAPQrXo3A9BkC4HoXrUbgEQArXo3A9CgVAMzMzMzMzA0A=\",\"dtype\":\"float64\",\"shape\":[10]},\"Brecha_75%\":{\"__ndarray__\":\"j8L1KFyPCkCuR+F6FK4NQFyPwvUoXBFAuB6F61G4CkBSuB6F61EKQNejcD0K1wtAPQrXo3A9BkC4HoXrUbgEQArXo3A9CgVAMzMzMzMzA0A=\",\"dtype\":\"float64\",\"shape\":[10]},\"Brecha_count\":{\"__ndarray__\":\"AAAAAAAA8D8AAAAAAADwPwAAAAAAAPA/AAAAAAAA8D8AAAAAAADwPwAAAAAAAPA/AAAAAAAA8D8AAAAAAADwPwAAAAAAAPA/AAAAAAAA8D8=\",\"dtype\":\"float64\",\"shape\":[10]},\"Brecha_max\":{\"__ndarray__\":\"j8L1KFyPCkCuR+F6FK4NQFyPwvUoXBFAuB6F61G4CkBSuB6F61EKQNejcD0K1wtAPQrXo3A9BkC4HoXrUbgEQArXo3A9CgVAMzMzMzMzA0A=\",\"dtype\":\"float64\",\"shape\":[10]},\"Brecha_mean\":{\"__ndarray__\":\"j8L1KFyPCkCuR+F6FK4NQFyPwvUoXBFAuB6F61G4CkBSuB6F61EKQNejcD0K1wtAPQrXo3A9BkC4HoXrUbgEQArXo3A9CgVAMzMzMzMzA0A=\",\"dtype\":\"float64\",\"shape\":[10]},\"Brecha_min\":{\"__ndarray__\":\"j8L1KFyPCkCuR+F6FK4NQFyPwvUoXBFAuB6F61G4CkBSuB6F61EKQNejcD0K1wtAPQrXo3A9BkC4HoXrUbgEQArXo3A9CgVAMzMzMzMzA0A=\",\"dtype\":\"float64\",\"shape\":[10]},\"Brecha_std\":{\"__ndarray__\":\"AAAAAAAA+H8AAAAAAAD4fwAAAAAAAPh/AAAAAAAA+H8AAAAAAAD4fwAAAAAAAPh/AAAAAAAA+H8AAAAAAAD4fwAAAAAAAPh/AAAAAAAA+H8=\",\"dtype\":\"float64\",\"shape\":[10]},\"Incidencia_25%\":{\"__ndarray__\":\"ZmZmZmbmJEBSuB6F61EmQIXrUbgeBSpAKVyPwvWoJEBxPQrXo/AhQDMzMzMzsyVA16NwPQrXIUB7FK5H4XofQOxRuB6F6x9AZmZmZmZmHUA=\",\"dtype\":\"float64\",\"shape\":[10]},\"Incidencia_50%\":{\"__ndarray__\":\"ZmZmZmbmJEBSuB6F61EmQIXrUbgeBSpAKVyPwvWoJEBxPQrXo/AhQDMzMzMzsyVA16NwPQrXIUB7FK5H4XofQOxRuB6F6x9AZmZmZmZmHUA=\",\"dtype\":\"float64\",\"shape\":[10]},\"Incidencia_75%\":{\"__ndarray__\":\"ZmZmZmbmJEBSuB6F61EmQIXrUbgeBSpAKVyPwvWoJEBxPQrXo/AhQDMzMzMzsyVA16NwPQrXIUB7FK5H4XofQOxRuB6F6x9AZmZmZmZmHUA=\",\"dtype\":\"float64\",\"shape\":[10]},\"Incidencia_count\":{\"__ndarray__\":\"AAAAAAAA8D8AAAAAAADwPwAAAAAAAPA/AAAAAAAA8D8AAAAAAADwPwAAAAAAAPA/AAAAAAAA8D8AAAAAAADwPwAAAAAAAPA/AAAAAAAA8D8=\",\"dtype\":\"float64\",\"shape\":[10]},\"Incidencia_max\":{\"__ndarray__\":\"ZmZmZmbmJEBSuB6F61EmQIXrUbgeBSpAKVyPwvWoJEBxPQrXo/AhQDMzMzMzsyVA16NwPQrXIUB7FK5H4XofQOxRuB6F6x9AZmZmZmZmHUA=\",\"dtype\":\"float64\",\"shape\":[10]},\"Incidencia_mean\":{\"__ndarray__\":\"ZmZmZmbmJEBSuB6F61EmQIXrUbgeBSpAKVyPwvWoJEBxPQrXo/AhQDMzMzMzsyVA16NwPQrXIUB7FK5H4XofQOxRuB6F6x9AZmZmZmZmHUA=\",\"dtype\":\"float64\",\"shape\":[10]},\"Incidencia_min\":{\"__ndarray__\":\"ZmZmZmbmJEBSuB6F61EmQIXrUbgeBSpAKVyPwvWoJEBxPQrXo/AhQDMzMzMzsyVA16NwPQrXIUB7FK5H4XofQOxRuB6F6x9AZmZmZmZmHUA=\",\"dtype\":\"float64\",\"shape\":[10]},\"Incidencia_std\":{\"__ndarray__\":\"AAAAAAAA+H8AAAAAAAD4fwAAAAAAAPh/AAAAAAAA+H8AAAAAAAD4fwAAAAAAAPh/AAAAAAAA+H8AAAAAAAD4fwAAAAAAAPh/AAAAAAAA+H8=\",\"dtype\":\"float64\",\"shape\":[10]},\"Severidad_25%\":{\"__ndarray__\":\"KVyPwvUo/D+F61G4HoX/P3sUrkfhegJA9ihcj8L1/D9xPQrXo3D5P/YoXI/C9fg/PQrXo3A99j/NzMzMzMz0P3E9CtejcPU/rkfhehSu8z8=\",\"dtype\":\"float64\",\"shape\":[10]},\"Severidad_50%\":{\"__ndarray__\":\"KVyPwvUo/D+F61G4HoX/P3sUrkfhegJA9ihcj8L1/D9xPQrXo3D5P/YoXI/C9fg/PQrXo3A99j/NzMzMzMz0P3E9CtejcPU/rkfhehSu8z8=\",\"dtype\":\"float64\",\"shape\":[10]},\"Severidad_75%\":{\"__ndarray__\":\"KVyPwvUo/D+F61G4HoX/P3sUrkfhegJA9ihcj8L1/D9xPQrXo3D5P/YoXI/C9fg/PQrXo3A99j/NzMzMzMz0P3E9CtejcPU/rkfhehSu8z8=\",\"dtype\":\"float64\",\"shape\":[10]},\"Severidad_count\":{\"__ndarray__\":\"AAAAAAAA8D8AAAAAAADwPwAAAAAAAPA/AAAAAAAA8D8AAAAAAADwPwAAAAAAAPA/AAAAAAAA8D8AAAAAAADwPwAAAAAAAPA/AAAAAAAA8D8=\",\"dtype\":\"float64\",\"shape\":[10]},\"Severidad_max\":{\"__ndarray__\":\"KVyPwvUo/D+F61G4HoX/P3sUrkfhegJA9ihcj8L1/D9xPQrXo3D5P/YoXI/C9fg/PQrXo3A99j/NzMzMzMz0P3E9CtejcPU/rkfhehSu8z8=\",\"dtype\":\"float64\",\"shape\":[10]},\"Severidad_mean\":{\"__ndarray__\":\"KVyPwvUo/D+F61G4HoX/P3sUrkfhegJA9ihcj8L1/D9xPQrXo3D5P/YoXI/C9fg/PQrXo3A99j/NzMzMzMz0P3E9CtejcPU/rkfhehSu8z8=\",\"dtype\":\"float64\",\"shape\":[10]},\"Severidad_min\":{\"__ndarray__\":\"KVyPwvUo/D+F61G4HoX/P3sUrkfhegJA9ihcj8L1/D9xPQrXo3D5P/YoXI/C9fg/PQrXo3A99j/NzMzMzMz0P3E9CtejcPU/rkfhehSu8z8=\",\"dtype\":\"float64\",\"shape\":[10]},\"Severidad_std\":{\"__ndarray__\":\"AAAAAAAA+H8AAAAAAAD4fwAAAAAAAPh/AAAAAAAA+H8AAAAAAAD4fwAAAAAAAPh/AAAAAAAA+H8AAAAAAAD4fwAAAAAAAPh/AAAAAAAA+H8=\",\"dtype\":\"float64\",\"shape\":[10]}}},\"id\":\"980825d1-596f-457a-b37b-5ddce97d654c\",\"type\":\"ColumnDataSource\"},{\"attributes\":{},\"id\":\"61aedc8f-ba52-457c-aac3-0db3cf6b120a\",\"type\":\"BasicTickFormatter\"},{\"attributes\":{\"label\":{\"value\":\"Incidencia\"},\"renderers\":[{\"id\":\"67c1ac60-a988-4db9-9429-e045e30cafa8\",\"type\":\"GlyphRenderer\"}]},\"id\":\"20e96dc0-0c10-450a-b2c5-bcdcc7d37239\",\"type\":\"LegendItem\"},{\"attributes\":{\"source\":{\"id\":\"980825d1-596f-457a-b37b-5ddce97d654c\",\"type\":\"ColumnDataSource\"}},\"id\":\"8790aad4-9b16-4bfb-a4ee-eea7822d4dee\",\"type\":\"CDSView\"},{\"attributes\":{\"active_drag\":\"auto\",\"active_inspect\":\"auto\",\"active_scroll\":\"auto\",\"active_tap\":\"auto\"},\"id\":\"aa4d9944-3134-45ef-8a92-74eec6065b97\",\"type\":\"Toolbar\"},{\"attributes\":{},\"id\":\"d25dd125-2b74-45ef-95c9-b340c5d7e9e4\",\"type\":\"LinearScale\"},{\"attributes\":{\"plot\":null,\"text\":\"POBREZA-QUITO\"},\"id\":\"5d7e5ac0-5e6c-4729-84b9-3ae4db2a8d4f\",\"type\":\"Title\"},{\"attributes\":{\"line_color\":{\"value\":\"#f44171\"},\"line_width\":{\"value\":5},\"x\":{\"field\":\"Anios\"},\"y\":{\"field\":\"Severidad_mean\"}},\"id\":\"caeb0831-2c46-49f0-a638-4b9f850b0902\",\"type\":\"Line\"},{\"attributes\":{\"below\":[{\"id\":\"891be999-fe4a-4970-bb65-3b0c1be092bb\",\"type\":\"CategoricalAxis\"}],\"left\":[{\"id\":\"be9cbcbd-b430-4405-91d8-4de8119ad65f\",\"type\":\"LinearAxis\"}],\"plot_height\":400,\"plot_width\":900,\"renderers\":[{\"id\":\"891be999-fe4a-4970-bb65-3b0c1be092bb\",\"type\":\"CategoricalAxis\"},{\"id\":\"8623bee2-3d84-4ada-a41c-a0a7a9d4cb8f\",\"type\":\"Grid\"},{\"id\":\"be9cbcbd-b430-4405-91d8-4de8119ad65f\",\"type\":\"LinearAxis\"},{\"id\":\"310b9e84-5c2b-4769-9573-59ea9de4dbf7\",\"type\":\"Grid\"},{\"id\":\"172b980e-31f6-468e-98a4-6e4f930a066a\",\"type\":\"Legend\"},{\"id\":\"67c1ac60-a988-4db9-9429-e045e30cafa8\",\"type\":\"GlyphRenderer\"},{\"id\":\"ebc0c9ba-9051-41ff-9ef2-e73a8c32fd68\",\"type\":\"GlyphRenderer\"},{\"id\":\"c34587cc-96c1-40b1-9107-04fdbf591c1c\",\"type\":\"GlyphRenderer\"}],\"title\":{\"id\":\"5d7e5ac0-5e6c-4729-84b9-3ae4db2a8d4f\",\"type\":\"Title\"},\"toolbar\":{\"id\":\"aa4d9944-3134-45ef-8a92-74eec6065b97\",\"type\":\"Toolbar\"},\"x_range\":{\"id\":\"f960b433-1f78-4d14-9c74-10a97a7637f5\",\"type\":\"FactorRange\"},\"x_scale\":{\"id\":\"17886235-97a9-4e2f-8816-143137565b56\",\"type\":\"CategoricalScale\"},\"y_range\":{\"id\":\"4040bb5e-4783-4963-bdb0-7844c1efa938\",\"type\":\"DataRange1d\"},\"y_scale\":{\"id\":\"d25dd125-2b74-45ef-95c9-b340c5d7e9e4\",\"type\":\"LinearScale\"}},\"id\":\"068891b2-58ea-4768-821c-652ba0af70ca\",\"subtype\":\"Figure\",\"type\":\"Plot\"},{\"attributes\":{\"label\":{\"value\":\"Severidad\"},\"renderers\":[{\"id\":\"c34587cc-96c1-40b1-9107-04fdbf591c1c\",\"type\":\"GlyphRenderer\"}]},\"id\":\"b5587b8f-ef26-44e9-b98a-8abb2996dc36\",\"type\":\"LegendItem\"},{\"attributes\":{\"formatter\":{\"id\":\"61aedc8f-ba52-457c-aac3-0db3cf6b120a\",\"type\":\"BasicTickFormatter\"},\"plot\":{\"id\":\"068891b2-58ea-4768-821c-652ba0af70ca\",\"subtype\":\"Figure\",\"type\":\"Plot\"},\"ticker\":{\"id\":\"a54b1475-b73d-48da-84c8-7a25c726f564\",\"type\":\"BasicTicker\"}},\"id\":\"be9cbcbd-b430-4405-91d8-4de8119ad65f\",\"type\":\"LinearAxis\"},{\"attributes\":{\"data_source\":{\"id\":\"980825d1-596f-457a-b37b-5ddce97d654c\",\"type\":\"ColumnDataSource\"},\"glyph\":{\"id\":\"639bc5f2-7abc-492d-b028-f3a55a75e9b1\",\"type\":\"Line\"},\"hover_glyph\":null,\"muted_glyph\":null,\"nonselection_glyph\":{\"id\":\"9094752b-08c5-41e5-bca3-fc265996cfff\",\"type\":\"Line\"},\"selection_glyph\":null,\"view\":{\"id\":\"8790aad4-9b16-4bfb-a4ee-eea7822d4dee\",\"type\":\"CDSView\"}},\"id\":\"67c1ac60-a988-4db9-9429-e045e30cafa8\",\"type\":\"GlyphRenderer\"},{\"attributes\":{\"source\":{\"id\":\"980825d1-596f-457a-b37b-5ddce97d654c\",\"type\":\"ColumnDataSource\"}},\"id\":\"79e4c5dc-fddc-4173-bfcf-0cbe81b5b3a4\",\"type\":\"CDSView\"},{\"attributes\":{\"formatter\":{\"id\":\"ab04b830-d46a-4f06-8605-3f704dad3052\",\"type\":\"CategoricalTickFormatter\"},\"plot\":{\"id\":\"068891b2-58ea-4768-821c-652ba0af70ca\",\"subtype\":\"Figure\",\"type\":\"Plot\"},\"ticker\":{\"id\":\"6f8ea553-770c-4a04-8246-2460b1786654\",\"type\":\"CategoricalTicker\"}},\"id\":\"891be999-fe4a-4970-bb65-3b0c1be092bb\",\"type\":\"CategoricalAxis\"},{\"attributes\":{\"data_source\":{\"id\":\"980825d1-596f-457a-b37b-5ddce97d654c\",\"type\":\"ColumnDataSource\"},\"glyph\":{\"id\":\"97381860-86eb-4820-bdf7-adaa1fc27173\",\"type\":\"Line\"},\"hover_glyph\":null,\"muted_glyph\":null,\"nonselection_glyph\":{\"id\":\"dc3e748b-d3f3-489e-8170-1b856f8aea3a\",\"type\":\"Line\"},\"selection_glyph\":null,\"view\":{\"id\":\"79e4c5dc-fddc-4173-bfcf-0cbe81b5b3a4\",\"type\":\"CDSView\"}},\"id\":\"ebc0c9ba-9051-41ff-9ef2-e73a8c32fd68\",\"type\":\"GlyphRenderer\"},{\"attributes\":{\"line_alpha\":{\"value\":0.1},\"line_color\":{\"value\":\"#1f77b4\"},\"line_width\":{\"value\":5},\"x\":{\"field\":\"Anios\"},\"y\":{\"field\":\"Brecha_mean\"}},\"id\":\"dc3e748b-d3f3-489e-8170-1b856f8aea3a\",\"type\":\"Line\"},{\"attributes\":{\"grid_line_color\":{\"value\":null},\"plot\":{\"id\":\"068891b2-58ea-4768-821c-652ba0af70ca\",\"subtype\":\"Figure\",\"type\":\"Plot\"},\"ticker\":{\"id\":\"6f8ea553-770c-4a04-8246-2460b1786654\",\"type\":\"CategoricalTicker\"}},\"id\":\"8623bee2-3d84-4ada-a41c-a0a7a9d4cb8f\",\"type\":\"Grid\"},{\"attributes\":{\"items\":[{\"id\":\"20e96dc0-0c10-450a-b2c5-bcdcc7d37239\",\"type\":\"LegendItem\"},{\"id\":\"8495b4b2-37b9-4867-87c0-3fa8ceae61ff\",\"type\":\"LegendItem\"},{\"id\":\"b5587b8f-ef26-44e9-b98a-8abb2996dc36\",\"type\":\"LegendItem\"}],\"plot\":{\"id\":\"068891b2-58ea-4768-821c-652ba0af70ca\",\"subtype\":\"Figure\",\"type\":\"Plot\"}},\"id\":\"172b980e-31f6-468e-98a4-6e4f930a066a\",\"type\":\"Legend\"},{\"attributes\":{\"label\":{\"value\":\"Brecha\"},\"renderers\":[{\"id\":\"ebc0c9ba-9051-41ff-9ef2-e73a8c32fd68\",\"type\":\"GlyphRenderer\"}]},\"id\":\"8495b4b2-37b9-4867-87c0-3fa8ceae61ff\",\"type\":\"LegendItem\"},{\"attributes\":{\"line_color\":{\"value\":\"#42f4bf\"},\"line_width\":{\"value\":5},\"x\":{\"field\":\"Anios\"},\"y\":{\"field\":\"Brecha_mean\"}},\"id\":\"97381860-86eb-4820-bdf7-adaa1fc27173\",\"type\":\"Line\"},{\"attributes\":{},\"id\":\"ab04b830-d46a-4f06-8605-3f704dad3052\",\"type\":\"CategoricalTickFormatter\"},{\"attributes\":{\"data_source\":{\"id\":\"980825d1-596f-457a-b37b-5ddce97d654c\",\"type\":\"ColumnDataSource\"},\"glyph\":{\"id\":\"caeb0831-2c46-49f0-a638-4b9f850b0902\",\"type\":\"Line\"},\"hover_glyph\":null,\"muted_glyph\":null,\"nonselection_glyph\":{\"id\":\"0cb98255-957a-458e-baf3-8bc16e0621b9\",\"type\":\"Line\"},\"selection_glyph\":null,\"view\":{\"id\":\"cb70c0c8-b9b7-473c-9f96-c7f0f824bc3e\",\"type\":\"CDSView\"}},\"id\":\"c34587cc-96c1-40b1-9107-04fdbf591c1c\",\"type\":\"GlyphRenderer\"},{\"attributes\":{\"line_color\":{\"value\":\"#f4d341\"},\"line_width\":{\"value\":5},\"x\":{\"field\":\"Anios\"},\"y\":{\"field\":\"Incidencia_mean\"}},\"id\":\"639bc5f2-7abc-492d-b028-f3a55a75e9b1\",\"type\":\"Line\"},{\"attributes\":{\"source\":{\"id\":\"980825d1-596f-457a-b37b-5ddce97d654c\",\"type\":\"ColumnDataSource\"}},\"id\":\"cb70c0c8-b9b7-473c-9f96-c7f0f824bc3e\",\"type\":\"CDSView\"},{\"attributes\":{},\"id\":\"6f8ea553-770c-4a04-8246-2460b1786654\",\"type\":\"CategoricalTicker\"},{\"attributes\":{},\"id\":\"17886235-97a9-4e2f-8816-143137565b56\",\"type\":\"CategoricalScale\"},{\"attributes\":{\"callback\":null},\"id\":\"4040bb5e-4783-4963-bdb0-7844c1efa938\",\"type\":\"DataRange1d\"}],\"root_ids\":[\"068891b2-58ea-4768-821c-652ba0af70ca\"]},\"title\":\"Bokeh Application\",\"version\":\"0.12.10\"}};\n",
       "    var render_items = [{\"docid\":\"e8ca7cd8-c860-4990-9d21-8cf59eff7cb4\",\"elementid\":\"f87c25ac-d964-40e9-8d12-e6fb1ea04f87\",\"modelid\":\"068891b2-58ea-4768-821c-652ba0af70ca\"}];\n",
       "\n",
       "    root.Bokeh.embed.embed_items(docs_json, render_items);\n",
       "  }\n",
       "\n",
       "  if (root.Bokeh !== undefined) {\n",
       "    embed_document(root);\n",
       "  } else {\n",
       "    var attempts = 0;\n",
       "    var timer = setInterval(function(root) {\n",
       "      if (root.Bokeh !== undefined) {\n",
       "        embed_document(root);\n",
       "        clearInterval(timer);\n",
       "      }\n",
       "      attempts++;\n",
       "      if (attempts > 100) {\n",
       "        console.log(\"Bokeh: ERROR: Unable to embed document because BokehJS library is missing\")\n",
       "        clearInterval(timer);\n",
       "      }\n",
       "    }, 10, root)\n",
       "  }\n",
       "})(window);"
      ],
      "application/vnd.bokehjs_exec.v0+json": ""
     },
     "metadata": {
      "application/vnd.bokehjs_exec.v0+json": {
       "id": "068891b2-58ea-4768-821c-652ba0af70ca"
      }
     },
     "output_type": "display_data"
    }
   ],
   "source": [
    "group1 = data.groupby('Anios')\n",
    "\n",
    "source = ColumnDataSource(group1)\n",
    "\n",
    "# Características que tendrá nuestra grafica\n",
    "graph_line = figure(\n",
    "    plot_height=400, # ancho\n",
    "    plot_width=900, # alto\n",
    "    x_range=group1,\n",
    "    title='POBREZA-QUITO', # titulo\n",
    "    tools='' # opciones de bokeh\n",
    ")\n",
    "\n",
    "# Definimos los datos que representara cada \"Línea\", y otras opciones como color y leyenda\n",
    "graph_line.line(\n",
    "    x='Anios', # datos en x\n",
    "    y='Incidencia_mean', # datos en y\n",
    "    color='#f4d341', # color de las líneas\n",
    "    legend='Incidencia', # leyenda que representa nuestra grafica\n",
    "    line_width=5,\n",
    "    source=source\n",
    ")\n",
    "graph_line.line(x='Anios', y='Brecha_mean', color='#42f4bf', legend='Brecha',line_width=5,source=source)\n",
    "graph_line.line(x='Anios', y='Severidad_mean', color='#f44171', legend='Severidad',line_width=5,source=source)\n",
    "\n",
    "# Para no mostramos los trazados del plano y presentamos nuestra grafica\n",
    "graph_line.xgrid.grid_line_color = None # eliminamos las lineas verticales\n",
    "graph_line.ygrid.grid_line_color = None # horizontales\n",
    "\n",
    "show(graph_line) # mostramos nuestra grafica"
   ]
  },
  {
   "cell_type": "markdown",
   "metadata": {},
   "source": [
    "**En esta gráfica, podemos observar la pobreza recuerdo con la incidencia, que desde el año 2008 al 2010, tiene una mayoría de pobreza y del 2010 al 2012 a disminuido de la misma, y del 2012 en adelante sido desmullendo la pobreza, mientras que la pobreza recuerdo con la brecha, casi se aumentado en un rango mínimo, desde el año 2008 al 2016, y por último la pobreza de acuerdo con la serenidad no ha existido un rango alto de pobreza, si no que se ha ido manteniendo en un porcentaje medio.**"
   ]
  },
  {
   "cell_type": "markdown",
   "metadata": {},
   "source": [
    "## Gráfico de barras"
   ]
  },
  {
   "cell_type": "code",
   "execution_count": 15,
   "metadata": {},
   "outputs": [
    {
     "data": {
      "text/html": [
       "\n",
       "<div class=\"bk-root\">\n",
       "    <div class=\"bk-plotdiv\" id=\"c1b3a139-ce38-4259-b4d5-9bc2384ad78f\"></div>\n",
       "</div>"
      ]
     },
     "metadata": {},
     "output_type": "display_data"
    },
    {
     "data": {
      "application/javascript": [
       "(function(root) {\n",
       "  function embed_document(root) {\n",
       "    var docs_json = {\"4b7625c4-1a0d-42a6-8866-5198bff334f8\":{\"roots\":{\"references\":[{\"attributes\":{},\"id\":\"61eebfc3-beee-46bf-8056-e04b2092c566\",\"type\":\"LinearScale\"},{\"attributes\":{},\"id\":\"13c0100d-381a-4f11-ac42-4d08b7401aaa\",\"type\":\"BasicTicker\"},{\"attributes\":{},\"id\":\"c1a9f115-6497-4296-a9c6-875b3f7655b3\",\"type\":\"LinearScale\"},{\"attributes\":{\"plot\":null,\"text\":\"Severidad\"},\"id\":\"f276a4f0-e034-4ebe-8023-fb249fc35285\",\"type\":\"Title\"},{\"attributes\":{\"formatter\":{\"id\":\"565dedda-a6ae-4106-83b3-7af22e9119a5\",\"type\":\"BasicTickFormatter\"},\"plot\":{\"id\":\"c21c8935-4d5a-414d-ac10-273d9a3c7c7c\",\"subtype\":\"Figure\",\"type\":\"Plot\"},\"ticker\":{\"id\":\"c26910b0-168e-4449-ad50-84fbdde86ea6\",\"type\":\"BasicTicker\"}},\"id\":\"fc8150dd-3225-467d-959a-937f2c24347c\",\"type\":\"LinearAxis\"},{\"attributes\":{\"plot\":null,\"text\":\"Brecha\"},\"id\":\"7de37369-3bd7-470d-a8b5-37c0525ffbd4\",\"type\":\"Title\"},{\"attributes\":{\"plot\":{\"id\":\"c21c8935-4d5a-414d-ac10-273d9a3c7c7c\",\"subtype\":\"Figure\",\"type\":\"Plot\"},\"ticker\":{\"id\":\"c26910b0-168e-4449-ad50-84fbdde86ea6\",\"type\":\"BasicTicker\"}},\"id\":\"000e3507-3114-49d0-a61b-7c2f9cc5bee2\",\"type\":\"Grid\"},{\"attributes\":{},\"id\":\"c26910b0-168e-4449-ad50-84fbdde86ea6\",\"type\":\"BasicTicker\"},{\"attributes\":{\"formatter\":{\"id\":\"1f00cb1f-20fe-4836-b878-4c86d8a968ec\",\"type\":\"BasicTickFormatter\"},\"plot\":{\"id\":\"c21c8935-4d5a-414d-ac10-273d9a3c7c7c\",\"subtype\":\"Figure\",\"type\":\"Plot\"},\"ticker\":{\"id\":\"3cdbef87-17b6-4a80-b954-61d760b5f853\",\"type\":\"BasicTicker\"}},\"id\":\"5e8ba32d-5007-4427-ac8e-ad43644ae2ee\",\"type\":\"LinearAxis\"},{\"attributes\":{},\"id\":\"3cdbef87-17b6-4a80-b954-61d760b5f853\",\"type\":\"BasicTicker\"},{\"attributes\":{\"dimension\":1,\"plot\":{\"id\":\"c21c8935-4d5a-414d-ac10-273d9a3c7c7c\",\"subtype\":\"Figure\",\"type\":\"Plot\"},\"ticker\":{\"id\":\"3cdbef87-17b6-4a80-b954-61d760b5f853\",\"type\":\"BasicTicker\"}},\"id\":\"e773defa-49f1-4dd5-bdce-97194e8a85db\",\"type\":\"Grid\"},{\"attributes\":{\"callback\":null,\"column_names\":[\"x\",\"top\"],\"data\":{\"top\":{\"__ndarray__\":\"j8L1KFyPCkCuR+F6FK4NQFyPwvUoXBFAuB6F61G4CkBSuB6F61EKQNejcD0K1wtAPQrXo3A9BkC4HoXrUbgEQArXo3A9CgVAMzMzMzMzA0A=\",\"dtype\":\"float64\",\"shape\":[10]},\"x\":[\"2008.0\",\"2009.0\",\"2010.0\",\"2011.0\",\"2012.0\",\"2013.0\",\"2014.0\",\"2015.0\",\"2016.0\",\"2017.0\"]}},\"id\":\"8ca4e68e-ac46-4e15-9308-4024139307ff\",\"type\":\"ColumnDataSource\"},{\"attributes\":{\"callback\":null},\"id\":\"b88761c6-882a-4541-a9ff-0bcb9df42fa4\",\"type\":\"DataRange1d\"},{\"attributes\":{\"active_drag\":\"auto\",\"active_inspect\":\"auto\",\"active_scroll\":\"auto\",\"active_tap\":\"auto\"},\"id\":\"cfc44a00-8025-46af-b392-b2a795595676\",\"type\":\"Toolbar\"},{\"attributes\":{\"callback\":null},\"id\":\"f39455bd-1fcc-4da4-8a72-0d031861bd15\",\"type\":\"DataRange1d\"},{\"attributes\":{\"formatter\":{\"id\":\"9f2a58b3-ea52-4ec6-adb7-5ff6a756e700\",\"type\":\"BasicTickFormatter\"},\"plot\":{\"id\":\"2c47b623-89bb-4f1d-a143-ab98266173e3\",\"subtype\":\"Figure\",\"type\":\"Plot\"},\"ticker\":{\"id\":\"ac553eaa-4e21-4ada-8515-86e299490289\",\"type\":\"BasicTicker\"}},\"id\":\"31586dba-7e31-4af8-9aca-28210088042a\",\"type\":\"LinearAxis\"},{\"attributes\":{},\"id\":\"bdd68976-f0c0-4353-8504-ca9d5b64e5d3\",\"type\":\"LinearScale\"},{\"attributes\":{\"callback\":null},\"id\":\"fbabc97c-0ab1-4923-a517-fc1ba04fe544\",\"type\":\"DataRange1d\"},{\"attributes\":{},\"id\":\"662da88b-9584-4d68-be73-6a4f6e05b370\",\"type\":\"LinearScale\"},{\"attributes\":{},\"id\":\"ac553eaa-4e21-4ada-8515-86e299490289\",\"type\":\"BasicTicker\"},{\"attributes\":{\"formatter\":{\"id\":\"1722cb22-724e-4576-97bc-931c589887b2\",\"type\":\"BasicTickFormatter\"},\"plot\":{\"id\":\"2c47b623-89bb-4f1d-a143-ab98266173e3\",\"subtype\":\"Figure\",\"type\":\"Plot\"},\"ticker\":{\"id\":\"13c0100d-381a-4f11-ac42-4d08b7401aaa\",\"type\":\"BasicTicker\"}},\"id\":\"f380b965-0ccc-4ea7-a19e-dfa9b120c62f\",\"type\":\"LinearAxis\"},{\"attributes\":{\"plot\":{\"id\":\"2c47b623-89bb-4f1d-a143-ab98266173e3\",\"subtype\":\"Figure\",\"type\":\"Plot\"},\"ticker\":{\"id\":\"13c0100d-381a-4f11-ac42-4d08b7401aaa\",\"type\":\"BasicTicker\"}},\"id\":\"54e8d479-50e3-4aa2-8bfb-f77b9675729b\",\"type\":\"Grid\"},{\"attributes\":{\"dimension\":1,\"plot\":{\"id\":\"2c47b623-89bb-4f1d-a143-ab98266173e3\",\"subtype\":\"Figure\",\"type\":\"Plot\"},\"ticker\":{\"id\":\"ac553eaa-4e21-4ada-8515-86e299490289\",\"type\":\"BasicTicker\"}},\"id\":\"5c042202-a908-4254-8176-293b7e2b0aa9\",\"type\":\"Grid\"},{\"attributes\":{\"callback\":null},\"id\":\"41bb15d4-0723-4582-a512-f2b92962b245\",\"type\":\"DataRange1d\"},{\"attributes\":{\"callback\":null},\"id\":\"c638e62b-a0e1-4ec6-a874-8df851441fc7\",\"type\":\"DataRange1d\"},{\"attributes\":{\"active_drag\":\"auto\",\"active_inspect\":\"auto\",\"active_scroll\":\"auto\",\"active_tap\":\"auto\"},\"id\":\"3d86bf6a-7679-4c1a-8c85-46d5c763fedc\",\"type\":\"Toolbar\"},{\"attributes\":{\"fill_color\":{\"value\":\"#42f4bf\"},\"line_color\":{\"value\":\"white\"},\"top\":{\"field\":\"top\"},\"width\":{\"value\":0.7},\"x\":{\"field\":\"x\"}},\"id\":\"45cd979f-ff2a-42ad-84e0-8d9698fbcc05\",\"type\":\"VBar\"},{\"attributes\":{},\"id\":\"bff10a94-0859-4723-bab5-777bf416610e\",\"type\":\"LinearScale\"},{\"attributes\":{\"callback\":null},\"id\":\"f07700fe-6102-427e-a161-c36336ede0dd\",\"type\":\"DataRange1d\"},{\"attributes\":{},\"id\":\"548d9765-8dfa-49cd-8a8e-a303d6f9f713\",\"type\":\"LinearScale\"},{\"attributes\":{\"plot\":{\"id\":\"bdc7ebee-cb2b-4542-bff8-0b4a8e4c7a09\",\"subtype\":\"Figure\",\"type\":\"Plot\"},\"ticker\":{\"id\":\"965a7d71-b2e7-4560-8981-8c88fbfaf2c1\",\"type\":\"BasicTicker\"}},\"id\":\"c0e7058d-bf82-43fe-8798-45575211495a\",\"type\":\"Grid\"},{\"attributes\":{\"formatter\":{\"id\":\"d94afcef-1ab7-448a-a89f-b17374cf71e0\",\"type\":\"BasicTickFormatter\"},\"plot\":{\"id\":\"bdc7ebee-cb2b-4542-bff8-0b4a8e4c7a09\",\"subtype\":\"Figure\",\"type\":\"Plot\"},\"ticker\":{\"id\":\"965a7d71-b2e7-4560-8981-8c88fbfaf2c1\",\"type\":\"BasicTicker\"}},\"id\":\"cf93969c-993b-4672-8c4d-dd47ff93aa3f\",\"type\":\"LinearAxis\"},{\"attributes\":{},\"id\":\"965a7d71-b2e7-4560-8981-8c88fbfaf2c1\",\"type\":\"BasicTicker\"},{\"attributes\":{\"formatter\":{\"id\":\"0cc72c8c-6bd2-4d53-905b-6ef80e3dae95\",\"type\":\"BasicTickFormatter\"},\"plot\":{\"id\":\"bdc7ebee-cb2b-4542-bff8-0b4a8e4c7a09\",\"subtype\":\"Figure\",\"type\":\"Plot\"},\"ticker\":{\"id\":\"59a14467-7a81-4fa3-affd-20af299a37ae\",\"type\":\"BasicTicker\"}},\"id\":\"ea8f6875-c293-4246-818a-244fc02649a4\",\"type\":\"LinearAxis\"},{\"attributes\":{},\"id\":\"59a14467-7a81-4fa3-affd-20af299a37ae\",\"type\":\"BasicTicker\"},{\"attributes\":{\"dimension\":1,\"plot\":{\"id\":\"bdc7ebee-cb2b-4542-bff8-0b4a8e4c7a09\",\"subtype\":\"Figure\",\"type\":\"Plot\"},\"ticker\":{\"id\":\"59a14467-7a81-4fa3-affd-20af299a37ae\",\"type\":\"BasicTicker\"}},\"id\":\"d96ba762-42f2-4ae8-91d1-894031e390b1\",\"type\":\"Grid\"},{\"attributes\":{\"callback\":null,\"column_names\":[\"x\",\"top\"],\"data\":{\"top\":{\"__ndarray__\":\"ZmZmZmbmJEBSuB6F61EmQIXrUbgeBSpAKVyPwvWoJEBxPQrXo/AhQDMzMzMzsyVA16NwPQrXIUB7FK5H4XofQOxRuB6F6x9AZmZmZmZmHUA=\",\"dtype\":\"float64\",\"shape\":[10]},\"x\":[\"2008.0\",\"2009.0\",\"2010.0\",\"2011.0\",\"2012.0\",\"2013.0\",\"2014.0\",\"2015.0\",\"2016.0\",\"2017.0\"]}},\"id\":\"d908136a-d069-414d-b469-680c58415f4a\",\"type\":\"ColumnDataSource\"},{\"attributes\":{\"fill_color\":{\"value\":\"#f4d341\"},\"line_color\":{\"value\":\"white\"},\"top\":{\"field\":\"top\"},\"width\":{\"value\":0.7},\"x\":{\"field\":\"x\"}},\"id\":\"4630c068-6d71-4673-8925-31b0bff655d9\",\"type\":\"VBar\"},{\"attributes\":{\"fill_alpha\":{\"value\":0.1},\"fill_color\":{\"value\":\"#1f77b4\"},\"line_alpha\":{\"value\":0.1},\"line_color\":{\"value\":\"#1f77b4\"},\"top\":{\"field\":\"top\"},\"width\":{\"value\":0.7},\"x\":{\"field\":\"x\"}},\"id\":\"c0018a10-1c6c-498c-94af-184d9cfc0602\",\"type\":\"VBar\"},{\"attributes\":{},\"id\":\"565dedda-a6ae-4106-83b3-7af22e9119a5\",\"type\":\"BasicTickFormatter\"},{\"attributes\":{\"data_source\":{\"id\":\"d908136a-d069-414d-b469-680c58415f4a\",\"type\":\"ColumnDataSource\"},\"glyph\":{\"id\":\"4630c068-6d71-4673-8925-31b0bff655d9\",\"type\":\"VBar\"},\"hover_glyph\":null,\"muted_glyph\":null,\"nonselection_glyph\":{\"id\":\"c0018a10-1c6c-498c-94af-184d9cfc0602\",\"type\":\"VBar\"},\"selection_glyph\":null,\"view\":{\"id\":\"260832ac-db3e-49ae-93fb-a2fb4bfc8891\",\"type\":\"CDSView\"}},\"id\":\"d0c94f17-60ba-4566-871a-e913e0cf2e02\",\"type\":\"GlyphRenderer\"},{\"attributes\":{\"data_source\":{\"id\":\"2a8f4cc6-900f-494f-8f5e-8dcca88a6422\",\"type\":\"ColumnDataSource\"},\"glyph\":{\"id\":\"2af8d38a-f53f-42df-a746-6d1cbfc21cd4\",\"type\":\"VBar\"},\"hover_glyph\":null,\"muted_glyph\":null,\"nonselection_glyph\":{\"id\":\"764d4abf-08b8-4cbc-af9a-9c3b348da751\",\"type\":\"VBar\"},\"selection_glyph\":null,\"view\":{\"id\":\"4efc1fb3-bc4a-4185-80df-095dc02fa428\",\"type\":\"CDSView\"}},\"id\":\"2ba4318c-6000-42fd-a7fb-78a097c005b9\",\"type\":\"GlyphRenderer\"},{\"attributes\":{\"source\":{\"id\":\"d908136a-d069-414d-b469-680c58415f4a\",\"type\":\"ColumnDataSource\"}},\"id\":\"260832ac-db3e-49ae-93fb-a2fb4bfc8891\",\"type\":\"CDSView\"},{\"attributes\":{\"data_source\":{\"id\":\"8ca4e68e-ac46-4e15-9308-4024139307ff\",\"type\":\"ColumnDataSource\"},\"glyph\":{\"id\":\"45cd979f-ff2a-42ad-84e0-8d9698fbcc05\",\"type\":\"VBar\"},\"hover_glyph\":null,\"muted_glyph\":null,\"nonselection_glyph\":{\"id\":\"94e4a79e-7bda-49da-b27a-0cb4db51a3f8\",\"type\":\"VBar\"},\"selection_glyph\":null,\"view\":{\"id\":\"3b801ca3-78cb-4ce1-be76-3d958a5b3129\",\"type\":\"CDSView\"}},\"id\":\"adf3706f-6130-4907-8006-74909ea0c31a\",\"type\":\"GlyphRenderer\"},{\"attributes\":{},\"id\":\"1f00cb1f-20fe-4836-b878-4c86d8a968ec\",\"type\":\"BasicTickFormatter\"},{\"attributes\":{},\"id\":\"1722cb22-724e-4576-97bc-931c589887b2\",\"type\":\"BasicTickFormatter\"},{\"attributes\":{\"children\":[{\"id\":\"c21c8935-4d5a-414d-ac10-273d9a3c7c7c\",\"subtype\":\"Figure\",\"type\":\"Plot\"},{\"id\":\"2c47b623-89bb-4f1d-a143-ab98266173e3\",\"subtype\":\"Figure\",\"type\":\"Plot\"},{\"id\":\"bdc7ebee-cb2b-4542-bff8-0b4a8e4c7a09\",\"subtype\":\"Figure\",\"type\":\"Plot\"}]},\"id\":\"7c7fc0ac-c23c-4c9c-a3a5-2247b7e94d3f\",\"type\":\"Row\"},{\"attributes\":{\"fill_alpha\":{\"value\":0.1},\"fill_color\":{\"value\":\"#1f77b4\"},\"line_alpha\":{\"value\":0.1},\"line_color\":{\"value\":\"#1f77b4\"},\"top\":{\"field\":\"top\"},\"width\":{\"value\":0.7},\"x\":{\"field\":\"x\"}},\"id\":\"94e4a79e-7bda-49da-b27a-0cb4db51a3f8\",\"type\":\"VBar\"},{\"attributes\":{\"source\":{\"id\":\"8ca4e68e-ac46-4e15-9308-4024139307ff\",\"type\":\"ColumnDataSource\"}},\"id\":\"3b801ca3-78cb-4ce1-be76-3d958a5b3129\",\"type\":\"CDSView\"},{\"attributes\":{},\"id\":\"d94afcef-1ab7-448a-a89f-b17374cf71e0\",\"type\":\"BasicTickFormatter\"},{\"attributes\":{},\"id\":\"9f2a58b3-ea52-4ec6-adb7-5ff6a756e700\",\"type\":\"BasicTickFormatter\"},{\"attributes\":{\"fill_alpha\":{\"value\":0.1},\"fill_color\":{\"value\":\"#1f77b4\"},\"line_alpha\":{\"value\":0.1},\"line_color\":{\"value\":\"#1f77b4\"},\"top\":{\"field\":\"top\"},\"width\":{\"value\":0.7},\"x\":{\"field\":\"x\"}},\"id\":\"764d4abf-08b8-4cbc-af9a-9c3b348da751\",\"type\":\"VBar\"},{\"attributes\":{\"callback\":null,\"column_names\":[\"x\",\"top\"],\"data\":{\"top\":{\"__ndarray__\":\"KVyPwvUo/D+F61G4HoX/P3sUrkfhegJA9ihcj8L1/D9xPQrXo3D5P/YoXI/C9fg/PQrXo3A99j/NzMzMzMz0P3E9CtejcPU/rkfhehSu8z8=\",\"dtype\":\"float64\",\"shape\":[10]},\"x\":[\"2008.0\",\"2009.0\",\"2010.0\",\"2011.0\",\"2012.0\",\"2013.0\",\"2014.0\",\"2015.0\",\"2016.0\",\"2017.0\"]}},\"id\":\"2a8f4cc6-900f-494f-8f5e-8dcca88a6422\",\"type\":\"ColumnDataSource\"},{\"attributes\":{\"children\":[{\"id\":\"7c7fc0ac-c23c-4c9c-a3a5-2247b7e94d3f\",\"type\":\"Row\"}]},\"id\":\"892738c4-3e32-4fe7-8023-7b7478f12a65\",\"type\":\"Column\"},{\"attributes\":{\"fill_color\":{\"value\":\"#f44171\"},\"line_color\":{\"value\":\"white\"},\"top\":{\"field\":\"top\"},\"width\":{\"value\":0.7},\"x\":{\"field\":\"x\"}},\"id\":\"2af8d38a-f53f-42df-a746-6d1cbfc21cd4\",\"type\":\"VBar\"},{\"attributes\":{\"source\":{\"id\":\"2a8f4cc6-900f-494f-8f5e-8dcca88a6422\",\"type\":\"ColumnDataSource\"}},\"id\":\"4efc1fb3-bc4a-4185-80df-095dc02fa428\",\"type\":\"CDSView\"},{\"attributes\":{},\"id\":\"0cc72c8c-6bd2-4d53-905b-6ef80e3dae95\",\"type\":\"BasicTickFormatter\"},{\"attributes\":{\"children\":[{\"id\":\"24380aa8-cf48-4578-a3b8-f9de72c7ee6a\",\"type\":\"ToolbarBox\"},{\"id\":\"892738c4-3e32-4fe7-8023-7b7478f12a65\",\"type\":\"Column\"}]},\"id\":\"14a04d52-5323-48f6-b340-fe660ec229a4\",\"type\":\"Column\"},{\"attributes\":{\"below\":[{\"id\":\"fc8150dd-3225-467d-959a-937f2c24347c\",\"type\":\"LinearAxis\"}],\"left\":[{\"id\":\"5e8ba32d-5007-4427-ac8e-ad43644ae2ee\",\"type\":\"LinearAxis\"}],\"plot_height\":300,\"plot_width\":300,\"renderers\":[{\"id\":\"fc8150dd-3225-467d-959a-937f2c24347c\",\"type\":\"LinearAxis\"},{\"id\":\"000e3507-3114-49d0-a61b-7c2f9cc5bee2\",\"type\":\"Grid\"},{\"id\":\"5e8ba32d-5007-4427-ac8e-ad43644ae2ee\",\"type\":\"LinearAxis\"},{\"id\":\"e773defa-49f1-4dd5-bdce-97194e8a85db\",\"type\":\"Grid\"},{\"id\":\"d0c94f17-60ba-4566-871a-e913e0cf2e02\",\"type\":\"GlyphRenderer\"}],\"title\":{\"id\":\"f7295e1a-2ca4-4f57-bd87-eeac2e1f4d5d\",\"type\":\"Title\"},\"toolbar\":{\"id\":\"cdfac07e-ef21-49f7-8371-49d3719cd45f\",\"type\":\"Toolbar\"},\"toolbar_location\":null,\"x_range\":{\"id\":\"f39455bd-1fcc-4da4-8a72-0d031861bd15\",\"type\":\"DataRange1d\"},\"x_scale\":{\"id\":\"61eebfc3-beee-46bf-8056-e04b2092c566\",\"type\":\"LinearScale\"},\"y_range\":{\"id\":\"c638e62b-a0e1-4ec6-a874-8df851441fc7\",\"type\":\"DataRange1d\"},\"y_scale\":{\"id\":\"c1a9f115-6497-4296-a9c6-875b3f7655b3\",\"type\":\"LinearScale\"}},\"id\":\"c21c8935-4d5a-414d-ac10-273d9a3c7c7c\",\"subtype\":\"Figure\",\"type\":\"Plot\"},{\"attributes\":{\"sizing_mode\":\"scale_width\",\"toolbar_location\":\"above\"},\"id\":\"24380aa8-cf48-4578-a3b8-f9de72c7ee6a\",\"type\":\"ToolbarBox\"},{\"attributes\":{\"plot\":null,\"text\":\"Incidencia\"},\"id\":\"f7295e1a-2ca4-4f57-bd87-eeac2e1f4d5d\",\"type\":\"Title\"},{\"attributes\":{\"below\":[{\"id\":\"f380b965-0ccc-4ea7-a19e-dfa9b120c62f\",\"type\":\"LinearAxis\"}],\"left\":[{\"id\":\"31586dba-7e31-4af8-9aca-28210088042a\",\"type\":\"LinearAxis\"}],\"plot_height\":300,\"plot_width\":300,\"renderers\":[{\"id\":\"f380b965-0ccc-4ea7-a19e-dfa9b120c62f\",\"type\":\"LinearAxis\"},{\"id\":\"54e8d479-50e3-4aa2-8bfb-f77b9675729b\",\"type\":\"Grid\"},{\"id\":\"31586dba-7e31-4af8-9aca-28210088042a\",\"type\":\"LinearAxis\"},{\"id\":\"5c042202-a908-4254-8176-293b7e2b0aa9\",\"type\":\"Grid\"},{\"id\":\"adf3706f-6130-4907-8006-74909ea0c31a\",\"type\":\"GlyphRenderer\"}],\"title\":{\"id\":\"7de37369-3bd7-470d-a8b5-37c0525ffbd4\",\"type\":\"Title\"},\"toolbar\":{\"id\":\"cfc44a00-8025-46af-b392-b2a795595676\",\"type\":\"Toolbar\"},\"toolbar_location\":null,\"x_range\":{\"id\":\"b88761c6-882a-4541-a9ff-0bcb9df42fa4\",\"type\":\"DataRange1d\"},\"x_scale\":{\"id\":\"bdd68976-f0c0-4353-8504-ca9d5b64e5d3\",\"type\":\"LinearScale\"},\"y_range\":{\"id\":\"fbabc97c-0ab1-4923-a517-fc1ba04fe544\",\"type\":\"DataRange1d\"},\"y_scale\":{\"id\":\"662da88b-9584-4d68-be73-6a4f6e05b370\",\"type\":\"LinearScale\"}},\"id\":\"2c47b623-89bb-4f1d-a143-ab98266173e3\",\"subtype\":\"Figure\",\"type\":\"Plot\"},{\"attributes\":{\"below\":[{\"id\":\"cf93969c-993b-4672-8c4d-dd47ff93aa3f\",\"type\":\"LinearAxis\"}],\"left\":[{\"id\":\"ea8f6875-c293-4246-818a-244fc02649a4\",\"type\":\"LinearAxis\"}],\"plot_height\":300,\"plot_width\":300,\"renderers\":[{\"id\":\"cf93969c-993b-4672-8c4d-dd47ff93aa3f\",\"type\":\"LinearAxis\"},{\"id\":\"c0e7058d-bf82-43fe-8798-45575211495a\",\"type\":\"Grid\"},{\"id\":\"ea8f6875-c293-4246-818a-244fc02649a4\",\"type\":\"LinearAxis\"},{\"id\":\"d96ba762-42f2-4ae8-91d1-894031e390b1\",\"type\":\"Grid\"},{\"id\":\"2ba4318c-6000-42fd-a7fb-78a097c005b9\",\"type\":\"GlyphRenderer\"}],\"title\":{\"id\":\"f276a4f0-e034-4ebe-8023-fb249fc35285\",\"type\":\"Title\"},\"toolbar\":{\"id\":\"3d86bf6a-7679-4c1a-8c85-46d5c763fedc\",\"type\":\"Toolbar\"},\"toolbar_location\":null,\"x_range\":{\"id\":\"41bb15d4-0723-4582-a512-f2b92962b245\",\"type\":\"DataRange1d\"},\"x_scale\":{\"id\":\"bff10a94-0859-4723-bab5-777bf416610e\",\"type\":\"LinearScale\"},\"y_range\":{\"id\":\"f07700fe-6102-427e-a161-c36336ede0dd\",\"type\":\"DataRange1d\"},\"y_scale\":{\"id\":\"548d9765-8dfa-49cd-8a8e-a303d6f9f713\",\"type\":\"LinearScale\"}},\"id\":\"bdc7ebee-cb2b-4542-bff8-0b4a8e4c7a09\",\"subtype\":\"Figure\",\"type\":\"Plot\"},{\"attributes\":{\"active_drag\":\"auto\",\"active_inspect\":\"auto\",\"active_scroll\":\"auto\",\"active_tap\":\"auto\"},\"id\":\"cdfac07e-ef21-49f7-8371-49d3719cd45f\",\"type\":\"Toolbar\"}],\"root_ids\":[\"14a04d52-5323-48f6-b340-fe660ec229a4\"]},\"title\":\"Bokeh Application\",\"version\":\"0.12.10\"}};\n",
       "    var render_items = [{\"docid\":\"4b7625c4-1a0d-42a6-8866-5198bff334f8\",\"elementid\":\"c1b3a139-ce38-4259-b4d5-9bc2384ad78f\",\"modelid\":\"14a04d52-5323-48f6-b340-fe660ec229a4\"}];\n",
       "\n",
       "    root.Bokeh.embed.embed_items(docs_json, render_items);\n",
       "  }\n",
       "\n",
       "  if (root.Bokeh !== undefined) {\n",
       "    embed_document(root);\n",
       "  } else {\n",
       "    var attempts = 0;\n",
       "    var timer = setInterval(function(root) {\n",
       "      if (root.Bokeh !== undefined) {\n",
       "        embed_document(root);\n",
       "        clearInterval(timer);\n",
       "      }\n",
       "      attempts++;\n",
       "      if (attempts > 100) {\n",
       "        console.log(\"Bokeh: ERROR: Unable to embed document because BokehJS library is missing\")\n",
       "        clearInterval(timer);\n",
       "      }\n",
       "    }, 10, root)\n",
       "  }\n",
       "})(window);"
      ],
      "application/vnd.bokehjs_exec.v0+json": ""
     },
     "metadata": {
      "application/vnd.bokehjs_exec.v0+json": {
       "id": "14a04d52-5323-48f6-b340-fe660ec229a4"
      }
     },
     "output_type": "display_data"
    }
   ],
   "source": [
    "# Creamos una variable contiene los parámetros de nuestra grafica final\n",
    "options = dict( # opciones que compartirán cada una de nuestras graficas\n",
    "    plot_width=300, plot_height=300, # Tamaño\n",
    "    tools='' # Herramientas de bokeh adicionales\n",
    ")\n",
    "\n",
    "# Creamos un objeto de figura por cada gráfica y establecemos sus opciones y titulo. (opciones)\n",
    "graph_bar_1 = figure(\n",
    "    title='Incidencia', # título de esta grafica en particular\n",
    "    **options # opciones antes definidas\n",
    ")\n",
    "graph_bar_2 = figure(title='Brecha', **options)\n",
    "graph_bar_3 = figure(title='Severidad', **options)\n",
    "\n",
    "# Definimos lo que cada una de nuestras graficas representara\n",
    "graph_bar_1.vbar(\n",
    "    x=data.Anios, # datos en x\n",
    "    top=data.Incidencia, # valor máximo\n",
    "    width=0.7, # ancho de cada barra\n",
    "    line_color=\"white\", # color del borde de cada barra\n",
    "    color=\"#f4d341\" # color de cada barra\n",
    ")\n",
    "graph_bar_2.vbar(x=data.Anios, top=data.Brecha, width=0.7, line_color=\"white\", color=\"#42f4bf\")\n",
    "graph_bar_3.vbar(x=data.Anios, top=data.Severidad, width=0.7, line_color=\"white\", color=\"#f44171\")\n",
    "\n",
    "# Creamos una nueva figura que está compuesta por las figuras creadas anteriormente\n",
    "graph_bar = gridplot([[graph_bar_1, graph_bar_2, graph_bar_3]]) # agrupamos nuestas graficas\n",
    "show(graph_bar) # Mostramos los resultados"
   ]
  },
  {
   "cell_type": "markdown",
   "metadata": {},
   "source": [
    "**En este gráfico, podemos observar sobre la pobreza dependiendo de la incidencia, brecha y serenidad de la ciudad de quito desde el año 2008 hasta el 2016, ya que nos daremos cuenta en cada año como va aumentado y disminuyendo, de la misma. **"
   ]
  },
  {
   "cell_type": "markdown",
   "metadata": {},
   "source": [
    "## Grafico de pastel"
   ]
  },
  {
   "cell_type": "code",
   "execution_count": 16,
   "metadata": {},
   "outputs": [
    {
     "data": {
      "application/vnd.jupyter.widget-view+json": {
       "model_id": "403bf593c20a4cc69a3a5cf7a4485613",
       "version_major": 2,
       "version_minor": 0
      },
      "text/html": [
       "<p>Failed to display Jupyter Widget of type <code>interactive</code>.</p>\n",
       "<p>\n",
       "  If you're reading this message in the Jupyter Notebook or JupyterLab Notebook, it may mean\n",
       "  that the widgets JavaScript is still loading. If this message persists, it\n",
       "  likely means that the widgets JavaScript library is either not installed or\n",
       "  not enabled. See the <a href=\"https://ipywidgets.readthedocs.io/en/stable/user_install.html\">Jupyter\n",
       "  Widgets Documentation</a> for setup instructions.\n",
       "</p>\n",
       "<p>\n",
       "  If you're reading this message in another frontend (for example, a static\n",
       "  rendering on GitHub or <a href=\"https://nbviewer.jupyter.org/\">NBViewer</a>),\n",
       "  it may mean that your frontend doesn't currently support widgets.\n",
       "</p>\n"
      ],
      "text/plain": [
       "interactive(children=(IntSlider(value=5, description='x', max=10, min=1), Output()), _dom_classes=('widget-interact',))"
      ]
     },
     "metadata": {},
     "output_type": "display_data"
    }
   ],
   "source": [
    "# Importamos `pi` de la librería `numpy` para el Angulo en nuestras graficas\n",
    "# Y `interact` de `ipywidgets` para poder interactuar con nuestra grafica\n",
    "from numpy import pi\n",
    "from ipywidgets import interact\n",
    "\n",
    "# Creamos una variable contiene los parámetros de nuestra grafica final\n",
    "options = dict( # opciones que compartirán cada una de nuestras graficas\n",
    "    plot_width=300, plot_height=300, # Tamaño\n",
    "    tools='' # Herramientas de bokeh adicionales\n",
    ")\n",
    "\n",
    "# Definimos cada una de las gráficas de pastel que representaremos, su título, \n",
    "# la cuadricula que mostrara, y las opciones antes definidas de la gráfica anterior\n",
    "graph_pie_1 = figure(\n",
    "    title='Incidencia', # título de esta grafica en particular\n",
    "    x_range=(-1,1),\n",
    "    y_range=(-1,1),\n",
    "    **options\n",
    ")\n",
    "graph_pie_2 = figure(title='Brecha', x_range=(-1,1), y_range=(-1,1), **options)\n",
    "graph_pie_3 = figure(title='Severidad', x_range=(-1,1), y_range=(-1,1), **options)\n",
    "\n",
    "# Definimos una función que será llamada cada vez que interactuemos con el slider\n",
    "def f(x):\n",
    "    graph_pie_1.wedge(\n",
    "        x=0, y=0, radius=0.8, # centro y radio\n",
    "        start_angle=[0.0, data.Incidencia[x]*2*pi/100], # valores donde inicia cada parte\n",
    "        end_angle=[data.Incidencia[x]*2*pi, 2*pi],  # valores donde termina cada parte del pastel\n",
    "        color=['#f4d341','#686060'] # color de cada parte\n",
    "    )\n",
    "    graph_pie_2.wedge(\n",
    "        x=0, y=0, radius=0.8, \n",
    "        start_angle=[0.0, data.Brecha[x]*2*pi/100], \n",
    "        end_angle=[data.Brecha[x]*2*pi, 2*pi], \n",
    "        color=['#42f4bf','#686060']\n",
    "    )\n",
    "    graph_pie_3.wedge(\n",
    "        x=0, y=0, radius=0.8, \n",
    "        start_angle=[0.0, data.Severidad[x]*2*pi/100], \n",
    "        end_angle=[data.Severidad[x]*2*pi, 2*pi], \n",
    "        color=['#f44171','#686060']\n",
    "    )\n",
    "    \n",
    "    \n",
    "    print(\"Año: \"+str(int(data.Anios[x])))\n",
    "    graph_pie = gridplot([[graph_pie_1, graph_pie_2, graph_pie_3]]) # agrupamos nuestras  graficas\n",
    "    show(graph_pie) # Mostramos los resultados\n",
    "    \n",
    "# Mostramos la gráfica y el slider con el que podremos interactuar\n",
    "interact(f, x=(1,10));"
   ]
  },
  {
   "cell_type": "markdown",
   "metadata": {},
   "source": [
    "**Con el slider podemos avanzar en el tiempo para poder observar que cada año se ha producido una disminución del porcentaje de pobreza**"
   ]
  },
  {
   "cell_type": "markdown",
   "metadata": {},
   "source": [
    "# Bibliografía \n",
    "----\n",
    "Este notebook fue realiza con jupyter notebook. - http://jupyter.org/\n",
    "\n",
    "Una página que utilizamos, para poder hacer las gráficas se utilizó bokeh. - https://bokeh.pydata.org/en/latest/\n",
    "\n",
    "Carga de datos Pandas. - https://pandas.pydata.org/\n",
    "\n",
    "Datos obtenidos de Ecuador en cifras. - http://www.ecuadorencifras.gob.ec/"
   ]
  }
 ],
 "metadata": {
  "kernelspec": {
   "display_name": "Python 3",
   "language": "python",
   "name": "python3"
  },
  "language_info": {
   "codemirror_mode": {
    "name": "ipython",
    "version": 3
   },
   "file_extension": ".py",
   "mimetype": "text/x-python",
   "name": "python",
   "nbconvert_exporter": "python",
   "pygments_lexer": "ipython3",
   "version": "3.6.3"
  }
 },
 "nbformat": 4,
 "nbformat_minor": 2
}
