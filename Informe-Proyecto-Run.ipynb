{
 "cells": [
  {
   "cell_type": "markdown",
   "metadata": {},
   "source": [
    "# PROYECTO DE VISUALIZACION DE DATOS "
   ]
  },
  {
   "cell_type": "markdown",
   "metadata": {},
   "source": [
    "## SET DE DATOS\n",
    "----\n",
    "**Los datos que trabajaremos son del sitio web Ecuador en cifras, sobre la pobreza en ciudades como Quito, Guayaquil, y otras del Ecuador**"
   ]
  },
  {
   "cell_type": "markdown",
   "metadata": {},
   "source": [
    "Para poder cargar nuestro set de datos necesitamos importar la librería de `pandas`"
   ]
  },
  {
   "cell_type": "code",
   "execution_count": 1,
   "metadata": {},
   "outputs": [],
   "source": [
    "import pandas as pd"
   ]
  },
  {
   "cell_type": "markdown",
   "metadata": {},
   "source": [
    "Nuestro conjunto de datos está en formato `.csv`, por lo que usaremos `read_csv` de pandas."
   ]
  },
  {
   "cell_type": "code",
   "execution_count": 2,
   "metadata": {},
   "outputs": [],
   "source": [
    "# guardamos nuestra tabla en una variable data, después de haber sido leída por pandas\n",
    "raw_data = pd.read_csv(\n",
    "    './assets/datosPobreza.csv', # dirección donde esta nuestra data\n",
    "    sep=';', # separador de datos para ser leídos por pandas\n",
    "    decimal=\",\" # el separador, o sino nuestros números serán tratados como strings si contienen \"comas\"\n",
    ")"
   ]
  },
  {
   "cell_type": "markdown",
   "metadata": {},
   "source": [
    "`read_csv` devuelve un `DataFrame`, una estructura tabular de datos proporcionada por pandas. Un `DataFrame` está dotado de varios atributos y métodos útiles para explorar los datos."
   ]
  },
  {
   "cell_type": "markdown",
   "metadata": {},
   "source": [
    "Con la función `head()` sobre nuestro `DataFrame` podemos mostrar los primeras filas de nuestra data, para no presentar todas las filas. "
   ]
  },
  {
   "cell_type": "code",
   "execution_count": 3,
   "metadata": {},
   "outputs": [
    {
     "data": {
      "text/html": [
       "<div>\n",
       "<style scoped>\n",
       "    .dataframe tbody tr th:only-of-type {\n",
       "        vertical-align: middle;\n",
       "    }\n",
       "\n",
       "    .dataframe tbody tr th {\n",
       "        vertical-align: top;\n",
       "    }\n",
       "\n",
       "    .dataframe thead th {\n",
       "        text-align: right;\n",
       "    }\n",
       "</style>\n",
       "<table border=\"1\" class=\"dataframe\">\n",
       "  <thead>\n",
       "    <tr style=\"text-align: right;\">\n",
       "      <th></th>\n",
       "      <th>Período</th>\n",
       "      <th>Anios</th>\n",
       "      <th>Quito</th>\n",
       "      <th>Quito.1</th>\n",
       "      <th>Quito.2</th>\n",
       "      <th>Guayaquil</th>\n",
       "      <th>Guayaquil.1</th>\n",
       "      <th>Guayaquil.2</th>\n",
       "      <th>Cuenca</th>\n",
       "      <th>Cuenca.1</th>\n",
       "      <th>Cuenca.2</th>\n",
       "      <th>Machala</th>\n",
       "      <th>Machala.1</th>\n",
       "      <th>Machala.2</th>\n",
       "      <th>Ambato</th>\n",
       "      <th>Ambato.1</th>\n",
       "      <th>Ambato.2</th>\n",
       "    </tr>\n",
       "  </thead>\n",
       "  <tbody>\n",
       "    <tr>\n",
       "      <th>0</th>\n",
       "      <td>NaN</td>\n",
       "      <td>NaN</td>\n",
       "      <td>NaN</td>\n",
       "      <td>NaN</td>\n",
       "      <td>NaN</td>\n",
       "      <td>NaN</td>\n",
       "      <td>NaN</td>\n",
       "      <td>NaN</td>\n",
       "      <td>NaN</td>\n",
       "      <td>NaN</td>\n",
       "      <td>NaN</td>\n",
       "      <td>NaN</td>\n",
       "      <td>NaN</td>\n",
       "      <td>NaN</td>\n",
       "      <td>NaN</td>\n",
       "      <td>NaN</td>\n",
       "      <td>NaN</td>\n",
       "    </tr>\n",
       "    <tr>\n",
       "      <th>1</th>\n",
       "      <td>Marzo</td>\n",
       "      <td>2008.0</td>\n",
       "      <td>10.45</td>\n",
       "      <td>3.32</td>\n",
       "      <td>1.76</td>\n",
       "      <td>22.06</td>\n",
       "      <td>6.38</td>\n",
       "      <td>2.87</td>\n",
       "      <td>11.68</td>\n",
       "      <td>3.74</td>\n",
       "      <td>1.88</td>\n",
       "      <td>20.76</td>\n",
       "      <td>6.43</td>\n",
       "      <td>2.82</td>\n",
       "      <td>21.20</td>\n",
       "      <td>6.38</td>\n",
       "      <td>3.11</td>\n",
       "    </tr>\n",
       "    <tr>\n",
       "      <th>2</th>\n",
       "      <td>Marzo</td>\n",
       "      <td>2009.0</td>\n",
       "      <td>11.16</td>\n",
       "      <td>3.71</td>\n",
       "      <td>1.97</td>\n",
       "      <td>24.28</td>\n",
       "      <td>7.50</td>\n",
       "      <td>3.26</td>\n",
       "      <td>10.91</td>\n",
       "      <td>3.31</td>\n",
       "      <td>1.51</td>\n",
       "      <td>20.76</td>\n",
       "      <td>6.32</td>\n",
       "      <td>2.94</td>\n",
       "      <td>17.55</td>\n",
       "      <td>5.81</td>\n",
       "      <td>2.99</td>\n",
       "    </tr>\n",
       "    <tr>\n",
       "      <th>3</th>\n",
       "      <td>Marzo</td>\n",
       "      <td>2010.0</td>\n",
       "      <td>13.01</td>\n",
       "      <td>4.34</td>\n",
       "      <td>2.31</td>\n",
       "      <td>20.80</td>\n",
       "      <td>5.82</td>\n",
       "      <td>2.37</td>\n",
       "      <td>13.78</td>\n",
       "      <td>3.80</td>\n",
       "      <td>1.60</td>\n",
       "      <td>15.54</td>\n",
       "      <td>4.20</td>\n",
       "      <td>1.77</td>\n",
       "      <td>11.63</td>\n",
       "      <td>3.47</td>\n",
       "      <td>1.47</td>\n",
       "    </tr>\n",
       "    <tr>\n",
       "      <th>4</th>\n",
       "      <td>Marzo</td>\n",
       "      <td>2011.0</td>\n",
       "      <td>10.33</td>\n",
       "      <td>3.34</td>\n",
       "      <td>1.81</td>\n",
       "      <td>19.21</td>\n",
       "      <td>4.99</td>\n",
       "      <td>1.99</td>\n",
       "      <td>12.39</td>\n",
       "      <td>4.13</td>\n",
       "      <td>2.20</td>\n",
       "      <td>14.76</td>\n",
       "      <td>4.07</td>\n",
       "      <td>1.62</td>\n",
       "      <td>10.58</td>\n",
       "      <td>2.68</td>\n",
       "      <td>1.02</td>\n",
       "    </tr>\n",
       "  </tbody>\n",
       "</table>\n",
       "</div>"
      ],
      "text/plain": [
       "  Período   Anios  Quito  Quito.1  Quito.2  Guayaquil  Guayaquil.1  \\\n",
       "0     NaN     NaN    NaN      NaN      NaN        NaN          NaN   \n",
       "1   Marzo  2008.0  10.45     3.32     1.76      22.06         6.38   \n",
       "2   Marzo  2009.0  11.16     3.71     1.97      24.28         7.50   \n",
       "3   Marzo  2010.0  13.01     4.34     2.31      20.80         5.82   \n",
       "4   Marzo  2011.0  10.33     3.34     1.81      19.21         4.99   \n",
       "\n",
       "   Guayaquil.2  Cuenca  Cuenca.1  Cuenca.2  Machala  Machala.1  Machala.2  \\\n",
       "0          NaN     NaN       NaN       NaN      NaN        NaN        NaN   \n",
       "1         2.87   11.68      3.74      1.88    20.76       6.43       2.82   \n",
       "2         3.26   10.91      3.31      1.51    20.76       6.32       2.94   \n",
       "3         2.37   13.78      3.80      1.60    15.54       4.20       1.77   \n",
       "4         1.99   12.39      4.13      2.20    14.76       4.07       1.62   \n",
       "\n",
       "   Ambato  Ambato.1  Ambato.2  \n",
       "0     NaN       NaN       NaN  \n",
       "1   21.20      6.38      3.11  \n",
       "2   17.55      5.81      2.99  \n",
       "3   11.63      3.47      1.47  \n",
       "4   10.58      2.68      1.02  "
      ]
     },
     "execution_count": 3,
     "metadata": {},
     "output_type": "execute_result"
    }
   ],
   "source": [
    "raw_data.head()"
   ]
  },
  {
   "cell_type": "markdown",
   "metadata": {},
   "source": [
    "Con la función `[1:]` eliminamos la primera fila, ya que no son parte de los datos que usaremos"
   ]
  },
  {
   "cell_type": "code",
   "execution_count": 4,
   "metadata": {},
   "outputs": [],
   "source": [
    "raw_data = raw_data[1:]"
   ]
  },
  {
   "cell_type": "code",
   "execution_count": 5,
   "metadata": {},
   "outputs": [
    {
     "data": {
      "text/plain": [
       "(10, 17)"
      ]
     },
     "execution_count": 5,
     "metadata": {},
     "output_type": "execute_result"
    }
   ],
   "source": [
    "raw_data.shape  # números de campos de nuestra data"
   ]
  },
  {
   "cell_type": "markdown",
   "metadata": {},
   "source": [
    "Un `DataFrame` se compone de dos componentes principales; \n",
    " - Los datos mismos, que se pueden extraer a través del atributo de valores\n",
    " - Conjunto de índices, que son esencialmente etiquetas para las filas y columnas del DataFrame."
   ]
  },
  {
   "cell_type": "code",
   "execution_count": 6,
   "metadata": {},
   "outputs": [
    {
     "data": {
      "text/plain": [
       "RangeIndex(start=1, stop=11, step=1)"
      ]
     },
     "execution_count": 6,
     "metadata": {},
     "output_type": "execute_result"
    }
   ],
   "source": [
    "raw_data.index"
   ]
  },
  {
   "cell_type": "code",
   "execution_count": 7,
   "metadata": {},
   "outputs": [
    {
     "data": {
      "text/plain": [
       "Index(['Período', 'Anios', 'Quito', 'Quito.1', 'Quito.2', 'Guayaquil',\n",
       "       'Guayaquil.1', 'Guayaquil.2', 'Cuenca', 'Cuenca.1', 'Cuenca.2',\n",
       "       'Machala', 'Machala.1', 'Machala.2', 'Ambato', 'Ambato.1', 'Ambato.2'],\n",
       "      dtype='object')"
      ]
     },
     "execution_count": 7,
     "metadata": {},
     "output_type": "execute_result"
    }
   ],
   "source": [
    "raw_data.columns"
   ]
  },
  {
   "cell_type": "markdown",
   "metadata": {},
   "source": [
    "Pero, un `índice` es más que un conjunto de etiquetas. Es importante destacar que asegura la **alineación de datos** cuando se agregan datos o se combinan estructuras de datos.\n",
    "\n",
    "De hecho, podemos especificar un índice más apropiado para nuestros datos. El campo Año aquí es un índice único para los valores de análisis correspondientes.\n",
    "\n",
    "`set_index` nos permite convertir cualquier columna (o matriz externa) que elijamos en el índice de fila."
   ]
  },
  {
   "cell_type": "code",
   "execution_count": 8,
   "metadata": {},
   "outputs": [
    {
     "data": {
      "text/html": [
       "<div>\n",
       "<style scoped>\n",
       "    .dataframe tbody tr th:only-of-type {\n",
       "        vertical-align: middle;\n",
       "    }\n",
       "\n",
       "    .dataframe tbody tr th {\n",
       "        vertical-align: top;\n",
       "    }\n",
       "\n",
       "    .dataframe thead th {\n",
       "        text-align: right;\n",
       "    }\n",
       "</style>\n",
       "<table border=\"1\" class=\"dataframe\">\n",
       "  <thead>\n",
       "    <tr style=\"text-align: right;\">\n",
       "      <th></th>\n",
       "      <th>Período</th>\n",
       "      <th>Quito</th>\n",
       "      <th>Quito.1</th>\n",
       "      <th>Quito.2</th>\n",
       "      <th>Guayaquil</th>\n",
       "      <th>Guayaquil.1</th>\n",
       "      <th>Guayaquil.2</th>\n",
       "      <th>Cuenca</th>\n",
       "      <th>Cuenca.1</th>\n",
       "      <th>Cuenca.2</th>\n",
       "      <th>Machala</th>\n",
       "      <th>Machala.1</th>\n",
       "      <th>Machala.2</th>\n",
       "      <th>Ambato</th>\n",
       "      <th>Ambato.1</th>\n",
       "      <th>Ambato.2</th>\n",
       "    </tr>\n",
       "    <tr>\n",
       "      <th>Anios</th>\n",
       "      <th></th>\n",
       "      <th></th>\n",
       "      <th></th>\n",
       "      <th></th>\n",
       "      <th></th>\n",
       "      <th></th>\n",
       "      <th></th>\n",
       "      <th></th>\n",
       "      <th></th>\n",
       "      <th></th>\n",
       "      <th></th>\n",
       "      <th></th>\n",
       "      <th></th>\n",
       "      <th></th>\n",
       "      <th></th>\n",
       "      <th></th>\n",
       "    </tr>\n",
       "  </thead>\n",
       "  <tbody>\n",
       "    <tr>\n",
       "      <th>2008.0</th>\n",
       "      <td>Marzo</td>\n",
       "      <td>10.45</td>\n",
       "      <td>3.32</td>\n",
       "      <td>1.76</td>\n",
       "      <td>22.06</td>\n",
       "      <td>6.38</td>\n",
       "      <td>2.87</td>\n",
       "      <td>11.68</td>\n",
       "      <td>3.74</td>\n",
       "      <td>1.88</td>\n",
       "      <td>20.76</td>\n",
       "      <td>6.43</td>\n",
       "      <td>2.82</td>\n",
       "      <td>21.20</td>\n",
       "      <td>6.38</td>\n",
       "      <td>3.11</td>\n",
       "    </tr>\n",
       "    <tr>\n",
       "      <th>2009.0</th>\n",
       "      <td>Marzo</td>\n",
       "      <td>11.16</td>\n",
       "      <td>3.71</td>\n",
       "      <td>1.97</td>\n",
       "      <td>24.28</td>\n",
       "      <td>7.50</td>\n",
       "      <td>3.26</td>\n",
       "      <td>10.91</td>\n",
       "      <td>3.31</td>\n",
       "      <td>1.51</td>\n",
       "      <td>20.76</td>\n",
       "      <td>6.32</td>\n",
       "      <td>2.94</td>\n",
       "      <td>17.55</td>\n",
       "      <td>5.81</td>\n",
       "      <td>2.99</td>\n",
       "    </tr>\n",
       "  </tbody>\n",
       "</table>\n",
       "</div>"
      ],
      "text/plain": [
       "       Período  Quito  Quito.1  Quito.2  Guayaquil  Guayaquil.1  Guayaquil.2  \\\n",
       "Anios                                                                          \n",
       "2008.0   Marzo  10.45     3.32     1.76      22.06         6.38         2.87   \n",
       "2009.0   Marzo  11.16     3.71     1.97      24.28         7.50         3.26   \n",
       "\n",
       "        Cuenca  Cuenca.1  Cuenca.2  Machala  Machala.1  Machala.2  Ambato  \\\n",
       "Anios                                                                       \n",
       "2008.0   11.68      3.74      1.88    20.76       6.43       2.82   21.20   \n",
       "2009.0   10.91      3.31      1.51    20.76       6.32       2.94   17.55   \n",
       "\n",
       "        Ambato.1  Ambato.2  \n",
       "Anios                       \n",
       "2008.0      6.38      3.11  \n",
       "2009.0      5.81      2.99  "
      ]
     },
     "execution_count": 8,
     "metadata": {},
     "output_type": "execute_result"
    }
   ],
   "source": [
    "temp = raw_data.set_index('Anios')\n",
    "temp.head(2)"
   ]
  },
  {
   "cell_type": "markdown",
   "metadata": {},
   "source": [
    "## Data\n",
    "Para nuestra tabla agruparemos los datos de Quito para nuestras graficas"
   ]
  },
  {
   "cell_type": "code",
   "execution_count": 9,
   "metadata": {},
   "outputs": [
    {
     "data": {
      "text/html": [
       "<div>\n",
       "<style scoped>\n",
       "    .dataframe tbody tr th:only-of-type {\n",
       "        vertical-align: middle;\n",
       "    }\n",
       "\n",
       "    .dataframe tbody tr th {\n",
       "        vertical-align: top;\n",
       "    }\n",
       "\n",
       "    .dataframe thead th {\n",
       "        text-align: right;\n",
       "    }\n",
       "</style>\n",
       "<table border=\"1\" class=\"dataframe\">\n",
       "  <thead>\n",
       "    <tr style=\"text-align: right;\">\n",
       "      <th></th>\n",
       "      <th>Anios</th>\n",
       "      <th>Quito</th>\n",
       "      <th>Quito.1</th>\n",
       "      <th>Quito.2</th>\n",
       "    </tr>\n",
       "  </thead>\n",
       "  <tbody>\n",
       "    <tr>\n",
       "      <th>1</th>\n",
       "      <td>2008</td>\n",
       "      <td>10.45</td>\n",
       "      <td>3.32</td>\n",
       "      <td>1.76</td>\n",
       "    </tr>\n",
       "  </tbody>\n",
       "</table>\n",
       "</div>"
      ],
      "text/plain": [
       "  Anios  Quito  Quito.1  Quito.2\n",
       "1  2008  10.45     3.32     1.76"
      ]
     },
     "execution_count": 9,
     "metadata": {},
     "output_type": "execute_result"
    }
   ],
   "source": [
    "data = raw_data.drop(['Período', 'Guayaquil', 'Guayaquil.1', 'Guayaquil.2', 'Cuenca', 'Cuenca.1', 'Cuenca.2', 'Machala', 'Machala.1', 'Machala.2', 'Ambato', 'Ambato.1', 'Ambato.2'], axis=1)\n",
    "data['Anios'] = data['Anios'].astype(int).astype(str)\n",
    "data.head(1)"
   ]
  },
  {
   "cell_type": "markdown",
   "metadata": {},
   "source": [
    "Cambiaremos los nombres de las columnas de nuestra data para ver lo que representaremos"
   ]
  },
  {
   "cell_type": "code",
   "execution_count": 10,
   "metadata": {},
   "outputs": [
    {
     "data": {
      "text/html": [
       "<div>\n",
       "<style scoped>\n",
       "    .dataframe tbody tr th:only-of-type {\n",
       "        vertical-align: middle;\n",
       "    }\n",
       "\n",
       "    .dataframe tbody tr th {\n",
       "        vertical-align: top;\n",
       "    }\n",
       "\n",
       "    .dataframe thead th {\n",
       "        text-align: right;\n",
       "    }\n",
       "</style>\n",
       "<table border=\"1\" class=\"dataframe\">\n",
       "  <thead>\n",
       "    <tr style=\"text-align: right;\">\n",
       "      <th></th>\n",
       "      <th>Anios</th>\n",
       "      <th>Incidencia</th>\n",
       "      <th>Brecha</th>\n",
       "      <th>Severidad</th>\n",
       "    </tr>\n",
       "  </thead>\n",
       "  <tbody>\n",
       "    <tr>\n",
       "      <th>1</th>\n",
       "      <td>2008</td>\n",
       "      <td>10.45</td>\n",
       "      <td>3.32</td>\n",
       "      <td>1.76</td>\n",
       "    </tr>\n",
       "  </tbody>\n",
       "</table>\n",
       "</div>"
      ],
      "text/plain": [
       "  Anios  Incidencia  Brecha  Severidad\n",
       "1  2008       10.45    3.32       1.76"
      ]
     },
     "execution_count": 10,
     "metadata": {},
     "output_type": "execute_result"
    }
   ],
   "source": [
    "data.columns = ['Anios', 'Incidencia', 'Brecha', 'Severidad']\n",
    "data.head(1)"
   ]
  },
  {
   "cell_type": "markdown",
   "metadata": {},
   "source": [
    "### ¿Qué es incidencia de la pobreza?\n",
    "Número de personas pobres expresado como porcentaje del total de la población en un determinado año. Se define como \"pobres\" a aquellas personas que pertenecen a hogares cuyo consumo per cápita, en un período determinado, es inferior al valor de la línea de pobreza.\n",
    "### ¿Qué es la brecha de la pobreza?\n",
    "La línea de pobreza es el equivalente monetario del costo de una canasta básica de bienes y servicios. La brecha de la pobreza refleja cuan pobres son los pobres y, por tanto, proporciona una idea de la profundidad de las carencias de ingreso o consumo que definen una situación de pobreza.\n",
    "### ¿Qué es la severidad de la pobreza?\n",
    "P es un promedio (sobre la población total, n) de las distancias que separan a individuos u hogares de la línea de pobreza, ponderado por un exponente. El valor del exponente permite que la misma fórmula dé como resultado la incidencia, brecha y severidad de la pobreza como casos especiales de la medida."
   ]
  },
  {
   "cell_type": "markdown",
   "metadata": {},
   "source": [
    "## MARCO TEORICO \n",
    "----"
   ]
  },
  {
   "cell_type": "markdown",
   "metadata": {},
   "source": [
    "## Python \n",
    "\n",
    "Python es un lenguaje de programación interpretado cuya filosofía hace hincapié en una sintaxis que favorezca un código legible.\n",
    "\n",
    "Se trata de un lenguaje de programación multiparadigma, ya que soporta orientación a objetos, programación imperativa y, en menor medida, programación funcional. Es un lenguaje interpretado, usa tipado dinámico y es multiplataforma.\n",
    "\n",
    "\n",
    "## Pandas\n",
    "\n",
    "Pandas es una biblioteca de código abierto con licencia de BSD que proporciona estructuras de datos y herramientas de análisis de datos de alto rendimiento y fácil de usar para el lenguaje de programación Python.\n",
    "\n",
    "pandas es un proyecto patrocinado por NUMFocus. Esto ayudará a garantizar el éxito del desarrollo de los pandas como un proyecto de código abierto de clase mundial, y hace posible donar para el proyecto.\n",
    "\n",
    "## Bokeh\n",
    "\n",
    "Bokeh es una biblioteca de visualización interactiva de Python que se dirige a navegadores web modernos para su presentación. Su objetivo es proporcionar una construcción elegante y concisa de gráficos novedosos al estilo de D3.js y ampliar esta capacidad con interactividad de alto rendimiento en conjuntos de datos de gran tamaño o de transmisión"
   ]
  },
  {
   "cell_type": "markdown",
   "metadata": {},
   "source": [
    "## PROPUESTAS DE VISUALIZACION\n",
    "---\n",
    "**Para la visualización de datos se utilizo la librería bokeh**\n",
    "Con los datos descritos anterior mente utilizaremos bokeh como una manera grafica de visualizar nuestra tabla.\n",
    "\n",
    " - Usarnos gráficos de líneas para visualizar la diferencia que existe en nuestros datos\n",
    " - Utilizaremos gráficos de barras para visualizar la semejanza de los datos del mismo año\n",
    " - También utilizaremos gráficos de pastel interactivos con los que podremos observar la variación de datos dentro de nuestro rango de años."
   ]
  },
  {
   "cell_type": "markdown",
   "metadata": {},
   "source": [
    "Al usar la interfaz bokeh.plotting, necesitamos importar:\n",
    "\n",
    " - Use la función de `figure` para crear nuevos objetos de trazado para trabajar.\n",
    " - Las funciones `output_file`, `output_notebook` para indicar a Bokeh cómo mostrar el resultado."
   ]
  },
  {
   "cell_type": "code",
   "execution_count": 11,
   "metadata": {},
   "outputs": [],
   "source": [
    "from bokeh.io import show\n",
    "from bokeh.plotting import figure\n",
    "from bokeh.models import ColumnDataSource"
   ]
  },
  {
   "cell_type": "markdown",
   "metadata": {},
   "source": [
    "Importamos `gridplot` - para presentar varias graficas en una"
   ]
  },
  {
   "cell_type": "code",
   "execution_count": 12,
   "metadata": {},
   "outputs": [],
   "source": [
    "from bokeh.layouts import gridplot"
   ]
  },
  {
   "cell_type": "markdown",
   "metadata": {},
   "source": [
    "En este caso, estamos en `jupyter notebook`, así que llamamos a `output_notebook()`. Solo debemos llamar esto una vez para mostrar nuestras graficas en el cuaderno usando la función `show()` de bokeh."
   ]
  },
  {
   "cell_type": "code",
   "execution_count": 13,
   "metadata": {},
   "outputs": [
    {
     "data": {
      "text/html": [
       "\n",
       "    <div class=\"bk-root\">\n",
       "        <a href=\"https://bokeh.pydata.org\" target=\"_blank\" class=\"bk-logo bk-logo-small bk-logo-notebook\"></a>\n",
       "        <span id=\"60b95b6c-b234-42a9-9311-5fa88073cc1d\">Loading BokehJS ...</span>\n",
       "    </div>"
      ]
     },
     "metadata": {},
     "output_type": "display_data"
    },
    {
     "data": {
      "application/javascript": [
       "\n",
       "(function(root) {\n",
       "  function now() {\n",
       "    return new Date();\n",
       "  }\n",
       "\n",
       "  var force = true;\n",
       "\n",
       "  if (typeof (root._bokeh_onload_callbacks) === \"undefined\" || force === true) {\n",
       "    root._bokeh_onload_callbacks = [];\n",
       "    root._bokeh_is_loading = undefined;\n",
       "  }\n",
       "\n",
       "  var JS_MIME_TYPE = 'application/javascript';\n",
       "  var HTML_MIME_TYPE = 'text/html';\n",
       "  var EXEC_MIME_TYPE = 'application/vnd.bokehjs_exec.v0+json';\n",
       "  var CLASS_NAME = 'output_bokeh rendered_html';\n",
       "\n",
       "  /**\n",
       "   * Render data to the DOM node\n",
       "   */\n",
       "  function render(props, node) {\n",
       "    var script = document.createElement(\"script\");\n",
       "    node.appendChild(script);\n",
       "  }\n",
       "\n",
       "  /**\n",
       "   * Handle when an output is cleared or removed\n",
       "   */\n",
       "  function handleClearOutput(event, handle) {\n",
       "    var cell = handle.cell;\n",
       "\n",
       "    var id = cell.output_area._bokeh_element_id;\n",
       "    var server_id = cell.output_area._bokeh_server_id;\n",
       "    // Clean up Bokeh references\n",
       "    if (id !== undefined) {\n",
       "      Bokeh.index[id].model.document.clear();\n",
       "      delete Bokeh.index[id];\n",
       "    }\n",
       "\n",
       "    if (server_id !== undefined) {\n",
       "      // Clean up Bokeh references\n",
       "      var cmd = \"from bokeh.io.state import curstate; print(curstate().uuid_to_server['\" + server_id + \"'].get_sessions()[0].document.roots[0]._id)\";\n",
       "      cell.notebook.kernel.execute(cmd, {\n",
       "        iopub: {\n",
       "          output: function(msg) {\n",
       "            var element_id = msg.content.text.trim();\n",
       "            Bokeh.index[element_id].model.document.clear();\n",
       "            delete Bokeh.index[element_id];\n",
       "          }\n",
       "        }\n",
       "      });\n",
       "      // Destroy server and session\n",
       "      var cmd = \"import bokeh.io.notebook as ion; ion.destroy_server('\" + server_id + \"')\";\n",
       "      cell.notebook.kernel.execute(cmd);\n",
       "    }\n",
       "  }\n",
       "\n",
       "  /**\n",
       "   * Handle when a new output is added\n",
       "   */\n",
       "  function handleAddOutput(event, handle) {\n",
       "    var output_area = handle.output_area;\n",
       "    var output = handle.output;\n",
       "\n",
       "    // limit handleAddOutput to display_data with EXEC_MIME_TYPE content only\n",
       "    if ((output.output_type != \"display_data\") || (!output.data.hasOwnProperty(EXEC_MIME_TYPE))) {\n",
       "      return\n",
       "    }\n",
       "\n",
       "    var toinsert = output_area.element.find(`.${CLASS_NAME.split(' ')[0]}`);\n",
       "\n",
       "    if (output.metadata[EXEC_MIME_TYPE][\"id\"] !== undefined) {\n",
       "      toinsert[0].firstChild.textContent = output.data[JS_MIME_TYPE];\n",
       "      // store reference to embed id on output_area\n",
       "      output_area._bokeh_element_id = output.metadata[EXEC_MIME_TYPE][\"id\"];\n",
       "    }\n",
       "    if (output.metadata[EXEC_MIME_TYPE][\"server_id\"] !== undefined) {\n",
       "      var bk_div = document.createElement(\"div\");\n",
       "      bk_div.innerHTML = output.data[HTML_MIME_TYPE];\n",
       "      var script_attrs = bk_div.children[0].attributes;\n",
       "      for (var i = 0; i < script_attrs.length; i++) {\n",
       "        toinsert[0].firstChild.setAttribute(script_attrs[i].name, script_attrs[i].value);\n",
       "      }\n",
       "      // store reference to server id on output_area\n",
       "      output_area._bokeh_server_id = output.metadata[EXEC_MIME_TYPE][\"server_id\"];\n",
       "    }\n",
       "  }\n",
       "\n",
       "  function register_renderer(events, OutputArea) {\n",
       "\n",
       "    function append_mime(data, metadata, element) {\n",
       "      // create a DOM node to render to\n",
       "      var toinsert = this.create_output_subarea(\n",
       "        metadata,\n",
       "        CLASS_NAME,\n",
       "        EXEC_MIME_TYPE\n",
       "      );\n",
       "      this.keyboard_manager.register_events(toinsert);\n",
       "      // Render to node\n",
       "      var props = {data: data, metadata: metadata[EXEC_MIME_TYPE]};\n",
       "      render(props, toinsert[0]);\n",
       "      element.append(toinsert);\n",
       "      return toinsert\n",
       "    }\n",
       "\n",
       "    /* Handle when an output is cleared or removed */\n",
       "    events.on('clear_output.CodeCell', handleClearOutput);\n",
       "    events.on('delete.Cell', handleClearOutput);\n",
       "\n",
       "    /* Handle when a new output is added */\n",
       "    events.on('output_added.OutputArea', handleAddOutput);\n",
       "\n",
       "    /**\n",
       "     * Register the mime type and append_mime function with output_area\n",
       "     */\n",
       "    OutputArea.prototype.register_mime_type(EXEC_MIME_TYPE, append_mime, {\n",
       "      /* Is output safe? */\n",
       "      safe: true,\n",
       "      /* Index of renderer in `output_area.display_order` */\n",
       "      index: 0\n",
       "    });\n",
       "  }\n",
       "\n",
       "  // register the mime type if in Jupyter Notebook environment and previously unregistered\n",
       "  if (root.Jupyter !== undefined) {\n",
       "    var events = require('base/js/events');\n",
       "    var OutputArea = require('notebook/js/outputarea').OutputArea;\n",
       "\n",
       "    if (OutputArea.prototype.mime_types().indexOf(EXEC_MIME_TYPE) == -1) {\n",
       "      register_renderer(events, OutputArea);\n",
       "    }\n",
       "  }\n",
       "\n",
       "  \n",
       "  if (typeof (root._bokeh_timeout) === \"undefined\" || force === true) {\n",
       "    root._bokeh_timeout = Date.now() + 5000;\n",
       "    root._bokeh_failed_load = false;\n",
       "  }\n",
       "\n",
       "  var NB_LOAD_WARNING = {'data': {'text/html':\n",
       "     \"<div style='background-color: #fdd'>\\n\"+\n",
       "     \"<p>\\n\"+\n",
       "     \"BokehJS does not appear to have successfully loaded. If loading BokehJS from CDN, this \\n\"+\n",
       "     \"may be due to a slow or bad network connection. Possible fixes:\\n\"+\n",
       "     \"</p>\\n\"+\n",
       "     \"<ul>\\n\"+\n",
       "     \"<li>re-rerun `output_notebook()` to attempt to load from CDN again, or</li>\\n\"+\n",
       "     \"<li>use INLINE resources instead, as so:</li>\\n\"+\n",
       "     \"</ul>\\n\"+\n",
       "     \"<code>\\n\"+\n",
       "     \"from bokeh.resources import INLINE\\n\"+\n",
       "     \"output_notebook(resources=INLINE)\\n\"+\n",
       "     \"</code>\\n\"+\n",
       "     \"</div>\"}};\n",
       "\n",
       "  function display_loaded() {\n",
       "    var el = document.getElementById(\"60b95b6c-b234-42a9-9311-5fa88073cc1d\");\n",
       "    if (el != null) {\n",
       "      el.textContent = \"BokehJS is loading...\";\n",
       "    }\n",
       "    if (root.Bokeh !== undefined) {\n",
       "      if (el != null) {\n",
       "        el.textContent = \"BokehJS \" + root.Bokeh.version + \" successfully loaded.\";\n",
       "      }\n",
       "    } else if (Date.now() < root._bokeh_timeout) {\n",
       "      setTimeout(display_loaded, 100)\n",
       "    }\n",
       "  }\n",
       "\n",
       "\n",
       "  function run_callbacks() {\n",
       "    try {\n",
       "      root._bokeh_onload_callbacks.forEach(function(callback) { callback() });\n",
       "    }\n",
       "    finally {\n",
       "      delete root._bokeh_onload_callbacks\n",
       "    }\n",
       "    console.info(\"Bokeh: all callbacks have finished\");\n",
       "  }\n",
       "\n",
       "  function load_libs(js_urls, callback) {\n",
       "    root._bokeh_onload_callbacks.push(callback);\n",
       "    if (root._bokeh_is_loading > 0) {\n",
       "      console.log(\"Bokeh: BokehJS is being loaded, scheduling callback at\", now());\n",
       "      return null;\n",
       "    }\n",
       "    if (js_urls == null || js_urls.length === 0) {\n",
       "      run_callbacks();\n",
       "      return null;\n",
       "    }\n",
       "    console.log(\"Bokeh: BokehJS not loaded, scheduling load and callback at\", now());\n",
       "    root._bokeh_is_loading = js_urls.length;\n",
       "    for (var i = 0; i < js_urls.length; i++) {\n",
       "      var url = js_urls[i];\n",
       "      var s = document.createElement('script');\n",
       "      s.src = url;\n",
       "      s.async = false;\n",
       "      s.onreadystatechange = s.onload = function() {\n",
       "        root._bokeh_is_loading--;\n",
       "        if (root._bokeh_is_loading === 0) {\n",
       "          console.log(\"Bokeh: all BokehJS libraries loaded\");\n",
       "          run_callbacks()\n",
       "        }\n",
       "      };\n",
       "      s.onerror = function() {\n",
       "        console.warn(\"failed to load library \" + url);\n",
       "      };\n",
       "      console.log(\"Bokeh: injecting script tag for BokehJS library: \", url);\n",
       "      document.getElementsByTagName(\"head\")[0].appendChild(s);\n",
       "    }\n",
       "  };var element = document.getElementById(\"60b95b6c-b234-42a9-9311-5fa88073cc1d\");\n",
       "  if (element == null) {\n",
       "    console.log(\"Bokeh: ERROR: autoload.js configured with elementid '60b95b6c-b234-42a9-9311-5fa88073cc1d' but no matching script tag was found. \")\n",
       "    return false;\n",
       "  }\n",
       "\n",
       "  var js_urls = [\"https://cdn.pydata.org/bokeh/release/bokeh-0.12.10.min.js\", \"https://cdn.pydata.org/bokeh/release/bokeh-widgets-0.12.10.min.js\", \"https://cdn.pydata.org/bokeh/release/bokeh-tables-0.12.10.min.js\", \"https://cdn.pydata.org/bokeh/release/bokeh-gl-0.12.10.min.js\"];\n",
       "\n",
       "  var inline_js = [\n",
       "    function(Bokeh) {\n",
       "      Bokeh.set_log_level(\"info\");\n",
       "    },\n",
       "    \n",
       "    function(Bokeh) {\n",
       "      \n",
       "    },\n",
       "    function(Bokeh) {\n",
       "      console.log(\"Bokeh: injecting CSS: https://cdn.pydata.org/bokeh/release/bokeh-0.12.10.min.css\");\n",
       "      Bokeh.embed.inject_css(\"https://cdn.pydata.org/bokeh/release/bokeh-0.12.10.min.css\");\n",
       "      console.log(\"Bokeh: injecting CSS: https://cdn.pydata.org/bokeh/release/bokeh-widgets-0.12.10.min.css\");\n",
       "      Bokeh.embed.inject_css(\"https://cdn.pydata.org/bokeh/release/bokeh-widgets-0.12.10.min.css\");\n",
       "      console.log(\"Bokeh: injecting CSS: https://cdn.pydata.org/bokeh/release/bokeh-tables-0.12.10.min.css\");\n",
       "      Bokeh.embed.inject_css(\"https://cdn.pydata.org/bokeh/release/bokeh-tables-0.12.10.min.css\");\n",
       "    }\n",
       "  ];\n",
       "\n",
       "  function run_inline_js() {\n",
       "    \n",
       "    if ((root.Bokeh !== undefined) || (force === true)) {\n",
       "      for (var i = 0; i < inline_js.length; i++) {\n",
       "        inline_js[i].call(root, root.Bokeh);\n",
       "      }if (force === true) {\n",
       "        display_loaded();\n",
       "      }} else if (Date.now() < root._bokeh_timeout) {\n",
       "      setTimeout(run_inline_js, 100);\n",
       "    } else if (!root._bokeh_failed_load) {\n",
       "      console.log(\"Bokeh: BokehJS failed to load within specified timeout.\");\n",
       "      root._bokeh_failed_load = true;\n",
       "    } else if (force !== true) {\n",
       "      var cell = $(document.getElementById(\"60b95b6c-b234-42a9-9311-5fa88073cc1d\")).parents('.cell').data().cell;\n",
       "      cell.output_area.append_execute_result(NB_LOAD_WARNING)\n",
       "    }\n",
       "\n",
       "  }\n",
       "\n",
       "  if (root._bokeh_is_loading === 0) {\n",
       "    console.log(\"Bokeh: BokehJS loaded, going straight to plotting\");\n",
       "    run_inline_js();\n",
       "  } else {\n",
       "    load_libs(js_urls, function() {\n",
       "      console.log(\"Bokeh: BokehJS plotting callback run at\", now());\n",
       "      run_inline_js();\n",
       "    });\n",
       "  }\n",
       "}(window));"
      ],
      "application/vnd.bokehjs_load.v0+json": "\n(function(root) {\n  function now() {\n    return new Date();\n  }\n\n  var force = true;\n\n  if (typeof (root._bokeh_onload_callbacks) === \"undefined\" || force === true) {\n    root._bokeh_onload_callbacks = [];\n    root._bokeh_is_loading = undefined;\n  }\n\n  \n\n  \n  if (typeof (root._bokeh_timeout) === \"undefined\" || force === true) {\n    root._bokeh_timeout = Date.now() + 5000;\n    root._bokeh_failed_load = false;\n  }\n\n  var NB_LOAD_WARNING = {'data': {'text/html':\n     \"<div style='background-color: #fdd'>\\n\"+\n     \"<p>\\n\"+\n     \"BokehJS does not appear to have successfully loaded. If loading BokehJS from CDN, this \\n\"+\n     \"may be due to a slow or bad network connection. Possible fixes:\\n\"+\n     \"</p>\\n\"+\n     \"<ul>\\n\"+\n     \"<li>re-rerun `output_notebook()` to attempt to load from CDN again, or</li>\\n\"+\n     \"<li>use INLINE resources instead, as so:</li>\\n\"+\n     \"</ul>\\n\"+\n     \"<code>\\n\"+\n     \"from bokeh.resources import INLINE\\n\"+\n     \"output_notebook(resources=INLINE)\\n\"+\n     \"</code>\\n\"+\n     \"</div>\"}};\n\n  function display_loaded() {\n    var el = document.getElementById(\"60b95b6c-b234-42a9-9311-5fa88073cc1d\");\n    if (el != null) {\n      el.textContent = \"BokehJS is loading...\";\n    }\n    if (root.Bokeh !== undefined) {\n      if (el != null) {\n        el.textContent = \"BokehJS \" + root.Bokeh.version + \" successfully loaded.\";\n      }\n    } else if (Date.now() < root._bokeh_timeout) {\n      setTimeout(display_loaded, 100)\n    }\n  }\n\n\n  function run_callbacks() {\n    try {\n      root._bokeh_onload_callbacks.forEach(function(callback) { callback() });\n    }\n    finally {\n      delete root._bokeh_onload_callbacks\n    }\n    console.info(\"Bokeh: all callbacks have finished\");\n  }\n\n  function load_libs(js_urls, callback) {\n    root._bokeh_onload_callbacks.push(callback);\n    if (root._bokeh_is_loading > 0) {\n      console.log(\"Bokeh: BokehJS is being loaded, scheduling callback at\", now());\n      return null;\n    }\n    if (js_urls == null || js_urls.length === 0) {\n      run_callbacks();\n      return null;\n    }\n    console.log(\"Bokeh: BokehJS not loaded, scheduling load and callback at\", now());\n    root._bokeh_is_loading = js_urls.length;\n    for (var i = 0; i < js_urls.length; i++) {\n      var url = js_urls[i];\n      var s = document.createElement('script');\n      s.src = url;\n      s.async = false;\n      s.onreadystatechange = s.onload = function() {\n        root._bokeh_is_loading--;\n        if (root._bokeh_is_loading === 0) {\n          console.log(\"Bokeh: all BokehJS libraries loaded\");\n          run_callbacks()\n        }\n      };\n      s.onerror = function() {\n        console.warn(\"failed to load library \" + url);\n      };\n      console.log(\"Bokeh: injecting script tag for BokehJS library: \", url);\n      document.getElementsByTagName(\"head\")[0].appendChild(s);\n    }\n  };var element = document.getElementById(\"60b95b6c-b234-42a9-9311-5fa88073cc1d\");\n  if (element == null) {\n    console.log(\"Bokeh: ERROR: autoload.js configured with elementid '60b95b6c-b234-42a9-9311-5fa88073cc1d' but no matching script tag was found. \")\n    return false;\n  }\n\n  var js_urls = [\"https://cdn.pydata.org/bokeh/release/bokeh-0.12.10.min.js\", \"https://cdn.pydata.org/bokeh/release/bokeh-widgets-0.12.10.min.js\", \"https://cdn.pydata.org/bokeh/release/bokeh-tables-0.12.10.min.js\", \"https://cdn.pydata.org/bokeh/release/bokeh-gl-0.12.10.min.js\"];\n\n  var inline_js = [\n    function(Bokeh) {\n      Bokeh.set_log_level(\"info\");\n    },\n    \n    function(Bokeh) {\n      \n    },\n    function(Bokeh) {\n      console.log(\"Bokeh: injecting CSS: https://cdn.pydata.org/bokeh/release/bokeh-0.12.10.min.css\");\n      Bokeh.embed.inject_css(\"https://cdn.pydata.org/bokeh/release/bokeh-0.12.10.min.css\");\n      console.log(\"Bokeh: injecting CSS: https://cdn.pydata.org/bokeh/release/bokeh-widgets-0.12.10.min.css\");\n      Bokeh.embed.inject_css(\"https://cdn.pydata.org/bokeh/release/bokeh-widgets-0.12.10.min.css\");\n      console.log(\"Bokeh: injecting CSS: https://cdn.pydata.org/bokeh/release/bokeh-tables-0.12.10.min.css\");\n      Bokeh.embed.inject_css(\"https://cdn.pydata.org/bokeh/release/bokeh-tables-0.12.10.min.css\");\n    }\n  ];\n\n  function run_inline_js() {\n    \n    if ((root.Bokeh !== undefined) || (force === true)) {\n      for (var i = 0; i < inline_js.length; i++) {\n        inline_js[i].call(root, root.Bokeh);\n      }if (force === true) {\n        display_loaded();\n      }} else if (Date.now() < root._bokeh_timeout) {\n      setTimeout(run_inline_js, 100);\n    } else if (!root._bokeh_failed_load) {\n      console.log(\"Bokeh: BokehJS failed to load within specified timeout.\");\n      root._bokeh_failed_load = true;\n    } else if (force !== true) {\n      var cell = $(document.getElementById(\"60b95b6c-b234-42a9-9311-5fa88073cc1d\")).parents('.cell').data().cell;\n      cell.output_area.append_execute_result(NB_LOAD_WARNING)\n    }\n\n  }\n\n  if (root._bokeh_is_loading === 0) {\n    console.log(\"Bokeh: BokehJS loaded, going straight to plotting\");\n    run_inline_js();\n  } else {\n    load_libs(js_urls, function() {\n      console.log(\"Bokeh: BokehJS plotting callback run at\", now());\n      run_inline_js();\n    });\n  }\n}(window));"
     },
     "metadata": {},
     "output_type": "display_data"
    }
   ],
   "source": [
    "from bokeh.io import output_notebook\n",
    "output_notebook()"
   ]
  },
  {
   "cell_type": "markdown",
   "metadata": {},
   "source": [
    "# GRAFICAS\n",
    "----"
   ]
  },
  {
   "cell_type": "markdown",
   "metadata": {},
   "source": [
    "## Gráfico de Líneas"
   ]
  },
  {
   "cell_type": "code",
   "execution_count": 14,
   "metadata": {},
   "outputs": [
    {
     "data": {
      "text/html": [
       "\n",
       "<div class=\"bk-root\">\n",
       "    <div class=\"bk-plotdiv\" id=\"bd06c4b7-99c4-4c00-a027-7c99ee9960eb\"></div>\n",
       "</div>"
      ]
     },
     "metadata": {},
     "output_type": "display_data"
    },
    {
     "data": {
      "application/javascript": [
       "(function(root) {\n",
       "  function embed_document(root) {\n",
       "    var docs_json = {\"9eff3afe-a422-4e87-a54c-bd3d2042bd8f\":{\"roots\":{\"references\":[{\"attributes\":{\"line_alpha\":{\"value\":0.1},\"line_color\":{\"value\":\"#1f77b4\"},\"line_width\":{\"value\":5},\"x\":{\"field\":\"Anios\"},\"y\":{\"field\":\"Severidad_mean\"}},\"id\":\"9cc91d4a-a331-489a-89e4-fae670bf7ca0\",\"type\":\"Line\"},{\"attributes\":{},\"id\":\"13945f5c-57af-4cdf-b6d4-64f24fac61fa\",\"type\":\"SaveTool\"},{\"attributes\":{\"callback\":null,\"column_names\":[\"Brecha_count\",\"Brecha_mean\",\"Brecha_std\",\"Brecha_min\",\"Brecha_25%\",\"Brecha_50%\",\"Brecha_75%\",\"Brecha_max\",\"Incidencia_count\",\"Incidencia_mean\",\"Incidencia_std\",\"Incidencia_min\",\"Incidencia_25%\",\"Incidencia_50%\",\"Incidencia_75%\",\"Incidencia_max\",\"Severidad_count\",\"Severidad_mean\",\"Severidad_std\",\"Severidad_min\",\"Severidad_25%\",\"Severidad_50%\",\"Severidad_75%\",\"Severidad_max\",\"Anios\"],\"data\":{\"Anios\":[\"2008\",\"2009\",\"2010\",\"2011\",\"2012\",\"2013\",\"2014\",\"2015\",\"2016\",\"2017\"],\"Brecha_25%\":{\"__ndarray__\":\"j8L1KFyPCkCuR+F6FK4NQFyPwvUoXBFAuB6F61G4CkBSuB6F61EKQNejcD0K1wtAPQrXo3A9BkC4HoXrUbgEQArXo3A9CgVAMzMzMzMzA0A=\",\"dtype\":\"float64\",\"shape\":[10]},\"Brecha_50%\":{\"__ndarray__\":\"j8L1KFyPCkCuR+F6FK4NQFyPwvUoXBFAuB6F61G4CkBSuB6F61EKQNejcD0K1wtAPQrXo3A9BkC4HoXrUbgEQArXo3A9CgVAMzMzMzMzA0A=\",\"dtype\":\"float64\",\"shape\":[10]},\"Brecha_75%\":{\"__ndarray__\":\"j8L1KFyPCkCuR+F6FK4NQFyPwvUoXBFAuB6F61G4CkBSuB6F61EKQNejcD0K1wtAPQrXo3A9BkC4HoXrUbgEQArXo3A9CgVAMzMzMzMzA0A=\",\"dtype\":\"float64\",\"shape\":[10]},\"Brecha_count\":{\"__ndarray__\":\"AAAAAAAA8D8AAAAAAADwPwAAAAAAAPA/AAAAAAAA8D8AAAAAAADwPwAAAAAAAPA/AAAAAAAA8D8AAAAAAADwPwAAAAAAAPA/AAAAAAAA8D8=\",\"dtype\":\"float64\",\"shape\":[10]},\"Brecha_max\":{\"__ndarray__\":\"j8L1KFyPCkCuR+F6FK4NQFyPwvUoXBFAuB6F61G4CkBSuB6F61EKQNejcD0K1wtAPQrXo3A9BkC4HoXrUbgEQArXo3A9CgVAMzMzMzMzA0A=\",\"dtype\":\"float64\",\"shape\":[10]},\"Brecha_mean\":{\"__ndarray__\":\"j8L1KFyPCkCuR+F6FK4NQFyPwvUoXBFAuB6F61G4CkBSuB6F61EKQNejcD0K1wtAPQrXo3A9BkC4HoXrUbgEQArXo3A9CgVAMzMzMzMzA0A=\",\"dtype\":\"float64\",\"shape\":[10]},\"Brecha_min\":{\"__ndarray__\":\"j8L1KFyPCkCuR+F6FK4NQFyPwvUoXBFAuB6F61G4CkBSuB6F61EKQNejcD0K1wtAPQrXo3A9BkC4HoXrUbgEQArXo3A9CgVAMzMzMzMzA0A=\",\"dtype\":\"float64\",\"shape\":[10]},\"Brecha_std\":{\"__ndarray__\":\"AAAAAAAA+H8AAAAAAAD4fwAAAAAAAPh/AAAAAAAA+H8AAAAAAAD4fwAAAAAAAPh/AAAAAAAA+H8AAAAAAAD4fwAAAAAAAPh/AAAAAAAA+H8=\",\"dtype\":\"float64\",\"shape\":[10]},\"Incidencia_25%\":{\"__ndarray__\":\"ZmZmZmbmJEBSuB6F61EmQIXrUbgeBSpAKVyPwvWoJEBxPQrXo/AhQDMzMzMzsyVA16NwPQrXIUB7FK5H4XofQOxRuB6F6x9AZmZmZmZmHUA=\",\"dtype\":\"float64\",\"shape\":[10]},\"Incidencia_50%\":{\"__ndarray__\":\"ZmZmZmbmJEBSuB6F61EmQIXrUbgeBSpAKVyPwvWoJEBxPQrXo/AhQDMzMzMzsyVA16NwPQrXIUB7FK5H4XofQOxRuB6F6x9AZmZmZmZmHUA=\",\"dtype\":\"float64\",\"shape\":[10]},\"Incidencia_75%\":{\"__ndarray__\":\"ZmZmZmbmJEBSuB6F61EmQIXrUbgeBSpAKVyPwvWoJEBxPQrXo/AhQDMzMzMzsyVA16NwPQrXIUB7FK5H4XofQOxRuB6F6x9AZmZmZmZmHUA=\",\"dtype\":\"float64\",\"shape\":[10]},\"Incidencia_count\":{\"__ndarray__\":\"AAAAAAAA8D8AAAAAAADwPwAAAAAAAPA/AAAAAAAA8D8AAAAAAADwPwAAAAAAAPA/AAAAAAAA8D8AAAAAAADwPwAAAAAAAPA/AAAAAAAA8D8=\",\"dtype\":\"float64\",\"shape\":[10]},\"Incidencia_max\":{\"__ndarray__\":\"ZmZmZmbmJEBSuB6F61EmQIXrUbgeBSpAKVyPwvWoJEBxPQrXo/AhQDMzMzMzsyVA16NwPQrXIUB7FK5H4XofQOxRuB6F6x9AZmZmZmZmHUA=\",\"dtype\":\"float64\",\"shape\":[10]},\"Incidencia_mean\":{\"__ndarray__\":\"ZmZmZmbmJEBSuB6F61EmQIXrUbgeBSpAKVyPwvWoJEBxPQrXo/AhQDMzMzMzsyVA16NwPQrXIUB7FK5H4XofQOxRuB6F6x9AZmZmZmZmHUA=\",\"dtype\":\"float64\",\"shape\":[10]},\"Incidencia_min\":{\"__ndarray__\":\"ZmZmZmbmJEBSuB6F61EmQIXrUbgeBSpAKVyPwvWoJEBxPQrXo/AhQDMzMzMzsyVA16NwPQrXIUB7FK5H4XofQOxRuB6F6x9AZmZmZmZmHUA=\",\"dtype\":\"float64\",\"shape\":[10]},\"Incidencia_std\":{\"__ndarray__\":\"AAAAAAAA+H8AAAAAAAD4fwAAAAAAAPh/AAAAAAAA+H8AAAAAAAD4fwAAAAAAAPh/AAAAAAAA+H8AAAAAAAD4fwAAAAAAAPh/AAAAAAAA+H8=\",\"dtype\":\"float64\",\"shape\":[10]},\"Severidad_25%\":{\"__ndarray__\":\"KVyPwvUo/D+F61G4HoX/P3sUrkfhegJA9ihcj8L1/D9xPQrXo3D5P/YoXI/C9fg/PQrXo3A99j/NzMzMzMz0P3E9CtejcPU/rkfhehSu8z8=\",\"dtype\":\"float64\",\"shape\":[10]},\"Severidad_50%\":{\"__ndarray__\":\"KVyPwvUo/D+F61G4HoX/P3sUrkfhegJA9ihcj8L1/D9xPQrXo3D5P/YoXI/C9fg/PQrXo3A99j/NzMzMzMz0P3E9CtejcPU/rkfhehSu8z8=\",\"dtype\":\"float64\",\"shape\":[10]},\"Severidad_75%\":{\"__ndarray__\":\"KVyPwvUo/D+F61G4HoX/P3sUrkfhegJA9ihcj8L1/D9xPQrXo3D5P/YoXI/C9fg/PQrXo3A99j/NzMzMzMz0P3E9CtejcPU/rkfhehSu8z8=\",\"dtype\":\"float64\",\"shape\":[10]},\"Severidad_count\":{\"__ndarray__\":\"AAAAAAAA8D8AAAAAAADwPwAAAAAAAPA/AAAAAAAA8D8AAAAAAADwPwAAAAAAAPA/AAAAAAAA8D8AAAAAAADwPwAAAAAAAPA/AAAAAAAA8D8=\",\"dtype\":\"float64\",\"shape\":[10]},\"Severidad_max\":{\"__ndarray__\":\"KVyPwvUo/D+F61G4HoX/P3sUrkfhegJA9ihcj8L1/D9xPQrXo3D5P/YoXI/C9fg/PQrXo3A99j/NzMzMzMz0P3E9CtejcPU/rkfhehSu8z8=\",\"dtype\":\"float64\",\"shape\":[10]},\"Severidad_mean\":{\"__ndarray__\":\"KVyPwvUo/D+F61G4HoX/P3sUrkfhegJA9ihcj8L1/D9xPQrXo3D5P/YoXI/C9fg/PQrXo3A99j/NzMzMzMz0P3E9CtejcPU/rkfhehSu8z8=\",\"dtype\":\"float64\",\"shape\":[10]},\"Severidad_min\":{\"__ndarray__\":\"KVyPwvUo/D+F61G4HoX/P3sUrkfhegJA9ihcj8L1/D9xPQrXo3D5P/YoXI/C9fg/PQrXo3A99j/NzMzMzMz0P3E9CtejcPU/rkfhehSu8z8=\",\"dtype\":\"float64\",\"shape\":[10]},\"Severidad_std\":{\"__ndarray__\":\"AAAAAAAA+H8AAAAAAAD4fwAAAAAAAPh/AAAAAAAA+H8AAAAAAAD4fwAAAAAAAPh/AAAAAAAA+H8AAAAAAAD4fwAAAAAAAPh/AAAAAAAA+H8=\",\"dtype\":\"float64\",\"shape\":[10]}}},\"id\":\"b8176b16-f79f-4b0a-9b4f-2f143ed4f253\",\"type\":\"ColumnDataSource\"},{\"attributes\":{\"data_source\":{\"id\":\"b8176b16-f79f-4b0a-9b4f-2f143ed4f253\",\"type\":\"ColumnDataSource\"},\"glyph\":{\"id\":\"d503d92f-3fe8-4752-9177-50232c5e9057\",\"type\":\"Line\"},\"hover_glyph\":null,\"muted_glyph\":null,\"nonselection_glyph\":{\"id\":\"ea1ca584-bd50-4f53-96c7-5dd96be350d6\",\"type\":\"Line\"},\"selection_glyph\":null,\"view\":{\"id\":\"76138d24-36a5-4a57-b31e-21e046fa322f\",\"type\":\"CDSView\"}},\"id\":\"ad462b5d-7f1d-462d-893f-393f63af2671\",\"type\":\"GlyphRenderer\"},{\"attributes\":{\"callback\":null},\"id\":\"760b756d-dfa1-4f6c-9fcf-46968227ad55\",\"type\":\"DataRange1d\"},{\"attributes\":{},\"id\":\"543e9cd4-9b5f-4fce-b699-4c21fc792050\",\"type\":\"CategoricalTicker\"},{\"attributes\":{\"label\":{\"value\":\"Incidencia\"},\"renderers\":[{\"id\":\"ad462b5d-7f1d-462d-893f-393f63af2671\",\"type\":\"GlyphRenderer\"}]},\"id\":\"64f01e01-75ed-4849-982d-00c20b5533d7\",\"type\":\"LegendItem\"},{\"attributes\":{\"bottom_units\":\"screen\",\"fill_alpha\":{\"value\":0.5},\"fill_color\":{\"value\":\"lightgrey\"},\"left_units\":\"screen\",\"level\":\"overlay\",\"line_alpha\":{\"value\":1.0},\"line_color\":{\"value\":\"black\"},\"line_dash\":[4,4],\"line_width\":{\"value\":2},\"plot\":null,\"render_mode\":\"css\",\"right_units\":\"screen\",\"top_units\":\"screen\"},\"id\":\"fd0ec113-d227-473c-83a0-779d4ed76c13\",\"type\":\"BoxAnnotation\"},{\"attributes\":{\"overlay\":{\"id\":\"fd0ec113-d227-473c-83a0-779d4ed76c13\",\"type\":\"BoxAnnotation\"}},\"id\":\"3967a3b1-c8d2-42ae-a4f6-6d74ca882b6e\",\"type\":\"BoxZoomTool\"},{\"attributes\":{\"source\":{\"id\":\"b8176b16-f79f-4b0a-9b4f-2f143ed4f253\",\"type\":\"ColumnDataSource\"}},\"id\":\"051a32ae-0ae1-4d53-937c-fd0972e0f150\",\"type\":\"CDSView\"},{\"attributes\":{},\"id\":\"db2a01e4-ed99-40e9-84d6-abc6b1ac5fb3\",\"type\":\"ResetTool\"},{\"attributes\":{\"items\":[{\"id\":\"64f01e01-75ed-4849-982d-00c20b5533d7\",\"type\":\"LegendItem\"},{\"id\":\"c1fda2a6-e4cd-419b-b3d8-994137538ad3\",\"type\":\"LegendItem\"},{\"id\":\"65d0a651-ecae-41b2-a5a4-9290c2a44806\",\"type\":\"LegendItem\"}],\"plot\":{\"id\":\"f266d6e9-edd4-42a9-ae2a-47ec2d62ea2e\",\"subtype\":\"Figure\",\"type\":\"Plot\"}},\"id\":\"3478418f-ef59-4a0c-b909-35f2480333bc\",\"type\":\"Legend\"},{\"attributes\":{\"plot\":null,\"text\":\"POBREZA-QUITO\"},\"id\":\"7e350f3f-0b62-4002-a4c1-252a61f3823b\",\"type\":\"Title\"},{\"attributes\":{\"data_source\":{\"id\":\"b8176b16-f79f-4b0a-9b4f-2f143ed4f253\",\"type\":\"ColumnDataSource\"},\"glyph\":{\"id\":\"148a53d4-5961-42a8-922d-270d01dbecd7\",\"type\":\"Line\"},\"hover_glyph\":null,\"muted_glyph\":null,\"nonselection_glyph\":{\"id\":\"acbf37a2-ebe6-4e7e-860c-ee35bed65ac7\",\"type\":\"Line\"},\"selection_glyph\":null,\"view\":{\"id\":\"a53bad07-b250-4079-9c9f-36be077672de\",\"type\":\"CDSView\"}},\"id\":\"f9c871a3-d9f9-4647-9114-01191d0dafb1\",\"type\":\"GlyphRenderer\"},{\"attributes\":{\"line_alpha\":{\"value\":0.1},\"line_color\":{\"value\":\"#1f77b4\"},\"line_width\":{\"value\":5},\"x\":{\"field\":\"Anios\"},\"y\":{\"field\":\"Brecha_mean\"}},\"id\":\"acbf37a2-ebe6-4e7e-860c-ee35bed65ac7\",\"type\":\"Line\"},{\"attributes\":{},\"id\":\"fe795004-0c8b-4397-9fe2-9268015d7f4d\",\"type\":\"CategoricalTickFormatter\"},{\"attributes\":{},\"id\":\"ffd1dcf2-2cf7-4c45-85e4-cbf51fa96b1e\",\"type\":\"PanTool\"},{\"attributes\":{\"label\":{\"value\":\"Severidad\"},\"renderers\":[{\"id\":\"63b011d5-a20e-407f-9be6-9aa5f76e1800\",\"type\":\"GlyphRenderer\"}]},\"id\":\"65d0a651-ecae-41b2-a5a4-9290c2a44806\",\"type\":\"LegendItem\"},{\"attributes\":{\"formatter\":{\"id\":\"fe795004-0c8b-4397-9fe2-9268015d7f4d\",\"type\":\"CategoricalTickFormatter\"},\"plot\":{\"id\":\"f266d6e9-edd4-42a9-ae2a-47ec2d62ea2e\",\"subtype\":\"Figure\",\"type\":\"Plot\"},\"ticker\":{\"id\":\"543e9cd4-9b5f-4fce-b699-4c21fc792050\",\"type\":\"CategoricalTicker\"}},\"id\":\"392cb3e9-5ad7-4b01-a825-b729388a7b59\",\"type\":\"CategoricalAxis\"},{\"attributes\":{\"line_color\":{\"value\":\"#f44171\"},\"line_width\":{\"value\":5},\"x\":{\"field\":\"Anios\"},\"y\":{\"field\":\"Severidad_mean\"}},\"id\":\"97828fd1-b287-4208-8199-fdf9ef149090\",\"type\":\"Line\"},{\"attributes\":{\"line_color\":{\"value\":\"#f4d341\"},\"line_width\":{\"value\":5},\"x\":{\"field\":\"Anios\"},\"y\":{\"field\":\"Incidencia_mean\"}},\"id\":\"d503d92f-3fe8-4752-9177-50232c5e9057\",\"type\":\"Line\"},{\"attributes\":{\"formatter\":{\"id\":\"3c3b3eaf-2057-4666-ac20-eec55d26b6b6\",\"type\":\"BasicTickFormatter\"},\"plot\":{\"id\":\"f266d6e9-edd4-42a9-ae2a-47ec2d62ea2e\",\"subtype\":\"Figure\",\"type\":\"Plot\"},\"ticker\":{\"id\":\"04dcdc05-2874-4c8e-808d-c741e0f84a3e\",\"type\":\"BasicTicker\"}},\"id\":\"48fda724-cd10-4eae-86da-702491df4367\",\"type\":\"LinearAxis\"},{\"attributes\":{},\"id\":\"0fbe8f6f-0124-4232-b13d-70821a2d4aaf\",\"type\":\"WheelZoomTool\"},{\"attributes\":{\"grid_line_color\":{\"value\":null},\"plot\":{\"id\":\"f266d6e9-edd4-42a9-ae2a-47ec2d62ea2e\",\"subtype\":\"Figure\",\"type\":\"Plot\"},\"ticker\":{\"id\":\"543e9cd4-9b5f-4fce-b699-4c21fc792050\",\"type\":\"CategoricalTicker\"}},\"id\":\"db740b9f-2182-4852-a15d-7cd893e4aed3\",\"type\":\"Grid\"},{\"attributes\":{},\"id\":\"04dcdc05-2874-4c8e-808d-c741e0f84a3e\",\"type\":\"BasicTicker\"},{\"attributes\":{},\"id\":\"6da3bf99-072a-48f8-895e-0737670fd8bf\",\"type\":\"LinearScale\"},{\"attributes\":{\"line_color\":{\"value\":\"#42f4bf\"},\"line_width\":{\"value\":5},\"x\":{\"field\":\"Anios\"},\"y\":{\"field\":\"Brecha_mean\"}},\"id\":\"148a53d4-5961-42a8-922d-270d01dbecd7\",\"type\":\"Line\"},{\"attributes\":{\"below\":[{\"id\":\"392cb3e9-5ad7-4b01-a825-b729388a7b59\",\"type\":\"CategoricalAxis\"}],\"left\":[{\"id\":\"48fda724-cd10-4eae-86da-702491df4367\",\"type\":\"LinearAxis\"}],\"plot_height\":400,\"plot_width\":900,\"renderers\":[{\"id\":\"392cb3e9-5ad7-4b01-a825-b729388a7b59\",\"type\":\"CategoricalAxis\"},{\"id\":\"db740b9f-2182-4852-a15d-7cd893e4aed3\",\"type\":\"Grid\"},{\"id\":\"48fda724-cd10-4eae-86da-702491df4367\",\"type\":\"LinearAxis\"},{\"id\":\"5249598d-9bbf-4408-922d-5e02a3420b72\",\"type\":\"Grid\"},{\"id\":\"fd0ec113-d227-473c-83a0-779d4ed76c13\",\"type\":\"BoxAnnotation\"},{\"id\":\"3478418f-ef59-4a0c-b909-35f2480333bc\",\"type\":\"Legend\"},{\"id\":\"ad462b5d-7f1d-462d-893f-393f63af2671\",\"type\":\"GlyphRenderer\"},{\"id\":\"f9c871a3-d9f9-4647-9114-01191d0dafb1\",\"type\":\"GlyphRenderer\"},{\"id\":\"63b011d5-a20e-407f-9be6-9aa5f76e1800\",\"type\":\"GlyphRenderer\"}],\"title\":{\"id\":\"7e350f3f-0b62-4002-a4c1-252a61f3823b\",\"type\":\"Title\"},\"toolbar\":{\"id\":\"61bd446f-ec10-463d-b8d0-19e6e39cd9a9\",\"type\":\"Toolbar\"},\"x_range\":{\"id\":\"35f0eb62-763f-4542-ba2f-2385c59e3808\",\"type\":\"FactorRange\"},\"x_scale\":{\"id\":\"74bfca15-bfe8-4978-8bc5-bf2134d96964\",\"type\":\"CategoricalScale\"},\"y_range\":{\"id\":\"760b756d-dfa1-4f6c-9fcf-46968227ad55\",\"type\":\"DataRange1d\"},\"y_scale\":{\"id\":\"6da3bf99-072a-48f8-895e-0737670fd8bf\",\"type\":\"LinearScale\"}},\"id\":\"f266d6e9-edd4-42a9-ae2a-47ec2d62ea2e\",\"subtype\":\"Figure\",\"type\":\"Plot\"},{\"attributes\":{\"source\":{\"id\":\"b8176b16-f79f-4b0a-9b4f-2f143ed4f253\",\"type\":\"ColumnDataSource\"}},\"id\":\"76138d24-36a5-4a57-b31e-21e046fa322f\",\"type\":\"CDSView\"},{\"attributes\":{\"label\":{\"value\":\"Brecha\"},\"renderers\":[{\"id\":\"f9c871a3-d9f9-4647-9114-01191d0dafb1\",\"type\":\"GlyphRenderer\"}]},\"id\":\"c1fda2a6-e4cd-419b-b3d8-994137538ad3\",\"type\":\"LegendItem\"},{\"attributes\":{\"dimension\":1,\"grid_line_color\":{\"value\":null},\"plot\":{\"id\":\"f266d6e9-edd4-42a9-ae2a-47ec2d62ea2e\",\"subtype\":\"Figure\",\"type\":\"Plot\"},\"ticker\":{\"id\":\"04dcdc05-2874-4c8e-808d-c741e0f84a3e\",\"type\":\"BasicTicker\"}},\"id\":\"5249598d-9bbf-4408-922d-5e02a3420b72\",\"type\":\"Grid\"},{\"attributes\":{\"source\":{\"id\":\"b8176b16-f79f-4b0a-9b4f-2f143ed4f253\",\"type\":\"ColumnDataSource\"}},\"id\":\"a53bad07-b250-4079-9c9f-36be077672de\",\"type\":\"CDSView\"},{\"attributes\":{\"data_source\":{\"id\":\"b8176b16-f79f-4b0a-9b4f-2f143ed4f253\",\"type\":\"ColumnDataSource\"},\"glyph\":{\"id\":\"97828fd1-b287-4208-8199-fdf9ef149090\",\"type\":\"Line\"},\"hover_glyph\":null,\"muted_glyph\":null,\"nonselection_glyph\":{\"id\":\"9cc91d4a-a331-489a-89e4-fae670bf7ca0\",\"type\":\"Line\"},\"selection_glyph\":null,\"view\":{\"id\":\"051a32ae-0ae1-4d53-937c-fd0972e0f150\",\"type\":\"CDSView\"}},\"id\":\"63b011d5-a20e-407f-9be6-9aa5f76e1800\",\"type\":\"GlyphRenderer\"},{\"attributes\":{},\"id\":\"3c3b3eaf-2057-4666-ac20-eec55d26b6b6\",\"type\":\"BasicTickFormatter\"},{\"attributes\":{\"active_drag\":\"auto\",\"active_inspect\":\"auto\",\"active_scroll\":\"auto\",\"active_tap\":\"auto\",\"tools\":[{\"id\":\"ffd1dcf2-2cf7-4c45-85e4-cbf51fa96b1e\",\"type\":\"PanTool\"},{\"id\":\"0fbe8f6f-0124-4232-b13d-70821a2d4aaf\",\"type\":\"WheelZoomTool\"},{\"id\":\"3967a3b1-c8d2-42ae-a4f6-6d74ca882b6e\",\"type\":\"BoxZoomTool\"},{\"id\":\"13945f5c-57af-4cdf-b6d4-64f24fac61fa\",\"type\":\"SaveTool\"},{\"id\":\"db2a01e4-ed99-40e9-84d6-abc6b1ac5fb3\",\"type\":\"ResetTool\"},{\"id\":\"f0ec2f67-1f53-4487-b5ca-506ece22da75\",\"type\":\"HelpTool\"}]},\"id\":\"61bd446f-ec10-463d-b8d0-19e6e39cd9a9\",\"type\":\"Toolbar\"},{\"attributes\":{},\"id\":\"74bfca15-bfe8-4978-8bc5-bf2134d96964\",\"type\":\"CategoricalScale\"},{\"attributes\":{\"callback\":null,\"factors\":[\"2008\",\"2009\",\"2010\",\"2011\",\"2012\",\"2013\",\"2014\",\"2015\",\"2016\",\"2017\"]},\"id\":\"35f0eb62-763f-4542-ba2f-2385c59e3808\",\"type\":\"FactorRange\"},{\"attributes\":{},\"id\":\"f0ec2f67-1f53-4487-b5ca-506ece22da75\",\"type\":\"HelpTool\"},{\"attributes\":{\"line_alpha\":{\"value\":0.1},\"line_color\":{\"value\":\"#1f77b4\"},\"line_width\":{\"value\":5},\"x\":{\"field\":\"Anios\"},\"y\":{\"field\":\"Incidencia_mean\"}},\"id\":\"ea1ca584-bd50-4f53-96c7-5dd96be350d6\",\"type\":\"Line\"}],\"root_ids\":[\"f266d6e9-edd4-42a9-ae2a-47ec2d62ea2e\"]},\"title\":\"Bokeh Application\",\"version\":\"0.12.10\"}};\n",
       "    var render_items = [{\"docid\":\"9eff3afe-a422-4e87-a54c-bd3d2042bd8f\",\"elementid\":\"bd06c4b7-99c4-4c00-a027-7c99ee9960eb\",\"modelid\":\"f266d6e9-edd4-42a9-ae2a-47ec2d62ea2e\"}];\n",
       "\n",
       "    root.Bokeh.embed.embed_items(docs_json, render_items);\n",
       "  }\n",
       "\n",
       "  if (root.Bokeh !== undefined) {\n",
       "    embed_document(root);\n",
       "  } else {\n",
       "    var attempts = 0;\n",
       "    var timer = setInterval(function(root) {\n",
       "      if (root.Bokeh !== undefined) {\n",
       "        embed_document(root);\n",
       "        clearInterval(timer);\n",
       "      }\n",
       "      attempts++;\n",
       "      if (attempts > 100) {\n",
       "        console.log(\"Bokeh: ERROR: Unable to embed document because BokehJS library is missing\")\n",
       "        clearInterval(timer);\n",
       "      }\n",
       "    }, 10, root)\n",
       "  }\n",
       "})(window);"
      ],
      "application/vnd.bokehjs_exec.v0+json": ""
     },
     "metadata": {
      "application/vnd.bokehjs_exec.v0+json": {
       "id": "f266d6e9-edd4-42a9-ae2a-47ec2d62ea2e"
      }
     },
     "output_type": "display_data"
    }
   ],
   "source": [
    "group1 = data.groupby('Anios')\n",
    "source = ColumnDataSource(group1)\n",
    "\n",
    "# Características que tendrá nuestra grafica\n",
    "graph_line = figure(\n",
    "    plot_height=400, # ancho\n",
    "    plot_width=900, # alto\n",
    "    x_range=group1,\n",
    "    title='POBREZA-QUITO' # titulo\n",
    ")\n",
    "\n",
    "# Definimos los datos que representara cada \"Línea\", y otras opciones como color y leyenda\n",
    "graph_line.line(\n",
    "    x='Anios', # datos en x\n",
    "    y='Incidencia_mean', # datos en y\n",
    "    color='#f4d341', # color de las líneas\n",
    "    legend='Incidencia', # leyenda que representa nuestra grafica\n",
    "    line_width=5,\n",
    "    source=source\n",
    ")\n",
    "graph_line.line(\n",
    "    x='Anios', y='Brecha_mean', color='#42f4bf', legend='Brecha',line_width=5,source=source\n",
    ")\n",
    "graph_line.line(\n",
    "    x='Anios', y='Severidad_mean', color='#f44171', legend='Severidad',line_width=5,source=source\n",
    ")\n",
    "\n",
    "# Para no mostramos los trazados del plano y presentamos nuestra grafica\n",
    "graph_line.xgrid.grid_line_color = None # eliminamos las lineas verticales\n",
    "graph_line.ygrid.grid_line_color = None # horizontales\n",
    "\n",
    "show(graph_line) # mostramos nuestra grafica"
   ]
  },
  {
   "cell_type": "markdown",
   "metadata": {},
   "source": [
    "**En esta gráfica, podemos observar la pobreza recuerdo con la incidencia, que desde el año 2008 al 2010, tiene una mayoría de pobreza y del 2010 al 2012 a disminuido de la misma, y del 2012 en adelante sido desmullendo la pobreza, mientras que la pobreza recuerdo con la brecha, casi se aumentado en un rango mínimo, desde el año 2008 al 2016, y por último la pobreza de acuerdo con la serenidad no ha existido un rango alto de pobreza, si no que se ha ido manteniendo en un porcentaje medio.**"
   ]
  },
  {
   "cell_type": "markdown",
   "metadata": {},
   "source": [
    "## Gráfico de barras"
   ]
  },
  {
   "cell_type": "code",
   "execution_count": 15,
   "metadata": {},
   "outputs": [
    {
     "data": {
      "text/html": [
       "\n",
       "<div class=\"bk-root\">\n",
       "    <div class=\"bk-plotdiv\" id=\"eac54699-b9ae-4549-8b07-4f7a619aa161\"></div>\n",
       "</div>"
      ]
     },
     "metadata": {},
     "output_type": "display_data"
    },
    {
     "data": {
      "application/javascript": [
       "(function(root) {\n",
       "  function embed_document(root) {\n",
       "    var docs_json = {\"3f3f933f-dcab-4629-85ba-cc765a4d4902\":{\"roots\":{\"references\":[{\"attributes\":{\"children\":[{\"id\":\"41f8577e-bd31-43e6-8220-5c93f6c9e8a6\",\"type\":\"ToolbarBox\"},{\"id\":\"525d3683-2f09-4865-8db4-111a77bbaf1f\",\"type\":\"Column\"}]},\"id\":\"238a8383-36ef-4058-9696-5a8b92f35d5e\",\"type\":\"Column\"},{\"attributes\":{\"callback\":null,\"factors\":[\"2008\",\"2009\",\"2010\",\"2011\",\"2012\",\"2013\",\"2014\",\"2015\",\"2016\",\"2017\"]},\"id\":\"e9103cb7-f344-4f43-8d2b-bad4bdd240f9\",\"type\":\"FactorRange\"},{\"attributes\":{\"below\":[{\"id\":\"a2818f34-7d87-4357-8435-4ef94cc3c134\",\"type\":\"CategoricalAxis\"}],\"left\":[{\"id\":\"f4107ea6-f708-4848-815f-33b0cd11bcc6\",\"type\":\"LinearAxis\"}],\"plot_height\":300,\"plot_width\":300,\"renderers\":[{\"id\":\"a2818f34-7d87-4357-8435-4ef94cc3c134\",\"type\":\"CategoricalAxis\"},{\"id\":\"0ea30d91-cf8f-4cb5-8ea9-60f5ad324874\",\"type\":\"Grid\"},{\"id\":\"f4107ea6-f708-4848-815f-33b0cd11bcc6\",\"type\":\"LinearAxis\"},{\"id\":\"600100ab-b629-4357-8915-40e5332ec5fa\",\"type\":\"Grid\"},{\"id\":\"9187e3fa-6835-4ccd-8875-2f64b4f95c8c\",\"type\":\"BoxAnnotation\"},{\"id\":\"64ab7bea-aa00-4109-adf0-89399958b76e\",\"type\":\"GlyphRenderer\"}],\"title\":{\"id\":\"6362e404-b903-42d1-9f03-6b63aa4b6ae5\",\"type\":\"Title\"},\"toolbar\":{\"id\":\"525081e7-032c-43f3-b455-b68dc6669b99\",\"type\":\"Toolbar\"},\"toolbar_location\":null,\"x_range\":{\"id\":\"a90b10e6-d912-47b4-8140-bd72667da4ce\",\"type\":\"FactorRange\"},\"x_scale\":{\"id\":\"c9316bf8-ef6d-4630-a480-4867c8cf711c\",\"type\":\"CategoricalScale\"},\"y_range\":{\"id\":\"71d37dab-4cff-419f-a49d-b738087f3e2d\",\"type\":\"DataRange1d\"},\"y_scale\":{\"id\":\"3eee88d2-ad5c-432f-8467-79dc8579f6b7\",\"type\":\"LinearScale\"}},\"id\":\"a1e528d7-409e-46aa-a9b0-b573cbc61dc1\",\"subtype\":\"Figure\",\"type\":\"Plot\"},{\"attributes\":{\"source\":{\"id\":\"b2c86106-12b0-4619-b58e-03d9fde4b690\",\"type\":\"ColumnDataSource\"}},\"id\":\"1e7cec6a-ec6b-4855-80a2-50835c307cc1\",\"type\":\"CDSView\"},{\"attributes\":{\"callback\":null,\"factors\":[\"2008\",\"2009\",\"2010\",\"2011\",\"2012\",\"2013\",\"2014\",\"2015\",\"2016\",\"2017\"]},\"id\":\"d7a6a066-03a4-4469-a3f4-6588b987c05e\",\"type\":\"FactorRange\"},{\"attributes\":{\"active_drag\":\"auto\",\"active_inspect\":\"auto\",\"active_scroll\":\"auto\",\"active_tap\":\"auto\",\"tools\":[{\"id\":\"36225841-7af1-42ef-9dbf-4d91a942138a\",\"type\":\"PanTool\"},{\"id\":\"16f4a09a-25e0-48ef-aa6e-e11d818f44eb\",\"type\":\"WheelZoomTool\"},{\"id\":\"da9d43fa-4cad-49fd-bc8c-e209ea812a96\",\"type\":\"BoxZoomTool\"},{\"id\":\"ffe515dd-e3ee-4cce-bca2-f5f786c7f388\",\"type\":\"SaveTool\"},{\"id\":\"6c5d9df2-7ae7-4b9d-b876-4244216fefd5\",\"type\":\"ResetTool\"},{\"id\":\"4e1c1588-073e-466a-8c3f-3e045bed643a\",\"type\":\"HelpTool\"}]},\"id\":\"180356cc-ce96-45df-828c-7698a693e98f\",\"type\":\"Toolbar\"},{\"attributes\":{\"source\":{\"id\":\"b2c86106-12b0-4619-b58e-03d9fde4b690\",\"type\":\"ColumnDataSource\"}},\"id\":\"723f44c2-c42d-4239-a93e-3a8c6a38d24c\",\"type\":\"CDSView\"},{\"attributes\":{\"children\":[{\"id\":\"1dc6def6-eaad-4513-81da-2e9518a19f08\",\"subtype\":\"Figure\",\"type\":\"Plot\"},{\"id\":\"a1e528d7-409e-46aa-a9b0-b573cbc61dc1\",\"subtype\":\"Figure\",\"type\":\"Plot\"},{\"id\":\"139d043e-f379-4f26-afe5-5144048ddf3a\",\"subtype\":\"Figure\",\"type\":\"Plot\"}]},\"id\":\"426ceb9d-73d8-40d2-9fcf-e9425436403f\",\"type\":\"Row\"},{\"attributes\":{},\"id\":\"6c5e7ac3-1bbc-4e07-8dae-e7cdf5f2fefa\",\"type\":\"BasicTicker\"},{\"attributes\":{},\"id\":\"100c032f-499f-4cc6-a654-13a54cae29e5\",\"type\":\"CategoricalScale\"},{\"attributes\":{},\"id\":\"4deeb70a-4385-4741-8a15-44f9450aaeee\",\"type\":\"LinearScale\"},{\"attributes\":{\"active_drag\":\"auto\",\"active_inspect\":\"auto\",\"active_scroll\":\"auto\",\"active_tap\":\"auto\",\"tools\":[{\"id\":\"cda7b568-cce2-4b06-9bee-a0ad5cfa0401\",\"type\":\"PanTool\"},{\"id\":\"c4cd6319-aeb3-40c8-9993-a1e5f5ae315f\",\"type\":\"WheelZoomTool\"},{\"id\":\"0a3ef47d-f3e0-4ecd-bb06-509ebe24bf92\",\"type\":\"BoxZoomTool\"},{\"id\":\"a8b3d5b6-3a98-4bac-875c-bced95e0a839\",\"type\":\"SaveTool\"},{\"id\":\"e20979fe-47db-4ba1-8761-8850b0767a04\",\"type\":\"ResetTool\"},{\"id\":\"eb05e3dc-0ac6-47af-af8e-afffcc6c9409\",\"type\":\"HelpTool\"}]},\"id\":\"76b9b181-f9c0-4e3a-8a82-a036aaab7bf7\",\"type\":\"Toolbar\"},{\"attributes\":{\"source\":{\"id\":\"b2c86106-12b0-4619-b58e-03d9fde4b690\",\"type\":\"ColumnDataSource\"}},\"id\":\"b828053c-daa4-4357-97da-0c919c794e38\",\"type\":\"CDSView\"},{\"attributes\":{},\"id\":\"9507b717-6dd7-4652-be90-e6efcfd0118a\",\"type\":\"PanTool\"},{\"attributes\":{\"plot\":null,\"text\":\"Brecha\"},\"id\":\"6362e404-b903-42d1-9f03-6b63aa4b6ae5\",\"type\":\"Title\"},{\"attributes\":{\"bottom_units\":\"screen\",\"fill_alpha\":{\"value\":0.5},\"fill_color\":{\"value\":\"lightgrey\"},\"left_units\":\"screen\",\"level\":\"overlay\",\"line_alpha\":{\"value\":1.0},\"line_color\":{\"value\":\"black\"},\"line_dash\":[4,4],\"line_width\":{\"value\":2},\"plot\":null,\"render_mode\":\"css\",\"right_units\":\"screen\",\"top_units\":\"screen\"},\"id\":\"8579f8b1-9890-43b8-8445-2b53b234ad49\",\"type\":\"BoxAnnotation\"},{\"attributes\":{\"bottom_units\":\"screen\",\"fill_alpha\":{\"value\":0.5},\"fill_color\":{\"value\":\"lightgrey\"},\"left_units\":\"screen\",\"level\":\"overlay\",\"line_alpha\":{\"value\":1.0},\"line_color\":{\"value\":\"black\"},\"line_dash\":[4,4],\"line_width\":{\"value\":2},\"plot\":null,\"render_mode\":\"css\",\"right_units\":\"screen\",\"top_units\":\"screen\"},\"id\":\"9187e3fa-6835-4ccd-8875-2f64b4f95c8c\",\"type\":\"BoxAnnotation\"},{\"attributes\":{\"formatter\":{\"id\":\"5a8c5214-bb4f-433c-a9ef-95c36c99e8f3\",\"type\":\"CategoricalTickFormatter\"},\"plot\":{\"id\":\"a1e528d7-409e-46aa-a9b0-b573cbc61dc1\",\"subtype\":\"Figure\",\"type\":\"Plot\"},\"ticker\":{\"id\":\"d5311ae0-def5-42b1-b3db-965d1066fdf4\",\"type\":\"CategoricalTicker\"}},\"id\":\"a2818f34-7d87-4357-8435-4ef94cc3c134\",\"type\":\"CategoricalAxis\"},{\"attributes\":{\"fill_color\":{\"value\":\"#f44171\"},\"line_color\":{\"value\":\"white\"},\"top\":{\"field\":\"Severidad_mean\"},\"width\":{\"value\":0.7},\"x\":{\"field\":\"Anios\"}},\"id\":\"ddcb8584-1be6-4941-8f44-98ad4e9bdb1b\",\"type\":\"VBar\"},{\"attributes\":{\"children\":[{\"id\":\"426ceb9d-73d8-40d2-9fcf-e9425436403f\",\"type\":\"Row\"}]},\"id\":\"525d3683-2f09-4865-8db4-111a77bbaf1f\",\"type\":\"Column\"},{\"attributes\":{},\"id\":\"e20979fe-47db-4ba1-8761-8850b0767a04\",\"type\":\"ResetTool\"},{\"attributes\":{\"formatter\":{\"id\":\"2c72204d-a200-4319-b088-4589184b6fda\",\"type\":\"BasicTickFormatter\"},\"plot\":{\"id\":\"139d043e-f379-4f26-afe5-5144048ddf3a\",\"subtype\":\"Figure\",\"type\":\"Plot\"},\"ticker\":{\"id\":\"416f3e99-86e8-4cf1-9329-836c56f81829\",\"type\":\"BasicTicker\"}},\"id\":\"d9366dfd-8abe-42c5-b218-39c4bcf4eed3\",\"type\":\"LinearAxis\"},{\"attributes\":{\"plot\":{\"id\":\"1dc6def6-eaad-4513-81da-2e9518a19f08\",\"subtype\":\"Figure\",\"type\":\"Plot\"},\"ticker\":{\"id\":\"b1747683-e857-4d8b-8170-99d05194eb7c\",\"type\":\"CategoricalTicker\"}},\"id\":\"ca4d638b-b9f5-4e55-aa69-ee737340a124\",\"type\":\"Grid\"},{\"attributes\":{\"formatter\":{\"id\":\"363c025d-ef67-45b5-9d6b-e14cbe52db48\",\"type\":\"CategoricalTickFormatter\"},\"plot\":{\"id\":\"139d043e-f379-4f26-afe5-5144048ddf3a\",\"subtype\":\"Figure\",\"type\":\"Plot\"},\"ticker\":{\"id\":\"c13be755-916c-4198-a0c7-ac60d44a155c\",\"type\":\"CategoricalTicker\"}},\"id\":\"08216a05-9938-493e-a89d-1558ff9c06d3\",\"type\":\"CategoricalAxis\"},{\"attributes\":{\"fill_color\":{\"value\":\"#42f4bf\"},\"line_color\":{\"value\":\"white\"},\"top\":{\"field\":\"Brecha_mean\"},\"width\":{\"value\":0.7},\"x\":{\"field\":\"Anios\"}},\"id\":\"a0ccccd0-93bf-4a08-b6f8-442b96a70b4a\",\"type\":\"VBar\"},{\"attributes\":{\"dimension\":1,\"plot\":{\"id\":\"139d043e-f379-4f26-afe5-5144048ddf3a\",\"subtype\":\"Figure\",\"type\":\"Plot\"},\"ticker\":{\"id\":\"416f3e99-86e8-4cf1-9329-836c56f81829\",\"type\":\"BasicTicker\"}},\"id\":\"9496ae67-bf3a-4a3a-9b07-2d9776a542e3\",\"type\":\"Grid\"},{\"attributes\":{\"below\":[{\"id\":\"377ca73c-8f57-4800-968c-d4be7339c6b2\",\"type\":\"CategoricalAxis\"}],\"left\":[{\"id\":\"403b964c-e5b0-4603-b311-e1ad7ea1f498\",\"type\":\"LinearAxis\"}],\"plot_height\":300,\"plot_width\":300,\"renderers\":[{\"id\":\"377ca73c-8f57-4800-968c-d4be7339c6b2\",\"type\":\"CategoricalAxis\"},{\"id\":\"ca4d638b-b9f5-4e55-aa69-ee737340a124\",\"type\":\"Grid\"},{\"id\":\"403b964c-e5b0-4603-b311-e1ad7ea1f498\",\"type\":\"LinearAxis\"},{\"id\":\"68c886bc-ef71-45c2-9fdf-48cd913c4777\",\"type\":\"Grid\"},{\"id\":\"8579f8b1-9890-43b8-8445-2b53b234ad49\",\"type\":\"BoxAnnotation\"},{\"id\":\"4f070012-1403-4a18-9ae8-88206ab1a824\",\"type\":\"GlyphRenderer\"}],\"title\":{\"id\":\"d10428be-d678-45d3-81c5-cde9794bcc2e\",\"type\":\"Title\"},\"toolbar\":{\"id\":\"76b9b181-f9c0-4e3a-8a82-a036aaab7bf7\",\"type\":\"Toolbar\"},\"toolbar_location\":null,\"x_range\":{\"id\":\"d7a6a066-03a4-4469-a3f4-6588b987c05e\",\"type\":\"FactorRange\"},\"x_scale\":{\"id\":\"6f1c480a-325e-4f02-a364-6fd540849df0\",\"type\":\"CategoricalScale\"},\"y_range\":{\"id\":\"5c3fbc31-0cfa-409f-9751-e48a2105c73e\",\"type\":\"DataRange1d\"},\"y_scale\":{\"id\":\"4deeb70a-4385-4741-8a15-44f9450aaeee\",\"type\":\"LinearScale\"}},\"id\":\"1dc6def6-eaad-4513-81da-2e9518a19f08\",\"subtype\":\"Figure\",\"type\":\"Plot\"},{\"attributes\":{\"callback\":null},\"id\":\"71d37dab-4cff-419f-a49d-b738087f3e2d\",\"type\":\"DataRange1d\"},{\"attributes\":{\"plot\":null,\"text\":\"Incidencia\"},\"id\":\"d10428be-d678-45d3-81c5-cde9794bcc2e\",\"type\":\"Title\"},{\"attributes\":{},\"id\":\"2c72204d-a200-4319-b088-4589184b6fda\",\"type\":\"BasicTickFormatter\"},{\"attributes\":{\"formatter\":{\"id\":\"fe9a1db0-9e54-4d16-9189-949853872638\",\"type\":\"CategoricalTickFormatter\"},\"plot\":{\"id\":\"1dc6def6-eaad-4513-81da-2e9518a19f08\",\"subtype\":\"Figure\",\"type\":\"Plot\"},\"ticker\":{\"id\":\"b1747683-e857-4d8b-8170-99d05194eb7c\",\"type\":\"CategoricalTicker\"}},\"id\":\"377ca73c-8f57-4800-968c-d4be7339c6b2\",\"type\":\"CategoricalAxis\"},{\"attributes\":{},\"id\":\"ac084b2d-a593-4146-9d6d-07ea41e0249b\",\"type\":\"BasicTickFormatter\"},{\"attributes\":{\"overlay\":{\"id\":\"9187e3fa-6835-4ccd-8875-2f64b4f95c8c\",\"type\":\"BoxAnnotation\"}},\"id\":\"c316fba4-7dfb-4909-a7d8-29b38543b4bf\",\"type\":\"BoxZoomTool\"},{\"attributes\":{\"callback\":null},\"id\":\"7b007435-60d9-452e-9416-bda44620bc7f\",\"type\":\"DataRange1d\"},{\"attributes\":{\"formatter\":{\"id\":\"ac084b2d-a593-4146-9d6d-07ea41e0249b\",\"type\":\"BasicTickFormatter\"},\"plot\":{\"id\":\"1dc6def6-eaad-4513-81da-2e9518a19f08\",\"subtype\":\"Figure\",\"type\":\"Plot\"},\"ticker\":{\"id\":\"6c5e7ac3-1bbc-4e07-8dae-e7cdf5f2fefa\",\"type\":\"BasicTicker\"}},\"id\":\"403b964c-e5b0-4603-b311-e1ad7ea1f498\",\"type\":\"LinearAxis\"},{\"attributes\":{\"sizing_mode\":\"scale_width\",\"toolbar_location\":\"above\",\"tools\":[{\"id\":\"cda7b568-cce2-4b06-9bee-a0ad5cfa0401\",\"type\":\"PanTool\"},{\"id\":\"c4cd6319-aeb3-40c8-9993-a1e5f5ae315f\",\"type\":\"WheelZoomTool\"},{\"id\":\"0a3ef47d-f3e0-4ecd-bb06-509ebe24bf92\",\"type\":\"BoxZoomTool\"},{\"id\":\"a8b3d5b6-3a98-4bac-875c-bced95e0a839\",\"type\":\"SaveTool\"},{\"id\":\"e20979fe-47db-4ba1-8761-8850b0767a04\",\"type\":\"ResetTool\"},{\"id\":\"eb05e3dc-0ac6-47af-af8e-afffcc6c9409\",\"type\":\"HelpTool\"},{\"id\":\"9507b717-6dd7-4652-be90-e6efcfd0118a\",\"type\":\"PanTool\"},{\"id\":\"8a56e238-3a21-4584-b6cc-869bd44c6607\",\"type\":\"WheelZoomTool\"},{\"id\":\"c316fba4-7dfb-4909-a7d8-29b38543b4bf\",\"type\":\"BoxZoomTool\"},{\"id\":\"789473a3-066b-4a2c-ab72-1fff7ffef9e6\",\"type\":\"SaveTool\"},{\"id\":\"25bebbbc-4c16-42ab-937e-4b293228cb0a\",\"type\":\"ResetTool\"},{\"id\":\"98313215-2f5a-446a-9dca-06fb6801b78d\",\"type\":\"HelpTool\"},{\"id\":\"36225841-7af1-42ef-9dbf-4d91a942138a\",\"type\":\"PanTool\"},{\"id\":\"16f4a09a-25e0-48ef-aa6e-e11d818f44eb\",\"type\":\"WheelZoomTool\"},{\"id\":\"da9d43fa-4cad-49fd-bc8c-e209ea812a96\",\"type\":\"BoxZoomTool\"},{\"id\":\"ffe515dd-e3ee-4cce-bca2-f5f786c7f388\",\"type\":\"SaveTool\"},{\"id\":\"6c5d9df2-7ae7-4b9d-b876-4244216fefd5\",\"type\":\"ResetTool\"},{\"id\":\"4e1c1588-073e-466a-8c3f-3e045bed643a\",\"type\":\"HelpTool\"}]},\"id\":\"41f8577e-bd31-43e6-8220-5c93f6c9e8a6\",\"type\":\"ToolbarBox\"},{\"attributes\":{\"plot\":null,\"text\":\"Severidad\"},\"id\":\"75f9e577-40cb-4b64-9d49-426ea7cea71b\",\"type\":\"Title\"},{\"attributes\":{},\"id\":\"8a56e238-3a21-4584-b6cc-869bd44c6607\",\"type\":\"WheelZoomTool\"},{\"attributes\":{},\"id\":\"3eee88d2-ad5c-432f-8467-79dc8579f6b7\",\"type\":\"LinearScale\"},{\"attributes\":{},\"id\":\"416f3e99-86e8-4cf1-9329-836c56f81829\",\"type\":\"BasicTicker\"},{\"attributes\":{},\"id\":\"789473a3-066b-4a2c-ab72-1fff7ffef9e6\",\"type\":\"SaveTool\"},{\"attributes\":{},\"id\":\"6f1c480a-325e-4f02-a364-6fd540849df0\",\"type\":\"CategoricalScale\"},{\"attributes\":{},\"id\":\"1984de46-52ad-40a9-b856-1ea24c62a6bf\",\"type\":\"BasicTicker\"},{\"attributes\":{},\"id\":\"c13be755-916c-4198-a0c7-ac60d44a155c\",\"type\":\"CategoricalTicker\"},{\"attributes\":{\"formatter\":{\"id\":\"001b273a-f383-46f3-80b9-50d2beef5332\",\"type\":\"BasicTickFormatter\"},\"plot\":{\"id\":\"a1e528d7-409e-46aa-a9b0-b573cbc61dc1\",\"subtype\":\"Figure\",\"type\":\"Plot\"},\"ticker\":{\"id\":\"1984de46-52ad-40a9-b856-1ea24c62a6bf\",\"type\":\"BasicTicker\"}},\"id\":\"f4107ea6-f708-4848-815f-33b0cd11bcc6\",\"type\":\"LinearAxis\"},{\"attributes\":{\"fill_color\":{\"value\":\"#f4d341\"},\"line_color\":{\"value\":\"white\"},\"top\":{\"field\":\"Incidencia_mean\"},\"width\":{\"value\":0.7},\"x\":{\"field\":\"Anios\"}},\"id\":\"e1713b48-05bf-4eb0-81ed-33ae35af45b6\",\"type\":\"VBar\"},{\"attributes\":{\"overlay\":{\"id\":\"8579f8b1-9890-43b8-8445-2b53b234ad49\",\"type\":\"BoxAnnotation\"}},\"id\":\"0a3ef47d-f3e0-4ecd-bb06-509ebe24bf92\",\"type\":\"BoxZoomTool\"},{\"attributes\":{\"data_source\":{\"id\":\"b2c86106-12b0-4619-b58e-03d9fde4b690\",\"type\":\"ColumnDataSource\"},\"glyph\":{\"id\":\"a0ccccd0-93bf-4a08-b6f8-442b96a70b4a\",\"type\":\"VBar\"},\"hover_glyph\":null,\"muted_glyph\":null,\"nonselection_glyph\":{\"id\":\"08a1b7c6-579f-44cb-a88b-5f2a53abc227\",\"type\":\"VBar\"},\"selection_glyph\":null,\"view\":{\"id\":\"1e7cec6a-ec6b-4855-80a2-50835c307cc1\",\"type\":\"CDSView\"}},\"id\":\"64ab7bea-aa00-4109-adf0-89399958b76e\",\"type\":\"GlyphRenderer\"},{\"attributes\":{\"callback\":null},\"id\":\"5c3fbc31-0cfa-409f-9751-e48a2105c73e\",\"type\":\"DataRange1d\"},{\"attributes\":{\"plot\":{\"id\":\"a1e528d7-409e-46aa-a9b0-b573cbc61dc1\",\"subtype\":\"Figure\",\"type\":\"Plot\"},\"ticker\":{\"id\":\"d5311ae0-def5-42b1-b3db-965d1066fdf4\",\"type\":\"CategoricalTicker\"}},\"id\":\"0ea30d91-cf8f-4cb5-8ea9-60f5ad324874\",\"type\":\"Grid\"},{\"attributes\":{\"fill_alpha\":{\"value\":0.1},\"fill_color\":{\"value\":\"#1f77b4\"},\"line_alpha\":{\"value\":0.1},\"line_color\":{\"value\":\"#1f77b4\"},\"top\":{\"field\":\"Incidencia_mean\"},\"width\":{\"value\":0.7},\"x\":{\"field\":\"Anios\"}},\"id\":\"4706dd9c-e529-4783-8fb0-aa17607209af\",\"type\":\"VBar\"},{\"attributes\":{},\"id\":\"98313215-2f5a-446a-9dca-06fb6801b78d\",\"type\":\"HelpTool\"},{\"attributes\":{},\"id\":\"c9316bf8-ef6d-4630-a480-4867c8cf711c\",\"type\":\"CategoricalScale\"},{\"attributes\":{\"callback\":null,\"factors\":[\"2008\",\"2009\",\"2010\",\"2011\",\"2012\",\"2013\",\"2014\",\"2015\",\"2016\",\"2017\"]},\"id\":\"a90b10e6-d912-47b4-8140-bd72667da4ce\",\"type\":\"FactorRange\"},{\"attributes\":{\"plot\":{\"id\":\"139d043e-f379-4f26-afe5-5144048ddf3a\",\"subtype\":\"Figure\",\"type\":\"Plot\"},\"ticker\":{\"id\":\"c13be755-916c-4198-a0c7-ac60d44a155c\",\"type\":\"CategoricalTicker\"}},\"id\":\"1fd2e535-c9e7-4a30-81fa-99de00d05226\",\"type\":\"Grid\"},{\"attributes\":{},\"id\":\"001b273a-f383-46f3-80b9-50d2beef5332\",\"type\":\"BasicTickFormatter\"},{\"attributes\":{\"bottom_units\":\"screen\",\"fill_alpha\":{\"value\":0.5},\"fill_color\":{\"value\":\"lightgrey\"},\"left_units\":\"screen\",\"level\":\"overlay\",\"line_alpha\":{\"value\":1.0},\"line_color\":{\"value\":\"black\"},\"line_dash\":[4,4],\"line_width\":{\"value\":2},\"plot\":null,\"render_mode\":\"css\",\"right_units\":\"screen\",\"top_units\":\"screen\"},\"id\":\"288df6a5-9681-438e-8b89-1c4c55b21adf\",\"type\":\"BoxAnnotation\"},{\"attributes\":{\"dimension\":1,\"plot\":{\"id\":\"a1e528d7-409e-46aa-a9b0-b573cbc61dc1\",\"subtype\":\"Figure\",\"type\":\"Plot\"},\"ticker\":{\"id\":\"1984de46-52ad-40a9-b856-1ea24c62a6bf\",\"type\":\"BasicTicker\"}},\"id\":\"600100ab-b629-4357-8915-40e5332ec5fa\",\"type\":\"Grid\"},{\"attributes\":{},\"id\":\"cda7b568-cce2-4b06-9bee-a0ad5cfa0401\",\"type\":\"PanTool\"},{\"attributes\":{},\"id\":\"25bebbbc-4c16-42ab-937e-4b293228cb0a\",\"type\":\"ResetTool\"},{\"attributes\":{},\"id\":\"b1747683-e857-4d8b-8170-99d05194eb7c\",\"type\":\"CategoricalTicker\"},{\"attributes\":{},\"id\":\"c4cd6319-aeb3-40c8-9993-a1e5f5ae315f\",\"type\":\"WheelZoomTool\"},{\"attributes\":{\"data_source\":{\"id\":\"b2c86106-12b0-4619-b58e-03d9fde4b690\",\"type\":\"ColumnDataSource\"},\"glyph\":{\"id\":\"e1713b48-05bf-4eb0-81ed-33ae35af45b6\",\"type\":\"VBar\"},\"hover_glyph\":null,\"muted_glyph\":null,\"nonselection_glyph\":{\"id\":\"4706dd9c-e529-4783-8fb0-aa17607209af\",\"type\":\"VBar\"},\"selection_glyph\":null,\"view\":{\"id\":\"723f44c2-c42d-4239-a93e-3a8c6a38d24c\",\"type\":\"CDSView\"}},\"id\":\"4f070012-1403-4a18-9ae8-88206ab1a824\",\"type\":\"GlyphRenderer\"},{\"attributes\":{},\"id\":\"de63cd74-0838-4d87-91f7-928dc1a40645\",\"type\":\"LinearScale\"},{\"attributes\":{},\"id\":\"36225841-7af1-42ef-9dbf-4d91a942138a\",\"type\":\"PanTool\"},{\"attributes\":{\"overlay\":{\"id\":\"288df6a5-9681-438e-8b89-1c4c55b21adf\",\"type\":\"BoxAnnotation\"}},\"id\":\"da9d43fa-4cad-49fd-bc8c-e209ea812a96\",\"type\":\"BoxZoomTool\"},{\"attributes\":{},\"id\":\"16f4a09a-25e0-48ef-aa6e-e11d818f44eb\",\"type\":\"WheelZoomTool\"},{\"attributes\":{},\"id\":\"ffe515dd-e3ee-4cce-bca2-f5f786c7f388\",\"type\":\"SaveTool\"},{\"attributes\":{\"below\":[{\"id\":\"08216a05-9938-493e-a89d-1558ff9c06d3\",\"type\":\"CategoricalAxis\"}],\"left\":[{\"id\":\"d9366dfd-8abe-42c5-b218-39c4bcf4eed3\",\"type\":\"LinearAxis\"}],\"plot_height\":300,\"plot_width\":300,\"renderers\":[{\"id\":\"08216a05-9938-493e-a89d-1558ff9c06d3\",\"type\":\"CategoricalAxis\"},{\"id\":\"1fd2e535-c9e7-4a30-81fa-99de00d05226\",\"type\":\"Grid\"},{\"id\":\"d9366dfd-8abe-42c5-b218-39c4bcf4eed3\",\"type\":\"LinearAxis\"},{\"id\":\"9496ae67-bf3a-4a3a-9b07-2d9776a542e3\",\"type\":\"Grid\"},{\"id\":\"288df6a5-9681-438e-8b89-1c4c55b21adf\",\"type\":\"BoxAnnotation\"},{\"id\":\"bb8635b3-5a11-476f-b839-3f184dfa5b38\",\"type\":\"GlyphRenderer\"}],\"title\":{\"id\":\"75f9e577-40cb-4b64-9d49-426ea7cea71b\",\"type\":\"Title\"},\"toolbar\":{\"id\":\"180356cc-ce96-45df-828c-7698a693e98f\",\"type\":\"Toolbar\"},\"toolbar_location\":null,\"x_range\":{\"id\":\"e9103cb7-f344-4f43-8d2b-bad4bdd240f9\",\"type\":\"FactorRange\"},\"x_scale\":{\"id\":\"100c032f-499f-4cc6-a654-13a54cae29e5\",\"type\":\"CategoricalScale\"},\"y_range\":{\"id\":\"7b007435-60d9-452e-9416-bda44620bc7f\",\"type\":\"DataRange1d\"},\"y_scale\":{\"id\":\"de63cd74-0838-4d87-91f7-928dc1a40645\",\"type\":\"LinearScale\"}},\"id\":\"139d043e-f379-4f26-afe5-5144048ddf3a\",\"subtype\":\"Figure\",\"type\":\"Plot\"},{\"attributes\":{},\"id\":\"a8b3d5b6-3a98-4bac-875c-bced95e0a839\",\"type\":\"SaveTool\"},{\"attributes\":{},\"id\":\"6c5d9df2-7ae7-4b9d-b876-4244216fefd5\",\"type\":\"ResetTool\"},{\"attributes\":{\"callback\":null,\"column_names\":[\"Brecha_count\",\"Brecha_mean\",\"Brecha_std\",\"Brecha_min\",\"Brecha_25%\",\"Brecha_50%\",\"Brecha_75%\",\"Brecha_max\",\"Incidencia_count\",\"Incidencia_mean\",\"Incidencia_std\",\"Incidencia_min\",\"Incidencia_25%\",\"Incidencia_50%\",\"Incidencia_75%\",\"Incidencia_max\",\"Severidad_count\",\"Severidad_mean\",\"Severidad_std\",\"Severidad_min\",\"Severidad_25%\",\"Severidad_50%\",\"Severidad_75%\",\"Severidad_max\",\"Anios\"],\"data\":{\"Anios\":[\"2008\",\"2009\",\"2010\",\"2011\",\"2012\",\"2013\",\"2014\",\"2015\",\"2016\",\"2017\"],\"Brecha_25%\":{\"__ndarray__\":\"j8L1KFyPCkCuR+F6FK4NQFyPwvUoXBFAuB6F61G4CkBSuB6F61EKQNejcD0K1wtAPQrXo3A9BkC4HoXrUbgEQArXo3A9CgVAMzMzMzMzA0A=\",\"dtype\":\"float64\",\"shape\":[10]},\"Brecha_50%\":{\"__ndarray__\":\"j8L1KFyPCkCuR+F6FK4NQFyPwvUoXBFAuB6F61G4CkBSuB6F61EKQNejcD0K1wtAPQrXo3A9BkC4HoXrUbgEQArXo3A9CgVAMzMzMzMzA0A=\",\"dtype\":\"float64\",\"shape\":[10]},\"Brecha_75%\":{\"__ndarray__\":\"j8L1KFyPCkCuR+F6FK4NQFyPwvUoXBFAuB6F61G4CkBSuB6F61EKQNejcD0K1wtAPQrXo3A9BkC4HoXrUbgEQArXo3A9CgVAMzMzMzMzA0A=\",\"dtype\":\"float64\",\"shape\":[10]},\"Brecha_count\":{\"__ndarray__\":\"AAAAAAAA8D8AAAAAAADwPwAAAAAAAPA/AAAAAAAA8D8AAAAAAADwPwAAAAAAAPA/AAAAAAAA8D8AAAAAAADwPwAAAAAAAPA/AAAAAAAA8D8=\",\"dtype\":\"float64\",\"shape\":[10]},\"Brecha_max\":{\"__ndarray__\":\"j8L1KFyPCkCuR+F6FK4NQFyPwvUoXBFAuB6F61G4CkBSuB6F61EKQNejcD0K1wtAPQrXo3A9BkC4HoXrUbgEQArXo3A9CgVAMzMzMzMzA0A=\",\"dtype\":\"float64\",\"shape\":[10]},\"Brecha_mean\":{\"__ndarray__\":\"j8L1KFyPCkCuR+F6FK4NQFyPwvUoXBFAuB6F61G4CkBSuB6F61EKQNejcD0K1wtAPQrXo3A9BkC4HoXrUbgEQArXo3A9CgVAMzMzMzMzA0A=\",\"dtype\":\"float64\",\"shape\":[10]},\"Brecha_min\":{\"__ndarray__\":\"j8L1KFyPCkCuR+F6FK4NQFyPwvUoXBFAuB6F61G4CkBSuB6F61EKQNejcD0K1wtAPQrXo3A9BkC4HoXrUbgEQArXo3A9CgVAMzMzMzMzA0A=\",\"dtype\":\"float64\",\"shape\":[10]},\"Brecha_std\":{\"__ndarray__\":\"AAAAAAAA+H8AAAAAAAD4fwAAAAAAAPh/AAAAAAAA+H8AAAAAAAD4fwAAAAAAAPh/AAAAAAAA+H8AAAAAAAD4fwAAAAAAAPh/AAAAAAAA+H8=\",\"dtype\":\"float64\",\"shape\":[10]},\"Incidencia_25%\":{\"__ndarray__\":\"ZmZmZmbmJEBSuB6F61EmQIXrUbgeBSpAKVyPwvWoJEBxPQrXo/AhQDMzMzMzsyVA16NwPQrXIUB7FK5H4XofQOxRuB6F6x9AZmZmZmZmHUA=\",\"dtype\":\"float64\",\"shape\":[10]},\"Incidencia_50%\":{\"__ndarray__\":\"ZmZmZmbmJEBSuB6F61EmQIXrUbgeBSpAKVyPwvWoJEBxPQrXo/AhQDMzMzMzsyVA16NwPQrXIUB7FK5H4XofQOxRuB6F6x9AZmZmZmZmHUA=\",\"dtype\":\"float64\",\"shape\":[10]},\"Incidencia_75%\":{\"__ndarray__\":\"ZmZmZmbmJEBSuB6F61EmQIXrUbgeBSpAKVyPwvWoJEBxPQrXo/AhQDMzMzMzsyVA16NwPQrXIUB7FK5H4XofQOxRuB6F6x9AZmZmZmZmHUA=\",\"dtype\":\"float64\",\"shape\":[10]},\"Incidencia_count\":{\"__ndarray__\":\"AAAAAAAA8D8AAAAAAADwPwAAAAAAAPA/AAAAAAAA8D8AAAAAAADwPwAAAAAAAPA/AAAAAAAA8D8AAAAAAADwPwAAAAAAAPA/AAAAAAAA8D8=\",\"dtype\":\"float64\",\"shape\":[10]},\"Incidencia_max\":{\"__ndarray__\":\"ZmZmZmbmJEBSuB6F61EmQIXrUbgeBSpAKVyPwvWoJEBxPQrXo/AhQDMzMzMzsyVA16NwPQrXIUB7FK5H4XofQOxRuB6F6x9AZmZmZmZmHUA=\",\"dtype\":\"float64\",\"shape\":[10]},\"Incidencia_mean\":{\"__ndarray__\":\"ZmZmZmbmJEBSuB6F61EmQIXrUbgeBSpAKVyPwvWoJEBxPQrXo/AhQDMzMzMzsyVA16NwPQrXIUB7FK5H4XofQOxRuB6F6x9AZmZmZmZmHUA=\",\"dtype\":\"float64\",\"shape\":[10]},\"Incidencia_min\":{\"__ndarray__\":\"ZmZmZmbmJEBSuB6F61EmQIXrUbgeBSpAKVyPwvWoJEBxPQrXo/AhQDMzMzMzsyVA16NwPQrXIUB7FK5H4XofQOxRuB6F6x9AZmZmZmZmHUA=\",\"dtype\":\"float64\",\"shape\":[10]},\"Incidencia_std\":{\"__ndarray__\":\"AAAAAAAA+H8AAAAAAAD4fwAAAAAAAPh/AAAAAAAA+H8AAAAAAAD4fwAAAAAAAPh/AAAAAAAA+H8AAAAAAAD4fwAAAAAAAPh/AAAAAAAA+H8=\",\"dtype\":\"float64\",\"shape\":[10]},\"Severidad_25%\":{\"__ndarray__\":\"KVyPwvUo/D+F61G4HoX/P3sUrkfhegJA9ihcj8L1/D9xPQrXo3D5P/YoXI/C9fg/PQrXo3A99j/NzMzMzMz0P3E9CtejcPU/rkfhehSu8z8=\",\"dtype\":\"float64\",\"shape\":[10]},\"Severidad_50%\":{\"__ndarray__\":\"KVyPwvUo/D+F61G4HoX/P3sUrkfhegJA9ihcj8L1/D9xPQrXo3D5P/YoXI/C9fg/PQrXo3A99j/NzMzMzMz0P3E9CtejcPU/rkfhehSu8z8=\",\"dtype\":\"float64\",\"shape\":[10]},\"Severidad_75%\":{\"__ndarray__\":\"KVyPwvUo/D+F61G4HoX/P3sUrkfhegJA9ihcj8L1/D9xPQrXo3D5P/YoXI/C9fg/PQrXo3A99j/NzMzMzMz0P3E9CtejcPU/rkfhehSu8z8=\",\"dtype\":\"float64\",\"shape\":[10]},\"Severidad_count\":{\"__ndarray__\":\"AAAAAAAA8D8AAAAAAADwPwAAAAAAAPA/AAAAAAAA8D8AAAAAAADwPwAAAAAAAPA/AAAAAAAA8D8AAAAAAADwPwAAAAAAAPA/AAAAAAAA8D8=\",\"dtype\":\"float64\",\"shape\":[10]},\"Severidad_max\":{\"__ndarray__\":\"KVyPwvUo/D+F61G4HoX/P3sUrkfhegJA9ihcj8L1/D9xPQrXo3D5P/YoXI/C9fg/PQrXo3A99j/NzMzMzMz0P3E9CtejcPU/rkfhehSu8z8=\",\"dtype\":\"float64\",\"shape\":[10]},\"Severidad_mean\":{\"__ndarray__\":\"KVyPwvUo/D+F61G4HoX/P3sUrkfhegJA9ihcj8L1/D9xPQrXo3D5P/YoXI/C9fg/PQrXo3A99j/NzMzMzMz0P3E9CtejcPU/rkfhehSu8z8=\",\"dtype\":\"float64\",\"shape\":[10]},\"Severidad_min\":{\"__ndarray__\":\"KVyPwvUo/D+F61G4HoX/P3sUrkfhegJA9ihcj8L1/D9xPQrXo3D5P/YoXI/C9fg/PQrXo3A99j/NzMzMzMz0P3E9CtejcPU/rkfhehSu8z8=\",\"dtype\":\"float64\",\"shape\":[10]},\"Severidad_std\":{\"__ndarray__\":\"AAAAAAAA+H8AAAAAAAD4fwAAAAAAAPh/AAAAAAAA+H8AAAAAAAD4fwAAAAAAAPh/AAAAAAAA+H8AAAAAAAD4fwAAAAAAAPh/AAAAAAAA+H8=\",\"dtype\":\"float64\",\"shape\":[10]}}},\"id\":\"b2c86106-12b0-4619-b58e-03d9fde4b690\",\"type\":\"ColumnDataSource\"},{\"attributes\":{},\"id\":\"4e1c1588-073e-466a-8c3f-3e045bed643a\",\"type\":\"HelpTool\"},{\"attributes\":{\"active_drag\":\"auto\",\"active_inspect\":\"auto\",\"active_scroll\":\"auto\",\"active_tap\":\"auto\",\"tools\":[{\"id\":\"9507b717-6dd7-4652-be90-e6efcfd0118a\",\"type\":\"PanTool\"},{\"id\":\"8a56e238-3a21-4584-b6cc-869bd44c6607\",\"type\":\"WheelZoomTool\"},{\"id\":\"c316fba4-7dfb-4909-a7d8-29b38543b4bf\",\"type\":\"BoxZoomTool\"},{\"id\":\"789473a3-066b-4a2c-ab72-1fff7ffef9e6\",\"type\":\"SaveTool\"},{\"id\":\"25bebbbc-4c16-42ab-937e-4b293228cb0a\",\"type\":\"ResetTool\"},{\"id\":\"98313215-2f5a-446a-9dca-06fb6801b78d\",\"type\":\"HelpTool\"}]},\"id\":\"525081e7-032c-43f3-b455-b68dc6669b99\",\"type\":\"Toolbar\"},{\"attributes\":{\"fill_alpha\":{\"value\":0.1},\"fill_color\":{\"value\":\"#1f77b4\"},\"line_alpha\":{\"value\":0.1},\"line_color\":{\"value\":\"#1f77b4\"},\"top\":{\"field\":\"Severidad_mean\"},\"width\":{\"value\":0.7},\"x\":{\"field\":\"Anios\"}},\"id\":\"f3f5505b-46f2-4bb5-9b79-9c1743716a17\",\"type\":\"VBar\"},{\"attributes\":{},\"id\":\"eb05e3dc-0ac6-47af-af8e-afffcc6c9409\",\"type\":\"HelpTool\"},{\"attributes\":{\"data_source\":{\"id\":\"b2c86106-12b0-4619-b58e-03d9fde4b690\",\"type\":\"ColumnDataSource\"},\"glyph\":{\"id\":\"ddcb8584-1be6-4941-8f44-98ad4e9bdb1b\",\"type\":\"VBar\"},\"hover_glyph\":null,\"muted_glyph\":null,\"nonselection_glyph\":{\"id\":\"f3f5505b-46f2-4bb5-9b79-9c1743716a17\",\"type\":\"VBar\"},\"selection_glyph\":null,\"view\":{\"id\":\"b828053c-daa4-4357-97da-0c919c794e38\",\"type\":\"CDSView\"}},\"id\":\"bb8635b3-5a11-476f-b839-3f184dfa5b38\",\"type\":\"GlyphRenderer\"},{\"attributes\":{\"fill_alpha\":{\"value\":0.1},\"fill_color\":{\"value\":\"#1f77b4\"},\"line_alpha\":{\"value\":0.1},\"line_color\":{\"value\":\"#1f77b4\"},\"top\":{\"field\":\"Brecha_mean\"},\"width\":{\"value\":0.7},\"x\":{\"field\":\"Anios\"}},\"id\":\"08a1b7c6-579f-44cb-a88b-5f2a53abc227\",\"type\":\"VBar\"},{\"attributes\":{\"dimension\":1,\"plot\":{\"id\":\"1dc6def6-eaad-4513-81da-2e9518a19f08\",\"subtype\":\"Figure\",\"type\":\"Plot\"},\"ticker\":{\"id\":\"6c5e7ac3-1bbc-4e07-8dae-e7cdf5f2fefa\",\"type\":\"BasicTicker\"}},\"id\":\"68c886bc-ef71-45c2-9fdf-48cd913c4777\",\"type\":\"Grid\"},{\"attributes\":{},\"id\":\"fe9a1db0-9e54-4d16-9189-949853872638\",\"type\":\"CategoricalTickFormatter\"},{\"attributes\":{},\"id\":\"d5311ae0-def5-42b1-b3db-965d1066fdf4\",\"type\":\"CategoricalTicker\"},{\"attributes\":{},\"id\":\"363c025d-ef67-45b5-9d6b-e14cbe52db48\",\"type\":\"CategoricalTickFormatter\"},{\"attributes\":{},\"id\":\"5a8c5214-bb4f-433c-a9ef-95c36c99e8f3\",\"type\":\"CategoricalTickFormatter\"}],\"root_ids\":[\"238a8383-36ef-4058-9696-5a8b92f35d5e\"]},\"title\":\"Bokeh Application\",\"version\":\"0.12.10\"}};\n",
       "    var render_items = [{\"docid\":\"3f3f933f-dcab-4629-85ba-cc765a4d4902\",\"elementid\":\"eac54699-b9ae-4549-8b07-4f7a619aa161\",\"modelid\":\"238a8383-36ef-4058-9696-5a8b92f35d5e\"}];\n",
       "\n",
       "    root.Bokeh.embed.embed_items(docs_json, render_items);\n",
       "  }\n",
       "\n",
       "  if (root.Bokeh !== undefined) {\n",
       "    embed_document(root);\n",
       "  } else {\n",
       "    var attempts = 0;\n",
       "    var timer = setInterval(function(root) {\n",
       "      if (root.Bokeh !== undefined) {\n",
       "        embed_document(root);\n",
       "        clearInterval(timer);\n",
       "      }\n",
       "      attempts++;\n",
       "      if (attempts > 100) {\n",
       "        console.log(\"Bokeh: ERROR: Unable to embed document because BokehJS library is missing\")\n",
       "        clearInterval(timer);\n",
       "      }\n",
       "    }, 10, root)\n",
       "  }\n",
       "})(window);"
      ],
      "application/vnd.bokehjs_exec.v0+json": ""
     },
     "metadata": {
      "application/vnd.bokehjs_exec.v0+json": {
       "id": "238a8383-36ef-4058-9696-5a8b92f35d5e"
      }
     },
     "output_type": "display_data"
    }
   ],
   "source": [
    "group1 = data.groupby('Anios')\n",
    "source = ColumnDataSource(group1)\n",
    "\n",
    "# Creamos un objeto de figura por cada gráfica y establecemos sus opciones y titulo. (opciones)\n",
    "graph_bar_1 = figure(\n",
    "    title='Incidencia', # título de esta grafica en particular\n",
    "    plot_width=300, plot_height=300, # Tamaño\n",
    "    x_range=group1, # Mandamos el rango de x\n",
    ")\n",
    "graph_bar_2 = figure(title='Brecha', plot_width=300, plot_height=300, x_range=group1)\n",
    "graph_bar_3 = figure(title='Severidad', plot_width=300, plot_height=300, x_range=group1)\n",
    "\n",
    "# Definimos lo que cada una de nuestras graficas representara\n",
    "graph_bar_1.vbar(\n",
    "    x='Anios', # datos en x\n",
    "    top='Incidencia_mean', # valor máximo\n",
    "    width=0.7, # ancho de cada barra\n",
    "    line_color=\"white\", # color del borde de cada barra\n",
    "    color=\"#f4d341\", # color de cada barra\n",
    "    source=source\n",
    ")\n",
    "graph_bar_2.vbar(\n",
    "    x='Anios', top='Brecha_mean', width=0.7, line_color=\"white\", color=\"#42f4bf\", source=source\n",
    ")\n",
    "graph_bar_3.vbar(\n",
    "    x='Anios', top='Severidad_mean', width=0.7, line_color=\"white\", color=\"#f44171\", source=source\n",
    ")\n",
    "\n",
    "# Creamos una nueva figura que está compuesta por las figuras creadas anteriormente\n",
    "graph_bar = gridplot([[graph_bar_1, graph_bar_2, graph_bar_3]]) # agrupamos nuestas graficas\n",
    "show(graph_bar) # Mostramos los resultados"
   ]
  },
  {
   "cell_type": "markdown",
   "metadata": {},
   "source": [
    "**En este gráfico, podemos observar sobre la pobreza dependiendo de la incidencia, brecha y serenidad de la ciudad de quito desde el año 2008 hasta el 2016, ya que nos daremos cuenta en cada año como va aumentado y disminuyendo, de la misma. **"
   ]
  },
  {
   "cell_type": "markdown",
   "metadata": {},
   "source": [
    "## Grafico de pastel"
   ]
  },
  {
   "cell_type": "code",
   "execution_count": 16,
   "metadata": {},
   "outputs": [
    {
     "data": {
      "application/vnd.jupyter.widget-view+json": {
       "model_id": "798e315bcbb540f7991fb518f08b940b",
       "version_major": 2,
       "version_minor": 0
      },
      "text/html": [
       "<p>Failed to display Jupyter Widget of type <code>interactive</code>.</p>\n",
       "<p>\n",
       "  If you're reading this message in the Jupyter Notebook or JupyterLab Notebook, it may mean\n",
       "  that the widgets JavaScript is still loading. If this message persists, it\n",
       "  likely means that the widgets JavaScript library is either not installed or\n",
       "  not enabled. See the <a href=\"https://ipywidgets.readthedocs.io/en/stable/user_install.html\">Jupyter\n",
       "  Widgets Documentation</a> for setup instructions.\n",
       "</p>\n",
       "<p>\n",
       "  If you're reading this message in another frontend (for example, a static\n",
       "  rendering on GitHub or <a href=\"https://nbviewer.jupyter.org/\">NBViewer</a>),\n",
       "  it may mean that your frontend doesn't currently support widgets.\n",
       "</p>\n"
      ],
      "text/plain": [
       "interactive(children=(IntSlider(value=5, description='x', max=10, min=1), Output()), _dom_classes=('widget-interact',))"
      ]
     },
     "metadata": {},
     "output_type": "display_data"
    }
   ],
   "source": [
    "# Importamos `pi` de la librería `numpy` para el Angulo en nuestras graficas\n",
    "# Y `interact` de `ipywidgets` para poder interactuar con nuestra grafica\n",
    "from numpy import pi\n",
    "from ipywidgets import interact\n",
    "\n",
    "# Creamos una variable contiene los parámetros de nuestra grafica final\n",
    "options = dict( # opciones que compartirán cada una de nuestras graficas\n",
    "    plot_width=300, plot_height=300 # Tamaño\n",
    ")\n",
    "\n",
    "# Definimos cada una de las gráficas de pastel que representaremos, su título, \n",
    "# la cuadricula que mostrara, y las opciones antes definidas de la gráfica anterior\n",
    "graph_pie_1 = figure(\n",
    "    title='Incidencia', # título de esta grafica en particular\n",
    "    x_range=(-1,1),\n",
    "    y_range=(-1,1),\n",
    "    **options\n",
    ")\n",
    "graph_pie_2 = figure(title='Brecha', x_range=(-1,1), y_range=(-1,1), **options)\n",
    "graph_pie_3 = figure(title='Severidad', x_range=(-1,1), y_range=(-1,1), **options)\n",
    "\n",
    "# Definimos una función que será llamada cada vez que interactuemos con el slider\n",
    "def f(x):\n",
    "    graph_pie_1.wedge(\n",
    "        x=0, y=0, radius=0.8, # centro y radio\n",
    "        start_angle=[0.0, data.Incidencia[x]*2*pi/100], # valores donde inicia cada parte\n",
    "        end_angle=[data.Incidencia[x]*2*pi, 2*pi],  # valores donde termina cada parte del pastel\n",
    "        color=['#f4d341','#686060'] # color de cada parte\n",
    "    )\n",
    "    graph_pie_2.wedge(\n",
    "        x=0, y=0, radius=0.8, \n",
    "        start_angle=[0.0, data.Brecha[x]*2*pi/100], \n",
    "        end_angle=[data.Brecha[x]*2*pi, 2*pi], \n",
    "        color=['#42f4bf','#686060']\n",
    "    )\n",
    "    graph_pie_3.wedge(\n",
    "        x=0, y=0, radius=0.8, \n",
    "        start_angle=[0.0, data.Severidad[x]*2*pi/100], \n",
    "        end_angle=[data.Severidad[x]*2*pi, 2*pi], \n",
    "        color=['#f44171','#686060']\n",
    "    )\n",
    "    \n",
    "    \n",
    "    print(\"Año: \"+str(int(data.Anios[x])))\n",
    "    graph_pie = gridplot([[graph_pie_1, graph_pie_2, graph_pie_3]]) # agrupamos nuestras  graficas\n",
    "    show(graph_pie) # Mostramos los resultados\n",
    "    \n",
    "# Mostramos la gráfica y el slider con el que podremos interactuar\n",
    "interact(f, x=(1,10));"
   ]
  },
  {
   "cell_type": "markdown",
   "metadata": {},
   "source": [
    "**Con el slider podemos avanzar en el tiempo para poder observar que cada año se ha producido una disminución del porcentaje de pobreza**"
   ]
  },
  {
   "cell_type": "markdown",
   "metadata": {},
   "source": [
    "# Bibliografía \n",
    "----\n",
    "Este notebook fue realiza con jupyter notebook. - http://jupyter.org/\n",
    "\n",
    "Una página que utilizamos, para poder hacer las gráficas se utilizó bokeh. - https://bokeh.pydata.org/en/latest/\n",
    "\n",
    "Carga de datos Pandas. - https://pandas.pydata.org/\n",
    "\n",
    "Datos obtenidos de Ecuador en cifras. - http://www.ecuadorencifras.gob.ec/"
   ]
  }
 ],
 "metadata": {
  "kernelspec": {
   "display_name": "Python 3",
   "language": "python",
   "name": "python3"
  },
  "language_info": {
   "codemirror_mode": {
    "name": "ipython",
    "version": 3
   },
   "file_extension": ".py",
   "mimetype": "text/x-python",
   "name": "python",
   "nbconvert_exporter": "python",
   "pygments_lexer": "ipython3",
   "version": "3.6.3"
  }
 },
 "nbformat": 4,
 "nbformat_minor": 2
}
