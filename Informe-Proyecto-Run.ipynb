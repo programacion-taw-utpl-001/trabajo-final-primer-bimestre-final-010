{
 "cells": [
  {
   "cell_type": "markdown",
   "metadata": {},
   "source": [
    "# PROYECTO DE VISUALIZACION DE DATOS "
   ]
  },
  {
   "cell_type": "markdown",
   "metadata": {},
   "source": [
    "## SET DE DATOS\n",
    "----\n",
    "**Los datos que trabajaremos son del sitio web Ecuador en cifras, sobre la pobreza en ciudades como Quito, Guayaquil, y otras del Ecuador**"
   ]
  },
  {
   "cell_type": "markdown",
   "metadata": {},
   "source": [
    "Para poder cargar nuestro set de datos necesitamos importar la librería de `pandas`"
   ]
  },
  {
   "cell_type": "code",
   "execution_count": 1,
   "metadata": {},
   "outputs": [],
   "source": [
    "import pandas as pd"
   ]
  },
  {
   "cell_type": "markdown",
   "metadata": {},
   "source": [
    "Nuestro conjunto de datos está en formato `.csv`, por lo que usaremos `read_csv` de pandas."
   ]
  },
  {
   "cell_type": "code",
   "execution_count": 2,
   "metadata": {},
   "outputs": [],
   "source": [
    "# guardamos nuestra tabla en una variable data, después de haber sido leída por pandas\n",
    "raw_data = pd.read_csv(\n",
    "    './assets/datosPobreza.csv', # dirección donde esta nuestra data\n",
    "    sep=';', # separador de datos para ser leídos por pandas\n",
    "    decimal=\",\" # el separador, o sino nuestros números serán tratados como strings si contienen \"comas\"\n",
    ")"
   ]
  },
  {
   "cell_type": "markdown",
   "metadata": {},
   "source": [
    "`read_csv` devuelve un `DataFrame`, una estructura tabular de datos proporcionada por pandas. Un `DataFrame` está dotado de varios atributos y métodos útiles para explorar los datos."
   ]
  },
  {
   "cell_type": "markdown",
   "metadata": {},
   "source": [
    "Con la función `head()` sobre nuestro `DataFrame` podemos mostrar los primeras filas de nuestra data, para no presentar todas las filas. "
   ]
  },
  {
   "cell_type": "code",
   "execution_count": 3,
   "metadata": {},
   "outputs": [
    {
     "data": {
      "text/html": [
       "<div>\n",
       "<style scoped>\n",
       "    .dataframe tbody tr th:only-of-type {\n",
       "        vertical-align: middle;\n",
       "    }\n",
       "\n",
       "    .dataframe tbody tr th {\n",
       "        vertical-align: top;\n",
       "    }\n",
       "\n",
       "    .dataframe thead th {\n",
       "        text-align: right;\n",
       "    }\n",
       "</style>\n",
       "<table border=\"1\" class=\"dataframe\">\n",
       "  <thead>\n",
       "    <tr style=\"text-align: right;\">\n",
       "      <th></th>\n",
       "      <th>Período</th>\n",
       "      <th>Anios</th>\n",
       "      <th>Quito</th>\n",
       "      <th>Quito.1</th>\n",
       "      <th>Quito.2</th>\n",
       "      <th>Guayaquil</th>\n",
       "      <th>Guayaquil.1</th>\n",
       "      <th>Guayaquil.2</th>\n",
       "      <th>Cuenca</th>\n",
       "      <th>Cuenca.1</th>\n",
       "      <th>Cuenca.2</th>\n",
       "      <th>Machala</th>\n",
       "      <th>Machala.1</th>\n",
       "      <th>Machala.2</th>\n",
       "      <th>Ambato</th>\n",
       "      <th>Ambato.1</th>\n",
       "      <th>Ambato.2</th>\n",
       "    </tr>\n",
       "  </thead>\n",
       "  <tbody>\n",
       "    <tr>\n",
       "      <th>0</th>\n",
       "      <td>NaN</td>\n",
       "      <td>NaN</td>\n",
       "      <td>NaN</td>\n",
       "      <td>NaN</td>\n",
       "      <td>NaN</td>\n",
       "      <td>NaN</td>\n",
       "      <td>NaN</td>\n",
       "      <td>NaN</td>\n",
       "      <td>NaN</td>\n",
       "      <td>NaN</td>\n",
       "      <td>NaN</td>\n",
       "      <td>NaN</td>\n",
       "      <td>NaN</td>\n",
       "      <td>NaN</td>\n",
       "      <td>NaN</td>\n",
       "      <td>NaN</td>\n",
       "      <td>NaN</td>\n",
       "    </tr>\n",
       "    <tr>\n",
       "      <th>1</th>\n",
       "      <td>Marzo</td>\n",
       "      <td>2008.0</td>\n",
       "      <td>10.45</td>\n",
       "      <td>3.32</td>\n",
       "      <td>1.76</td>\n",
       "      <td>22.06</td>\n",
       "      <td>6.38</td>\n",
       "      <td>2.87</td>\n",
       "      <td>11.68</td>\n",
       "      <td>3.74</td>\n",
       "      <td>1.88</td>\n",
       "      <td>20.76</td>\n",
       "      <td>6.43</td>\n",
       "      <td>2.82</td>\n",
       "      <td>21.20</td>\n",
       "      <td>6.38</td>\n",
       "      <td>3.11</td>\n",
       "    </tr>\n",
       "    <tr>\n",
       "      <th>2</th>\n",
       "      <td>Marzo</td>\n",
       "      <td>2009.0</td>\n",
       "      <td>11.16</td>\n",
       "      <td>3.71</td>\n",
       "      <td>1.97</td>\n",
       "      <td>24.28</td>\n",
       "      <td>7.50</td>\n",
       "      <td>3.26</td>\n",
       "      <td>10.91</td>\n",
       "      <td>3.31</td>\n",
       "      <td>1.51</td>\n",
       "      <td>20.76</td>\n",
       "      <td>6.32</td>\n",
       "      <td>2.94</td>\n",
       "      <td>17.55</td>\n",
       "      <td>5.81</td>\n",
       "      <td>2.99</td>\n",
       "    </tr>\n",
       "    <tr>\n",
       "      <th>3</th>\n",
       "      <td>Marzo</td>\n",
       "      <td>2010.0</td>\n",
       "      <td>13.01</td>\n",
       "      <td>4.34</td>\n",
       "      <td>2.31</td>\n",
       "      <td>20.80</td>\n",
       "      <td>5.82</td>\n",
       "      <td>2.37</td>\n",
       "      <td>13.78</td>\n",
       "      <td>3.80</td>\n",
       "      <td>1.60</td>\n",
       "      <td>15.54</td>\n",
       "      <td>4.20</td>\n",
       "      <td>1.77</td>\n",
       "      <td>11.63</td>\n",
       "      <td>3.47</td>\n",
       "      <td>1.47</td>\n",
       "    </tr>\n",
       "    <tr>\n",
       "      <th>4</th>\n",
       "      <td>Marzo</td>\n",
       "      <td>2011.0</td>\n",
       "      <td>10.33</td>\n",
       "      <td>3.34</td>\n",
       "      <td>1.81</td>\n",
       "      <td>19.21</td>\n",
       "      <td>4.99</td>\n",
       "      <td>1.99</td>\n",
       "      <td>12.39</td>\n",
       "      <td>4.13</td>\n",
       "      <td>2.20</td>\n",
       "      <td>14.76</td>\n",
       "      <td>4.07</td>\n",
       "      <td>1.62</td>\n",
       "      <td>10.58</td>\n",
       "      <td>2.68</td>\n",
       "      <td>1.02</td>\n",
       "    </tr>\n",
       "  </tbody>\n",
       "</table>\n",
       "</div>"
      ],
      "text/plain": [
       "  Período   Anios  Quito  Quito.1  Quito.2  Guayaquil  Guayaquil.1  \\\n",
       "0     NaN     NaN    NaN      NaN      NaN        NaN          NaN   \n",
       "1   Marzo  2008.0  10.45     3.32     1.76      22.06         6.38   \n",
       "2   Marzo  2009.0  11.16     3.71     1.97      24.28         7.50   \n",
       "3   Marzo  2010.0  13.01     4.34     2.31      20.80         5.82   \n",
       "4   Marzo  2011.0  10.33     3.34     1.81      19.21         4.99   \n",
       "\n",
       "   Guayaquil.2  Cuenca  Cuenca.1  Cuenca.2  Machala  Machala.1  Machala.2  \\\n",
       "0          NaN     NaN       NaN       NaN      NaN        NaN        NaN   \n",
       "1         2.87   11.68      3.74      1.88    20.76       6.43       2.82   \n",
       "2         3.26   10.91      3.31      1.51    20.76       6.32       2.94   \n",
       "3         2.37   13.78      3.80      1.60    15.54       4.20       1.77   \n",
       "4         1.99   12.39      4.13      2.20    14.76       4.07       1.62   \n",
       "\n",
       "   Ambato  Ambato.1  Ambato.2  \n",
       "0     NaN       NaN       NaN  \n",
       "1   21.20      6.38      3.11  \n",
       "2   17.55      5.81      2.99  \n",
       "3   11.63      3.47      1.47  \n",
       "4   10.58      2.68      1.02  "
      ]
     },
     "execution_count": 3,
     "metadata": {},
     "output_type": "execute_result"
    }
   ],
   "source": [
    "raw_data.head()"
   ]
  },
  {
   "cell_type": "markdown",
   "metadata": {},
   "source": [
    "Con la función `[1:]` eliminamos la primera fila, ya que no son parte de los datos que usaremos"
   ]
  },
  {
   "cell_type": "code",
   "execution_count": 4,
   "metadata": {},
   "outputs": [],
   "source": [
    "raw_data = raw_data[1:]"
   ]
  },
  {
   "cell_type": "code",
   "execution_count": 5,
   "metadata": {},
   "outputs": [
    {
     "data": {
      "text/plain": [
       "(10, 17)"
      ]
     },
     "execution_count": 5,
     "metadata": {},
     "output_type": "execute_result"
    }
   ],
   "source": [
    "raw_data.shape  # números de campos de nuestra data"
   ]
  },
  {
   "cell_type": "markdown",
   "metadata": {},
   "source": [
    "Un `DataFrame` se compone de dos componentes principales; \n",
    " - Los datos mismos, que se pueden extraer a través del atributo de valores\n",
    " - Conjunto de índices, que son esencialmente etiquetas para las filas y columnas del DataFrame."
   ]
  },
  {
   "cell_type": "code",
   "execution_count": 6,
   "metadata": {},
   "outputs": [
    {
     "data": {
      "text/plain": [
       "RangeIndex(start=1, stop=11, step=1)"
      ]
     },
     "execution_count": 6,
     "metadata": {},
     "output_type": "execute_result"
    }
   ],
   "source": [
    "raw_data.index"
   ]
  },
  {
   "cell_type": "code",
   "execution_count": 7,
   "metadata": {},
   "outputs": [
    {
     "data": {
      "text/plain": [
       "Index(['Período', 'Anios', 'Quito', 'Quito.1', 'Quito.2', 'Guayaquil',\n",
       "       'Guayaquil.1', 'Guayaquil.2', 'Cuenca', 'Cuenca.1', 'Cuenca.2',\n",
       "       'Machala', 'Machala.1', 'Machala.2', 'Ambato', 'Ambato.1', 'Ambato.2'],\n",
       "      dtype='object')"
      ]
     },
     "execution_count": 7,
     "metadata": {},
     "output_type": "execute_result"
    }
   ],
   "source": [
    "raw_data.columns"
   ]
  },
  {
   "cell_type": "markdown",
   "metadata": {},
   "source": [
    "Pero, un `índice` es más que un conjunto de etiquetas. Es importante destacar que asegura la **alineación de datos** cuando se agregan datos o se combinan estructuras de datos.\n",
    "\n",
    "De hecho, podemos especificar un índice más apropiado para nuestros datos. El campo Año aquí es un índice único para los valores de análisis correspondientes.\n",
    "\n",
    "`set_index` nos permite convertir cualquier columna (o matriz externa) que elijamos en el índice de fila."
   ]
  },
  {
   "cell_type": "code",
   "execution_count": 8,
   "metadata": {},
   "outputs": [
    {
     "data": {
      "text/html": [
       "<div>\n",
       "<style scoped>\n",
       "    .dataframe tbody tr th:only-of-type {\n",
       "        vertical-align: middle;\n",
       "    }\n",
       "\n",
       "    .dataframe tbody tr th {\n",
       "        vertical-align: top;\n",
       "    }\n",
       "\n",
       "    .dataframe thead th {\n",
       "        text-align: right;\n",
       "    }\n",
       "</style>\n",
       "<table border=\"1\" class=\"dataframe\">\n",
       "  <thead>\n",
       "    <tr style=\"text-align: right;\">\n",
       "      <th></th>\n",
       "      <th>Período</th>\n",
       "      <th>Quito</th>\n",
       "      <th>Quito.1</th>\n",
       "      <th>Quito.2</th>\n",
       "      <th>Guayaquil</th>\n",
       "      <th>Guayaquil.1</th>\n",
       "      <th>Guayaquil.2</th>\n",
       "      <th>Cuenca</th>\n",
       "      <th>Cuenca.1</th>\n",
       "      <th>Cuenca.2</th>\n",
       "      <th>Machala</th>\n",
       "      <th>Machala.1</th>\n",
       "      <th>Machala.2</th>\n",
       "      <th>Ambato</th>\n",
       "      <th>Ambato.1</th>\n",
       "      <th>Ambato.2</th>\n",
       "    </tr>\n",
       "    <tr>\n",
       "      <th>Anios</th>\n",
       "      <th></th>\n",
       "      <th></th>\n",
       "      <th></th>\n",
       "      <th></th>\n",
       "      <th></th>\n",
       "      <th></th>\n",
       "      <th></th>\n",
       "      <th></th>\n",
       "      <th></th>\n",
       "      <th></th>\n",
       "      <th></th>\n",
       "      <th></th>\n",
       "      <th></th>\n",
       "      <th></th>\n",
       "      <th></th>\n",
       "      <th></th>\n",
       "    </tr>\n",
       "  </thead>\n",
       "  <tbody>\n",
       "    <tr>\n",
       "      <th>2008.0</th>\n",
       "      <td>Marzo</td>\n",
       "      <td>10.45</td>\n",
       "      <td>3.32</td>\n",
       "      <td>1.76</td>\n",
       "      <td>22.06</td>\n",
       "      <td>6.38</td>\n",
       "      <td>2.87</td>\n",
       "      <td>11.68</td>\n",
       "      <td>3.74</td>\n",
       "      <td>1.88</td>\n",
       "      <td>20.76</td>\n",
       "      <td>6.43</td>\n",
       "      <td>2.82</td>\n",
       "      <td>21.20</td>\n",
       "      <td>6.38</td>\n",
       "      <td>3.11</td>\n",
       "    </tr>\n",
       "    <tr>\n",
       "      <th>2009.0</th>\n",
       "      <td>Marzo</td>\n",
       "      <td>11.16</td>\n",
       "      <td>3.71</td>\n",
       "      <td>1.97</td>\n",
       "      <td>24.28</td>\n",
       "      <td>7.50</td>\n",
       "      <td>3.26</td>\n",
       "      <td>10.91</td>\n",
       "      <td>3.31</td>\n",
       "      <td>1.51</td>\n",
       "      <td>20.76</td>\n",
       "      <td>6.32</td>\n",
       "      <td>2.94</td>\n",
       "      <td>17.55</td>\n",
       "      <td>5.81</td>\n",
       "      <td>2.99</td>\n",
       "    </tr>\n",
       "  </tbody>\n",
       "</table>\n",
       "</div>"
      ],
      "text/plain": [
       "       Período  Quito  Quito.1  Quito.2  Guayaquil  Guayaquil.1  Guayaquil.2  \\\n",
       "Anios                                                                          \n",
       "2008.0   Marzo  10.45     3.32     1.76      22.06         6.38         2.87   \n",
       "2009.0   Marzo  11.16     3.71     1.97      24.28         7.50         3.26   \n",
       "\n",
       "        Cuenca  Cuenca.1  Cuenca.2  Machala  Machala.1  Machala.2  Ambato  \\\n",
       "Anios                                                                       \n",
       "2008.0   11.68      3.74      1.88    20.76       6.43       2.82   21.20   \n",
       "2009.0   10.91      3.31      1.51    20.76       6.32       2.94   17.55   \n",
       "\n",
       "        Ambato.1  Ambato.2  \n",
       "Anios                       \n",
       "2008.0      6.38      3.11  \n",
       "2009.0      5.81      2.99  "
      ]
     },
     "execution_count": 8,
     "metadata": {},
     "output_type": "execute_result"
    }
   ],
   "source": [
    "temp = raw_data.set_index('Anios')\n",
    "temp.head(2)"
   ]
  },
  {
   "cell_type": "markdown",
   "metadata": {},
   "source": [
    "## Data\n",
    "Para nuestra tabla agruparemos los datos de Quito para nuestras graficas"
   ]
  },
  {
   "cell_type": "code",
   "execution_count": 9,
   "metadata": {},
   "outputs": [
    {
     "data": {
      "text/html": [
       "<div>\n",
       "<style scoped>\n",
       "    .dataframe tbody tr th:only-of-type {\n",
       "        vertical-align: middle;\n",
       "    }\n",
       "\n",
       "    .dataframe tbody tr th {\n",
       "        vertical-align: top;\n",
       "    }\n",
       "\n",
       "    .dataframe thead th {\n",
       "        text-align: right;\n",
       "    }\n",
       "</style>\n",
       "<table border=\"1\" class=\"dataframe\">\n",
       "  <thead>\n",
       "    <tr style=\"text-align: right;\">\n",
       "      <th></th>\n",
       "      <th>Anios</th>\n",
       "      <th>Quito</th>\n",
       "      <th>Quito.1</th>\n",
       "      <th>Quito.2</th>\n",
       "    </tr>\n",
       "  </thead>\n",
       "  <tbody>\n",
       "    <tr>\n",
       "      <th>1</th>\n",
       "      <td>2008.0</td>\n",
       "      <td>10.45</td>\n",
       "      <td>3.32</td>\n",
       "      <td>1.76</td>\n",
       "    </tr>\n",
       "  </tbody>\n",
       "</table>\n",
       "</div>"
      ],
      "text/plain": [
       "    Anios  Quito  Quito.1  Quito.2\n",
       "1  2008.0  10.45     3.32     1.76"
      ]
     },
     "execution_count": 9,
     "metadata": {},
     "output_type": "execute_result"
    }
   ],
   "source": [
    "data = raw_data.drop(['Período', 'Guayaquil', 'Guayaquil.1', 'Guayaquil.2', 'Cuenca', 'Cuenca.1', 'Cuenca.2', 'Machala', 'Machala.1', 'Machala.2', 'Ambato', 'Ambato.1', 'Ambato.2'], axis=1)\n",
    "data.head(1)"
   ]
  },
  {
   "cell_type": "markdown",
   "metadata": {},
   "source": [
    "Cambiaremos los nombres de las columnas de nuestra data para ver lo que representaremos"
   ]
  },
  {
   "cell_type": "code",
   "execution_count": 10,
   "metadata": {},
   "outputs": [
    {
     "data": {
      "text/html": [
       "<div>\n",
       "<style scoped>\n",
       "    .dataframe tbody tr th:only-of-type {\n",
       "        vertical-align: middle;\n",
       "    }\n",
       "\n",
       "    .dataframe tbody tr th {\n",
       "        vertical-align: top;\n",
       "    }\n",
       "\n",
       "    .dataframe thead th {\n",
       "        text-align: right;\n",
       "    }\n",
       "</style>\n",
       "<table border=\"1\" class=\"dataframe\">\n",
       "  <thead>\n",
       "    <tr style=\"text-align: right;\">\n",
       "      <th></th>\n",
       "      <th>Anios</th>\n",
       "      <th>Incidencia</th>\n",
       "      <th>Brecha</th>\n",
       "      <th>Severidad</th>\n",
       "    </tr>\n",
       "  </thead>\n",
       "  <tbody>\n",
       "    <tr>\n",
       "      <th>1</th>\n",
       "      <td>2008.0</td>\n",
       "      <td>10.45</td>\n",
       "      <td>3.32</td>\n",
       "      <td>1.76</td>\n",
       "    </tr>\n",
       "  </tbody>\n",
       "</table>\n",
       "</div>"
      ],
      "text/plain": [
       "    Anios  Incidencia  Brecha  Severidad\n",
       "1  2008.0       10.45    3.32       1.76"
      ]
     },
     "execution_count": 10,
     "metadata": {},
     "output_type": "execute_result"
    }
   ],
   "source": [
    "data.columns = ['Anios', 'Incidencia', 'Brecha', 'Severidad']\n",
    "data.head(1)"
   ]
  },
  {
   "cell_type": "markdown",
   "metadata": {},
   "source": [
    "### ¿Qué es incidencia de la pobreza?\n",
    "Número de personas pobres expresado como porcentaje del total de la población en un determinado año. Se define como \"pobres\" a aquellas personas que pertenecen a hogares cuyo consumo per cápita, en un período determinado, es inferior al valor de la línea de pobreza.\n",
    "### ¿Qué es la brecha de la pobreza?\n",
    "La línea de pobreza es el equivalente monetario del costo de una canasta básica de bienes y servicios. La brecha de la pobreza refleja cuan pobres son los pobres y, por tanto, proporciona una idea de la profundidad de las carencias de ingreso o consumo que definen una situación de pobreza.\n",
    "### ¿Qué es la severidad de la pobreza?\n",
    "P es un promedio (sobre la población total, n) de las distancias que separan a individuos u hogares de la línea de pobreza, ponderado por un exponente. El valor del exponente permite que la misma fórmula dé como resultado la incidencia, brecha y severidad de la pobreza como casos especiales de la medida."
   ]
  },
  {
   "cell_type": "markdown",
   "metadata": {},
   "source": [
    "## MARCO TEORICO \n",
    "----"
   ]
  },
  {
   "cell_type": "markdown",
   "metadata": {},
   "source": [
    "## Python \n",
    "\n",
    "Python es un lenguaje de programación interpretado cuya filosofía hace hincapié en una sintaxis que favorezca un código legible.\n",
    "\n",
    "Se trata de un lenguaje de programación multiparadigma, ya que soporta orientación a objetos, programación imperativa y, en menor medida, programación funcional. Es un lenguaje interpretado, usa tipado dinámico y es multiplataforma.\n",
    "\n",
    "\n",
    "## Pandas\n",
    "\n",
    "Pandas es una biblioteca de código abierto con licencia de BSD que proporciona estructuras de datos y herramientas de análisis de datos de alto rendimiento y fácil de usar para el lenguaje de programación Python.\n",
    "\n",
    "pandas es un proyecto patrocinado por NUMFocus. Esto ayudará a garantizar el éxito del desarrollo de los pandas como un proyecto de código abierto de clase mundial, y hace posible donar para el proyecto.\n",
    "\n",
    "## Bokeh\n",
    "\n",
    "Bokeh es una biblioteca de visualización interactiva de Python que se dirige a navegadores web modernos para su presentación. Su objetivo es proporcionar una construcción elegante y concisa de gráficos novedosos al estilo de D3.js y ampliar esta capacidad con interactividad de alto rendimiento en conjuntos de datos de gran tamaño o de transmisión"
   ]
  },
  {
   "cell_type": "markdown",
   "metadata": {},
   "source": [
    "## PROPUESTAS DE VISUALIZACION\n",
    "---\n",
    "**Para la visualización de datos se utilizo la librería bokeh**\n",
    "Con los datos descritos anterior mente utilizaremos bokeh como una manera grafica de visualizar nuestra tabla.\n",
    "\n",
    " - Usarnos gráficos de líneas para visualizar la diferencia que existe en nuestros datos\n",
    " - Utilizaremos gráficos de barras para visualizar la semejanza de los datos del mismo año\n",
    " - También utilizaremos gráficos de pastel interactivos con los que podremos observar la variación de datos dentro de nuestro rango de años."
   ]
  },
  {
   "cell_type": "markdown",
   "metadata": {},
   "source": [
    "Al usar la interfaz bokeh.plotting, necesitamos importar:\n",
    "\n",
    " - Use la función de `figure` para crear nuevos objetos de trazado para trabajar.\n",
    " - Las funciones `output_file`, `output_notebook` para indicar a Bokeh cómo mostrar el resultado."
   ]
  },
  {
   "cell_type": "code",
   "execution_count": 11,
   "metadata": {},
   "outputs": [],
   "source": [
    "from bokeh.io import show\n",
    "from bokeh.plotting import figure"
   ]
  },
  {
   "cell_type": "markdown",
   "metadata": {},
   "source": [
    "Importamos `gridplot` - para presentar varias graficas en una"
   ]
  },
  {
   "cell_type": "code",
   "execution_count": 12,
   "metadata": {},
   "outputs": [],
   "source": [
    "from bokeh.layouts import gridplot"
   ]
  },
  {
   "cell_type": "markdown",
   "metadata": {},
   "source": [
    "En este caso, estamos en `jupyter notebook`, así que llamamos a `output_notebook()`. Solo debemos llamar esto una vez para mostrar nuestras graficas en el cuaderno usando la función `show()` de bokeh."
   ]
  },
  {
   "cell_type": "code",
   "execution_count": 13,
   "metadata": {},
   "outputs": [
    {
     "data": {
      "text/html": [
       "\n",
       "    <div class=\"bk-root\">\n",
       "        <a href=\"https://bokeh.pydata.org\" target=\"_blank\" class=\"bk-logo bk-logo-small bk-logo-notebook\"></a>\n",
       "        <span id=\"8ea54595-12ad-4883-8cd4-da257b4425de\">Loading BokehJS ...</span>\n",
       "    </div>"
      ]
     },
     "metadata": {},
     "output_type": "display_data"
    },
    {
     "data": {
      "application/javascript": [
       "\n",
       "(function(root) {\n",
       "  function now() {\n",
       "    return new Date();\n",
       "  }\n",
       "\n",
       "  var force = true;\n",
       "\n",
       "  if (typeof (root._bokeh_onload_callbacks) === \"undefined\" || force === true) {\n",
       "    root._bokeh_onload_callbacks = [];\n",
       "    root._bokeh_is_loading = undefined;\n",
       "  }\n",
       "\n",
       "  var JS_MIME_TYPE = 'application/javascript';\n",
       "  var HTML_MIME_TYPE = 'text/html';\n",
       "  var EXEC_MIME_TYPE = 'application/vnd.bokehjs_exec.v0+json';\n",
       "  var CLASS_NAME = 'output_bokeh rendered_html';\n",
       "\n",
       "  /**\n",
       "   * Render data to the DOM node\n",
       "   */\n",
       "  function render(props, node) {\n",
       "    var script = document.createElement(\"script\");\n",
       "    node.appendChild(script);\n",
       "  }\n",
       "\n",
       "  /**\n",
       "   * Handle when an output is cleared or removed\n",
       "   */\n",
       "  function handleClearOutput(event, handle) {\n",
       "    var cell = handle.cell;\n",
       "\n",
       "    var id = cell.output_area._bokeh_element_id;\n",
       "    var server_id = cell.output_area._bokeh_server_id;\n",
       "    // Clean up Bokeh references\n",
       "    if (id !== undefined) {\n",
       "      Bokeh.index[id].model.document.clear();\n",
       "      delete Bokeh.index[id];\n",
       "    }\n",
       "\n",
       "    if (server_id !== undefined) {\n",
       "      // Clean up Bokeh references\n",
       "      var cmd = \"from bokeh.io.state import curstate; print(curstate().uuid_to_server['\" + server_id + \"'].get_sessions()[0].document.roots[0]._id)\";\n",
       "      cell.notebook.kernel.execute(cmd, {\n",
       "        iopub: {\n",
       "          output: function(msg) {\n",
       "            var element_id = msg.content.text.trim();\n",
       "            Bokeh.index[element_id].model.document.clear();\n",
       "            delete Bokeh.index[element_id];\n",
       "          }\n",
       "        }\n",
       "      });\n",
       "      // Destroy server and session\n",
       "      var cmd = \"import bokeh.io.notebook as ion; ion.destroy_server('\" + server_id + \"')\";\n",
       "      cell.notebook.kernel.execute(cmd);\n",
       "    }\n",
       "  }\n",
       "\n",
       "  /**\n",
       "   * Handle when a new output is added\n",
       "   */\n",
       "  function handleAddOutput(event, handle) {\n",
       "    var output_area = handle.output_area;\n",
       "    var output = handle.output;\n",
       "\n",
       "    // limit handleAddOutput to display_data with EXEC_MIME_TYPE content only\n",
       "    if ((output.output_type != \"display_data\") || (!output.data.hasOwnProperty(EXEC_MIME_TYPE))) {\n",
       "      return\n",
       "    }\n",
       "\n",
       "    var toinsert = output_area.element.find(`.${CLASS_NAME.split(' ')[0]}`);\n",
       "\n",
       "    if (output.metadata[EXEC_MIME_TYPE][\"id\"] !== undefined) {\n",
       "      toinsert[0].firstChild.textContent = output.data[JS_MIME_TYPE];\n",
       "      // store reference to embed id on output_area\n",
       "      output_area._bokeh_element_id = output.metadata[EXEC_MIME_TYPE][\"id\"];\n",
       "    }\n",
       "    if (output.metadata[EXEC_MIME_TYPE][\"server_id\"] !== undefined) {\n",
       "      var bk_div = document.createElement(\"div\");\n",
       "      bk_div.innerHTML = output.data[HTML_MIME_TYPE];\n",
       "      var script_attrs = bk_div.children[0].attributes;\n",
       "      for (var i = 0; i < script_attrs.length; i++) {\n",
       "        toinsert[0].firstChild.setAttribute(script_attrs[i].name, script_attrs[i].value);\n",
       "      }\n",
       "      // store reference to server id on output_area\n",
       "      output_area._bokeh_server_id = output.metadata[EXEC_MIME_TYPE][\"server_id\"];\n",
       "    }\n",
       "  }\n",
       "\n",
       "  function register_renderer(events, OutputArea) {\n",
       "\n",
       "    function append_mime(data, metadata, element) {\n",
       "      // create a DOM node to render to\n",
       "      var toinsert = this.create_output_subarea(\n",
       "        metadata,\n",
       "        CLASS_NAME,\n",
       "        EXEC_MIME_TYPE\n",
       "      );\n",
       "      this.keyboard_manager.register_events(toinsert);\n",
       "      // Render to node\n",
       "      var props = {data: data, metadata: metadata[EXEC_MIME_TYPE]};\n",
       "      render(props, toinsert[0]);\n",
       "      element.append(toinsert);\n",
       "      return toinsert\n",
       "    }\n",
       "\n",
       "    /* Handle when an output is cleared or removed */\n",
       "    events.on('clear_output.CodeCell', handleClearOutput);\n",
       "    events.on('delete.Cell', handleClearOutput);\n",
       "\n",
       "    /* Handle when a new output is added */\n",
       "    events.on('output_added.OutputArea', handleAddOutput);\n",
       "\n",
       "    /**\n",
       "     * Register the mime type and append_mime function with output_area\n",
       "     */\n",
       "    OutputArea.prototype.register_mime_type(EXEC_MIME_TYPE, append_mime, {\n",
       "      /* Is output safe? */\n",
       "      safe: true,\n",
       "      /* Index of renderer in `output_area.display_order` */\n",
       "      index: 0\n",
       "    });\n",
       "  }\n",
       "\n",
       "  // register the mime type if in Jupyter Notebook environment and previously unregistered\n",
       "  if (root.Jupyter !== undefined) {\n",
       "    var events = require('base/js/events');\n",
       "    var OutputArea = require('notebook/js/outputarea').OutputArea;\n",
       "\n",
       "    if (OutputArea.prototype.mime_types().indexOf(EXEC_MIME_TYPE) == -1) {\n",
       "      register_renderer(events, OutputArea);\n",
       "    }\n",
       "  }\n",
       "\n",
       "  \n",
       "  if (typeof (root._bokeh_timeout) === \"undefined\" || force === true) {\n",
       "    root._bokeh_timeout = Date.now() + 5000;\n",
       "    root._bokeh_failed_load = false;\n",
       "  }\n",
       "\n",
       "  var NB_LOAD_WARNING = {'data': {'text/html':\n",
       "     \"<div style='background-color: #fdd'>\\n\"+\n",
       "     \"<p>\\n\"+\n",
       "     \"BokehJS does not appear to have successfully loaded. If loading BokehJS from CDN, this \\n\"+\n",
       "     \"may be due to a slow or bad network connection. Possible fixes:\\n\"+\n",
       "     \"</p>\\n\"+\n",
       "     \"<ul>\\n\"+\n",
       "     \"<li>re-rerun `output_notebook()` to attempt to load from CDN again, or</li>\\n\"+\n",
       "     \"<li>use INLINE resources instead, as so:</li>\\n\"+\n",
       "     \"</ul>\\n\"+\n",
       "     \"<code>\\n\"+\n",
       "     \"from bokeh.resources import INLINE\\n\"+\n",
       "     \"output_notebook(resources=INLINE)\\n\"+\n",
       "     \"</code>\\n\"+\n",
       "     \"</div>\"}};\n",
       "\n",
       "  function display_loaded() {\n",
       "    var el = document.getElementById(\"8ea54595-12ad-4883-8cd4-da257b4425de\");\n",
       "    if (el != null) {\n",
       "      el.textContent = \"BokehJS is loading...\";\n",
       "    }\n",
       "    if (root.Bokeh !== undefined) {\n",
       "      if (el != null) {\n",
       "        el.textContent = \"BokehJS \" + root.Bokeh.version + \" successfully loaded.\";\n",
       "      }\n",
       "    } else if (Date.now() < root._bokeh_timeout) {\n",
       "      setTimeout(display_loaded, 100)\n",
       "    }\n",
       "  }\n",
       "\n",
       "\n",
       "  function run_callbacks() {\n",
       "    try {\n",
       "      root._bokeh_onload_callbacks.forEach(function(callback) { callback() });\n",
       "    }\n",
       "    finally {\n",
       "      delete root._bokeh_onload_callbacks\n",
       "    }\n",
       "    console.info(\"Bokeh: all callbacks have finished\");\n",
       "  }\n",
       "\n",
       "  function load_libs(js_urls, callback) {\n",
       "    root._bokeh_onload_callbacks.push(callback);\n",
       "    if (root._bokeh_is_loading > 0) {\n",
       "      console.log(\"Bokeh: BokehJS is being loaded, scheduling callback at\", now());\n",
       "      return null;\n",
       "    }\n",
       "    if (js_urls == null || js_urls.length === 0) {\n",
       "      run_callbacks();\n",
       "      return null;\n",
       "    }\n",
       "    console.log(\"Bokeh: BokehJS not loaded, scheduling load and callback at\", now());\n",
       "    root._bokeh_is_loading = js_urls.length;\n",
       "    for (var i = 0; i < js_urls.length; i++) {\n",
       "      var url = js_urls[i];\n",
       "      var s = document.createElement('script');\n",
       "      s.src = url;\n",
       "      s.async = false;\n",
       "      s.onreadystatechange = s.onload = function() {\n",
       "        root._bokeh_is_loading--;\n",
       "        if (root._bokeh_is_loading === 0) {\n",
       "          console.log(\"Bokeh: all BokehJS libraries loaded\");\n",
       "          run_callbacks()\n",
       "        }\n",
       "      };\n",
       "      s.onerror = function() {\n",
       "        console.warn(\"failed to load library \" + url);\n",
       "      };\n",
       "      console.log(\"Bokeh: injecting script tag for BokehJS library: \", url);\n",
       "      document.getElementsByTagName(\"head\")[0].appendChild(s);\n",
       "    }\n",
       "  };var element = document.getElementById(\"8ea54595-12ad-4883-8cd4-da257b4425de\");\n",
       "  if (element == null) {\n",
       "    console.log(\"Bokeh: ERROR: autoload.js configured with elementid '8ea54595-12ad-4883-8cd4-da257b4425de' but no matching script tag was found. \")\n",
       "    return false;\n",
       "  }\n",
       "\n",
       "  var js_urls = [\"https://cdn.pydata.org/bokeh/release/bokeh-0.12.10.min.js\", \"https://cdn.pydata.org/bokeh/release/bokeh-widgets-0.12.10.min.js\", \"https://cdn.pydata.org/bokeh/release/bokeh-tables-0.12.10.min.js\", \"https://cdn.pydata.org/bokeh/release/bokeh-gl-0.12.10.min.js\"];\n",
       "\n",
       "  var inline_js = [\n",
       "    function(Bokeh) {\n",
       "      Bokeh.set_log_level(\"info\");\n",
       "    },\n",
       "    \n",
       "    function(Bokeh) {\n",
       "      \n",
       "    },\n",
       "    function(Bokeh) {\n",
       "      console.log(\"Bokeh: injecting CSS: https://cdn.pydata.org/bokeh/release/bokeh-0.12.10.min.css\");\n",
       "      Bokeh.embed.inject_css(\"https://cdn.pydata.org/bokeh/release/bokeh-0.12.10.min.css\");\n",
       "      console.log(\"Bokeh: injecting CSS: https://cdn.pydata.org/bokeh/release/bokeh-widgets-0.12.10.min.css\");\n",
       "      Bokeh.embed.inject_css(\"https://cdn.pydata.org/bokeh/release/bokeh-widgets-0.12.10.min.css\");\n",
       "      console.log(\"Bokeh: injecting CSS: https://cdn.pydata.org/bokeh/release/bokeh-tables-0.12.10.min.css\");\n",
       "      Bokeh.embed.inject_css(\"https://cdn.pydata.org/bokeh/release/bokeh-tables-0.12.10.min.css\");\n",
       "    }\n",
       "  ];\n",
       "\n",
       "  function run_inline_js() {\n",
       "    \n",
       "    if ((root.Bokeh !== undefined) || (force === true)) {\n",
       "      for (var i = 0; i < inline_js.length; i++) {\n",
       "        inline_js[i].call(root, root.Bokeh);\n",
       "      }if (force === true) {\n",
       "        display_loaded();\n",
       "      }} else if (Date.now() < root._bokeh_timeout) {\n",
       "      setTimeout(run_inline_js, 100);\n",
       "    } else if (!root._bokeh_failed_load) {\n",
       "      console.log(\"Bokeh: BokehJS failed to load within specified timeout.\");\n",
       "      root._bokeh_failed_load = true;\n",
       "    } else if (force !== true) {\n",
       "      var cell = $(document.getElementById(\"8ea54595-12ad-4883-8cd4-da257b4425de\")).parents('.cell').data().cell;\n",
       "      cell.output_area.append_execute_result(NB_LOAD_WARNING)\n",
       "    }\n",
       "\n",
       "  }\n",
       "\n",
       "  if (root._bokeh_is_loading === 0) {\n",
       "    console.log(\"Bokeh: BokehJS loaded, going straight to plotting\");\n",
       "    run_inline_js();\n",
       "  } else {\n",
       "    load_libs(js_urls, function() {\n",
       "      console.log(\"Bokeh: BokehJS plotting callback run at\", now());\n",
       "      run_inline_js();\n",
       "    });\n",
       "  }\n",
       "}(window));"
      ],
      "application/vnd.bokehjs_load.v0+json": "\n(function(root) {\n  function now() {\n    return new Date();\n  }\n\n  var force = true;\n\n  if (typeof (root._bokeh_onload_callbacks) === \"undefined\" || force === true) {\n    root._bokeh_onload_callbacks = [];\n    root._bokeh_is_loading = undefined;\n  }\n\n  \n\n  \n  if (typeof (root._bokeh_timeout) === \"undefined\" || force === true) {\n    root._bokeh_timeout = Date.now() + 5000;\n    root._bokeh_failed_load = false;\n  }\n\n  var NB_LOAD_WARNING = {'data': {'text/html':\n     \"<div style='background-color: #fdd'>\\n\"+\n     \"<p>\\n\"+\n     \"BokehJS does not appear to have successfully loaded. If loading BokehJS from CDN, this \\n\"+\n     \"may be due to a slow or bad network connection. Possible fixes:\\n\"+\n     \"</p>\\n\"+\n     \"<ul>\\n\"+\n     \"<li>re-rerun `output_notebook()` to attempt to load from CDN again, or</li>\\n\"+\n     \"<li>use INLINE resources instead, as so:</li>\\n\"+\n     \"</ul>\\n\"+\n     \"<code>\\n\"+\n     \"from bokeh.resources import INLINE\\n\"+\n     \"output_notebook(resources=INLINE)\\n\"+\n     \"</code>\\n\"+\n     \"</div>\"}};\n\n  function display_loaded() {\n    var el = document.getElementById(\"8ea54595-12ad-4883-8cd4-da257b4425de\");\n    if (el != null) {\n      el.textContent = \"BokehJS is loading...\";\n    }\n    if (root.Bokeh !== undefined) {\n      if (el != null) {\n        el.textContent = \"BokehJS \" + root.Bokeh.version + \" successfully loaded.\";\n      }\n    } else if (Date.now() < root._bokeh_timeout) {\n      setTimeout(display_loaded, 100)\n    }\n  }\n\n\n  function run_callbacks() {\n    try {\n      root._bokeh_onload_callbacks.forEach(function(callback) { callback() });\n    }\n    finally {\n      delete root._bokeh_onload_callbacks\n    }\n    console.info(\"Bokeh: all callbacks have finished\");\n  }\n\n  function load_libs(js_urls, callback) {\n    root._bokeh_onload_callbacks.push(callback);\n    if (root._bokeh_is_loading > 0) {\n      console.log(\"Bokeh: BokehJS is being loaded, scheduling callback at\", now());\n      return null;\n    }\n    if (js_urls == null || js_urls.length === 0) {\n      run_callbacks();\n      return null;\n    }\n    console.log(\"Bokeh: BokehJS not loaded, scheduling load and callback at\", now());\n    root._bokeh_is_loading = js_urls.length;\n    for (var i = 0; i < js_urls.length; i++) {\n      var url = js_urls[i];\n      var s = document.createElement('script');\n      s.src = url;\n      s.async = false;\n      s.onreadystatechange = s.onload = function() {\n        root._bokeh_is_loading--;\n        if (root._bokeh_is_loading === 0) {\n          console.log(\"Bokeh: all BokehJS libraries loaded\");\n          run_callbacks()\n        }\n      };\n      s.onerror = function() {\n        console.warn(\"failed to load library \" + url);\n      };\n      console.log(\"Bokeh: injecting script tag for BokehJS library: \", url);\n      document.getElementsByTagName(\"head\")[0].appendChild(s);\n    }\n  };var element = document.getElementById(\"8ea54595-12ad-4883-8cd4-da257b4425de\");\n  if (element == null) {\n    console.log(\"Bokeh: ERROR: autoload.js configured with elementid '8ea54595-12ad-4883-8cd4-da257b4425de' but no matching script tag was found. \")\n    return false;\n  }\n\n  var js_urls = [\"https://cdn.pydata.org/bokeh/release/bokeh-0.12.10.min.js\", \"https://cdn.pydata.org/bokeh/release/bokeh-widgets-0.12.10.min.js\", \"https://cdn.pydata.org/bokeh/release/bokeh-tables-0.12.10.min.js\", \"https://cdn.pydata.org/bokeh/release/bokeh-gl-0.12.10.min.js\"];\n\n  var inline_js = [\n    function(Bokeh) {\n      Bokeh.set_log_level(\"info\");\n    },\n    \n    function(Bokeh) {\n      \n    },\n    function(Bokeh) {\n      console.log(\"Bokeh: injecting CSS: https://cdn.pydata.org/bokeh/release/bokeh-0.12.10.min.css\");\n      Bokeh.embed.inject_css(\"https://cdn.pydata.org/bokeh/release/bokeh-0.12.10.min.css\");\n      console.log(\"Bokeh: injecting CSS: https://cdn.pydata.org/bokeh/release/bokeh-widgets-0.12.10.min.css\");\n      Bokeh.embed.inject_css(\"https://cdn.pydata.org/bokeh/release/bokeh-widgets-0.12.10.min.css\");\n      console.log(\"Bokeh: injecting CSS: https://cdn.pydata.org/bokeh/release/bokeh-tables-0.12.10.min.css\");\n      Bokeh.embed.inject_css(\"https://cdn.pydata.org/bokeh/release/bokeh-tables-0.12.10.min.css\");\n    }\n  ];\n\n  function run_inline_js() {\n    \n    if ((root.Bokeh !== undefined) || (force === true)) {\n      for (var i = 0; i < inline_js.length; i++) {\n        inline_js[i].call(root, root.Bokeh);\n      }if (force === true) {\n        display_loaded();\n      }} else if (Date.now() < root._bokeh_timeout) {\n      setTimeout(run_inline_js, 100);\n    } else if (!root._bokeh_failed_load) {\n      console.log(\"Bokeh: BokehJS failed to load within specified timeout.\");\n      root._bokeh_failed_load = true;\n    } else if (force !== true) {\n      var cell = $(document.getElementById(\"8ea54595-12ad-4883-8cd4-da257b4425de\")).parents('.cell').data().cell;\n      cell.output_area.append_execute_result(NB_LOAD_WARNING)\n    }\n\n  }\n\n  if (root._bokeh_is_loading === 0) {\n    console.log(\"Bokeh: BokehJS loaded, going straight to plotting\");\n    run_inline_js();\n  } else {\n    load_libs(js_urls, function() {\n      console.log(\"Bokeh: BokehJS plotting callback run at\", now());\n      run_inline_js();\n    });\n  }\n}(window));"
     },
     "metadata": {},
     "output_type": "display_data"
    }
   ],
   "source": [
    "from bokeh.io import output_notebook\n",
    "output_notebook()"
   ]
  },
  {
   "cell_type": "markdown",
   "metadata": {},
   "source": [
    "# GRAFICAS\n",
    "----"
   ]
  },
  {
   "cell_type": "markdown",
   "metadata": {},
   "source": [
    "## Gráfico de Líneas"
   ]
  },
  {
   "cell_type": "markdown",
   "metadata": {},
   "source": [
    "Características que tendrá nuestra grafica"
   ]
  },
  {
   "cell_type": "code",
   "execution_count": 14,
   "metadata": {},
   "outputs": [],
   "source": [
    "graph_line = figure(\n",
    "    plot_height=400, # ancho\n",
    "    plot_width=900, # alto\n",
    "    title='POBREZA-QUITO', # titulo\n",
    "    tools='' # opciones de bokeh\n",
    ")"
   ]
  },
  {
   "cell_type": "markdown",
   "metadata": {},
   "source": [
    "Definimos los datos que representara cada \"Línea\", y otras opciones como color y leyenda"
   ]
  },
  {
   "cell_type": "code",
   "execution_count": 15,
   "metadata": {},
   "outputs": [
    {
     "data": {
      "text/html": [
       "<div style=\"display: table;\"><div style=\"display: table-row;\"><div style=\"display: table-cell;\"><b title=\"bokeh.models.renderers.GlyphRenderer\">GlyphRenderer</b>(</div><div style=\"display: table-cell;\">id&nbsp;=&nbsp;'e58d5aa3-2ab8-4f9b-a971-02c27a35e8e7', <span id=\"8f5f208a-77f2-4d2d-918c-42649338ff2e\" style=\"cursor: pointer;\">&hellip;)</span></div></div><div class=\"55445f03-35c5-4d2d-9051-3b9c085f8175\" style=\"display: none;\"><div style=\"display: table-cell;\"></div><div style=\"display: table-cell;\">data_source&nbsp;=&nbsp;ColumnDataSource(id='f41ccebe-7a27-4eb0-a248-b743dc219974', ...),</div></div><div class=\"55445f03-35c5-4d2d-9051-3b9c085f8175\" style=\"display: none;\"><div style=\"display: table-cell;\"></div><div style=\"display: table-cell;\">glyph&nbsp;=&nbsp;Line(id='75e1d676-5c05-4c6b-81ce-f30ab79129e2', ...),</div></div><div class=\"55445f03-35c5-4d2d-9051-3b9c085f8175\" style=\"display: none;\"><div style=\"display: table-cell;\"></div><div style=\"display: table-cell;\">hover_glyph&nbsp;=&nbsp;None,</div></div><div class=\"55445f03-35c5-4d2d-9051-3b9c085f8175\" style=\"display: none;\"><div style=\"display: table-cell;\"></div><div style=\"display: table-cell;\">js_event_callbacks&nbsp;=&nbsp;{},</div></div><div class=\"55445f03-35c5-4d2d-9051-3b9c085f8175\" style=\"display: none;\"><div style=\"display: table-cell;\"></div><div style=\"display: table-cell;\">js_property_callbacks&nbsp;=&nbsp;{},</div></div><div class=\"55445f03-35c5-4d2d-9051-3b9c085f8175\" style=\"display: none;\"><div style=\"display: table-cell;\"></div><div style=\"display: table-cell;\">level&nbsp;=&nbsp;'glyph',</div></div><div class=\"55445f03-35c5-4d2d-9051-3b9c085f8175\" style=\"display: none;\"><div style=\"display: table-cell;\"></div><div style=\"display: table-cell;\">muted&nbsp;=&nbsp;False,</div></div><div class=\"55445f03-35c5-4d2d-9051-3b9c085f8175\" style=\"display: none;\"><div style=\"display: table-cell;\"></div><div style=\"display: table-cell;\">muted_glyph&nbsp;=&nbsp;None,</div></div><div class=\"55445f03-35c5-4d2d-9051-3b9c085f8175\" style=\"display: none;\"><div style=\"display: table-cell;\"></div><div style=\"display: table-cell;\">name&nbsp;=&nbsp;None,</div></div><div class=\"55445f03-35c5-4d2d-9051-3b9c085f8175\" style=\"display: none;\"><div style=\"display: table-cell;\"></div><div style=\"display: table-cell;\">nonselection_glyph&nbsp;=&nbsp;Line(id='a93b09e6-558c-4f4a-9621-d815cf30013f', ...),</div></div><div class=\"55445f03-35c5-4d2d-9051-3b9c085f8175\" style=\"display: none;\"><div style=\"display: table-cell;\"></div><div style=\"display: table-cell;\">selection_glyph&nbsp;=&nbsp;None,</div></div><div class=\"55445f03-35c5-4d2d-9051-3b9c085f8175\" style=\"display: none;\"><div style=\"display: table-cell;\"></div><div style=\"display: table-cell;\">subscribed_events&nbsp;=&nbsp;[],</div></div><div class=\"55445f03-35c5-4d2d-9051-3b9c085f8175\" style=\"display: none;\"><div style=\"display: table-cell;\"></div><div style=\"display: table-cell;\">tags&nbsp;=&nbsp;[],</div></div><div class=\"55445f03-35c5-4d2d-9051-3b9c085f8175\" style=\"display: none;\"><div style=\"display: table-cell;\"></div><div style=\"display: table-cell;\">view&nbsp;=&nbsp;CDSView(id='721b1f28-1fd8-40eb-848f-4a451d1fc0ab', ...),</div></div><div class=\"55445f03-35c5-4d2d-9051-3b9c085f8175\" style=\"display: none;\"><div style=\"display: table-cell;\"></div><div style=\"display: table-cell;\">visible&nbsp;=&nbsp;True,</div></div><div class=\"55445f03-35c5-4d2d-9051-3b9c085f8175\" style=\"display: none;\"><div style=\"display: table-cell;\"></div><div style=\"display: table-cell;\">x_range_name&nbsp;=&nbsp;'default',</div></div><div class=\"55445f03-35c5-4d2d-9051-3b9c085f8175\" style=\"display: none;\"><div style=\"display: table-cell;\"></div><div style=\"display: table-cell;\">y_range_name&nbsp;=&nbsp;'default')</div></div></div>\n",
       "<script>\n",
       "(function() {\n",
       "  var expanded = false;\n",
       "  var ellipsis = document.getElementById(\"8f5f208a-77f2-4d2d-918c-42649338ff2e\");\n",
       "  ellipsis.addEventListener(\"click\", function() {\n",
       "    var rows = document.getElementsByClassName(\"55445f03-35c5-4d2d-9051-3b9c085f8175\");\n",
       "    for (var i = 0; i < rows.length; i++) {\n",
       "      var el = rows[i];\n",
       "      el.style.display = expanded ? \"none\" : \"table-row\";\n",
       "    }\n",
       "    ellipsis.innerHTML = expanded ? \"&hellip;)\" : \"&lsaquo;&lsaquo;&lsaquo;\";\n",
       "    expanded = !expanded;\n",
       "  });\n",
       "})();\n",
       "</script>\n"
      ],
      "text/plain": [
       "GlyphRenderer(id='e58d5aa3-2ab8-4f9b-a971-02c27a35e8e7', ...)"
      ]
     },
     "execution_count": 15,
     "metadata": {},
     "output_type": "execute_result"
    }
   ],
   "source": [
    "graph_line.line(\n",
    "    x=data.Anios, # datos en x\n",
    "    y=data.Incidencia, # datos en y\n",
    "    color='#f4d341', # color de las líneas\n",
    "    legend='Incidencia', # leyenda que representa nuestra grafica\n",
    "    line_width=5\n",
    ")\n",
    "graph_line.line(x=data.Anios, y=data.Brecha, color='#42f4bf', legend='Brecha',line_width=5)\n",
    "graph_line.line(x=data.Anios, y=data.Severidad, color='#f44171', legend='Severidad',line_width=5)"
   ]
  },
  {
   "cell_type": "markdown",
   "metadata": {},
   "source": [
    "Para no mostramos los trazados del plano y presentamos nuestra grafica"
   ]
  },
  {
   "cell_type": "code",
   "execution_count": 16,
   "metadata": {},
   "outputs": [
    {
     "data": {
      "text/html": [
       "\n",
       "<div class=\"bk-root\">\n",
       "    <div class=\"bk-plotdiv\" id=\"929c6b53-9fd2-4d42-9371-c06ebb95705a\"></div>\n",
       "</div>"
      ]
     },
     "metadata": {},
     "output_type": "display_data"
    },
    {
     "data": {
      "application/javascript": [
       "(function(root) {\n",
       "  function embed_document(root) {\n",
       "    var docs_json = {\"de571368-8b45-4c58-bf7e-31825418c1b2\":{\"roots\":{\"references\":[{\"attributes\":{\"formatter\":{\"id\":\"6ce7aea6-dd99-45bf-92ff-94ff68633062\",\"type\":\"BasicTickFormatter\"},\"plot\":{\"id\":\"7a293c65-0a72-4162-8be1-609f0d39a77f\",\"subtype\":\"Figure\",\"type\":\"Plot\"},\"ticker\":{\"id\":\"d4efd56d-e943-4de6-806e-83455a3f3772\",\"type\":\"BasicTicker\"}},\"id\":\"84ad008c-42d7-4197-b9a2-316ba64027cb\",\"type\":\"LinearAxis\"},{\"attributes\":{},\"id\":\"d4efd56d-e943-4de6-806e-83455a3f3772\",\"type\":\"BasicTicker\"},{\"attributes\":{\"grid_line_color\":{\"value\":null},\"plot\":{\"id\":\"7a293c65-0a72-4162-8be1-609f0d39a77f\",\"subtype\":\"Figure\",\"type\":\"Plot\"},\"ticker\":{\"id\":\"d4efd56d-e943-4de6-806e-83455a3f3772\",\"type\":\"BasicTicker\"}},\"id\":\"137df8af-9837-4b49-9ac2-381749244aac\",\"type\":\"Grid\"},{\"attributes\":{\"formatter\":{\"id\":\"dceaf159-4374-49ae-b104-ae414e6a11f4\",\"type\":\"BasicTickFormatter\"},\"plot\":{\"id\":\"7a293c65-0a72-4162-8be1-609f0d39a77f\",\"subtype\":\"Figure\",\"type\":\"Plot\"},\"ticker\":{\"id\":\"6b247688-9dae-476b-acf4-68e681c6d06c\",\"type\":\"BasicTicker\"}},\"id\":\"02be18b3-4f31-4fb9-898a-42c84151505a\",\"type\":\"LinearAxis\"},{\"attributes\":{},\"id\":\"6b247688-9dae-476b-acf4-68e681c6d06c\",\"type\":\"BasicTicker\"},{\"attributes\":{\"dimension\":1,\"grid_line_color\":{\"value\":null},\"plot\":{\"id\":\"7a293c65-0a72-4162-8be1-609f0d39a77f\",\"subtype\":\"Figure\",\"type\":\"Plot\"},\"ticker\":{\"id\":\"6b247688-9dae-476b-acf4-68e681c6d06c\",\"type\":\"BasicTicker\"}},\"id\":\"25dc1240-2e23-43a7-83b5-cc10b064868e\",\"type\":\"Grid\"},{\"attributes\":{},\"id\":\"6ce7aea6-dd99-45bf-92ff-94ff68633062\",\"type\":\"BasicTickFormatter\"},{\"attributes\":{\"callback\":null,\"column_names\":[\"x\",\"y\"],\"data\":{\"x\":{\"__ndarray__\":\"AAAAAABgn0AAAAAAAGSfQAAAAAAAaJ9AAAAAAABsn0AAAAAAAHCfQAAAAAAAdJ9AAAAAAAB4n0AAAAAAAHyfQAAAAAAAgJ9AAAAAAACEn0A=\",\"dtype\":\"float64\",\"shape\":[10]},\"y\":{\"__ndarray__\":\"j8L1KFyPCkCuR+F6FK4NQFyPwvUoXBFAuB6F61G4CkBSuB6F61EKQNejcD0K1wtAPQrXo3A9BkC4HoXrUbgEQArXo3A9CgVAMzMzMzMzA0A=\",\"dtype\":\"float64\",\"shape\":[10]}}},\"id\":\"4807b02a-30e8-48b7-a098-9aaa12134934\",\"type\":\"ColumnDataSource\"},{\"attributes\":{\"line_alpha\":{\"value\":0.1},\"line_color\":{\"value\":\"#1f77b4\"},\"line_width\":{\"value\":5},\"x\":{\"field\":\"x\"},\"y\":{\"field\":\"y\"}},\"id\":\"80e7dcba-40cb-45ac-ada9-2402e1882821\",\"type\":\"Line\"},{\"attributes\":{\"label\":{\"value\":\"Severidad\"},\"renderers\":[{\"id\":\"e58d5aa3-2ab8-4f9b-a971-02c27a35e8e7\",\"type\":\"GlyphRenderer\"}]},\"id\":\"eb979caf-d33f-4964-ba94-fd89b01dca15\",\"type\":\"LegendItem\"},{\"attributes\":{\"data_source\":{\"id\":\"4dfac4f5-3e6e-4d44-8830-f1137c9932af\",\"type\":\"ColumnDataSource\"},\"glyph\":{\"id\":\"260bd291-c735-42dc-bbca-d1057e8db5ea\",\"type\":\"Line\"},\"hover_glyph\":null,\"muted_glyph\":null,\"nonselection_glyph\":{\"id\":\"80e7dcba-40cb-45ac-ada9-2402e1882821\",\"type\":\"Line\"},\"selection_glyph\":null,\"view\":{\"id\":\"b9c8350e-b551-4d32-a0a1-c0639515f859\",\"type\":\"CDSView\"}},\"id\":\"61c22ecd-0caa-45b1-90fb-672b56d5fc16\",\"type\":\"GlyphRenderer\"},{\"attributes\":{\"source\":{\"id\":\"4dfac4f5-3e6e-4d44-8830-f1137c9932af\",\"type\":\"ColumnDataSource\"}},\"id\":\"b9c8350e-b551-4d32-a0a1-c0639515f859\",\"type\":\"CDSView\"},{\"attributes\":{\"callback\":null,\"column_names\":[\"x\",\"y\"],\"data\":{\"x\":{\"__ndarray__\":\"AAAAAABgn0AAAAAAAGSfQAAAAAAAaJ9AAAAAAABsn0AAAAAAAHCfQAAAAAAAdJ9AAAAAAAB4n0AAAAAAAHyfQAAAAAAAgJ9AAAAAAACEn0A=\",\"dtype\":\"float64\",\"shape\":[10]},\"y\":{\"__ndarray__\":\"ZmZmZmbmJEBSuB6F61EmQIXrUbgeBSpAKVyPwvWoJEBxPQrXo/AhQDMzMzMzsyVA16NwPQrXIUB7FK5H4XofQOxRuB6F6x9AZmZmZmZmHUA=\",\"dtype\":\"float64\",\"shape\":[10]}}},\"id\":\"4dfac4f5-3e6e-4d44-8830-f1137c9932af\",\"type\":\"ColumnDataSource\"},{\"attributes\":{\"line_color\":{\"value\":\"#42f4bf\"},\"line_width\":{\"value\":5},\"x\":{\"field\":\"x\"},\"y\":{\"field\":\"y\"}},\"id\":\"94b0e72c-bb14-4cd5-a143-034079316d2a\",\"type\":\"Line\"},{\"attributes\":{\"line_alpha\":{\"value\":0.1},\"line_color\":{\"value\":\"#1f77b4\"},\"line_width\":{\"value\":5},\"x\":{\"field\":\"x\"},\"y\":{\"field\":\"y\"}},\"id\":\"e58f9054-a5d9-4f31-b9c7-46155c873ff5\",\"type\":\"Line\"},{\"attributes\":{},\"id\":\"dceaf159-4374-49ae-b104-ae414e6a11f4\",\"type\":\"BasicTickFormatter\"},{\"attributes\":{\"below\":[{\"id\":\"84ad008c-42d7-4197-b9a2-316ba64027cb\",\"type\":\"LinearAxis\"}],\"left\":[{\"id\":\"02be18b3-4f31-4fb9-898a-42c84151505a\",\"type\":\"LinearAxis\"}],\"plot_height\":400,\"plot_width\":900,\"renderers\":[{\"id\":\"84ad008c-42d7-4197-b9a2-316ba64027cb\",\"type\":\"LinearAxis\"},{\"id\":\"137df8af-9837-4b49-9ac2-381749244aac\",\"type\":\"Grid\"},{\"id\":\"02be18b3-4f31-4fb9-898a-42c84151505a\",\"type\":\"LinearAxis\"},{\"id\":\"25dc1240-2e23-43a7-83b5-cc10b064868e\",\"type\":\"Grid\"},{\"id\":\"1ec8ada6-be73-4db0-aaad-bf5b8ac266e4\",\"type\":\"Legend\"},{\"id\":\"61c22ecd-0caa-45b1-90fb-672b56d5fc16\",\"type\":\"GlyphRenderer\"},{\"id\":\"74565e6e-687a-4a30-b12c-4bcff1f40ff5\",\"type\":\"GlyphRenderer\"},{\"id\":\"e58d5aa3-2ab8-4f9b-a971-02c27a35e8e7\",\"type\":\"GlyphRenderer\"}],\"title\":{\"id\":\"0746a4e2-0bd2-4417-ab01-1c317fb1fd8d\",\"type\":\"Title\"},\"toolbar\":{\"id\":\"821c1104-a339-45b9-ba2e-b4c640b8f9c7\",\"type\":\"Toolbar\"},\"x_range\":{\"id\":\"d4941f69-c90c-411b-95db-dd6a2027d5d4\",\"type\":\"DataRange1d\"},\"x_scale\":{\"id\":\"40d4f715-9136-43dc-b792-288f84eeb493\",\"type\":\"LinearScale\"},\"y_range\":{\"id\":\"7bd31677-1158-4f6b-94c5-e4a687c1921b\",\"type\":\"DataRange1d\"},\"y_scale\":{\"id\":\"84c5b1fb-ba56-40d2-a235-cde5ea888fb2\",\"type\":\"LinearScale\"}},\"id\":\"7a293c65-0a72-4162-8be1-609f0d39a77f\",\"subtype\":\"Figure\",\"type\":\"Plot\"},{\"attributes\":{\"source\":{\"id\":\"4807b02a-30e8-48b7-a098-9aaa12134934\",\"type\":\"ColumnDataSource\"}},\"id\":\"5b9d277e-1d1f-40ce-8d9c-3e93a9961186\",\"type\":\"CDSView\"},{\"attributes\":{\"data_source\":{\"id\":\"4807b02a-30e8-48b7-a098-9aaa12134934\",\"type\":\"ColumnDataSource\"},\"glyph\":{\"id\":\"94b0e72c-bb14-4cd5-a143-034079316d2a\",\"type\":\"Line\"},\"hover_glyph\":null,\"muted_glyph\":null,\"nonselection_glyph\":{\"id\":\"e58f9054-a5d9-4f31-b9c7-46155c873ff5\",\"type\":\"Line\"},\"selection_glyph\":null,\"view\":{\"id\":\"5b9d277e-1d1f-40ce-8d9c-3e93a9961186\",\"type\":\"CDSView\"}},\"id\":\"74565e6e-687a-4a30-b12c-4bcff1f40ff5\",\"type\":\"GlyphRenderer\"},{\"attributes\":{\"line_color\":{\"value\":\"#f4d341\"},\"line_width\":{\"value\":5},\"x\":{\"field\":\"x\"},\"y\":{\"field\":\"y\"}},\"id\":\"260bd291-c735-42dc-bbca-d1057e8db5ea\",\"type\":\"Line\"},{\"attributes\":{\"label\":{\"value\":\"Brecha\"},\"renderers\":[{\"id\":\"74565e6e-687a-4a30-b12c-4bcff1f40ff5\",\"type\":\"GlyphRenderer\"}]},\"id\":\"a8efb99a-de1d-45a4-af97-88132efda08e\",\"type\":\"LegendItem\"},{\"attributes\":{\"plot\":null,\"text\":\"POBREZA-QUITO\"},\"id\":\"0746a4e2-0bd2-4417-ab01-1c317fb1fd8d\",\"type\":\"Title\"},{\"attributes\":{\"callback\":null},\"id\":\"d4941f69-c90c-411b-95db-dd6a2027d5d4\",\"type\":\"DataRange1d\"},{\"attributes\":{\"line_alpha\":{\"value\":0.1},\"line_color\":{\"value\":\"#1f77b4\"},\"line_width\":{\"value\":5},\"x\":{\"field\":\"x\"},\"y\":{\"field\":\"y\"}},\"id\":\"a93b09e6-558c-4f4a-9621-d815cf30013f\",\"type\":\"Line\"},{\"attributes\":{\"active_drag\":\"auto\",\"active_inspect\":\"auto\",\"active_scroll\":\"auto\",\"active_tap\":\"auto\"},\"id\":\"821c1104-a339-45b9-ba2e-b4c640b8f9c7\",\"type\":\"Toolbar\"},{\"attributes\":{\"callback\":null,\"column_names\":[\"x\",\"y\"],\"data\":{\"x\":{\"__ndarray__\":\"AAAAAABgn0AAAAAAAGSfQAAAAAAAaJ9AAAAAAABsn0AAAAAAAHCfQAAAAAAAdJ9AAAAAAAB4n0AAAAAAAHyfQAAAAAAAgJ9AAAAAAACEn0A=\",\"dtype\":\"float64\",\"shape\":[10]},\"y\":{\"__ndarray__\":\"KVyPwvUo/D+F61G4HoX/P3sUrkfhegJA9ihcj8L1/D9xPQrXo3D5P/YoXI/C9fg/PQrXo3A99j/NzMzMzMz0P3E9CtejcPU/rkfhehSu8z8=\",\"dtype\":\"float64\",\"shape\":[10]}}},\"id\":\"f41ccebe-7a27-4eb0-a248-b743dc219974\",\"type\":\"ColumnDataSource\"},{\"attributes\":{\"source\":{\"id\":\"f41ccebe-7a27-4eb0-a248-b743dc219974\",\"type\":\"ColumnDataSource\"}},\"id\":\"721b1f28-1fd8-40eb-848f-4a451d1fc0ab\",\"type\":\"CDSView\"},{\"attributes\":{\"data_source\":{\"id\":\"f41ccebe-7a27-4eb0-a248-b743dc219974\",\"type\":\"ColumnDataSource\"},\"glyph\":{\"id\":\"75e1d676-5c05-4c6b-81ce-f30ab79129e2\",\"type\":\"Line\"},\"hover_glyph\":null,\"muted_glyph\":null,\"nonselection_glyph\":{\"id\":\"a93b09e6-558c-4f4a-9621-d815cf30013f\",\"type\":\"Line\"},\"selection_glyph\":null,\"view\":{\"id\":\"721b1f28-1fd8-40eb-848f-4a451d1fc0ab\",\"type\":\"CDSView\"}},\"id\":\"e58d5aa3-2ab8-4f9b-a971-02c27a35e8e7\",\"type\":\"GlyphRenderer\"},{\"attributes\":{\"label\":{\"value\":\"Incidencia\"},\"renderers\":[{\"id\":\"61c22ecd-0caa-45b1-90fb-672b56d5fc16\",\"type\":\"GlyphRenderer\"}]},\"id\":\"c12f25e2-f916-42a4-bf8d-06fd37b46e9d\",\"type\":\"LegendItem\"},{\"attributes\":{\"line_color\":{\"value\":\"#f44171\"},\"line_width\":{\"value\":5},\"x\":{\"field\":\"x\"},\"y\":{\"field\":\"y\"}},\"id\":\"75e1d676-5c05-4c6b-81ce-f30ab79129e2\",\"type\":\"Line\"},{\"attributes\":{},\"id\":\"40d4f715-9136-43dc-b792-288f84eeb493\",\"type\":\"LinearScale\"},{\"attributes\":{\"items\":[{\"id\":\"c12f25e2-f916-42a4-bf8d-06fd37b46e9d\",\"type\":\"LegendItem\"},{\"id\":\"a8efb99a-de1d-45a4-af97-88132efda08e\",\"type\":\"LegendItem\"},{\"id\":\"eb979caf-d33f-4964-ba94-fd89b01dca15\",\"type\":\"LegendItem\"}],\"plot\":{\"id\":\"7a293c65-0a72-4162-8be1-609f0d39a77f\",\"subtype\":\"Figure\",\"type\":\"Plot\"}},\"id\":\"1ec8ada6-be73-4db0-aaad-bf5b8ac266e4\",\"type\":\"Legend\"},{\"attributes\":{\"callback\":null},\"id\":\"7bd31677-1158-4f6b-94c5-e4a687c1921b\",\"type\":\"DataRange1d\"},{\"attributes\":{},\"id\":\"84c5b1fb-ba56-40d2-a235-cde5ea888fb2\",\"type\":\"LinearScale\"}],\"root_ids\":[\"7a293c65-0a72-4162-8be1-609f0d39a77f\"]},\"title\":\"Bokeh Application\",\"version\":\"0.12.10\"}};\n",
       "    var render_items = [{\"docid\":\"de571368-8b45-4c58-bf7e-31825418c1b2\",\"elementid\":\"929c6b53-9fd2-4d42-9371-c06ebb95705a\",\"modelid\":\"7a293c65-0a72-4162-8be1-609f0d39a77f\"}];\n",
       "\n",
       "    root.Bokeh.embed.embed_items(docs_json, render_items);\n",
       "  }\n",
       "\n",
       "  if (root.Bokeh !== undefined) {\n",
       "    embed_document(root);\n",
       "  } else {\n",
       "    var attempts = 0;\n",
       "    var timer = setInterval(function(root) {\n",
       "      if (root.Bokeh !== undefined) {\n",
       "        embed_document(root);\n",
       "        clearInterval(timer);\n",
       "      }\n",
       "      attempts++;\n",
       "      if (attempts > 100) {\n",
       "        console.log(\"Bokeh: ERROR: Unable to embed document because BokehJS library is missing\")\n",
       "        clearInterval(timer);\n",
       "      }\n",
       "    }, 10, root)\n",
       "  }\n",
       "})(window);"
      ],
      "application/vnd.bokehjs_exec.v0+json": ""
     },
     "metadata": {
      "application/vnd.bokehjs_exec.v0+json": {
       "id": "7a293c65-0a72-4162-8be1-609f0d39a77f"
      }
     },
     "output_type": "display_data"
    }
   ],
   "source": [
    "graph_line.xgrid.grid_line_color = None # eliminamos las lineas verticales\n",
    "graph_line.ygrid.grid_line_color = None # horizontales\n",
    "show(graph_line) # mostramos nuestra grafica"
   ]
  },
  {
   "cell_type": "markdown",
   "metadata": {},
   "source": [
    "**En esta gráfica, podemos observar la pobreza recuerdo con la incidencia, que desde el año 2008 al 2010, tiene una mayoría de pobreza y del 2010 al 2012 a disminuido de la misma, y del 2012 en adelante sido desmullendo la pobreza, mientras que la pobreza recuerdo con la brecha, casi se aumentado en un rango mínimo, desde el año 2008 al 2016, y por último la pobreza de acuerdo con la serenidad no ha existido un rango alto de pobreza, si no que se ha ido manteniendo en un porcentaje medio.**"
   ]
  },
  {
   "cell_type": "markdown",
   "metadata": {},
   "source": [
    "## Gráfico de barras"
   ]
  },
  {
   "cell_type": "markdown",
   "metadata": {},
   "source": [
    "Creamos una variable contiene los parámetros de nuestra grafica final"
   ]
  },
  {
   "cell_type": "code",
   "execution_count": 17,
   "metadata": {},
   "outputs": [],
   "source": [
    "options = dict( # opciones que compartirán cada una de nuestras graficas\n",
    "    plot_width=300, plot_height=300, # Tamaño\n",
    "    tools='' # Herramientas de bokeh adicionales\n",
    ")"
   ]
  },
  {
   "cell_type": "markdown",
   "metadata": {},
   "source": [
    "Creamos un objeto de figura por cada gráfica y establecemos sus opciones y titulo. (opciones)"
   ]
  },
  {
   "cell_type": "code",
   "execution_count": 18,
   "metadata": {},
   "outputs": [],
   "source": [
    "graph_bar_1 = figure(\n",
    "    title='Incidencia', # título de esta grafica en particular\n",
    "    **options # opciones antes definidas\n",
    ")\n",
    "graph_bar_2 = figure(title='Brecha', **options)\n",
    "graph_bar_3 = figure(title='Severidad', **options)"
   ]
  },
  {
   "cell_type": "markdown",
   "metadata": {},
   "source": [
    "Definimos lo que cada una de nuestras graficas representara"
   ]
  },
  {
   "cell_type": "code",
   "execution_count": 19,
   "metadata": {},
   "outputs": [
    {
     "data": {
      "text/html": [
       "<div style=\"display: table;\"><div style=\"display: table-row;\"><div style=\"display: table-cell;\"><b title=\"bokeh.models.renderers.GlyphRenderer\">GlyphRenderer</b>(</div><div style=\"display: table-cell;\">id&nbsp;=&nbsp;'28d034e8-cfe3-4855-8808-83f1ccd1a358', <span id=\"11148dee-2605-4a2c-a393-387cf3d6c5e0\" style=\"cursor: pointer;\">&hellip;)</span></div></div><div class=\"2a90d345-411e-4dde-91f9-3d873a199208\" style=\"display: none;\"><div style=\"display: table-cell;\"></div><div style=\"display: table-cell;\">data_source&nbsp;=&nbsp;ColumnDataSource(id='bd5c542a-1f76-4c64-ba0e-54fa41ae8d81', ...),</div></div><div class=\"2a90d345-411e-4dde-91f9-3d873a199208\" style=\"display: none;\"><div style=\"display: table-cell;\"></div><div style=\"display: table-cell;\">glyph&nbsp;=&nbsp;VBar(id='6e578feb-b702-46f6-8817-0c8c328e5435', ...),</div></div><div class=\"2a90d345-411e-4dde-91f9-3d873a199208\" style=\"display: none;\"><div style=\"display: table-cell;\"></div><div style=\"display: table-cell;\">hover_glyph&nbsp;=&nbsp;None,</div></div><div class=\"2a90d345-411e-4dde-91f9-3d873a199208\" style=\"display: none;\"><div style=\"display: table-cell;\"></div><div style=\"display: table-cell;\">js_event_callbacks&nbsp;=&nbsp;{},</div></div><div class=\"2a90d345-411e-4dde-91f9-3d873a199208\" style=\"display: none;\"><div style=\"display: table-cell;\"></div><div style=\"display: table-cell;\">js_property_callbacks&nbsp;=&nbsp;{},</div></div><div class=\"2a90d345-411e-4dde-91f9-3d873a199208\" style=\"display: none;\"><div style=\"display: table-cell;\"></div><div style=\"display: table-cell;\">level&nbsp;=&nbsp;'glyph',</div></div><div class=\"2a90d345-411e-4dde-91f9-3d873a199208\" style=\"display: none;\"><div style=\"display: table-cell;\"></div><div style=\"display: table-cell;\">muted&nbsp;=&nbsp;False,</div></div><div class=\"2a90d345-411e-4dde-91f9-3d873a199208\" style=\"display: none;\"><div style=\"display: table-cell;\"></div><div style=\"display: table-cell;\">muted_glyph&nbsp;=&nbsp;None,</div></div><div class=\"2a90d345-411e-4dde-91f9-3d873a199208\" style=\"display: none;\"><div style=\"display: table-cell;\"></div><div style=\"display: table-cell;\">name&nbsp;=&nbsp;None,</div></div><div class=\"2a90d345-411e-4dde-91f9-3d873a199208\" style=\"display: none;\"><div style=\"display: table-cell;\"></div><div style=\"display: table-cell;\">nonselection_glyph&nbsp;=&nbsp;VBar(id='e55ba6b8-564f-450e-9fa2-d678b355e0b6', ...),</div></div><div class=\"2a90d345-411e-4dde-91f9-3d873a199208\" style=\"display: none;\"><div style=\"display: table-cell;\"></div><div style=\"display: table-cell;\">selection_glyph&nbsp;=&nbsp;None,</div></div><div class=\"2a90d345-411e-4dde-91f9-3d873a199208\" style=\"display: none;\"><div style=\"display: table-cell;\"></div><div style=\"display: table-cell;\">subscribed_events&nbsp;=&nbsp;[],</div></div><div class=\"2a90d345-411e-4dde-91f9-3d873a199208\" style=\"display: none;\"><div style=\"display: table-cell;\"></div><div style=\"display: table-cell;\">tags&nbsp;=&nbsp;[],</div></div><div class=\"2a90d345-411e-4dde-91f9-3d873a199208\" style=\"display: none;\"><div style=\"display: table-cell;\"></div><div style=\"display: table-cell;\">view&nbsp;=&nbsp;CDSView(id='daa8ef7b-ea26-43a4-ae9c-4d285e16935d', ...),</div></div><div class=\"2a90d345-411e-4dde-91f9-3d873a199208\" style=\"display: none;\"><div style=\"display: table-cell;\"></div><div style=\"display: table-cell;\">visible&nbsp;=&nbsp;True,</div></div><div class=\"2a90d345-411e-4dde-91f9-3d873a199208\" style=\"display: none;\"><div style=\"display: table-cell;\"></div><div style=\"display: table-cell;\">x_range_name&nbsp;=&nbsp;'default',</div></div><div class=\"2a90d345-411e-4dde-91f9-3d873a199208\" style=\"display: none;\"><div style=\"display: table-cell;\"></div><div style=\"display: table-cell;\">y_range_name&nbsp;=&nbsp;'default')</div></div></div>\n",
       "<script>\n",
       "(function() {\n",
       "  var expanded = false;\n",
       "  var ellipsis = document.getElementById(\"11148dee-2605-4a2c-a393-387cf3d6c5e0\");\n",
       "  ellipsis.addEventListener(\"click\", function() {\n",
       "    var rows = document.getElementsByClassName(\"2a90d345-411e-4dde-91f9-3d873a199208\");\n",
       "    for (var i = 0; i < rows.length; i++) {\n",
       "      var el = rows[i];\n",
       "      el.style.display = expanded ? \"none\" : \"table-row\";\n",
       "    }\n",
       "    ellipsis.innerHTML = expanded ? \"&hellip;)\" : \"&lsaquo;&lsaquo;&lsaquo;\";\n",
       "    expanded = !expanded;\n",
       "  });\n",
       "})();\n",
       "</script>\n"
      ],
      "text/plain": [
       "GlyphRenderer(id='28d034e8-cfe3-4855-8808-83f1ccd1a358', ...)"
      ]
     },
     "execution_count": 19,
     "metadata": {},
     "output_type": "execute_result"
    }
   ],
   "source": [
    "graph_bar_1.vbar(\n",
    "    x=data.Anios, # datos en x\n",
    "    top=data.Incidencia, # valor máximo\n",
    "    width=0.7, # ancho de cada barra\n",
    "    line_color=\"white\", # color del borde de cada barra\n",
    "    color=\"#f4d341\" # color de cada barra\n",
    ")\n",
    "graph_bar_2.vbar(x=data.Anios, top=data.Brecha, width=0.7, line_color=\"white\", color=\"#42f4bf\")\n",
    "graph_bar_3.vbar(x=data.Anios, top=data.Severidad, width=0.7, line_color=\"white\", color=\"#f44171\")"
   ]
  },
  {
   "cell_type": "markdown",
   "metadata": {},
   "source": [
    "Creamos una nueva figura que está compuesta por las figuras creadas anteriormente"
   ]
  },
  {
   "cell_type": "code",
   "execution_count": 20,
   "metadata": {},
   "outputs": [
    {
     "data": {
      "text/html": [
       "\n",
       "<div class=\"bk-root\">\n",
       "    <div class=\"bk-plotdiv\" id=\"adbbb401-fd74-469b-b0e5-4e9af30b2bac\"></div>\n",
       "</div>"
      ]
     },
     "metadata": {},
     "output_type": "display_data"
    },
    {
     "data": {
      "application/javascript": [
       "(function(root) {\n",
       "  function embed_document(root) {\n",
       "    var docs_json = {\"a163a695-ef50-408c-8ff5-a84f33298aa1\":{\"roots\":{\"references\":[{\"attributes\":{\"fill_color\":{\"value\":\"#f44171\"},\"line_color\":{\"value\":\"white\"},\"top\":{\"field\":\"top\"},\"width\":{\"value\":0.7},\"x\":{\"field\":\"x\"}},\"id\":\"6e578feb-b702-46f6-8817-0c8c328e5435\",\"type\":\"VBar\"},{\"attributes\":{\"callback\":null,\"column_names\":[\"x\",\"top\"],\"data\":{\"top\":{\"__ndarray__\":\"j8L1KFyPCkCuR+F6FK4NQFyPwvUoXBFAuB6F61G4CkBSuB6F61EKQNejcD0K1wtAPQrXo3A9BkC4HoXrUbgEQArXo3A9CgVAMzMzMzMzA0A=\",\"dtype\":\"float64\",\"shape\":[10]},\"x\":{\"__ndarray__\":\"AAAAAABgn0AAAAAAAGSfQAAAAAAAaJ9AAAAAAABsn0AAAAAAAHCfQAAAAAAAdJ9AAAAAAAB4n0AAAAAAAHyfQAAAAAAAgJ9AAAAAAACEn0A=\",\"dtype\":\"float64\",\"shape\":[10]}}},\"id\":\"cb3a1656-85fb-4c9e-b7b5-33214908a773\",\"type\":\"ColumnDataSource\"},{\"attributes\":{\"callback\":null,\"column_names\":[\"x\",\"top\"],\"data\":{\"top\":{\"__ndarray__\":\"ZmZmZmbmJEBSuB6F61EmQIXrUbgeBSpAKVyPwvWoJEBxPQrXo/AhQDMzMzMzsyVA16NwPQrXIUB7FK5H4XofQOxRuB6F6x9AZmZmZmZmHUA=\",\"dtype\":\"float64\",\"shape\":[10]},\"x\":{\"__ndarray__\":\"AAAAAABgn0AAAAAAAGSfQAAAAAAAaJ9AAAAAAABsn0AAAAAAAHCfQAAAAAAAdJ9AAAAAAAB4n0AAAAAAAHyfQAAAAAAAgJ9AAAAAAACEn0A=\",\"dtype\":\"float64\",\"shape\":[10]}}},\"id\":\"f1f3837b-37a6-40c4-94e0-1dc6bbeb1d78\",\"type\":\"ColumnDataSource\"},{\"attributes\":{\"below\":[{\"id\":\"00c8cdfc-4a53-4f97-9141-1ab99e08c4ea\",\"type\":\"LinearAxis\"}],\"left\":[{\"id\":\"1d5a5179-698a-497b-940c-ba01accc4ae1\",\"type\":\"LinearAxis\"}],\"plot_height\":300,\"plot_width\":300,\"renderers\":[{\"id\":\"00c8cdfc-4a53-4f97-9141-1ab99e08c4ea\",\"type\":\"LinearAxis\"},{\"id\":\"0a37e0af-af78-431a-b6eb-152bc563e88f\",\"type\":\"Grid\"},{\"id\":\"1d5a5179-698a-497b-940c-ba01accc4ae1\",\"type\":\"LinearAxis\"},{\"id\":\"216d266a-cdb8-4470-a564-6debe0e7fde4\",\"type\":\"Grid\"},{\"id\":\"815f958e-6929-4374-8d6e-5059aadcaca6\",\"type\":\"GlyphRenderer\"}],\"title\":{\"id\":\"be87f8bc-f02d-44fe-ade8-503e66e524a0\",\"type\":\"Title\"},\"toolbar\":{\"id\":\"621c9922-a09e-4c35-9e5e-19c06cf8f20a\",\"type\":\"Toolbar\"},\"toolbar_location\":null,\"x_range\":{\"id\":\"906698b2-2175-4b3b-bf29-6a64ef5d8fd7\",\"type\":\"DataRange1d\"},\"x_scale\":{\"id\":\"cf982be1-dbfc-4d77-b4b7-47ff37f37ad0\",\"type\":\"LinearScale\"},\"y_range\":{\"id\":\"6d71f30f-f871-4d88-9a9e-b91d022ac737\",\"type\":\"DataRange1d\"},\"y_scale\":{\"id\":\"c7386815-d76d-404b-9095-66d27eb720bf\",\"type\":\"LinearScale\"}},\"id\":\"22d22e76-435c-42c2-ba1e-eed27cec0490\",\"subtype\":\"Figure\",\"type\":\"Plot\"},{\"attributes\":{},\"id\":\"6ba4828c-1322-4ea8-a95a-4efd3d33f3d1\",\"type\":\"BasicTickFormatter\"},{\"attributes\":{\"below\":[{\"id\":\"ad4cb311-eec4-4b08-aace-254b8ac078d5\",\"type\":\"LinearAxis\"}],\"left\":[{\"id\":\"720fbfd1-ec93-4158-89af-ad5418c3ba73\",\"type\":\"LinearAxis\"}],\"plot_height\":300,\"plot_width\":300,\"renderers\":[{\"id\":\"ad4cb311-eec4-4b08-aace-254b8ac078d5\",\"type\":\"LinearAxis\"},{\"id\":\"aa5c4374-64da-47a0-b57f-6901d390572c\",\"type\":\"Grid\"},{\"id\":\"720fbfd1-ec93-4158-89af-ad5418c3ba73\",\"type\":\"LinearAxis\"},{\"id\":\"5657f6e6-d157-4706-95b7-741a7ad6b26a\",\"type\":\"Grid\"},{\"id\":\"e0c7ca2d-5e41-48d6-9c00-18e4af3fdc8e\",\"type\":\"GlyphRenderer\"}],\"title\":{\"id\":\"4413b7d0-6513-4ad1-8840-dd1825709938\",\"type\":\"Title\"},\"toolbar\":{\"id\":\"b1cff1da-a7b5-486f-8f77-8e630719ca57\",\"type\":\"Toolbar\"},\"toolbar_location\":null,\"x_range\":{\"id\":\"ab9e81a8-fa35-49af-8bf6-998194da3281\",\"type\":\"DataRange1d\"},\"x_scale\":{\"id\":\"5cc40478-2122-4116-85ad-0c9e2803b2ce\",\"type\":\"LinearScale\"},\"y_range\":{\"id\":\"8d8c1124-936c-4e1f-a9f2-97c9b976464a\",\"type\":\"DataRange1d\"},\"y_scale\":{\"id\":\"2654bdb0-1413-4515-bda3-736607ca0dcc\",\"type\":\"LinearScale\"}},\"id\":\"ab45465a-34c9-4bae-8ad1-15f9892c071c\",\"subtype\":\"Figure\",\"type\":\"Plot\"},{\"attributes\":{\"fill_color\":{\"value\":\"#f4d341\"},\"line_color\":{\"value\":\"white\"},\"top\":{\"field\":\"top\"},\"width\":{\"value\":0.7},\"x\":{\"field\":\"x\"}},\"id\":\"e170e88e-14dc-40a3-83a5-60543fa235c5\",\"type\":\"VBar\"},{\"attributes\":{\"fill_alpha\":{\"value\":0.1},\"fill_color\":{\"value\":\"#1f77b4\"},\"line_alpha\":{\"value\":0.1},\"line_color\":{\"value\":\"#1f77b4\"},\"top\":{\"field\":\"top\"},\"width\":{\"value\":0.7},\"x\":{\"field\":\"x\"}},\"id\":\"4bd65a59-688d-49b7-b56a-e5a8735924dd\",\"type\":\"VBar\"},{\"attributes\":{\"plot\":null,\"text\":\"Incidencia\"},\"id\":\"be87f8bc-f02d-44fe-ade8-503e66e524a0\",\"type\":\"Title\"},{\"attributes\":{\"callback\":null,\"column_names\":[\"x\",\"top\"],\"data\":{\"top\":{\"__ndarray__\":\"KVyPwvUo/D+F61G4HoX/P3sUrkfhegJA9ihcj8L1/D9xPQrXo3D5P/YoXI/C9fg/PQrXo3A99j/NzMzMzMz0P3E9CtejcPU/rkfhehSu8z8=\",\"dtype\":\"float64\",\"shape\":[10]},\"x\":{\"__ndarray__\":\"AAAAAABgn0AAAAAAAGSfQAAAAAAAaJ9AAAAAAABsn0AAAAAAAHCfQAAAAAAAdJ9AAAAAAAB4n0AAAAAAAHyfQAAAAAAAgJ9AAAAAAACEn0A=\",\"dtype\":\"float64\",\"shape\":[10]}}},\"id\":\"bd5c542a-1f76-4c64-ba0e-54fa41ae8d81\",\"type\":\"ColumnDataSource\"},{\"attributes\":{\"callback\":null},\"id\":\"906698b2-2175-4b3b-bf29-6a64ef5d8fd7\",\"type\":\"DataRange1d\"},{\"attributes\":{\"fill_alpha\":{\"value\":0.1},\"fill_color\":{\"value\":\"#1f77b4\"},\"line_alpha\":{\"value\":0.1},\"line_color\":{\"value\":\"#1f77b4\"},\"top\":{\"field\":\"top\"},\"width\":{\"value\":0.7},\"x\":{\"field\":\"x\"}},\"id\":\"0906fb2b-9e9e-41c8-9ffd-71ff95c63f0e\",\"type\":\"VBar\"},{\"attributes\":{\"active_drag\":\"auto\",\"active_inspect\":\"auto\",\"active_scroll\":\"auto\",\"active_tap\":\"auto\"},\"id\":\"621c9922-a09e-4c35-9e5e-19c06cf8f20a\",\"type\":\"Toolbar\"},{\"attributes\":{\"source\":{\"id\":\"cb3a1656-85fb-4c9e-b7b5-33214908a773\",\"type\":\"ColumnDataSource\"}},\"id\":\"10a20540-6c2d-48b7-bffc-5cfdeab9e2d4\",\"type\":\"CDSView\"},{\"attributes\":{\"data_source\":{\"id\":\"f1f3837b-37a6-40c4-94e0-1dc6bbeb1d78\",\"type\":\"ColumnDataSource\"},\"glyph\":{\"id\":\"e170e88e-14dc-40a3-83a5-60543fa235c5\",\"type\":\"VBar\"},\"hover_glyph\":null,\"muted_glyph\":null,\"nonselection_glyph\":{\"id\":\"4bd65a59-688d-49b7-b56a-e5a8735924dd\",\"type\":\"VBar\"},\"selection_glyph\":null,\"view\":{\"id\":\"b083d267-78f0-4b29-985c-33d6dc03cae3\",\"type\":\"CDSView\"}},\"id\":\"815f958e-6929-4374-8d6e-5059aadcaca6\",\"type\":\"GlyphRenderer\"},{\"attributes\":{},\"id\":\"cf982be1-dbfc-4d77-b4b7-47ff37f37ad0\",\"type\":\"LinearScale\"},{\"attributes\":{\"fill_color\":{\"value\":\"#42f4bf\"},\"line_color\":{\"value\":\"white\"},\"top\":{\"field\":\"top\"},\"width\":{\"value\":0.7},\"x\":{\"field\":\"x\"}},\"id\":\"132d8025-aa8f-4e54-b786-829c3b66f364\",\"type\":\"VBar\"},{\"attributes\":{\"callback\":null},\"id\":\"6d71f30f-f871-4d88-9a9e-b91d022ac737\",\"type\":\"DataRange1d\"},{\"attributes\":{\"source\":{\"id\":\"f1f3837b-37a6-40c4-94e0-1dc6bbeb1d78\",\"type\":\"ColumnDataSource\"}},\"id\":\"b083d267-78f0-4b29-985c-33d6dc03cae3\",\"type\":\"CDSView\"},{\"attributes\":{},\"id\":\"c7386815-d76d-404b-9095-66d27eb720bf\",\"type\":\"LinearScale\"},{\"attributes\":{},\"id\":\"0e686960-40af-4f15-b7e5-9c5117c4962e\",\"type\":\"BasicTickFormatter\"},{\"attributes\":{\"plot\":null,\"text\":\"Brecha\"},\"id\":\"4413b7d0-6513-4ad1-8840-dd1825709938\",\"type\":\"Title\"},{\"attributes\":{\"data_source\":{\"id\":\"bd5c542a-1f76-4c64-ba0e-54fa41ae8d81\",\"type\":\"ColumnDataSource\"},\"glyph\":{\"id\":\"6e578feb-b702-46f6-8817-0c8c328e5435\",\"type\":\"VBar\"},\"hover_glyph\":null,\"muted_glyph\":null,\"nonselection_glyph\":{\"id\":\"e55ba6b8-564f-450e-9fa2-d678b355e0b6\",\"type\":\"VBar\"},\"selection_glyph\":null,\"view\":{\"id\":\"daa8ef7b-ea26-43a4-ae9c-4d285e16935d\",\"type\":\"CDSView\"}},\"id\":\"28d034e8-cfe3-4855-8808-83f1ccd1a358\",\"type\":\"GlyphRenderer\"},{\"attributes\":{\"formatter\":{\"id\":\"6ba4828c-1322-4ea8-a95a-4efd3d33f3d1\",\"type\":\"BasicTickFormatter\"},\"plot\":{\"id\":\"22d22e76-435c-42c2-ba1e-eed27cec0490\",\"subtype\":\"Figure\",\"type\":\"Plot\"},\"ticker\":{\"id\":\"541468ee-b640-4bec-92db-24f92d575583\",\"type\":\"BasicTicker\"}},\"id\":\"00c8cdfc-4a53-4f97-9141-1ab99e08c4ea\",\"type\":\"LinearAxis\"},{\"attributes\":{\"data_source\":{\"id\":\"cb3a1656-85fb-4c9e-b7b5-33214908a773\",\"type\":\"ColumnDataSource\"},\"glyph\":{\"id\":\"132d8025-aa8f-4e54-b786-829c3b66f364\",\"type\":\"VBar\"},\"hover_glyph\":null,\"muted_glyph\":null,\"nonselection_glyph\":{\"id\":\"0906fb2b-9e9e-41c8-9ffd-71ff95c63f0e\",\"type\":\"VBar\"},\"selection_glyph\":null,\"view\":{\"id\":\"10a20540-6c2d-48b7-bffc-5cfdeab9e2d4\",\"type\":\"CDSView\"}},\"id\":\"e0c7ca2d-5e41-48d6-9c00-18e4af3fdc8e\",\"type\":\"GlyphRenderer\"},{\"attributes\":{\"plot\":null,\"text\":\"Severidad\"},\"id\":\"011bb2b7-2c70-4d86-9994-3a51d18eaaa8\",\"type\":\"Title\"},{\"attributes\":{},\"id\":\"e3c8bb68-4a00-473f-877d-d6c1eb552926\",\"type\":\"BasicTickFormatter\"},{\"attributes\":{},\"id\":\"541468ee-b640-4bec-92db-24f92d575583\",\"type\":\"BasicTicker\"},{\"attributes\":{\"fill_alpha\":{\"value\":0.1},\"fill_color\":{\"value\":\"#1f77b4\"},\"line_alpha\":{\"value\":0.1},\"line_color\":{\"value\":\"#1f77b4\"},\"top\":{\"field\":\"top\"},\"width\":{\"value\":0.7},\"x\":{\"field\":\"x\"}},\"id\":\"e55ba6b8-564f-450e-9fa2-d678b355e0b6\",\"type\":\"VBar\"},{\"attributes\":{\"plot\":{\"id\":\"22d22e76-435c-42c2-ba1e-eed27cec0490\",\"subtype\":\"Figure\",\"type\":\"Plot\"},\"ticker\":{\"id\":\"541468ee-b640-4bec-92db-24f92d575583\",\"type\":\"BasicTicker\"}},\"id\":\"0a37e0af-af78-431a-b6eb-152bc563e88f\",\"type\":\"Grid\"},{\"attributes\":{},\"id\":\"851fc444-6fcf-49c8-a867-6ccbbc23f963\",\"type\":\"BasicTickFormatter\"},{\"attributes\":{\"formatter\":{\"id\":\"0e686960-40af-4f15-b7e5-9c5117c4962e\",\"type\":\"BasicTickFormatter\"},\"plot\":{\"id\":\"22d22e76-435c-42c2-ba1e-eed27cec0490\",\"subtype\":\"Figure\",\"type\":\"Plot\"},\"ticker\":{\"id\":\"1e5864f6-df9d-4ca9-851c-0bdbecd14782\",\"type\":\"BasicTicker\"}},\"id\":\"1d5a5179-698a-497b-940c-ba01accc4ae1\",\"type\":\"LinearAxis\"},{\"attributes\":{\"children\":[{\"id\":\"50f86115-ba99-488a-98b5-ffe1311c8e08\",\"type\":\"ToolbarBox\"},{\"id\":\"a58c3d2d-1149-41d1-9b1c-42a4364517b3\",\"type\":\"Column\"}]},\"id\":\"6219200b-14c7-430e-8fdb-1d7e4c33434f\",\"type\":\"Column\"},{\"attributes\":{},\"id\":\"1e5864f6-df9d-4ca9-851c-0bdbecd14782\",\"type\":\"BasicTicker\"},{\"attributes\":{},\"id\":\"7ab6b774-c6b1-4bb7-b499-4acf2628dfcd\",\"type\":\"BasicTickFormatter\"},{\"attributes\":{\"dimension\":1,\"plot\":{\"id\":\"22d22e76-435c-42c2-ba1e-eed27cec0490\",\"subtype\":\"Figure\",\"type\":\"Plot\"},\"ticker\":{\"id\":\"1e5864f6-df9d-4ca9-851c-0bdbecd14782\",\"type\":\"BasicTicker\"}},\"id\":\"216d266a-cdb8-4470-a564-6debe0e7fde4\",\"type\":\"Grid\"},{\"attributes\":{\"below\":[{\"id\":\"3ff7f5d9-8fa8-45c8-a03b-3a7ec5572f67\",\"type\":\"LinearAxis\"}],\"left\":[{\"id\":\"490aa075-5b89-457d-b437-c72fe09c1835\",\"type\":\"LinearAxis\"}],\"plot_height\":300,\"plot_width\":300,\"renderers\":[{\"id\":\"3ff7f5d9-8fa8-45c8-a03b-3a7ec5572f67\",\"type\":\"LinearAxis\"},{\"id\":\"117c8c80-2464-4f6f-a532-10a725fcb902\",\"type\":\"Grid\"},{\"id\":\"490aa075-5b89-457d-b437-c72fe09c1835\",\"type\":\"LinearAxis\"},{\"id\":\"027099db-3b37-4def-9365-ff7b5bf12fd7\",\"type\":\"Grid\"},{\"id\":\"28d034e8-cfe3-4855-8808-83f1ccd1a358\",\"type\":\"GlyphRenderer\"}],\"title\":{\"id\":\"011bb2b7-2c70-4d86-9994-3a51d18eaaa8\",\"type\":\"Title\"},\"toolbar\":{\"id\":\"83e5f570-64ad-4a96-ba3e-4703204d0efd\",\"type\":\"Toolbar\"},\"toolbar_location\":null,\"x_range\":{\"id\":\"b100abef-0fcb-4e7a-ad7d-f7d593f01e09\",\"type\":\"DataRange1d\"},\"x_scale\":{\"id\":\"54537500-0bdd-46d2-a036-57ad160af46d\",\"type\":\"LinearScale\"},\"y_range\":{\"id\":\"ebd40440-c200-44a0-ac6c-07b0a51bf4e5\",\"type\":\"DataRange1d\"},\"y_scale\":{\"id\":\"bffcf386-e74f-4e30-8fc7-9e947e2f91b7\",\"type\":\"LinearScale\"}},\"id\":\"c95b1a17-8e40-4011-b7f0-050ba12443eb\",\"subtype\":\"Figure\",\"type\":\"Plot\"},{\"attributes\":{\"children\":[{\"id\":\"22d22e76-435c-42c2-ba1e-eed27cec0490\",\"subtype\":\"Figure\",\"type\":\"Plot\"},{\"id\":\"ab45465a-34c9-4bae-8ad1-15f9892c071c\",\"subtype\":\"Figure\",\"type\":\"Plot\"},{\"id\":\"c95b1a17-8e40-4011-b7f0-050ba12443eb\",\"subtype\":\"Figure\",\"type\":\"Plot\"}]},\"id\":\"6af59d22-656d-4311-854e-c2cf011bf9e4\",\"type\":\"Row\"},{\"attributes\":{\"callback\":null},\"id\":\"ab9e81a8-fa35-49af-8bf6-998194da3281\",\"type\":\"DataRange1d\"},{\"attributes\":{\"source\":{\"id\":\"bd5c542a-1f76-4c64-ba0e-54fa41ae8d81\",\"type\":\"ColumnDataSource\"}},\"id\":\"daa8ef7b-ea26-43a4-ae9c-4d285e16935d\",\"type\":\"CDSView\"},{\"attributes\":{\"active_drag\":\"auto\",\"active_inspect\":\"auto\",\"active_scroll\":\"auto\",\"active_tap\":\"auto\"},\"id\":\"b1cff1da-a7b5-486f-8f77-8e630719ca57\",\"type\":\"Toolbar\"},{\"attributes\":{\"active_drag\":\"auto\",\"active_inspect\":\"auto\",\"active_scroll\":\"auto\",\"active_tap\":\"auto\"},\"id\":\"83e5f570-64ad-4a96-ba3e-4703204d0efd\",\"type\":\"Toolbar\"},{\"attributes\":{},\"id\":\"03dd3aca-8ffb-4ad6-b4b9-1a07ba3b8ee3\",\"type\":\"BasicTickFormatter\"},{\"attributes\":{},\"id\":\"5cc40478-2122-4116-85ad-0c9e2803b2ce\",\"type\":\"LinearScale\"},{\"attributes\":{\"callback\":null},\"id\":\"8d8c1124-936c-4e1f-a9f2-97c9b976464a\",\"type\":\"DataRange1d\"},{\"attributes\":{},\"id\":\"2654bdb0-1413-4515-bda3-736607ca0dcc\",\"type\":\"LinearScale\"},{\"attributes\":{\"plot\":{\"id\":\"ab45465a-34c9-4bae-8ad1-15f9892c071c\",\"subtype\":\"Figure\",\"type\":\"Plot\"},\"ticker\":{\"id\":\"f858a5cf-4756-4012-ac77-9c6c43204b7f\",\"type\":\"BasicTicker\"}},\"id\":\"aa5c4374-64da-47a0-b57f-6901d390572c\",\"type\":\"Grid\"},{\"attributes\":{\"formatter\":{\"id\":\"e3c8bb68-4a00-473f-877d-d6c1eb552926\",\"type\":\"BasicTickFormatter\"},\"plot\":{\"id\":\"ab45465a-34c9-4bae-8ad1-15f9892c071c\",\"subtype\":\"Figure\",\"type\":\"Plot\"},\"ticker\":{\"id\":\"f858a5cf-4756-4012-ac77-9c6c43204b7f\",\"type\":\"BasicTicker\"}},\"id\":\"ad4cb311-eec4-4b08-aace-254b8ac078d5\",\"type\":\"LinearAxis\"},{\"attributes\":{},\"id\":\"f858a5cf-4756-4012-ac77-9c6c43204b7f\",\"type\":\"BasicTicker\"},{\"attributes\":{\"formatter\":{\"id\":\"851fc444-6fcf-49c8-a867-6ccbbc23f963\",\"type\":\"BasicTickFormatter\"},\"plot\":{\"id\":\"ab45465a-34c9-4bae-8ad1-15f9892c071c\",\"subtype\":\"Figure\",\"type\":\"Plot\"},\"ticker\":{\"id\":\"b8e4386a-a29b-4b2d-803b-0763b6211c1c\",\"type\":\"BasicTicker\"}},\"id\":\"720fbfd1-ec93-4158-89af-ad5418c3ba73\",\"type\":\"LinearAxis\"},{\"attributes\":{},\"id\":\"b8e4386a-a29b-4b2d-803b-0763b6211c1c\",\"type\":\"BasicTicker\"},{\"attributes\":{\"dimension\":1,\"plot\":{\"id\":\"ab45465a-34c9-4bae-8ad1-15f9892c071c\",\"subtype\":\"Figure\",\"type\":\"Plot\"},\"ticker\":{\"id\":\"b8e4386a-a29b-4b2d-803b-0763b6211c1c\",\"type\":\"BasicTicker\"}},\"id\":\"5657f6e6-d157-4706-95b7-741a7ad6b26a\",\"type\":\"Grid\"},{\"attributes\":{\"callback\":null},\"id\":\"b100abef-0fcb-4e7a-ad7d-f7d593f01e09\",\"type\":\"DataRange1d\"},{\"attributes\":{},\"id\":\"54537500-0bdd-46d2-a036-57ad160af46d\",\"type\":\"LinearScale\"},{\"attributes\":{\"callback\":null},\"id\":\"ebd40440-c200-44a0-ac6c-07b0a51bf4e5\",\"type\":\"DataRange1d\"},{\"attributes\":{},\"id\":\"bffcf386-e74f-4e30-8fc7-9e947e2f91b7\",\"type\":\"LinearScale\"},{\"attributes\":{\"plot\":{\"id\":\"c95b1a17-8e40-4011-b7f0-050ba12443eb\",\"subtype\":\"Figure\",\"type\":\"Plot\"},\"ticker\":{\"id\":\"4e2410cd-1876-4881-b3fc-17cf2eeba13c\",\"type\":\"BasicTicker\"}},\"id\":\"117c8c80-2464-4f6f-a532-10a725fcb902\",\"type\":\"Grid\"},{\"attributes\":{\"formatter\":{\"id\":\"7ab6b774-c6b1-4bb7-b499-4acf2628dfcd\",\"type\":\"BasicTickFormatter\"},\"plot\":{\"id\":\"c95b1a17-8e40-4011-b7f0-050ba12443eb\",\"subtype\":\"Figure\",\"type\":\"Plot\"},\"ticker\":{\"id\":\"4e2410cd-1876-4881-b3fc-17cf2eeba13c\",\"type\":\"BasicTicker\"}},\"id\":\"3ff7f5d9-8fa8-45c8-a03b-3a7ec5572f67\",\"type\":\"LinearAxis\"},{\"attributes\":{\"sizing_mode\":\"scale_width\",\"toolbar_location\":\"above\"},\"id\":\"50f86115-ba99-488a-98b5-ffe1311c8e08\",\"type\":\"ToolbarBox\"},{\"attributes\":{},\"id\":\"4e2410cd-1876-4881-b3fc-17cf2eeba13c\",\"type\":\"BasicTicker\"},{\"attributes\":{\"formatter\":{\"id\":\"03dd3aca-8ffb-4ad6-b4b9-1a07ba3b8ee3\",\"type\":\"BasicTickFormatter\"},\"plot\":{\"id\":\"c95b1a17-8e40-4011-b7f0-050ba12443eb\",\"subtype\":\"Figure\",\"type\":\"Plot\"},\"ticker\":{\"id\":\"2b615cc7-ce43-4ccb-b68d-ca1a886b16f1\",\"type\":\"BasicTicker\"}},\"id\":\"490aa075-5b89-457d-b437-c72fe09c1835\",\"type\":\"LinearAxis\"},{\"attributes\":{},\"id\":\"2b615cc7-ce43-4ccb-b68d-ca1a886b16f1\",\"type\":\"BasicTicker\"},{\"attributes\":{\"dimension\":1,\"plot\":{\"id\":\"c95b1a17-8e40-4011-b7f0-050ba12443eb\",\"subtype\":\"Figure\",\"type\":\"Plot\"},\"ticker\":{\"id\":\"2b615cc7-ce43-4ccb-b68d-ca1a886b16f1\",\"type\":\"BasicTicker\"}},\"id\":\"027099db-3b37-4def-9365-ff7b5bf12fd7\",\"type\":\"Grid\"},{\"attributes\":{\"children\":[{\"id\":\"6af59d22-656d-4311-854e-c2cf011bf9e4\",\"type\":\"Row\"}]},\"id\":\"a58c3d2d-1149-41d1-9b1c-42a4364517b3\",\"type\":\"Column\"}],\"root_ids\":[\"6219200b-14c7-430e-8fdb-1d7e4c33434f\"]},\"title\":\"Bokeh Application\",\"version\":\"0.12.10\"}};\n",
       "    var render_items = [{\"docid\":\"a163a695-ef50-408c-8ff5-a84f33298aa1\",\"elementid\":\"adbbb401-fd74-469b-b0e5-4e9af30b2bac\",\"modelid\":\"6219200b-14c7-430e-8fdb-1d7e4c33434f\"}];\n",
       "\n",
       "    root.Bokeh.embed.embed_items(docs_json, render_items);\n",
       "  }\n",
       "\n",
       "  if (root.Bokeh !== undefined) {\n",
       "    embed_document(root);\n",
       "  } else {\n",
       "    var attempts = 0;\n",
       "    var timer = setInterval(function(root) {\n",
       "      if (root.Bokeh !== undefined) {\n",
       "        embed_document(root);\n",
       "        clearInterval(timer);\n",
       "      }\n",
       "      attempts++;\n",
       "      if (attempts > 100) {\n",
       "        console.log(\"Bokeh: ERROR: Unable to embed document because BokehJS library is missing\")\n",
       "        clearInterval(timer);\n",
       "      }\n",
       "    }, 10, root)\n",
       "  }\n",
       "})(window);"
      ],
      "application/vnd.bokehjs_exec.v0+json": ""
     },
     "metadata": {
      "application/vnd.bokehjs_exec.v0+json": {
       "id": "6219200b-14c7-430e-8fdb-1d7e4c33434f"
      }
     },
     "output_type": "display_data"
    }
   ],
   "source": [
    "graph_bar = gridplot([[graph_bar_1, graph_bar_2, graph_bar_3]]) # agrupamos nuestas graficas\n",
    "show(graph_bar) # Mostramos los resultados"
   ]
  },
  {
   "cell_type": "markdown",
   "metadata": {},
   "source": [
    "**En este gráfico, podemos observar sobre la pobreza dependiendo de la incidencia, brecha y serenidad de la ciudad de quito desde el año 2008 hasta el 2016, ya que nos daremos cuenta en cada año como va aumentado y disminuyendo, de la misma. **"
   ]
  },
  {
   "cell_type": "markdown",
   "metadata": {},
   "source": [
    "## Grafico de pastel\n",
    "Importamos `pi` de la librería `numpy` para el Angulo en nuestras graficas\n",
    "\n",
    "Y `interact` de `ipywidgets` para poder interactuar con nuestra grafica"
   ]
  },
  {
   "cell_type": "code",
   "execution_count": 21,
   "metadata": {},
   "outputs": [],
   "source": [
    "from numpy import pi\n",
    "from ipywidgets import interact"
   ]
  },
  {
   "cell_type": "markdown",
   "metadata": {},
   "source": [
    "Definimos cada una de las gráficas de pastel que representaremos, su título, la cuadricula que mostrara, y las opciones antes definidas de la gráfica anterior"
   ]
  },
  {
   "cell_type": "code",
   "execution_count": 22,
   "metadata": {},
   "outputs": [],
   "source": [
    "graph_pie_1 = figure(\n",
    "    title='Incidencia', # título de esta grafica en particular\n",
    "    x_range=(-1,1),\n",
    "    y_range=(-1,1),\n",
    "    **options\n",
    ")\n",
    "graph_pie_2 = figure(title='Brecha', x_range=(-1,1), y_range=(-1,1), **options)\n",
    "graph_pie_3 = figure(title='Severidad', x_range=(-1,1), y_range=(-1,1), **options)"
   ]
  },
  {
   "cell_type": "markdown",
   "metadata": {},
   "source": [
    "Definimos una función que será llamada cada vez que interactuemos con el slider"
   ]
  },
  {
   "cell_type": "code",
   "execution_count": 23,
   "metadata": {},
   "outputs": [],
   "source": [
    "def f(x):\n",
    "    graph_pie_1.wedge(\n",
    "        x=0, y=0, radius=0.8, # centro y radio\n",
    "        start_angle=[0.0, data.Incidencia[x]*2*pi/100], # valores donde inicia cada parte\n",
    "        end_angle=[data.Incidencia[x]*2*pi, 2*pi],  # valores donde termina cada parte del pastel\n",
    "        color=['#f4d341','#686060'] # color de cada parte\n",
    "    )\n",
    "    graph_pie_2.wedge(\n",
    "        x=0, y=0, radius=0.8, \n",
    "        start_angle=[0.0, data.Brecha[x]*2*pi/100], \n",
    "        end_angle=[data.Brecha[x]*2*pi, 2*pi], \n",
    "        color=['#42f4bf','#686060']\n",
    "    )\n",
    "    graph_pie_3.wedge(\n",
    "        x=0, y=0, radius=0.8, \n",
    "        start_angle=[0.0, data.Severidad[x]*2*pi/100], \n",
    "        end_angle=[data.Severidad[x]*2*pi, 2*pi], \n",
    "        color=['#f44171','#686060']\n",
    "    )\n",
    "    \n",
    "    \n",
    "    print(\"Año: \"+str(int(data.Anios[x])))\n",
    "    graph_pie = gridplot([[graph_pie_1, graph_pie_2, graph_pie_3]]) # agrupamos nuestras  graficas\n",
    "    show(graph_pie) # Mostramos los resultados"
   ]
  },
  {
   "cell_type": "markdown",
   "metadata": {},
   "source": [
    "Mostramos la gráfica y el slider con el que podremos interactuar"
   ]
  },
  {
   "cell_type": "code",
   "execution_count": 24,
   "metadata": {},
   "outputs": [
    {
     "data": {
      "application/vnd.jupyter.widget-view+json": {
       "model_id": "0261b8f405b643c7b37e8524b02af977",
       "version_major": 2,
       "version_minor": 0
      },
      "text/html": [
       "<p>Failed to display Jupyter Widget of type <code>interactive</code>.</p>\n",
       "<p>\n",
       "  If you're reading this message in the Jupyter Notebook or JupyterLab Notebook, it may mean\n",
       "  that the widgets JavaScript is still loading. If this message persists, it\n",
       "  likely means that the widgets JavaScript library is either not installed or\n",
       "  not enabled. See the <a href=\"https://ipywidgets.readthedocs.io/en/stable/user_install.html\">Jupyter\n",
       "  Widgets Documentation</a> for setup instructions.\n",
       "</p>\n",
       "<p>\n",
       "  If you're reading this message in another frontend (for example, a static\n",
       "  rendering on GitHub or <a href=\"https://nbviewer.jupyter.org/\">NBViewer</a>),\n",
       "  it may mean that your frontend doesn't currently support widgets.\n",
       "</p>\n"
      ],
      "text/plain": [
       "interactive(children=(IntSlider(value=5, description='x', max=10, min=1), Output()), _dom_classes=('widget-interact',))"
      ]
     },
     "metadata": {},
     "output_type": "display_data"
    }
   ],
   "source": [
    "interact(f, x=(1,10));"
   ]
  },
  {
   "cell_type": "markdown",
   "metadata": {},
   "source": [
    "**Con el slider podemos avanzar en el tiempo para poder observar que cada año se ha producido una disminución del porcentaje de pobreza**"
   ]
  },
  {
   "cell_type": "markdown",
   "metadata": {},
   "source": [
    "# Bibliografía \n",
    "----\n",
    "Este notebook fue realiza con jupyter notebook. - http://jupyter.org/\n",
    "\n",
    "Una página que utilizamos, para poder hacer las gráficas se utilizó bokeh. - https://bokeh.pydata.org/en/latest/\n",
    "\n",
    "Carga de datos Pandas. - https://pandas.pydata.org/\n",
    "\n",
    "Datos obtenidos de Ecuador en cifras. - http://www.ecuadorencifras.gob.ec/"
   ]
  }
 ],
 "metadata": {
  "kernelspec": {
   "display_name": "Python 3",
   "language": "python",
   "name": "python3"
  },
  "language_info": {
   "codemirror_mode": {
    "name": "ipython",
    "version": 3
   },
   "file_extension": ".py",
   "mimetype": "text/x-python",
   "name": "python",
   "nbconvert_exporter": "python",
   "pygments_lexer": "ipython3",
   "version": "3.6.3"
  }
 },
 "nbformat": 4,
 "nbformat_minor": 2
}
