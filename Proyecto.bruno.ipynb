{
 "cells": [
  {
   "cell_type": "markdown",
   "metadata": {},
   "source": [
    "# Manejo y Visualización de Datos con Python"
   ]
  },
  {
   "cell_type": "markdown",
   "metadata": {},
   "source": [
    "Para este trabajo se utilizo"
   ]
  },
  {
   "cell_type": "markdown",
   "metadata": {},
   "source": [
    " - **pandas**: Un módulo que proporciona estructuras de datos y herramientas de análisis de datos de alto rendimiento y fácil de usar."
   ]
  },
  {
   "cell_type": "markdown",
   "metadata": {},
   "source": [
    "## pandas\n",
    "\n",
    "pandas es un paquete de Python que proporciona estructuras de datos rápidas, flexibles y expresivas diseñadas para trabajar con datos relacionales o etiquetados. Es un componente fundamental de alto nivel para hacer un análisis práctico y real de datos en Python."
   ]
  },
  {
   "cell_type": "code",
   "execution_count": 4,
   "metadata": {
    "collapsed": true
   },
   "outputs": [],
   "source": [
    "import pandas as pd"
   ]
  },
  {
   "cell_type": "markdown",
   "metadata": {},
   "source": [
    "¿Cómo hacemos para que este conjunto de datos se convierta en una estructura de datos pandas?\n",
    "pandas hace que sea muy fácil importar datos en varios formatos con su conjunto de funciones de importación:"
   ]
  },
  {
   "cell_type": "code",
   "execution_count": 5,
   "metadata": {},
   "outputs": [
    {
     "data": {
      "text/plain": [
       "['read_clipboard',\n",
       " 'read_csv',\n",
       " 'read_excel',\n",
       " 'read_feather',\n",
       " 'read_fwf',\n",
       " 'read_gbq',\n",
       " 'read_hdf',\n",
       " 'read_html',\n",
       " 'read_json',\n",
       " 'read_msgpack',\n",
       " 'read_parquet',\n",
       " 'read_pickle',\n",
       " 'read_sas',\n",
       " 'read_sql',\n",
       " 'read_sql_query',\n",
       " 'read_sql_table',\n",
       " 'read_stata',\n",
       " 'read_table']"
      ]
     },
     "execution_count": 5,
     "metadata": {},
     "output_type": "execute_result"
    }
   ],
   "source": [
    "# esta es un arreglo comprimido que contiene formatos que puede leer pandas\n",
    "[formatos for formatos in dir(pd) if formatos.startswith('read_')]"
   ]
  },
  {
   "cell_type": "markdown",
   "metadata": {},
   "source": [
    "Nuestro conjunto de datos está en formato `.csv`, por lo que usaremos `read_csv` de pandas.\n",
    "\n",
    "**Los datos que trabajaremos son del sitio web Ecuador en cifras, sobre la probresa en ciudades como Quito, Guayaquil, y otras del Ecuador**"
   ]
  },
  {
   "cell_type": "code",
   "execution_count": 6,
   "metadata": {
    "collapsed": true
   },
   "outputs": [],
   "source": [
    "# guardamos nuestra tabla en una variable data, despues de haver sido leida por pandas\n",
    "raw_data = pd.read_csv(\n",
    "    './assets/datosPobreza.csv', # direccion donde esta nuestra data\n",
    "    sep=';', # separador de datos para ser leidos por pandas\n",
    "    decimal=\",\" # el separador, o sino nuestros numeros seran tratados como strings si contienen \"comas\"\n",
    ")"
   ]
  },
  {
   "cell_type": "markdown",
   "metadata": {},
   "source": [
    "`read_csv` devuelve un `DataFrame`, una estructura tabular de datos proporcionada por pandas."
   ]
  },
  {
   "cell_type": "code",
   "execution_count": 7,
   "metadata": {},
   "outputs": [
    {
     "data": {
      "text/plain": [
       "pandas.core.frame.DataFrame"
      ]
     },
     "execution_count": 7,
     "metadata": {},
     "output_type": "execute_result"
    }
   ],
   "source": [
    "type(raw_data)"
   ]
  },
  {
   "cell_type": "markdown",
   "metadata": {},
   "source": [
    "Un `DataFrame` está dotado de varios atributos y métodos útiles para explorar los datos."
   ]
  },
  {
   "cell_type": "markdown",
   "metadata": {},
   "source": [
    "Con la funcion `head()` sobre nuestro `DataFrame` podemos mostrar los primeras filas de nuestra data, para no presentar todas las filas. "
   ]
  },
  {
   "cell_type": "code",
   "execution_count": 8,
   "metadata": {},
   "outputs": [
    {
     "data": {
      "text/html": [
       "<div>\n",
       "<style scoped>\n",
       "    .dataframe tbody tr th:only-of-type {\n",
       "        vertical-align: middle;\n",
       "    }\n",
       "\n",
       "    .dataframe tbody tr th {\n",
       "        vertical-align: top;\n",
       "    }\n",
       "\n",
       "    .dataframe thead th {\n",
       "        text-align: right;\n",
       "    }\n",
       "</style>\n",
       "<table border=\"1\" class=\"dataframe\">\n",
       "  <thead>\n",
       "    <tr style=\"text-align: right;\">\n",
       "      <th></th>\n",
       "      <th>Período</th>\n",
       "      <th>Anios</th>\n",
       "      <th>Quito</th>\n",
       "      <th>Quito.1</th>\n",
       "      <th>Quito.2</th>\n",
       "      <th>Guayaquil</th>\n",
       "      <th>Guayaquil.1</th>\n",
       "      <th>Guayaquil.2</th>\n",
       "      <th>Cuenca</th>\n",
       "      <th>Cuenca.1</th>\n",
       "      <th>Cuenca.2</th>\n",
       "      <th>Machala</th>\n",
       "      <th>Machala.1</th>\n",
       "      <th>Machala.2</th>\n",
       "      <th>Ambato</th>\n",
       "      <th>Ambato.1</th>\n",
       "      <th>Ambato.2</th>\n",
       "    </tr>\n",
       "  </thead>\n",
       "  <tbody>\n",
       "    <tr>\n",
       "      <th>0</th>\n",
       "      <td>NaN</td>\n",
       "      <td>NaN</td>\n",
       "      <td>NaN</td>\n",
       "      <td>NaN</td>\n",
       "      <td>NaN</td>\n",
       "      <td>NaN</td>\n",
       "      <td>NaN</td>\n",
       "      <td>NaN</td>\n",
       "      <td>NaN</td>\n",
       "      <td>NaN</td>\n",
       "      <td>NaN</td>\n",
       "      <td>NaN</td>\n",
       "      <td>NaN</td>\n",
       "      <td>NaN</td>\n",
       "      <td>NaN</td>\n",
       "      <td>NaN</td>\n",
       "      <td>NaN</td>\n",
       "    </tr>\n",
       "    <tr>\n",
       "      <th>1</th>\n",
       "      <td>Marzo</td>\n",
       "      <td>2008.0</td>\n",
       "      <td>10.45</td>\n",
       "      <td>3.32</td>\n",
       "      <td>1.76</td>\n",
       "      <td>22.06</td>\n",
       "      <td>6.38</td>\n",
       "      <td>2.87</td>\n",
       "      <td>11.68</td>\n",
       "      <td>3.74</td>\n",
       "      <td>1.88</td>\n",
       "      <td>20.76</td>\n",
       "      <td>6.43</td>\n",
       "      <td>2.82</td>\n",
       "      <td>21.20</td>\n",
       "      <td>6.38</td>\n",
       "      <td>3.11</td>\n",
       "    </tr>\n",
       "    <tr>\n",
       "      <th>2</th>\n",
       "      <td>Marzo</td>\n",
       "      <td>2009.0</td>\n",
       "      <td>11.16</td>\n",
       "      <td>3.71</td>\n",
       "      <td>1.97</td>\n",
       "      <td>24.28</td>\n",
       "      <td>7.50</td>\n",
       "      <td>3.26</td>\n",
       "      <td>10.91</td>\n",
       "      <td>3.31</td>\n",
       "      <td>1.51</td>\n",
       "      <td>20.76</td>\n",
       "      <td>6.32</td>\n",
       "      <td>2.94</td>\n",
       "      <td>17.55</td>\n",
       "      <td>5.81</td>\n",
       "      <td>2.99</td>\n",
       "    </tr>\n",
       "    <tr>\n",
       "      <th>3</th>\n",
       "      <td>Marzo</td>\n",
       "      <td>2010.0</td>\n",
       "      <td>13.01</td>\n",
       "      <td>4.34</td>\n",
       "      <td>2.31</td>\n",
       "      <td>20.80</td>\n",
       "      <td>5.82</td>\n",
       "      <td>2.37</td>\n",
       "      <td>13.78</td>\n",
       "      <td>3.80</td>\n",
       "      <td>1.60</td>\n",
       "      <td>15.54</td>\n",
       "      <td>4.20</td>\n",
       "      <td>1.77</td>\n",
       "      <td>11.63</td>\n",
       "      <td>3.47</td>\n",
       "      <td>1.47</td>\n",
       "    </tr>\n",
       "    <tr>\n",
       "      <th>4</th>\n",
       "      <td>Marzo</td>\n",
       "      <td>2011.0</td>\n",
       "      <td>10.33</td>\n",
       "      <td>3.34</td>\n",
       "      <td>1.81</td>\n",
       "      <td>19.21</td>\n",
       "      <td>4.99</td>\n",
       "      <td>1.99</td>\n",
       "      <td>12.39</td>\n",
       "      <td>4.13</td>\n",
       "      <td>2.20</td>\n",
       "      <td>14.76</td>\n",
       "      <td>4.07</td>\n",
       "      <td>1.62</td>\n",
       "      <td>10.58</td>\n",
       "      <td>2.68</td>\n",
       "      <td>1.02</td>\n",
       "    </tr>\n",
       "  </tbody>\n",
       "</table>\n",
       "</div>"
      ],
      "text/plain": [
       "  Período   Anios  Quito  Quito.1  Quito.2  Guayaquil  Guayaquil.1  \\\n",
       "0     NaN     NaN    NaN      NaN      NaN        NaN          NaN   \n",
       "1   Marzo  2008.0  10.45     3.32     1.76      22.06         6.38   \n",
       "2   Marzo  2009.0  11.16     3.71     1.97      24.28         7.50   \n",
       "3   Marzo  2010.0  13.01     4.34     2.31      20.80         5.82   \n",
       "4   Marzo  2011.0  10.33     3.34     1.81      19.21         4.99   \n",
       "\n",
       "   Guayaquil.2  Cuenca  Cuenca.1  Cuenca.2  Machala  Machala.1  Machala.2  \\\n",
       "0          NaN     NaN       NaN       NaN      NaN        NaN        NaN   \n",
       "1         2.87   11.68      3.74      1.88    20.76       6.43       2.82   \n",
       "2         3.26   10.91      3.31      1.51    20.76       6.32       2.94   \n",
       "3         2.37   13.78      3.80      1.60    15.54       4.20       1.77   \n",
       "4         1.99   12.39      4.13      2.20    14.76       4.07       1.62   \n",
       "\n",
       "   Ambato  Ambato.1  Ambato.2  \n",
       "0     NaN       NaN       NaN  \n",
       "1   21.20      6.38      3.11  \n",
       "2   17.55      5.81      2.99  \n",
       "3   11.63      3.47      1.47  \n",
       "4   10.58      2.68      1.02  "
      ]
     },
     "execution_count": 8,
     "metadata": {},
     "output_type": "execute_result"
    }
   ],
   "source": [
    "raw_data.head()"
   ]
  },
  {
   "cell_type": "markdown",
   "metadata": {},
   "source": [
    "Con la funcion `[1:]` eliminamos la primera fila, ya que no son parte de los datos que usaremos"
   ]
  },
  {
   "cell_type": "code",
   "execution_count": 9,
   "metadata": {
    "collapsed": true
   },
   "outputs": [],
   "source": [
    "raw_data = raw_data[1:]"
   ]
  },
  {
   "cell_type": "code",
   "execution_count": 10,
   "metadata": {},
   "outputs": [
    {
     "data": {
      "text/plain": [
       "(10, 17)"
      ]
     },
     "execution_count": 10,
     "metadata": {},
     "output_type": "execute_result"
    }
   ],
   "source": [
    "raw_data.shape  # numeros de campos de nuestra data"
   ]
  },
  {
   "cell_type": "markdown",
   "metadata": {},
   "source": [
    "Un `DataFrame` se compone de dos componentes principales; \n",
    " - Los datos mismos, que se pueden extraer a través del atributo de valores:"
   ]
  },
  {
   "cell_type": "code",
   "execution_count": 11,
   "metadata": {},
   "outputs": [
    {
     "data": {
      "text/plain": [
       "array([['Marzo', 2008.0, 10.45, 3.32, 1.76, 22.06, 6.38, 2.87, 11.68, 3.74,\n",
       "        1.88, 20.76, 6.43, 2.82, 21.2, 6.38, 3.11],\n",
       "       ['Marzo', 2009.0, 11.16, 3.71, 1.97, 24.28, 7.5, 3.26, 10.91, 3.31,\n",
       "        1.51, 20.76, 6.32, 2.94, 17.55, 5.81, 2.99],\n",
       "       ['Marzo', 2010.0, 13.01, 4.34, 2.31, 20.8, 5.82, 2.37, 13.78, 3.8,\n",
       "        1.6, 15.54, 4.2, 1.77, 11.63, 3.47, 1.47],\n",
       "       ['Marzo', 2011.0, 10.33, 3.34, 1.81, 19.21, 4.99, 1.99, 12.39, 4.13,\n",
       "        2.2, 14.76, 4.07, 1.62, 10.58, 2.68, 1.02],\n",
       "       ['Marzo', 2012.0, 8.97, 3.29, 1.59, 11.04, 2.75, 1.04, 9.72, 2.92,\n",
       "        1.33, 9.51, 1.91, 0.62, 8.04, 1.97, 0.76],\n",
       "       ['Marzo', 2013.0, 10.85, 3.48, 1.56, 12.77, 3.58, 1.6, 9.17, 2.47,\n",
       "        1.01, 11.98, 2.48, 0.76, 10.54, 3.71, 2.01],\n",
       "       ['Marzo', 2014.0, 8.92, 2.78, 1.39, 11.69, 3.07, 1.2, 4.67, 1.65,\n",
       "        0.87, 13.71, 3.84, 1.54, 12.81, 3.15, 1.31],\n",
       "       ['Marzo', 2015.0, 7.87, 2.59, 1.3, 7.69, 1.84, 0.68, 5.32, 1.24,\n",
       "        0.49, 15.09, 4.2, 1.81, 8.42, 2.9, 1.24],\n",
       "       ['Marzo', 2016.0, 7.98, 2.63, 1.34, 8.67, 2.52, 0.97, 7.83, 2.55,\n",
       "        1.17, 13.77, 3.88, 1.76, 7.77, 2.49, 1.23],\n",
       "       ['Marzo', 2017.0, 7.35, 2.4, 1.23, 10.98, 2.67, 1.11, 7.85, 2.89,\n",
       "        1.54, 16.76, 4.51, 1.98, 9.74, 3.06, 1.64]], dtype=object)"
      ]
     },
     "execution_count": 11,
     "metadata": {},
     "output_type": "execute_result"
    }
   ],
   "source": [
    "raw_data.values"
   ]
  },
  {
   "cell_type": "markdown",
   "metadata": {},
   "source": [
    " - Conjunto de índices, que son esencialmente etiquetas para las filas y columnas del DataFrame."
   ]
  },
  {
   "cell_type": "code",
   "execution_count": 12,
   "metadata": {},
   "outputs": [
    {
     "data": {
      "text/plain": [
       "RangeIndex(start=1, stop=11, step=1)"
      ]
     },
     "execution_count": 12,
     "metadata": {},
     "output_type": "execute_result"
    }
   ],
   "source": [
    "raw_data.index"
   ]
  },
  {
   "cell_type": "code",
   "execution_count": 13,
   "metadata": {},
   "outputs": [
    {
     "data": {
      "text/plain": [
       "Index(['Período', 'Anios', 'Quito', 'Quito.1', 'Quito.2', 'Guayaquil',\n",
       "       'Guayaquil.1', 'Guayaquil.2', 'Cuenca', 'Cuenca.1', 'Cuenca.2',\n",
       "       'Machala', 'Machala.1', 'Machala.2', 'Ambato', 'Ambato.1', 'Ambato.2'],\n",
       "      dtype='object')"
      ]
     },
     "execution_count": 13,
     "metadata": {},
     "output_type": "execute_result"
    }
   ],
   "source": [
    "raw_data.columns"
   ]
  },
  {
   "cell_type": "markdown",
   "metadata": {},
   "source": [
    "Pero, un `índice` es más que un conjunto de etiquetas. Es importante destacar que asegura la **alineación de datos** cuando se agregan datos o se combinan estructuras de datos."
   ]
  },
  {
   "cell_type": "markdown",
   "metadata": {},
   "source": [
    "De hecho, podemos especificar un índice más apropiado para nuestros datos. El campo Año aquí es un índice único para los valores de análisis correspondientes.\n",
    "\n",
    "`set_index` nos permite convertir cualquier columna (o matriz externa) que elijamos en el índice de fila."
   ]
  },
  {
   "cell_type": "code",
   "execution_count": 14,
   "metadata": {},
   "outputs": [
    {
     "data": {
      "text/html": [
       "<div>\n",
       "<style scoped>\n",
       "    .dataframe tbody tr th:only-of-type {\n",
       "        vertical-align: middle;\n",
       "    }\n",
       "\n",
       "    .dataframe tbody tr th {\n",
       "        vertical-align: top;\n",
       "    }\n",
       "\n",
       "    .dataframe thead th {\n",
       "        text-align: right;\n",
       "    }\n",
       "</style>\n",
       "<table border=\"1\" class=\"dataframe\">\n",
       "  <thead>\n",
       "    <tr style=\"text-align: right;\">\n",
       "      <th></th>\n",
       "      <th>Período</th>\n",
       "      <th>Quito</th>\n",
       "      <th>Quito.1</th>\n",
       "      <th>Quito.2</th>\n",
       "      <th>Guayaquil</th>\n",
       "      <th>Guayaquil.1</th>\n",
       "      <th>Guayaquil.2</th>\n",
       "      <th>Cuenca</th>\n",
       "      <th>Cuenca.1</th>\n",
       "      <th>Cuenca.2</th>\n",
       "      <th>Machala</th>\n",
       "      <th>Machala.1</th>\n",
       "      <th>Machala.2</th>\n",
       "      <th>Ambato</th>\n",
       "      <th>Ambato.1</th>\n",
       "      <th>Ambato.2</th>\n",
       "    </tr>\n",
       "    <tr>\n",
       "      <th>Anios</th>\n",
       "      <th></th>\n",
       "      <th></th>\n",
       "      <th></th>\n",
       "      <th></th>\n",
       "      <th></th>\n",
       "      <th></th>\n",
       "      <th></th>\n",
       "      <th></th>\n",
       "      <th></th>\n",
       "      <th></th>\n",
       "      <th></th>\n",
       "      <th></th>\n",
       "      <th></th>\n",
       "      <th></th>\n",
       "      <th></th>\n",
       "      <th></th>\n",
       "    </tr>\n",
       "  </thead>\n",
       "  <tbody>\n",
       "    <tr>\n",
       "      <th>2008.0</th>\n",
       "      <td>Marzo</td>\n",
       "      <td>10.45</td>\n",
       "      <td>3.32</td>\n",
       "      <td>1.76</td>\n",
       "      <td>22.06</td>\n",
       "      <td>6.38</td>\n",
       "      <td>2.87</td>\n",
       "      <td>11.68</td>\n",
       "      <td>3.74</td>\n",
       "      <td>1.88</td>\n",
       "      <td>20.76</td>\n",
       "      <td>6.43</td>\n",
       "      <td>2.82</td>\n",
       "      <td>21.20</td>\n",
       "      <td>6.38</td>\n",
       "      <td>3.11</td>\n",
       "    </tr>\n",
       "    <tr>\n",
       "      <th>2009.0</th>\n",
       "      <td>Marzo</td>\n",
       "      <td>11.16</td>\n",
       "      <td>3.71</td>\n",
       "      <td>1.97</td>\n",
       "      <td>24.28</td>\n",
       "      <td>7.50</td>\n",
       "      <td>3.26</td>\n",
       "      <td>10.91</td>\n",
       "      <td>3.31</td>\n",
       "      <td>1.51</td>\n",
       "      <td>20.76</td>\n",
       "      <td>6.32</td>\n",
       "      <td>2.94</td>\n",
       "      <td>17.55</td>\n",
       "      <td>5.81</td>\n",
       "      <td>2.99</td>\n",
       "    </tr>\n",
       "    <tr>\n",
       "      <th>2010.0</th>\n",
       "      <td>Marzo</td>\n",
       "      <td>13.01</td>\n",
       "      <td>4.34</td>\n",
       "      <td>2.31</td>\n",
       "      <td>20.80</td>\n",
       "      <td>5.82</td>\n",
       "      <td>2.37</td>\n",
       "      <td>13.78</td>\n",
       "      <td>3.80</td>\n",
       "      <td>1.60</td>\n",
       "      <td>15.54</td>\n",
       "      <td>4.20</td>\n",
       "      <td>1.77</td>\n",
       "      <td>11.63</td>\n",
       "      <td>3.47</td>\n",
       "      <td>1.47</td>\n",
       "    </tr>\n",
       "    <tr>\n",
       "      <th>2011.0</th>\n",
       "      <td>Marzo</td>\n",
       "      <td>10.33</td>\n",
       "      <td>3.34</td>\n",
       "      <td>1.81</td>\n",
       "      <td>19.21</td>\n",
       "      <td>4.99</td>\n",
       "      <td>1.99</td>\n",
       "      <td>12.39</td>\n",
       "      <td>4.13</td>\n",
       "      <td>2.20</td>\n",
       "      <td>14.76</td>\n",
       "      <td>4.07</td>\n",
       "      <td>1.62</td>\n",
       "      <td>10.58</td>\n",
       "      <td>2.68</td>\n",
       "      <td>1.02</td>\n",
       "    </tr>\n",
       "    <tr>\n",
       "      <th>2012.0</th>\n",
       "      <td>Marzo</td>\n",
       "      <td>8.97</td>\n",
       "      <td>3.29</td>\n",
       "      <td>1.59</td>\n",
       "      <td>11.04</td>\n",
       "      <td>2.75</td>\n",
       "      <td>1.04</td>\n",
       "      <td>9.72</td>\n",
       "      <td>2.92</td>\n",
       "      <td>1.33</td>\n",
       "      <td>9.51</td>\n",
       "      <td>1.91</td>\n",
       "      <td>0.62</td>\n",
       "      <td>8.04</td>\n",
       "      <td>1.97</td>\n",
       "      <td>0.76</td>\n",
       "    </tr>\n",
       "  </tbody>\n",
       "</table>\n",
       "</div>"
      ],
      "text/plain": [
       "       Período  Quito  Quito.1  Quito.2  Guayaquil  Guayaquil.1  Guayaquil.2  \\\n",
       "Anios                                                                          \n",
       "2008.0   Marzo  10.45     3.32     1.76      22.06         6.38         2.87   \n",
       "2009.0   Marzo  11.16     3.71     1.97      24.28         7.50         3.26   \n",
       "2010.0   Marzo  13.01     4.34     2.31      20.80         5.82         2.37   \n",
       "2011.0   Marzo  10.33     3.34     1.81      19.21         4.99         1.99   \n",
       "2012.0   Marzo   8.97     3.29     1.59      11.04         2.75         1.04   \n",
       "\n",
       "        Cuenca  Cuenca.1  Cuenca.2  Machala  Machala.1  Machala.2  Ambato  \\\n",
       "Anios                                                                       \n",
       "2008.0   11.68      3.74      1.88    20.76       6.43       2.82   21.20   \n",
       "2009.0   10.91      3.31      1.51    20.76       6.32       2.94   17.55   \n",
       "2010.0   13.78      3.80      1.60    15.54       4.20       1.77   11.63   \n",
       "2011.0   12.39      4.13      2.20    14.76       4.07       1.62   10.58   \n",
       "2012.0    9.72      2.92      1.33     9.51       1.91       0.62    8.04   \n",
       "\n",
       "        Ambato.1  Ambato.2  \n",
       "Anios                       \n",
       "2008.0      6.38      3.11  \n",
       "2009.0      5.81      2.99  \n",
       "2010.0      3.47      1.47  \n",
       "2011.0      2.68      1.02  \n",
       "2012.0      1.97      0.76  "
      ]
     },
     "execution_count": 14,
     "metadata": {},
     "output_type": "execute_result"
    }
   ],
   "source": [
    "temp = raw_data.set_index('Anios')\n",
    "temp.head()"
   ]
  },
  {
   "cell_type": "markdown",
   "metadata": {},
   "source": [
    "# Data\n",
    "------\n",
    "Para nuestra tabla agruparemos los datos de Quito para Repesentar nuestras graficas"
   ]
  },
  {
   "cell_type": "code",
   "execution_count": 15,
   "metadata": {},
   "outputs": [
    {
     "data": {
      "text/html": [
       "<div>\n",
       "<style scoped>\n",
       "    .dataframe tbody tr th:only-of-type {\n",
       "        vertical-align: middle;\n",
       "    }\n",
       "\n",
       "    .dataframe tbody tr th {\n",
       "        vertical-align: top;\n",
       "    }\n",
       "\n",
       "    .dataframe thead th {\n",
       "        text-align: right;\n",
       "    }\n",
       "</style>\n",
       "<table border=\"1\" class=\"dataframe\">\n",
       "  <thead>\n",
       "    <tr style=\"text-align: right;\">\n",
       "      <th></th>\n",
       "      <th>Anios</th>\n",
       "      <th>Quito</th>\n",
       "      <th>Quito.1</th>\n",
       "      <th>Quito.2</th>\n",
       "    </tr>\n",
       "  </thead>\n",
       "  <tbody>\n",
       "    <tr>\n",
       "      <th>1</th>\n",
       "      <td>2008.0</td>\n",
       "      <td>10.45</td>\n",
       "      <td>3.32</td>\n",
       "      <td>1.76</td>\n",
       "    </tr>\n",
       "    <tr>\n",
       "      <th>2</th>\n",
       "      <td>2009.0</td>\n",
       "      <td>11.16</td>\n",
       "      <td>3.71</td>\n",
       "      <td>1.97</td>\n",
       "    </tr>\n",
       "    <tr>\n",
       "      <th>3</th>\n",
       "      <td>2010.0</td>\n",
       "      <td>13.01</td>\n",
       "      <td>4.34</td>\n",
       "      <td>2.31</td>\n",
       "    </tr>\n",
       "    <tr>\n",
       "      <th>4</th>\n",
       "      <td>2011.0</td>\n",
       "      <td>10.33</td>\n",
       "      <td>3.34</td>\n",
       "      <td>1.81</td>\n",
       "    </tr>\n",
       "    <tr>\n",
       "      <th>5</th>\n",
       "      <td>2012.0</td>\n",
       "      <td>8.97</td>\n",
       "      <td>3.29</td>\n",
       "      <td>1.59</td>\n",
       "    </tr>\n",
       "  </tbody>\n",
       "</table>\n",
       "</div>"
      ],
      "text/plain": [
       "    Anios  Quito  Quito.1  Quito.2\n",
       "1  2008.0  10.45     3.32     1.76\n",
       "2  2009.0  11.16     3.71     1.97\n",
       "3  2010.0  13.01     4.34     2.31\n",
       "4  2011.0  10.33     3.34     1.81\n",
       "5  2012.0   8.97     3.29     1.59"
      ]
     },
     "execution_count": 15,
     "metadata": {},
     "output_type": "execute_result"
    }
   ],
   "source": [
    "data = raw_data.drop(['Período', 'Guayaquil', 'Guayaquil.1', 'Guayaquil.2', 'Cuenca', 'Cuenca.1', 'Cuenca.2', 'Machala', 'Machala.1', 'Machala.2', 'Ambato', 'Ambato.1', 'Ambato.2'], axis=1)\n",
    "data.head()"
   ]
  },
  {
   "cell_type": "markdown",
   "metadata": {},
   "source": [
    "Cambiaremos los nombres de las columnas de nuestra data para ver lo que representaremos"
   ]
  },
  {
   "cell_type": "code",
   "execution_count": 16,
   "metadata": {},
   "outputs": [
    {
     "data": {
      "text/html": [
       "<div>\n",
       "<style scoped>\n",
       "    .dataframe tbody tr th:only-of-type {\n",
       "        vertical-align: middle;\n",
       "    }\n",
       "\n",
       "    .dataframe tbody tr th {\n",
       "        vertical-align: top;\n",
       "    }\n",
       "\n",
       "    .dataframe thead th {\n",
       "        text-align: right;\n",
       "    }\n",
       "</style>\n",
       "<table border=\"1\" class=\"dataframe\">\n",
       "  <thead>\n",
       "    <tr style=\"text-align: right;\">\n",
       "      <th></th>\n",
       "      <th>Anios</th>\n",
       "      <th>Incidencia</th>\n",
       "      <th>Brecha</th>\n",
       "      <th>Severidad</th>\n",
       "    </tr>\n",
       "  </thead>\n",
       "  <tbody>\n",
       "    <tr>\n",
       "      <th>1</th>\n",
       "      <td>2008.0</td>\n",
       "      <td>10.45</td>\n",
       "      <td>3.32</td>\n",
       "      <td>1.76</td>\n",
       "    </tr>\n",
       "    <tr>\n",
       "      <th>2</th>\n",
       "      <td>2009.0</td>\n",
       "      <td>11.16</td>\n",
       "      <td>3.71</td>\n",
       "      <td>1.97</td>\n",
       "    </tr>\n",
       "    <tr>\n",
       "      <th>3</th>\n",
       "      <td>2010.0</td>\n",
       "      <td>13.01</td>\n",
       "      <td>4.34</td>\n",
       "      <td>2.31</td>\n",
       "    </tr>\n",
       "    <tr>\n",
       "      <th>4</th>\n",
       "      <td>2011.0</td>\n",
       "      <td>10.33</td>\n",
       "      <td>3.34</td>\n",
       "      <td>1.81</td>\n",
       "    </tr>\n",
       "    <tr>\n",
       "      <th>5</th>\n",
       "      <td>2012.0</td>\n",
       "      <td>8.97</td>\n",
       "      <td>3.29</td>\n",
       "      <td>1.59</td>\n",
       "    </tr>\n",
       "  </tbody>\n",
       "</table>\n",
       "</div>"
      ],
      "text/plain": [
       "    Anios  Incidencia  Brecha  Severidad\n",
       "1  2008.0       10.45    3.32       1.76\n",
       "2  2009.0       11.16    3.71       1.97\n",
       "3  2010.0       13.01    4.34       2.31\n",
       "4  2011.0       10.33    3.34       1.81\n",
       "5  2012.0        8.97    3.29       1.59"
      ]
     },
     "execution_count": 16,
     "metadata": {},
     "output_type": "execute_result"
    }
   ],
   "source": [
    "data.columns = ['Anios', 'Incidencia', 'Brecha', 'Severidad']\n",
    "data.head()"
   ]
  },
  {
   "cell_type": "markdown",
   "metadata": {},
   "source": [
    "### ¿Qué es incidencia de la pobreza?\n",
    "Número de personas pobres expresado como porcentaje del total de la población en un determinado año. Se define como \"pobres\" a aquellas personas que pertenecen a hogares cuyo consumo per cápita, en un período determinado, es inferior al valor de la línea de pobreza.\n",
    "### ¿Qué es la brecha de la pobreza?\n",
    "La línea de pobreza es el equivalente monetario del costo de una canasta básica de bienes y servicios. La brecha de la pobreza refleja cuan pobres son los pobres y, por tanto, proporciona una idea de la profundidad de las carencias de ingreso o consumo que definen una situación de pobreza.\n",
    "### ¿Qué es la severidad de la pobreza?\n",
    "P es un promedio (sobre la población total, n) de las distancias que separan a individuos u hogares de la línea de pobreza, ponderado por un exponente . El valor del exponente permite que la misma fórmula dé como resultado la incidencia, brecha y severidad de la pobreza como casos especiales de la medida."
   ]
  },
  {
   "cell_type": "markdown",
   "metadata": {},
   "source": [
    "----------"
   ]
  },
  {
   "cell_type": "markdown",
   "metadata": {},
   "source": [
    " ## Trazado en Python\n",
    " \n",
    " - **Bokeh**: Es una biblioteca de visualización interactiva de Python con gráficos novedosos."
   ]
  },
  {
   "cell_type": "markdown",
   "metadata": {},
   "source": [
    "Al usar la interfaz bokeh.plotting, necesitamos importar:\n",
    "\n",
    " - Use la función de `figure` para crear nuevos objetos de trazado para trabajar.\n",
    " - Las funciones `output_file`, `output_notebook` para indicar a Bokeh cómo mostrar el resultado."
   ]
  },
  {
   "cell_type": "code",
   "execution_count": 17,
   "metadata": {
    "collapsed": true
   },
   "outputs": [],
   "source": [
    "from bokeh.io import show\n",
    "from bokeh.plotting import figure"
   ]
  },
  {
   "cell_type": "markdown",
   "metadata": {},
   "source": [
    "Importamos `gridplot` - para presentar varias graficas en una"
   ]
  },
  {
   "cell_type": "code",
   "execution_count": 18,
   "metadata": {
    "collapsed": true
   },
   "outputs": [],
   "source": [
    "from bokeh.layouts import gridplot"
   ]
  },
  {
   "cell_type": "markdown",
   "metadata": {},
   "source": [
    "En este caso, estamos en `jupyter notebook`, así que llamamos a `output_notebook()`. Solo debemos llamar esto una vez para mostrar nuestras graficas en el cuaderno usando la funcion `show()` de bokeh."
   ]
  },
  {
   "cell_type": "code",
   "execution_count": 19,
   "metadata": {},
   "outputs": [
    {
     "data": {
      "text/html": [
       "\n",
       "    <div class=\"bk-root\">\n",
       "        <a href=\"https://bokeh.pydata.org\" target=\"_blank\" class=\"bk-logo bk-logo-small bk-logo-notebook\"></a>\n",
       "        <span id=\"7ff3bf37-0427-4fe1-ad2f-87933f89760f\">Loading BokehJS ...</span>\n",
       "    </div>"
      ]
     },
     "metadata": {},
     "output_type": "display_data"
    },
    {
     "data": {
      "application/javascript": [
       "\n",
       "(function(root) {\n",
       "  function now() {\n",
       "    return new Date();\n",
       "  }\n",
       "\n",
       "  var force = true;\n",
       "\n",
       "  if (typeof (root._bokeh_onload_callbacks) === \"undefined\" || force === true) {\n",
       "    root._bokeh_onload_callbacks = [];\n",
       "    root._bokeh_is_loading = undefined;\n",
       "  }\n",
       "\n",
       "  var JS_MIME_TYPE = 'application/javascript';\n",
       "  var HTML_MIME_TYPE = 'text/html';\n",
       "  var EXEC_MIME_TYPE = 'application/vnd.bokehjs_exec.v0+json';\n",
       "  var CLASS_NAME = 'output_bokeh rendered_html';\n",
       "\n",
       "  /**\n",
       "   * Render data to the DOM node\n",
       "   */\n",
       "  function render(props, node) {\n",
       "    var script = document.createElement(\"script\");\n",
       "    node.appendChild(script);\n",
       "  }\n",
       "\n",
       "  /**\n",
       "   * Handle when an output is cleared or removed\n",
       "   */\n",
       "  function handleClearOutput(event, handle) {\n",
       "    var cell = handle.cell;\n",
       "\n",
       "    var id = cell.output_area._bokeh_element_id;\n",
       "    var server_id = cell.output_area._bokeh_server_id;\n",
       "    // Clean up Bokeh references\n",
       "    if (id !== undefined) {\n",
       "      Bokeh.index[id].model.document.clear();\n",
       "      delete Bokeh.index[id];\n",
       "    }\n",
       "\n",
       "    if (server_id !== undefined) {\n",
       "      // Clean up Bokeh references\n",
       "      var cmd = \"from bokeh.io.state import curstate; print(curstate().uuid_to_server['\" + server_id + \"'].get_sessions()[0].document.roots[0]._id)\";\n",
       "      cell.notebook.kernel.execute(cmd, {\n",
       "        iopub: {\n",
       "          output: function(msg) {\n",
       "            var element_id = msg.content.text.trim();\n",
       "            Bokeh.index[element_id].model.document.clear();\n",
       "            delete Bokeh.index[element_id];\n",
       "          }\n",
       "        }\n",
       "      });\n",
       "      // Destroy server and session\n",
       "      var cmd = \"import bokeh.io.notebook as ion; ion.destroy_server('\" + server_id + \"')\";\n",
       "      cell.notebook.kernel.execute(cmd);\n",
       "    }\n",
       "  }\n",
       "\n",
       "  /**\n",
       "   * Handle when a new output is added\n",
       "   */\n",
       "  function handleAddOutput(event, handle) {\n",
       "    var output_area = handle.output_area;\n",
       "    var output = handle.output;\n",
       "\n",
       "    // limit handleAddOutput to display_data with EXEC_MIME_TYPE content only\n",
       "    if ((output.output_type != \"display_data\") || (!output.data.hasOwnProperty(EXEC_MIME_TYPE))) {\n",
       "      return\n",
       "    }\n",
       "\n",
       "    var toinsert = output_area.element.find(`.${CLASS_NAME.split(' ')[0]}`);\n",
       "\n",
       "    if (output.metadata[EXEC_MIME_TYPE][\"id\"] !== undefined) {\n",
       "      toinsert[0].firstChild.textContent = output.data[JS_MIME_TYPE];\n",
       "      // store reference to embed id on output_area\n",
       "      output_area._bokeh_element_id = output.metadata[EXEC_MIME_TYPE][\"id\"];\n",
       "    }\n",
       "    if (output.metadata[EXEC_MIME_TYPE][\"server_id\"] !== undefined) {\n",
       "      var bk_div = document.createElement(\"div\");\n",
       "      bk_div.innerHTML = output.data[HTML_MIME_TYPE];\n",
       "      var script_attrs = bk_div.children[0].attributes;\n",
       "      for (var i = 0; i < script_attrs.length; i++) {\n",
       "        toinsert[0].firstChild.setAttribute(script_attrs[i].name, script_attrs[i].value);\n",
       "      }\n",
       "      // store reference to server id on output_area\n",
       "      output_area._bokeh_server_id = output.metadata[EXEC_MIME_TYPE][\"server_id\"];\n",
       "    }\n",
       "  }\n",
       "\n",
       "  function register_renderer(events, OutputArea) {\n",
       "\n",
       "    function append_mime(data, metadata, element) {\n",
       "      // create a DOM node to render to\n",
       "      var toinsert = this.create_output_subarea(\n",
       "        metadata,\n",
       "        CLASS_NAME,\n",
       "        EXEC_MIME_TYPE\n",
       "      );\n",
       "      this.keyboard_manager.register_events(toinsert);\n",
       "      // Render to node\n",
       "      var props = {data: data, metadata: metadata[EXEC_MIME_TYPE]};\n",
       "      render(props, toinsert[0]);\n",
       "      element.append(toinsert);\n",
       "      return toinsert\n",
       "    }\n",
       "\n",
       "    /* Handle when an output is cleared or removed */\n",
       "    events.on('clear_output.CodeCell', handleClearOutput);\n",
       "    events.on('delete.Cell', handleClearOutput);\n",
       "\n",
       "    /* Handle when a new output is added */\n",
       "    events.on('output_added.OutputArea', handleAddOutput);\n",
       "\n",
       "    /**\n",
       "     * Register the mime type and append_mime function with output_area\n",
       "     */\n",
       "    OutputArea.prototype.register_mime_type(EXEC_MIME_TYPE, append_mime, {\n",
       "      /* Is output safe? */\n",
       "      safe: true,\n",
       "      /* Index of renderer in `output_area.display_order` */\n",
       "      index: 0\n",
       "    });\n",
       "  }\n",
       "\n",
       "  // register the mime type if in Jupyter Notebook environment and previously unregistered\n",
       "  if (root.Jupyter !== undefined) {\n",
       "    var events = require('base/js/events');\n",
       "    var OutputArea = require('notebook/js/outputarea').OutputArea;\n",
       "\n",
       "    if (OutputArea.prototype.mime_types().indexOf(EXEC_MIME_TYPE) == -1) {\n",
       "      register_renderer(events, OutputArea);\n",
       "    }\n",
       "  }\n",
       "\n",
       "  \n",
       "  if (typeof (root._bokeh_timeout) === \"undefined\" || force === true) {\n",
       "    root._bokeh_timeout = Date.now() + 5000;\n",
       "    root._bokeh_failed_load = false;\n",
       "  }\n",
       "\n",
       "  var NB_LOAD_WARNING = {'data': {'text/html':\n",
       "     \"<div style='background-color: #fdd'>\\n\"+\n",
       "     \"<p>\\n\"+\n",
       "     \"BokehJS does not appear to have successfully loaded. If loading BokehJS from CDN, this \\n\"+\n",
       "     \"may be due to a slow or bad network connection. Possible fixes:\\n\"+\n",
       "     \"</p>\\n\"+\n",
       "     \"<ul>\\n\"+\n",
       "     \"<li>re-rerun `output_notebook()` to attempt to load from CDN again, or</li>\\n\"+\n",
       "     \"<li>use INLINE resources instead, as so:</li>\\n\"+\n",
       "     \"</ul>\\n\"+\n",
       "     \"<code>\\n\"+\n",
       "     \"from bokeh.resources import INLINE\\n\"+\n",
       "     \"output_notebook(resources=INLINE)\\n\"+\n",
       "     \"</code>\\n\"+\n",
       "     \"</div>\"}};\n",
       "\n",
       "  function display_loaded() {\n",
       "    var el = document.getElementById(\"7ff3bf37-0427-4fe1-ad2f-87933f89760f\");\n",
       "    if (el != null) {\n",
       "      el.textContent = \"BokehJS is loading...\";\n",
       "    }\n",
       "    if (root.Bokeh !== undefined) {\n",
       "      if (el != null) {\n",
       "        el.textContent = \"BokehJS \" + root.Bokeh.version + \" successfully loaded.\";\n",
       "      }\n",
       "    } else if (Date.now() < root._bokeh_timeout) {\n",
       "      setTimeout(display_loaded, 100)\n",
       "    }\n",
       "  }\n",
       "\n",
       "\n",
       "  function run_callbacks() {\n",
       "    try {\n",
       "      root._bokeh_onload_callbacks.forEach(function(callback) { callback() });\n",
       "    }\n",
       "    finally {\n",
       "      delete root._bokeh_onload_callbacks\n",
       "    }\n",
       "    console.info(\"Bokeh: all callbacks have finished\");\n",
       "  }\n",
       "\n",
       "  function load_libs(js_urls, callback) {\n",
       "    root._bokeh_onload_callbacks.push(callback);\n",
       "    if (root._bokeh_is_loading > 0) {\n",
       "      console.log(\"Bokeh: BokehJS is being loaded, scheduling callback at\", now());\n",
       "      return null;\n",
       "    }\n",
       "    if (js_urls == null || js_urls.length === 0) {\n",
       "      run_callbacks();\n",
       "      return null;\n",
       "    }\n",
       "    console.log(\"Bokeh: BokehJS not loaded, scheduling load and callback at\", now());\n",
       "    root._bokeh_is_loading = js_urls.length;\n",
       "    for (var i = 0; i < js_urls.length; i++) {\n",
       "      var url = js_urls[i];\n",
       "      var s = document.createElement('script');\n",
       "      s.src = url;\n",
       "      s.async = false;\n",
       "      s.onreadystatechange = s.onload = function() {\n",
       "        root._bokeh_is_loading--;\n",
       "        if (root._bokeh_is_loading === 0) {\n",
       "          console.log(\"Bokeh: all BokehJS libraries loaded\");\n",
       "          run_callbacks()\n",
       "        }\n",
       "      };\n",
       "      s.onerror = function() {\n",
       "        console.warn(\"failed to load library \" + url);\n",
       "      };\n",
       "      console.log(\"Bokeh: injecting script tag for BokehJS library: \", url);\n",
       "      document.getElementsByTagName(\"head\")[0].appendChild(s);\n",
       "    }\n",
       "  };var element = document.getElementById(\"7ff3bf37-0427-4fe1-ad2f-87933f89760f\");\n",
       "  if (element == null) {\n",
       "    console.log(\"Bokeh: ERROR: autoload.js configured with elementid '7ff3bf37-0427-4fe1-ad2f-87933f89760f' but no matching script tag was found. \")\n",
       "    return false;\n",
       "  }\n",
       "\n",
       "  var js_urls = [\"https://cdn.pydata.org/bokeh/release/bokeh-0.12.10.min.js\", \"https://cdn.pydata.org/bokeh/release/bokeh-widgets-0.12.10.min.js\", \"https://cdn.pydata.org/bokeh/release/bokeh-tables-0.12.10.min.js\", \"https://cdn.pydata.org/bokeh/release/bokeh-gl-0.12.10.min.js\"];\n",
       "\n",
       "  var inline_js = [\n",
       "    function(Bokeh) {\n",
       "      Bokeh.set_log_level(\"info\");\n",
       "    },\n",
       "    \n",
       "    function(Bokeh) {\n",
       "      \n",
       "    },\n",
       "    function(Bokeh) {\n",
       "      console.log(\"Bokeh: injecting CSS: https://cdn.pydata.org/bokeh/release/bokeh-0.12.10.min.css\");\n",
       "      Bokeh.embed.inject_css(\"https://cdn.pydata.org/bokeh/release/bokeh-0.12.10.min.css\");\n",
       "      console.log(\"Bokeh: injecting CSS: https://cdn.pydata.org/bokeh/release/bokeh-widgets-0.12.10.min.css\");\n",
       "      Bokeh.embed.inject_css(\"https://cdn.pydata.org/bokeh/release/bokeh-widgets-0.12.10.min.css\");\n",
       "      console.log(\"Bokeh: injecting CSS: https://cdn.pydata.org/bokeh/release/bokeh-tables-0.12.10.min.css\");\n",
       "      Bokeh.embed.inject_css(\"https://cdn.pydata.org/bokeh/release/bokeh-tables-0.12.10.min.css\");\n",
       "    }\n",
       "  ];\n",
       "\n",
       "  function run_inline_js() {\n",
       "    \n",
       "    if ((root.Bokeh !== undefined) || (force === true)) {\n",
       "      for (var i = 0; i < inline_js.length; i++) {\n",
       "        inline_js[i].call(root, root.Bokeh);\n",
       "      }if (force === true) {\n",
       "        display_loaded();\n",
       "      }} else if (Date.now() < root._bokeh_timeout) {\n",
       "      setTimeout(run_inline_js, 100);\n",
       "    } else if (!root._bokeh_failed_load) {\n",
       "      console.log(\"Bokeh: BokehJS failed to load within specified timeout.\");\n",
       "      root._bokeh_failed_load = true;\n",
       "    } else if (force !== true) {\n",
       "      var cell = $(document.getElementById(\"7ff3bf37-0427-4fe1-ad2f-87933f89760f\")).parents('.cell').data().cell;\n",
       "      cell.output_area.append_execute_result(NB_LOAD_WARNING)\n",
       "    }\n",
       "\n",
       "  }\n",
       "\n",
       "  if (root._bokeh_is_loading === 0) {\n",
       "    console.log(\"Bokeh: BokehJS loaded, going straight to plotting\");\n",
       "    run_inline_js();\n",
       "  } else {\n",
       "    load_libs(js_urls, function() {\n",
       "      console.log(\"Bokeh: BokehJS plotting callback run at\", now());\n",
       "      run_inline_js();\n",
       "    });\n",
       "  }\n",
       "}(window));"
      ],
      "application/vnd.bokehjs_load.v0+json": "\n(function(root) {\n  function now() {\n    return new Date();\n  }\n\n  var force = true;\n\n  if (typeof (root._bokeh_onload_callbacks) === \"undefined\" || force === true) {\n    root._bokeh_onload_callbacks = [];\n    root._bokeh_is_loading = undefined;\n  }\n\n  \n\n  \n  if (typeof (root._bokeh_timeout) === \"undefined\" || force === true) {\n    root._bokeh_timeout = Date.now() + 5000;\n    root._bokeh_failed_load = false;\n  }\n\n  var NB_LOAD_WARNING = {'data': {'text/html':\n     \"<div style='background-color: #fdd'>\\n\"+\n     \"<p>\\n\"+\n     \"BokehJS does not appear to have successfully loaded. If loading BokehJS from CDN, this \\n\"+\n     \"may be due to a slow or bad network connection. Possible fixes:\\n\"+\n     \"</p>\\n\"+\n     \"<ul>\\n\"+\n     \"<li>re-rerun `output_notebook()` to attempt to load from CDN again, or</li>\\n\"+\n     \"<li>use INLINE resources instead, as so:</li>\\n\"+\n     \"</ul>\\n\"+\n     \"<code>\\n\"+\n     \"from bokeh.resources import INLINE\\n\"+\n     \"output_notebook(resources=INLINE)\\n\"+\n     \"</code>\\n\"+\n     \"</div>\"}};\n\n  function display_loaded() {\n    var el = document.getElementById(\"7ff3bf37-0427-4fe1-ad2f-87933f89760f\");\n    if (el != null) {\n      el.textContent = \"BokehJS is loading...\";\n    }\n    if (root.Bokeh !== undefined) {\n      if (el != null) {\n        el.textContent = \"BokehJS \" + root.Bokeh.version + \" successfully loaded.\";\n      }\n    } else if (Date.now() < root._bokeh_timeout) {\n      setTimeout(display_loaded, 100)\n    }\n  }\n\n\n  function run_callbacks() {\n    try {\n      root._bokeh_onload_callbacks.forEach(function(callback) { callback() });\n    }\n    finally {\n      delete root._bokeh_onload_callbacks\n    }\n    console.info(\"Bokeh: all callbacks have finished\");\n  }\n\n  function load_libs(js_urls, callback) {\n    root._bokeh_onload_callbacks.push(callback);\n    if (root._bokeh_is_loading > 0) {\n      console.log(\"Bokeh: BokehJS is being loaded, scheduling callback at\", now());\n      return null;\n    }\n    if (js_urls == null || js_urls.length === 0) {\n      run_callbacks();\n      return null;\n    }\n    console.log(\"Bokeh: BokehJS not loaded, scheduling load and callback at\", now());\n    root._bokeh_is_loading = js_urls.length;\n    for (var i = 0; i < js_urls.length; i++) {\n      var url = js_urls[i];\n      var s = document.createElement('script');\n      s.src = url;\n      s.async = false;\n      s.onreadystatechange = s.onload = function() {\n        root._bokeh_is_loading--;\n        if (root._bokeh_is_loading === 0) {\n          console.log(\"Bokeh: all BokehJS libraries loaded\");\n          run_callbacks()\n        }\n      };\n      s.onerror = function() {\n        console.warn(\"failed to load library \" + url);\n      };\n      console.log(\"Bokeh: injecting script tag for BokehJS library: \", url);\n      document.getElementsByTagName(\"head\")[0].appendChild(s);\n    }\n  };var element = document.getElementById(\"7ff3bf37-0427-4fe1-ad2f-87933f89760f\");\n  if (element == null) {\n    console.log(\"Bokeh: ERROR: autoload.js configured with elementid '7ff3bf37-0427-4fe1-ad2f-87933f89760f' but no matching script tag was found. \")\n    return false;\n  }\n\n  var js_urls = [\"https://cdn.pydata.org/bokeh/release/bokeh-0.12.10.min.js\", \"https://cdn.pydata.org/bokeh/release/bokeh-widgets-0.12.10.min.js\", \"https://cdn.pydata.org/bokeh/release/bokeh-tables-0.12.10.min.js\", \"https://cdn.pydata.org/bokeh/release/bokeh-gl-0.12.10.min.js\"];\n\n  var inline_js = [\n    function(Bokeh) {\n      Bokeh.set_log_level(\"info\");\n    },\n    \n    function(Bokeh) {\n      \n    },\n    function(Bokeh) {\n      console.log(\"Bokeh: injecting CSS: https://cdn.pydata.org/bokeh/release/bokeh-0.12.10.min.css\");\n      Bokeh.embed.inject_css(\"https://cdn.pydata.org/bokeh/release/bokeh-0.12.10.min.css\");\n      console.log(\"Bokeh: injecting CSS: https://cdn.pydata.org/bokeh/release/bokeh-widgets-0.12.10.min.css\");\n      Bokeh.embed.inject_css(\"https://cdn.pydata.org/bokeh/release/bokeh-widgets-0.12.10.min.css\");\n      console.log(\"Bokeh: injecting CSS: https://cdn.pydata.org/bokeh/release/bokeh-tables-0.12.10.min.css\");\n      Bokeh.embed.inject_css(\"https://cdn.pydata.org/bokeh/release/bokeh-tables-0.12.10.min.css\");\n    }\n  ];\n\n  function run_inline_js() {\n    \n    if ((root.Bokeh !== undefined) || (force === true)) {\n      for (var i = 0; i < inline_js.length; i++) {\n        inline_js[i].call(root, root.Bokeh);\n      }if (force === true) {\n        display_loaded();\n      }} else if (Date.now() < root._bokeh_timeout) {\n      setTimeout(run_inline_js, 100);\n    } else if (!root._bokeh_failed_load) {\n      console.log(\"Bokeh: BokehJS failed to load within specified timeout.\");\n      root._bokeh_failed_load = true;\n    } else if (force !== true) {\n      var cell = $(document.getElementById(\"7ff3bf37-0427-4fe1-ad2f-87933f89760f\")).parents('.cell').data().cell;\n      cell.output_area.append_execute_result(NB_LOAD_WARNING)\n    }\n\n  }\n\n  if (root._bokeh_is_loading === 0) {\n    console.log(\"Bokeh: BokehJS loaded, going straight to plotting\");\n    run_inline_js();\n  } else {\n    load_libs(js_urls, function() {\n      console.log(\"Bokeh: BokehJS plotting callback run at\", now());\n      run_inline_js();\n    });\n  }\n}(window));"
     },
     "metadata": {},
     "output_type": "display_data"
    }
   ],
   "source": [
    "from bokeh.io import output_notebook\n",
    "output_notebook()"
   ]
  },
  {
   "cell_type": "markdown",
   "metadata": {},
   "source": [
    "## Grafico de Lineas"
   ]
  },
  {
   "cell_type": "markdown",
   "metadata": {},
   "source": [
    "Caracteristicas que tendra nuestra grafica"
   ]
  },
  {
   "cell_type": "code",
   "execution_count": 20,
   "metadata": {
    "collapsed": true
   },
   "outputs": [],
   "source": [
    "graph_line = figure(\n",
    "    plot_height=400, # ancho\n",
    "    plot_width=900, # alto\n",
    "    title='POBREZA-QUITO', # titulo\n",
    "    tools='' # opciones de bokeh\n",
    ")"
   ]
  },
  {
   "cell_type": "markdown",
   "metadata": {},
   "source": [
    "Definimos los datos que representara cada \"Linea\", y otras opciones como color y leyenda"
   ]
  },
  {
   "cell_type": "code",
   "execution_count": 21,
   "metadata": {},
   "outputs": [
    {
     "data": {
      "text/html": [
       "<div style=\"display: table;\"><div style=\"display: table-row;\"><div style=\"display: table-cell;\"><b title=\"bokeh.models.renderers.GlyphRenderer\">GlyphRenderer</b>(</div><div style=\"display: table-cell;\">id&nbsp;=&nbsp;'7a42b272-ea17-4356-9403-6541c3f5c999', <span id=\"443c3614-bb4d-46eb-bc4e-c40b701c4d7e\" style=\"cursor: pointer;\">&hellip;)</span></div></div><div class=\"4edcff45-a8a2-47e9-a2ea-27c2ee986ea4\" style=\"display: none;\"><div style=\"display: table-cell;\"></div><div style=\"display: table-cell;\">data_source&nbsp;=&nbsp;ColumnDataSource(id='28dd729e-fd7a-4bc7-a58d-931d982fc126', ...),</div></div><div class=\"4edcff45-a8a2-47e9-a2ea-27c2ee986ea4\" style=\"display: none;\"><div style=\"display: table-cell;\"></div><div style=\"display: table-cell;\">glyph&nbsp;=&nbsp;Line(id='d658ed20-816f-42f6-a49e-96a6c26e7318', ...),</div></div><div class=\"4edcff45-a8a2-47e9-a2ea-27c2ee986ea4\" style=\"display: none;\"><div style=\"display: table-cell;\"></div><div style=\"display: table-cell;\">hover_glyph&nbsp;=&nbsp;None,</div></div><div class=\"4edcff45-a8a2-47e9-a2ea-27c2ee986ea4\" style=\"display: none;\"><div style=\"display: table-cell;\"></div><div style=\"display: table-cell;\">js_event_callbacks&nbsp;=&nbsp;{},</div></div><div class=\"4edcff45-a8a2-47e9-a2ea-27c2ee986ea4\" style=\"display: none;\"><div style=\"display: table-cell;\"></div><div style=\"display: table-cell;\">js_property_callbacks&nbsp;=&nbsp;{},</div></div><div class=\"4edcff45-a8a2-47e9-a2ea-27c2ee986ea4\" style=\"display: none;\"><div style=\"display: table-cell;\"></div><div style=\"display: table-cell;\">level&nbsp;=&nbsp;'glyph',</div></div><div class=\"4edcff45-a8a2-47e9-a2ea-27c2ee986ea4\" style=\"display: none;\"><div style=\"display: table-cell;\"></div><div style=\"display: table-cell;\">muted&nbsp;=&nbsp;False,</div></div><div class=\"4edcff45-a8a2-47e9-a2ea-27c2ee986ea4\" style=\"display: none;\"><div style=\"display: table-cell;\"></div><div style=\"display: table-cell;\">muted_glyph&nbsp;=&nbsp;None,</div></div><div class=\"4edcff45-a8a2-47e9-a2ea-27c2ee986ea4\" style=\"display: none;\"><div style=\"display: table-cell;\"></div><div style=\"display: table-cell;\">name&nbsp;=&nbsp;None,</div></div><div class=\"4edcff45-a8a2-47e9-a2ea-27c2ee986ea4\" style=\"display: none;\"><div style=\"display: table-cell;\"></div><div style=\"display: table-cell;\">nonselection_glyph&nbsp;=&nbsp;Line(id='acaf1b5b-1684-47b9-a19d-b061211c7635', ...),</div></div><div class=\"4edcff45-a8a2-47e9-a2ea-27c2ee986ea4\" style=\"display: none;\"><div style=\"display: table-cell;\"></div><div style=\"display: table-cell;\">selection_glyph&nbsp;=&nbsp;None,</div></div><div class=\"4edcff45-a8a2-47e9-a2ea-27c2ee986ea4\" style=\"display: none;\"><div style=\"display: table-cell;\"></div><div style=\"display: table-cell;\">subscribed_events&nbsp;=&nbsp;[],</div></div><div class=\"4edcff45-a8a2-47e9-a2ea-27c2ee986ea4\" style=\"display: none;\"><div style=\"display: table-cell;\"></div><div style=\"display: table-cell;\">tags&nbsp;=&nbsp;[],</div></div><div class=\"4edcff45-a8a2-47e9-a2ea-27c2ee986ea4\" style=\"display: none;\"><div style=\"display: table-cell;\"></div><div style=\"display: table-cell;\">view&nbsp;=&nbsp;CDSView(id='df8a7419-c9b0-4f9c-b07a-e733b98e170d', ...),</div></div><div class=\"4edcff45-a8a2-47e9-a2ea-27c2ee986ea4\" style=\"display: none;\"><div style=\"display: table-cell;\"></div><div style=\"display: table-cell;\">visible&nbsp;=&nbsp;True,</div></div><div class=\"4edcff45-a8a2-47e9-a2ea-27c2ee986ea4\" style=\"display: none;\"><div style=\"display: table-cell;\"></div><div style=\"display: table-cell;\">x_range_name&nbsp;=&nbsp;'default',</div></div><div class=\"4edcff45-a8a2-47e9-a2ea-27c2ee986ea4\" style=\"display: none;\"><div style=\"display: table-cell;\"></div><div style=\"display: table-cell;\">y_range_name&nbsp;=&nbsp;'default')</div></div></div>\n",
       "<script>\n",
       "(function() {\n",
       "  var expanded = false;\n",
       "  var ellipsis = document.getElementById(\"443c3614-bb4d-46eb-bc4e-c40b701c4d7e\");\n",
       "  ellipsis.addEventListener(\"click\", function() {\n",
       "    var rows = document.getElementsByClassName(\"4edcff45-a8a2-47e9-a2ea-27c2ee986ea4\");\n",
       "    for (var i = 0; i < rows.length; i++) {\n",
       "      var el = rows[i];\n",
       "      el.style.display = expanded ? \"none\" : \"table-row\";\n",
       "    }\n",
       "    ellipsis.innerHTML = expanded ? \"&hellip;)\" : \"&lsaquo;&lsaquo;&lsaquo;\";\n",
       "    expanded = !expanded;\n",
       "  });\n",
       "})();\n",
       "</script>\n"
      ],
      "text/plain": [
       "GlyphRenderer(id='7a42b272-ea17-4356-9403-6541c3f5c999', ...)"
      ]
     },
     "execution_count": 21,
     "metadata": {},
     "output_type": "execute_result"
    }
   ],
   "source": [
    "graph_line.line(\n",
    "    x=data.Anios, # datos en x\n",
    "    y=data.Incidencia, # datos en y\n",
    "    color='#f4d341', # color de las lineas\n",
    "    legend='Incidencia', # leyendad que representa nuestra grafica\n",
    "    line_width=5\n",
    ")\n",
    "graph_line.line(x=data.Anios, y=data.Brecha, color='#42f4bf', legend='Brecha',line_width=5)\n",
    "graph_line.line(x=data.Anios, y=data.Severidad, color='#f44171', legend='Severidad',line_width=5)"
   ]
  },
  {
   "cell_type": "markdown",
   "metadata": {},
   "source": [
    "Para no mostramos los trasados del plano y presentamos nuestra grafica"
   ]
  },
  {
   "cell_type": "code",
   "execution_count": 22,
   "metadata": {},
   "outputs": [
    {
     "data": {
      "text/html": [
       "\n",
       "<div class=\"bk-root\">\n",
       "    <div class=\"bk-plotdiv\" id=\"8ee22b17-b1c6-4ece-835f-b6bbd67b5029\"></div>\n",
       "</div>"
      ]
     },
     "metadata": {},
     "output_type": "display_data"
    },
    {
     "data": {
      "application/javascript": [
       "(function(root) {\n",
       "  function embed_document(root) {\n",
       "    var docs_json = {\"462da625-6b80-4467-9e05-b62a6f6461c2\":{\"roots\":{\"references\":[{\"attributes\":{\"line_alpha\":{\"value\":0.1},\"line_color\":{\"value\":\"#1f77b4\"},\"line_width\":{\"value\":5},\"x\":{\"field\":\"x\"},\"y\":{\"field\":\"y\"}},\"id\":\"3d1975a1-c91f-4217-8f12-08985d52966f\",\"type\":\"Line\"},{\"attributes\":{\"callback\":null,\"column_names\":[\"x\",\"y\"],\"data\":{\"x\":{\"__ndarray__\":\"AAAAAABgn0AAAAAAAGSfQAAAAAAAaJ9AAAAAAABsn0AAAAAAAHCfQAAAAAAAdJ9AAAAAAAB4n0AAAAAAAHyfQAAAAAAAgJ9AAAAAAACEn0A=\",\"dtype\":\"float64\",\"shape\":[10]},\"y\":{\"__ndarray__\":\"j8L1KFyPCkCuR+F6FK4NQFyPwvUoXBFAuB6F61G4CkBSuB6F61EKQNejcD0K1wtAPQrXo3A9BkC4HoXrUbgEQArXo3A9CgVAMzMzMzMzA0A=\",\"dtype\":\"float64\",\"shape\":[10]}}},\"id\":\"af69e6c7-6619-4cb2-a01c-9401095d67f7\",\"type\":\"ColumnDataSource\"},{\"attributes\":{\"label\":{\"value\":\"Incidencia\"},\"renderers\":[{\"id\":\"f739027e-aece-4e51-9788-d928f88026b6\",\"type\":\"GlyphRenderer\"}]},\"id\":\"dbadfc3a-00b6-4cd0-b0d4-071ea288a81f\",\"type\":\"LegendItem\"},{\"attributes\":{\"line_color\":{\"value\":\"#f4d341\"},\"line_width\":{\"value\":5},\"x\":{\"field\":\"x\"},\"y\":{\"field\":\"y\"}},\"id\":\"eeaf65d1-5ca1-43bf-9c4d-56d5b917d6ba\",\"type\":\"Line\"},{\"attributes\":{},\"id\":\"824a7dd1-a850-474f-9615-1e4a6666d0b6\",\"type\":\"BasicTickFormatter\"},{\"attributes\":{\"data_source\":{\"id\":\"207ee1a4-a18e-46bb-94c1-0072e9a41a5a\",\"type\":\"ColumnDataSource\"},\"glyph\":{\"id\":\"eeaf65d1-5ca1-43bf-9c4d-56d5b917d6ba\",\"type\":\"Line\"},\"hover_glyph\":null,\"muted_glyph\":null,\"nonselection_glyph\":{\"id\":\"3d1975a1-c91f-4217-8f12-08985d52966f\",\"type\":\"Line\"},\"selection_glyph\":null,\"view\":{\"id\":\"c093fb1f-fcdd-418c-aa44-2f0c15f30ce2\",\"type\":\"CDSView\"}},\"id\":\"f739027e-aece-4e51-9788-d928f88026b6\",\"type\":\"GlyphRenderer\"},{\"attributes\":{\"callback\":null,\"column_names\":[\"x\",\"y\"],\"data\":{\"x\":{\"__ndarray__\":\"AAAAAABgn0AAAAAAAGSfQAAAAAAAaJ9AAAAAAABsn0AAAAAAAHCfQAAAAAAAdJ9AAAAAAAB4n0AAAAAAAHyfQAAAAAAAgJ9AAAAAAACEn0A=\",\"dtype\":\"float64\",\"shape\":[10]},\"y\":{\"__ndarray__\":\"ZmZmZmbmJEBSuB6F61EmQIXrUbgeBSpAKVyPwvWoJEBxPQrXo/AhQDMzMzMzsyVA16NwPQrXIUB7FK5H4XofQOxRuB6F6x9AZmZmZmZmHUA=\",\"dtype\":\"float64\",\"shape\":[10]}}},\"id\":\"207ee1a4-a18e-46bb-94c1-0072e9a41a5a\",\"type\":\"ColumnDataSource\"},{\"attributes\":{\"line_color\":{\"value\":\"#42f4bf\"},\"line_width\":{\"value\":5},\"x\":{\"field\":\"x\"},\"y\":{\"field\":\"y\"}},\"id\":\"b1424a23-b1ed-4d4b-901a-71a70bb21182\",\"type\":\"Line\"},{\"attributes\":{\"source\":{\"id\":\"207ee1a4-a18e-46bb-94c1-0072e9a41a5a\",\"type\":\"ColumnDataSource\"}},\"id\":\"c093fb1f-fcdd-418c-aa44-2f0c15f30ce2\",\"type\":\"CDSView\"},{\"attributes\":{\"line_alpha\":{\"value\":0.1},\"line_color\":{\"value\":\"#1f77b4\"},\"line_width\":{\"value\":5},\"x\":{\"field\":\"x\"},\"y\":{\"field\":\"y\"}},\"id\":\"47e5e73a-959f-4547-a87e-554149c71782\",\"type\":\"Line\"},{\"attributes\":{\"below\":[{\"id\":\"5c9135a6-2b5c-4eae-b711-f2314550fb65\",\"type\":\"LinearAxis\"}],\"left\":[{\"id\":\"5f922c7e-cb8f-4278-a44a-6a6b5ba2e877\",\"type\":\"LinearAxis\"}],\"plot_height\":400,\"plot_width\":900,\"renderers\":[{\"id\":\"5c9135a6-2b5c-4eae-b711-f2314550fb65\",\"type\":\"LinearAxis\"},{\"id\":\"84143d8f-cc8c-4e70-9a9e-5225f394b1ec\",\"type\":\"Grid\"},{\"id\":\"5f922c7e-cb8f-4278-a44a-6a6b5ba2e877\",\"type\":\"LinearAxis\"},{\"id\":\"b4739920-3082-455c-bfc8-7d12cfbe0873\",\"type\":\"Grid\"},{\"id\":\"36e36546-c9db-42b7-adc1-a39d799c4f82\",\"type\":\"Legend\"},{\"id\":\"f739027e-aece-4e51-9788-d928f88026b6\",\"type\":\"GlyphRenderer\"},{\"id\":\"daae17ad-54d4-4544-a649-af7fde581a17\",\"type\":\"GlyphRenderer\"},{\"id\":\"7a42b272-ea17-4356-9403-6541c3f5c999\",\"type\":\"GlyphRenderer\"}],\"title\":{\"id\":\"d6d3e2cc-ccca-4cc0-82ce-585582241ca9\",\"type\":\"Title\"},\"toolbar\":{\"id\":\"47710069-0562-4981-ad8a-dc10b3d7bb9b\",\"type\":\"Toolbar\"},\"x_range\":{\"id\":\"fdffdae4-5efa-4c01-ae9c-74df2c678834\",\"type\":\"DataRange1d\"},\"x_scale\":{\"id\":\"1f98c81e-1f78-4447-bbeb-f23fcd636b8d\",\"type\":\"LinearScale\"},\"y_range\":{\"id\":\"6fb069a2-b9c6-4385-aa3f-754ea0fc88b5\",\"type\":\"DataRange1d\"},\"y_scale\":{\"id\":\"15ac2b55-1214-43cf-92f7-ca1269d4edbe\",\"type\":\"LinearScale\"}},\"id\":\"2e11c369-14a5-4b35-95eb-fdc42519c621\",\"subtype\":\"Figure\",\"type\":\"Plot\"},{\"attributes\":{\"source\":{\"id\":\"af69e6c7-6619-4cb2-a01c-9401095d67f7\",\"type\":\"ColumnDataSource\"}},\"id\":\"963eb992-eb39-4372-9ae9-dacc96041419\",\"type\":\"CDSView\"},{\"attributes\":{\"data_source\":{\"id\":\"af69e6c7-6619-4cb2-a01c-9401095d67f7\",\"type\":\"ColumnDataSource\"},\"glyph\":{\"id\":\"b1424a23-b1ed-4d4b-901a-71a70bb21182\",\"type\":\"Line\"},\"hover_glyph\":null,\"muted_glyph\":null,\"nonselection_glyph\":{\"id\":\"47e5e73a-959f-4547-a87e-554149c71782\",\"type\":\"Line\"},\"selection_glyph\":null,\"view\":{\"id\":\"963eb992-eb39-4372-9ae9-dacc96041419\",\"type\":\"CDSView\"}},\"id\":\"daae17ad-54d4-4544-a649-af7fde581a17\",\"type\":\"GlyphRenderer\"},{\"attributes\":{\"label\":{\"value\":\"Brecha\"},\"renderers\":[{\"id\":\"daae17ad-54d4-4544-a649-af7fde581a17\",\"type\":\"GlyphRenderer\"}]},\"id\":\"ee360ac4-6c44-4598-9aa1-638cf3bf8a68\",\"type\":\"LegendItem\"},{\"attributes\":{\"plot\":null,\"text\":\"POBREZA-QUITO\"},\"id\":\"d6d3e2cc-ccca-4cc0-82ce-585582241ca9\",\"type\":\"Title\"},{\"attributes\":{\"line_alpha\":{\"value\":0.1},\"line_color\":{\"value\":\"#1f77b4\"},\"line_width\":{\"value\":5},\"x\":{\"field\":\"x\"},\"y\":{\"field\":\"y\"}},\"id\":\"acaf1b5b-1684-47b9-a19d-b061211c7635\",\"type\":\"Line\"},{\"attributes\":{\"callback\":null},\"id\":\"fdffdae4-5efa-4c01-ae9c-74df2c678834\",\"type\":\"DataRange1d\"},{\"attributes\":{\"line_color\":{\"value\":\"#f44171\"},\"line_width\":{\"value\":5},\"x\":{\"field\":\"x\"},\"y\":{\"field\":\"y\"}},\"id\":\"d658ed20-816f-42f6-a49e-96a6c26e7318\",\"type\":\"Line\"},{\"attributes\":{\"active_drag\":\"auto\",\"active_inspect\":\"auto\",\"active_scroll\":\"auto\",\"active_tap\":\"auto\"},\"id\":\"47710069-0562-4981-ad8a-dc10b3d7bb9b\",\"type\":\"Toolbar\"},{\"attributes\":{\"source\":{\"id\":\"28dd729e-fd7a-4bc7-a58d-931d982fc126\",\"type\":\"ColumnDataSource\"}},\"id\":\"df8a7419-c9b0-4f9c-b07a-e733b98e170d\",\"type\":\"CDSView\"},{\"attributes\":{},\"id\":\"c3d643a9-8015-4142-8a2c-9998a83ee710\",\"type\":\"BasicTickFormatter\"},{\"attributes\":{\"callback\":null,\"column_names\":[\"x\",\"y\"],\"data\":{\"x\":{\"__ndarray__\":\"AAAAAABgn0AAAAAAAGSfQAAAAAAAaJ9AAAAAAABsn0AAAAAAAHCfQAAAAAAAdJ9AAAAAAAB4n0AAAAAAAHyfQAAAAAAAgJ9AAAAAAACEn0A=\",\"dtype\":\"float64\",\"shape\":[10]},\"y\":{\"__ndarray__\":\"KVyPwvUo/D+F61G4HoX/P3sUrkfhegJA9ihcj8L1/D9xPQrXo3D5P/YoXI/C9fg/PQrXo3A99j/NzMzMzMz0P3E9CtejcPU/rkfhehSu8z8=\",\"dtype\":\"float64\",\"shape\":[10]}}},\"id\":\"28dd729e-fd7a-4bc7-a58d-931d982fc126\",\"type\":\"ColumnDataSource\"},{\"attributes\":{\"items\":[{\"id\":\"dbadfc3a-00b6-4cd0-b0d4-071ea288a81f\",\"type\":\"LegendItem\"},{\"id\":\"ee360ac4-6c44-4598-9aa1-638cf3bf8a68\",\"type\":\"LegendItem\"},{\"id\":\"48d01e7f-cb5c-4558-b92a-2d71156775ca\",\"type\":\"LegendItem\"}],\"plot\":{\"id\":\"2e11c369-14a5-4b35-95eb-fdc42519c621\",\"subtype\":\"Figure\",\"type\":\"Plot\"}},\"id\":\"36e36546-c9db-42b7-adc1-a39d799c4f82\",\"type\":\"Legend\"},{\"attributes\":{\"data_source\":{\"id\":\"28dd729e-fd7a-4bc7-a58d-931d982fc126\",\"type\":\"ColumnDataSource\"},\"glyph\":{\"id\":\"d658ed20-816f-42f6-a49e-96a6c26e7318\",\"type\":\"Line\"},\"hover_glyph\":null,\"muted_glyph\":null,\"nonselection_glyph\":{\"id\":\"acaf1b5b-1684-47b9-a19d-b061211c7635\",\"type\":\"Line\"},\"selection_glyph\":null,\"view\":{\"id\":\"df8a7419-c9b0-4f9c-b07a-e733b98e170d\",\"type\":\"CDSView\"}},\"id\":\"7a42b272-ea17-4356-9403-6541c3f5c999\",\"type\":\"GlyphRenderer\"},{\"attributes\":{\"callback\":null},\"id\":\"6fb069a2-b9c6-4385-aa3f-754ea0fc88b5\",\"type\":\"DataRange1d\"},{\"attributes\":{\"label\":{\"value\":\"Severidad\"},\"renderers\":[{\"id\":\"7a42b272-ea17-4356-9403-6541c3f5c999\",\"type\":\"GlyphRenderer\"}]},\"id\":\"48d01e7f-cb5c-4558-b92a-2d71156775ca\",\"type\":\"LegendItem\"},{\"attributes\":{},\"id\":\"1f98c81e-1f78-4447-bbeb-f23fcd636b8d\",\"type\":\"LinearScale\"},{\"attributes\":{},\"id\":\"15ac2b55-1214-43cf-92f7-ca1269d4edbe\",\"type\":\"LinearScale\"},{\"attributes\":{\"formatter\":{\"id\":\"824a7dd1-a850-474f-9615-1e4a6666d0b6\",\"type\":\"BasicTickFormatter\"},\"plot\":{\"id\":\"2e11c369-14a5-4b35-95eb-fdc42519c621\",\"subtype\":\"Figure\",\"type\":\"Plot\"},\"ticker\":{\"id\":\"e985caf4-c85f-444e-b9b7-935e5334c9be\",\"type\":\"BasicTicker\"}},\"id\":\"5c9135a6-2b5c-4eae-b711-f2314550fb65\",\"type\":\"LinearAxis\"},{\"attributes\":{},\"id\":\"e985caf4-c85f-444e-b9b7-935e5334c9be\",\"type\":\"BasicTicker\"},{\"attributes\":{\"grid_line_color\":{\"value\":null},\"plot\":{\"id\":\"2e11c369-14a5-4b35-95eb-fdc42519c621\",\"subtype\":\"Figure\",\"type\":\"Plot\"},\"ticker\":{\"id\":\"e985caf4-c85f-444e-b9b7-935e5334c9be\",\"type\":\"BasicTicker\"}},\"id\":\"84143d8f-cc8c-4e70-9a9e-5225f394b1ec\",\"type\":\"Grid\"},{\"attributes\":{\"formatter\":{\"id\":\"c3d643a9-8015-4142-8a2c-9998a83ee710\",\"type\":\"BasicTickFormatter\"},\"plot\":{\"id\":\"2e11c369-14a5-4b35-95eb-fdc42519c621\",\"subtype\":\"Figure\",\"type\":\"Plot\"},\"ticker\":{\"id\":\"c740ea86-69bf-47d1-af5b-c338fd445083\",\"type\":\"BasicTicker\"}},\"id\":\"5f922c7e-cb8f-4278-a44a-6a6b5ba2e877\",\"type\":\"LinearAxis\"},{\"attributes\":{},\"id\":\"c740ea86-69bf-47d1-af5b-c338fd445083\",\"type\":\"BasicTicker\"},{\"attributes\":{\"dimension\":1,\"grid_line_color\":{\"value\":null},\"plot\":{\"id\":\"2e11c369-14a5-4b35-95eb-fdc42519c621\",\"subtype\":\"Figure\",\"type\":\"Plot\"},\"ticker\":{\"id\":\"c740ea86-69bf-47d1-af5b-c338fd445083\",\"type\":\"BasicTicker\"}},\"id\":\"b4739920-3082-455c-bfc8-7d12cfbe0873\",\"type\":\"Grid\"}],\"root_ids\":[\"2e11c369-14a5-4b35-95eb-fdc42519c621\"]},\"title\":\"Bokeh Application\",\"version\":\"0.12.10\"}};\n",
       "    var render_items = [{\"docid\":\"462da625-6b80-4467-9e05-b62a6f6461c2\",\"elementid\":\"8ee22b17-b1c6-4ece-835f-b6bbd67b5029\",\"modelid\":\"2e11c369-14a5-4b35-95eb-fdc42519c621\"}];\n",
       "\n",
       "    root.Bokeh.embed.embed_items(docs_json, render_items);\n",
       "  }\n",
       "\n",
       "  if (root.Bokeh !== undefined) {\n",
       "    embed_document(root);\n",
       "  } else {\n",
       "    var attempts = 0;\n",
       "    var timer = setInterval(function(root) {\n",
       "      if (root.Bokeh !== undefined) {\n",
       "        embed_document(root);\n",
       "        clearInterval(timer);\n",
       "      }\n",
       "      attempts++;\n",
       "      if (attempts > 100) {\n",
       "        console.log(\"Bokeh: ERROR: Unable to embed document because BokehJS library is missing\")\n",
       "        clearInterval(timer);\n",
       "      }\n",
       "    }, 10, root)\n",
       "  }\n",
       "})(window);"
      ],
      "application/vnd.bokehjs_exec.v0+json": ""
     },
     "metadata": {
      "application/vnd.bokehjs_exec.v0+json": {
       "id": "2e11c369-14a5-4b35-95eb-fdc42519c621"
      }
     },
     "output_type": "display_data"
    }
   ],
   "source": [
    "graph_line.xgrid.grid_line_color = None # eliminamos las lineas verticales\n",
    "graph_line.ygrid.grid_line_color = None # horizontales\n",
    "show(graph_line) # mostramos nuestra grafica"
   ]
  },
  {
   "cell_type": "markdown",
   "metadata": {},
   "source": [
    "## Grafico de barras"
   ]
  },
  {
   "cell_type": "markdown",
   "metadata": {},
   "source": [
    "Creamos un una variable contiene los parametros de nuestra grafica final"
   ]
  },
  {
   "cell_type": "code",
   "execution_count": 23,
   "metadata": {
    "collapsed": true
   },
   "outputs": [],
   "source": [
    "options = dict( # opciones que compartiran cada una de nuestras graficas\n",
    "    plot_width=300, plot_height=250, # Tamaño\n",
    "    tools='' # Herramientas de bokeh adicionales\n",
    ")"
   ]
  },
  {
   "cell_type": "markdown",
   "metadata": {},
   "source": [
    "Creamos un objeto de figura por cada grafica y establecemos sus opciones y titulo. (opciones)"
   ]
  },
  {
   "cell_type": "code",
   "execution_count": 24,
   "metadata": {
    "collapsed": true
   },
   "outputs": [],
   "source": [
    "graph_bar_1 = figure(\n",
    "    title='Incidencia', # titulo de esta grafica en particular\n",
    "    **options # opciones antes definidad\n",
    ")\n",
    "graph_bar_2 = figure(title='Brecha', **options)\n",
    "graph_bar_3 = figure(title='Severidad', **options)"
   ]
  },
  {
   "cell_type": "markdown",
   "metadata": {},
   "source": [
    "Definimos lo que cada una de nuestras graficas representara"
   ]
  },
  {
   "cell_type": "code",
   "execution_count": 25,
   "metadata": {},
   "outputs": [
    {
     "data": {
      "text/html": [
       "<div style=\"display: table;\"><div style=\"display: table-row;\"><div style=\"display: table-cell;\"><b title=\"bokeh.models.renderers.GlyphRenderer\">GlyphRenderer</b>(</div><div style=\"display: table-cell;\">id&nbsp;=&nbsp;'2d122e03-cdde-4986-b566-03c1a7f91de3', <span id=\"961266cd-13b2-46e9-a717-51e257b2a1e0\" style=\"cursor: pointer;\">&hellip;)</span></div></div><div class=\"b5e10b85-421d-46f8-9ae2-e51341c5c64e\" style=\"display: none;\"><div style=\"display: table-cell;\"></div><div style=\"display: table-cell;\">data_source&nbsp;=&nbsp;ColumnDataSource(id='60450ae4-68ad-44fe-ad85-8036ba015e50', ...),</div></div><div class=\"b5e10b85-421d-46f8-9ae2-e51341c5c64e\" style=\"display: none;\"><div style=\"display: table-cell;\"></div><div style=\"display: table-cell;\">glyph&nbsp;=&nbsp;VBar(id='7bc7d66a-ed62-4eff-bddc-b690a4a8df42', ...),</div></div><div class=\"b5e10b85-421d-46f8-9ae2-e51341c5c64e\" style=\"display: none;\"><div style=\"display: table-cell;\"></div><div style=\"display: table-cell;\">hover_glyph&nbsp;=&nbsp;None,</div></div><div class=\"b5e10b85-421d-46f8-9ae2-e51341c5c64e\" style=\"display: none;\"><div style=\"display: table-cell;\"></div><div style=\"display: table-cell;\">js_event_callbacks&nbsp;=&nbsp;{},</div></div><div class=\"b5e10b85-421d-46f8-9ae2-e51341c5c64e\" style=\"display: none;\"><div style=\"display: table-cell;\"></div><div style=\"display: table-cell;\">js_property_callbacks&nbsp;=&nbsp;{},</div></div><div class=\"b5e10b85-421d-46f8-9ae2-e51341c5c64e\" style=\"display: none;\"><div style=\"display: table-cell;\"></div><div style=\"display: table-cell;\">level&nbsp;=&nbsp;'glyph',</div></div><div class=\"b5e10b85-421d-46f8-9ae2-e51341c5c64e\" style=\"display: none;\"><div style=\"display: table-cell;\"></div><div style=\"display: table-cell;\">muted&nbsp;=&nbsp;False,</div></div><div class=\"b5e10b85-421d-46f8-9ae2-e51341c5c64e\" style=\"display: none;\"><div style=\"display: table-cell;\"></div><div style=\"display: table-cell;\">muted_glyph&nbsp;=&nbsp;None,</div></div><div class=\"b5e10b85-421d-46f8-9ae2-e51341c5c64e\" style=\"display: none;\"><div style=\"display: table-cell;\"></div><div style=\"display: table-cell;\">name&nbsp;=&nbsp;None,</div></div><div class=\"b5e10b85-421d-46f8-9ae2-e51341c5c64e\" style=\"display: none;\"><div style=\"display: table-cell;\"></div><div style=\"display: table-cell;\">nonselection_glyph&nbsp;=&nbsp;VBar(id='f1fc24ce-bfe2-4d69-9fb7-dbe6d79565e1', ...),</div></div><div class=\"b5e10b85-421d-46f8-9ae2-e51341c5c64e\" style=\"display: none;\"><div style=\"display: table-cell;\"></div><div style=\"display: table-cell;\">selection_glyph&nbsp;=&nbsp;None,</div></div><div class=\"b5e10b85-421d-46f8-9ae2-e51341c5c64e\" style=\"display: none;\"><div style=\"display: table-cell;\"></div><div style=\"display: table-cell;\">subscribed_events&nbsp;=&nbsp;[],</div></div><div class=\"b5e10b85-421d-46f8-9ae2-e51341c5c64e\" style=\"display: none;\"><div style=\"display: table-cell;\"></div><div style=\"display: table-cell;\">tags&nbsp;=&nbsp;[],</div></div><div class=\"b5e10b85-421d-46f8-9ae2-e51341c5c64e\" style=\"display: none;\"><div style=\"display: table-cell;\"></div><div style=\"display: table-cell;\">view&nbsp;=&nbsp;CDSView(id='78c1ec6a-4575-49f6-bba6-9ac066c2994a', ...),</div></div><div class=\"b5e10b85-421d-46f8-9ae2-e51341c5c64e\" style=\"display: none;\"><div style=\"display: table-cell;\"></div><div style=\"display: table-cell;\">visible&nbsp;=&nbsp;True,</div></div><div class=\"b5e10b85-421d-46f8-9ae2-e51341c5c64e\" style=\"display: none;\"><div style=\"display: table-cell;\"></div><div style=\"display: table-cell;\">x_range_name&nbsp;=&nbsp;'default',</div></div><div class=\"b5e10b85-421d-46f8-9ae2-e51341c5c64e\" style=\"display: none;\"><div style=\"display: table-cell;\"></div><div style=\"display: table-cell;\">y_range_name&nbsp;=&nbsp;'default')</div></div></div>\n",
       "<script>\n",
       "(function() {\n",
       "  var expanded = false;\n",
       "  var ellipsis = document.getElementById(\"961266cd-13b2-46e9-a717-51e257b2a1e0\");\n",
       "  ellipsis.addEventListener(\"click\", function() {\n",
       "    var rows = document.getElementsByClassName(\"b5e10b85-421d-46f8-9ae2-e51341c5c64e\");\n",
       "    for (var i = 0; i < rows.length; i++) {\n",
       "      var el = rows[i];\n",
       "      el.style.display = expanded ? \"none\" : \"table-row\";\n",
       "    }\n",
       "    ellipsis.innerHTML = expanded ? \"&hellip;)\" : \"&lsaquo;&lsaquo;&lsaquo;\";\n",
       "    expanded = !expanded;\n",
       "  });\n",
       "})();\n",
       "</script>\n"
      ],
      "text/plain": [
       "GlyphRenderer(id='2d122e03-cdde-4986-b566-03c1a7f91de3', ...)"
      ]
     },
     "execution_count": 25,
     "metadata": {},
     "output_type": "execute_result"
    }
   ],
   "source": [
    "graph_bar_1.vbar(\n",
    "    x=data.Anios, # datos en x\n",
    "    top=data.Incidencia, # valor maximo\n",
    "    width=0.7, # ancho de cada barra\n",
    "    line_color=\"white\", # color del borde de cada barra\n",
    "    color=\"#f4d341\" # color de cada barra\n",
    ")\n",
    "graph_bar_2.vbar(x=data.Anios, top=data.Brecha, width=0.7, line_color=\"white\", color=\"#42f4bf\")\n",
    "graph_bar_3.vbar(x=data.Anios, top=data.Severidad, width=0.7, line_color=\"white\", color=\"#f44171\")"
   ]
  },
  {
   "cell_type": "markdown",
   "metadata": {},
   "source": [
    "Creamos una nueva figura que esta compuesta por las figuras creadas anteriormente"
   ]
  },
  {
   "cell_type": "code",
   "execution_count": 26,
   "metadata": {},
   "outputs": [
    {
     "data": {
      "text/html": [
       "\n",
       "<div class=\"bk-root\">\n",
       "    <div class=\"bk-plotdiv\" id=\"b3200cc8-2044-448c-9911-a46eaab8776c\"></div>\n",
       "</div>"
      ]
     },
     "metadata": {},
     "output_type": "display_data"
    },
    {
     "data": {
      "application/javascript": [
       "(function(root) {\n",
       "  function embed_document(root) {\n",
       "    var docs_json = {\"585e9d12-3f34-42d7-8569-3127ec0e9bcd\":{\"roots\":{\"references\":[{\"attributes\":{\"sizing_mode\":\"scale_width\",\"toolbar_location\":\"above\"},\"id\":\"13f3ddaf-ec0d-4b18-9482-2352318666ba\",\"type\":\"ToolbarBox\"},{\"attributes\":{\"plot\":null,\"text\":\"Incidencia\"},\"id\":\"35b2aa8b-c02c-48fe-bfde-7fbee81a0c56\",\"type\":\"Title\"},{\"attributes\":{\"fill_alpha\":{\"value\":0.1},\"fill_color\":{\"value\":\"#1f77b4\"},\"line_alpha\":{\"value\":0.1},\"line_color\":{\"value\":\"#1f77b4\"},\"top\":{\"field\":\"top\"},\"width\":{\"value\":0.7},\"x\":{\"field\":\"x\"}},\"id\":\"11b510fc-d55d-4e3b-92b8-38d310a2317f\",\"type\":\"VBar\"},{\"attributes\":{\"callback\":null},\"id\":\"0a293a2a-38ef-400d-85e7-4aad8cb9e756\",\"type\":\"DataRange1d\"},{\"attributes\":{},\"id\":\"12e95f29-5175-456c-90a9-b8e44b763310\",\"type\":\"BasicTickFormatter\"},{\"attributes\":{\"data_source\":{\"id\":\"65b09750-c2fb-4914-b502-683e6c6047c2\",\"type\":\"ColumnDataSource\"},\"glyph\":{\"id\":\"70705ade-64fd-4377-8153-ab7440b38fc7\",\"type\":\"VBar\"},\"hover_glyph\":null,\"muted_glyph\":null,\"nonselection_glyph\":{\"id\":\"11b510fc-d55d-4e3b-92b8-38d310a2317f\",\"type\":\"VBar\"},\"selection_glyph\":null,\"view\":{\"id\":\"c2782658-6488-4c08-819c-1d3263262ef5\",\"type\":\"CDSView\"}},\"id\":\"a4a6cd9d-0227-42f1-983a-460270cc89df\",\"type\":\"GlyphRenderer\"},{\"attributes\":{\"active_drag\":\"auto\",\"active_inspect\":\"auto\",\"active_scroll\":\"auto\",\"active_tap\":\"auto\"},\"id\":\"998ba7d0-4152-43ff-a481-84de4edc8dfe\",\"type\":\"Toolbar\"},{\"attributes\":{\"callback\":null},\"id\":\"f639ae1f-c7ef-4fb4-8985-a343da8bd832\",\"type\":\"DataRange1d\"},{\"attributes\":{\"callback\":null,\"column_names\":[\"x\",\"top\"],\"data\":{\"top\":{\"__ndarray__\":\"KVyPwvUo/D+F61G4HoX/P3sUrkfhegJA9ihcj8L1/D9xPQrXo3D5P/YoXI/C9fg/PQrXo3A99j/NzMzMzMz0P3E9CtejcPU/rkfhehSu8z8=\",\"dtype\":\"float64\",\"shape\":[10]},\"x\":{\"__ndarray__\":\"AAAAAABgn0AAAAAAAGSfQAAAAAAAaJ9AAAAAAABsn0AAAAAAAHCfQAAAAAAAdJ9AAAAAAAB4n0AAAAAAAHyfQAAAAAAAgJ9AAAAAAACEn0A=\",\"dtype\":\"float64\",\"shape\":[10]}}},\"id\":\"60450ae4-68ad-44fe-ad85-8036ba015e50\",\"type\":\"ColumnDataSource\"},{\"attributes\":{},\"id\":\"8bd6d2d3-a24a-4730-8740-de3186f3fb9e\",\"type\":\"LinearScale\"},{\"attributes\":{},\"id\":\"20b86020-d811-4d93-9910-4e4394e8a73a\",\"type\":\"BasicTickFormatter\"},{\"attributes\":{\"callback\":null},\"id\":\"2df972c9-de49-4540-9a29-a3ac72d8a7aa\",\"type\":\"DataRange1d\"},{\"attributes\":{},\"id\":\"7af463d1-568c-4007-9f9b-82be49b20395\",\"type\":\"LinearScale\"},{\"attributes\":{\"source\":{\"id\":\"65b09750-c2fb-4914-b502-683e6c6047c2\",\"type\":\"ColumnDataSource\"}},\"id\":\"c2782658-6488-4c08-819c-1d3263262ef5\",\"type\":\"CDSView\"},{\"attributes\":{\"plot\":null,\"text\":\"Brecha\"},\"id\":\"e717924e-6407-491d-bfc4-2909ffab39e3\",\"type\":\"Title\"},{\"attributes\":{\"data_source\":{\"id\":\"60450ae4-68ad-44fe-ad85-8036ba015e50\",\"type\":\"ColumnDataSource\"},\"glyph\":{\"id\":\"7bc7d66a-ed62-4eff-bddc-b690a4a8df42\",\"type\":\"VBar\"},\"hover_glyph\":null,\"muted_glyph\":null,\"nonselection_glyph\":{\"id\":\"f1fc24ce-bfe2-4d69-9fb7-dbe6d79565e1\",\"type\":\"VBar\"},\"selection_glyph\":null,\"view\":{\"id\":\"78c1ec6a-4575-49f6-bba6-9ac066c2994a\",\"type\":\"CDSView\"}},\"id\":\"2d122e03-cdde-4986-b566-03c1a7f91de3\",\"type\":\"GlyphRenderer\"},{\"attributes\":{\"plot\":null,\"text\":\"Severidad\"},\"id\":\"37b7083e-7ca3-4321-afdd-c4ad54da8f02\",\"type\":\"Title\"},{\"attributes\":{},\"id\":\"69cefb52-90d0-4096-8a9b-fb23438d38c8\",\"type\":\"BasicTickFormatter\"},{\"attributes\":{\"formatter\":{\"id\":\"12e95f29-5175-456c-90a9-b8e44b763310\",\"type\":\"BasicTickFormatter\"},\"plot\":{\"id\":\"285d6731-29e5-445e-9d44-752c59bd3402\",\"subtype\":\"Figure\",\"type\":\"Plot\"},\"ticker\":{\"id\":\"592d6751-2571-4193-86a1-97513579ed14\",\"type\":\"BasicTicker\"}},\"id\":\"e3b5966f-eaed-4ffb-b3de-ab812f1f7fbb\",\"type\":\"LinearAxis\"},{\"attributes\":{},\"id\":\"df6ba4e2-ce36-459d-9516-807ea6da35fe\",\"type\":\"BasicTickFormatter\"},{\"attributes\":{},\"id\":\"592d6751-2571-4193-86a1-97513579ed14\",\"type\":\"BasicTicker\"},{\"attributes\":{},\"id\":\"1e1f0899-ba4a-4c65-b889-17e059aaf547\",\"type\":\"BasicTickFormatter\"},{\"attributes\":{\"plot\":{\"id\":\"285d6731-29e5-445e-9d44-752c59bd3402\",\"subtype\":\"Figure\",\"type\":\"Plot\"},\"ticker\":{\"id\":\"592d6751-2571-4193-86a1-97513579ed14\",\"type\":\"BasicTicker\"}},\"id\":\"30d64b11-26f1-436a-a3f3-3343e54c1964\",\"type\":\"Grid\"},{\"attributes\":{\"source\":{\"id\":\"5117eba7-1287-4aca-8603-bee586c8ee2c\",\"type\":\"ColumnDataSource\"}},\"id\":\"f97d7d83-f635-499b-abce-9319866e65ed\",\"type\":\"CDSView\"},{\"attributes\":{\"formatter\":{\"id\":\"20b86020-d811-4d93-9910-4e4394e8a73a\",\"type\":\"BasicTickFormatter\"},\"plot\":{\"id\":\"285d6731-29e5-445e-9d44-752c59bd3402\",\"subtype\":\"Figure\",\"type\":\"Plot\"},\"ticker\":{\"id\":\"5bb44e60-d612-47c4-855e-50304958cf34\",\"type\":\"BasicTicker\"}},\"id\":\"4fff438f-75cb-4b3d-abdf-1893c4889cff\",\"type\":\"LinearAxis\"},{\"attributes\":{\"fill_color\":{\"value\":\"#f44171\"},\"line_color\":{\"value\":\"white\"},\"top\":{\"field\":\"top\"},\"width\":{\"value\":0.7},\"x\":{\"field\":\"x\"}},\"id\":\"7bc7d66a-ed62-4eff-bddc-b690a4a8df42\",\"type\":\"VBar\"},{\"attributes\":{\"below\":[{\"id\":\"9d1688e4-18e5-4327-b6c2-668c68c2c049\",\"type\":\"LinearAxis\"}],\"left\":[{\"id\":\"9d5480e0-608c-46dd-811b-810618a60806\",\"type\":\"LinearAxis\"}],\"plot_height\":250,\"plot_width\":300,\"renderers\":[{\"id\":\"9d1688e4-18e5-4327-b6c2-668c68c2c049\",\"type\":\"LinearAxis\"},{\"id\":\"b26db2e6-c872-4262-aaf4-d07ef68d086e\",\"type\":\"Grid\"},{\"id\":\"9d5480e0-608c-46dd-811b-810618a60806\",\"type\":\"LinearAxis\"},{\"id\":\"669d2f5a-7565-45da-a580-d178f25966ff\",\"type\":\"Grid\"},{\"id\":\"2d122e03-cdde-4986-b566-03c1a7f91de3\",\"type\":\"GlyphRenderer\"}],\"title\":{\"id\":\"37b7083e-7ca3-4321-afdd-c4ad54da8f02\",\"type\":\"Title\"},\"toolbar\":{\"id\":\"532089fb-7c2f-49f0-b1d5-1db805a10f53\",\"type\":\"Toolbar\"},\"toolbar_location\":null,\"x_range\":{\"id\":\"f639ae1f-c7ef-4fb4-8985-a343da8bd832\",\"type\":\"DataRange1d\"},\"x_scale\":{\"id\":\"93c8c398-f9d6-4d36-9c51-d376404e1443\",\"type\":\"LinearScale\"},\"y_range\":{\"id\":\"0afb8af7-ea5d-4bf0-bfb8-ed632c121581\",\"type\":\"DataRange1d\"},\"y_scale\":{\"id\":\"bab63747-24fa-4988-96ba-d28f085f777b\",\"type\":\"LinearScale\"}},\"id\":\"a2b086ae-d743-4f94-afc4-32ca15d849d1\",\"subtype\":\"Figure\",\"type\":\"Plot\"},{\"attributes\":{},\"id\":\"5bb44e60-d612-47c4-855e-50304958cf34\",\"type\":\"BasicTicker\"},{\"attributes\":{\"fill_alpha\":{\"value\":0.1},\"fill_color\":{\"value\":\"#1f77b4\"},\"line_alpha\":{\"value\":0.1},\"line_color\":{\"value\":\"#1f77b4\"},\"top\":{\"field\":\"top\"},\"width\":{\"value\":0.7},\"x\":{\"field\":\"x\"}},\"id\":\"f1fc24ce-bfe2-4d69-9fb7-dbe6d79565e1\",\"type\":\"VBar\"},{\"attributes\":{\"dimension\":1,\"plot\":{\"id\":\"285d6731-29e5-445e-9d44-752c59bd3402\",\"subtype\":\"Figure\",\"type\":\"Plot\"},\"ticker\":{\"id\":\"5bb44e60-d612-47c4-855e-50304958cf34\",\"type\":\"BasicTicker\"}},\"id\":\"841957f5-f1e8-4457-b911-fe5865c1b15c\",\"type\":\"Grid\"},{\"attributes\":{\"callback\":null},\"id\":\"81d7eca4-f19b-4265-aa00-4085c458a039\",\"type\":\"DataRange1d\"},{\"attributes\":{\"source\":{\"id\":\"60450ae4-68ad-44fe-ad85-8036ba015e50\",\"type\":\"ColumnDataSource\"}},\"id\":\"78c1ec6a-4575-49f6-bba6-9ac066c2994a\",\"type\":\"CDSView\"},{\"attributes\":{\"active_drag\":\"auto\",\"active_inspect\":\"auto\",\"active_scroll\":\"auto\",\"active_tap\":\"auto\"},\"id\":\"c210410e-6382-440f-b92e-8142387f6f67\",\"type\":\"Toolbar\"},{\"attributes\":{\"active_drag\":\"auto\",\"active_inspect\":\"auto\",\"active_scroll\":\"auto\",\"active_tap\":\"auto\"},\"id\":\"532089fb-7c2f-49f0-b1d5-1db805a10f53\",\"type\":\"Toolbar\"},{\"attributes\":{},\"id\":\"15408782-ba6c-4354-8178-505276c8503a\",\"type\":\"BasicTickFormatter\"},{\"attributes\":{},\"id\":\"afb2b0b4-c154-4546-8412-940ef49c938e\",\"type\":\"LinearScale\"},{\"attributes\":{\"callback\":null},\"id\":\"1efb946e-fea5-4b46-a1b6-5880f96663ec\",\"type\":\"DataRange1d\"},{\"attributes\":{},\"id\":\"1760bdbc-e02b-487e-bcfa-0b4e5cec1d5b\",\"type\":\"LinearScale\"},{\"attributes\":{\"plot\":{\"id\":\"4afc7f64-5cf9-41f2-a2f4-da18dcb965f3\",\"subtype\":\"Figure\",\"type\":\"Plot\"},\"ticker\":{\"id\":\"fc0e988b-3185-4914-9046-d496258fc8b7\",\"type\":\"BasicTicker\"}},\"id\":\"58813b8a-a65a-4528-9b5d-d6c6f291cb26\",\"type\":\"Grid\"},{\"attributes\":{\"formatter\":{\"id\":\"69cefb52-90d0-4096-8a9b-fb23438d38c8\",\"type\":\"BasicTickFormatter\"},\"plot\":{\"id\":\"4afc7f64-5cf9-41f2-a2f4-da18dcb965f3\",\"subtype\":\"Figure\",\"type\":\"Plot\"},\"ticker\":{\"id\":\"fc0e988b-3185-4914-9046-d496258fc8b7\",\"type\":\"BasicTicker\"}},\"id\":\"bc186002-7810-4303-98e6-5005f953ccee\",\"type\":\"LinearAxis\"},{\"attributes\":{},\"id\":\"fc0e988b-3185-4914-9046-d496258fc8b7\",\"type\":\"BasicTicker\"},{\"attributes\":{\"formatter\":{\"id\":\"1e1f0899-ba4a-4c65-b889-17e059aaf547\",\"type\":\"BasicTickFormatter\"},\"plot\":{\"id\":\"4afc7f64-5cf9-41f2-a2f4-da18dcb965f3\",\"subtype\":\"Figure\",\"type\":\"Plot\"},\"ticker\":{\"id\":\"b0013042-f08a-478b-ba73-542ba27282fe\",\"type\":\"BasicTicker\"}},\"id\":\"262ed7e0-453f-45ed-aa0f-f3a6c7e75c50\",\"type\":\"LinearAxis\"},{\"attributes\":{\"children\":[{\"id\":\"21f138d9-6764-4e41-b1a1-c4cb3673667a\",\"type\":\"Row\"}]},\"id\":\"0c728af5-3583-4b21-994f-1fdf3ee1b92f\",\"type\":\"Column\"},{\"attributes\":{},\"id\":\"b0013042-f08a-478b-ba73-542ba27282fe\",\"type\":\"BasicTicker\"},{\"attributes\":{\"dimension\":1,\"plot\":{\"id\":\"4afc7f64-5cf9-41f2-a2f4-da18dcb965f3\",\"subtype\":\"Figure\",\"type\":\"Plot\"},\"ticker\":{\"id\":\"b0013042-f08a-478b-ba73-542ba27282fe\",\"type\":\"BasicTicker\"}},\"id\":\"87bb3de8-c9d5-4a52-a7d3-4bf6d066dde4\",\"type\":\"Grid\"},{\"attributes\":{},\"id\":\"93c8c398-f9d6-4d36-9c51-d376404e1443\",\"type\":\"LinearScale\"},{\"attributes\":{\"callback\":null},\"id\":\"0afb8af7-ea5d-4bf0-bfb8-ed632c121581\",\"type\":\"DataRange1d\"},{\"attributes\":{\"children\":[{\"id\":\"285d6731-29e5-445e-9d44-752c59bd3402\",\"subtype\":\"Figure\",\"type\":\"Plot\"},{\"id\":\"4afc7f64-5cf9-41f2-a2f4-da18dcb965f3\",\"subtype\":\"Figure\",\"type\":\"Plot\"},{\"id\":\"a2b086ae-d743-4f94-afc4-32ca15d849d1\",\"subtype\":\"Figure\",\"type\":\"Plot\"}]},\"id\":\"21f138d9-6764-4e41-b1a1-c4cb3673667a\",\"type\":\"Row\"},{\"attributes\":{},\"id\":\"bab63747-24fa-4988-96ba-d28f085f777b\",\"type\":\"LinearScale\"},{\"attributes\":{\"plot\":{\"id\":\"a2b086ae-d743-4f94-afc4-32ca15d849d1\",\"subtype\":\"Figure\",\"type\":\"Plot\"},\"ticker\":{\"id\":\"dd85a8d9-0fde-4138-ad58-00d378d6a134\",\"type\":\"BasicTicker\"}},\"id\":\"b26db2e6-c872-4262-aaf4-d07ef68d086e\",\"type\":\"Grid\"},{\"attributes\":{\"formatter\":{\"id\":\"df6ba4e2-ce36-459d-9516-807ea6da35fe\",\"type\":\"BasicTickFormatter\"},\"plot\":{\"id\":\"a2b086ae-d743-4f94-afc4-32ca15d849d1\",\"subtype\":\"Figure\",\"type\":\"Plot\"},\"ticker\":{\"id\":\"dd85a8d9-0fde-4138-ad58-00d378d6a134\",\"type\":\"BasicTicker\"}},\"id\":\"9d1688e4-18e5-4327-b6c2-668c68c2c049\",\"type\":\"LinearAxis\"},{\"attributes\":{},\"id\":\"dd85a8d9-0fde-4138-ad58-00d378d6a134\",\"type\":\"BasicTicker\"},{\"attributes\":{\"below\":[{\"id\":\"bc186002-7810-4303-98e6-5005f953ccee\",\"type\":\"LinearAxis\"}],\"left\":[{\"id\":\"262ed7e0-453f-45ed-aa0f-f3a6c7e75c50\",\"type\":\"LinearAxis\"}],\"plot_height\":250,\"plot_width\":300,\"renderers\":[{\"id\":\"bc186002-7810-4303-98e6-5005f953ccee\",\"type\":\"LinearAxis\"},{\"id\":\"58813b8a-a65a-4528-9b5d-d6c6f291cb26\",\"type\":\"Grid\"},{\"id\":\"262ed7e0-453f-45ed-aa0f-f3a6c7e75c50\",\"type\":\"LinearAxis\"},{\"id\":\"87bb3de8-c9d5-4a52-a7d3-4bf6d066dde4\",\"type\":\"Grid\"},{\"id\":\"283a984f-7d76-4b11-8bd6-b5369d25ddb8\",\"type\":\"GlyphRenderer\"}],\"title\":{\"id\":\"e717924e-6407-491d-bfc4-2909ffab39e3\",\"type\":\"Title\"},\"toolbar\":{\"id\":\"c210410e-6382-440f-b92e-8142387f6f67\",\"type\":\"Toolbar\"},\"toolbar_location\":null,\"x_range\":{\"id\":\"81d7eca4-f19b-4265-aa00-4085c458a039\",\"type\":\"DataRange1d\"},\"x_scale\":{\"id\":\"afb2b0b4-c154-4546-8412-940ef49c938e\",\"type\":\"LinearScale\"},\"y_range\":{\"id\":\"1efb946e-fea5-4b46-a1b6-5880f96663ec\",\"type\":\"DataRange1d\"},\"y_scale\":{\"id\":\"1760bdbc-e02b-487e-bcfa-0b4e5cec1d5b\",\"type\":\"LinearScale\"}},\"id\":\"4afc7f64-5cf9-41f2-a2f4-da18dcb965f3\",\"subtype\":\"Figure\",\"type\":\"Plot\"},{\"attributes\":{\"formatter\":{\"id\":\"15408782-ba6c-4354-8178-505276c8503a\",\"type\":\"BasicTickFormatter\"},\"plot\":{\"id\":\"a2b086ae-d743-4f94-afc4-32ca15d849d1\",\"subtype\":\"Figure\",\"type\":\"Plot\"},\"ticker\":{\"id\":\"34f2ddf1-632d-4850-89be-a4a9588415df\",\"type\":\"BasicTicker\"}},\"id\":\"9d5480e0-608c-46dd-811b-810618a60806\",\"type\":\"LinearAxis\"},{\"attributes\":{},\"id\":\"34f2ddf1-632d-4850-89be-a4a9588415df\",\"type\":\"BasicTicker\"},{\"attributes\":{\"dimension\":1,\"plot\":{\"id\":\"a2b086ae-d743-4f94-afc4-32ca15d849d1\",\"subtype\":\"Figure\",\"type\":\"Plot\"},\"ticker\":{\"id\":\"34f2ddf1-632d-4850-89be-a4a9588415df\",\"type\":\"BasicTicker\"}},\"id\":\"669d2f5a-7565-45da-a580-d178f25966ff\",\"type\":\"Grid\"},{\"attributes\":{\"below\":[{\"id\":\"e3b5966f-eaed-4ffb-b3de-ab812f1f7fbb\",\"type\":\"LinearAxis\"}],\"left\":[{\"id\":\"4fff438f-75cb-4b3d-abdf-1893c4889cff\",\"type\":\"LinearAxis\"}],\"plot_height\":250,\"plot_width\":300,\"renderers\":[{\"id\":\"e3b5966f-eaed-4ffb-b3de-ab812f1f7fbb\",\"type\":\"LinearAxis\"},{\"id\":\"30d64b11-26f1-436a-a3f3-3343e54c1964\",\"type\":\"Grid\"},{\"id\":\"4fff438f-75cb-4b3d-abdf-1893c4889cff\",\"type\":\"LinearAxis\"},{\"id\":\"841957f5-f1e8-4457-b911-fe5865c1b15c\",\"type\":\"Grid\"},{\"id\":\"a4a6cd9d-0227-42f1-983a-460270cc89df\",\"type\":\"GlyphRenderer\"}],\"title\":{\"id\":\"35b2aa8b-c02c-48fe-bfde-7fbee81a0c56\",\"type\":\"Title\"},\"toolbar\":{\"id\":\"998ba7d0-4152-43ff-a481-84de4edc8dfe\",\"type\":\"Toolbar\"},\"toolbar_location\":null,\"x_range\":{\"id\":\"0a293a2a-38ef-400d-85e7-4aad8cb9e756\",\"type\":\"DataRange1d\"},\"x_scale\":{\"id\":\"8bd6d2d3-a24a-4730-8740-de3186f3fb9e\",\"type\":\"LinearScale\"},\"y_range\":{\"id\":\"2df972c9-de49-4540-9a29-a3ac72d8a7aa\",\"type\":\"DataRange1d\"},\"y_scale\":{\"id\":\"7af463d1-568c-4007-9f9b-82be49b20395\",\"type\":\"LinearScale\"}},\"id\":\"285d6731-29e5-445e-9d44-752c59bd3402\",\"subtype\":\"Figure\",\"type\":\"Plot\"},{\"attributes\":{\"children\":[{\"id\":\"13f3ddaf-ec0d-4b18-9482-2352318666ba\",\"type\":\"ToolbarBox\"},{\"id\":\"0c728af5-3583-4b21-994f-1fdf3ee1b92f\",\"type\":\"Column\"}]},\"id\":\"f7fe908f-6ec7-4362-a27f-68c37fde9648\",\"type\":\"Column\"},{\"attributes\":{\"fill_color\":{\"value\":\"#42f4bf\"},\"line_color\":{\"value\":\"white\"},\"top\":{\"field\":\"top\"},\"width\":{\"value\":0.7},\"x\":{\"field\":\"x\"}},\"id\":\"2d90510a-5842-4bf9-81c7-29be4f901970\",\"type\":\"VBar\"},{\"attributes\":{\"callback\":null,\"column_names\":[\"x\",\"top\"],\"data\":{\"top\":{\"__ndarray__\":\"j8L1KFyPCkCuR+F6FK4NQFyPwvUoXBFAuB6F61G4CkBSuB6F61EKQNejcD0K1wtAPQrXo3A9BkC4HoXrUbgEQArXo3A9CgVAMzMzMzMzA0A=\",\"dtype\":\"float64\",\"shape\":[10]},\"x\":{\"__ndarray__\":\"AAAAAABgn0AAAAAAAGSfQAAAAAAAaJ9AAAAAAABsn0AAAAAAAHCfQAAAAAAAdJ9AAAAAAAB4n0AAAAAAAHyfQAAAAAAAgJ9AAAAAAACEn0A=\",\"dtype\":\"float64\",\"shape\":[10]}}},\"id\":\"5117eba7-1287-4aca-8603-bee586c8ee2c\",\"type\":\"ColumnDataSource\"},{\"attributes\":{\"callback\":null,\"column_names\":[\"x\",\"top\"],\"data\":{\"top\":{\"__ndarray__\":\"ZmZmZmbmJEBSuB6F61EmQIXrUbgeBSpAKVyPwvWoJEBxPQrXo/AhQDMzMzMzsyVA16NwPQrXIUB7FK5H4XofQOxRuB6F6x9AZmZmZmZmHUA=\",\"dtype\":\"float64\",\"shape\":[10]},\"x\":{\"__ndarray__\":\"AAAAAABgn0AAAAAAAGSfQAAAAAAAaJ9AAAAAAABsn0AAAAAAAHCfQAAAAAAAdJ9AAAAAAAB4n0AAAAAAAHyfQAAAAAAAgJ9AAAAAAACEn0A=\",\"dtype\":\"float64\",\"shape\":[10]}}},\"id\":\"65b09750-c2fb-4914-b502-683e6c6047c2\",\"type\":\"ColumnDataSource\"},{\"attributes\":{\"data_source\":{\"id\":\"5117eba7-1287-4aca-8603-bee586c8ee2c\",\"type\":\"ColumnDataSource\"},\"glyph\":{\"id\":\"2d90510a-5842-4bf9-81c7-29be4f901970\",\"type\":\"VBar\"},\"hover_glyph\":null,\"muted_glyph\":null,\"nonselection_glyph\":{\"id\":\"44e7cf52-b9b6-4d2e-8ce2-ebb3b493d778\",\"type\":\"VBar\"},\"selection_glyph\":null,\"view\":{\"id\":\"f97d7d83-f635-499b-abce-9319866e65ed\",\"type\":\"CDSView\"}},\"id\":\"283a984f-7d76-4b11-8bd6-b5369d25ddb8\",\"type\":\"GlyphRenderer\"},{\"attributes\":{\"fill_color\":{\"value\":\"#f4d341\"},\"line_color\":{\"value\":\"white\"},\"top\":{\"field\":\"top\"},\"width\":{\"value\":0.7},\"x\":{\"field\":\"x\"}},\"id\":\"70705ade-64fd-4377-8153-ab7440b38fc7\",\"type\":\"VBar\"},{\"attributes\":{\"fill_alpha\":{\"value\":0.1},\"fill_color\":{\"value\":\"#1f77b4\"},\"line_alpha\":{\"value\":0.1},\"line_color\":{\"value\":\"#1f77b4\"},\"top\":{\"field\":\"top\"},\"width\":{\"value\":0.7},\"x\":{\"field\":\"x\"}},\"id\":\"44e7cf52-b9b6-4d2e-8ce2-ebb3b493d778\",\"type\":\"VBar\"}],\"root_ids\":[\"f7fe908f-6ec7-4362-a27f-68c37fde9648\"]},\"title\":\"Bokeh Application\",\"version\":\"0.12.10\"}};\n",
       "    var render_items = [{\"docid\":\"585e9d12-3f34-42d7-8569-3127ec0e9bcd\",\"elementid\":\"b3200cc8-2044-448c-9911-a46eaab8776c\",\"modelid\":\"f7fe908f-6ec7-4362-a27f-68c37fde9648\"}];\n",
       "\n",
       "    root.Bokeh.embed.embed_items(docs_json, render_items);\n",
       "  }\n",
       "\n",
       "  if (root.Bokeh !== undefined) {\n",
       "    embed_document(root);\n",
       "  } else {\n",
       "    var attempts = 0;\n",
       "    var timer = setInterval(function(root) {\n",
       "      if (root.Bokeh !== undefined) {\n",
       "        embed_document(root);\n",
       "        clearInterval(timer);\n",
       "      }\n",
       "      attempts++;\n",
       "      if (attempts > 100) {\n",
       "        console.log(\"Bokeh: ERROR: Unable to embed document because BokehJS library is missing\")\n",
       "        clearInterval(timer);\n",
       "      }\n",
       "    }, 10, root)\n",
       "  }\n",
       "})(window);"
      ],
      "application/vnd.bokehjs_exec.v0+json": ""
     },
     "metadata": {
      "application/vnd.bokehjs_exec.v0+json": {
       "id": "f7fe908f-6ec7-4362-a27f-68c37fde9648"
      }
     },
     "output_type": "display_data"
    }
   ],
   "source": [
    "graph_bar = gridplot([[graph_bar_1, graph_bar_2, graph_bar_3]]) # agrupamos nuestas graficas\n",
    "show(graph_bar) # Mostramos los resultados"
   ]
  },
  {
   "cell_type": "code",
   "execution_count": 57,
   "metadata": {},
   "outputs": [
    {
     "data": {
      "application/vnd.jupyter.widget-view+json": {
       "model_id": "289c2156153e4e82ae17a6ff1237bb8c",
       "version_major": 2,
       "version_minor": 0
      },
      "text/html": [
       "<p>Failed to display Jupyter Widget of type <code>interactive</code>.</p>\n",
       "<p>\n",
       "  If you're reading this message in the Jupyter Notebook or JupyterLab Notebook, it may mean\n",
       "  that the widgets JavaScript is still loading. If this message persists, it\n",
       "  likely means that the widgets JavaScript library is either not installed or\n",
       "  not enabled. See the <a href=\"https://ipywidgets.readthedocs.io/en/stable/user_install.html\">Jupyter\n",
       "  Widgets Documentation</a> for setup instructions.\n",
       "</p>\n",
       "<p>\n",
       "  If you're reading this message in another frontend (for example, a static\n",
       "  rendering on GitHub or <a href=\"https://nbviewer.jupyter.org/\">NBViewer</a>),\n",
       "  it may mean that your frontend doesn't currently support widgets.\n",
       "</p>\n"
      ],
      "text/plain": [
       "interactive(children=(IntSlider(value=5, description='x', max=10, min=1), Output()), _dom_classes=('widget-interact',))"
      ]
     },
     "metadata": {},
     "output_type": "display_data"
    }
   ],
   "source": [
    "from bokeh.plotting import *\n",
    "from numpy import pi\n",
    "\n",
    "graph_pie_1 = figure(\n",
    "    title='Incidencia', # titulo de esta grafica en particular\n",
    "    x_range=(-1,1),\n",
    "    y_range=(-1,1),\n",
    "    plot_width=300, plot_height=300, # Tamaño\n",
    "    tools='' # Herramientas de bokeh adicionales\n",
    ")\n",
    "graph_pie_2 = figure(title='Brecha', x_range=(-1,1), y_range=(-1,1), plot_width=300, plot_height=300,tools='')\n",
    "graph_pie_3 = figure(title='Severidad', x_range=(-1,1), y_range=(-1,1), plot_width=300, plot_height=300, tools='')\n",
    "\n",
    "\n",
    "from ipywidgets import interact\n",
    "def f(x):\n",
    "    graph_pie_1.wedge(\n",
    "        x=0, y=0, radius=0.8, \n",
    "        start_angle=[0.0, data.Incidencia[x]*2*pi/100], \n",
    "        end_angle=[data.Incidencia[x]*2*pi, 2*pi], \n",
    "        color=['#f4d341','#686060']\n",
    "    )\n",
    "    graph_pie_2.wedge(\n",
    "        x=0, y=0, radius=0.8, \n",
    "        start_angle=[0.0, data.Brecha[x]*2*pi/100], \n",
    "        end_angle=[data.Brecha[x]*2*pi, 2*pi], \n",
    "        color=['#42f4bf','#f4d341']\n",
    "    )\n",
    "    graph_pie_3.wedge(\n",
    "        x=0, y=0, radius=0.8, \n",
    "        start_angle=[0.0, data.Severidad[x]*2*pi/100], \n",
    "        end_angle=[data.Severidad[x]*2*pi, 2*pi], \n",
    "        color=['#f44171','#42f4bf']\n",
    "    )\n",
    "    \n",
    "    graph_pie = gridplot([[graph_pie_1, graph_pie_2, graph_pie_3]]) # agrupamos nuestas graficas\n",
    "    show(graph_pie) # Mostramos los resultados\n",
    "    \n",
    "\n",
    "interact(f, x=(1,10));"
   ]
  }
 ],
 "metadata": {
  "kernelspec": {
   "display_name": "Python 3",
   "language": "python",
   "name": "python3"
  },
  "language_info": {
   "codemirror_mode": {
    "name": "ipython",
    "version": 3
   },
   "file_extension": ".py",
   "mimetype": "text/x-python",
   "name": "python",
   "nbconvert_exporter": "python",
   "pygments_lexer": "ipython3",
   "version": "3.6.3"
  }
 },
 "nbformat": 4,
 "nbformat_minor": 2
}
